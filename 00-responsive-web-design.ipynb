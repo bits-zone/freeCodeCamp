{
 "cells": [
  {
   "cell_type": "code",
   "execution_count": 1,
   "metadata": {},
   "outputs": [],
   "source": [
    "from IPython.display import IFrame"
   ]
  },
  {
   "cell_type": "markdown",
   "metadata": {},
   "source": [
    "# Responsive Web Design Certification"
   ]
  },
  {
   "cell_type": "markdown",
   "metadata": {},
   "source": [
    "## Basic HTML and HTML 5"
   ]
  },
  {
   "cell_type": "markdown",
   "metadata": {
    "heading_collapsed": true
   },
   "source": [
    "### Introduction to Basic HTML and HTML5"
   ]
  },
  {
   "cell_type": "markdown",
   "metadata": {
    "hidden": true
   },
   "source": [
    "HTML, or HyperText Markup Language, is a markup language used to describe the structure of a web page. It uses a special syntax or notation to organize and give information about the page to the browser. Elements usually have opening and closing tags that surround and give meaning to content. For example, there are different tag options to place around text to show whether it is a heading, a paragraph, or a list.\n",
    "\n",
    "For example:\n",
    "```HTML\n",
    "<h1>Top level heading: Maybe a page title</h1>\n",
    "\n",
    "<p>A paragraph of text. Some information we would like to communicate to the viewer. This can be as long or short as we would like.</p>\n",
    "\n",
    "<ol>\n",
    "  <li>Number one on the list</li>\n",
    "  <li>Number two</li>\n",
    "  <li>A third item</li>\n",
    "</ol>\n",
    "```\n",
    "Becomes:\n",
    "\n",
    "<p style=\"font-size: 2em\">Top level heading: Maybe a page title</p>\n",
    "<p>A paragraph of text. Some information we would like to communicate to the viewer. This can be as long or short as we would like.</p>    \n",
    "<ol>\n",
    "    <li>Number one on the list</li>\n",
    "    <li>Number two</li>\n",
    "    <li>A third item</li>\n",
    "</ol>\n",
    "    \n",
    "---    \n",
    "The HyperText part of HTML comes from the early days of the web and its original use case. Pages usually contained static documents that contained references to other documents. These references contained hypertext links used by the browser to navigate to the reference document so the user could read the reference document without having to manually search for it.\n",
    "\n",
    "As web pages and web applications grow more complex, the W3 Consortium updates the HTML specification to ensure that a webpage can be shown reliably on any browser. The latest version of HTML is HTML5.\n",
    "\n",
    "This section introduces how to use HTML elements to give structure and meaning to your web content."
   ]
  },
  {
   "cell_type": "markdown",
   "metadata": {
    "heading_collapsed": true
   },
   "source": [
    "### Say Hello to HTML Elements"
   ]
  },
  {
   "cell_type": "markdown",
   "metadata": {
    "hidden": true
   },
   "source": [
    "Welcome to freeCodeCamp's HTML coding challenges. These will walk you through web development step-by-step.\n",
    "\n",
    "First, you'll start by building a simple web page using HTML. You can edit code in your code editor, which is embedded into this web page.\n",
    "\n",
    "Do you see the code in your code editor that says `<h1>Hello</h1>`? That's an HTML element.\n",
    "\n",
    "Most HTML elements have an opening tag and a closing tag.\n",
    "\n",
    "Opening tags look like this:\n",
    "\n",
    "`<h1>`\n",
    "\n",
    "Closing tags look like this:\n",
    "\n",
    "`</h1>`\n",
    "\n",
    "The only difference between opening and closing tags is the forward slash after the opening bracket of a closing tag.\n",
    "\n",
    "Each challenge has tests you can run at any time by clicking the \"Run tests\" button. When you pass all tests, you'll be prompted to submit your solution and go to the next coding challenge.\n",
    "\n",
    "---\n",
    "To pass the test on this challenge, change your `h1` element's text to say \"Hello World\"."
   ]
  },
  {
   "cell_type": "code",
   "execution_count": 2,
   "metadata": {
    "hidden": true
   },
   "outputs": [
    {
     "data": {
      "text/html": [
       "<h1>Hello World</h1>\n"
      ],
      "text/plain": [
       "<IPython.core.display.HTML object>"
      ]
     },
     "metadata": {},
     "output_type": "display_data"
    }
   ],
   "source": [
    "%%HTML\n",
    "<h1>Hello World</h1>"
   ]
  },
  {
   "cell_type": "markdown",
   "metadata": {
    "heading_collapsed": true
   },
   "source": [
    "### Headline with the h2 Element"
   ]
  },
  {
   "cell_type": "markdown",
   "metadata": {
    "hidden": true
   },
   "source": [
    "Over the next few lessons, we'll build an HTML5 cat photo web app piece-by-piece.\n",
    "\n",
    "The `h2` element you will be adding in this step will add a level two heading to the web page.\n",
    "\n",
    "This element tells the browser about the structure of your website. h1 elements are often used for main headings, while `h2` elements are generally used for subheadings. There are also `h3`, `h4`, `h5` and `h6` elements to indicate different levels of subheadings.\n",
    "\n",
    "---\n",
    "Add an `h2` tag that says \"CatPhotoApp\" to create a second HTML element below your \"Hello World\" `h1` element."
   ]
  },
  {
   "cell_type": "code",
   "execution_count": 3,
   "metadata": {
    "hidden": true
   },
   "outputs": [
    {
     "data": {
      "text/html": [
       "<h1>Hello World</h1>\n",
       "<h2>CatPhotoApp</h2>\n"
      ],
      "text/plain": [
       "<IPython.core.display.HTML object>"
      ]
     },
     "metadata": {},
     "output_type": "display_data"
    }
   ],
   "source": [
    "%%HTML\n",
    "<h1>Hello World</h1>\n",
    "<h2>CatPhotoApp</h2>"
   ]
  },
  {
   "cell_type": "markdown",
   "metadata": {
    "heading_collapsed": true
   },
   "source": [
    "### Inform with the Paragraph Element\n"
   ]
  },
  {
   "cell_type": "markdown",
   "metadata": {
    "hidden": true
   },
   "source": [
    "`p` elements are the preferred element for paragraph text on websites. `p` is short for \"paragraph\".\n",
    "\n",
    "You can create a paragraph element like this:\n",
    "\n",
    "`<p>I'm a p tag!</p>`\n",
    "\n",
    "---\n",
    "Create a p element below your h2 element, and give it the text \"Hello Paragraph\".\n",
    "\n",
    "Note: As a convention, all HTML tags are written in lowercase, for example `<p></p>` and not `<P></P>`."
   ]
  },
  {
   "cell_type": "code",
   "execution_count": 4,
   "metadata": {
    "hidden": true
   },
   "outputs": [
    {
     "data": {
      "text/html": [
       "<h1>Hello World</h1>\n",
       "<h2>CatPhotoApp</h2>\n",
       "<p>Hello Paragraph</p>\n"
      ],
      "text/plain": [
       "<IPython.core.display.HTML object>"
      ]
     },
     "metadata": {},
     "output_type": "display_data"
    }
   ],
   "source": [
    "%%HTML\n",
    "<h1>Hello World</h1>\n",
    "<h2>CatPhotoApp</h2>\n",
    "<p>Hello Paragraph</p>"
   ]
  },
  {
   "cell_type": "markdown",
   "metadata": {
    "heading_collapsed": true
   },
   "source": [
    "### Fill in the Blank with Placeholder Text\n"
   ]
  },
  {
   "cell_type": "markdown",
   "metadata": {
    "hidden": true
   },
   "source": [
    "Web developers traditionally use lorem ipsum text as placeholder text. The lorem ipsum text is randomly scraped from a famous passage by Cicero of Ancient Rome.\n",
    "\n",
    "Lorem ipsum text has been used as placeholder text by typesetters since the 16th century, and this tradition continues on the web.\n",
    "\n",
    "Well, 5 centuries is long enough. Since we're building a CatPhotoApp, let's use something called \"kitty ipsum text\".\n",
    "\n",
    "---\n",
    "Replace the text inside your p element with the first few words of this `kitty ipsum text: Kitty ipsum dolor sit amet, shed everywhere shed everywhere stretching attack your ankles chase the red dot, hairball run catnip eat the grass sniff.`"
   ]
  },
  {
   "cell_type": "code",
   "execution_count": 5,
   "metadata": {
    "hidden": true
   },
   "outputs": [
    {
     "data": {
      "text/html": [
       "<h1>Hello World</h1>\n",
       "\n",
       "<h2>CatPhotoApp</h2>\n",
       "\n",
       "<p>Kitty ipsum dolor sit amet, shed everywhere shed everywhere stretching attack your ankles chase the red dot, hairball run catnip eat the grass sniff.</p>\n"
      ],
      "text/plain": [
       "<IPython.core.display.HTML object>"
      ]
     },
     "metadata": {},
     "output_type": "display_data"
    }
   ],
   "source": [
    "%%HTML\n",
    "<h1>Hello World</h1>\n",
    "\n",
    "<h2>CatPhotoApp</h2>\n",
    "\n",
    "<p>Kitty ipsum dolor sit amet, shed everywhere shed everywhere stretching attack your ankles chase the red dot, hairball run catnip eat the grass sniff.</p>\n"
   ]
  },
  {
   "cell_type": "markdown",
   "metadata": {
    "heading_collapsed": true
   },
   "source": [
    "### Uncomment HTML"
   ]
  },
  {
   "cell_type": "markdown",
   "metadata": {
    "hidden": true
   },
   "source": [
    "Commenting is a way that you can leave comments for other developers within your code without affecting the resulting output that is displayed to the end user.\n",
    "\n",
    "Commenting is also a convenient way to make code inactive without having to delete it entirely.\n",
    "\n",
    "Comments in HTML start with `<!--` and end with a `-->`\n",
    "\n",
    "---\n",
    "Uncomment your `h1`, `h2` and `p` elements."
   ]
  },
  {
   "cell_type": "code",
   "execution_count": 6,
   "metadata": {
    "hidden": true
   },
   "outputs": [
    {
     "data": {
      "text/html": [
       "<h1>Hello World</h1>\n",
       "\n",
       "<h2>CatPhotoApp</h2>\n",
       "\n",
       "<p>Kitty ipsum dolor sit amet, shed everywhere shed everywhere stretching attack your ankles chase the red dot, hairball run catnip eat the grass sniff.</p>\n"
      ],
      "text/plain": [
       "<IPython.core.display.HTML object>"
      ]
     },
     "metadata": {},
     "output_type": "display_data"
    }
   ],
   "source": [
    "%%HTML\n",
    "<h1>Hello World</h1>\n",
    "\n",
    "<h2>CatPhotoApp</h2>\n",
    "\n",
    "<p>Kitty ipsum dolor sit amet, shed everywhere shed everywhere stretching attack your ankles chase the red dot, hairball run catnip eat the grass sniff.</p>"
   ]
  },
  {
   "cell_type": "markdown",
   "metadata": {
    "heading_collapsed": true
   },
   "source": [
    "### Comment out HTML"
   ]
  },
  {
   "cell_type": "markdown",
   "metadata": {
    "hidden": true
   },
   "source": [
    "Remember that in order to start a comment, you need to use `<!--` and to end a comment, you need to use `-->`\n",
    "\n",
    "Here you'll need to end the comment before your `h2` element begins.\n",
    "\n",
    "---\n",
    "Comment out your `h1` element and your `p` element, but not your `h2` element."
   ]
  },
  {
   "cell_type": "code",
   "execution_count": 7,
   "metadata": {
    "hidden": true
   },
   "outputs": [
    {
     "data": {
      "text/html": [
       "<!-- <h1>Hello World</h1> -->\n",
       "\n",
       "<h2>CatPhotoApp</h2>\n",
       "\n",
       "<!-- <p>Kitty ipsum dolor sit amet, shed everywhere shed everywhere stretching attack your ankles chase the red dot, hairball run catnip eat the grass sniff.</p> -->\n"
      ],
      "text/plain": [
       "<IPython.core.display.HTML object>"
      ]
     },
     "metadata": {},
     "output_type": "display_data"
    }
   ],
   "source": [
    "%%HTML\n",
    "<!-- <h1>Hello World</h1> -->\n",
    "\n",
    "<h2>CatPhotoApp</h2>\n",
    "\n",
    "<!-- <p>Kitty ipsum dolor sit amet, shed everywhere shed everywhere stretching attack your ankles chase the red dot, hairball run catnip eat the grass sniff.</p> -->"
   ]
  },
  {
   "cell_type": "markdown",
   "metadata": {
    "heading_collapsed": true
   },
   "source": [
    "### Delete HTML Elements"
   ]
  },
  {
   "cell_type": "markdown",
   "metadata": {
    "hidden": true
   },
   "source": [
    "Our phone doesn't have much vertical space.\n",
    "\n",
    "Let's remove the unnecessary elements so we can start building our CatPhotoApp.\n",
    "\n",
    "---\n",
    "Delete your h1 element so we can simplify our view."
   ]
  },
  {
   "cell_type": "code",
   "execution_count": 8,
   "metadata": {
    "hidden": true
   },
   "outputs": [
    {
     "data": {
      "text/html": [
       "<h2>CatPhotoApp</h2>\n",
       "\n",
       "<p>Kitty ipsum dolor sit amet, shed everywhere shed everywhere stretching attack your ankles chase the red dot, hairball run catnip eat the grass sniff.</p>\n"
      ],
      "text/plain": [
       "<IPython.core.display.HTML object>"
      ]
     },
     "metadata": {},
     "output_type": "display_data"
    }
   ],
   "source": [
    "%%HTML\n",
    "<h2>CatPhotoApp</h2>\n",
    "\n",
    "<p>Kitty ipsum dolor sit amet, shed everywhere shed everywhere stretching attack your ankles chase the red dot, hairball run catnip eat the grass sniff.</p>\n"
   ]
  },
  {
   "cell_type": "markdown",
   "metadata": {
    "heading_collapsed": true
   },
   "source": [
    "### Introduction to HTML5 Elements\n"
   ]
  },
  {
   "cell_type": "markdown",
   "metadata": {
    "hidden": true
   },
   "source": [
    "HTML5 introduces more descriptive HTML tags. These include `main`, `header`, `footer`, `nav`, `video`, `article`, `section` and others.\n",
    "\n",
    "These tags give a descriptive structure to your HTML, make your HTML easier to read, and help with Search Engine Optimization (SEO) and accessibility. The `main` HTML5 tag helps search engines and other developers find the main content of your page.\n",
    "\n",
    "Example usage, a `main` element with two child elements nested inside it:\n",
    "```\n",
    "<main> \n",
    "  <h1>Hello World</h1>\n",
    "  <p>Hello Paragraph</p>\n",
    "</main>\n",
    "```\n",
    "Note: Many of the new HTML5 tags and their benefits are covered in the Applied Accessibility section.\n",
    "\n",
    "---\n",
    "Create a second p element after the existing `p` element with the following kitty ipsum text: `Purr jump eat the grass rip the couch scratched sunbathe, shed everywhere rip the couch sleep in the sink fluffy fur catnip scratched.`\n",
    "\n",
    "Then, create a main element and nest the two `p` elements inside the `main` element."
   ]
  },
  {
   "cell_type": "code",
   "execution_count": 9,
   "metadata": {
    "hidden": true
   },
   "outputs": [
    {
     "data": {
      "text/html": [
       "<h2>CatPhotoApp</h2>\n",
       "\n",
       "<main>\n",
       "    <p>Kitty ipsum dolor sit amet, shed everywhere shed everywhere stretching attack your ankles chase the red dot, hairball run catnip eat the grass sniff.</p>\n",
       "\n",
       "    <p>Purr jump eat the grass rip the couch scratched sunbathe, shed everywhere rip the couch sleep in the sink fluffy fur catnip scratched.</p>\n",
       "</main>\n"
      ],
      "text/plain": [
       "<IPython.core.display.HTML object>"
      ]
     },
     "metadata": {},
     "output_type": "display_data"
    }
   ],
   "source": [
    "%%HTML\n",
    "<h2>CatPhotoApp</h2>\n",
    "\n",
    "<main>\n",
    "    <p>Kitty ipsum dolor sit amet, shed everywhere shed everywhere stretching attack your ankles chase the red dot, hairball run catnip eat the grass sniff.</p>\n",
    "\n",
    "    <p>Purr jump eat the grass rip the couch scratched sunbathe, shed everywhere rip the couch sleep in the sink fluffy fur catnip scratched.</p>\n",
    "</main>"
   ]
  },
  {
   "cell_type": "markdown",
   "metadata": {
    "heading_collapsed": true
   },
   "source": [
    "### Add Images to Your Website\n"
   ]
  },
  {
   "cell_type": "markdown",
   "metadata": {
    "hidden": true
   },
   "source": [
    "You can add images to your website by using the `img` element, and point to a specific image's URL using the `src` attribute.\n",
    "\n",
    "An example of this would be:\n",
    "\n",
    "`<img src=\"https://www.your-image-source.com/your-image.jpg\">`\n",
    "\n",
    "Note that `img` elements are self-closing.\n",
    "\n",
    "All `img` elements must have an `alt` attribute. The text inside an `alt` attribute is used for screen readers to improve accessibility and is displayed if the image fails to load.\n",
    "\n",
    "Note: If the image is purely decorative, using an empty `alt` attribute is a best practice.\n",
    "\n",
    "Ideally the `alt` attribute should not contain special characters unless needed.\n",
    "\n",
    "Let's add an `alt` attribute to our `img` example above:\n",
    "\n",
    "`<img src=\"https://www.your-image-source.com/your-image.jpg\" alt=\"Author standing on a beach with two thumbs up.\">`\n",
    "\n",
    "---\n",
    "Let's try to add an image to our website:\n",
    "\n",
    "Within the existing main element, insert an `img` element before the existing `p` elements.\n",
    "\n",
    "Now set the `src` attribute so that it points to this url:\n",
    "\n",
    "`https://bit.ly/fcc-relaxing-cat`\n",
    "\n",
    "Finally, don't forget to give your `img` element an `alt` attribute with applicable text."
   ]
  },
  {
   "cell_type": "code",
   "execution_count": 10,
   "metadata": {
    "hidden": true
   },
   "outputs": [
    {
     "data": {
      "text/html": [
       "<h2>CatPhotoApp</h2>\n",
       "<main>\n",
       "<img src=\"https://bit.ly/fcc-relaxing-cat\" alt=\"cute cat\">\n",
       "\n",
       "  <p>Kitty ipsum dolor sit amet, shed everywhere shed everywhere stretching attack your ankles chase the red dot, hairball run catnip eat the grass sniff.</p>\n",
       "  <p>Purr jump eat the grass rip the couch scratched sunbathe, shed everywhere rip the couch sleep in the sink fluffy fur catnip scratched.</p>\n",
       "</main>\n"
      ],
      "text/plain": [
       "<IPython.core.display.HTML object>"
      ]
     },
     "metadata": {},
     "output_type": "display_data"
    }
   ],
   "source": [
    "%%HTML\n",
    "<h2>CatPhotoApp</h2>\n",
    "<main>\n",
    "<img src=\"https://bit.ly/fcc-relaxing-cat\" alt=\"cute cat\">\n",
    "\n",
    "  <p>Kitty ipsum dolor sit amet, shed everywhere shed everywhere stretching attack your ankles chase the red dot, hairball run catnip eat the grass sniff.</p>\n",
    "  <p>Purr jump eat the grass rip the couch scratched sunbathe, shed everywhere rip the couch sleep in the sink fluffy fur catnip scratched.</p>\n",
    "</main>\n"
   ]
  },
  {
   "cell_type": "markdown",
   "metadata": {
    "heading_collapsed": true
   },
   "source": [
    "### Link to External Pages with Anchor Elements"
   ]
  },
  {
   "cell_type": "markdown",
   "metadata": {
    "hidden": true
   },
   "source": [
    "You can use `a` (_anchor_) elements to link to content outside of your web page.\n",
    "\n",
    "`a` elements need a destination web address called an `href` attribute. They also need anchor text. Here's an example:\n",
    "\n",
    "`<a href=\"https://freecodecamp.org\">this links to freecodecamp.org</a>`\n",
    "\n",
    "Then your browser will display the text \"**this links to freecodecamp.org**\" as a link you can click. And that link will take you to the web address **https://www.freecodecamp.org**.\n",
    "\n",
    "---\n",
    "Create an `a` element that links to `http://freecatphotoapp.com` and has \"cat photos\" as its anchor text."
   ]
  },
  {
   "cell_type": "code",
   "execution_count": 11,
   "metadata": {
    "hidden": true
   },
   "outputs": [
    {
     "data": {
      "text/html": [
       "<h2>CatPhotoApp</h2>\n",
       "<main>\n",
       "\n",
       "  <a href=\"http://freecatphotoapp.com\">cat photos</a>\n",
       "\n",
       "  <img src=\"https://bit.ly/fcc-relaxing-cat\" alt=\"A cute orange cat lying on its back.\">\n",
       "\n",
       "  <p>Kitty ipsum dolor sit amet, shed everywhere shed everywhere stretching attack your ankles chase the red dot, hairball run catnip eat the grass sniff.</p>\n",
       "  <p>Purr jump eat the grass rip the couch scratched sunbathe, shed everywhere rip the couch sleep in the sink fluffy fur catnip scratched.</p>\n",
       "</main>\n"
      ],
      "text/plain": [
       "<IPython.core.display.HTML object>"
      ]
     },
     "metadata": {},
     "output_type": "display_data"
    }
   ],
   "source": [
    "%%HTML\n",
    "<h2>CatPhotoApp</h2>\n",
    "<main>\n",
    "\n",
    "  <a href=\"http://freecatphotoapp.com\">cat photos</a>\n",
    "\n",
    "  <img src=\"https://bit.ly/fcc-relaxing-cat\" alt=\"A cute orange cat lying on its back.\">\n",
    "\n",
    "  <p>Kitty ipsum dolor sit amet, shed everywhere shed everywhere stretching attack your ankles chase the red dot, hairball run catnip eat the grass sniff.</p>\n",
    "  <p>Purr jump eat the grass rip the couch scratched sunbathe, shed everywhere rip the couch sleep in the sink fluffy fur catnip scratched.</p>\n",
    "</main>\n"
   ]
  },
  {
   "cell_type": "markdown",
   "metadata": {
    "heading_collapsed": true
   },
   "source": [
    "### Link to Internal Sections of a Page with Anchor Elements"
   ]
  },
  {
   "cell_type": "markdown",
   "metadata": {
    "hidden": true
   },
   "source": [
    "`a` (_anchor_) elements can also be used to create internal links to jump to different sections within a webpage.\n",
    "\n",
    "To create an internal link, you assign a link's `href` attribute to a hash symbol `#` plus the value of the `id` attribute for the element that you want to internally link to, usually further down the page. You then need to add the same `id` attribute to the element you are linking to. An `id` is an attribute that uniquely describes an element.\n",
    "\n",
    "Below is an example of an internal anchor link and its target element:\n",
    "```HTML\n",
    "<a href=\"#contacts-header\">Contacts</a>\n",
    "...\n",
    "<h2 id=\"contacts-header\">Contacts</h2>\n",
    "```\n",
    "When users click the Contacts link, they'll be taken to the section of the webpage with the Contacts header element.\n",
    "\n",
    "---\n",
    "Change your external link to an internal link by changing the `href` attribute to \"#footer\" and the text from \"cat photos\" to \"Jump to Bottom\".\n",
    "\n",
    "Remove the `target=\"_blank\"` attribute from the anchor tag since this causes the linked document to open in a new window tab.\n",
    "\n",
    "Then add an `id` attribute with a value of \"footer\" to the `<footer>` element at the bottom of the page."
   ]
  },
  {
   "cell_type": "code",
   "execution_count": 12,
   "metadata": {
    "hidden": true
   },
   "outputs": [
    {
     "data": {
      "text/html": [
       "<h2>CatPhotoApp</h2>\n",
       "<main>\n",
       "\n",
       "  <a href=\"#footer\">Jump to Bottom</a>\n",
       "\n",
       "  <img src=\"https://bit.ly/fcc-relaxing-cat\" alt=\"A cute orange cat lying on its back.\">\n",
       "\n",
       "  <p>Kitty ipsum dolor sit amet, shed everywhere shed everywhere stretching attack your ankles chase the red dot, hairball run catnip eat the grass sniff. Purr jump eat the grass rip the couch scratched sunbathe, shed everywhere rip the couch sleep in the sink fluffy fur catnip scratched. Kitty ipsum dolor sit amet, shed everywhere shed everywhere stretching attack your ankles chase the red dot, hairball run catnip eat the grass sniff.</p>\n",
       "  <p>Purr jump eat the grass rip the couch scratched sunbathe, shed everywhere rip the couch sleep in the sink fluffy fur catnip scratched. Kitty ipsum dolor sit amet, shed everywhere shed everywhere stretching attack your ankles chase the red dot, hairball run catnip eat the grass sniff. Purr jump eat the grass rip the couch scratched sunbathe, shed everywhere rip the couch sleep in the sink fluffy fur catnip scratched.</p>\n",
       "  <p>Meowwww loved it, hated it, loved it, hated it yet spill litter box, scratch at owner, destroy all furniture, especially couch or lay on arms while you're using the keyboard. Missing until dinner time toy mouse squeak roll over. With tail in the air lounge in doorway. Man running from cops stops to pet cats, goes to jail.</p>\n",
       "  <p>Intently stare at the same spot poop in the plant pot but kitten is playing with dead mouse. Get video posted to internet for chasing red dot leave fur on owners clothes meow to be let out and mesmerizing birds leave fur on owners clothes or favor packaging over toy so purr for no reason. Meow to be let out play time intently sniff hand run outside as soon as door open yet destroy couch.</p>\n",
       "\n",
       "</main>\n",
       "\n",
       "<footer id=\"footer\">Copyright Cat Photo App</footer>\n"
      ],
      "text/plain": [
       "<IPython.core.display.HTML object>"
      ]
     },
     "metadata": {},
     "output_type": "display_data"
    }
   ],
   "source": [
    "%%HTML\n",
    "<h2>CatPhotoApp</h2>\n",
    "<main>\n",
    "\n",
    "  <a href=\"#footer\">Jump to Bottom</a>\n",
    "\n",
    "  <img src=\"https://bit.ly/fcc-relaxing-cat\" alt=\"A cute orange cat lying on its back.\">\n",
    "\n",
    "  <p>Kitty ipsum dolor sit amet, shed everywhere shed everywhere stretching attack your ankles chase the red dot, hairball run catnip eat the grass sniff. Purr jump eat the grass rip the couch scratched sunbathe, shed everywhere rip the couch sleep in the sink fluffy fur catnip scratched. Kitty ipsum dolor sit amet, shed everywhere shed everywhere stretching attack your ankles chase the red dot, hairball run catnip eat the grass sniff.</p>\n",
    "  <p>Purr jump eat the grass rip the couch scratched sunbathe, shed everywhere rip the couch sleep in the sink fluffy fur catnip scratched. Kitty ipsum dolor sit amet, shed everywhere shed everywhere stretching attack your ankles chase the red dot, hairball run catnip eat the grass sniff. Purr jump eat the grass rip the couch scratched sunbathe, shed everywhere rip the couch sleep in the sink fluffy fur catnip scratched.</p>\n",
    "  <p>Meowwww loved it, hated it, loved it, hated it yet spill litter box, scratch at owner, destroy all furniture, especially couch or lay on arms while you're using the keyboard. Missing until dinner time toy mouse squeak roll over. With tail in the air lounge in doorway. Man running from cops stops to pet cats, goes to jail.</p>\n",
    "  <p>Intently stare at the same spot poop in the plant pot but kitten is playing with dead mouse. Get video posted to internet for chasing red dot leave fur on owners clothes meow to be let out and mesmerizing birds leave fur on owners clothes or favor packaging over toy so purr for no reason. Meow to be let out play time intently sniff hand run outside as soon as door open yet destroy couch.</p>\n",
    "\n",
    "</main>\n",
    "\n",
    "<footer id=\"footer\">Copyright Cat Photo App</footer>\n"
   ]
  },
  {
   "cell_type": "markdown",
   "metadata": {
    "heading_collapsed": true
   },
   "source": [
    "### Nest an Anchor Element within a Paragraph\n"
   ]
  },
  {
   "cell_type": "markdown",
   "metadata": {
    "hidden": true
   },
   "source": [
    "You can nest links within other text elements.\n",
    "```HTML\n",
    "<p> \n",
    "    Here's a <a target=\"_blank\" href=\"http://freecodecamp.org\"> link to freecodecamp.org</a> for you to follow.\n",
    "</p>\n",
    "```\n",
    "Let's break down the example: Normal text is wrapped in the `p` element:\n",
    "`<p> Here's a ... for you to follow. </p>` Next is the anchor element `<a>` (which requires a closing tag `</a>`):\n",
    "`<a> ... </a>` target is an anchor tag attribute that specifies where to open the link and the value `\"_blank\"` specifies to open the link in a new tab `href` is an anchor tag attribute that contains the URL address of the link:\n",
    "`<a href=\"http://freecodecamp.org\"> ... </a>` The text, **\"link to freecodecamp.org\"**, within the `a` element called `anchor text`, will display a link to click:\n",
    "`<a href=\" ... \">link to freecodecamp.org</a>` The final output of the example will look like this:\n",
    "\n",
    "Here's a [link to freecodecamp.org](http://freecodecamp.org) for you to follow.\n",
    "\n",
    "---\n",
    "Now nest the existing `a` element within a new `p` element (just after the existing main element). The new paragraph should have text that says \"View more cat photos\", where \"cat photos\" is a link, and the rest of the text is plain text."
   ]
  },
  {
   "cell_type": "code",
   "execution_count": 13,
   "metadata": {
    "hidden": true
   },
   "outputs": [
    {
     "data": {
      "text/html": [
       "<h2>CatPhotoApp</h2>\n",
       "<main>\n",
       "\n",
       "  <p>View more \n",
       "    <a href=\"http://freecatphotoapp.com\" target=\"_blank\">cat photos</a></p>\n",
       "\n",
       "  <img src=\"https://bit.ly/fcc-relaxing-cat\" alt=\"A cute orange cat lying on its back.\">\n",
       "\n",
       "  <p>Kitty ipsum dolor sit amet, shed everywhere shed everywhere stretching attack your ankles chase the red dot, hairball run catnip eat the grass sniff.</p>\n",
       "  <p>Purr jump eat the grass rip the couch scratched sunbathe, shed everywhere rip the couch sleep in the sink fluffy fur catnip scratched.</p>\n",
       "</main>\n"
      ],
      "text/plain": [
       "<IPython.core.display.HTML object>"
      ]
     },
     "metadata": {},
     "output_type": "display_data"
    }
   ],
   "source": [
    "%%HTML\n",
    "<h2>CatPhotoApp</h2>\n",
    "<main>\n",
    "\n",
    "  <p>View more \n",
    "    <a href=\"http://freecatphotoapp.com\" target=\"_blank\">cat photos</a></p>\n",
    "\n",
    "  <img src=\"https://bit.ly/fcc-relaxing-cat\" alt=\"A cute orange cat lying on its back.\">\n",
    "\n",
    "  <p>Kitty ipsum dolor sit amet, shed everywhere shed everywhere stretching attack your ankles chase the red dot, hairball run catnip eat the grass sniff.</p>\n",
    "  <p>Purr jump eat the grass rip the couch scratched sunbathe, shed everywhere rip the couch sleep in the sink fluffy fur catnip scratched.</p>\n",
    "</main>\n"
   ]
  },
  {
   "cell_type": "markdown",
   "metadata": {
    "heading_collapsed": true
   },
   "source": [
    "### Make Dead Links Using the Hash Symbol\n"
   ]
  },
  {
   "cell_type": "markdown",
   "metadata": {
    "hidden": true
   },
   "source": [
    "Sometimes you want to add `a` elements to your website before you know where they will link.\n",
    "\n",
    "This is also handy when you're changing the behavior of a link using `JavaScript`, which we'll learn about later.\n",
    "\n",
    "---\n",
    "The current value of the `href` attribute is a link that points to \"http://freecatphotoapp.com\". Replace the href attribute value with a `#`, also known as a hash symbol, to create a dead link.\n",
    "\n",
    "For example: `href=\"#\"`"
   ]
  },
  {
   "cell_type": "code",
   "execution_count": 14,
   "metadata": {
    "hidden": true
   },
   "outputs": [
    {
     "data": {
      "text/html": [
       "<h2>CatPhotoApp</h2>\n",
       "<main>\n",
       "  <p>Click here to view more <a href=\"#\" target=\"_blank\">cat photos</a>.</p>\n",
       "\n",
       "  <img src=\"https://bit.ly/fcc-relaxing-cat\" alt=\"A cute orange cat lying on its back.\">\n",
       "\n",
       "  <p>Kitty ipsum dolor sit amet, shed everywhere shed everywhere stretching attack your ankles chase the red dot, hairball run catnip eat the grass sniff.</p>\n",
       "  <p>Purr jump eat the grass rip the couch scratched sunbathe, shed everywhere rip the couch sleep in the sink fluffy fur catnip scratched.</p>\n",
       "</main>\n"
      ],
      "text/plain": [
       "<IPython.core.display.HTML object>"
      ]
     },
     "metadata": {},
     "output_type": "display_data"
    }
   ],
   "source": [
    "%%HTML\n",
    "<h2>CatPhotoApp</h2>\n",
    "<main>\n",
    "  <p>Click here to view more <a href=\"#\" target=\"_blank\">cat photos</a>.</p>\n",
    "\n",
    "  <img src=\"https://bit.ly/fcc-relaxing-cat\" alt=\"A cute orange cat lying on its back.\">\n",
    "\n",
    "  <p>Kitty ipsum dolor sit amet, shed everywhere shed everywhere stretching attack your ankles chase the red dot, hairball run catnip eat the grass sniff.</p>\n",
    "  <p>Purr jump eat the grass rip the couch scratched sunbathe, shed everywhere rip the couch sleep in the sink fluffy fur catnip scratched.</p>\n",
    "</main>\n"
   ]
  },
  {
   "cell_type": "markdown",
   "metadata": {
    "heading_collapsed": true
   },
   "source": [
    "### Turn an Image into a Link"
   ]
  },
  {
   "cell_type": "markdown",
   "metadata": {
    "hidden": true
   },
   "source": [
    "You can make elements into links by nesting them within an `a` element.\n",
    "\n",
    "Nest your image within an `a` element. Here's an example:\n",
    "\n",
    "`<a href=\"#\"><img src=\"https://bit.ly/fcc-running-cats\" alt=\"Three kittens running towards the camera.\"></a>`\n",
    "\n",
    "Remember to use `#` as your `a` element's `href` property in order to turn it into a dead link.\n",
    "\n",
    "---\n",
    "Place the existing image element within an `a` (_anchor_) element.\n",
    "\n",
    "Once you've done this, hover over your image with your cursor. Your cursor's normal pointer should become the link clicking pointer. The photo is now a link."
   ]
  },
  {
   "cell_type": "code",
   "execution_count": 15,
   "metadata": {
    "hidden": true
   },
   "outputs": [
    {
     "data": {
      "text/html": [
       "<h2>CatPhotoApp</h2>\n",
       "<main>\n",
       "  <p>Click here to view more <a href=\"#\"><img src=\"https://bit.ly/fcc-relaxing-cat\" alt=\"A cute orange cat lying on its back.\"></a>.</p>\n",
       "\n",
       "  <p>Kitty ipsum dolor sit amet, shed everywhere shed everywhere stretching attack your ankles chase the red dot, hairball run catnip eat the grass sniff.</p>\n",
       "  <p>Purr jump eat the grass rip the couch scratched sunbathe, shed everywhere rip the couch sleep in the sink fluffy fur catnip scratched.</p>\n",
       "</main>\n"
      ],
      "text/plain": [
       "<IPython.core.display.HTML object>"
      ]
     },
     "metadata": {},
     "output_type": "display_data"
    }
   ],
   "source": [
    "%%HTML\n",
    "<h2>CatPhotoApp</h2>\n",
    "<main>\n",
    "  <p>Click here to view more <a href=\"#\"><img src=\"https://bit.ly/fcc-relaxing-cat\" alt=\"A cute orange cat lying on its back.\"></a>.</p>\n",
    "\n",
    "  <p>Kitty ipsum dolor sit amet, shed everywhere shed everywhere stretching attack your ankles chase the red dot, hairball run catnip eat the grass sniff.</p>\n",
    "  <p>Purr jump eat the grass rip the couch scratched sunbathe, shed everywhere rip the couch sleep in the sink fluffy fur catnip scratched.</p>\n",
    "</main>\n"
   ]
  },
  {
   "cell_type": "markdown",
   "metadata": {
    "heading_collapsed": true
   },
   "source": [
    "### Create a Bulleted Unordered List\n"
   ]
  },
  {
   "cell_type": "markdown",
   "metadata": {
    "hidden": true
   },
   "source": [
    "HTML has a special element for creating unordered lists, or bullet point style lists.\n",
    "\n",
    "Unordered lists start with an opening `<ul>` element, followed by any number of `<li>` elements. Finally, unordered lists close with a `</ul>`\n",
    "\n",
    "For example:\n",
    "```HTML\n",
    "<ul>\n",
    "  <li>milk</li>\n",
    "  <li>cheese</li>\n",
    "</ul>\n",
    "```\n",
    "would create a bullet point style list of \"milk\" and \"cheese\".\n",
    "\n",
    "---\n",
    "Remove the last two `p` elements and create an unordered list of three things that cats love at the bottom of the page."
   ]
  },
  {
   "cell_type": "code",
   "execution_count": 16,
   "metadata": {
    "hidden": true
   },
   "outputs": [
    {
     "data": {
      "text/html": [
       "<h2>CatPhotoApp</h2>\n",
       "<main>\n",
       "  <p>Click here to view more <a href=\"#\">cat photos</a>.</p>\n",
       "\n",
       "  <a href=\"#\"><img src=\"https://bit.ly/fcc-relaxing-cat\" alt=\"A cute orange cat lying on its back.\"></a>\n",
       "\n",
       "  <ul>\n",
       "    <li>milk</li>\n",
       "    <li>fish</li>\n",
       "    <li>bird</li>\n",
       "  </ul>\n",
       "</main>\n"
      ],
      "text/plain": [
       "<IPython.core.display.HTML object>"
      ]
     },
     "metadata": {},
     "output_type": "display_data"
    }
   ],
   "source": [
    "%%HTML\n",
    "<h2>CatPhotoApp</h2>\n",
    "<main>\n",
    "  <p>Click here to view more <a href=\"#\">cat photos</a>.</p>\n",
    "\n",
    "  <a href=\"#\"><img src=\"https://bit.ly/fcc-relaxing-cat\" alt=\"A cute orange cat lying on its back.\"></a>\n",
    "\n",
    "  <ul>\n",
    "    <li>milk</li>\n",
    "    <li>fish</li>\n",
    "    <li>bird</li>\n",
    "  </ul>\n",
    "</main>\n"
   ]
  },
  {
   "cell_type": "markdown",
   "metadata": {
    "heading_collapsed": true
   },
   "source": [
    "### Create an Ordered List\n"
   ]
  },
  {
   "cell_type": "markdown",
   "metadata": {
    "hidden": true
   },
   "source": [
    "HTML has another special element for creating ordered lists, or numbered lists.\n",
    "\n",
    "Ordered lists start with an opening `<ol>` element, followed by any number of `<li>` elements. Finally, ordered lists are closed with the `</ol>` tag.\n",
    "\n",
    "For example:\n",
    "```HTML\n",
    "<ol>\n",
    "  <li>Garfield</li>\n",
    "  <li>Sylvester</li>\n",
    "</ol>\n",
    "```\n",
    "would create a numbered list of \"Garfield\" and \"Sylvester\".\n",
    "\n",
    "---\n",
    "Create an ordered list of the top 3 things cats hate the most."
   ]
  },
  {
   "cell_type": "code",
   "execution_count": 17,
   "metadata": {
    "hidden": true
   },
   "outputs": [
    {
     "data": {
      "text/html": [
       "<h2>CatPhotoApp</h2>\n",
       "<main>\n",
       "  <p>Click here to view more <a href=\"#\">cat photos</a>.</p>\n",
       "\n",
       "  <a href=\"#\"><img src=\"https://bit.ly/fcc-relaxing-cat\" alt=\"A cute orange cat lying on its back.\"></a>\n",
       "\n",
       "  <p>Things cats love:</p>\n",
       "  <ul>\n",
       "    <li>cat nip</li>\n",
       "    <li>laser pointers</li>\n",
       "    <li>lasagna</li>\n",
       "  </ul>\n",
       "  <p>Top 3 things cats hate:</p>\n",
       "  <ol>\n",
       "    <li>dog</li>\n",
       "    <li>shower</li>\n",
       "    <li>noise</li>\n",
       "  </ol>\n",
       "\n",
       "</main>\n"
      ],
      "text/plain": [
       "<IPython.core.display.HTML object>"
      ]
     },
     "metadata": {},
     "output_type": "display_data"
    }
   ],
   "source": [
    "%%HTML\n",
    "<h2>CatPhotoApp</h2>\n",
    "<main>\n",
    "  <p>Click here to view more <a href=\"#\">cat photos</a>.</p>\n",
    "\n",
    "  <a href=\"#\"><img src=\"https://bit.ly/fcc-relaxing-cat\" alt=\"A cute orange cat lying on its back.\"></a>\n",
    "\n",
    "  <p>Things cats love:</p>\n",
    "  <ul>\n",
    "    <li>cat nip</li>\n",
    "    <li>laser pointers</li>\n",
    "    <li>lasagna</li>\n",
    "  </ul>\n",
    "  <p>Top 3 things cats hate:</p>\n",
    "  <ol>\n",
    "    <li>dog</li>\n",
    "    <li>shower</li>\n",
    "    <li>noise</li>\n",
    "  </ol>\n",
    "\n",
    "</main>\n"
   ]
  },
  {
   "cell_type": "markdown",
   "metadata": {
    "heading_collapsed": true
   },
   "source": [
    "### Create a Text Field\n"
   ]
  },
  {
   "cell_type": "markdown",
   "metadata": {
    "hidden": true
   },
   "source": [
    "Now let's create a web form.\n",
    "\n",
    "`input` elements are a convenient way to get input from your user.\n",
    "\n",
    "You can create a text input like this:\n",
    "\n",
    "`<input type=\"text\">`\n",
    "\n",
    "Note that `input` elements are self-closing.\n",
    "\n",
    "---\n",
    "Create an `input` element of type `text` below your lists."
   ]
  },
  {
   "cell_type": "code",
   "execution_count": 18,
   "metadata": {
    "hidden": true
   },
   "outputs": [
    {
     "data": {
      "text/html": [
       "<h2>CatPhotoApp</h2>\n",
       "<main>\n",
       "  <p>Click here to view more <a href=\"#\">cat photos</a>.</p>\n",
       "\n",
       "  <a href=\"#\"><img src=\"https://bit.ly/fcc-relaxing-cat\" alt=\"A cute orange cat lying on its back.\"></a>\n",
       "\n",
       "  <p>Things cats love:</p>\n",
       "  <ul>\n",
       "    <li>cat nip</li>\n",
       "    <li>laser pointers</li>\n",
       "    <li>lasagna</li>\n",
       "  </ul>\n",
       "  <p>Top 3 things cats hate:</p>\n",
       "  <ol>\n",
       "    <li>flea treatment</li>\n",
       "    <li>thunder</li>\n",
       "    <li>other cats</li>\n",
       "  </ol>\n",
       "\n",
       "  <input type=\"text\">\n",
       "\n",
       "</main>\n"
      ],
      "text/plain": [
       "<IPython.core.display.HTML object>"
      ]
     },
     "metadata": {},
     "output_type": "display_data"
    }
   ],
   "source": [
    "%%HTML\n",
    "<h2>CatPhotoApp</h2>\n",
    "<main>\n",
    "  <p>Click here to view more <a href=\"#\">cat photos</a>.</p>\n",
    "\n",
    "  <a href=\"#\"><img src=\"https://bit.ly/fcc-relaxing-cat\" alt=\"A cute orange cat lying on its back.\"></a>\n",
    "\n",
    "  <p>Things cats love:</p>\n",
    "  <ul>\n",
    "    <li>cat nip</li>\n",
    "    <li>laser pointers</li>\n",
    "    <li>lasagna</li>\n",
    "  </ul>\n",
    "  <p>Top 3 things cats hate:</p>\n",
    "  <ol>\n",
    "    <li>flea treatment</li>\n",
    "    <li>thunder</li>\n",
    "    <li>other cats</li>\n",
    "  </ol>\n",
    "\n",
    "  <input type=\"text\">\n",
    "\n",
    "</main>\n"
   ]
  },
  {
   "cell_type": "markdown",
   "metadata": {
    "heading_collapsed": true
   },
   "source": [
    "### Add Placeholder Text to a Text Field\n"
   ]
  },
  {
   "cell_type": "markdown",
   "metadata": {
    "hidden": true
   },
   "source": [
    "Placeholder text is what is displayed in your `input` element before your user has inputted anything.\n",
    "\n",
    "You can create placeholder text like so:\n",
    "\n",
    "`<input type=\"text\" placeholder=\"this is placeholder text\">`\n",
    "\n",
    "Note: Remember that `input` elements are self-closing.\n",
    "\n",
    "---\n",
    "Set the `placeholder` value of your text `input` to \"cat photo URL\"."
   ]
  },
  {
   "cell_type": "code",
   "execution_count": 19,
   "metadata": {
    "hidden": true
   },
   "outputs": [
    {
     "data": {
      "text/html": [
       "<h2>CatPhotoApp</h2>\n",
       "<main>\n",
       "  <p>Click here to view more <a href=\"#\">cat photos</a>.</p>\n",
       "\n",
       "  <a href=\"#\"><img src=\"https://bit.ly/fcc-relaxing-cat\" alt=\"A cute orange cat lying on its back.\"></a>\n",
       "\n",
       "  <p>Things cats love:</p>\n",
       "  <ul>\n",
       "    <li>cat nip</li>\n",
       "    <li>laser pointers</li>\n",
       "    <li>lasagna</li>\n",
       "  </ul>\n",
       "  <p>Top 3 things cats hate:</p>\n",
       "  <ol>\n",
       "    <li>flea treatment</li>\n",
       "    <li>thunder</li>\n",
       "    <li>other cats</li>\n",
       "  </ol>\n",
       "  <input type=\"text\" placeholder=\"cat photo URL\">\n",
       "</main>\n"
      ],
      "text/plain": [
       "<IPython.core.display.HTML object>"
      ]
     },
     "metadata": {},
     "output_type": "display_data"
    }
   ],
   "source": [
    "%%HTML\n",
    "<h2>CatPhotoApp</h2>\n",
    "<main>\n",
    "  <p>Click here to view more <a href=\"#\">cat photos</a>.</p>\n",
    "\n",
    "  <a href=\"#\"><img src=\"https://bit.ly/fcc-relaxing-cat\" alt=\"A cute orange cat lying on its back.\"></a>\n",
    "\n",
    "  <p>Things cats love:</p>\n",
    "  <ul>\n",
    "    <li>cat nip</li>\n",
    "    <li>laser pointers</li>\n",
    "    <li>lasagna</li>\n",
    "  </ul>\n",
    "  <p>Top 3 things cats hate:</p>\n",
    "  <ol>\n",
    "    <li>flea treatment</li>\n",
    "    <li>thunder</li>\n",
    "    <li>other cats</li>\n",
    "  </ol>\n",
    "  <input type=\"text\" placeholder=\"cat photo URL\">\n",
    "</main>\n"
   ]
  },
  {
   "cell_type": "markdown",
   "metadata": {
    "heading_collapsed": true
   },
   "source": [
    "### Create a Form Element\n"
   ]
  },
  {
   "cell_type": "markdown",
   "metadata": {
    "hidden": true
   },
   "source": [
    "You can build web forms that actually submit data to a server using nothing more than pure HTML. You can do this by specifying an action on your `form` element.\n",
    "\n",
    "For example:\n",
    "\n",
    "`<form action=\"/url-where-you-want-to-submit-form-data\"></form>`\n",
    "\n",
    "---\n",
    "Nest your text field inside a `form` element, and add the `action=\"/submit-cat-photo\"` attribute to the form element."
   ]
  },
  {
   "cell_type": "code",
   "execution_count": 20,
   "metadata": {
    "hidden": true
   },
   "outputs": [
    {
     "data": {
      "text/html": [
       "<h2>CatPhotoApp</h2>\n",
       "<main>\n",
       "  <p>Click here to view more <a href=\"#\">cat photos</a>.</p>\n",
       "\n",
       "  <a href=\"#\"><img src=\"https://bit.ly/fcc-relaxing-cat\" alt=\"A cute orange cat lying on its back.\"></a>\n",
       "\n",
       "  <p>Things cats love:</p>\n",
       "  <ul>\n",
       "    <li>cat nip</li>\n",
       "    <li>laser pointers</li>\n",
       "    <li>lasagna</li>\n",
       "  </ul>\n",
       "  <p>Top 3 things cats hate:</p>\n",
       "  <ol>\n",
       "    <li>flea treatment</li>\n",
       "    <li>thunder</li>\n",
       "    <li>other cats</li>\n",
       "  </ol>\n",
       "  <form action=\"/submit-cat-photo\">\n",
       "    <input type=\"text\" placeholder=\"cat photo URL\">\n",
       "  </form>\n",
       "</main>\n"
      ],
      "text/plain": [
       "<IPython.core.display.HTML object>"
      ]
     },
     "metadata": {},
     "output_type": "display_data"
    }
   ],
   "source": [
    "%%HTML\n",
    "<h2>CatPhotoApp</h2>\n",
    "<main>\n",
    "  <p>Click here to view more <a href=\"#\">cat photos</a>.</p>\n",
    "\n",
    "  <a href=\"#\"><img src=\"https://bit.ly/fcc-relaxing-cat\" alt=\"A cute orange cat lying on its back.\"></a>\n",
    "\n",
    "  <p>Things cats love:</p>\n",
    "  <ul>\n",
    "    <li>cat nip</li>\n",
    "    <li>laser pointers</li>\n",
    "    <li>lasagna</li>\n",
    "  </ul>\n",
    "  <p>Top 3 things cats hate:</p>\n",
    "  <ol>\n",
    "    <li>flea treatment</li>\n",
    "    <li>thunder</li>\n",
    "    <li>other cats</li>\n",
    "  </ol>\n",
    "  <form action=\"/submit-cat-photo\">\n",
    "    <input type=\"text\" placeholder=\"cat photo URL\">\n",
    "  </form>\n",
    "</main>\n"
   ]
  },
  {
   "cell_type": "markdown",
   "metadata": {
    "heading_collapsed": true
   },
   "source": [
    "### Add a Submit Button to a Form\n"
   ]
  },
  {
   "cell_type": "markdown",
   "metadata": {
    "hidden": true
   },
   "source": [
    "Let's add a `submit` button to your form. Clicking this button will send the data from your form to the URL you specified with your form's `action` attribute.\n",
    "\n",
    "Here's an example submit button:\n",
    "\n",
    "`<button type=\"submit\">this button submits the form</button>`\n",
    "\n",
    "---\n",
    "Add a button as the last element of your `form` element with a type of `submit`, and \"Submit\" as its text."
   ]
  },
  {
   "cell_type": "code",
   "execution_count": 21,
   "metadata": {
    "hidden": true
   },
   "outputs": [
    {
     "data": {
      "text/html": [
       "<h2>CatPhotoApp</h2>\n",
       "<main>\n",
       "  <p>Click here to view more <a href=\"#\">cat photos</a>.</p>\n",
       "\n",
       "  <a href=\"#\"><img src=\"https://bit.ly/fcc-relaxing-cat\" alt=\"A cute orange cat lying on its back.\"></a>\n",
       "\n",
       "  <p>Things cats love:</p>\n",
       "  <ul>\n",
       "    <li>cat nip</li>\n",
       "    <li>laser pointers</li>\n",
       "    <li>lasagna</li>\n",
       "  </ul>\n",
       "  <p>Top 3 things cats hate:</p>\n",
       "  <ol>\n",
       "    <li>flea treatment</li>\n",
       "    <li>thunder</li>\n",
       "    <li>other cats</li>\n",
       "  </ol>\n",
       "  <form action=\"/submit-cat-photo\">\n",
       "    <input type=\"text\" placeholder=\"cat photo URL\">\n",
       "    <button type=\"submit\">Submit</button>\n",
       "  </form>\n",
       "</main>\n"
      ],
      "text/plain": [
       "<IPython.core.display.HTML object>"
      ]
     },
     "metadata": {},
     "output_type": "display_data"
    }
   ],
   "source": [
    "%%HTML\n",
    "<h2>CatPhotoApp</h2>\n",
    "<main>\n",
    "  <p>Click here to view more <a href=\"#\">cat photos</a>.</p>\n",
    "\n",
    "  <a href=\"#\"><img src=\"https://bit.ly/fcc-relaxing-cat\" alt=\"A cute orange cat lying on its back.\"></a>\n",
    "\n",
    "  <p>Things cats love:</p>\n",
    "  <ul>\n",
    "    <li>cat nip</li>\n",
    "    <li>laser pointers</li>\n",
    "    <li>lasagna</li>\n",
    "  </ul>\n",
    "  <p>Top 3 things cats hate:</p>\n",
    "  <ol>\n",
    "    <li>flea treatment</li>\n",
    "    <li>thunder</li>\n",
    "    <li>other cats</li>\n",
    "  </ol>\n",
    "  <form action=\"/submit-cat-photo\">\n",
    "    <input type=\"text\" placeholder=\"cat photo URL\">\n",
    "    <button type=\"submit\">Submit</button>\n",
    "  </form>\n",
    "</main>\n"
   ]
  },
  {
   "cell_type": "markdown",
   "metadata": {
    "heading_collapsed": true
   },
   "source": [
    "### Use HTML5 to Require a Field\n"
   ]
  },
  {
   "cell_type": "markdown",
   "metadata": {
    "hidden": true
   },
   "source": [
    "You can require specific form fields so that your user will not be able to submit your form until he or she has filled them out.\n",
    "\n",
    "For example, if you wanted to make a text input field required, you can just add the attribute `required` within your `input` element, like this: `<input type=\"text\" required>`\n",
    "\n",
    "---\n",
    "Make your text `input` a `required` field, so that your user can't submit the form without completing this field.\n",
    "\n",
    "Then try to submit the form without inputting any text. See how your HTML5 form notifies you that the field is required?"
   ]
  },
  {
   "cell_type": "code",
   "execution_count": 22,
   "metadata": {
    "hidden": true
   },
   "outputs": [
    {
     "data": {
      "text/html": [
       "<h2>CatPhotoApp</h2>\n",
       "<main>\n",
       "  <p>Click here to view more <a href=\"#\">cat photos</a>.</p>\n",
       "\n",
       "  <a href=\"#\"><img src=\"https://bit.ly/fcc-relaxing-cat\" alt=\"A cute orange cat lying on its back.\"></a>\n",
       "\n",
       "  <p>Things cats love:</p>\n",
       "  <ul>\n",
       "    <li>cat nip</li>\n",
       "    <li>laser pointers</li>\n",
       "    <li>lasagna</li>\n",
       "  </ul>\n",
       "  <p>Top 3 things cats hate:</p>\n",
       "  <ol>\n",
       "    <li>flea treatment</li>\n",
       "    <li>thunder</li>\n",
       "    <li>other cats</li>\n",
       "  </ol>\n",
       "  <form action=\"/submit-cat-photo\">\n",
       "    <input type=\"text\" placeholder=\"cat photo URL\" required>\n",
       "    <button type=\"submit\">Submit</button>\n",
       "  </form>\n",
       "</main>\n"
      ],
      "text/plain": [
       "<IPython.core.display.HTML object>"
      ]
     },
     "metadata": {},
     "output_type": "display_data"
    }
   ],
   "source": [
    "%%HTML\n",
    "<h2>CatPhotoApp</h2>\n",
    "<main>\n",
    "  <p>Click here to view more <a href=\"#\">cat photos</a>.</p>\n",
    "\n",
    "  <a href=\"#\"><img src=\"https://bit.ly/fcc-relaxing-cat\" alt=\"A cute orange cat lying on its back.\"></a>\n",
    "\n",
    "  <p>Things cats love:</p>\n",
    "  <ul>\n",
    "    <li>cat nip</li>\n",
    "    <li>laser pointers</li>\n",
    "    <li>lasagna</li>\n",
    "  </ul>\n",
    "  <p>Top 3 things cats hate:</p>\n",
    "  <ol>\n",
    "    <li>flea treatment</li>\n",
    "    <li>thunder</li>\n",
    "    <li>other cats</li>\n",
    "  </ol>\n",
    "  <form action=\"/submit-cat-photo\">\n",
    "    <input type=\"text\" placeholder=\"cat photo URL\" required>\n",
    "    <button type=\"submit\">Submit</button>\n",
    "  </form>\n",
    "</main>\n"
   ]
  },
  {
   "cell_type": "markdown",
   "metadata": {
    "heading_collapsed": true
   },
   "source": [
    "### Create a Set of Radio Buttons\n"
   ]
  },
  {
   "cell_type": "markdown",
   "metadata": {
    "hidden": true
   },
   "source": [
    "You can use _radio buttons_ for questions where you want the user to only give you one answer out of multiple options.\n",
    "\n",
    "Radio buttons are a type of `input`.\n",
    "\n",
    "Each of your radio buttons can be nested within its own `label` element. By wrapping an `input` element inside of a `label` element it will automatically associate the radio button input with the label element surrounding it.\n",
    "\n",
    "All related radio buttons should have the same `name` attribute to create a radio button group. By creating a radio group, selecting any single radio button will automatically deselect the other buttons within the same group ensuring only one answer is provided by the user.\n",
    "\n",
    "Here's an example of a radio button:\n",
    "```HTML\n",
    "<label> \n",
    "  <input type=\"radio\" name=\"indoor-outdoor\">Indoor \n",
    "</label>\n",
    "```\n",
    "It is considered best practice to set a `for` attribute on the `label` element, with a value that matches the value of the `id` attribute of the `input` element. This allows assistive technologies to create a linked relationship between the label and the child `input` element. For example:\n",
    "```HTML\n",
    "<label for=\"indoor\"> \n",
    "  <input id=\"indoor\" type=\"radio\" name=\"indoor-outdoor\">Indoor \n",
    "</label>\n",
    "```\n",
    "\n",
    "---\n",
    "Add a pair of radio buttons to your form, each nested in its own `label` element. One should have the option of `indoor` and the other should have the option of `outdoor`. Both should share the name attribute of `indoor-outdoor` to create a radio group."
   ]
  },
  {
   "cell_type": "code",
   "execution_count": 23,
   "metadata": {
    "hidden": true
   },
   "outputs": [
    {
     "data": {
      "text/html": [
       "<h2>CatPhotoApp</h2>\n",
       "<main>\n",
       "  <p>Click here to view more <a href=\"#\">cat photos</a>.</p>\n",
       "\n",
       "  <a href=\"#\"><img src=\"https://bit.ly/fcc-relaxing-cat\" alt=\"A cute orange cat lying on its back.\"></a>\n",
       "\n",
       "  <p>Things cats love:</p>\n",
       "  <ul>\n",
       "    <li>cat nip</li>\n",
       "    <li>laser pointers</li>\n",
       "    <li>lasagna</li>\n",
       "  </ul>\n",
       "  <p>Top 3 things cats hate:</p>\n",
       "  <ol>\n",
       "    <li>flea treatment</li>\n",
       "    <li>thunder</li>\n",
       "    <li>other cats</li>\n",
       "  </ol>\n",
       "  <form action=\"/submit-cat-photo\">\n",
       "    <input type=\"text\" placeholder=\"cat photo URL\" required>\n",
       "    <button type=\"submit\">Submit</button><br>\n",
       "    <label for=\"indoor\">\n",
       "      <input id=\"indoor\" type=\"radio\" name=\"indoor-outdoor\">Indoor\n",
       "    </label>\n",
       "    <label for=\"outdoor\">\n",
       "      <input id=\"outdoor\" type=\"radio\" name=\"indoor-outdoor\">Outdoor\n",
       "    </label>\n",
       "  </form>\n",
       "</main>\n"
      ],
      "text/plain": [
       "<IPython.core.display.HTML object>"
      ]
     },
     "metadata": {},
     "output_type": "display_data"
    }
   ],
   "source": [
    "%%HTML\n",
    "<h2>CatPhotoApp</h2>\n",
    "<main>\n",
    "  <p>Click here to view more <a href=\"#\">cat photos</a>.</p>\n",
    "\n",
    "  <a href=\"#\"><img src=\"https://bit.ly/fcc-relaxing-cat\" alt=\"A cute orange cat lying on its back.\"></a>\n",
    "\n",
    "  <p>Things cats love:</p>\n",
    "  <ul>\n",
    "    <li>cat nip</li>\n",
    "    <li>laser pointers</li>\n",
    "    <li>lasagna</li>\n",
    "  </ul>\n",
    "  <p>Top 3 things cats hate:</p>\n",
    "  <ol>\n",
    "    <li>flea treatment</li>\n",
    "    <li>thunder</li>\n",
    "    <li>other cats</li>\n",
    "  </ol>\n",
    "  <form action=\"/submit-cat-photo\">\n",
    "    <input type=\"text\" placeholder=\"cat photo URL\" required>\n",
    "    <button type=\"submit\">Submit</button><br>\n",
    "    <label for=\"indoor\">\n",
    "      <input id=\"indoor\" type=\"radio\" name=\"indoor-outdoor\">Indoor\n",
    "    </label>\n",
    "    <label for=\"outdoor\">\n",
    "      <input id=\"outdoor\" type=\"radio\" name=\"indoor-outdoor\">Outdoor\n",
    "    </label>\n",
    "  </form>\n",
    "</main>\n"
   ]
  },
  {
   "cell_type": "markdown",
   "metadata": {
    "heading_collapsed": true
   },
   "source": [
    "### Create a Set of Checkboxes\n"
   ]
  },
  {
   "cell_type": "markdown",
   "metadata": {
    "hidden": true
   },
   "source": [
    "Forms commonly use checkboxes for questions that may have more than one answer.\n",
    "\n",
    "Checkboxes are a type of `input`.\n",
    "\n",
    "Each of your checkboxes can be nested within its own `label` element. By wrapping an `input` element inside of a `label` element it will automatically associate the checkbox input with the label element surrounding it.\n",
    "\n",
    "All related checkbox inputs should have the same `name` attribute.\n",
    "\n",
    "It is considered best practice to explicitly define the relationship between a checkbox `input` and its corresponding `label` by setting the `for` attribute on the `label` element to match the `id` attribute of the associated `input` element.\n",
    "\n",
    "Here's an example of a checkbox:\n",
    "\n",
    "`<label for=\"loving\"><input id=\"loving\" type=\"checkbox\" name=\"personality\"> Loving</label>`\n",
    "\n",
    "---\n",
    "Add to your form a set of three checkboxes. Each checkbox should be nested within its own `label` element. All three should share the `name` attribute of `personality`.\n",
    "\n"
   ]
  },
  {
   "cell_type": "code",
   "execution_count": 24,
   "metadata": {
    "hidden": true,
    "scrolled": true
   },
   "outputs": [
    {
     "data": {
      "text/html": [
       "<h2>CatPhotoApp</h2>\n",
       "<main>\n",
       "  <p>Click here to view more <a href=\"#\">cat photos</a>.</p>\n",
       "\n",
       "  <a href=\"#\"><img src=\"https://bit.ly/fcc-relaxing-cat\" alt=\"A cute orange cat lying on its back.\"></a>\n",
       "\n",
       "  <p>Things cats love:</p>\n",
       "  <ul>\n",
       "    <li>cat nip</li>\n",
       "    <li>laser pointers</li>\n",
       "    <li>lasagna</li>\n",
       "  </ul>\n",
       "  <p>Top 3 things cats hate:</p>\n",
       "  <ol>\n",
       "    <li>flea treatment</li>\n",
       "    <li>thunder</li>\n",
       "    <li>other cats</li>\n",
       "  </ol>\n",
       "  <form action=\"/submit-cat-photo\">\n",
       "    <label for=\"indoor\"><input id=\"indoor\" type=\"radio\" name=\"indoor-outdoor\"> Indoor</label>\n",
       "    <label for=\"outdoor\"><input id=\"outdoor\" type=\"radio\" name=\"indoor-outdoor\"> Outdoor</label><br>\n",
       "    <label for=\"loving\"><input id=\"loving\" type=\"checkbox\" name=\"personality\"> Loving</label>\n",
       "    <label for=\"playing\"><input id=\"playing\" type=\"checkbox\" name=\"personality\"> Playing</label>\n",
       "    <label for=\"slacking\"><input id=\"slacking\" type=\"checkbox\" name=\"personality\"> Slacking</label><br>\n",
       "    <input type=\"text\" placeholder=\"cat photo URL\" required>\n",
       "    <button type=\"submit\">Submit</button>\n",
       "  </form>\n",
       "</main>\n"
      ],
      "text/plain": [
       "<IPython.core.display.HTML object>"
      ]
     },
     "metadata": {},
     "output_type": "display_data"
    }
   ],
   "source": [
    "%%HTML\n",
    "<h2>CatPhotoApp</h2>\n",
    "<main>\n",
    "  <p>Click here to view more <a href=\"#\">cat photos</a>.</p>\n",
    "\n",
    "  <a href=\"#\"><img src=\"https://bit.ly/fcc-relaxing-cat\" alt=\"A cute orange cat lying on its back.\"></a>\n",
    "\n",
    "  <p>Things cats love:</p>\n",
    "  <ul>\n",
    "    <li>cat nip</li>\n",
    "    <li>laser pointers</li>\n",
    "    <li>lasagna</li>\n",
    "  </ul>\n",
    "  <p>Top 3 things cats hate:</p>\n",
    "  <ol>\n",
    "    <li>flea treatment</li>\n",
    "    <li>thunder</li>\n",
    "    <li>other cats</li>\n",
    "  </ol>\n",
    "  <form action=\"/submit-cat-photo\">\n",
    "    <label for=\"indoor\"><input id=\"indoor\" type=\"radio\" name=\"indoor-outdoor\"> Indoor</label>\n",
    "    <label for=\"outdoor\"><input id=\"outdoor\" type=\"radio\" name=\"indoor-outdoor\"> Outdoor</label><br>\n",
    "    <label for=\"loving\"><input id=\"loving\" type=\"checkbox\" name=\"personality\"> Loving</label>\n",
    "    <label for=\"playing\"><input id=\"playing\" type=\"checkbox\" name=\"personality\"> Playing</label>\n",
    "    <label for=\"slacking\"><input id=\"slacking\" type=\"checkbox\" name=\"personality\"> Slacking</label><br>\n",
    "    <input type=\"text\" placeholder=\"cat photo URL\" required>\n",
    "    <button type=\"submit\">Submit</button>\n",
    "  </form>\n",
    "</main>\n"
   ]
  },
  {
   "cell_type": "markdown",
   "metadata": {
    "heading_collapsed": true
   },
   "source": [
    "### Use the value attribute with Radio Buttons and Checkboxes\n"
   ]
  },
  {
   "cell_type": "markdown",
   "metadata": {
    "hidden": true
   },
   "source": [
    "When a form gets submitted, the data is sent to the server and includes entries for the options selected. Inputs of type `radio` and `checkbox` report their values from the `value` attribute.\n",
    "\n",
    "For example:\n",
    "```HTML\n",
    "<label for=\"indoor\"> \n",
    "  <input id=\"indoor\" value=\"indoor\" type=\"radio\" name=\"indoor-outdoor\">Indoor \n",
    "</label>\n",
    "<label for=\"outdoor\"> \n",
    "  <input id=\"outdoor\" value=\"outdoor\" type=\"radio\" name=\"indoor-outdoor\">Outdoor \n",
    "</label>\n",
    "```\n",
    "Here, you have two `radio` inputs. When the user submits the form with the `indoor` option selected, the form data will include the line: `indoor-outdoor=indoor`. This is from the `name` and `value` attributes of the \"indoor\" input.\n",
    "\n",
    "If you omit the `value` attribute, the submitted form data uses the default value, which is `on`. In this scenario, if the user clicked the \"indoor\" option and submitted the form, the resulting form data would be `indoor-outdoor=on`, which is not useful. So the `value` attribute needs to be set to something to identify the option.\n",
    "\n",
    "---\n",
    "Give each of the `radio` and `checkbox` inputs the `value` attribute. Use the input label text, in lowercase, as the value for the attribute."
   ]
  },
  {
   "cell_type": "code",
   "execution_count": 25,
   "metadata": {
    "hidden": true
   },
   "outputs": [
    {
     "data": {
      "text/html": [
       "<h2>CatPhotoApp</h2>\n",
       "<main>\n",
       "  <p>Click here to view more <a href=\"#\">cat photos</a>.</p>\n",
       "  \n",
       "  <a href=\"#\"><img src=\"https://bit.ly/fcc-relaxing-cat\" alt=\"A cute orange cat lying on its back.\"></a>\n",
       "  \n",
       "  <p>Things cats love:</p>\n",
       "  <ul>\n",
       "    <li>cat nip</li>\n",
       "    <li>laser pointers</li>\n",
       "    <li>lasagna</li>\n",
       "  </ul>\n",
       "  <p>Top 3 things cats hate:</p>\n",
       "  <ol>\n",
       "    <li>flea treatment</li>\n",
       "    <li>thunder</li>\n",
       "    <li>other cats</li>\n",
       "  </ol>\n",
       "  <form action=\"/submit-cat-photo\">\n",
       "    <label><input type=\"radio\" name=\"indoor-outdoor\" value=\"indoor\"> Indoor</label>\n",
       "    <label><input type=\"radio\" name=\"indoor-outdoor\" value=\"outdoor\"> Outdoor</label><br>\n",
       "    <label><input type=\"checkbox\" name=\"personality\" value=\"loving\"> Loving</label>\n",
       "    <label><input type=\"checkbox\" name=\"personality\" value=\"lazy\"> Lazy</label>\n",
       "    <label><input type=\"checkbox\" name=\"personality\" value=\"energetic\"> Energetic</label><br>\n",
       "    <input type=\"text\" placeholder=\"cat photo URL\" required>\n",
       "    <button type=\"submit\">Submit</button>\n",
       "  </form>\n",
       "</main>\n"
      ],
      "text/plain": [
       "<IPython.core.display.HTML object>"
      ]
     },
     "metadata": {},
     "output_type": "display_data"
    }
   ],
   "source": [
    "%%HTML\n",
    "<h2>CatPhotoApp</h2>\n",
    "<main>\n",
    "  <p>Click here to view more <a href=\"#\">cat photos</a>.</p>\n",
    "  \n",
    "  <a href=\"#\"><img src=\"https://bit.ly/fcc-relaxing-cat\" alt=\"A cute orange cat lying on its back.\"></a>\n",
    "  \n",
    "  <p>Things cats love:</p>\n",
    "  <ul>\n",
    "    <li>cat nip</li>\n",
    "    <li>laser pointers</li>\n",
    "    <li>lasagna</li>\n",
    "  </ul>\n",
    "  <p>Top 3 things cats hate:</p>\n",
    "  <ol>\n",
    "    <li>flea treatment</li>\n",
    "    <li>thunder</li>\n",
    "    <li>other cats</li>\n",
    "  </ol>\n",
    "  <form action=\"/submit-cat-photo\">\n",
    "    <label><input type=\"radio\" name=\"indoor-outdoor\" value=\"indoor\"> Indoor</label>\n",
    "    <label><input type=\"radio\" name=\"indoor-outdoor\" value=\"outdoor\"> Outdoor</label><br>\n",
    "    <label><input type=\"checkbox\" name=\"personality\" value=\"loving\"> Loving</label>\n",
    "    <label><input type=\"checkbox\" name=\"personality\" value=\"lazy\"> Lazy</label>\n",
    "    <label><input type=\"checkbox\" name=\"personality\" value=\"energetic\"> Energetic</label><br>\n",
    "    <input type=\"text\" placeholder=\"cat photo URL\" required>\n",
    "    <button type=\"submit\">Submit</button>\n",
    "  </form>\n",
    "</main>\n"
   ]
  },
  {
   "cell_type": "markdown",
   "metadata": {
    "heading_collapsed": true
   },
   "source": [
    "### Check Radio Buttons and Checkboxes by Default\n"
   ]
  },
  {
   "cell_type": "markdown",
   "metadata": {
    "hidden": true
   },
   "source": [
    "You can set a checkbox or radio button to be checked by default using the `checked` attribute.\n",
    "\n",
    "To do this, just add the word \"checked\" to the inside of an input element. For example:\n",
    "\n",
    "`<input type=\"radio\" name=\"test-name\" checked>`\n",
    "\n",
    "---\n",
    "Set the first of your radio buttons and the first of your checkboxes to both be checked by default."
   ]
  },
  {
   "cell_type": "code",
   "execution_count": 26,
   "metadata": {
    "hidden": true
   },
   "outputs": [
    {
     "data": {
      "text/html": [
       "<h2>CatPhotoApp</h2>\n",
       "<main>\n",
       "  <p>Click here to view more <a href=\"#\">cat photos</a>.</p>\n",
       "\n",
       "  <a href=\"#\"><img src=\"https://bit.ly/fcc-relaxing-cat\" alt=\"A cute orange cat lying on its back.\"></a>\n",
       "\n",
       "  <p>Things cats love:</p>\n",
       "  <ul>\n",
       "    <li>cat nip</li>\n",
       "    <li>laser pointers</li>\n",
       "    <li>lasagna</li>\n",
       "  </ul>\n",
       "  <p>Top 3 things cats hate:</p>\n",
       "  <ol>\n",
       "    <li>flea treatment</li>\n",
       "    <li>thunder</li>\n",
       "    <li>other cats</li>\n",
       "  </ol>\n",
       "  <form action=\"/submit-cat-photo\">\n",
       "    <label for=\"indoor\"><input id=\"indoor\" type=\"radio\" name=\"indoor-outdoor\" value=\"indoor\" checked> Indoor</label>\n",
       "    <label for=\"outdoor\"><input id=\"outdoor\" type=\"radio\" name=\"indoor-outdoor\" value=\"outdoor\"> Outdoor</label><br>\n",
       "    <label for=\"loving\"><input id=\"loving\" type=\"checkbox\" name=\"personality\" value=\"loving\" checked> Loving</label>\n",
       "    <label for=\"lazy\"><input id=\"lazy\" type=\"checkbox\" name=\"personality\" value=\"lazy\"> Lazy</label>\n",
       "    <label for=\"energetic\"><input id=\"energetic\" type=\"checkbox\" name=\"personality\" value=\"energetic\"> Energetic</label><br>\n",
       "    <input type=\"text\" placeholder=\"cat photo URL\" required>\n",
       "    <button type=\"submit\">Submit</button>\n",
       "  </form>\n",
       "</main>\n"
      ],
      "text/plain": [
       "<IPython.core.display.HTML object>"
      ]
     },
     "metadata": {},
     "output_type": "display_data"
    }
   ],
   "source": [
    "%%HTML\n",
    "<h2>CatPhotoApp</h2>\n",
    "<main>\n",
    "  <p>Click here to view more <a href=\"#\">cat photos</a>.</p>\n",
    "\n",
    "  <a href=\"#\"><img src=\"https://bit.ly/fcc-relaxing-cat\" alt=\"A cute orange cat lying on its back.\"></a>\n",
    "\n",
    "  <p>Things cats love:</p>\n",
    "  <ul>\n",
    "    <li>cat nip</li>\n",
    "    <li>laser pointers</li>\n",
    "    <li>lasagna</li>\n",
    "  </ul>\n",
    "  <p>Top 3 things cats hate:</p>\n",
    "  <ol>\n",
    "    <li>flea treatment</li>\n",
    "    <li>thunder</li>\n",
    "    <li>other cats</li>\n",
    "  </ol>\n",
    "  <form action=\"/submit-cat-photo\">\n",
    "    <label for=\"indoor\"><input id=\"indoor\" type=\"radio\" name=\"indoor-outdoor\" value=\"indoor\" checked> Indoor</label>\n",
    "    <label for=\"outdoor\"><input id=\"outdoor\" type=\"radio\" name=\"indoor-outdoor\" value=\"outdoor\"> Outdoor</label><br>\n",
    "    <label for=\"loving\"><input id=\"loving\" type=\"checkbox\" name=\"personality\" value=\"loving\" checked> Loving</label>\n",
    "    <label for=\"lazy\"><input id=\"lazy\" type=\"checkbox\" name=\"personality\" value=\"lazy\"> Lazy</label>\n",
    "    <label for=\"energetic\"><input id=\"energetic\" type=\"checkbox\" name=\"personality\" value=\"energetic\"> Energetic</label><br>\n",
    "    <input type=\"text\" placeholder=\"cat photo URL\" required>\n",
    "    <button type=\"submit\">Submit</button>\n",
    "  </form>\n",
    "</main>\n"
   ]
  },
  {
   "cell_type": "markdown",
   "metadata": {
    "heading_collapsed": true
   },
   "source": [
    "### Nest Many Elements within a Single div Element\n"
   ]
  },
  {
   "cell_type": "markdown",
   "metadata": {
    "hidden": true
   },
   "source": [
    "The `div` element, also known as a division element, is a general purpose container for other elements.\n",
    "\n",
    "The `div` element is probably the most commonly used HTML element of all.\n",
    "\n",
    "Just like any other non-self-closing element, you can open a `div` element with `<div>` and close it on another line with `</div>`.\n",
    "\n",
    "---\n",
    "Nest your \"Things cats love\" and \"Things cats hate\" lists all within a single `div` element.\n",
    "\n",
    "Hint: Try putting your opening `div` tag above your \"Things cats love\" `p` element and your closing `div` tag after your closing `ol` tag so that both of your lists are within one `div`."
   ]
  },
  {
   "cell_type": "code",
   "execution_count": 27,
   "metadata": {
    "hidden": true
   },
   "outputs": [
    {
     "data": {
      "text/html": [
       "<h2>CatPhotoApp</h2>\n",
       "<main>\n",
       "  <p>Click here to view more <a href=\"#\">cat photos</a>.</p>\n",
       "\n",
       "  <a href=\"#\"><img src=\"https://bit.ly/fcc-relaxing-cat\" alt=\"A cute orange cat lying on its back.\"></a>\n",
       "  <div>\n",
       "    <p>Things cats love:</p>\n",
       "    <ul>\n",
       "      <li>cat nip</li>\n",
       "      <li>laser pointers</li>\n",
       "      <li>lasagna</li>\n",
       "    </ul>\n",
       "    <p>Top 3 things cats hate:</p>\n",
       "    <ol>\n",
       "      <li>flea treatment</li>\n",
       "      <li>thunder</li>\n",
       "      <li>other cats</li>\n",
       "    </ol>\n",
       "  </div>\n",
       "  \n",
       "  <form action=\"/submit-cat-photo\">\n",
       "    <label for=\"indoor\"><input id=\"indoor\" type=\"radio\" name=\"indoor-outdoor\" value=\"indoor\" checked> Indoor</label>\n",
       "    <label for=\"outdoor\"><input id=\"outdoor\" type=\"radio\" name=\"indoor-outdoor\" value=\"outdoor\"> Outdoor</label><br>\n",
       "    <label for=\"loving\"><input id=\"loving\" type=\"checkbox\" name=\"personality\" value=\"loving\" checked> Loving</label>\n",
       "    <label for=\"lazy\"><input id=\"lazy\" type=\"checkbox\" name=\"personality\" value=\"lazy\"> Lazy</label>\n",
       "    <label for=\"energetic\"><input id=\"energetic\" type=\"checkbox\" name=\"personality\" value=\"energetic\"> Energetic</label><br>\n",
       "    <input type=\"text\" placeholder=\"cat photo URL\" required>\n",
       "    <button type=\"submit\">Submit</button>\n",
       "  </form>\n",
       "</main>\n"
      ],
      "text/plain": [
       "<IPython.core.display.HTML object>"
      ]
     },
     "metadata": {},
     "output_type": "display_data"
    }
   ],
   "source": [
    "%%HTML\n",
    "<h2>CatPhotoApp</h2>\n",
    "<main>\n",
    "  <p>Click here to view more <a href=\"#\">cat photos</a>.</p>\n",
    "\n",
    "  <a href=\"#\"><img src=\"https://bit.ly/fcc-relaxing-cat\" alt=\"A cute orange cat lying on its back.\"></a>\n",
    "  <div>\n",
    "    <p>Things cats love:</p>\n",
    "    <ul>\n",
    "      <li>cat nip</li>\n",
    "      <li>laser pointers</li>\n",
    "      <li>lasagna</li>\n",
    "    </ul>\n",
    "    <p>Top 3 things cats hate:</p>\n",
    "    <ol>\n",
    "      <li>flea treatment</li>\n",
    "      <li>thunder</li>\n",
    "      <li>other cats</li>\n",
    "    </ol>\n",
    "  </div>\n",
    "  \n",
    "  <form action=\"/submit-cat-photo\">\n",
    "    <label for=\"indoor\"><input id=\"indoor\" type=\"radio\" name=\"indoor-outdoor\" value=\"indoor\" checked> Indoor</label>\n",
    "    <label for=\"outdoor\"><input id=\"outdoor\" type=\"radio\" name=\"indoor-outdoor\" value=\"outdoor\"> Outdoor</label><br>\n",
    "    <label for=\"loving\"><input id=\"loving\" type=\"checkbox\" name=\"personality\" value=\"loving\" checked> Loving</label>\n",
    "    <label for=\"lazy\"><input id=\"lazy\" type=\"checkbox\" name=\"personality\" value=\"lazy\"> Lazy</label>\n",
    "    <label for=\"energetic\"><input id=\"energetic\" type=\"checkbox\" name=\"personality\" value=\"energetic\"> Energetic</label><br>\n",
    "    <input type=\"text\" placeholder=\"cat photo URL\" required>\n",
    "    <button type=\"submit\">Submit</button>\n",
    "  </form>\n",
    "</main>\n"
   ]
  },
  {
   "cell_type": "markdown",
   "metadata": {
    "heading_collapsed": true
   },
   "source": [
    "### Declare the Doctype of an HTML Document\n"
   ]
  },
  {
   "cell_type": "markdown",
   "metadata": {
    "hidden": true
   },
   "source": [
    "The challenges so far have covered specific HTML elements and their uses. However, there are a few elements that give overall structure to your page, and should be included in every HTML document.\n",
    "\n",
    "At the top of your document, you need to tell the browser which version of HTML your page is using. HTML is an evolving language, and is updated regularly. Most major browsers support the latest specification, which is HTML5. However, older web pages may use previous versions of the language.\n",
    "\n",
    "You tell the browser this information by adding the `<!DOCTYPE ...>` tag on the first line, where the `...` part is the version of HTML. For HTML5, you use `<!DOCTYPE html>`.\n",
    "\n",
    "The `!` and uppercase `DOCTYPE` is important, especially for older browsers. The `html` is not case sensitive.\n",
    "\n",
    "Next, the rest of your HTML code needs to be wrapped in `html` tags. The opening `<html>` goes directly below the `<!DOCTYPE html>` line, and the closing `</html>` goes at the end of the page.\n",
    "\n",
    "Here's an example of the page structure:\n",
    "```HTML\n",
    "<!DOCTYPE html>\n",
    "<html>\n",
    "  <!-- Your HTML code goes here -->\n",
    "</html>\n",
    "```\n",
    "\n",
    "---\n",
    "Add a `DOCTYPE` tag for HTML5 to the top of the blank HTML document in the code editor. Under it, add opening and closing `html` tags, which wrap around an `h1` element. The heading can include any text."
   ]
  },
  {
   "cell_type": "code",
   "execution_count": 28,
   "metadata": {
    "hidden": true
   },
   "outputs": [
    {
     "data": {
      "text/html": [
       "<!DOCTYPE html>\n",
       "<html>\n",
       "  <h1></h1>\n",
       "</html>\n"
      ],
      "text/plain": [
       "<IPython.core.display.HTML object>"
      ]
     },
     "metadata": {},
     "output_type": "display_data"
    }
   ],
   "source": [
    "%%HTML\n",
    "<!DOCTYPE html>\n",
    "<html>\n",
    "  <h1></h1>\n",
    "</html>"
   ]
  },
  {
   "cell_type": "markdown",
   "metadata": {},
   "source": [
    "### Define the Head and Body of an HTML Document"
   ]
  },
  {
   "cell_type": "markdown",
   "metadata": {},
   "source": [
    "You can add another level of organization in your HTML document within the `html` tags with the `head` and `body` elements. Any markup with information about your page would go into the `head` tag. Then any markup with the content of the page (what displays for a user) would go into the `body` tag.\n",
    "\n",
    "Metadata elements, such as `link`, `meta`, `title`, and `style`, typically go inside the head element.\n",
    "\n",
    "Here's an example of a page's layout:\n",
    "```HTML\n",
    "<!DOCTYPE html>\n",
    "<html>\n",
    "  <head>\n",
    "    <!-- metadata elements -->\n",
    "  </head>\n",
    "  <body>\n",
    "    <!-- page contents -->\n",
    "  </body>\n",
    "</html>\n",
    "```\n",
    "\n",
    "---\n",
    "Edit the markup so there's a `head` and a `body`. The `head` element should only include the `title`, and the `body` element should only include the `h1` and `p`."
   ]
  },
  {
   "cell_type": "code",
   "execution_count": 29,
   "metadata": {},
   "outputs": [
    {
     "data": {
      "text/html": [
       "<!DOCTYPE html>\n",
       "<html>\n",
       "  <head>\n",
       "    <title>The best page ever</title>\n",
       "  </head>\n",
       "  <body>\n",
       "    <h1>The best page ever</h1>\n",
       "    <p>Cat ipsum dolor sit amet, jump launch to pounce upon little yarn mouse, bare fangs at toy run hide in litter box until treats are fed. Go into a room to decide you didn't want to be in there anyway. I like big cats and i can not lie kitty ipsum dolor sit amet, shed everywhere shed everywhere stretching attack your ankles chase the red dot, hairball run catnip eat the grass sniff. Meow i could pee on this if i had the energy for slap owner's face at 5am until human fills food dish yet scamper. Knock dish off table head butt cant eat out of my own dish scratch the furniture. Make meme, make cute face. Sleep in the bathroom sink chase laser but pee in the shoe. Paw at your fat belly licks your face and eat grass, throw it back up kitty ipsum dolor sit amet, shed everywhere shed everywhere stretching attack your ankles chase the red dot, hairball run catnip eat the grass sniff.</p>\n",
       "  </body>\n",
       "</html>\n"
      ],
      "text/plain": [
       "<IPython.core.display.HTML object>"
      ]
     },
     "metadata": {},
     "output_type": "display_data"
    }
   ],
   "source": [
    "%%HTML\n",
    "<!DOCTYPE html>\n",
    "<html>\n",
    "  <head>\n",
    "    <title>The best page ever</title>\n",
    "  </head>\n",
    "  <body>\n",
    "    <h1>The best page ever</h1>\n",
    "    <p>Cat ipsum dolor sit amet, jump launch to pounce upon little yarn mouse, bare fangs at toy run hide in litter box until treats are fed. Go into a room to decide you didn't want to be in there anyway. I like big cats and i can not lie kitty ipsum dolor sit amet, shed everywhere shed everywhere stretching attack your ankles chase the red dot, hairball run catnip eat the grass sniff. Meow i could pee on this if i had the energy for slap owner's face at 5am until human fills food dish yet scamper. Knock dish off table head butt cant eat out of my own dish scratch the furniture. Make meme, make cute face. Sleep in the bathroom sink chase laser but pee in the shoe. Paw at your fat belly licks your face and eat grass, throw it back up kitty ipsum dolor sit amet, shed everywhere shed everywhere stretching attack your ankles chase the red dot, hairball run catnip eat the grass sniff.</p>\n",
    "  </body>\n",
    "</html>\n"
   ]
  },
  {
   "cell_type": "markdown",
   "metadata": {},
   "source": [
    "## Basic CSS"
   ]
  },
  {
   "cell_type": "markdown",
   "metadata": {},
   "source": [
    "### Introduction to Basic CSS"
   ]
  },
  {
   "cell_type": "markdown",
   "metadata": {},
   "source": [
    "Cascading Style Sheets (CSS) tell the browser how to display the text and other content that you write in HTML.\n",
    "\n",
    "Note that CSS is case-sensitive so be careful with your capitalization. CSS has been adopted by all major browsers and allows you to control:\n",
    "\n",
    "* color\n",
    "* fonts\n",
    "* positioning\n",
    "* spacing\n",
    "* sizing\n",
    "* decorations\n",
    "* transitions\n",
    "\n",
    "There are three main ways to apply CSS styling. You can apply inline styles directly to HTML elements with the `style` attribute. Alternatively, you can place CSS rules within `style` tags in an HTML document. Finally, you can write CSS rules in an external style sheet, then reference that file in the HTML document. Even though the first two options have their use cases, most developers prefer external style sheets because they keep the styles separate from the HTML elements. This improves the readability and reusability of your code. The idea behind CSS is that you can use a selector to target an HTML element in the DOM (Document Object Model) and then apply a variety of attributes to that element to change the way it is displayed on the page.\n",
    "\n",
    "In this section, you'll see how adding CSS styles to the elements of your CatPhotoApp can change it from simple text to something more."
   ]
  },
  {
   "cell_type": "markdown",
   "metadata": {},
   "source": [
    "### Change the Color of Text"
   ]
  },
  {
   "cell_type": "markdown",
   "metadata": {},
   "source": [
    "Now let's change the color of some of our text.\n",
    "\n",
    "We can do this by changing the `style` of your `h2` element.\n",
    "\n",
    "The property that is responsible for the `color` of an element's text is the color style property.\n",
    "\n",
    "Here's how you would set your `h2` element's text color to blue:\n",
    "\n",
    "`<h2 style=\"color: blue;\">CatPhotoApp</h2>`\n",
    "\n",
    "Note that it is a good practice to end inline `style` declarations with a `;`.\n",
    "\n",
    "---\n",
    "Change your `h2` element's style so that its text color is red."
   ]
  },
  {
   "cell_type": "markdown",
   "metadata": {},
   "source": [
    "```HTML\n",
    "<h2 style=\"color: red;\">CatPhotoApp</h2>\n",
    "<main>\n",
    "\t<p>Click here to view more <a href=\"#\">cat photos</a>. </p>\n",
    "\t<a href=\"#\"> <img src=\"https://bit.ly/fcc-relaxing-cat\" alt=\"A cute orange cat lying on its back.\"> </a>\n",
    "\t<div>\n",
    "\t\t<p>Things cats love:</p>\n",
    "\t\t<ul>\n",
    "\t\t\t<li>cat nip</li>\n",
    "\t\t\t<li>laser pointers</li>\n",
    "\t\t\t<li>lasagna</li>\n",
    "\t\t</ul>\n",
    "\t\t<p>Top 3 things cats hate:</p>\n",
    "\t\t<ol>\n",
    "\t\t\t<li>flea treatment</li>\n",
    "\t\t\t<li>thunder</li>\n",
    "\t\t\t<li>other cats</li>\n",
    "\t\t</ol>\n",
    "\t</div>\n",
    "\t<form action=\"/submit-cat-photo\">\n",
    "\t\t<label>\n",
    "\t\t\t<input type=\"radio\" name=\"indoor-outdoor\" checked> Indoor </label>\n",
    "\t\t<label>\n",
    "\t\t\t<input type=\"radio\" name=\"indoor-outdoor\"> Outdoor </label <br>\n",
    "\t\t<label>\n",
    "\t\t\t<input type=\"checkbox\" name=\"personality\" checked> Loving </label>\n",
    "\t\t<label>\n",
    "\t\t\t<input type=\"checkbox\" name=\"personality\"> Lazy </label>\n",
    "\t\t<label>\n",
    "\t\t\t<input type=\"checkbox\" name=\"personality\"> Energetic </label>\n",
    "\t\t<br>\n",
    "\t\t<input type=\"text\" placeholder=\"cat photo URL\" required>\n",
    "\t\t<button type=\"submit\">Submit</button>\n",
    "\t</form>\n",
    "</main> ```"
   ]
  },
  {
   "cell_type": "code",
   "execution_count": 30,
   "metadata": {},
   "outputs": [
    {
     "data": {
      "text/html": [
       "\n",
       "        <iframe\n",
       "            width=\"100%\"\n",
       "            height=\"500\"\n",
       "            src=\"./source-solution/02-basic-css/000-change-the-color-of-text.html\"\n",
       "            frameborder=\"0\"\n",
       "            allowfullscreen\n",
       "        ></iframe>\n",
       "        "
      ],
      "text/plain": [
       "<IPython.lib.display.IFrame at 0x17a821a3940>"
      ]
     },
     "execution_count": 30,
     "metadata": {},
     "output_type": "execute_result"
    }
   ],
   "source": [
    "IFrame('./source-solution/02-basic-css/000-change-the-color-of-text.html', '100%', 500)"
   ]
  },
  {
   "cell_type": "markdown",
   "metadata": {},
   "source": [
    "### Use CSS Selectors to Style Elements"
   ]
  },
  {
   "cell_type": "markdown",
   "metadata": {},
   "source": [
    "With CSS, there are hundreds of CSS properties that you can use to change the way an element looks on your page.\n",
    "\n",
    "When you entered `<h2 style=\"color: red;\">CatPhotoApp</h2>`, you were styling that individual `h2` element with inline CSS, which stands for Cascading Style Sheets.\n",
    "\n",
    "That's one way to specify the style of an element, but there's a better way to apply CSS.\n",
    "\n",
    "At the top of your code, create a `style` block like this:\n",
    "```HTML\n",
    "<style>\n",
    "</style>\n",
    "```\n",
    "Inside that style block, you can create a CSS selector for all `h2` elements. For example, if you wanted all `h2` elements to be red, you would add a style rule that looks like this:\n",
    "```HTML\n",
    "<style>\n",
    "  h2 {\n",
    "    color: red;\n",
    "  }\n",
    "</style>\n",
    "```\n",
    "Note that it's important to have both opening and closing curly braces (`{` and `}`) around each element's style rule(s). You also need to make sure that your element's style definition is between the opening and closing style tags. Finally, be sure to add a semicolon to the end of each of your element's style rules.\n",
    "\n",
    "---\n",
    "Delete your `h2` element's style attribute, and instead create a CSS `style` block. Add the necessary CSS to turn all `h2` elements blue."
   ]
  },
  {
   "cell_type": "markdown",
   "metadata": {
    "scrolled": true
   },
   "source": [
    "```HTML\n",
    "<style>\n",
    "\th2 {\n",
    "\t\tb color: blue;\n",
    "\t}\n",
    "</style>\n",
    "<h2>CatPhotoApp</h2>\n",
    "<main>\n",
    "\t<p>Click here to view more <a href=\"#\">cat photos</a>.</p>\n",
    "\t<a href=\"#\"><img src=\"https://bit.ly/fcc-relaxing-cat\" alt=\"A cute orange cat lying on its back.\"></a>\n",
    "\t<div>\n",
    "\t\t<p>Things cats love:</p>\n",
    "\t\t<ul>\n",
    "\t\t\t<li>cat nip</li>\n",
    "\t\t\t<li>laser pointers</li>\n",
    "\t\t\t<li>lasagna</li>\n",
    "\t\t</ul>\n",
    "\t\t<p>Top 3 things cats hate:</p>\n",
    "\t\t<ol>\n",
    "\t\t\t<li>flea treatment</li>\n",
    "\t\t\t<li>thunder</li>\n",
    "\t\t\t<li>other cats</li>\n",
    "\t\t</ol>\n",
    "\t</div>\n",
    "\t<form action=\"/submit-cat-photo\">\n",
    "\t\t<label>\n",
    "\t\t\t<input type=\"radio\" name=\"indoor-outdoor\" checked> Indoor</label>\n",
    "\t\t<label>\n",
    "\t\t\t<input type=\"radio\" name=\"indoor-outdoor\"> Outdoor</label>\n",
    "\t\t<br>\n",
    "\t\t<label>\n",
    "\t\t\t<input type=\"checkbox\" name=\"personality\" checked> Loving</label>\n",
    "\t\t<label>\n",
    "\t\t\t<input type=\"checkbox\" name=\"personality\"> Lazy</label>\n",
    "\t\t<label>\n",
    "\t\t\t<input type=\"checkbox\" name=\"personality\"> Energetic</label>\n",
    "\t\t<br>\n",
    "\t\t<input type=\"text\" placeholder=\"cat photo URL\" required>\n",
    "\t\t<button type=\"submit\">Submit</button>\n",
    "\t</form>\n",
    "</main>\n",
    "```"
   ]
  },
  {
   "cell_type": "code",
   "execution_count": 31,
   "metadata": {},
   "outputs": [
    {
     "data": {
      "text/html": [
       "\n",
       "        <iframe\n",
       "            width=\"100%\"\n",
       "            height=\"500\"\n",
       "            src=\"./source-solution/02-basic-css/001-use-css-selectors-to-style-elements.html\"\n",
       "            frameborder=\"0\"\n",
       "            allowfullscreen\n",
       "        ></iframe>\n",
       "        "
      ],
      "text/plain": [
       "<IPython.lib.display.IFrame at 0x17a821bd080>"
      ]
     },
     "execution_count": 31,
     "metadata": {},
     "output_type": "execute_result"
    }
   ],
   "source": [
    "IFrame('./source-solution/02-basic-css/001-use-css-selectors-to-style-elements.html', '100%', 500)"
   ]
  },
  {
   "cell_type": "markdown",
   "metadata": {},
   "source": [
    "### Use a CSS Class to Style an Element"
   ]
  },
  {
   "cell_type": "markdown",
   "metadata": {},
   "source": [
    "Classes are reusable styles that can be added to HTML elements.\n",
    "\n",
    "Here's an example CSS class declaration:\n",
    "```HTML\n",
    "<style>\n",
    "  .blue-text {\n",
    "    color: blue;\n",
    "  }\n",
    "</style>\n",
    "```\n",
    "You can see that we've created a CSS class called `blue-text` within the \" `<style>` tag. You can apply a class to an HTML element like this: `<h2 class=\"blue-text\">CatPhotoApp</h2>` Note that in your CSS `style` element, class names start with a period. In your HTML elements' class attribute, the class name does not include the period.\n",
    "\n",
    "---\n",
    "Inside your `style` element, change the `h2` selector to `.red-text` and update the color's value from `blue` to `red`.\n",
    "\n",
    "Give your `h2` element the class attribute with a value of `'red-text'`."
   ]
  },
  {
   "cell_type": "markdown",
   "metadata": {
    "scrolled": false
   },
   "source": [
    "```HTML\n",
    "<style>\n",
    "\th2 {\n",
    "\t\tcolor: blue;\n",
    "\t}\n",
    "\t\n",
    "\t.red-text {\n",
    "\t\tcolor: red;\n",
    "\t}\n",
    "</style>\n",
    "\n",
    "<h2 class=\"red-text\">CatPhotoApp</h2>\n",
    "<main>\n",
    "\t<p>Click here to view more <a href=\"#\">cat photos</a>.</p>\n",
    "\n",
    "\t<a href=\"#\"><img src=\"https://bit.ly/fcc-relaxing-cat\" alt=\"A cute orange cat lying on its back.\"></a>\n",
    "\n",
    "\t<div>\n",
    "\t\t<p>Things cats love:</p>\n",
    "\t\t<ul>\n",
    "\t\t\t<li>cat nip</li>\n",
    "\t\t\t<li>laser pointers</li>\n",
    "\t\t\t<li>lasagna</li>\n",
    "\t\t</ul>\n",
    "\t\t<p>Top 3 things cats hate:</p>\n",
    "\t\t<ol>\n",
    "\t\t\t<li>flea treatment</li>\n",
    "\t\t\t<li>thunder</li>\n",
    "\t\t\t<li>other cats</li>\n",
    "\t\t</ol>\n",
    "\t</div>\n",
    "\n",
    "\t<form action=\"/submit-cat-photo\">\n",
    "\t\t<label>\n",
    "\t\t\t<input type=\"radio\" name=\"indoor-outdoor\" checked> Indoor</label>\n",
    "\t\t<label>\n",
    "\t\t\t<input type=\"radio\" name=\"indoor-outdoor\"> Outdoor</label>\n",
    "\t\t<br>\n",
    "\t\t<label>\n",
    "\t\t\t<input type=\"checkbox\" name=\"personality\" checked> Loving</label>\n",
    "\t\t<label>\n",
    "\t\t\t<input type=\"checkbox\" name=\"personality\"> Lazy</label>\n",
    "\t\t<label>\n",
    "\t\t\t<input type=\"checkbox\" name=\"personality\"> Energetic</label>\n",
    "\t\t<br>\n",
    "\t\t<input type=\"text\" placeholder=\"cat photo URL\" required>\n",
    "\t\t<button type=\"submit\">Submit</button>\n",
    "\t</form>\n",
    "</main>\n",
    "```"
   ]
  },
  {
   "cell_type": "code",
   "execution_count": 32,
   "metadata": {},
   "outputs": [
    {
     "data": {
      "text/html": [
       "\n",
       "        <iframe\n",
       "            width=\"100%\"\n",
       "            height=\"500\"\n",
       "            src=\"./source-solution/02-basic-css/002-use-a-css-class-to-style-an-element.html\"\n",
       "            frameborder=\"0\"\n",
       "            allowfullscreen\n",
       "        ></iframe>\n",
       "        "
      ],
      "text/plain": [
       "<IPython.lib.display.IFrame at 0x17a821bd198>"
      ]
     },
     "execution_count": 32,
     "metadata": {},
     "output_type": "execute_result"
    }
   ],
   "source": [
    "IFrame('./source-solution/02-basic-css/002-use-a-css-class-to-style-an-element.html', '100%', 500)"
   ]
  },
  {
   "cell_type": "markdown",
   "metadata": {},
   "source": [
    "### Style Multiple Elements with a CSS Class"
   ]
  },
  {
   "cell_type": "markdown",
   "metadata": {},
   "source": [
    "Classes allow you to use the same CSS styles on multiple HTML elements. You can see this by applying your `red-text` class to the first `p` element."
   ]
  },
  {
   "cell_type": "markdown",
   "metadata": {},
   "source": [
    "```HTML\n",
    "<style>\n",
    "\t.red-text {\n",
    "\t\tcolor: red;\n",
    "\t}\n",
    "</style>\n",
    "\n",
    "<h2 class=\"red-text\">CatPhotoApp</h2>\n",
    "<main>\n",
    "\t<p class=\"red-text\">Click here to view more <a href=\"#\">cat photos</a>.</p>\n",
    "\n",
    "\t<a href=\"#\"><img src=\"https://bit.ly/fcc-relaxing-cat\" alt=\"A cute orange cat lying on its back.\"></a>\n",
    "\n",
    "\t<div>\n",
    "\t\t<p>Things cats love:</p>\n",
    "\t\t<ul>\n",
    "\t\t\t<li>cat nip</li>\n",
    "\t\t\t<li>laser pointers</li>\n",
    "\t\t\t<li>lasagna</li>\n",
    "\t\t</ul>\n",
    "\t\t<p>Top 3 things cats hate:</p>\n",
    "\t\t<ol>\n",
    "\t\t\t<li>flea treatment</li>\n",
    "\t\t\t<li>thunder</li>\n",
    "\t\t\t<li>other cats</li>\n",
    "\t\t</ol>\n",
    "\t</div>\n",
    "\n",
    "\t<form action=\"/submit-cat-photo\">\n",
    "\t\t<label>\n",
    "\t\t\t<input type=\"radio\" name=\"indoor-outdoor\" checked> Indoor</label>\n",
    "\t\t<label>\n",
    "\t\t\t<input type=\"radio\" name=\"indoor-outdoor\"> Outdoor</label>\n",
    "\t\t<br>\n",
    "\t\t<label>\n",
    "\t\t\t<input type=\"checkbox\" name=\"personality\" checked> Loving</label>\n",
    "\t\t<label>\n",
    "\t\t\t<input type=\"checkbox\" name=\"personality\"> Lazy</label>\n",
    "\t\t<label>\n",
    "\t\t\t<input type=\"checkbox\" name=\"personality\"> Energetic</label>\n",
    "\t\t<br>\n",
    "\t\t<input type=\"text\" placeholder=\"cat photo URL\" required>\n",
    "\t\t<button type=\"submit\">Submit</button>\n",
    "\t</form>\n",
    "</main>\n",
    "```"
   ]
  },
  {
   "cell_type": "code",
   "execution_count": 33,
   "metadata": {},
   "outputs": [
    {
     "data": {
      "text/html": [
       "\n",
       "        <iframe\n",
       "            width=\"100%\"\n",
       "            height=\"500\"\n",
       "            src=\"./source-solution/02-basic-css/003-style-multiple-elements-with-a-css-class.html\"\n",
       "            frameborder=\"0\"\n",
       "            allowfullscreen\n",
       "        ></iframe>\n",
       "        "
      ],
      "text/plain": [
       "<IPython.lib.display.IFrame at 0x17a821bd390>"
      ]
     },
     "execution_count": 33,
     "metadata": {},
     "output_type": "execute_result"
    }
   ],
   "source": [
    "IFrame('./source-solution/02-basic-css/003-style-multiple-elements-with-a-css-class.html', '100%', 500)"
   ]
  },
  {
   "cell_type": "markdown",
   "metadata": {},
   "source": [
    "### Change the Font Size of an Element"
   ]
  },
  {
   "cell_type": "markdown",
   "metadata": {},
   "source": [
    "Font size is controlled by the `font-size` CSS property, like this:\n",
    "\n",
    "```CSS\n",
    "h1 {\n",
    "  font-size: 30px;\n",
    "}\n",
    "```\n",
    "\n",
    "---\n",
    "Inside the same `<style>` tag that contains your `red-text` class, create an entry for `p` elements and set the `font-size` to 16 pixels (`16px`)."
   ]
  },
  {
   "cell_type": "markdown",
   "metadata": {},
   "source": [
    "```HTML\n",
    "<html>\n",
    "<style>\n",
    "\t.red-text {\n",
    "\t\tcolor: red;\n",
    "\t}\n",
    "\t\n",
    "\tp {\n",
    "\t\tfont-size: 16px;\n",
    "\t}\n",
    "</style>\n",
    "\n",
    "<h2 class=\"red-text\">CatPhotoApp</h2>\n",
    "<main>\n",
    "\t<p class=\"red-text\">Click here to view more <a href=\"#\">cat photos</a>.</p>\n",
    "\n",
    "\t<a href=\"#\"><img src=\"https://bit.ly/fcc-relaxing-cat\" alt=\"A cute orange cat lying on its back.\"></a>\n",
    "\n",
    "\t<div>\n",
    "\t\t<p>Things cats love:</p>\n",
    "\t\t<ul>\n",
    "\t\t\t<li>cat nip</li>\n",
    "\t\t\t<li>laser pointers</li>\n",
    "\t\t\t<li>lasagna</li>\n",
    "\t\t</ul>\n",
    "\t\t<p>Top 3 things cats hate:</p>\n",
    "\t\t<ol>\n",
    "\t\t\t<li>flea treatment</li>\n",
    "\t\t\t<li>thunder</li>\n",
    "\t\t\t<li>other cats</li>\n",
    "\t\t</ol>\n",
    "\t</div>\n",
    "\n",
    "\t<form action=\"/submit-cat-photo\">\n",
    "\t\t<label>\n",
    "\t\t\t<input type=\"radio\" name=\"indoor-outdoor\" checked> Indoor</label>\n",
    "\t\t<label>\n",
    "\t\t\t<input type=\"radio\" name=\"indoor-outdoor\"> Outdoor</label>\n",
    "\t\t<br>\n",
    "\t\t<label>\n",
    "\t\t\t<input type=\"checkbox\" name=\"personality\" checked> Loving</label>\n",
    "\t\t<label>\n",
    "\t\t\t<input type=\"checkbox\" name=\"personality\"> Lazy</label>\n",
    "\t\t<label>\n",
    "\t\t\t<input type=\"checkbox\" name=\"personality\"> Energetic</label>\n",
    "\t\t<br>\n",
    "\t\t<input type=\"text\" placeholder=\"cat photo URL\" required>\n",
    "\t\t<button type=\"submit\">Submit</button>\n",
    "\t</form>\n",
    "</main>\n",
    "\n",
    "</html>\n",
    "```"
   ]
  },
  {
   "cell_type": "code",
   "execution_count": 34,
   "metadata": {},
   "outputs": [
    {
     "data": {
      "text/html": [
       "\n",
       "        <iframe\n",
       "            width=\"100%\"\n",
       "            height=\"500\"\n",
       "            src=\"./source-solution/02-basic-css/004-change-the-font-size-of-an-element.html\"\n",
       "            frameborder=\"0\"\n",
       "            allowfullscreen\n",
       "        ></iframe>\n",
       "        "
      ],
      "text/plain": [
       "<IPython.lib.display.IFrame at 0x17a821bd6a0>"
      ]
     },
     "execution_count": 34,
     "metadata": {},
     "output_type": "execute_result"
    }
   ],
   "source": [
    "IFrame('./source-solution/02-basic-css/004-change-the-font-size-of-an-element.html', '100%', 500)"
   ]
  },
  {
   "cell_type": "markdown",
   "metadata": {},
   "source": [
    "### Set the Font Family of an Element"
   ]
  },
  {
   "cell_type": "markdown",
   "metadata": {},
   "source": [
    "In addition to classes, each HTML element can also have an `id` attribute.\n",
    "\n",
    "There are several benefits to using `id` attributes: You can use an id to style a single element and later you'll learn that you can use them to select and modify specific elements with JavaScript.\n",
    "\n",
    "`id` attributes should be unique. Browsers won't enforce this, but it is a widely agreed upon best practice. So please don't give more than one element the same `id` attribute.\n",
    "\n",
    "Here's an example of how you give your `h2` element the id of `cat-photo-app`:\n",
    "\n",
    "`<h2 id=\"cat-photo-app\">`\n",
    "\n",
    "---\n",
    "Give your `form` element the id `cat-photo-form`."
   ]
  },
  {
   "cell_type": "markdown",
   "metadata": {},
   "source": [
    "```HTML\n",
    "<style>\n",
    "\t.red-text {\n",
    "\t\tcolor: red;\n",
    "\t}\n",
    "\t\n",
    "\tp {\n",
    "\t\tfont-size: 16px;\n",
    "\t\tfont-family: monospace;\n",
    "\t}\n",
    "</style>\n",
    "\n",
    "<h2 class=\"red-text\">CatPhotoApp</h2>\n",
    "<main>\n",
    "\t<p class=\"red-text\">Click here to view more <a href=\"#\">cat photos</a>.</p>\n",
    "\n",
    "\t<a href=\"#\"><img src=\"https://bit.ly/fcc-relaxing-cat\" alt=\"A cute orange cat lying on its back.\"></a>\n",
    "\n",
    "\t<div>\n",
    "\t\t<p>Things cats love:</p>\n",
    "\t\t<ul>\n",
    "\t\t\t<li>cat nip</li>\n",
    "\t\t\t<li>laser pointers</li>\n",
    "\t\t\t<li>lasagna</li>\n",
    "\t\t</ul>\n",
    "\t\t<p>Top 3 things cats hate:</p>\n",
    "\t\t<ol>\n",
    "\t\t\t<li>flea treatment</li>\n",
    "\t\t\t<li>thunder</li>\n",
    "\t\t\t<li>other cats</li>\n",
    "\t\t</ol>\n",
    "\t</div>\n",
    "\n",
    "\t<form action=\"/submit-cat-photo\">\n",
    "\t\t<label>\n",
    "\t\t\t<input type=\"radio\" name=\"indoor-outdoor\" checked> Indoor</label>\n",
    "\t\t<label>\n",
    "\t\t\t<input type=\"radio\" name=\"indoor-outdoor\"> Outdoor</label>\n",
    "\t\t<br>\n",
    "\t\t<label>\n",
    "\t\t\t<input type=\"checkbox\" name=\"personality\" checked> Loving</label>\n",
    "\t\t<label>\n",
    "\t\t\t<input type=\"checkbox\" name=\"personality\"> Lazy</label>\n",
    "\t\t<label>\n",
    "\t\t\t<input type=\"checkbox\" name=\"personality\"> Energetic</label>\n",
    "\t\t<br>\n",
    "\t\t<input type=\"text\" placeholder=\"cat photo URL\" required>\n",
    "\t\t<button type=\"submit\">Submit</button>\n",
    "\t</form>\n",
    "</main>\n",
    "```"
   ]
  },
  {
   "cell_type": "code",
   "execution_count": 35,
   "metadata": {},
   "outputs": [
    {
     "data": {
      "text/html": [
       "\n",
       "        <iframe\n",
       "            width=\"100%\"\n",
       "            height=\"500\"\n",
       "            src=\"./source-solution/02-basic-css/005-set-the-font-family-of-an-element.html\"\n",
       "            frameborder=\"0\"\n",
       "            allowfullscreen\n",
       "        ></iframe>\n",
       "        "
      ],
      "text/plain": [
       "<IPython.lib.display.IFrame at 0x17a821bd9e8>"
      ]
     },
     "execution_count": 35,
     "metadata": {},
     "output_type": "execute_result"
    }
   ],
   "source": [
    "IFrame('./source-solution/02-basic-css/005-set-the-font-family-of-an-element.html', '100%', 500)"
   ]
  },
  {
   "cell_type": "markdown",
   "metadata": {},
   "source": [
    "### Import a Google Font"
   ]
  },
  {
   "cell_type": "markdown",
   "metadata": {},
   "source": [
    "In addition to specifying common fonts that are found on most operating systems, we can also specify non-standard, custom web fonts for use on our website. There are many sources for web fonts on the Internet. For this example we will focus on the Google Fonts library.\n",
    "\n",
    "[Google Fonts](https://fonts.google.com/) is a free library of web fonts that you can use in your CSS by referencing the font's URL.\n",
    "\n",
    "So, let's go ahead and import and apply a Google font (note that if Google is blocked in your country, you will need to skip this challenge).\n",
    "\n",
    "To import a Google Font, you can copy the font(s) URL from the Google Fonts library and then paste it in your HTML. For this challenge, we'll import the `Lobster` font. To do this, copy the following code snippet and paste it into the top of your code editor (before the opening `style` element):\n",
    "\n",
    "`<link href=\"https://fonts.googleapis.com/css?family=Lobster\" rel=\"stylesheet\" type=\"text/css\">`\n",
    "\n",
    "Now you can use the `Lobster` font in your CSS by using `Lobster` as the FAMILY_NAME as in the following example:\n",
    "`font-family: FAMILY_NAME, GENERIC_NAME;`.\n",
    "\n",
    "The GENERIC_NAME is optional, and is a fallback font in case the other specified font is not available. This is covered in the next challenge.\n",
    "\n",
    "Family names are case-sensitive and need to be wrapped in quotes if there is a space in the name. For example, you need quotes to use the `\"Open Sans\"` font, but not to use the `Lobster` font.\n",
    "\n",
    "---\n",
    "Create a `font-family` CSS rule that uses the `Lobster` font, and ensure that it will be applied to your `h2` element."
   ]
  },
  {
   "cell_type": "markdown",
   "metadata": {},
   "source": [
    "```HTML\n",
    "<link href=\"https://fonts.googleapis.com/css?family=Lobster\" rel=\"stylesheet\" type=\"text/css\">\n",
    "\n",
    "<style>\n",
    "\t.red-text {\n",
    "\t\tcolor: red;\n",
    "\t}\n",
    "\t\n",
    "\tp {\n",
    "\t\tfont-size: 16px;\n",
    "\t\tfont-family: monospace;\n",
    "\t}\n",
    "\t\n",
    "\th2 {\n",
    "\t\tfont-family: Lobster;\n",
    "\t}\n",
    "</style>\n",
    "\n",
    "<h2 class=\"red-text\">CatPhotoApp</h2>\n",
    "<main>\n",
    "\t<p class=\"red-text\">Click here to view more <a href=\"#\">cat photos</a>.</p>\n",
    "\n",
    "\t<a href=\"#\"><img src=\"https://bit.ly/fcc-relaxing-cat\" alt=\"A cute orange cat lying on its back.\"></a>\n",
    "\n",
    "\t<div>\n",
    "\t\t<p>Things cats love:</p>\n",
    "\t\t<ul>\n",
    "\t\t\t<li>cat nip</li>\n",
    "\t\t\t<li>laser pointers</li>\n",
    "\t\t\t<li>lasagna</li>\n",
    "\t\t</ul>\n",
    "\t\t<p>Top 3 things cats hate:</p>\n",
    "\t\t<ol>\n",
    "\t\t\t<li>flea treatment</li>\n",
    "\t\t\t<li>thunder</li>\n",
    "\t\t\t<li>other cats</li>\n",
    "\t\t</ol>\n",
    "\t</div>\n",
    "\n",
    "\t<form action=\"/submit-cat-photo\">\n",
    "\t\t<label>\n",
    "\t\t\t<input type=\"radio\" name=\"indoor-outdoor\" checked> Indoor</label>\n",
    "\t\t<label>\n",
    "\t\t\t<input type=\"radio\" name=\"indoor-outdoor\"> Outdoor</label>\n",
    "\t\t<br>\n",
    "\t\t<label>\n",
    "\t\t\t<input type=\"checkbox\" name=\"personality\" checked> Loving</label>\n",
    "\t\t<label>\n",
    "\t\t\t<input type=\"checkbox\" name=\"personality\"> Lazy</label>\n",
    "\t\t<label>\n",
    "\t\t\t<input type=\"checkbox\" name=\"personality\"> Energetic</label>\n",
    "\t\t<br>\n",
    "\t\t<input type=\"text\" placeholder=\"cat photo URL\" required>\n",
    "\t\t<button type=\"submit\">Submit</button>\n",
    "\t</form>\n",
    "</main>\n",
    "```"
   ]
  },
  {
   "cell_type": "code",
   "execution_count": 36,
   "metadata": {
    "scrolled": true
   },
   "outputs": [
    {
     "data": {
      "text/html": [
       "\n",
       "        <iframe\n",
       "            width=\"100%\"\n",
       "            height=\"500\"\n",
       "            src=\"./source-solution/02-basic-css/006-import-a-google-font.html\"\n",
       "            frameborder=\"0\"\n",
       "            allowfullscreen\n",
       "        ></iframe>\n",
       "        "
      ],
      "text/plain": [
       "<IPython.lib.display.IFrame at 0x17a821bdc88>"
      ]
     },
     "execution_count": 36,
     "metadata": {},
     "output_type": "execute_result"
    }
   ],
   "source": [
    "IFrame('./source-solution/02-basic-css/006-import-a-google-font.html', '100%', 500)"
   ]
  },
  {
   "cell_type": "markdown",
   "metadata": {},
   "source": [
    "### Specify How Fonts Should Degrade"
   ]
  },
  {
   "cell_type": "markdown",
   "metadata": {},
   "source": [
    "There are several default fonts that are available in all browsers. These generic font families include `monospace`, `serif` and `sans-serif`\n",
    "\n",
    "When one font isn't available, you can tell the browser to \"degrade\" to another font.\n",
    "\n",
    "For example, if you wanted an element to use the `Helvetica` font, but degrade to the `sans-serif` font when `Helvetica` isn't available, you will specify it as follows:\n",
    "\n",
    "```CSS\n",
    "p {\n",
    "  font-family: Helvetica, sans-serif;\n",
    "}\n",
    "```\n",
    "Generic font family names are not case-sensitive. Also, they do not need quotes because they are CSS keywords.\n",
    "\n",
    "---\n",
    "To begin, apply the `monospace` font to the `h2` element, so that it now has two fonts - `Lobster` and `monospace`.\n",
    "\n",
    "In the last challenge, you imported the `Lobster` font using the `link` tag. Now comment out that import of the `Lobster` font (using the HTML comments you learned before) from Google Fonts so that it isn't available anymore. Notice how your `h2` element degrades to the `monospace` font.\n",
    "\n",
    "**Note**: If you have the Lobster font installed on your computer, you won't see the degradation because your browser is able to find the font."
   ]
  },
  {
   "cell_type": "markdown",
   "metadata": {},
   "source": [
    "```HTML\n",
    "<!-- <link href=\"https://fonts.googleapis.com/css?family=Lobster\" rel=\"stylesheet\" type=\"text/css\"> -->\n",
    "<style>\n",
    "\t.red-text {\n",
    "\t\tcolor: red;\n",
    "\t}\n",
    "\t\n",
    "\th2 {\n",
    "\t\tfont-family: Lobster, monospace;\n",
    "\t}\n",
    "\t\n",
    "\tp {\n",
    "\t\tfont-size: 16px;\n",
    "\t\tfont-family: monospace;\n",
    "\t}\n",
    "</style>\n",
    "\n",
    "<h2 class=\"red-text\">CatPhotoApp</h2>\n",
    "<main>\n",
    "\t<p class=\"red-text\">Click here to view more <a href=\"#\">cat photos</a>.</p>\n",
    "\n",
    "\t<a href=\"#\"><img src=\"https://bit.ly/fcc-relaxing-cat\" alt=\"A cute orange cat lying on its back.\"></a>\n",
    "\n",
    "\t<div>\n",
    "\t\t<p>Things cats love:</p>\n",
    "\t\t<ul>\n",
    "\t\t\t<li>cat nip</li>\n",
    "\t\t\t<li>laser pointers</li>\n",
    "\t\t\t<li>lasagna</li>\n",
    "\t\t</ul>\n",
    "\t\t<p>Top 3 things cats hate:</p>\n",
    "\t\t<ol>\n",
    "\t\t\t<li>flea treatment</li>\n",
    "\t\t\t<li>thunder</li>\n",
    "\t\t\t<li>other cats</li>\n",
    "\t\t</ol>\n",
    "\t</div>\n",
    "\n",
    "\t<form action=\"/submit-cat-photo\">\n",
    "\t\t<label>\n",
    "\t\t\t<input type=\"radio\" name=\"indoor-outdoor\" checked> Indoor</label>\n",
    "\t\t<label>\n",
    "\t\t\t<input type=\"radio\" name=\"indoor-outdoor\"> Outdoor</label>\n",
    "\t\t<br>\n",
    "\t\t<label>\n",
    "\t\t\t<input type=\"checkbox\" name=\"personality\" checked> Loving</label>\n",
    "\t\t<label>\n",
    "\t\t\t<input type=\"checkbox\" name=\"personality\"> Lazy</label>\n",
    "\t\t<label>\n",
    "\t\t\t<input type=\"checkbox\" name=\"personality\"> Energetic</label>\n",
    "\t\t<br>\n",
    "\t\t<input type=\"text\" placeholder=\"cat photo URL\" required>\n",
    "\t\t<button type=\"submit\">Submit</button>\n",
    "\t</form>\n",
    "</main>\n",
    "```"
   ]
  },
  {
   "cell_type": "code",
   "execution_count": 37,
   "metadata": {},
   "outputs": [
    {
     "data": {
      "text/html": [
       "\n",
       "        <iframe\n",
       "            width=\"100%\"\n",
       "            height=\"500\"\n",
       "            src=\"./source-solution/02-basic-css/007-specify-how-fonts-should-degrade.html\"\n",
       "            frameborder=\"0\"\n",
       "            allowfullscreen\n",
       "        ></iframe>\n",
       "        "
      ],
      "text/plain": [
       "<IPython.lib.display.IFrame at 0x17a821bdf98>"
      ]
     },
     "execution_count": 37,
     "metadata": {},
     "output_type": "execute_result"
    }
   ],
   "source": [
    "IFrame('./source-solution/02-basic-css/007-specify-how-fonts-should-degrade.html', '100%', 500)"
   ]
  },
  {
   "cell_type": "markdown",
   "metadata": {},
   "source": [
    "### Size Your Images"
   ]
  },
  {
   "cell_type": "markdown",
   "metadata": {},
   "source": [
    "CSS has a property called width that controls an element's `width`. Just like with fonts, we'll use `px` (pixels) to specify the image's width.\n",
    "\n",
    "For example, if we wanted to create a CSS class called `larger-image` that gave HTML elements a width of 500 pixels, we'd use:\n",
    "\n",
    "```HTML\n",
    "<style>\n",
    "  .larger-image {\n",
    "    width: 500px;\n",
    "  }\n",
    "</style>\n",
    "```\n",
    "\n",
    "---\n",
    "Create a class called `smaller-image` and use it to resize the image so that it's only 100 pixels wide.\n",
    "\n",
    "**Note**: Due to browser implementation differences, you may need to be at 100% zoom to pass the tests on this challenge."
   ]
  },
  {
   "cell_type": "markdown",
   "metadata": {},
   "source": [
    "```HTML\n",
    "<link href=\"https://fonts.googleapis.com/css?family=Lobster\" rel=\"stylesheet\" type=\"text/css\">\n",
    "<style>\n",
    "\t.red-text {\n",
    "\t\tcolor: red;\n",
    "\t}\n",
    "\t\n",
    "\th2 {\n",
    "\t\tfont-family: Lobster, monospace;\n",
    "\t}\n",
    "\t\n",
    "\tp {\n",
    "\t\tfont-size: 16px;\n",
    "\t\tfont-family: monospace;\n",
    "\t}\n",
    "\t\n",
    "\t.smaller-image {\n",
    "\t\twidth: 100px;\n",
    "\t}\n",
    "</style>\n",
    "\n",
    "<h2 class=\"red-text\">CatPhotoApp</h2>\n",
    "<main>\n",
    "\t<p class=\"red-text\">Click here to view more <a href=\"#\">cat photos</a>.</p>\n",
    "\n",
    "\t<a href=\"#\"><img class=\"smaller-image\" src=\"https://bit.ly/fcc-relaxing-cat\" alt=\"A cute orange cat lying on its back.\"></a>\n",
    "\n",
    "\t<div>\n",
    "\t\t<p>Things cats love:</p>\n",
    "\t\t<ul>\n",
    "\t\t\t<li>cat nip</li>\n",
    "\t\t\t<li>laser pointers</li>\n",
    "\t\t\t<li>lasagna</li>\n",
    "\t\t</ul>\n",
    "\t\t<p>Top 3 things cats hate:</p>\n",
    "\t\t<ol>\n",
    "\t\t\t<li>flea treatment</li>\n",
    "\t\t\t<li>thunder</li>\n",
    "\t\t\t<li>other cats</li>\n",
    "\t\t</ol>\n",
    "\t</div>\n",
    "\n",
    "\t<form action=\"/submit-cat-photo\">\n",
    "\t\t<label>\n",
    "\t\t\t<input type=\"radio\" name=\"indoor-outdoor\" checked> Indoor</label>\n",
    "\t\t<label>\n",
    "\t\t\t<input type=\"radio\" name=\"indoor-outdoor\"> Outdoor</label>\n",
    "\t\t<br>\n",
    "\t\t<label>\n",
    "\t\t\t<input type=\"checkbox\" name=\"personality\" checked> Loving</label>\n",
    "\t\t<label>\n",
    "\t\t\t<input type=\"checkbox\" name=\"personality\"> Lazy</label>\n",
    "\t\t<label>\n",
    "\t\t\t<input type=\"checkbox\" name=\"personality\"> Energetic</label>\n",
    "\t\t<br>\n",
    "\t\t<input type=\"text\" placeholder=\"cat photo URL\" required>\n",
    "\t\t<button type=\"submit\">Submit</button>\n",
    "\t</form>\n",
    "</main>\n",
    "```"
   ]
  },
  {
   "cell_type": "code",
   "execution_count": 38,
   "metadata": {},
   "outputs": [
    {
     "data": {
      "text/html": [
       "\n",
       "        <iframe\n",
       "            width=\"100%\"\n",
       "            height=\"500\"\n",
       "            src=\"./source-solution/02-basic-css/008-size-your-images.html\"\n",
       "            frameborder=\"0\"\n",
       "            allowfullscreen\n",
       "        ></iframe>\n",
       "        "
      ],
      "text/plain": [
       "<IPython.lib.display.IFrame at 0x17a821c4400>"
      ]
     },
     "execution_count": 38,
     "metadata": {},
     "output_type": "execute_result"
    }
   ],
   "source": [
    "IFrame('./source-solution/02-basic-css/008-size-your-images.html', '100%', 500)"
   ]
  },
  {
   "cell_type": "markdown",
   "metadata": {},
   "source": [
    "### Add Borders Around Your Elements"
   ]
  },
  {
   "cell_type": "markdown",
   "metadata": {},
   "source": [
    "CSS borders have properties like `style`, `color` and `width`.\n",
    "\n",
    "For example, if we wanted to create a red, 5 pixel border around an HTML element, we could use this class:\n",
    "\n",
    "```HTML\n",
    "<style>\n",
    "  .thin-red-border {\n",
    "    border-color: red;\n",
    "    border-width: 5px;\n",
    "    border-style: solid;\n",
    "  }\n",
    "</style>\n",
    "```\n",
    "\n",
    "---\n",
    "Create a class called `thick-green-border`. This class should add a 10px, solid, green border around an HTML element. Apply the `class` to your cat photo.\n",
    "\n",
    "Remember that you can apply multiple classes to an element using its `class` attribute, by separating each class name with a space. For example:\n",
    "\n",
    "`<img class=\"class1 class2\">`"
   ]
  },
  {
   "cell_type": "markdown",
   "metadata": {},
   "source": [
    "```HTML\n",
    "<link href=\"https://fonts.googleapis.com/css?family=Lobster\" rel=\"stylesheet\" type=\"text/css\">\n",
    "<style>\n",
    "\t.red-text {\n",
    "\t\tcolor: red;\n",
    "\t}\n",
    "\t\n",
    "\th2 {\n",
    "\t\tfont-family: Lobster, monospace;\n",
    "\t}\n",
    "\t\n",
    "\tp {\n",
    "\t\tfont-size: 16px;\n",
    "\t\tfont-family: monospace;\n",
    "\t}\n",
    "\t\n",
    "\t.smaller-image {\n",
    "\t\twidth: 100px;\n",
    "\t}\n",
    "\t\n",
    "\t.thick-green-border {\n",
    "\t\tborder-color: green;\n",
    "\t\tborder-width: 10px;\n",
    "\t\tborder-style: solid;\n",
    "\t}\n",
    "</style>\n",
    "\n",
    "<h2 class=\"red-text\">CatPhotoApp</h2>\n",
    "<main>\n",
    "\t<p class=\"red-text\">Click here to view more <a href=\"#\">cat photos</a>.</p>\n",
    "\n",
    "\t<a href=\"#\"><img class=\"smaller-image thick-green-border\" src=\"https://bit.ly/fcc-relaxing-cat\" alt=\"A cute orange cat lying on its back.\"></a>\n",
    "\n",
    "\t<div>\n",
    "\t\t<p>Things cats love:</p>\n",
    "\t\t<ul>\n",
    "\t\t\t<li>cat nip</li>\n",
    "\t\t\t<li>laser pointers</li>\n",
    "\t\t\t<li>lasagna</li>\n",
    "\t\t</ul>\n",
    "\t\t<p>Top 3 things cats hate:</p>\n",
    "\t\t<ol>\n",
    "\t\t\t<li>flea treatment</li>\n",
    "\t\t\t<li>thunder</li>\n",
    "\t\t\t<li>other cats</li>\n",
    "\t\t</ol>\n",
    "\t</div>\n",
    "\n",
    "\t<form action=\"/submit-cat-photo\">\n",
    "\t\t<label>\n",
    "\t\t\t<input type=\"radio\" name=\"indoor-outdoor\" checked> Indoor</label>\n",
    "\t\t<label>\n",
    "\t\t\t<input type=\"radio\" name=\"indoor-outdoor\"> Outdoor</label>\n",
    "\t\t<br>\n",
    "\t\t<label>\n",
    "\t\t\t<input type=\"checkbox\" name=\"personality\" checked> Loving</label>\n",
    "\t\t<label>\n",
    "\t\t\t<input type=\"checkbox\" name=\"personality\"> Lazy</label>\n",
    "\t\t<label>\n",
    "\t\t\t<input type=\"checkbox\" name=\"personality\"> Energetic</label>\n",
    "\t\t<br>\n",
    "\t\t<input type=\"text\" placeholder=\"cat photo URL\" required>\n",
    "\t\t<button type=\"submit\">Submit</button>\n",
    "\t</form>\n",
    "</main>\n",
    "```"
   ]
  },
  {
   "cell_type": "code",
   "execution_count": 39,
   "metadata": {},
   "outputs": [
    {
     "data": {
      "text/html": [
       "\n",
       "        <iframe\n",
       "            width=\"100%\"\n",
       "            height=\"500\"\n",
       "            src=\"./source-solution/02-basic-css/009-add-borders-around-your-elements.html\"\n",
       "            frameborder=\"0\"\n",
       "            allowfullscreen\n",
       "        ></iframe>\n",
       "        "
      ],
      "text/plain": [
       "<IPython.lib.display.IFrame at 0x17a821c4780>"
      ]
     },
     "execution_count": 39,
     "metadata": {},
     "output_type": "execute_result"
    }
   ],
   "source": [
    "IFrame('./source-solution/02-basic-css/009-add-borders-around-your-elements.html', '100%', 500)"
   ]
  },
  {
   "cell_type": "markdown",
   "metadata": {},
   "source": [
    "### Add Rounded Corners with border-radius"
   ]
  },
  {
   "cell_type": "markdown",
   "metadata": {},
   "source": [
    "Your cat photo currently has sharp corners. We can round out those corners with a CSS property called `border-radius`.\n",
    "\n",
    "---\n",
    "You can specify a `border-radius` with pixels. Give your cat photo a `border-radius` of `10px`.\n",
    "\n",
    "**Note**: This challenge allows for multiple possible solutions. For example, you may add `border-radius` to either the `.thick-green-border` class or the `.smaller-image` class."
   ]
  },
  {
   "cell_type": "markdown",
   "metadata": {},
   "source": [
    "```HTML\n",
    "<link href=\"https://fonts.googleapis.com/css?family=Lobster\" rel=\"stylesheet\" type=\"text/css\">\n",
    "<style>\n",
    "\t.red-text {\n",
    "\t\tcolor: red;\n",
    "\t}\n",
    "\t\n",
    "\th2 {\n",
    "\t\tfont-family: Lobster, monospace;\n",
    "\t}\n",
    "\t\n",
    "\tp {\n",
    "\t\tfont-size: 16px;\n",
    "\t\tfont-family: monospace;\n",
    "\t}\n",
    "\t\n",
    "\t.thick-green-border {\n",
    "\t\tborder-color: green;\n",
    "\t\tborder-width: 10px;\n",
    "\t\tborder-style: solid;\n",
    "\t\tborder-radius: 10px;\n",
    "\t}\n",
    "\t\n",
    "\t.smaller-image {\n",
    "\t\twidth: 100px;\n",
    "\t}\n",
    "</style>\n",
    "\n",
    "<h2 class=\"red-text\">CatPhotoApp</h2>\n",
    "<main>\n",
    "\t<p class=\"red-text\">Click here to view more <a href=\"#\">cat photos</a>.</p>\n",
    "\n",
    "\t<a href=\"#\"><img class=\"smaller-image thick-green-border\" src=\"https://bit.ly/fcc-relaxing-cat\" alt=\"A cute orange cat lying on its back.\"></a>\n",
    "\n",
    "\t<div>\n",
    "\t\t<p>Things cats love:</p>\n",
    "\t\t<ul>\n",
    "\t\t\t<li>cat nip</li>\n",
    "\t\t\t<li>laser pointers</li>\n",
    "\t\t\t<li>lasagna</li>\n",
    "\t\t</ul>\n",
    "\t\t<p>Top 3 things cats hate:</p>\n",
    "\t\t<ol>\n",
    "\t\t\t<li>flea treatment</li>\n",
    "\t\t\t<li>thunder</li>\n",
    "\t\t\t<li>other cats</li>\n",
    "\t\t</ol>\n",
    "\t</div>\n",
    "\n",
    "\t<form action=\"/submit-cat-photo\">\n",
    "\t\t<label>\n",
    "\t\t\t<input type=\"radio\" name=\"indoor-outdoor\" checked> Indoor</label>\n",
    "\t\t<label>\n",
    "\t\t\t<input type=\"radio\" name=\"indoor-outdoor\"> Outdoor</label>\n",
    "\t\t<br>\n",
    "\t\t<label>\n",
    "\t\t\t<input type=\"checkbox\" name=\"personality\" checked> Loving</label>\n",
    "\t\t<label>\n",
    "\t\t\t<input type=\"checkbox\" name=\"personality\"> Lazy</label>\n",
    "\t\t<label>\n",
    "\t\t\t<input type=\"checkbox\" name=\"personality\"> Energetic</label>\n",
    "\t\t<br>\n",
    "\t\t<input type=\"text\" placeholder=\"cat photo URL\" required>\n",
    "\t\t<button type=\"submit\">Submit</button>\n",
    "\t</form>\n",
    "</main>\n",
    "```"
   ]
  },
  {
   "cell_type": "code",
   "execution_count": 40,
   "metadata": {},
   "outputs": [
    {
     "data": {
      "text/html": [
       "\n",
       "        <iframe\n",
       "            width=\"100%\"\n",
       "            height=\"500\"\n",
       "            src=\"./source-solution/02-basic-css/010-add-rounded-corners-with-border-radius.html\"\n",
       "            frameborder=\"0\"\n",
       "            allowfullscreen\n",
       "        ></iframe>\n",
       "        "
      ],
      "text/plain": [
       "<IPython.lib.display.IFrame at 0x17a821c49b0>"
      ]
     },
     "execution_count": 40,
     "metadata": {},
     "output_type": "execute_result"
    }
   ],
   "source": [
    "IFrame('./source-solution/02-basic-css/010-add-rounded-corners-with-border-radius.html', '100%', 500)"
   ]
  },
  {
   "cell_type": "markdown",
   "metadata": {},
   "source": [
    "### Make Circular Images with a border-radius"
   ]
  },
  {
   "cell_type": "markdown",
   "metadata": {},
   "source": [
    "In addition to pixels, you can also specify the `border-radius` using a percentage.\n",
    "\n",
    "---\n",
    "Give your cat photo a `border-radius` of `50%`."
   ]
  },
  {
   "cell_type": "markdown",
   "metadata": {},
   "source": [
    "```HTML\n",
    "<link href=\"https://fonts.googleapis.com/css?family=Lobster\" rel=\"stylesheet\" type=\"text/css\">\n",
    "<style>\n",
    "\t.red-text {\n",
    "\t\tcolor: red;\n",
    "\t}\n",
    "\t\n",
    "\th2 {\n",
    "\t\tfont-family: Lobster, monospace;\n",
    "\t}\n",
    "\t\n",
    "\tp {\n",
    "\t\tfont-size: 16px;\n",
    "\t\tfont-family: monospace;\n",
    "\t}\n",
    "\t\n",
    "\t.thick-green-border {\n",
    "\t\tborder-color: green;\n",
    "\t\tborder-width: 10px;\n",
    "\t\tborder-style: solid;\n",
    "\t\tborder-radius: 50%;\n",
    "\t}\n",
    "\t\n",
    "\t.smaller-image {\n",
    "\t\twidth: 100px;\n",
    "\t}\n",
    "</style>\n",
    "\n",
    "<h2 class=\"red-text\">CatPhotoApp</h2>\n",
    "<main>\n",
    "\t<p class=\"red-text\">Click here to view more <a href=\"#\">cat photos</a>.</p>\n",
    "\n",
    "\t<a href=\"#\"><img class=\"smaller-image thick-green-border\" src=\"https://bit.ly/fcc-relaxing-cat\" alt=\"A cute orange cat lying on its back.\"></a>\n",
    "\n",
    "\t<div>\n",
    "\t\t<p>Things cats love:</p>\n",
    "\t\t<ul>\n",
    "\t\t\t<li>cat nip</li>\n",
    "\t\t\t<li>laser pointers</li>\n",
    "\t\t\t<li>lasagna</li>\n",
    "\t\t</ul>\n",
    "\t\t<p>Top 3 things cats hate:</p>\n",
    "\t\t<ol>\n",
    "\t\t\t<li>flea treatment</li>\n",
    "\t\t\t<li>thunder</li>\n",
    "\t\t\t<li>other cats</li>\n",
    "\t\t</ol>\n",
    "\t</div>\n",
    "\n",
    "\t<form action=\"/submit-cat-photo\">\n",
    "\t\t<label>\n",
    "\t\t\t<input type=\"radio\" name=\"indoor-outdoor\" checked> Indoor</label>\n",
    "\t\t<label>\n",
    "\t\t\t<input type=\"radio\" name=\"indoor-outdoor\"> Outdoor</label>\n",
    "\t\t<br>\n",
    "\t\t<label>\n",
    "\t\t\t<input type=\"checkbox\" name=\"personality\" checked> Loving</label>\n",
    "\t\t<label>\n",
    "\t\t\t<input type=\"checkbox\" name=\"personality\"> Lazy</label>\n",
    "\t\t<label>\n",
    "\t\t\t<input type=\"checkbox\" name=\"personality\"> Energetic</label>\n",
    "\t\t<br>\n",
    "\t\t<input type=\"text\" placeholder=\"cat photo URL\" required>\n",
    "\t\t<button type=\"submit\">Submit</button>\n",
    "\t</form>\n",
    "</main>\n",
    "```"
   ]
  },
  {
   "cell_type": "code",
   "execution_count": 41,
   "metadata": {},
   "outputs": [
    {
     "data": {
      "text/html": [
       "\n",
       "        <iframe\n",
       "            width=\"100%\"\n",
       "            height=\"500\"\n",
       "            src=\"./source-solution/02-basic-css/011-make-circular-images-with-a-border-radius.html\"\n",
       "            frameborder=\"0\"\n",
       "            allowfullscreen\n",
       "        ></iframe>\n",
       "        "
      ],
      "text/plain": [
       "<IPython.lib.display.IFrame at 0x17a821c4e10>"
      ]
     },
     "execution_count": 41,
     "metadata": {},
     "output_type": "execute_result"
    }
   ],
   "source": [
    "IFrame('./source-solution/02-basic-css/011-make-circular-images-with-a-border-radius.html', '100%', 500)"
   ]
  },
  {
   "cell_type": "markdown",
   "metadata": {},
   "source": [
    "### Give a Background Color to a div Element"
   ]
  },
  {
   "cell_type": "markdown",
   "metadata": {},
   "source": [
    "You can set an element's background color with the `background-color` property.\n",
    "\n",
    "For example, if you wanted an element's background color to be `green`, you'd put this within your `style` element:\n",
    "\n",
    "```CSS\n",
    ".green-background {\n",
    "  background-color: green;\n",
    "}\n",
    "```\n",
    "\n",
    "---\n",
    "Create a class called `silver-background` with the `background-color` of silver. Assign this class to your `div` element."
   ]
  },
  {
   "cell_type": "markdown",
   "metadata": {},
   "source": [
    "```HTML\n",
    "<link href=\"https://fonts.googleapis.com/css?family=Lobster\" rel=\"stylesheet\" type=\"text/css\">\n",
    "<style>\n",
    "\t.red-text {\n",
    "\t\tcolor: red;\n",
    "\t}\n",
    "\t\n",
    "\th2 {\n",
    "\t\tfont-family: Lobster, monospace;\n",
    "\t}\n",
    "\t\n",
    "\tp {\n",
    "\t\tfont-size: 16px;\n",
    "\t\tfont-family: monospace;\n",
    "\t}\n",
    "\t\n",
    "\t.thick-green-border {\n",
    "\t\tborder-color: green;\n",
    "\t\tborder-width: 10px;\n",
    "\t\tborder-style: solid;\n",
    "\t\tborder-radius: 50%;\n",
    "\t}\n",
    "\t\n",
    "\t.smaller-image {\n",
    "\t\twidth: 100px;\n",
    "\t}\n",
    "\t\n",
    "\t.silver-background {\n",
    "\t\tbackground-color: silver;\n",
    "\t}\n",
    "</style>\n",
    "\n",
    "<h2 class=\"red-text\">CatPhotoApp</h2>\n",
    "<main>\n",
    "\t<p class=\"red-text\">Click here to view more <a href=\"#\">cat photos</a>.</p>\n",
    "\n",
    "\t<a href=\"#\"><img class=\"smaller-image thick-green-border\" src=\"https://bit.ly/fcc-relaxing-cat\" alt=\"A cute orange cat lying on its back.\"></a>\n",
    "\n",
    "\t<div class=\"silver-background\">\n",
    "\t\t<p>Things cats love:</p>\n",
    "\t\t<ul>\n",
    "\t\t\t<li>cat nip</li>\n",
    "\t\t\t<li>laser pointers</li>\n",
    "\t\t\t<li>lasagna</li>\n",
    "\t\t</ul>\n",
    "\t\t<p>Top 3 things cats hate:</p>\n",
    "\t\t<ol>\n",
    "\t\t\t<li>flea treatment</li>\n",
    "\t\t\t<li>thunder</li>\n",
    "\t\t\t<li>other cats</li>\n",
    "\t\t</ol>\n",
    "\t</div>\n",
    "\n",
    "\t<form action=\"/submit-cat-photo\">\n",
    "\t\t<label>\n",
    "\t\t\t<input type=\"radio\" name=\"indoor-outdoor\" checked> Indoor</label>\n",
    "\t\t<label>\n",
    "\t\t\t<input type=\"radio\" name=\"indoor-outdoor\"> Outdoor</label>\n",
    "\t\t<br>\n",
    "\t\t<label>\n",
    "\t\t\t<input type=\"checkbox\" name=\"personality\" checked> Loving</label>\n",
    "\t\t<label>\n",
    "\t\t\t<input type=\"checkbox\" name=\"personality\"> Lazy</label>\n",
    "\t\t<label>\n",
    "\t\t\t<input type=\"checkbox\" name=\"personality\"> Energetic</label>\n",
    "\t\t<br>\n",
    "\t\t<input type=\"text\" placeholder=\"cat photo URL\" required>\n",
    "\t\t<button type=\"submit\">Submit</button>\n",
    "\t</form>\n",
    "</main>\n",
    "```"
   ]
  },
  {
   "cell_type": "code",
   "execution_count": 42,
   "metadata": {},
   "outputs": [
    {
     "data": {
      "text/html": [
       "\n",
       "        <iframe\n",
       "            width=\"100%\"\n",
       "            height=\"500\"\n",
       "            src=\"./source-solution/02-basic-css/012-give-a-background-color-to-a-div-element.html\"\n",
       "            frameborder=\"0\"\n",
       "            allowfullscreen\n",
       "        ></iframe>\n",
       "        "
      ],
      "text/plain": [
       "<IPython.lib.display.IFrame at 0x17a821c90b8>"
      ]
     },
     "execution_count": 42,
     "metadata": {},
     "output_type": "execute_result"
    }
   ],
   "source": [
    "IFrame('./source-solution/02-basic-css/012-give-a-background-color-to-a-div-element.html', '100%', 500)"
   ]
  },
  {
   "cell_type": "markdown",
   "metadata": {},
   "source": [
    "### Set the id of an Element"
   ]
  },
  {
   "cell_type": "markdown",
   "metadata": {},
   "source": [
    "In addition to classes, each HTML element can also have an `id` attribute.\n",
    "\n",
    "There are several benefits to using `id` attributes: You can use an `id` to style a single element and later you'll learn that you can use them to select and modify specific elements with JavaScript.\n",
    "\n",
    "`id` attributes should be unique. Browsers won't enforce this, but it is a widely agreed upon best practice. So please don't give more than one element the same `id` attribute.\n",
    "\n",
    "Here's an example of how you give your `h2` element the id of `cat-photo-app`:\n",
    "\n",
    "`<h2 id=\"cat-photo-app\">`\n",
    "\n",
    "---\n",
    "Give your `form` element the id `cat-photo-form`."
   ]
  },
  {
   "cell_type": "markdown",
   "metadata": {},
   "source": [
    "```HTML\n",
    "<link href=\"https://fonts.googleapis.com/css?family=Lobster\" rel=\"stylesheet\" type=\"text/css\">\n",
    "<style>\n",
    "\t.red-text {\n",
    "\t\tcolor: red;\n",
    "\t}\n",
    "\t\n",
    "\th2 {\n",
    "\t\tfont-family: Lobster, monospace;\n",
    "\t}\n",
    "\t\n",
    "\tp {\n",
    "\t\tfont-size: 16px;\n",
    "\t\tfont-family: monospace;\n",
    "\t}\n",
    "\t\n",
    "\t.thick-green-border {\n",
    "\t\tborder-color: green;\n",
    "\t\tborder-width: 10px;\n",
    "\t\tborder-style: solid;\n",
    "\t\tborder-radius: 50%;\n",
    "\t}\n",
    "\t\n",
    "\t.smaller-image {\n",
    "\t\twidth: 100px;\n",
    "\t}\n",
    "\t\n",
    "\t.silver-background {\n",
    "\t\tbackground-color: silver;\n",
    "\t}\n",
    "</style>\n",
    "\n",
    "<h2 class=\"red-text\">CatPhotoApp</h2>\n",
    "<main>\n",
    "\t<p class=\"red-text\">Click here to view more <a href=\"#\">cat photos</a>.</p>\n",
    "\n",
    "\t<a href=\"#\"><img class=\"smaller-image thick-green-border\" src=\"https://bit.ly/fcc-relaxing-cat\" alt=\"A cute orange cat lying on its back.\"></a>\n",
    "\n",
    "\t<div class=\"silver-background\">\n",
    "\t\t<p>Things cats love:</p>\n",
    "\t\t<ul>\n",
    "\t\t\t<li>cat nip</li>\n",
    "\t\t\t<li>laser pointers</li>\n",
    "\t\t\t<li>lasagna</li>\n",
    "\t\t</ul>\n",
    "\t\t<p>Top 3 things cats hate:</p>\n",
    "\t\t<ol>\n",
    "\t\t\t<li>flea treatment</li>\n",
    "\t\t\t<li>thunder</li>\n",
    "\t\t\t<li>other cats</li>\n",
    "\t\t</ol>\n",
    "\t</div>\n",
    "\n",
    "\t<form id=\"cat-photo-form\" action=\"/submit-cat-photo\">\n",
    "\t\t<label>\n",
    "\t\t\t<input type=\"radio\" name=\"indoor-outdoor\" checked> Indoor</label>\n",
    "\t\t<label>\n",
    "\t\t\t<input type=\"radio\" name=\"indoor-outdoor\"> Outdoor</label>\n",
    "\t\t<br>\n",
    "\t\t<label>\n",
    "\t\t\t<input type=\"checkbox\" name=\"personality\" checked> Loving</label>\n",
    "\t\t<label>\n",
    "\t\t\t<input type=\"checkbox\" name=\"personality\"> Lazy</label>\n",
    "\t\t<label>\n",
    "\t\t\t<input type=\"checkbox\" name=\"personality\"> Energetic</label>\n",
    "\t\t<br>\n",
    "\t\t<input type=\"text\" placeholder=\"cat photo URL\" required>\n",
    "\t\t<button type=\"submit\">Submit</button>\n",
    "\t</form>\n",
    "</main>\n",
    "```"
   ]
  },
  {
   "cell_type": "code",
   "execution_count": 43,
   "metadata": {},
   "outputs": [
    {
     "data": {
      "text/html": [
       "\n",
       "        <iframe\n",
       "            width=\"100%\"\n",
       "            height=\"500\"\n",
       "            src=\"./source-solution/02-basic-css/013-set-the-id-of-an-element.html\"\n",
       "            frameborder=\"0\"\n",
       "            allowfullscreen\n",
       "        ></iframe>\n",
       "        "
      ],
      "text/plain": [
       "<IPython.lib.display.IFrame at 0x17a821c9518>"
      ]
     },
     "execution_count": 43,
     "metadata": {},
     "output_type": "execute_result"
    }
   ],
   "source": [
    "IFrame('./source-solution/02-basic-css/013-set-the-id-of-an-element.html', '100%', 500)"
   ]
  },
  {
   "cell_type": "markdown",
   "metadata": {},
   "source": [
    "### Use an id Attribute to Style an Element"
   ]
  },
  {
   "cell_type": "markdown",
   "metadata": {},
   "source": [
    "One cool thing about `id` attributes is that, like classes, you can style them using CSS.\n",
    "\n",
    "However, an `id` is not reusable and should only be applied to one element. An id also has a higher specificity (importance) than a class so if both are applied to the same element and have conflicting styles, the styles of the `id` will be applied.\n",
    "\n",
    "Here's an example of how you can take your element with the `id` attribute of `cat-photo-element` and give it the background color of green. In your `style` element:\n",
    "\n",
    "```CSS\n",
    "#cat-photo-element {\n",
    "  background-color: green;\n",
    "}\n",
    "```\n",
    "\n",
    "Note that inside your `style` element, you always reference classes by putting a `.` in front of their names. You always reference ids by putting a `#` in front of their names.\n",
    "\n",
    "---\n",
    "Try giving your form, which now has the `id` attribute of `cat-photo-form`, a green background."
   ]
  },
  {
   "cell_type": "markdown",
   "metadata": {},
   "source": [
    "```HTML\n",
    "<link href=\"https://fonts.googleapis.com/css?family=Lobster\" rel=\"stylesheet\" type=\"text/css\">\n",
    "<style>\n",
    "\t.red-text {\n",
    "\t\tcolor: red;\n",
    "\t}\n",
    "\t\n",
    "\th2 {\n",
    "\t\tfont-family: Lobster, monospace;\n",
    "\t}\n",
    "\t\n",
    "\tp {\n",
    "\t\tfont-size: 16px;\n",
    "\t\tfont-family: monospace;\n",
    "\t}\n",
    "\t\n",
    "\t.thick-green-border {\n",
    "\t\tborder-color: green;\n",
    "\t\tborder-width: 10px;\n",
    "\t\tborder-style: solid;\n",
    "\t\tborder-radius: 50%;\n",
    "\t}\n",
    "\t\n",
    "\t.smaller-image {\n",
    "\t\twidth: 100px;\n",
    "\t}\n",
    "\t\n",
    "\t.silver-background {\n",
    "\t\tbackground-color: silver;\n",
    "\t}\n",
    "\t\n",
    "\t#cat-photo-form {\n",
    "\t\tbackground-color: green;\n",
    "\t}\n",
    "</style>\n",
    "\n",
    "<h2 class=\"red-text\">CatPhotoApp</h2>\n",
    "<main>\n",
    "\t<p class=\"red-text\">Click here to view more <a href=\"#\">cat photos</a>.</p>\n",
    "\n",
    "\t<a href=\"#\"><img class=\"smaller-image thick-green-border\" src=\"https://bit.ly/fcc-relaxing-cat\" alt=\"A cute orange cat lying on its back.\"></a>\n",
    "\n",
    "\t<div class=\"silver-background\">\n",
    "\t\t<p>Things cats love:</p>\n",
    "\t\t<ul>\n",
    "\t\t\t<li>cat nip</li>\n",
    "\t\t\t<li>laser pointers</li>\n",
    "\t\t\t<li>lasagna</li>\n",
    "\t\t</ul>\n",
    "\t\t<p>Top 3 things cats hate:</p>\n",
    "\t\t<ol>\n",
    "\t\t\t<li>flea treatment</li>\n",
    "\t\t\t<li>thunder</li>\n",
    "\t\t\t<li>other cats</li>\n",
    "\t\t</ol>\n",
    "\t</div>\n",
    "\n",
    "\t<form action=\"/submit-cat-photo\" id=\"cat-photo-form\">\n",
    "\t\t<label>\n",
    "\t\t\t<input type=\"radio\" name=\"indoor-outdoor\" checked> Indoor</label>\n",
    "\t\t<label>\n",
    "\t\t\t<input type=\"radio\" name=\"indoor-outdoor\"> Outdoor</label>\n",
    "\t\t<br>\n",
    "\t\t<label>\n",
    "\t\t\t<input type=\"checkbox\" name=\"personality\" checked> Loving</label>\n",
    "\t\t<label>\n",
    "\t\t\t<input type=\"checkbox\" name=\"personality\"> Lazy</label>\n",
    "\t\t<label>\n",
    "\t\t\t<input type=\"checkbox\" name=\"personality\"> Energetic</label>\n",
    "\t\t<br>\n",
    "\t\t<input type=\"text\" placeholder=\"cat photo URL\" required>\n",
    "\t\t<button type=\"submit\">Submit</button>\n",
    "\t</form>\n",
    "</main>\n",
    "```"
   ]
  },
  {
   "cell_type": "code",
   "execution_count": 44,
   "metadata": {},
   "outputs": [
    {
     "data": {
      "text/html": [
       "\n",
       "        <iframe\n",
       "            width=\"100%\"\n",
       "            height=\"500\"\n",
       "            src=\"./source-solution/02-basic-css/014-use-an-id-attribute-to-style-an-element.html\"\n",
       "            frameborder=\"0\"\n",
       "            allowfullscreen\n",
       "        ></iframe>\n",
       "        "
      ],
      "text/plain": [
       "<IPython.lib.display.IFrame at 0x17a821c97f0>"
      ]
     },
     "execution_count": 44,
     "metadata": {},
     "output_type": "execute_result"
    }
   ],
   "source": [
    "IFrame('./source-solution/02-basic-css/014-use-an-id-attribute-to-style-an-element.html', '100%', 500)"
   ]
  },
  {
   "cell_type": "markdown",
   "metadata": {},
   "source": [
    "### Adjust the Padding of an Element"
   ]
  },
  {
   "cell_type": "markdown",
   "metadata": {},
   "source": [
    "Now let's put our Cat Photo App away for a little while and learn more about styling HTML.\n",
    "\n",
    "You may have already noticed this, but all HTML elements are essentially little rectangles.\n",
    "\n",
    "Three important properties control the space that surrounds each HTML element: `padding`, `margin`, and `border`.\n",
    "\n",
    "An element's `padding` controls the amount of space between the element's content and its `border`.\n",
    "\n",
    "Here, we can see that the blue box and the red box are nested within the yellow box. Note that the red box has more `padding` than the blue box.\n",
    "\n",
    "When you increase the blue box's `padding`, it will increase the distance (`padding`) between the text and the border around it.\n",
    "\n",
    "---\n",
    "Change the `padding` of your blue box to match that of your red box."
   ]
  },
  {
   "cell_type": "markdown",
   "metadata": {},
   "source": [
    "```HTML\n",
    "<style>\n",
    "\t.injected-text {\n",
    "\t\tmargin-bottom: -25px;\n",
    "\t\ttext-align: center;\n",
    "\t}\n",
    "\t\n",
    "\t.box {\n",
    "\t\tborder-style: solid;\n",
    "\t\tborder-color: black;\n",
    "\t\tborder-width: 5px;\n",
    "\t\ttext-align: center;\n",
    "\t}\n",
    "\t\n",
    "\t.yellow-box {\n",
    "\t\tbackground-color: yellow;\n",
    "\t\tpadding: 10px;\n",
    "\t}\n",
    "\t\n",
    "\t.red-box {\n",
    "\t\tbackground-color: crimson;\n",
    "\t\tcolor: #fff;\n",
    "\t\tpadding: 20px;\n",
    "\t}\n",
    "\t\n",
    "\t.blue-box {\n",
    "\t\tbackground-color: blue;\n",
    "\t\tcolor: #fff;\n",
    "\t\tpadding: 20px;\n",
    "\t}\n",
    "</style>\n",
    "<h5 class=\"injected-text\">margin</h5>\n",
    "\n",
    "<div class=\"box yellow-box\">\n",
    "\t<h5 class=\"box red-box\">padding</h5>\n",
    "\t<h5 class=\"box blue-box\">padding</h5>\n",
    "</div>\n",
    "```"
   ]
  },
  {
   "cell_type": "code",
   "execution_count": 45,
   "metadata": {},
   "outputs": [
    {
     "data": {
      "text/html": [
       "\n",
       "        <iframe\n",
       "            width=\"100%\"\n",
       "            height=\"500\"\n",
       "            src=\"./source-solution/02-basic-css/015-adjust-the-padding-of-an-element.html\"\n",
       "            frameborder=\"0\"\n",
       "            allowfullscreen\n",
       "        ></iframe>\n",
       "        "
      ],
      "text/plain": [
       "<IPython.lib.display.IFrame at 0x17a821c9a90>"
      ]
     },
     "execution_count": 45,
     "metadata": {},
     "output_type": "execute_result"
    }
   ],
   "source": [
    "IFrame('./source-solution/02-basic-css/015-adjust-the-padding-of-an-element.html', '100%', 500)"
   ]
  },
  {
   "cell_type": "markdown",
   "metadata": {},
   "source": [
    "### Adjust the Margin of an Element"
   ]
  },
  {
   "cell_type": "markdown",
   "metadata": {},
   "source": [
    "An element's `margin` controls the amount of space between an element's `border` and surrounding elements.\n",
    "\n",
    "Here, we can see that the blue box and the red box are nested within the yellow box. Note that the red box has a bigger `margin` than the blue box, making it appear smaller.\n",
    "\n",
    "When you increase the blue box's `margin`, it will increase the distance between its border and surrounding elements.\n",
    "\n",
    "---\n",
    "Change the `margin` of the blue box to match that of the red box."
   ]
  },
  {
   "cell_type": "markdown",
   "metadata": {},
   "source": [
    "```HTML\n",
    "<style>\n",
    "\t.injected-text {\n",
    "\t\tmargin-bottom: -25px;\n",
    "\t\ttext-align: center;\n",
    "\t}\n",
    "\t\n",
    "\t.box {\n",
    "\t\tborder-style: solid;\n",
    "\t\tborder-color: black;\n",
    "\t\tborder-width: 5px;\n",
    "\t\ttext-align: center;\n",
    "\t}\n",
    "\t\n",
    "\t.yellow-box {\n",
    "\t\tbackground-color: yellow;\n",
    "\t\tpadding: 10px;\n",
    "\t}\n",
    "\t\n",
    "\t.red-box {\n",
    "\t\tbackground-color: crimson;\n",
    "\t\tcolor: #fff;\n",
    "\t\tpadding: 20px;\n",
    "\t\tmargin: 20px;\n",
    "\t}\n",
    "\t\n",
    "\t.blue-box {\n",
    "\t\tbackground-color: blue;\n",
    "\t\tcolor: #fff;\n",
    "\t\tpadding: 20px;\n",
    "\t\tmargin: 20px;\n",
    "\t}\n",
    "</style>\n",
    "<h5 class=\"injected-text\">margin</h5>\n",
    "\n",
    "<div class=\"box yellow-box\">\n",
    "\t<h5 class=\"box red-box\">padding</h5>\n",
    "\t<h5 class=\"box blue-box\">padding</h5>\n",
    "</div>\n",
    "```"
   ]
  },
  {
   "cell_type": "code",
   "execution_count": 46,
   "metadata": {},
   "outputs": [
    {
     "data": {
      "text/html": [
       "\n",
       "        <iframe\n",
       "            width=\"100%\"\n",
       "            height=\"500\"\n",
       "            src=\"./source-solution/02-basic-css/016-adjust-the-margin-of-an-element.html\"\n",
       "            frameborder=\"0\"\n",
       "            allowfullscreen\n",
       "        ></iframe>\n",
       "        "
      ],
      "text/plain": [
       "<IPython.lib.display.IFrame at 0x17a821c9da0>"
      ]
     },
     "execution_count": 46,
     "metadata": {},
     "output_type": "execute_result"
    }
   ],
   "source": [
    "IFrame('./source-solution/02-basic-css/016-adjust-the-margin-of-an-element.html', '100%', 500)"
   ]
  },
  {
   "cell_type": "markdown",
   "metadata": {},
   "source": [
    "### Add a Negative Margin to an Element"
   ]
  },
  {
   "cell_type": "markdown",
   "metadata": {},
   "source": [
    "An element's `margin` controls the amount of space between an element's `border` and surrounding elements.\n",
    "\n",
    "If you set an element's `margin` to a negative value, the element will grow larger.\n",
    "\n",
    "---\n",
    "Try to set the `margin` to a negative value like the one for the red box.\n",
    "\n",
    "Change the `margin` of the blue box to `-15px`, so it fills the entire horizontal width of the yellow box around it."
   ]
  },
  {
   "cell_type": "markdown",
   "metadata": {},
   "source": [
    "```HTML\n",
    "<style>\n",
    "\t.injected-text {\n",
    "\t\tmargin-bottom: -25px;\n",
    "\t\ttext-align: center;\n",
    "\t}\n",
    "\t\n",
    "\t.box {\n",
    "\t\tborder-style: solid;\n",
    "\t\tborder-color: black;\n",
    "\t\tborder-width: 5px;\n",
    "\t\ttext-align: center;\n",
    "\t}\n",
    "\t\n",
    "\t.yellow-box {\n",
    "\t\tbackground-color: yellow;\n",
    "\t\tpadding: 10px;\n",
    "\t}\n",
    "\t\n",
    "\t.red-box {\n",
    "\t\tbackground-color: crimson;\n",
    "\t\tcolor: #fff;\n",
    "\t\tpadding: 20px;\n",
    "\t\tmargin: -15px;\n",
    "\t}\n",
    "\t\n",
    "\t.blue-box {\n",
    "\t\tbackground-color: blue;\n",
    "\t\tcolor: #fff;\n",
    "\t\tpadding: 20px;\n",
    "\t\tmargin: -15px;\n",
    "\t}\n",
    "</style>\n",
    "\n",
    "<div class=\"box yellow-box\">\n",
    "\t<h5 class=\"box red-box\">padding</h5>\n",
    "\t<h5 class=\"box blue-box\">padding</h5>\n",
    "</div>\n",
    "```"
   ]
  },
  {
   "cell_type": "code",
   "execution_count": 47,
   "metadata": {},
   "outputs": [
    {
     "data": {
      "text/html": [
       "\n",
       "        <iframe\n",
       "            width=\"100%\"\n",
       "            height=\"500\"\n",
       "            src=\"./source-solution/02-basic-css/017-add-a-negative-margin-to-an-element.html\"\n",
       "            frameborder=\"0\"\n",
       "            allowfullscreen\n",
       "        ></iframe>\n",
       "        "
      ],
      "text/plain": [
       "<IPython.lib.display.IFrame at 0x17a821b0208>"
      ]
     },
     "execution_count": 47,
     "metadata": {},
     "output_type": "execute_result"
    }
   ],
   "source": [
    "IFrame('./source-solution/02-basic-css/017-add-a-negative-margin-to-an-element.html', '100%', 500)"
   ]
  },
  {
   "cell_type": "markdown",
   "metadata": {},
   "source": [
    "### Add Different Padding to Each Side of an Element"
   ]
  },
  {
   "cell_type": "markdown",
   "metadata": {},
   "source": [
    "Sometimes you will want to customize an element so that it has different amounts of `padding` on each of its sides.\n",
    "\n",
    "CSS allows you to control the `padding` of all four individual sides of an element with the `padding-top`, `padding-right`, `padding-bottom`, and `padding-left` properties.\n",
    "\n",
    "---\n",
    "Give the blue box a `padding` of `40px` on its top and left side, but only `20px` on its bottom and right side."
   ]
  },
  {
   "cell_type": "markdown",
   "metadata": {},
   "source": [
    "```HTML\n",
    "<style>\n",
    "\t.injected-text {\n",
    "\t\tmargin-bottom: -25px;\n",
    "\t\ttext-align: center;\n",
    "\t}\n",
    "\t\n",
    "\t.box {\n",
    "\t\tborder-style: solid;\n",
    "\t\tborder-color: black;\n",
    "\t\tborder-width: 5px;\n",
    "\t\ttext-align: center;\n",
    "\t}\n",
    "\t\n",
    "\t.yellow-box {\n",
    "\t\tbackground-color: yellow;\n",
    "\t\tpadding: 10px;\n",
    "\t}\n",
    "\t\n",
    "\t.red-box {\n",
    "\t\tbackground-color: crimson;\n",
    "\t\tcolor: #fff;\n",
    "\t\tpadding-top: 40px;\n",
    "\t\tpadding-right: 20px;\n",
    "\t\tpadding-bottom: 20px;\n",
    "\t\tpadding-left: 40px;\n",
    "\t}\n",
    "\t\n",
    "\t.blue-box {\n",
    "\t\tbackground-color: blue;\n",
    "\t\tcolor: #fff;\n",
    "\t\tpadding-top: 40px;\n",
    "\t\tpadding-left: 40px;\n",
    "\t\tpadding-bottom: 20px;\n",
    "\t\tpadding-right: 20px;\n",
    "\t}\n",
    "</style>\n",
    "<h5 class=\"injected-text\">margin</h5>\n",
    "\n",
    "<div class=\"box yellow-box\">\n",
    "\t<h5 class=\"box red-box\">padding</h5>\n",
    "\t<h5 class=\"box blue-box\">padding</h5>\n",
    "</div>\n",
    "```"
   ]
  },
  {
   "cell_type": "code",
   "execution_count": 48,
   "metadata": {},
   "outputs": [
    {
     "data": {
      "text/html": [
       "\n",
       "        <iframe\n",
       "            width=\"100%\"\n",
       "            height=\"500\"\n",
       "            src=\"./source-solution/02-basic-css/018-add-different-padding-to-each-side-of-an-element.html\"\n",
       "            frameborder=\"0\"\n",
       "            allowfullscreen\n",
       "        ></iframe>\n",
       "        "
      ],
      "text/plain": [
       "<IPython.lib.display.IFrame at 0x17a821b04e0>"
      ]
     },
     "execution_count": 48,
     "metadata": {},
     "output_type": "execute_result"
    }
   ],
   "source": [
    "IFrame('./source-solution/02-basic-css/018-add-different-padding-to-each-side-of-an-element.html', '100%', 500)"
   ]
  },
  {
   "cell_type": "markdown",
   "metadata": {},
   "source": [
    "### Add Different Margins to Each Side of an Element"
   ]
  },
  {
   "cell_type": "markdown",
   "metadata": {},
   "source": [
    "Sometimes you will want to customize an element so that it has a different `margin` on each of its sides.\n",
    "\n",
    "CSS allows you to control the `margin` of all four individual sides of an element with the `margin-top`, `margin-right`, `margin-bottom`, and `margin-left` properties.\n",
    "\n",
    "---\n",
    "Give the blue box a `margin` of `40px` on its top and left side, but only `20px` on its bottom and right side."
   ]
  },
  {
   "cell_type": "markdown",
   "metadata": {},
   "source": [
    "```HTML\n",
    "<style>\n",
    "\t.injected-text {\n",
    "\t\tmargin-bottom: -25px;\n",
    "\t\ttext-align: center;\n",
    "\t}\n",
    "\t\n",
    "\t.box {\n",
    "\t\tborder-style: solid;\n",
    "\t\tborder-color: black;\n",
    "\t\tborder-width: 5px;\n",
    "\t\ttext-align: center;\n",
    "\t}\n",
    "\t\n",
    "\t.yellow-box {\n",
    "\t\tbackground-color: yellow;\n",
    "\t\tpadding: 10px;\n",
    "\t}\n",
    "\t\n",
    "\t.red-box {\n",
    "\t\tbackground-color: crimson;\n",
    "\t\tcolor: #fff;\n",
    "\t\tmargin-top: 40px;\n",
    "\t\tmargin-right: 20px;\n",
    "\t\tmargin-bottom: 20px;\n",
    "\t\tmargin-left: 40px;\n",
    "\t}\n",
    "\t\n",
    "\t.blue-box {\n",
    "\t\tbackground-color: blue;\n",
    "\t\tcolor: #fff;\n",
    "\t\tmargin-top: 40px;\n",
    "\t\tmargin-left: 40px;\n",
    "\t\tmargin-bottom: 20px;\n",
    "\t\tmargin-right: 20px;\n",
    "\t}\n",
    "</style>\n",
    "<h5 class=\"injected-text\">margin</h5>\n",
    "\n",
    "<div class=\"box yellow-box\">\n",
    "\t<h5 class=\"box red-box\">padding</h5>\n",
    "\t<h5 class=\"box blue-box\">padding</h5>\n",
    "</div>\n",
    "```"
   ]
  },
  {
   "cell_type": "code",
   "execution_count": 49,
   "metadata": {},
   "outputs": [
    {
     "data": {
      "text/html": [
       "\n",
       "        <iframe\n",
       "            width=\"100%\"\n",
       "            height=\"500\"\n",
       "            src=\"./source-solution/02-basic-css/019-add-different-margins-to-each-side-of-an-element.html\"\n",
       "            frameborder=\"0\"\n",
       "            allowfullscreen\n",
       "        ></iframe>\n",
       "        "
      ],
      "text/plain": [
       "<IPython.lib.display.IFrame at 0x17a821b06d8>"
      ]
     },
     "execution_count": 49,
     "metadata": {},
     "output_type": "execute_result"
    }
   ],
   "source": [
    "IFrame('./source-solution/02-basic-css/019-add-different-margins-to-each-side-of-an-element.html', '100%', 500)"
   ]
  },
  {
   "cell_type": "markdown",
   "metadata": {},
   "source": [
    "### Use Clockwise Notation to Specify the Padding of an Element"
   ]
  },
  {
   "cell_type": "markdown",
   "metadata": {},
   "source": [
    "Instead of specifying an element's `padding-top`, `padding-right`, `padding-bottom`, and `padding-left` properties individually, you can specify them all in one line, like this:\n",
    "\n",
    "`padding: 10px 20px 10px 20px;`\n",
    "\n",
    "These four values work like a clock: top, right, bottom, left, and will produce the exact same result as using the side-specific padding instructions.\n",
    "\n",
    "---\n",
    "Use Clockwise Notation to give the \".blue-box\" class a `padding` of `40px` on its top and left side, but only `20px` on its bottom and right side."
   ]
  },
  {
   "cell_type": "markdown",
   "metadata": {},
   "source": [
    "```HTML\n",
    "<style>\n",
    "\t.injected-text {\n",
    "\t\tmargin-bottom: -25px;\n",
    "\t\ttext-align: center;\n",
    "\t}\n",
    "\t\n",
    "\t.box {\n",
    "\t\tborder-style: solid;\n",
    "\t\tborder-color: black;\n",
    "\t\tborder-width: 5px;\n",
    "\t\ttext-align: center;\n",
    "\t}\n",
    "\t\n",
    "\t.yellow-box {\n",
    "\t\tbackground-color: yellow;\n",
    "\t\tpadding: 20px 40px 20px 40px;\n",
    "\t}\n",
    "\t\n",
    "\t.red-box {\n",
    "\t\tbackground-color: crimson;\n",
    "\t\tcolor: #fff;\n",
    "\t\tpadding: 20px 40px 20px 40px;\n",
    "\t}\n",
    "\t\n",
    "\t.blue-box {\n",
    "\t\tbackground-color: blue;\n",
    "\t\tcolor: #fff;\n",
    "\t\tpadding: 40px 20px 20px 40px;\n",
    "\t}\n",
    "</style>\n",
    "<h5 class=\"injected-text\">margin</h5>\n",
    "\n",
    "<div class=\"box yellow-box\">\n",
    "\t<h5 class=\"box red-box\">padding</h5>\n",
    "\t<h5 class=\"box blue-box\">padding</h5>\n",
    "</div>\n",
    "```"
   ]
  },
  {
   "cell_type": "code",
   "execution_count": 50,
   "metadata": {},
   "outputs": [
    {
     "data": {
      "text/html": [
       "\n",
       "        <iframe\n",
       "            width=\"100%\"\n",
       "            height=\"500\"\n",
       "            src=\"./source-solution/02-basic-css/020-use-clockwise-notation-to-specify-the-padding-of-an-element.html\"\n",
       "            frameborder=\"0\"\n",
       "            allowfullscreen\n",
       "        ></iframe>\n",
       "        "
      ],
      "text/plain": [
       "<IPython.lib.display.IFrame at 0x17a821b0be0>"
      ]
     },
     "execution_count": 50,
     "metadata": {},
     "output_type": "execute_result"
    }
   ],
   "source": [
    "IFrame('./source-solution/02-basic-css/020-use-clockwise-notation-to-specify-the-padding-of-an-element.html', '100%', 500)"
   ]
  },
  {
   "cell_type": "markdown",
   "metadata": {},
   "source": [
    "### Use Clockwise Notation to Specify the Margin of an Element"
   ]
  },
  {
   "cell_type": "markdown",
   "metadata": {},
   "source": [
    "Let's try this again, but with margin this time.\n",
    "\n",
    "Instead of specifying an element's `margin-top`, `margin-right`, `margin-bottom`, and `margin-left` properties individually, you can specify them all in one line, like this:\n",
    "\n",
    "`margin: 10px 20px 10px 20px;`\n",
    "\n",
    "These four values work like a clock: top, right, bottom, left, and will produce the exact same result as using the side-specific margin instructions.\n",
    "\n",
    "---\n",
    "Use Clockwise Notation to give the element with the `blue-box` class a margin of `40px` on its top and left side, but only `20px` on its bottom and right side."
   ]
  },
  {
   "cell_type": "markdown",
   "metadata": {},
   "source": [
    "```HTML\n",
    "<style>\n",
    "\t.injected-text {\n",
    "\t\tmargin-bottom: -25px;\n",
    "\t\ttext-align: center;\n",
    "\t}\n",
    "\t\n",
    "\t.box {\n",
    "\t\tborder-style: solid;\n",
    "\t\tborder-color: black;\n",
    "\t\tborder-width: 5px;\n",
    "\t\ttext-align: center;\n",
    "\t}\n",
    "\t\n",
    "\t.yellow-box {\n",
    "\t\tbackground-color: yellow;\n",
    "\t\tpadding: 20px 40px 20px 40px;\n",
    "\t}\n",
    "\t\n",
    "\t.red-box {\n",
    "\t\tbackground-color: crimson;\n",
    "\t\tcolor: #fff;\n",
    "\t\tmargin: 20px 40px 20px 40px;\n",
    "\t}\n",
    "\t\n",
    "\t.blue-box {\n",
    "\t\tbackground-color: blue;\n",
    "\t\tcolor: #fff;\n",
    "\t\tmargin: 40px 20px 20px 40px;\n",
    "\t}\n",
    "</style>\n",
    "<h5 class=\"injected-text\">margin</h5>\n",
    "\n",
    "<div class=\"box yellow-box\">\n",
    "\t<h5 class=\"box red-box\">padding</h5>\n",
    "\t<h5 class=\"box blue-box\">padding</h5>\n",
    "</div>\n",
    "```"
   ]
  },
  {
   "cell_type": "code",
   "execution_count": 51,
   "metadata": {},
   "outputs": [
    {
     "data": {
      "text/html": [
       "\n",
       "        <iframe\n",
       "            width=\"100%\"\n",
       "            height=\"500\"\n",
       "            src=\"./source-solution/02-basic-css/021-use-clockwise-notation-to-specify-the-margin-of-an-element.html\"\n",
       "            frameborder=\"0\"\n",
       "            allowfullscreen\n",
       "        ></iframe>\n",
       "        "
      ],
      "text/plain": [
       "<IPython.lib.display.IFrame at 0x17a821b0e80>"
      ]
     },
     "execution_count": 51,
     "metadata": {},
     "output_type": "execute_result"
    }
   ],
   "source": [
    "IFrame('./source-solution/02-basic-css/021-use-clockwise-notation-to-specify-the-margin-of-an-element.html', '100%', 500)"
   ]
  },
  {
   "cell_type": "markdown",
   "metadata": {},
   "source": [
    "### Use Attribute Selectors to Style Elements"
   ]
  },
  {
   "cell_type": "markdown",
   "metadata": {},
   "source": [
    "You have been adding `id` or `class` attributes to elements that you wish to specifically style. These are known as ID and class selectors. There are other CSS Selectors you can use to select custom groups of elements to style.\n",
    "\n",
    "Let's bring out CatPhotoApp again to practice using CSS Selectors.\n",
    "\n",
    "For this challenge, you will use the `[attr=value]` attribute selector to style the checkboxes in CatPhotoApp. This selector matches and styles elements with a specific attribute value. For example, the below code changes the margins of all elements with the attribute `type` and a corresponding value of `radio`:\n",
    "\n",
    "```CSS\n",
    "[type='radio'] {\n",
    "  margin: 20px 0px 20px 0px;\n",
    "}\n",
    "```\n",
    "\n",
    "---\n",
    "Using the `type` attribute selector, try to give the checkboxes in CatPhotoApp a top margin of 10px and a bottom margin of 15px."
   ]
  },
  {
   "cell_type": "markdown",
   "metadata": {},
   "source": [
    "```HTML\n",
    "<link href=\"https://fonts.googleapis.com/css?family=Lobster\" rel=\"stylesheet\" type=\"text/css\">\n",
    "<style>\n",
    "\t.red-text {\n",
    "\t\tcolor: red;\n",
    "\t}\n",
    "\t\n",
    "\th2 {\n",
    "\t\tfont-family: Lobster, monospace;\n",
    "\t}\n",
    "\t\n",
    "\tp {\n",
    "\t\tfont-size: 16px;\n",
    "\t\tfont-family: monospace;\n",
    "\t}\n",
    "\t\n",
    "\t.thick-green-border {\n",
    "\t\tborder-color: green;\n",
    "\t\tborder-width: 10px;\n",
    "\t\tborder-style: solid;\n",
    "\t\tborder-radius: 50%;\n",
    "\t}\n",
    "\t\n",
    "\t.smaller-image {\n",
    "\t\twidth: 100px;\n",
    "\t}\n",
    "\t\n",
    "\t.silver-background {\n",
    "\t\tbackground-color: silver;\n",
    "\t}\n",
    "\t\n",
    "\t[type=\"checkbox\"] {\n",
    "\t\tmargin-top: 10px;\n",
    "\t\tmargin-bottom: 15px;\n",
    "\t}\n",
    "</style>\n",
    "\n",
    "<h2 class=\"red-text\">CatPhotoApp</h2>\n",
    "<main>\n",
    "\t<p class=\"red-text\">Click here to view more <a href=\"#\">cat photos</a>.</p>\n",
    "\n",
    "\t<a href=\"#\"><img class=\"smaller-image thick-green-border\" src=\"https://bit.ly/fcc-relaxing-cat\" alt=\"A cute orange cat lying on its back.\"></a>\n",
    "\n",
    "\t<div class=\"silver-background\">\n",
    "\t\t<p>Things cats love:</p>\n",
    "\t\t<ul>\n",
    "\t\t\t<li>cat nip</li>\n",
    "\t\t\t<li>laser pointers</li>\n",
    "\t\t\t<li>lasagna</li>\n",
    "\t\t</ul>\n",
    "\t\t<p>Top 3 things cats hate:</p>\n",
    "\t\t<ol>\n",
    "\t\t\t<li>flea treatment</li>\n",
    "\t\t\t<li>thunder</li>\n",
    "\t\t\t<li>other cats</li>\n",
    "\t\t</ol>\n",
    "\t</div>\n",
    "\n",
    "\t<form action=\"/submit-cat-photo\" id=\"cat-photo-form\">\n",
    "\t\t<label>\n",
    "\t\t\t<input type=\"radio\" name=\"indoor-outdoor\" checked> Indoor</label>\n",
    "\t\t<label>\n",
    "\t\t\t<input type=\"radio\" name=\"indoor-outdoor\"> Outdoor</label>\n",
    "\t\t<br>\n",
    "\t\t<label>\n",
    "\t\t\t<input type=\"checkbox\" name=\"personality\" checked> Loving</label>\n",
    "\t\t<label>\n",
    "\t\t\t<input type=\"checkbox\" name=\"personality\"> Lazy</label>\n",
    "\t\t<label>\n",
    "\t\t\t<input type=\"checkbox\" name=\"personality\"> Energetic</label>\n",
    "\t\t<br>\n",
    "\t\t<input type=\"text\" placeholder=\"cat photo URL\" required>\n",
    "\t\t<button type=\"submit\">Submit</button>\n",
    "\t</form>\n",
    "</main>\n",
    "```"
   ]
  },
  {
   "cell_type": "code",
   "execution_count": 52,
   "metadata": {},
   "outputs": [
    {
     "data": {
      "text/html": [
       "\n",
       "        <iframe\n",
       "            width=\"100%\"\n",
       "            height=\"500\"\n",
       "            src=\"./source-solution/02-basic-css/022-use-attribute-selectors-to-style-elements.html\"\n",
       "            frameborder=\"0\"\n",
       "            allowfullscreen\n",
       "        ></iframe>\n",
       "        "
      ],
      "text/plain": [
       "<IPython.lib.display.IFrame at 0x17a821d92b0>"
      ]
     },
     "execution_count": 52,
     "metadata": {},
     "output_type": "execute_result"
    }
   ],
   "source": [
    "IFrame('./source-solution/02-basic-css/022-use-attribute-selectors-to-style-elements.html', '100%', 500)"
   ]
  },
  {
   "cell_type": "markdown",
   "metadata": {},
   "source": [
    "### Understand Absolute versus Relative Units"
   ]
  },
  {
   "cell_type": "markdown",
   "metadata": {},
   "source": [
    "The last several challenges all set an element's margin or padding with pixels (`px`). Pixels are a type of length unit, which is what tells the browser how to size or space an item. In addition to `px`, CSS has a number of different length unit options that you can use.\n",
    "\n",
    "The two main types of length units are absolute and relative. Absolute units tie to physical units of length. For example, `in` and `mm` refer to inches and millimeters, respectively. Absolute length units approximate the actual measurement on a screen, but there are some differences depending on a screen's resolution.\n",
    "\n",
    "Relative units, such as `em` or `rem`, are relative to another length value. For example, `em` is based on the size of an element's font. If you use it to set the `font-size` property itself, it's relative to the parent's `font-size`.\n",
    "\n",
    "**Note**: There are several relative unit options that are tied to the size of the viewport. They are covered in the Responsive Web Design Principles section.\n",
    "\n",
    "---\n",
    "Add a `padding` property to the element with class `red-box` and set it to `1.5em`."
   ]
  },
  {
   "cell_type": "markdown",
   "metadata": {},
   "source": [
    "```HTML\n",
    "<style>\n",
    "\t.injected-text {\n",
    "\t\tmargin-bottom: -25px;\n",
    "\t\ttext-align: center;\n",
    "\t}\n",
    "\t\n",
    "\t.box {\n",
    "\t\tborder-style: solid;\n",
    "\t\tborder-color: black;\n",
    "\t\tborder-width: 5px;\n",
    "\t\ttext-align: center;\n",
    "\t}\n",
    "\t\n",
    "\t.yellow-box {\n",
    "\t\tbackground-color: yellow;\n",
    "\t\tpadding: 20px 40px 20px 40px;\n",
    "\t}\n",
    "\t\n",
    "\t.red-box {\n",
    "\t\tbackground-color: red;\n",
    "\t\tmargin: 20px 40px 20px 40px;\n",
    "\t\tpadding: 1.5em;\n",
    "\t}\n",
    "\t\n",
    "\t.green-box {\n",
    "\t\tbackground-color: green;\n",
    "\t\tmargin: 20px 40px 20px 40px;\n",
    "\t}\n",
    "</style>\n",
    "<h5 class=\"injected-text\">margin</h5>\n",
    "\n",
    "<div class=\"box yellow-box\">\n",
    "\t<h5 class=\"box red-box\">padding</h5>\n",
    "\t<h5 class=\"box green-box\">padding</h5>\n",
    "</div>\n",
    "```"
   ]
  },
  {
   "cell_type": "code",
   "execution_count": 53,
   "metadata": {},
   "outputs": [
    {
     "data": {
      "text/html": [
       "\n",
       "        <iframe\n",
       "            width=\"100%\"\n",
       "            height=\"500\"\n",
       "            src=\"./source-solution/02-basic-css/023-understand-absolute-versus-relative-units.html\"\n",
       "            frameborder=\"0\"\n",
       "            allowfullscreen\n",
       "        ></iframe>\n",
       "        "
      ],
      "text/plain": [
       "<IPython.lib.display.IFrame at 0x17a821d95f8>"
      ]
     },
     "execution_count": 53,
     "metadata": {},
     "output_type": "execute_result"
    }
   ],
   "source": [
    "IFrame('./source-solution/02-basic-css/023-understand-absolute-versus-relative-units.html', '100%', 500)"
   ]
  },
  {
   "cell_type": "markdown",
   "metadata": {},
   "source": [
    "### Style the HTML Body Element"
   ]
  },
  {
   "cell_type": "markdown",
   "metadata": {},
   "source": [
    "Now let's start fresh and talk about CSS inheritance.\n",
    "\n",
    "Every HTML page has a `body` element.\n",
    "\n",
    "---\n",
    "We can prove that the `body` element exists here by giving it a `background-color` of black.\n",
    "\n",
    "We can do this by adding the following to our `style` element:\n",
    "\n",
    "```CSS\n",
    "body {\n",
    "  background-color: black;\n",
    "}\n",
    "```"
   ]
  },
  {
   "cell_type": "markdown",
   "metadata": {},
   "source": [
    "```HTML\n",
    "<style>\n",
    "\tbody {\n",
    "\t\tbackground-color: black;\n",
    "\t}\n",
    "</style>\n",
    "```"
   ]
  },
  {
   "cell_type": "code",
   "execution_count": 54,
   "metadata": {},
   "outputs": [
    {
     "data": {
      "text/html": [
       "\n",
       "        <iframe\n",
       "            width=\"100%\"\n",
       "            height=\"500\"\n",
       "            src=\"./source-solution/02-basic-css/024-style-the-html-body-element.html\"\n",
       "            frameborder=\"0\"\n",
       "            allowfullscreen\n",
       "        ></iframe>\n",
       "        "
      ],
      "text/plain": [
       "<IPython.lib.display.IFrame at 0x17a821d9940>"
      ]
     },
     "execution_count": 54,
     "metadata": {},
     "output_type": "execute_result"
    }
   ],
   "source": [
    "IFrame('./source-solution/02-basic-css/024-style-the-html-body-element.html', '100%', 500)"
   ]
  },
  {
   "cell_type": "markdown",
   "metadata": {},
   "source": [
    "### Inherit Styles from the Body Element"
   ]
  },
  {
   "cell_type": "markdown",
   "metadata": {},
   "source": [
    "Now we've proven that every HTML page has a `body` element, and that its `body` element can also be styled with CSS.\n",
    "\n",
    "Remember, you can style your `body` element just like any other HTML element, and all your other elements will inherit your `body` element's styles.\n",
    "\n",
    "---\n",
    "First, create a `h1` element with the text `Hello World`\n",
    "\n",
    "Then, let's give all elements on your page the color of `green` by adding `color: green`; to your `body` element's style declaration.\n",
    "\n",
    "Finally, give your `body` element the font-family of `monospace` by adding `font-family: monospace;` to your `body` element's style declaration."
   ]
  },
  {
   "cell_type": "markdown",
   "metadata": {},
   "source": [
    "```HTML\n",
    "<style>\n",
    "\tbody {\n",
    "\t\tbackground-color: green;\n",
    "\t\tfont-family: monospace;\n",
    "\t\tcolor: green;\n",
    "\t}\n",
    "</style>\n",
    "\n",
    "<h1>Hello World</h1>\n",
    "```"
   ]
  },
  {
   "cell_type": "code",
   "execution_count": 55,
   "metadata": {},
   "outputs": [
    {
     "data": {
      "text/html": [
       "\n",
       "        <iframe\n",
       "            width=\"100%\"\n",
       "            height=\"500\"\n",
       "            src=\"./source-solution/02-basic-css/025-inherit-styles-from-the-body-element.html\"\n",
       "            frameborder=\"0\"\n",
       "            allowfullscreen\n",
       "        ></iframe>\n",
       "        "
      ],
      "text/plain": [
       "<IPython.lib.display.IFrame at 0x17a821d9cf8>"
      ]
     },
     "execution_count": 55,
     "metadata": {},
     "output_type": "execute_result"
    }
   ],
   "source": [
    "IFrame('./source-solution/02-basic-css/025-inherit-styles-from-the-body-element.html', '100%', 500)"
   ]
  },
  {
   "cell_type": "markdown",
   "metadata": {},
   "source": [
    "### Prioritize One Style Over Another"
   ]
  },
  {
   "cell_type": "markdown",
   "metadata": {},
   "source": [
    "Sometimes your HTML elements will receive multiple styles that conflict with one another.\n",
    "\n",
    "For example, your `h1` element can't be both green and pink at the same time.\n",
    "\n",
    "Let's see what happens when we create a class that makes text pink, then apply it to an element. Will our class override the `body` element's `color: green;` CSS property?\n",
    "\n",
    "---\n",
    "Create a CSS class called `pink-text` that gives an element the color pink.\n",
    "\n",
    "Give your `h1` element the class of `pink-text`."
   ]
  },
  {
   "cell_type": "markdown",
   "metadata": {},
   "source": [
    "```HTML\n",
    "<style>\n",
    "\tbody {\n",
    "\t\tbackground-color: black;\n",
    "\t\tfont-family: monospace;\n",
    "\t\tcolor: green;\n",
    "\t}\n",
    "\t\n",
    "\t.pink-text {\n",
    "\t\tcolor: pink;\n",
    "\t}\n",
    "</style>\n",
    "<h1 class=\"pink-text\">Hello World!</h1>\n",
    "```"
   ]
  },
  {
   "cell_type": "code",
   "execution_count": 56,
   "metadata": {},
   "outputs": [
    {
     "data": {
      "text/html": [
       "\n",
       "        <iframe\n",
       "            width=\"100%\"\n",
       "            height=\"500\"\n",
       "            src=\"./source-solution/02-basic-css/026-prioritize-one-style-over-another.html\"\n",
       "            frameborder=\"0\"\n",
       "            allowfullscreen\n",
       "        ></iframe>\n",
       "        "
      ],
      "text/plain": [
       "<IPython.lib.display.IFrame at 0x17a821d9f28>"
      ]
     },
     "execution_count": 56,
     "metadata": {},
     "output_type": "execute_result"
    }
   ],
   "source": [
    "IFrame('./source-solution/02-basic-css/026-prioritize-one-style-over-another.html', '100%', 500)"
   ]
  },
  {
   "cell_type": "markdown",
   "metadata": {},
   "source": [
    "### Override Styles in Subsequent CSS"
   ]
  },
  {
   "cell_type": "markdown",
   "metadata": {},
   "source": [
    "Our \"pink-text\" class overrode our `body` element's CSS declaration!\n",
    "\n",
    "We just proved that our classes will override the `body` element's CSS. So the next logical question is, what can we do to override our `pink-text` class?\n",
    "\n",
    "---\n",
    "Create an additional CSS class called `blue-text` that gives an element the color blue. Make sure it's below your `pink-text` class declaration.\n",
    "\n",
    "Apply the `blue-text` class to your `h1` element in addition to your `pink-text` class, and let's see which one wins.\n",
    "\n",
    "Applying multiple class attributes to a HTML element is done with a space between them like this:\n",
    "\n",
    "`class=\"class1 class2\"`\n",
    "\n",
    "**Note**: It doesn't matter which order the classes are listed in the HTML element.\n",
    "\n",
    "However, the order of the `class` declarations in the `<style>` section is what is important. The second declaration will always take precedence over the first. Because `.blue-text` is declared second, it overrides the attributes of `.pink-text`"
   ]
  },
  {
   "cell_type": "markdown",
   "metadata": {},
   "source": [
    "```HTML\n",
    "<style>\n",
    "\tbody {\n",
    "\t\tbackground-color: black;\n",
    "\t\tfont-family: monospace;\n",
    "\t\tcolor: green;\n",
    "\t}\n",
    "\t\n",
    "\t.pink-text {\n",
    "\t\tcolor: pink;\n",
    "\t}\n",
    "\t\n",
    "\t.blue-text {\n",
    "\t\tcolor: blue;\n",
    "\t}\n",
    "</style>\n",
    "<h1 class=\"pink-text blue-text\">Hello World!</h1>\n",
    "```"
   ]
  },
  {
   "cell_type": "code",
   "execution_count": 57,
   "metadata": {},
   "outputs": [
    {
     "data": {
      "text/html": [
       "\n",
       "        <iframe\n",
       "            width=\"100%\"\n",
       "            height=\"500\"\n",
       "            src=\"./source-solution/02-basic-css/027-override-styles-in-subsequent-css.html\"\n",
       "            frameborder=\"0\"\n",
       "            allowfullscreen\n",
       "        ></iframe>\n",
       "        "
      ],
      "text/plain": [
       "<IPython.lib.display.IFrame at 0x17a821df390>"
      ]
     },
     "execution_count": 57,
     "metadata": {},
     "output_type": "execute_result"
    }
   ],
   "source": [
    "IFrame('./source-solution/02-basic-css/027-override-styles-in-subsequent-css.html', '100%', 500)"
   ]
  },
  {
   "cell_type": "markdown",
   "metadata": {},
   "source": [
    "### Override Class Declarations by Styling ID Attributes"
   ]
  },
  {
   "cell_type": "markdown",
   "metadata": {},
   "source": [
    "We just proved that browsers read CSS from top to bottom in order of their declaration. That means that, in the event of a conflict, the browser will use whichever CSS declaration came last. Notice that if we even had put `blue-text` before `pink-text` in our h1 element's classes, it would still look at the declaration order and not the order of their use!\n",
    "\n",
    "But we're not done yet. There are other ways that you can override CSS. Do you remember id attributes?\n",
    "\n",
    "Let's override your `pink-text` and `blue-text` classes, and make your `h1` element orange, by giving the `h1` element an id and then styling that id.\n",
    "\n",
    "---\n",
    "Give your `h1` element the `id` attribute of `orange-text`. Remember, id styles look like this:\n",
    "\n",
    "`<h1 id=\"orange-text\">`\n",
    "\n",
    "Leave the `blue-text` and `pink-text` classes on your `h1` element.\n",
    "\n",
    "Create a CSS declaration for your `orange-text` id in your style element. Here's an example of what this looks like:\n",
    "\n",
    "```CSS\n",
    "#brown-text {\n",
    "  color: brown;\n",
    "}\n",
    "```\n",
    "\n",
    "**Note**: It doesn't matter whether you declare this CSS above or below pink-text class, since id attribute will always take precedence."
   ]
  },
  {
   "cell_type": "markdown",
   "metadata": {},
   "source": [
    "```HTML\n",
    "<style>\n",
    "\tbody {\n",
    "\t\tbackground-color: black;\n",
    "\t\tfont-family: monospace;\n",
    "\t\tcolor: green;\n",
    "\t}\n",
    "\t\n",
    "\t.pink-text {\n",
    "\t\tcolor: pink;\n",
    "\t}\n",
    "\t\n",
    "\t.blue-text {\n",
    "\t\tcolor: blue;\n",
    "\t}\n",
    "\t\n",
    "\t#orange-text {\n",
    "\t\tcolor: orange;\n",
    "\t}\n",
    "</style>\n",
    "<h1 id=\"orange-text\" class=\"pink-text blue-text\">Hello World!</h1>\n",
    "```"
   ]
  },
  {
   "cell_type": "code",
   "execution_count": 58,
   "metadata": {},
   "outputs": [
    {
     "data": {
      "text/html": [
       "\n",
       "        <iframe\n",
       "            width=\"100%\"\n",
       "            height=\"500\"\n",
       "            src=\"./source-solution/02-basic-css/028-override-class-declarations-by-styling-id-attributes.html\"\n",
       "            frameborder=\"0\"\n",
       "            allowfullscreen\n",
       "        ></iframe>\n",
       "        "
      ],
      "text/plain": [
       "<IPython.lib.display.IFrame at 0x17a821df5f8>"
      ]
     },
     "execution_count": 58,
     "metadata": {},
     "output_type": "execute_result"
    }
   ],
   "source": [
    "IFrame('./source-solution/02-basic-css/028-override-class-declarations-by-styling-id-attributes.html', '100%', 500)"
   ]
  },
  {
   "cell_type": "markdown",
   "metadata": {},
   "source": [
    "### Override Class Declarations with Inline Styles"
   ]
  },
  {
   "cell_type": "markdown",
   "metadata": {},
   "source": [
    "So we've proven that id declarations override class declarations, regardless of where they are declared in your `style` element CSS.\n",
    "\n",
    "There are other ways that you can override CSS. Do you remember inline styles?\n",
    "\n",
    "---\n",
    "Use an inline style to try to make our `h1` element white. Remember, in line styles look like this:\n",
    "\n",
    "`<h1 style=\"color: green;\">`\n",
    "\n",
    "Leave the `blue-text` and `pink-text` classes on your `h1` element."
   ]
  },
  {
   "cell_type": "markdown",
   "metadata": {},
   "source": [
    "```HTML\n",
    "<style>\n",
    "\tbody {\n",
    "\t\tbackground-color: black;\n",
    "\t\tfont-family: monospace;\n",
    "\t\tcolor: green;\n",
    "\t}\n",
    "\t\n",
    "\t#orange-text {\n",
    "\t\tcolor: orange;\n",
    "\t}\n",
    "\t\n",
    "\t.pink-text {\n",
    "\t\tcolor: pink;\n",
    "\t}\n",
    "\t\n",
    "\t.blue-text {\n",
    "\t\tcolor: blue;\n",
    "\t}\n",
    "</style>\n",
    "<h1 style=\"color: white\" id=\"orange-text\" class=\"pink-text blue-text\">Hello World!</h1>\n",
    "```"
   ]
  },
  {
   "cell_type": "code",
   "execution_count": 59,
   "metadata": {},
   "outputs": [
    {
     "data": {
      "text/html": [
       "\n",
       "        <iframe\n",
       "            width=\"100%\"\n",
       "            height=\"500\"\n",
       "            src=\"./source-solution/02-basic-css/029-override-class-declarations-with-inline-styles.html\"\n",
       "            frameborder=\"0\"\n",
       "            allowfullscreen\n",
       "        ></iframe>\n",
       "        "
      ],
      "text/plain": [
       "<IPython.lib.display.IFrame at 0x17a821df9e8>"
      ]
     },
     "execution_count": 59,
     "metadata": {},
     "output_type": "execute_result"
    }
   ],
   "source": [
    "IFrame('./source-solution/02-basic-css/029-override-class-declarations-with-inline-styles.html', '100%', 500)"
   ]
  },
  {
   "cell_type": "markdown",
   "metadata": {},
   "source": [
    "### Override All Other Styles by using Important"
   ]
  },
  {
   "cell_type": "markdown",
   "metadata": {},
   "source": [
    "Yay! We just proved that inline styles will override all the CSS declarations in your `style` element.\n",
    "\n",
    "But wait. There's one last way to override CSS. This is the most powerful method of all. But before we do it, let's talk about why you would ever want to override CSS.\n",
    "\n",
    "In many situations, you will use CSS libraries. These may accidentally override your own CSS. So when you absolutely need to be sure that an element has specific CSS, you can use `!important`\n",
    "\n",
    "Let's go all the way back to our `pink-text` class declaration. Remember that our `pink-text` class was overridden by subsequent class declarations, id declarations, and inline styles.\n",
    "\n",
    "---\n",
    "Let's add the keyword `!important` to your `pink-text` element's color declaration to make 100% sure that your `h1` element will be pink.\n",
    "\n",
    "An example of how to do this is:\n",
    "\n",
    "`color: red !important;`"
   ]
  },
  {
   "cell_type": "markdown",
   "metadata": {},
   "source": [
    "```HTML\n",
    "<style>\n",
    "\tbody {\n",
    "\t\tbackground-color: black;\n",
    "\t\tfont-family: monospace;\n",
    "\t\tcolor: green;\n",
    "\t}\n",
    "\t\n",
    "\t#orange-text {\n",
    "\t\tcolor: orange;\n",
    "\t}\n",
    "\t\n",
    "\t.pink-text {\n",
    "\t\tcolor: pink !important;\n",
    "\t}\n",
    "\t\n",
    "\t.blue-text {\n",
    "\t\tcolor: blue;\n",
    "\t}\n",
    "</style>\n",
    "<h1 id=\"orange-text\" class=\"pink-text blue-text\" style=\"color: white\">Hello World!</h1>\n",
    "```"
   ]
  },
  {
   "cell_type": "code",
   "execution_count": 60,
   "metadata": {},
   "outputs": [
    {
     "data": {
      "text/html": [
       "\n",
       "        <iframe\n",
       "            width=\"100%\"\n",
       "            height=\"500\"\n",
       "            src=\"./source-solution/02-basic-css/030-override-all-other-styles-by-using-important.html\"\n",
       "            frameborder=\"0\"\n",
       "            allowfullscreen\n",
       "        ></iframe>\n",
       "        "
      ],
      "text/plain": [
       "<IPython.lib.display.IFrame at 0x17a821dfcc0>"
      ]
     },
     "execution_count": 60,
     "metadata": {},
     "output_type": "execute_result"
    }
   ],
   "source": [
    "IFrame('./source-solution/02-basic-css/030-override-all-other-styles-by-using-important.html', '100%', 500)"
   ]
  },
  {
   "cell_type": "markdown",
   "metadata": {},
   "source": [
    "### Use Hex Code for Specific Colors"
   ]
  },
  {
   "cell_type": "markdown",
   "metadata": {},
   "source": [
    "Did you know there are other ways to represent colors in CSS? One of these ways is called hexadecimal code, or hex code for short.\n",
    "\n",
    "We usually use decimals, or base 10 numbers, which use the symbols 0 to 9 for each digit. Hexadecimals (or hex) are base 16 numbers. This means it uses sixteen distinct symbols. Like decimals, the symbols 0-9 represent the values zero to nine. Then A,B,C,D,E,F represent the values ten to fifteen. Altogether, 0 to F can represent a digit in hexadecimal, giving us 16 total possible values. You can find more information about [hexadecimal numbers here](https://en.wikipedia.org/wiki/Hexadecimal).\n",
    "\n",
    "In CSS, we can use 6 hexadecimal digits to represent colors, two each for the red (R), green (G), and blue (B) components. For example, `#000000` is black and is also the lowest possible value. You can find more information about the RGB color system here.\n",
    "\n",
    "```CSS\n",
    "body {\n",
    "  color: #000000;\n",
    "}\n",
    "```\n",
    "\n",
    "---\n",
    "Replace the word `black` in our `body` element's `background-color` with its hex code representation, `#000000`."
   ]
  },
  {
   "cell_type": "markdown",
   "metadata": {},
   "source": [
    "```HTML\n",
    "<style>\n",
    "\tbody {\n",
    "\t\tbackground-color: #000000;\n",
    "\t}\n",
    "</style>\n",
    "```"
   ]
  },
  {
   "cell_type": "code",
   "execution_count": 61,
   "metadata": {},
   "outputs": [
    {
     "data": {
      "text/html": [
       "\n",
       "        <iframe\n",
       "            width=\"100%\"\n",
       "            height=\"500\"\n",
       "            src=\"./source-solution/02-basic-css/031-use-hex-code-for-specific-colors.html\"\n",
       "            frameborder=\"0\"\n",
       "            allowfullscreen\n",
       "        ></iframe>\n",
       "        "
      ],
      "text/plain": [
       "<IPython.lib.display.IFrame at 0x17a821b40f0>"
      ]
     },
     "execution_count": 61,
     "metadata": {},
     "output_type": "execute_result"
    }
   ],
   "source": [
    "IFrame('./source-solution/02-basic-css/031-use-hex-code-for-specific-colors.html', '100%', 500)"
   ]
  },
  {
   "cell_type": "markdown",
   "metadata": {},
   "source": [
    "### Use Hex Code to Mix Colors"
   ]
  },
  {
   "cell_type": "markdown",
   "metadata": {},
   "source": [
    "To review, hex codes use 6 hexadecimal digits to represent colors, two each for red (R), green (G), and blue (B) components.\n",
    "\n",
    "From these three pure colors (red, green, and blue), we can vary the amounts of each to create over 16 million other colors!\n",
    "\n",
    "For example, orange is pure red, mixed with some green, and no blue. In hex code, this translates to being `#FFA500`.\n",
    "\n",
    "The digit `0` is the lowest number in hex code, and represents a complete absence of color.\n",
    "\n",
    "The digit `F` is the highest number in hex code, and represents the maximum possible brightness.\n",
    "\n",
    "---\n",
    "Replace the color words in our `style` element with their correct hex codes.\n",
    "\n",
    "| Color       | Hex Code   |\n",
    "|-------------|------------|\n",
    "| Dodger Blue | `#1E90FF`  |\n",
    "| Green       | `#00FF00`  |\n",
    "| Orange      | `#FFA500`  |\n",
    "| Red         | `#FF0000`  |"
   ]
  },
  {
   "cell_type": "markdown",
   "metadata": {},
   "source": [
    "```HTML\n",
    "<style>\n",
    "\t.red-text {\n",
    "\t\tcolor: #FF0000;\n",
    "\t}\n",
    "\t\n",
    "\t.green-text {\n",
    "\t\tcolor: #00FF00;\n",
    "\t}\n",
    "\t\n",
    "\t.dodger-blue-text {\n",
    "\t\tcolor: #1E90FF;\n",
    "\t}\n",
    "\t\n",
    "\t.orange-text {\n",
    "\t\tcolor: #FFA500;\n",
    "\t}\n",
    "</style>\n",
    "\n",
    "<h1 class=\"red-text\">I am red!</h1>\n",
    "\n",
    "<h1 class=\"green-text\">I am green!</h1>\n",
    "\n",
    "<h1 class=\"dodger-blue-text\">I am dodger blue!</h1>\n",
    "\n",
    "<h1 class=\"orange-text\">I am orange!</h1>\n",
    "```"
   ]
  },
  {
   "cell_type": "code",
   "execution_count": 62,
   "metadata": {},
   "outputs": [
    {
     "data": {
      "text/html": [
       "\n",
       "        <iframe\n",
       "            width=\"100%\"\n",
       "            height=\"500\"\n",
       "            src=\"./source-solution/02-basic-css/032-use-hex-code-to-mix-colors.html\"\n",
       "            frameborder=\"0\"\n",
       "            allowfullscreen\n",
       "        ></iframe>\n",
       "        "
      ],
      "text/plain": [
       "<IPython.lib.display.IFrame at 0x17a821b4400>"
      ]
     },
     "execution_count": 62,
     "metadata": {},
     "output_type": "execute_result"
    }
   ],
   "source": [
    "IFrame('./source-solution/02-basic-css/032-use-hex-code-to-mix-colors.html', '100%', 500)"
   ]
  },
  {
   "cell_type": "markdown",
   "metadata": {},
   "source": [
    "### Use Abbreviated Hex Code"
   ]
  },
  {
   "cell_type": "markdown",
   "metadata": {},
   "source": [
    "Many people feel overwhelmed by the possibilities of more than 16 million colors. And it's difficult to remember hex code. Fortunately, you can shorten it.\n",
    "\n",
    "For example, red's hex code `#FF0000` can be shortened to `#F00`. This shortened form gives one digit for red, one digit for green, and one digit for blue.\n",
    "\n",
    "This reduces the total number of possible colors to around 4,000. But browsers will interpret `#FF0000` and `#F00` as exactly the same color.\n",
    "\n",
    "---\n",
    "Go ahead, try using the abbreviated hex codes to color the correct elements.\n",
    "\n",
    "| Color       | Short Hex Code |\n",
    "|-------------|----------------|\n",
    "| Cyan        | `#0FF`         |\n",
    "| Green       | `#0F0`         |\n",
    "| Red         | `#F00`         |\n",
    "| Fuchsia     | `#F0F`         |"
   ]
  },
  {
   "cell_type": "markdown",
   "metadata": {},
   "source": [
    "```HTML\n",
    "<style>\n",
    "\t.red-text {\n",
    "\t\tcolor: #F00;\n",
    "\t}\n",
    "\t\n",
    "\t.fuchsia-text {\n",
    "\t\tcolor: #F0F;\n",
    "\t}\n",
    "\t\n",
    "\t.cyan-text {\n",
    "\t\tcolor: #0FF;\n",
    "\t}\n",
    "\t\n",
    "\t.green-text {\n",
    "\t\tcolor: #0F0;\n",
    "\t}\n",
    "</style>\n",
    "\n",
    "<h1 class=\"red-text\">I am red!</h1>\n",
    "\n",
    "<h1 class=\"fuchsia-text\">I am fuchsia!</h1>\n",
    "\n",
    "<h1 class=\"cyan-text\">I am cyan!</h1>\n",
    "\n",
    "<h1 class=\"green-text\">I am green!</h1>\n",
    "```"
   ]
  },
  {
   "cell_type": "code",
   "execution_count": 63,
   "metadata": {},
   "outputs": [
    {
     "data": {
      "text/html": [
       "\n",
       "        <iframe\n",
       "            width=\"100%\"\n",
       "            height=\"500\"\n",
       "            src=\"./source-solution/02-basic-css/033-use-abbreviated-hex-code.html\"\n",
       "            frameborder=\"0\"\n",
       "            allowfullscreen\n",
       "        ></iframe>\n",
       "        "
      ],
      "text/plain": [
       "<IPython.lib.display.IFrame at 0x17a821b4668>"
      ]
     },
     "execution_count": 63,
     "metadata": {},
     "output_type": "execute_result"
    }
   ],
   "source": [
    "IFrame('./source-solution/02-basic-css/033-use-abbreviated-hex-code.html', '100%', 500)"
   ]
  },
  {
   "cell_type": "markdown",
   "metadata": {},
   "source": [
    "### Use RGB values to Color Elements"
   ]
  },
  {
   "cell_type": "markdown",
   "metadata": {},
   "source": [
    "Another way you can represent colors in CSS is by using `RGB` values.\n",
    "\n",
    "The RGB value for black looks like this:\n",
    "\n",
    "\n",
    "`rgb(0, 0, 0)`\n",
    "\n",
    "The RGB value for white looks like this:\n",
    "\n",
    "`rgb(255, 255, 255)`\n",
    "\n",
    "Instead of using six hexadecimal digits like you do with hex code, with `RGB` you specify the brightness of each color with a number between 0 and 255.\n",
    "\n",
    "If you do the math, the two digits for one color equal 16 times 16, which gives us 256 total values. So `RGB`, which starts counting from zero, has the exact same number of possible values as hex code.\n",
    "\n",
    "Here's an example of how you'd change the body background to orange using its RGB code.\n",
    "\n",
    "```CSS\n",
    "body {\n",
    "  background-color: rgb(255, 165, 0);\n",
    "}\n",
    "```\n",
    "\n",
    "---\n",
    "Let's replace the hex code in our `body` element's background color with the RGB value for black: `rgb(0, 0, 0)`"
   ]
  },
  {
   "cell_type": "markdown",
   "metadata": {},
   "source": [
    "```HTML\n",
    "<style>\n",
    "\tbody {\n",
    "\t\tbackground-color: rgb(0, 0, 0);\n",
    "\t}\n",
    "</style>\n",
    "```"
   ]
  },
  {
   "cell_type": "code",
   "execution_count": 64,
   "metadata": {},
   "outputs": [
    {
     "data": {
      "text/html": [
       "\n",
       "        <iframe\n",
       "            width=\"100%\"\n",
       "            height=\"500\"\n",
       "            src=\"./source-solution/02-basic-css/034-use-rgb-values-to-color-elements.html\"\n",
       "            frameborder=\"0\"\n",
       "            allowfullscreen\n",
       "        ></iframe>\n",
       "        "
      ],
      "text/plain": [
       "<IPython.lib.display.IFrame at 0x17a821b4a90>"
      ]
     },
     "execution_count": 64,
     "metadata": {},
     "output_type": "execute_result"
    }
   ],
   "source": [
    "IFrame('./source-solution/02-basic-css/034-use-rgb-values-to-color-elements.html', '100%', 500)"
   ]
  },
  {
   "cell_type": "markdown",
   "metadata": {},
   "source": [
    "### Use RGB to Mix Colors"
   ]
  },
  {
   "cell_type": "markdown",
   "metadata": {},
   "source": [
    "Just like with hex code, you can mix colors in RGB by using combinations of different values.\n",
    "\n",
    "---\n",
    "Replace the hex codes in our `style` element with their correct RGB values.\n",
    "\n",
    "| Color       | RGB                  |\n",
    "|-------------|----------------------|\n",
    "| Blue        | `rgb(0, 0, 255)`     |\n",
    "| Red         | `rgb(255, 0, 0)`     |\n",
    "| Orchid      | `rgb(218, 112, 214)` |\n",
    "| Sienna      | `rgb(160, 82, 45)`   |"
   ]
  },
  {
   "cell_type": "markdown",
   "metadata": {},
   "source": [
    "```HTML\n",
    "<style>\n",
    "\t.red-text {\n",
    "\t\tcolor: rgb(255, 0, 0);\n",
    "\t}\n",
    "\t\n",
    "\t.orchid-text {\n",
    "\t\tcolor: rgb(218, 112, 214);\n",
    "\t}\n",
    "\t\n",
    "\t.sienna-text {\n",
    "\t\tcolor: rgb(160, 82, 45);\n",
    "\t}\n",
    "\t\n",
    "\t.blue-text {\n",
    "\t\tcolor: rgb(0, 0, 255);\n",
    "\t}\n",
    "</style>\n",
    "\n",
    "<h1 class=\"red-text\">I am red!</h1>\n",
    "\n",
    "<h1 class=\"orchid-text\">I am orchid!</h1>\n",
    "\n",
    "<h1 class=\"sienna-text\">I am sienna!</h1>\n",
    "\n",
    "<h1 class=\"blue-text\">I am blue!</h1>\n",
    "```"
   ]
  },
  {
   "cell_type": "code",
   "execution_count": 65,
   "metadata": {},
   "outputs": [
    {
     "data": {
      "text/html": [
       "\n",
       "        <iframe\n",
       "            width=\"100%\"\n",
       "            height=\"500\"\n",
       "            src=\"./source-solution/02-basic-css/035-use-rgb-to-mix-colors.html\"\n",
       "            frameborder=\"0\"\n",
       "            allowfullscreen\n",
       "        ></iframe>\n",
       "        "
      ],
      "text/plain": [
       "<IPython.lib.display.IFrame at 0x17a821b4e10>"
      ]
     },
     "execution_count": 65,
     "metadata": {},
     "output_type": "execute_result"
    }
   ],
   "source": [
    "IFrame('./source-solution/02-basic-css/035-use-rgb-to-mix-colors.html', '100%', 500)"
   ]
  },
  {
   "cell_type": "markdown",
   "metadata": {},
   "source": [
    "### Use CSS Variables to change several elements at once"
   ]
  },
  {
   "cell_type": "markdown",
   "metadata": {},
   "source": [
    "CSS Variables are a powerful way to change many CSS style properties at once by changing only one value.\n",
    "\n",
    "Follow the instructions below to see how changing just three values can change the styling of many elements.\n",
    "\n",
    "---\n",
    "In the `penguin` class, change the `black` value to `gray`, the `gray` value to `white`, and the `yellow` value to `orange`."
   ]
  },
  {
   "cell_type": "markdown",
   "metadata": {},
   "source": [
    "```HTML\n",
    "<style>\n",
    "\t.penguin {\n",
    "\t\t/* change code below */\n",
    "\t\t--penguin-skin: gray;\n",
    "\t\t--penguin-belly: white;\n",
    "\t\t--penguin-beak: orange;\n",
    "\t\t/* change code above */\n",
    "\t\tposition: relative;\n",
    "\t\tmargin: auto;\n",
    "\t\tdisplay: block;\n",
    "\t\tmargin-top: 5%;\n",
    "\t\twidth: 300px;\n",
    "\t\theight: 300px;\n",
    "\t}\n",
    "\t\n",
    "\t.penguin-top {\n",
    "\t\ttop: 10%;\n",
    "\t\tleft: 25%;\n",
    "\t\tbackground: var(--penguin-skin, gray);\n",
    "\t\twidth: 50%;\n",
    "\t\theight: 45%;\n",
    "\t\tborder-radius: 70% 70% 60% 60%;\n",
    "\t}\n",
    "\t\n",
    "\t.penguin-bottom {\n",
    "\t\ttop: 40%;\n",
    "\t\tleft: 23.5%;\n",
    "\t\tbackground: var(--penguin-skin, gray);\n",
    "\t\twidth: 53%;\n",
    "\t\theight: 45%;\n",
    "\t\tborder-radius: 70% 70% 100% 100%;\n",
    "\t}\n",
    "\t\n",
    "\t.right-hand {\n",
    "\t\ttop: 0%;\n",
    "\t\tleft: -5%;\n",
    "\t\tbackground: var(--penguin-skin, gray);\n",
    "\t\twidth: 30%;\n",
    "\t\theight: 60%;\n",
    "\t\tborder-radius: 30% 30% 120% 30%;\n",
    "\t\ttransform: rotate(45deg);\n",
    "\t\tz-index: -1;\n",
    "\t}\n",
    "\t\n",
    "\t.left-hand {\n",
    "\t\ttop: 0%;\n",
    "\t\tleft: 75%;\n",
    "\t\tbackground: var(--penguin-skin, gray);\n",
    "\t\twidth: 30%;\n",
    "\t\theight: 60%;\n",
    "\t\tborder-radius: 30% 30% 30% 120%;\n",
    "\t\ttransform: rotate(-45deg);\n",
    "\t\tz-index: -1;\n",
    "\t}\n",
    "\t\n",
    "\t.right-cheek {\n",
    "\t\ttop: 15%;\n",
    "\t\tleft: 35%;\n",
    "\t\tbackground: var(--penguin-belly, white);\n",
    "\t\twidth: 60%;\n",
    "\t\theight: 70%;\n",
    "\t\tborder-radius: 70% 70% 60% 60%;\n",
    "\t}\n",
    "\t\n",
    "\t.left-cheek {\n",
    "\t\ttop: 15%;\n",
    "\t\tleft: 5%;\n",
    "\t\tbackground: var(--penguin-belly, white);\n",
    "\t\twidth: 60%;\n",
    "\t\theight: 70%;\n",
    "\t\tborder-radius: 70% 70% 60% 60%;\n",
    "\t}\n",
    "\t\n",
    "\t.belly {\n",
    "\t\ttop: 60%;\n",
    "\t\tleft: 2.5%;\n",
    "\t\tbackground: var(--penguin-belly, white);\n",
    "\t\twidth: 95%;\n",
    "\t\theight: 100%;\n",
    "\t\tborder-radius: 120% 120% 100% 100%;\n",
    "\t}\n",
    "\t\n",
    "\t.right-feet {\n",
    "\t\ttop: 85%;\n",
    "\t\tleft: 60%;\n",
    "\t\tbackground: var(--penguin-beak, orange);\n",
    "\t\twidth: 15%;\n",
    "\t\theight: 30%;\n",
    "\t\tborder-radius: 50% 50% 50% 50%;\n",
    "\t\ttransform: rotate(-80deg);\n",
    "\t\tz-index: -2222;\n",
    "\t}\n",
    "\t\n",
    "\t.left-feet {\n",
    "\t\ttop: 85%;\n",
    "\t\tleft: 25%;\n",
    "\t\tbackground: var(--penguin-beak, orange);\n",
    "\t\twidth: 15%;\n",
    "\t\theight: 30%;\n",
    "\t\tborder-radius: 50% 50% 50% 50%;\n",
    "\t\ttransform: rotate(80deg);\n",
    "\t\tz-index: -2222;\n",
    "\t}\n",
    "\t\n",
    "\t.right-eye {\n",
    "\t\ttop: 45%;\n",
    "\t\tleft: 60%;\n",
    "\t\tbackground: black;\n",
    "\t\twidth: 15%;\n",
    "\t\theight: 17%;\n",
    "\t\tborder-radius: 50%;\n",
    "\t}\n",
    "\t\n",
    "\t.left-eye {\n",
    "\t\ttop: 45%;\n",
    "\t\tleft: 25%;\n",
    "\t\tbackground: black;\n",
    "\t\twidth: 15%;\n",
    "\t\theight: 17%;\n",
    "\t\tborder-radius: 50%;\n",
    "\t}\n",
    "\t\n",
    "\t.sparkle {\n",
    "\t\ttop: 25%;\n",
    "\t\tleft: 15%;\n",
    "\t\tbackground: white;\n",
    "\t\twidth: 35%;\n",
    "\t\theight: 35%;\n",
    "\t\tborder-radius: 50%;\n",
    "\t}\n",
    "\t\n",
    "\t.blush-right {\n",
    "\t\ttop: 65%;\n",
    "\t\tleft: 15%;\n",
    "\t\tbackground: pink;\n",
    "\t\twidth: 15%;\n",
    "\t\theight: 10%;\n",
    "\t\tborder-radius: 50%;\n",
    "\t}\n",
    "\t\n",
    "\t.blush-left {\n",
    "\t\ttop: 65%;\n",
    "\t\tleft: 70%;\n",
    "\t\tbackground: pink;\n",
    "\t\twidth: 15%;\n",
    "\t\theight: 10%;\n",
    "\t\tborder-radius: 50%;\n",
    "\t}\n",
    "\t\n",
    "\t.beak-top {\n",
    "\t\ttop: 60%;\n",
    "\t\tleft: 40%;\n",
    "\t\tbackground: var(--penguin-beak, orange);\n",
    "\t\twidth: 20%;\n",
    "\t\theight: 10%;\n",
    "\t\tborder-radius: 50%;\n",
    "\t}\n",
    "\t\n",
    "\t.beak-bottom {\n",
    "\t\ttop: 65%;\n",
    "\t\tleft: 42%;\n",
    "\t\tbackground: var(--penguin-beak, orange);\n",
    "\t\twidth: 16%;\n",
    "\t\theight: 10%;\n",
    "\t\tborder-radius: 50%;\n",
    "\t}\n",
    "\t\n",
    "\tbody {\n",
    "\t\tbackground: #c6faf1;\n",
    "\t}\n",
    "\t\n",
    "\t.penguin * {\n",
    "\t\tposition: absolute;\n",
    "\t}\n",
    "</style>\n",
    "<div class=\"penguin\">\n",
    "\t<div class=\"penguin-bottom\">\n",
    "\t\t<div class=\"right-hand\"></div>\n",
    "\t\t<div class=\"left-hand\"></div>\n",
    "\t\t<div class=\"right-feet\"></div>\n",
    "\t\t<div class=\"left-feet\"></div>\n",
    "\t</div>\n",
    "\t<div class=\"penguin-top\">\n",
    "\t\t<div class=\"right-cheek\"></div>\n",
    "\t\t<div class=\"left-cheek\"></div>\n",
    "\t\t<div class=\"belly\"></div>\n",
    "\t\t<div class=\"right-eye\">\n",
    "\t\t\t<div class=\"sparkle\"></div>\n",
    "\t\t</div>\n",
    "\t\t<div class=\"left-eye\">\n",
    "\t\t\t<div class=\"sparkle\"></div>\n",
    "\t\t</div>\n",
    "\t\t<div class=\"blush-right\"></div>\n",
    "\t\t<div class=\"blush-left\"></div>\n",
    "\t\t<div class=\"beak-top\"></div>\n",
    "\t\t<div class=\"beak-bottom\"></div>\n",
    "\t</div>\n",
    "</div>\n",
    "```"
   ]
  },
  {
   "cell_type": "code",
   "execution_count": 66,
   "metadata": {},
   "outputs": [
    {
     "data": {
      "text/html": [
       "\n",
       "        <iframe\n",
       "            width=\"100%\"\n",
       "            height=\"500\"\n",
       "            src=\"./source-solution/02-basic-css/036-use-css-variables-to-change-several-elements-at-once.html\"\n",
       "            frameborder=\"0\"\n",
       "            allowfullscreen\n",
       "        ></iframe>\n",
       "        "
      ],
      "text/plain": [
       "<IPython.lib.display.IFrame at 0x17a821ed0f0>"
      ]
     },
     "execution_count": 66,
     "metadata": {},
     "output_type": "execute_result"
    }
   ],
   "source": [
    "IFrame('./source-solution/02-basic-css/036-use-css-variables-to-change-several-elements-at-once.html', '100%', 500)"
   ]
  },
  {
   "cell_type": "markdown",
   "metadata": {},
   "source": [
    "### Create a custom CSS Variable"
   ]
  },
  {
   "cell_type": "markdown",
   "metadata": {},
   "source": [
    "To create a CSS variable, you just need to give it a name with two hyphens in front of it and assign it a value like this:\n",
    "\n",
    "`--penguin-skin: gray;`\n",
    "\n",
    "This will create a variable named `--penguin-skin` and assign it the value of `gray`. Now you can use that variable elsewhere in your CSS to change the value of other elements to gray.\n",
    "\n",
    "---\n",
    "In the `penguin` class, create a variable name `--penguin-skin` and give it a value of `gray`."
   ]
  },
  {
   "cell_type": "markdown",
   "metadata": {},
   "source": [
    "```HTML\n",
    "<style>\n",
    "\t.penguin {\n",
    "\t\t/* add code below */\n",
    "\t\t--penguin-skin: gray;\n",
    "\t\t/* add code above */\n",
    "\t\tposition: relative;\n",
    "\t\tmargin: auto;\n",
    "\t\tdisplay: block;\n",
    "\t\tmargin-top: 5%;\n",
    "\t\twidth: 300px;\n",
    "\t\theight: 300px;\n",
    "\t}\n",
    "\t\n",
    "\t.penguin-top {\n",
    "\t\ttop: 10%;\n",
    "\t\tleft: 25%;\n",
    "\t\tbackground: black;\n",
    "\t\twidth: 50%;\n",
    "\t\theight: 45%;\n",
    "\t\tborder-radius: 70% 70% 60% 60%;\n",
    "\t}\n",
    "\t\n",
    "\t.penguin-bottom {\n",
    "\t\ttop: 40%;\n",
    "\t\tleft: 23.5%;\n",
    "\t\tbackground: black;\n",
    "\t\twidth: 53%;\n",
    "\t\theight: 45%;\n",
    "\t\tborder-radius: 70% 70% 100% 100%;\n",
    "\t}\n",
    "\t\n",
    "\t.right-hand {\n",
    "\t\ttop: 0%;\n",
    "\t\tleft: -5%;\n",
    "\t\tbackground: black;\n",
    "\t\twidth: 30%;\n",
    "\t\theight: 60%;\n",
    "\t\tborder-radius: 30% 30% 120% 30%;\n",
    "\t\ttransform: rotate(45deg);\n",
    "\t\tz-index: -1;\n",
    "\t}\n",
    "\t\n",
    "\t.left-hand {\n",
    "\t\ttop: 0%;\n",
    "\t\tleft: 75%;\n",
    "\t\tbackground: black;\n",
    "\t\twidth: 30%;\n",
    "\t\theight: 60%;\n",
    "\t\tborder-radius: 30% 30% 30% 120%;\n",
    "\t\ttransform: rotate(-45deg);\n",
    "\t\tz-index: -1;\n",
    "\t}\n",
    "\t\n",
    "\t.right-cheek {\n",
    "\t\ttop: 15%;\n",
    "\t\tleft: 35%;\n",
    "\t\tbackground: white;\n",
    "\t\twidth: 60%;\n",
    "\t\theight: 70%;\n",
    "\t\tborder-radius: 70% 70% 60% 60%;\n",
    "\t}\n",
    "\t\n",
    "\t.left-cheek {\n",
    "\t\ttop: 15%;\n",
    "\t\tleft: 5%;\n",
    "\t\tbackground: white;\n",
    "\t\twidth: 60%;\n",
    "\t\theight: 70%;\n",
    "\t\tborder-radius: 70% 70% 60% 60%;\n",
    "\t}\n",
    "\t\n",
    "\t.belly {\n",
    "\t\ttop: 60%;\n",
    "\t\tleft: 2.5%;\n",
    "\t\tbackground: white;\n",
    "\t\twidth: 95%;\n",
    "\t\theight: 100%;\n",
    "\t\tborder-radius: 120% 120% 100% 100%;\n",
    "\t}\n",
    "\t\n",
    "\t.right-feet {\n",
    "\t\ttop: 85%;\n",
    "\t\tleft: 60%;\n",
    "\t\tbackground: orange;\n",
    "\t\twidth: 15%;\n",
    "\t\theight: 30%;\n",
    "\t\tborder-radius: 50% 50% 50% 50%;\n",
    "\t\ttransform: rotate(-80deg);\n",
    "\t\tz-index: -2222;\n",
    "\t}\n",
    "\t\n",
    "\t.left-feet {\n",
    "\t\ttop: 85%;\n",
    "\t\tleft: 25%;\n",
    "\t\tbackground: orange;\n",
    "\t\twidth: 15%;\n",
    "\t\theight: 30%;\n",
    "\t\tborder-radius: 50% 50% 50% 50%;\n",
    "\t\ttransform: rotate(80deg);\n",
    "\t\tz-index: -2222;\n",
    "\t}\n",
    "\t\n",
    "\t.right-eye {\n",
    "\t\ttop: 45%;\n",
    "\t\tleft: 60%;\n",
    "\t\tbackground: black;\n",
    "\t\twidth: 15%;\n",
    "\t\theight: 17%;\n",
    "\t\tborder-radius: 50%;\n",
    "\t}\n",
    "\t\n",
    "\t.left-eye {\n",
    "\t\ttop: 45%;\n",
    "\t\tleft: 25%;\n",
    "\t\tbackground: black;\n",
    "\t\twidth: 15%;\n",
    "\t\theight: 17%;\n",
    "\t\tborder-radius: 50%;\n",
    "\t}\n",
    "\t\n",
    "\t.sparkle {\n",
    "\t\ttop: 25%;\n",
    "\t\tleft: 15%;\n",
    "\t\tbackground: white;\n",
    "\t\twidth: 35%;\n",
    "\t\theight: 35%;\n",
    "\t\tborder-radius: 50%;\n",
    "\t}\n",
    "\t\n",
    "\t.blush-right {\n",
    "\t\ttop: 65%;\n",
    "\t\tleft: 15%;\n",
    "\t\tbackground: pink;\n",
    "\t\twidth: 15%;\n",
    "\t\theight: 10%;\n",
    "\t\tborder-radius: 50%;\n",
    "\t}\n",
    "\t\n",
    "\t.blush-left {\n",
    "\t\ttop: 65%;\n",
    "\t\tleft: 70%;\n",
    "\t\tbackground: pink;\n",
    "\t\twidth: 15%;\n",
    "\t\theight: 10%;\n",
    "\t\tborder-radius: 50%;\n",
    "\t}\n",
    "\t\n",
    "\t.beak-top {\n",
    "\t\ttop: 60%;\n",
    "\t\tleft: 40%;\n",
    "\t\tbackground: orange;\n",
    "\t\twidth: 20%;\n",
    "\t\theight: 10%;\n",
    "\t\tborder-radius: 50%;\n",
    "\t}\n",
    "\t\n",
    "\t.beak-bottom {\n",
    "\t\ttop: 65%;\n",
    "\t\tleft: 42%;\n",
    "\t\tbackground: orange;\n",
    "\t\twidth: 16%;\n",
    "\t\theight: 10%;\n",
    "\t\tborder-radius: 50%;\n",
    "\t}\n",
    "\t\n",
    "\tbody {\n",
    "\t\tbackground: #c6faf1;\n",
    "\t}\n",
    "\t\n",
    "\t.penguin * {\n",
    "\t\tposition: absolute;\n",
    "\t}\n",
    "</style>\n",
    "<div class=\"penguin\">\n",
    "\t<div class=\"penguin-bottom\">\n",
    "\t\t<div class=\"right-hand\"></div>\n",
    "\t\t<div class=\"left-hand\"></div>\n",
    "\t\t<div class=\"right-feet\"></div>\n",
    "\t\t<div class=\"left-feet\"></div>\n",
    "\t</div>\n",
    "\t<div class=\"penguin-top\">\n",
    "\t\t<div class=\"right-cheek\"></div>\n",
    "\t\t<div class=\"left-cheek\"></div>\n",
    "\t\t<div class=\"belly\"></div>\n",
    "\t\t<div class=\"right-eye\">\n",
    "\t\t\t<div class=\"sparkle\"></div>\n",
    "\t\t</div>\n",
    "\t\t<div class=\"left-eye\">\n",
    "\t\t\t<div class=\"sparkle\"></div>\n",
    "\t\t</div>\n",
    "\t\t<div class=\"blush-right\"></div>\n",
    "\t\t<div class=\"blush-left\"></div>\n",
    "\t\t<div class=\"beak-top\"></div>\n",
    "\t\t<div class=\"beak-bottom\"></div>\n",
    "\t</div>\n",
    "</div>\n",
    "```"
   ]
  },
  {
   "cell_type": "code",
   "execution_count": 67,
   "metadata": {},
   "outputs": [
    {
     "data": {
      "text/html": [
       "\n",
       "        <iframe\n",
       "            width=\"100%\"\n",
       "            height=\"500\"\n",
       "            src=\"./source-solution/02-basic-css/037-create-a-custom-css-variable.html\"\n",
       "            frameborder=\"0\"\n",
       "            allowfullscreen\n",
       "        ></iframe>\n",
       "        "
      ],
      "text/plain": [
       "<IPython.lib.display.IFrame at 0x17a821ed4a8>"
      ]
     },
     "execution_count": 67,
     "metadata": {},
     "output_type": "execute_result"
    }
   ],
   "source": [
    "IFrame('./source-solution/02-basic-css/037-create-a-custom-css-variable.html', '100%', 500)"
   ]
  },
  {
   "cell_type": "markdown",
   "metadata": {},
   "source": [
    "### Use a custom CSS Variable"
   ]
  },
  {
   "cell_type": "markdown",
   "metadata": {},
   "source": [
    "After you create your variable, you can assign its value to other CSS properties by referencing the name you gave it.\n",
    "\n",
    "```CSS\n",
    "background: var(--penguin-skin);\n",
    "```\n",
    "\n",
    "This will change the background of whatever element you are targeting to gray because that is the value of the `--penguin-skin variable`. Note that styles will not be applied unless the variable names are an exact match.\n",
    "\n",
    "---\n",
    "Apply the `--penguin-skin` variable to the `background` property of the `penguin-top`, `penguin-bottom`, `right-hand` and `left-hand` classes."
   ]
  },
  {
   "cell_type": "markdown",
   "metadata": {},
   "source": [
    "```HTML\n",
    "<style>\n",
    "\t.penguin {\n",
    "\t\t--penguin-skin: gray;\n",
    "\t\tposition: relative;\n",
    "\t\tmargin: auto;\n",
    "\t\tdisplay: block;\n",
    "\t\tmargin-top: 5%;\n",
    "\t\twidth: 300px;\n",
    "\t\theight: 300px;\n",
    "\t}\n",
    "\t\n",
    "\t.penguin-top {\n",
    "\t\ttop: 10%;\n",
    "\t\tleft: 25%;\n",
    "\t\t/* change code below */\n",
    "\t\tbackground: var(--penguin-skin);\n",
    "\t\t/* change code above */\n",
    "\t\twidth: 50%;\n",
    "\t\theight: 45%;\n",
    "\t\tborder-radius: 70% 70% 60% 60%;\n",
    "\t}\n",
    "\t\n",
    "\t.penguin-bottom {\n",
    "\t\ttop: 40%;\n",
    "\t\tleft: 23.5%;\n",
    "\t\t/* change code below */\n",
    "\t\tbackground: var(--penguin-skin);\n",
    "\t\t/* change code above */\n",
    "\t\twidth: 53%;\n",
    "\t\theight: 45%;\n",
    "\t\tborder-radius: 70% 70% 100% 100%;\n",
    "\t}\n",
    "\t\n",
    "\t.right-hand {\n",
    "\t\ttop: 0%;\n",
    "\t\tleft: -5%;\n",
    "\t\t/* change code below */\n",
    "\t\tbackground: var(--penguin-skin);\n",
    "\t\t/* change code above */\n",
    "\t\twidth: 30%;\n",
    "\t\theight: 60%;\n",
    "\t\tborder-radius: 30% 30% 120% 30%;\n",
    "\t\ttransform: rotate(45deg);\n",
    "\t\tz-index: -1;\n",
    "\t}\n",
    "\t\n",
    "\t.left-hand {\n",
    "\t\ttop: 0%;\n",
    "\t\tleft: 75%;\n",
    "\t\t/* change code below */\n",
    "\t\tbackground: var(--penguin-skin);\n",
    "\t\t/* change code above */\n",
    "\t\twidth: 30%;\n",
    "\t\theight: 60%;\n",
    "\t\tborder-radius: 30% 30% 30% 120%;\n",
    "\t\ttransform: rotate(-45deg);\n",
    "\t\tz-index: -1;\n",
    "\t}\n",
    "\t\n",
    "\t.right-cheek {\n",
    "\t\ttop: 15%;\n",
    "\t\tleft: 35%;\n",
    "\t\tbackground: white;\n",
    "\t\twidth: 60%;\n",
    "\t\theight: 70%;\n",
    "\t\tborder-radius: 70% 70% 60% 60%;\n",
    "\t}\n",
    "\t\n",
    "\t.left-cheek {\n",
    "\t\ttop: 15%;\n",
    "\t\tleft: 5%;\n",
    "\t\tbackground: white;\n",
    "\t\twidth: 60%;\n",
    "\t\theight: 70%;\n",
    "\t\tborder-radius: 70% 70% 60% 60%;\n",
    "\t}\n",
    "\t\n",
    "\t.belly {\n",
    "\t\ttop: 60%;\n",
    "\t\tleft: 2.5%;\n",
    "\t\tbackground: white;\n",
    "\t\twidth: 95%;\n",
    "\t\theight: 100%;\n",
    "\t\tborder-radius: 120% 120% 100% 100%;\n",
    "\t}\n",
    "\t\n",
    "\t.right-feet {\n",
    "\t\ttop: 85%;\n",
    "\t\tleft: 60%;\n",
    "\t\tbackground: orange;\n",
    "\t\twidth: 15%;\n",
    "\t\theight: 30%;\n",
    "\t\tborder-radius: 50% 50% 50% 50%;\n",
    "\t\ttransform: rotate(-80deg);\n",
    "\t\tz-index: -2222;\n",
    "\t}\n",
    "\t\n",
    "\t.left-feet {\n",
    "\t\ttop: 85%;\n",
    "\t\tleft: 25%;\n",
    "\t\tbackground: orange;\n",
    "\t\twidth: 15%;\n",
    "\t\theight: 30%;\n",
    "\t\tborder-radius: 50% 50% 50% 50%;\n",
    "\t\ttransform: rotate(80deg);\n",
    "\t\tz-index: -2222;\n",
    "\t}\n",
    "\t\n",
    "\t.right-eye {\n",
    "\t\ttop: 45%;\n",
    "\t\tleft: 60%;\n",
    "\t\tbackground: black;\n",
    "\t\twidth: 15%;\n",
    "\t\theight: 17%;\n",
    "\t\tborder-radius: 50%;\n",
    "\t}\n",
    "\t\n",
    "\t.left-eye {\n",
    "\t\ttop: 45%;\n",
    "\t\tleft: 25%;\n",
    "\t\tbackground: black;\n",
    "\t\twidth: 15%;\n",
    "\t\theight: 17%;\n",
    "\t\tborder-radius: 50%;\n",
    "\t}\n",
    "\t\n",
    "\t.sparkle {\n",
    "\t\ttop: 25%;\n",
    "\t\tleft: 15%;\n",
    "\t\tbackground: white;\n",
    "\t\twidth: 35%;\n",
    "\t\theight: 35%;\n",
    "\t\tborder-radius: 50%;\n",
    "\t}\n",
    "\t\n",
    "\t.blush-right {\n",
    "\t\ttop: 65%;\n",
    "\t\tleft: 15%;\n",
    "\t\tbackground: pink;\n",
    "\t\twidth: 15%;\n",
    "\t\theight: 10%;\n",
    "\t\tborder-radius: 50%;\n",
    "\t}\n",
    "\t\n",
    "\t.blush-left {\n",
    "\t\ttop: 65%;\n",
    "\t\tleft: 70%;\n",
    "\t\tbackground: pink;\n",
    "\t\twidth: 15%;\n",
    "\t\theight: 10%;\n",
    "\t\tborder-radius: 50%;\n",
    "\t}\n",
    "\t\n",
    "\t.beak-top {\n",
    "\t\ttop: 60%;\n",
    "\t\tleft: 40%;\n",
    "\t\tbackground: orange;\n",
    "\t\twidth: 20%;\n",
    "\t\theight: 10%;\n",
    "\t\tborder-radius: 50%;\n",
    "\t}\n",
    "\t\n",
    "\t.beak-bottom {\n",
    "\t\ttop: 65%;\n",
    "\t\tleft: 42%;\n",
    "\t\tbackground: orange;\n",
    "\t\twidth: 16%;\n",
    "\t\theight: 10%;\n",
    "\t\tborder-radius: 50%;\n",
    "\t}\n",
    "\t\n",
    "\tbody {\n",
    "\t\tbackground: #c6faf1;\n",
    "\t}\n",
    "\t\n",
    "\t.penguin * {\n",
    "\t\tposition: absolute;\n",
    "\t}\n",
    "</style>\n",
    "<div class=\"penguin\">\n",
    "\t<div class=\"penguin-bottom\">\n",
    "\t\t<div class=\"right-hand\"></div>\n",
    "\t\t<div class=\"left-hand\"></div>\n",
    "\t\t<div class=\"right-feet\"></div>\n",
    "\t\t<div class=\"left-feet\"></div>\n",
    "\t</div>\n",
    "\t<div class=\"penguin-top\">\n",
    "\t\t<div class=\"right-cheek\"></div>\n",
    "\t\t<div class=\"left-cheek\"></div>\n",
    "\t\t<div class=\"belly\"></div>\n",
    "\t\t<div class=\"right-eye\">\n",
    "\t\t\t<div class=\"sparkle\"></div>\n",
    "\t\t</div>\n",
    "\t\t<div class=\"left-eye\">\n",
    "\t\t\t<div class=\"sparkle\"></div>\n",
    "\t\t</div>\n",
    "\t\t<div class=\"blush-right\"></div>\n",
    "\t\t<div class=\"blush-left\"></div>\n",
    "\t\t<div class=\"beak-top\"></div>\n",
    "\t\t<div class=\"beak-bottom\"></div>\n",
    "\t</div>\n",
    "</div>\n",
    "```"
   ]
  },
  {
   "cell_type": "code",
   "execution_count": 68,
   "metadata": {},
   "outputs": [
    {
     "data": {
      "text/html": [
       "\n",
       "        <iframe\n",
       "            width=\"100%\"\n",
       "            height=\"500\"\n",
       "            src=\"./source-solution/02-basic-css/038-use-a-custom-css-variable.html\"\n",
       "            frameborder=\"0\"\n",
       "            allowfullscreen\n",
       "        ></iframe>\n",
       "        "
      ],
      "text/plain": [
       "<IPython.lib.display.IFrame at 0x17a821ed7f0>"
      ]
     },
     "execution_count": 68,
     "metadata": {},
     "output_type": "execute_result"
    }
   ],
   "source": [
    "IFrame('./source-solution/02-basic-css/038-use-a-custom-css-variable.html', '100%', 500)"
   ]
  },
  {
   "cell_type": "markdown",
   "metadata": {},
   "source": [
    "### Attach a Fallback value to a CSS Variable"
   ]
  },
  {
   "cell_type": "markdown",
   "metadata": {},
   "source": [
    "When using your variable as a CSS property value, you can attach a fallback value that your browser will revert to if the given variable is invalid.\n",
    "\n",
    "Note: This fallback is not used to increase browser compatibility, and it will not work on IE browsers. Rather, it is used so that the browser has a color to display if it cannot find your variable.\n",
    "\n",
    "Here's how you do it:\n",
    "\n",
    "```CSS\n",
    "background: var(--penguin-skin, black);\n",
    "```\n",
    "\n",
    "This will set background to black if your variable wasn't set. Note that this can be useful for debugging.\n",
    "\n",
    "---\n",
    "It looks like there is a problem with the variables supplied to the `.penguin-top` and `.penguin-bottom` classes. Rather than fix the typo, add a fallback value of `black` to the `background` property of the `.penguin-top` and `.penguin-bottom` classes."
   ]
  },
  {
   "cell_type": "markdown",
   "metadata": {},
   "source": [
    "```HTML\n",
    "<style>\n",
    "\t.penguin {\n",
    "\t\t--penguin-skin: black;\n",
    "\t\t--penguin-belly: gray;\n",
    "\t\t--penguin-beak: yellow;\n",
    "\t\tposition: relative;\n",
    "\t\tmargin: auto;\n",
    "\t\tdisplay: block;\n",
    "\t\tmargin-top: 5%;\n",
    "\t\twidth: 300px;\n",
    "\t\theight: 300px;\n",
    "\t}\n",
    "\t\n",
    "\t.penguin-top {\n",
    "\t\ttop: 10%;\n",
    "\t\tleft: 25%;\n",
    "\t\t/* change code below */\n",
    "\t\tbackground: var(--pengiun-skin, black);\n",
    "\t\t/* change code above */\n",
    "\t\twidth: 50%;\n",
    "\t\theight: 45%;\n",
    "\t\tborder-radius: 70% 70% 60% 60%;\n",
    "\t}\n",
    "\t\n",
    "\t.penguin-bottom {\n",
    "\t\ttop: 40%;\n",
    "\t\tleft: 23.5%;\n",
    "\t\t/* change code below */\n",
    "\t\tbackground: var(--pengiun-skin, black);\n",
    "\t\t/* change code above */\n",
    "\t\twidth: 53%;\n",
    "\t\theight: 45%;\n",
    "\t\tborder-radius: 70% 70% 100% 100%;\n",
    "\t}\n",
    "\t\n",
    "\t.right-hand {\n",
    "\t\ttop: 0%;\n",
    "\t\tleft: -5%;\n",
    "\t\tbackground: var(--penguin-skin, black);\n",
    "\t\twidth: 30%;\n",
    "\t\theight: 60%;\n",
    "\t\tborder-radius: 30% 30% 120% 30%;\n",
    "\t\ttransform: rotate(45deg);\n",
    "\t\tz-index: -1;\n",
    "\t}\n",
    "\t\n",
    "\t.left-hand {\n",
    "\t\ttop: 0%;\n",
    "\t\tleft: 75%;\n",
    "\t\tbackground: var(--penguin-skin, black);\n",
    "\t\twidth: 30%;\n",
    "\t\theight: 60%;\n",
    "\t\tborder-radius: 30% 30% 30% 120%;\n",
    "\t\ttransform: rotate(-45deg);\n",
    "\t\tz-index: -1;\n",
    "\t}\n",
    "\t\n",
    "\t.right-cheek {\n",
    "\t\ttop: 15%;\n",
    "\t\tleft: 35%;\n",
    "\t\tbackground: var(--penguin-belly, white);\n",
    "\t\twidth: 60%;\n",
    "\t\theight: 70%;\n",
    "\t\tborder-radius: 70% 70% 60% 60%;\n",
    "\t}\n",
    "\t\n",
    "\t.left-cheek {\n",
    "\t\ttop: 15%;\n",
    "\t\tleft: 5%;\n",
    "\t\tbackground: var(--penguin-belly, white);\n",
    "\t\twidth: 60%;\n",
    "\t\theight: 70%;\n",
    "\t\tborder-radius: 70% 70% 60% 60%;\n",
    "\t}\n",
    "\t\n",
    "\t.belly {\n",
    "\t\ttop: 60%;\n",
    "\t\tleft: 2.5%;\n",
    "\t\tbackground: var(--penguin-belly, white);\n",
    "\t\twidth: 95%;\n",
    "\t\theight: 100%;\n",
    "\t\tborder-radius: 120% 120% 100% 100%;\n",
    "\t}\n",
    "\t\n",
    "\t.right-feet {\n",
    "\t\ttop: 85%;\n",
    "\t\tleft: 60%;\n",
    "\t\tbackground: var(--penguin-beak, orange);\n",
    "\t\twidth: 15%;\n",
    "\t\theight: 30%;\n",
    "\t\tborder-radius: 50% 50% 50% 50%;\n",
    "\t\ttransform: rotate(-80deg);\n",
    "\t\tz-index: -2222;\n",
    "\t}\n",
    "\t\n",
    "\t.left-feet {\n",
    "\t\ttop: 85%;\n",
    "\t\tleft: 25%;\n",
    "\t\tbackground: var(--penguin-beak, orange);\n",
    "\t\twidth: 15%;\n",
    "\t\theight: 30%;\n",
    "\t\tborder-radius: 50% 50% 50% 50%;\n",
    "\t\ttransform: rotate(80deg);\n",
    "\t\tz-index: -2222;\n",
    "\t}\n",
    "\t\n",
    "\t.right-eye {\n",
    "\t\ttop: 45%;\n",
    "\t\tleft: 60%;\n",
    "\t\tbackground: black;\n",
    "\t\twidth: 15%;\n",
    "\t\theight: 17%;\n",
    "\t\tborder-radius: 50%;\n",
    "\t}\n",
    "\t\n",
    "\t.left-eye {\n",
    "\t\ttop: 45%;\n",
    "\t\tleft: 25%;\n",
    "\t\tbackground: black;\n",
    "\t\twidth: 15%;\n",
    "\t\theight: 17%;\n",
    "\t\tborder-radius: 50%;\n",
    "\t}\n",
    "\t\n",
    "\t.sparkle {\n",
    "\t\ttop: 25%;\n",
    "\t\tleft: 15%;\n",
    "\t\tbackground: white;\n",
    "\t\twidth: 35%;\n",
    "\t\theight: 35%;\n",
    "\t\tborder-radius: 50%;\n",
    "\t}\n",
    "\t\n",
    "\t.blush-right {\n",
    "\t\ttop: 65%;\n",
    "\t\tleft: 15%;\n",
    "\t\tbackground: pink;\n",
    "\t\twidth: 15%;\n",
    "\t\theight: 10%;\n",
    "\t\tborder-radius: 50%;\n",
    "\t}\n",
    "\t\n",
    "\t.blush-left {\n",
    "\t\ttop: 65%;\n",
    "\t\tleft: 70%;\n",
    "\t\tbackground: pink;\n",
    "\t\twidth: 15%;\n",
    "\t\theight: 10%;\n",
    "\t\tborder-radius: 50%;\n",
    "\t}\n",
    "\t\n",
    "\t.beak-top {\n",
    "\t\ttop: 60%;\n",
    "\t\tleft: 40%;\n",
    "\t\tbackground: var(--penguin-beak, orange);\n",
    "\t\twidth: 20%;\n",
    "\t\theight: 10%;\n",
    "\t\tborder-radius: 50%;\n",
    "\t}\n",
    "\t\n",
    "\t.beak-bottom {\n",
    "\t\ttop: 65%;\n",
    "\t\tleft: 42%;\n",
    "\t\tbackground: var(--penguin-beak, orange);\n",
    "\t\twidth: 16%;\n",
    "\t\theight: 10%;\n",
    "\t\tborder-radius: 50%;\n",
    "\t}\n",
    "\t\n",
    "\tbody {\n",
    "\t\tbackground: #c6faf1;\n",
    "\t}\n",
    "\t\n",
    "\t.penguin * {\n",
    "\t\tposition: absolute;\n",
    "\t}\n",
    "</style>\n",
    "<div class=\"penguin\">\n",
    "\t<div class=\"penguin-bottom\">\n",
    "\t\t<div class=\"right-hand\"></div>\n",
    "\t\t<div class=\"left-hand\"></div>\n",
    "\t\t<div class=\"right-feet\"></div>\n",
    "\t\t<div class=\"left-feet\"></div>\n",
    "\t</div>\n",
    "\t<div class=\"penguin-top\">\n",
    "\t\t<div class=\"right-cheek\"></div>\n",
    "\t\t<div class=\"left-cheek\"></div>\n",
    "\t\t<div class=\"belly\"></div>\n",
    "\t\t<div class=\"right-eye\">\n",
    "\t\t\t<div class=\"sparkle\"></div>\n",
    "\t\t</div>\n",
    "\t\t<div class=\"left-eye\">\n",
    "\t\t\t<div class=\"sparkle\"></div>\n",
    "\t\t</div>\n",
    "\t\t<div class=\"blush-right\"></div>\n",
    "\t\t<div class=\"blush-left\"></div>\n",
    "\t\t<div class=\"beak-top\"></div>\n",
    "\t\t<div class=\"beak-bottom\"></div>\n",
    "\t</div>\n",
    "</div>\n",
    "```"
   ]
  },
  {
   "cell_type": "code",
   "execution_count": 69,
   "metadata": {},
   "outputs": [
    {
     "data": {
      "text/html": [
       "\n",
       "        <iframe\n",
       "            width=\"100%\"\n",
       "            height=\"500\"\n",
       "            src=\"./source-solution/02-basic-css/039-attach-a-fallback-value-to-a-css-variable.html\"\n",
       "            frameborder=\"0\"\n",
       "            allowfullscreen\n",
       "        ></iframe>\n",
       "        "
      ],
      "text/plain": [
       "<IPython.lib.display.IFrame at 0x17a821edb38>"
      ]
     },
     "execution_count": 69,
     "metadata": {},
     "output_type": "execute_result"
    }
   ],
   "source": [
    "IFrame('./source-solution/02-basic-css/039-attach-a-fallback-value-to-a-css-variable.html', '100%', 500)"
   ]
  },
  {
   "cell_type": "markdown",
   "metadata": {},
   "source": [
    "### Improve Compatibility with Browser Fallbacks"
   ]
  },
  {
   "cell_type": "markdown",
   "metadata": {},
   "source": [
    "When working with CSS you will likely run into browser compatibility issues at some point. This is why it's important to provide browser fallbacks to avoid potential problems.\n",
    "\n",
    "When your browser parses the CSS of a webpage, it ignores any properties that it doesn't recognize or support. For example, if you use a CSS variable to assign a background color on a site, Internet Explorer will ignore the background color because it does not support CSS variables. In that case, the browser will use whatever value it has for that property. If it can't find any other value set for that property, it will revert to the default value, which is typically not ideal.\n",
    "\n",
    "This means that if you do want to provide a browser fallback, it's as easy as providing another more widely supported value immediately before your declaration. That way an older browser will have something to fall back on, while a newer browser will just interpret whatever declaration comes later in the cascade.\n",
    "\n",
    "---\n",
    "It looks like a variable is being used to set the background color of the `.red-box` class. Let's improve our browser compatibility by adding another `background` declaration right before the existing declaration and set its value to red."
   ]
  },
  {
   "cell_type": "markdown",
   "metadata": {},
   "source": [
    "```HTML\n",
    "<style>\n",
    "\t:root {\n",
    "\t\t--red-color: red;\n",
    "\t}\n",
    "\t\n",
    "\t.red-box {\n",
    "\t\tbackground: red;\n",
    "\t\tbackground: var(--red-color);\n",
    "\t\theight: 200px;\n",
    "\t\twidth: 200px;\n",
    "\t}\n",
    "</style>\n",
    "<div class=\"red-box\"></div>\n",
    "```"
   ]
  },
  {
   "cell_type": "code",
   "execution_count": 70,
   "metadata": {},
   "outputs": [
    {
     "data": {
      "text/html": [
       "\n",
       "        <iframe\n",
       "            width=\"100%\"\n",
       "            height=\"500\"\n",
       "            src=\"./source-solution/02-basic-css/040-improve-compatibility-with-browser-fallbacks.html\"\n",
       "            frameborder=\"0\"\n",
       "            allowfullscreen\n",
       "        ></iframe>\n",
       "        "
      ],
      "text/plain": [
       "<IPython.lib.display.IFrame at 0x17a821ede80>"
      ]
     },
     "execution_count": 70,
     "metadata": {},
     "output_type": "execute_result"
    }
   ],
   "source": [
    "IFrame('./source-solution/02-basic-css/040-improve-compatibility-with-browser-fallbacks.html', '100%', 500)"
   ]
  },
  {
   "cell_type": "markdown",
   "metadata": {},
   "source": [
    "### Inherit CSS Variables"
   ]
  },
  {
   "cell_type": "markdown",
   "metadata": {},
   "source": [
    "When you create a variable, it is available for you to use inside the selector in which you create it. It also is available in any of that selector's descendants. This happens because CSS variables are inherited, just like ordinary properties.\n",
    "\n",
    "To make use of inheritance, CSS variables are often defined in the :root element.\n",
    "\n",
    "`:root` is a pseudo-class selector that matches the root element of the document, usually the `html` element. By creating your variables in `:root`, they will be available globally and can be accessed from any other selector in the style sheet.\n",
    "\n",
    "---\n",
    "Define a variable named `--penguin-belly` in the `:root` selector and give it the value of `pink`. You can then see that the variable is inherited and that all the child elements which use it get pink backgrounds."
   ]
  },
  {
   "cell_type": "markdown",
   "metadata": {},
   "source": [
    "```HTML\n",
    "<style>\n",
    "\t:root {\n",
    "\t\t/* add code below */\n",
    "\t\t--penguin-belly: pink;\n",
    "\t\t/* add code above */\n",
    "\t}\n",
    "\t\n",
    "\tbody {\n",
    "\t\tbackground: var(--penguin-belly, #c6faf1);\n",
    "\t}\n",
    "\t\n",
    "\t.penguin {\n",
    "\t\t--penguin-skin: gray;\n",
    "\t\t--penguin-beak: orange;\n",
    "\t\tposition: relative;\n",
    "\t\tmargin: auto;\n",
    "\t\tdisplay: block;\n",
    "\t\tmargin-top: 5%;\n",
    "\t\twidth: 300px;\n",
    "\t\theight: 300px;\n",
    "\t}\n",
    "\t\n",
    "\t.right-cheek {\n",
    "\t\ttop: 15%;\n",
    "\t\tleft: 35%;\n",
    "\t\tbackground: var(--penguin-belly, white);\n",
    "\t\twidth: 60%;\n",
    "\t\theight: 70%;\n",
    "\t\tborder-radius: 70% 70% 60% 60%;\n",
    "\t}\n",
    "\t\n",
    "\t.left-cheek {\n",
    "\t\ttop: 15%;\n",
    "\t\tleft: 5%;\n",
    "\t\tbackground: var(--penguin-belly, white);\n",
    "\t\twidth: 60%;\n",
    "\t\theight: 70%;\n",
    "\t\tborder-radius: 70% 70% 60% 60%;\n",
    "\t}\n",
    "\t\n",
    "\t.belly {\n",
    "\t\ttop: 60%;\n",
    "\t\tleft: 2.5%;\n",
    "\t\tbackground: var(--penguin-belly, white);\n",
    "\t\twidth: 95%;\n",
    "\t\theight: 100%;\n",
    "\t\tborder-radius: 120% 120% 100% 100%;\n",
    "\t}\n",
    "\t\n",
    "\t.penguin-top {\n",
    "\t\ttop: 10%;\n",
    "\t\tleft: 25%;\n",
    "\t\tbackground: var(--penguin-skin, gray);\n",
    "\t\twidth: 50%;\n",
    "\t\theight: 45%;\n",
    "\t\tborder-radius: 70% 70% 60% 60%;\n",
    "\t}\n",
    "\t\n",
    "\t.penguin-bottom {\n",
    "\t\ttop: 40%;\n",
    "\t\tleft: 23.5%;\n",
    "\t\tbackground: var(--penguin-skin, gray);\n",
    "\t\twidth: 53%;\n",
    "\t\theight: 45%;\n",
    "\t\tborder-radius: 70% 70% 100% 100%;\n",
    "\t}\n",
    "\t\n",
    "\t.right-hand {\n",
    "\t\ttop: 0%;\n",
    "\t\tleft: -5%;\n",
    "\t\tbackground: var(--penguin-skin, gray);\n",
    "\t\twidth: 30%;\n",
    "\t\theight: 60%;\n",
    "\t\tborder-radius: 30% 30% 120% 30%;\n",
    "\t\ttransform: rotate(45deg);\n",
    "\t\tz-index: -1;\n",
    "\t}\n",
    "\t\n",
    "\t.left-hand {\n",
    "\t\ttop: 0%;\n",
    "\t\tleft: 75%;\n",
    "\t\tbackground: var(--penguin-skin, gray);\n",
    "\t\twidth: 30%;\n",
    "\t\theight: 60%;\n",
    "\t\tborder-radius: 30% 30% 30% 120%;\n",
    "\t\ttransform: rotate(-45deg);\n",
    "\t\tz-index: -1;\n",
    "\t}\n",
    "\t\n",
    "\t.right-feet {\n",
    "\t\ttop: 85%;\n",
    "\t\tleft: 60%;\n",
    "\t\tbackground: var(--penguin-beak, orange);\n",
    "\t\twidth: 15%;\n",
    "\t\theight: 30%;\n",
    "\t\tborder-radius: 50% 50% 50% 50%;\n",
    "\t\ttransform: rotate(-80deg);\n",
    "\t\tz-index: -2222;\n",
    "\t}\n",
    "\t\n",
    "\t.left-feet {\n",
    "\t\ttop: 85%;\n",
    "\t\tleft: 25%;\n",
    "\t\tbackground: var(--penguin-beak, orange);\n",
    "\t\twidth: 15%;\n",
    "\t\theight: 30%;\n",
    "\t\tborder-radius: 50% 50% 50% 50%;\n",
    "\t\ttransform: rotate(80deg);\n",
    "\t\tz-index: -2222;\n",
    "\t}\n",
    "\t\n",
    "\t.right-eye {\n",
    "\t\ttop: 45%;\n",
    "\t\tleft: 60%;\n",
    "\t\tbackground: black;\n",
    "\t\twidth: 15%;\n",
    "\t\theight: 17%;\n",
    "\t\tborder-radius: 50%;\n",
    "\t}\n",
    "\t\n",
    "\t.left-eye {\n",
    "\t\ttop: 45%;\n",
    "\t\tleft: 25%;\n",
    "\t\tbackground: black;\n",
    "\t\twidth: 15%;\n",
    "\t\theight: 17%;\n",
    "\t\tborder-radius: 50%;\n",
    "\t}\n",
    "\t\n",
    "\t.sparkle {\n",
    "\t\ttop: 25%;\n",
    "\t\tleft: 15%;\n",
    "\t\tbackground: white;\n",
    "\t\twidth: 35%;\n",
    "\t\theight: 35%;\n",
    "\t\tborder-radius: 50%;\n",
    "\t}\n",
    "\t\n",
    "\t.blush-right {\n",
    "\t\ttop: 65%;\n",
    "\t\tleft: 15%;\n",
    "\t\tbackground: pink;\n",
    "\t\twidth: 15%;\n",
    "\t\theight: 10%;\n",
    "\t\tborder-radius: 50%;\n",
    "\t}\n",
    "\t\n",
    "\t.blush-left {\n",
    "\t\ttop: 65%;\n",
    "\t\tleft: 70%;\n",
    "\t\tbackground: pink;\n",
    "\t\twidth: 15%;\n",
    "\t\theight: 10%;\n",
    "\t\tborder-radius: 50%;\n",
    "\t}\n",
    "\t\n",
    "\t.beak-top {\n",
    "\t\ttop: 60%;\n",
    "\t\tleft: 40%;\n",
    "\t\tbackground: var(--penguin-beak, orange);\n",
    "\t\twidth: 20%;\n",
    "\t\theight: 10%;\n",
    "\t\tborder-radius: 50%;\n",
    "\t}\n",
    "\t\n",
    "\t.beak-bottom {\n",
    "\t\ttop: 65%;\n",
    "\t\tleft: 42%;\n",
    "\t\tbackground: var(--penguin-beak, orange);\n",
    "\t\twidth: 16%;\n",
    "\t\theight: 10%;\n",
    "\t\tborder-radius: 50%;\n",
    "\t}\n",
    "\t\n",
    "\t.penguin * {\n",
    "\t\tposition: absolute;\n",
    "\t}\n",
    "</style>\n",
    "<div class=\"penguin\">\n",
    "\t<div class=\"penguin-bottom\">\n",
    "\t\t<div class=\"right-hand\"></div>\n",
    "\t\t<div class=\"left-hand\"></div>\n",
    "\t\t<div class=\"right-feet\"></div>\n",
    "\t\t<div class=\"left-feet\"></div>\n",
    "\t</div>\n",
    "\t<div class=\"penguin-top\">\n",
    "\t\t<div class=\"right-cheek\"></div>\n",
    "\t\t<div class=\"left-cheek\"></div>\n",
    "\t\t<div class=\"belly\"></div>\n",
    "\t\t<div class=\"right-eye\">\n",
    "\t\t\t<div class=\"sparkle\"></div>\n",
    "\t\t</div>\n",
    "\t\t<div class=\"left-eye\">\n",
    "\t\t\t<div class=\"sparkle\"></div>\n",
    "\t\t</div>\n",
    "\t\t<div class=\"blush-right\"></div>\n",
    "\t\t<div class=\"blush-left\"></div>\n",
    "\t\t<div class=\"beak-top\"></div>\n",
    "\t\t<div class=\"beak-bottom\"></div>\n",
    "\t</div>\n",
    "</div>\n",
    "```"
   ]
  },
  {
   "cell_type": "code",
   "execution_count": 71,
   "metadata": {},
   "outputs": [
    {
     "data": {
      "text/html": [
       "\n",
       "        <iframe\n",
       "            width=\"100%\"\n",
       "            height=\"500\"\n",
       "            src=\"./source-solution/02-basic-css/041-inherit-css-variables.html\"\n",
       "            frameborder=\"0\"\n",
       "            allowfullscreen\n",
       "        ></iframe>\n",
       "        "
      ],
      "text/plain": [
       "<IPython.lib.display.IFrame at 0x17a821b7240>"
      ]
     },
     "execution_count": 71,
     "metadata": {},
     "output_type": "execute_result"
    }
   ],
   "source": [
    "IFrame('./source-solution/02-basic-css/041-inherit-css-variables.html', '100%', 500)"
   ]
  },
  {
   "cell_type": "markdown",
   "metadata": {},
   "source": [
    "### Change a variable for a specific area"
   ]
  },
  {
   "cell_type": "markdown",
   "metadata": {},
   "source": [
    "When you create your variables in `:root` they will set the value of that variable for the whole page.\n",
    "\n",
    "You can then over-write these variables by setting them again within a specific element.\n",
    "\n",
    "---\n",
    "Change the value of `--penguin-belly` to `white` in the `penguin` class."
   ]
  },
  {
   "cell_type": "markdown",
   "metadata": {},
   "source": [
    "```HTML\n",
    "<style>\n",
    "\t:root {\n",
    "\t\t--penguin-skin: gray;\n",
    "\t\t--penguin-belly: pink;\n",
    "\t\t--penguin-beak: orange;\n",
    "\t}\n",
    "\t\n",
    "\tbody {\n",
    "\t\tbackground: var(--penguin-belly, #c6faf1);\n",
    "\t}\n",
    "\t\n",
    "\t.penguin {\n",
    "\t\t/* add code below */\n",
    "\t\t--penguin-belly: white;\n",
    "\t\t/* add code above */\n",
    "\t\tposition: relative;\n",
    "\t\tmargin: auto;\n",
    "\t\tdisplay: block;\n",
    "\t\tmargin-top: 5%;\n",
    "\t\twidth: 300px;\n",
    "\t\theight: 300px;\n",
    "\t}\n",
    "\t\n",
    "\t.right-cheek {\n",
    "\t\ttop: 15%;\n",
    "\t\tleft: 35%;\n",
    "\t\tbackground: var(--penguin-belly, pink);\n",
    "\t\twidth: 60%;\n",
    "\t\theight: 70%;\n",
    "\t\tborder-radius: 70% 70% 60% 60%;\n",
    "\t}\n",
    "\t\n",
    "\t.left-cheek {\n",
    "\t\ttop: 15%;\n",
    "\t\tleft: 5%;\n",
    "\t\tbackground: var(--penguin-belly, pink);\n",
    "\t\twidth: 60%;\n",
    "\t\theight: 70%;\n",
    "\t\tborder-radius: 70% 70% 60% 60%;\n",
    "\t}\n",
    "\t\n",
    "\t.belly {\n",
    "\t\ttop: 60%;\n",
    "\t\tleft: 2.5%;\n",
    "\t\tbackground: var(--penguin-belly, pink);\n",
    "\t\twidth: 95%;\n",
    "\t\theight: 100%;\n",
    "\t\tborder-radius: 120% 120% 100% 100%;\n",
    "\t}\n",
    "\t\n",
    "\t.penguin-top {\n",
    "\t\ttop: 10%;\n",
    "\t\tleft: 25%;\n",
    "\t\tbackground: var(--penguin-skin, gray);\n",
    "\t\twidth: 50%;\n",
    "\t\theight: 45%;\n",
    "\t\tborder-radius: 70% 70% 60% 60%;\n",
    "\t}\n",
    "\t\n",
    "\t.penguin-bottom {\n",
    "\t\ttop: 40%;\n",
    "\t\tleft: 23.5%;\n",
    "\t\tbackground: var(--penguin-skin, gray);\n",
    "\t\twidth: 53%;\n",
    "\t\theight: 45%;\n",
    "\t\tborder-radius: 70% 70% 100% 100%;\n",
    "\t}\n",
    "\t\n",
    "\t.right-hand {\n",
    "\t\ttop: 0%;\n",
    "\t\tleft: -5%;\n",
    "\t\tbackground: var(--penguin-skin, gray);\n",
    "\t\twidth: 30%;\n",
    "\t\theight: 60%;\n",
    "\t\tborder-radius: 30% 30% 120% 30%;\n",
    "\t\ttransform: rotate(45deg);\n",
    "\t\tz-index: -1;\n",
    "\t}\n",
    "\t\n",
    "\t.left-hand {\n",
    "\t\ttop: 0%;\n",
    "\t\tleft: 75%;\n",
    "\t\tbackground: var(--penguin-skin, gray);\n",
    "\t\twidth: 30%;\n",
    "\t\theight: 60%;\n",
    "\t\tborder-radius: 30% 30% 30% 120%;\n",
    "\t\ttransform: rotate(-45deg);\n",
    "\t\tz-index: -1;\n",
    "\t}\n",
    "\t\n",
    "\t.right-feet {\n",
    "\t\ttop: 85%;\n",
    "\t\tleft: 60%;\n",
    "\t\tbackground: var(--penguin-beak, orange);\n",
    "\t\twidth: 15%;\n",
    "\t\theight: 30%;\n",
    "\t\tborder-radius: 50% 50% 50% 50%;\n",
    "\t\ttransform: rotate(-80deg);\n",
    "\t\tz-index: -2222;\n",
    "\t}\n",
    "\t\n",
    "\t.left-feet {\n",
    "\t\ttop: 85%;\n",
    "\t\tleft: 25%;\n",
    "\t\tbackground: var(--penguin-beak, orange);\n",
    "\t\twidth: 15%;\n",
    "\t\theight: 30%;\n",
    "\t\tborder-radius: 50% 50% 50% 50%;\n",
    "\t\ttransform: rotate(80deg);\n",
    "\t\tz-index: -2222;\n",
    "\t}\n",
    "\t\n",
    "\t.right-eye {\n",
    "\t\ttop: 45%;\n",
    "\t\tleft: 60%;\n",
    "\t\tbackground: black;\n",
    "\t\twidth: 15%;\n",
    "\t\theight: 17%;\n",
    "\t\tborder-radius: 50%;\n",
    "\t}\n",
    "\t\n",
    "\t.left-eye {\n",
    "\t\ttop: 45%;\n",
    "\t\tleft: 25%;\n",
    "\t\tbackground: black;\n",
    "\t\twidth: 15%;\n",
    "\t\theight: 17%;\n",
    "\t\tborder-radius: 50%;\n",
    "\t}\n",
    "\t\n",
    "\t.sparkle {\n",
    "\t\ttop: 25%;\n",
    "\t\tleft: 15%;\n",
    "\t\tbackground: white;\n",
    "\t\twidth: 35%;\n",
    "\t\theight: 35%;\n",
    "\t\tborder-radius: 50%;\n",
    "\t}\n",
    "\t\n",
    "\t.blush-right {\n",
    "\t\ttop: 65%;\n",
    "\t\tleft: 15%;\n",
    "\t\tbackground: pink;\n",
    "\t\twidth: 15%;\n",
    "\t\theight: 10%;\n",
    "\t\tborder-radius: 50%;\n",
    "\t}\n",
    "\t\n",
    "\t.blush-left {\n",
    "\t\ttop: 65%;\n",
    "\t\tleft: 70%;\n",
    "\t\tbackground: pink;\n",
    "\t\twidth: 15%;\n",
    "\t\theight: 10%;\n",
    "\t\tborder-radius: 50%;\n",
    "\t}\n",
    "\t\n",
    "\t.beak-top {\n",
    "\t\ttop: 60%;\n",
    "\t\tleft: 40%;\n",
    "\t\tbackground: var(--penguin-beak, orange);\n",
    "\t\twidth: 20%;\n",
    "\t\theight: 10%;\n",
    "\t\tborder-radius: 50%;\n",
    "\t}\n",
    "\t\n",
    "\t.beak-bottom {\n",
    "\t\ttop: 65%;\n",
    "\t\tleft: 42%;\n",
    "\t\tbackground: var(--penguin-beak, orange);\n",
    "\t\twidth: 16%;\n",
    "\t\theight: 10%;\n",
    "\t\tborder-radius: 50%;\n",
    "\t}\n",
    "\t\n",
    "\t.penguin * {\n",
    "\t\tposition: absolute;\n",
    "\t}\n",
    "</style>\n",
    "<div class=\"penguin\">\n",
    "\t<div class=\"penguin-bottom\">\n",
    "\t\t<div class=\"right-hand\"></div>\n",
    "\t\t<div class=\"left-hand\"></div>\n",
    "\t\t<div class=\"right-feet\"></div>\n",
    "\t\t<div class=\"left-feet\"></div>\n",
    "\t</div>\n",
    "\t<div class=\"penguin-top\">\n",
    "\t\t<div class=\"right-cheek\"></div>\n",
    "\t\t<div class=\"left-cheek\"></div>\n",
    "\t\t<div class=\"belly\"></div>\n",
    "\t\t<div class=\"right-eye\">\n",
    "\t\t\t<div class=\"sparkle\"></div>\n",
    "\t\t</div>\n",
    "\t\t<div class=\"left-eye\">\n",
    "\t\t\t<div class=\"sparkle\"></div>\n",
    "\t\t</div>\n",
    "\t\t<div class=\"blush-right\"></div>\n",
    "\t\t<div class=\"blush-left\"></div>\n",
    "\t\t<div class=\"beak-top\"></div>\n",
    "\t\t<div class=\"beak-bottom\"></div>\n",
    "\t</div>\n",
    "</div>\n",
    "```"
   ]
  },
  {
   "cell_type": "code",
   "execution_count": 72,
   "metadata": {},
   "outputs": [
    {
     "data": {
      "text/html": [
       "\n",
       "        <iframe\n",
       "            width=\"100%\"\n",
       "            height=\"500\"\n",
       "            src=\"./source-solution/02-basic-css/042-change-a-variable-for-a-specific-area.html\"\n",
       "            frameborder=\"0\"\n",
       "            allowfullscreen\n",
       "        ></iframe>\n",
       "        "
      ],
      "text/plain": [
       "<IPython.lib.display.IFrame at 0x17a821b75c0>"
      ]
     },
     "execution_count": 72,
     "metadata": {},
     "output_type": "execute_result"
    }
   ],
   "source": [
    "IFrame('./source-solution/02-basic-css/042-change-a-variable-for-a-specific-area.html', '100%', 500)"
   ]
  },
  {
   "cell_type": "markdown",
   "metadata": {},
   "source": [
    "### Use a media query to change a variable"
   ]
  },
  {
   "cell_type": "markdown",
   "metadata": {},
   "source": [
    "CSS Variables can simplify the way you use media queries.\n",
    "\n",
    "For instance, when your screen is smaller or larger than your media query break point, you can change the value of a variable, and it will apply its style wherever it is used.\n",
    "\n",
    "---\n",
    "In the `:root` selector of the `media` query, change it so `--penguin-size` is redefined and given a value of `200px`. Also, redefine `--penguin-skin` and give it a value of `black`. Then resize the preview to see this change in action."
   ]
  },
  {
   "cell_type": "markdown",
   "metadata": {},
   "source": [
    "```HTML\n",
    "<style>\n",
    "\t:root {\n",
    "\t\t--penguin-size: 300px;\n",
    "\t\t--penguin-skin: gray;\n",
    "\t\t--penguin-belly: white;\n",
    "\t\t--penguin-beak: orange;\n",
    "\t}\n",
    "\t\n",
    "\t@media (max-width: 350px) {\n",
    "\t\t:root {\n",
    "\t\t\t/* add code below */\n",
    "\t\t\t--penguin-size: 200px;\n",
    "\t\t\t--penguin-skin: black;\n",
    "\t\t\t/* add code above */\n",
    "\t\t}\n",
    "\t}\n",
    "\t\n",
    "\t.penguin {\n",
    "\t\tposition: relative;\n",
    "\t\tmargin: auto;\n",
    "\t\tdisplay: block;\n",
    "\t\tmargin-top: 5%;\n",
    "\t\twidth: var(--penguin-size, 300px);\n",
    "\t\theight: var(--penguin-size, 300px);\n",
    "\t}\n",
    "\t\n",
    "\t.right-cheek {\n",
    "\t\ttop: 15%;\n",
    "\t\tleft: 35%;\n",
    "\t\tbackground: var(--penguin-belly, white);\n",
    "\t\twidth: 60%;\n",
    "\t\theight: 70%;\n",
    "\t\tborder-radius: 70% 70% 60% 60%;\n",
    "\t}\n",
    "\t\n",
    "\t.left-cheek {\n",
    "\t\ttop: 15%;\n",
    "\t\tleft: 5%;\n",
    "\t\tbackground: var(--penguin-belly, white);\n",
    "\t\twidth: 60%;\n",
    "\t\theight: 70%;\n",
    "\t\tborder-radius: 70% 70% 60% 60%;\n",
    "\t}\n",
    "\t\n",
    "\t.belly {\n",
    "\t\ttop: 60%;\n",
    "\t\tleft: 2.5%;\n",
    "\t\tbackground: var(--penguin-belly, white);\n",
    "\t\twidth: 95%;\n",
    "\t\theight: 100%;\n",
    "\t\tborder-radius: 120% 120% 100% 100%;\n",
    "\t}\n",
    "\t\n",
    "\t.penguin-top {\n",
    "\t\ttop: 10%;\n",
    "\t\tleft: 25%;\n",
    "\t\tbackground: var(--penguin-skin, gray);\n",
    "\t\twidth: 50%;\n",
    "\t\theight: 45%;\n",
    "\t\tborder-radius: 70% 70% 60% 60%;\n",
    "\t}\n",
    "\t\n",
    "\t.penguin-bottom {\n",
    "\t\ttop: 40%;\n",
    "\t\tleft: 23.5%;\n",
    "\t\tbackground: var(--penguin-skin, gray);\n",
    "\t\twidth: 53%;\n",
    "\t\theight: 45%;\n",
    "\t\tborder-radius: 70% 70% 100% 100%;\n",
    "\t}\n",
    "\t\n",
    "\t.right-hand {\n",
    "\t\ttop: 5%;\n",
    "\t\tleft: 25%;\n",
    "\t\tbackground: var(--penguin-skin, black);\n",
    "\t\twidth: 30%;\n",
    "\t\theight: 60%;\n",
    "\t\tborder-radius: 30% 30% 120% 30%;\n",
    "\t\ttransform: rotate(130deg);\n",
    "\t\tz-index: -1;\n",
    "\t\tanimation-duration: 3s;\n",
    "\t\tanimation-name: wave;\n",
    "\t\tanimation-iteration-count: infinite;\n",
    "\t\ttransform-origin: 0% 0%;\n",
    "\t\tanimation-timing-function: linear;\n",
    "\t}\n",
    "\t\n",
    "\t@keyframes wave {\n",
    "\t\t10% {\n",
    "\t\t\ttransform: rotate(110deg);\n",
    "\t\t}\n",
    "\t\t20% {\n",
    "\t\t\ttransform: rotate(130deg);\n",
    "\t\t}\n",
    "\t\t30% {\n",
    "\t\t\ttransform: rotate(110deg);\n",
    "\t\t}\n",
    "\t\t40% {\n",
    "\t\t\ttransform: rotate(130deg);\n",
    "\t\t}\n",
    "\t}\n",
    "\t\n",
    "\t.left-hand {\n",
    "\t\ttop: 0%;\n",
    "\t\tleft: 75%;\n",
    "\t\tbackground: var(--penguin-skin, gray);\n",
    "\t\twidth: 30%;\n",
    "\t\theight: 60%;\n",
    "\t\tborder-radius: 30% 30% 30% 120%;\n",
    "\t\ttransform: rotate(-45deg);\n",
    "\t\tz-index: -1;\n",
    "\t}\n",
    "\t\n",
    "\t.right-feet {\n",
    "\t\ttop: 85%;\n",
    "\t\tleft: 60%;\n",
    "\t\tbackground: var(--penguin-beak, orange);\n",
    "\t\twidth: 15%;\n",
    "\t\theight: 30%;\n",
    "\t\tborder-radius: 50% 50% 50% 50%;\n",
    "\t\ttransform: rotate(-80deg);\n",
    "\t\tz-index: -2222;\n",
    "\t}\n",
    "\t\n",
    "\t.left-feet {\n",
    "\t\ttop: 85%;\n",
    "\t\tleft: 25%;\n",
    "\t\tbackground: var(--penguin-beak, orange);\n",
    "\t\twidth: 15%;\n",
    "\t\theight: 30%;\n",
    "\t\tborder-radius: 50% 50% 50% 50%;\n",
    "\t\ttransform: rotate(80deg);\n",
    "\t\tz-index: -2222;\n",
    "\t}\n",
    "\t\n",
    "\t.right-eye {\n",
    "\t\ttop: 45%;\n",
    "\t\tleft: 60%;\n",
    "\t\tbackground: black;\n",
    "\t\twidth: 15%;\n",
    "\t\theight: 17%;\n",
    "\t\tborder-radius: 50%;\n",
    "\t}\n",
    "\t\n",
    "\t.left-eye {\n",
    "\t\ttop: 45%;\n",
    "\t\tleft: 25%;\n",
    "\t\tbackground: black;\n",
    "\t\twidth: 15%;\n",
    "\t\theight: 17%;\n",
    "\t\tborder-radius: 50%;\n",
    "\t}\n",
    "\t\n",
    "\t.sparkle {\n",
    "\t\ttop: 25%;\n",
    "\t\tleft: -23%;\n",
    "\t\tbackground: white;\n",
    "\t\twidth: 150%;\n",
    "\t\theight: 100%;\n",
    "\t\tborder-radius: 50%;\n",
    "\t}\n",
    "\t\n",
    "\t.blush-right {\n",
    "\t\ttop: 65%;\n",
    "\t\tleft: 15%;\n",
    "\t\tbackground: pink;\n",
    "\t\twidth: 15%;\n",
    "\t\theight: 10%;\n",
    "\t\tborder-radius: 50%;\n",
    "\t}\n",
    "\t\n",
    "\t.blush-left {\n",
    "\t\ttop: 65%;\n",
    "\t\tleft: 70%;\n",
    "\t\tbackground: pink;\n",
    "\t\twidth: 15%;\n",
    "\t\theight: 10%;\n",
    "\t\tborder-radius: 50%;\n",
    "\t}\n",
    "\t\n",
    "\t.beak-top {\n",
    "\t\ttop: 60%;\n",
    "\t\tleft: 40%;\n",
    "\t\tbackground: var(--penguin-beak, orange);\n",
    "\t\twidth: 20%;\n",
    "\t\theight: 10%;\n",
    "\t\tborder-radius: 50%;\n",
    "\t}\n",
    "\t\n",
    "\t.beak-bottom {\n",
    "\t\ttop: 65%;\n",
    "\t\tleft: 42%;\n",
    "\t\tbackground: var(--penguin-beak, orange);\n",
    "\t\twidth: 16%;\n",
    "\t\theight: 10%;\n",
    "\t\tborder-radius: 50%;\n",
    "\t}\n",
    "\t\n",
    "\tbody {\n",
    "\t\tbackground: #c6faf1;\n",
    "\t}\n",
    "\t\n",
    "\t.penguin * {\n",
    "\t\tposition: absolute;\n",
    "\t}\n",
    "</style>\n",
    "<div class=\"penguin\">\n",
    "\t<div class=\"penguin-bottom\">\n",
    "\t\t<div class=\"right-hand\"></div>\n",
    "\t\t<div class=\"left-hand\"></div>\n",
    "\t\t<div class=\"right-feet\"></div>\n",
    "\t\t<div class=\"left-feet\"></div>\n",
    "\t</div>\n",
    "\t<div class=\"penguin-top\">\n",
    "\t\t<div class=\"right-cheek\"></div>\n",
    "\t\t<div class=\"left-cheek\"></div>\n",
    "\t\t<div class=\"belly\"></div>\n",
    "\t\t<div class=\"right-eye\">\n",
    "\t\t\t<div class=\"sparkle\"></div>\n",
    "\t\t</div>\n",
    "\t\t<div class=\"left-eye\">\n",
    "\t\t\t<div class=\"sparkle\"></div>\n",
    "\t\t</div>\n",
    "\t\t<div class=\"blush-right\"></div>\n",
    "\t\t<div class=\"blush-left\"></div>\n",
    "\t\t<div class=\"beak-top\"></div>\n",
    "\t\t<div class=\"beak-bottom\"></div>\n",
    "\t</div>\n",
    "</div>\n",
    "```"
   ]
  },
  {
   "cell_type": "code",
   "execution_count": 73,
   "metadata": {
    "scrolled": true
   },
   "outputs": [
    {
     "data": {
      "text/html": [
       "\n",
       "        <iframe\n",
       "            width=\"100%\"\n",
       "            height=\"500\"\n",
       "            src=\"./source-solution/02-basic-css/043-use-a-media-query-to-change-a-variable.html\"\n",
       "            frameborder=\"0\"\n",
       "            allowfullscreen\n",
       "        ></iframe>\n",
       "        "
      ],
      "text/plain": [
       "<IPython.lib.display.IFrame at 0x17a821b7860>"
      ]
     },
     "execution_count": 73,
     "metadata": {},
     "output_type": "execute_result"
    }
   ],
   "source": [
    "IFrame('./source-solution/02-basic-css/043-use-a-media-query-to-change-a-variable.html', '100%', 500)"
   ]
  },
  {
   "cell_type": "markdown",
   "metadata": {},
   "source": [
    "## Applied Visual Design"
   ]
  },
  {
   "cell_type": "markdown",
   "metadata": {},
   "source": [
    "### Introduction to the Applied Visual Design Challenges"
   ]
  },
  {
   "cell_type": "markdown",
   "metadata": {},
   "source": [
    "Visual Design in web development is a broad topic. It combines typography, color theory, graphics, animation, and page layout to help deliver a site's message. The definition of good design is a well-discussed subject, with many books on the theme.\n",
    "\n",
    "At a basic level, most web content provides a user with information. The visual design of the page can influence its presentation and a user's experience. In web development, HTML gives structure and semantics to a page's content, and CSS controls the layout and appearance of it.\n",
    "\n",
    "This section covers some of the basic tools developers use to create their own visual designs."
   ]
  },
  {
   "cell_type": "markdown",
   "metadata": {},
   "source": [
    "### Create Visual Balance Using the text-align Property"
   ]
  },
  {
   "cell_type": "markdown",
   "metadata": {},
   "source": [
    "This section of the curriculum focuses on Applied Visual Design. The first group of challenges build on the given card layout to show a number of core principles.\n",
    "\n",
    "Text is often a large part of web content. CSS has several options for how to align it with the `text-align` property.\n",
    "\n",
    "`text-align: justify;` causes all lines of text except the last line to meet the left and right edges of the line box.\n",
    "\n",
    "`text-align: center;` centers the text\n",
    "\n",
    "`text-align: right;` right-aligns the text\n",
    "\n",
    "And `text-align: left;` (the default) left-aligns the text.\n",
    "\n",
    "---\n",
    "Align the `h4` tag's text, which says \"Google\", to the center. Then justify the paragraph tag which contains information about how Google was founded."
   ]
  },
  {
   "cell_type": "code",
   "execution_count": null,
   "metadata": {},
   "outputs": [],
   "source": []
  },
  {
   "cell_type": "markdown",
   "metadata": {},
   "source": [
    "### Adjust the Width of an Element Using the width Property"
   ]
  },
  {
   "cell_type": "markdown",
   "metadata": {},
   "source": [
    "You can specify the height of an element using the `height` property in CSS, similar to the `width` property. Here's an example that changes the height of an image to 20px:\n",
    "\n",
    "```CSS\n",
    "img {\n",
    "  height: 20px;\n",
    "}\n",
    "```\n",
    "\n",
    "---\n",
    "Add a `height` property to the `h4` tag and set it to 25px.\n",
    "\n",
    "**Note**: You may need to be at 100% zoom to pass the test on this challenge."
   ]
  },
  {
   "cell_type": "code",
   "execution_count": null,
   "metadata": {},
   "outputs": [],
   "source": []
  },
  {
   "cell_type": "markdown",
   "metadata": {},
   "source": [
    "### Adjust the Height of an Element Using the height Property"
   ]
  },
  {
   "cell_type": "code",
   "execution_count": null,
   "metadata": {},
   "outputs": [],
   "source": []
  },
  {
   "cell_type": "code",
   "execution_count": null,
   "metadata": {},
   "outputs": [],
   "source": []
  },
  {
   "cell_type": "markdown",
   "metadata": {},
   "source": [
    "### Use the strong Tag to Make Text Bold"
   ]
  },
  {
   "cell_type": "code",
   "execution_count": null,
   "metadata": {},
   "outputs": [],
   "source": []
  },
  {
   "cell_type": "code",
   "execution_count": null,
   "metadata": {},
   "outputs": [],
   "source": []
  },
  {
   "cell_type": "markdown",
   "metadata": {},
   "source": [
    "### Use the u Tag to Underline Text"
   ]
  },
  {
   "cell_type": "code",
   "execution_count": null,
   "metadata": {},
   "outputs": [],
   "source": []
  },
  {
   "cell_type": "code",
   "execution_count": null,
   "metadata": {},
   "outputs": [],
   "source": []
  },
  {
   "cell_type": "markdown",
   "metadata": {},
   "source": [
    "### Use the em Tag to Italicize Text"
   ]
  },
  {
   "cell_type": "code",
   "execution_count": null,
   "metadata": {},
   "outputs": [],
   "source": []
  },
  {
   "cell_type": "code",
   "execution_count": null,
   "metadata": {},
   "outputs": [],
   "source": []
  },
  {
   "cell_type": "markdown",
   "metadata": {},
   "source": [
    "### Use the s Tag to Strikethrough Text"
   ]
  },
  {
   "cell_type": "code",
   "execution_count": null,
   "metadata": {},
   "outputs": [],
   "source": []
  },
  {
   "cell_type": "code",
   "execution_count": null,
   "metadata": {},
   "outputs": [],
   "source": []
  },
  {
   "cell_type": "markdown",
   "metadata": {},
   "source": [
    "### Create a Horizontal Line Using the hr Element"
   ]
  },
  {
   "cell_type": "code",
   "execution_count": null,
   "metadata": {},
   "outputs": [],
   "source": []
  },
  {
   "cell_type": "code",
   "execution_count": null,
   "metadata": {},
   "outputs": [],
   "source": []
  },
  {
   "cell_type": "markdown",
   "metadata": {},
   "source": [
    "### Adjust the background-color Property of Text"
   ]
  },
  {
   "cell_type": "code",
   "execution_count": null,
   "metadata": {},
   "outputs": [],
   "source": []
  },
  {
   "cell_type": "code",
   "execution_count": null,
   "metadata": {},
   "outputs": [],
   "source": []
  },
  {
   "cell_type": "markdown",
   "metadata": {},
   "source": [
    "### Adjust the Size of a Header Versus a Paragraph Tag"
   ]
  },
  {
   "cell_type": "code",
   "execution_count": null,
   "metadata": {},
   "outputs": [],
   "source": []
  },
  {
   "cell_type": "code",
   "execution_count": null,
   "metadata": {},
   "outputs": [],
   "source": []
  },
  {
   "cell_type": "markdown",
   "metadata": {},
   "source": [
    "### Add a box-shadow to a Card-like Element"
   ]
  },
  {
   "cell_type": "code",
   "execution_count": null,
   "metadata": {},
   "outputs": [],
   "source": []
  },
  {
   "cell_type": "code",
   "execution_count": null,
   "metadata": {},
   "outputs": [],
   "source": []
  },
  {
   "cell_type": "markdown",
   "metadata": {},
   "source": [
    "### Decrease the Opacity of an Element"
   ]
  },
  {
   "cell_type": "code",
   "execution_count": null,
   "metadata": {},
   "outputs": [],
   "source": []
  },
  {
   "cell_type": "code",
   "execution_count": null,
   "metadata": {},
   "outputs": [],
   "source": []
  },
  {
   "cell_type": "markdown",
   "metadata": {},
   "source": [
    "### Use the text-transform Property to Make Text Uppercase"
   ]
  },
  {
   "cell_type": "code",
   "execution_count": null,
   "metadata": {},
   "outputs": [],
   "source": []
  },
  {
   "cell_type": "code",
   "execution_count": null,
   "metadata": {},
   "outputs": [],
   "source": []
  },
  {
   "cell_type": "markdown",
   "metadata": {},
   "source": [
    "### Set the font-size for Multiple Heading Elements"
   ]
  },
  {
   "cell_type": "code",
   "execution_count": null,
   "metadata": {},
   "outputs": [],
   "source": []
  },
  {
   "cell_type": "code",
   "execution_count": null,
   "metadata": {},
   "outputs": [],
   "source": []
  },
  {
   "cell_type": "markdown",
   "metadata": {},
   "source": [
    "### Set the font-weight for Multiple Heading Elements"
   ]
  },
  {
   "cell_type": "code",
   "execution_count": null,
   "metadata": {},
   "outputs": [],
   "source": []
  },
  {
   "cell_type": "code",
   "execution_count": null,
   "metadata": {},
   "outputs": [],
   "source": []
  },
  {
   "cell_type": "markdown",
   "metadata": {},
   "source": [
    "### Set the font-size of Paragraph Text"
   ]
  },
  {
   "cell_type": "code",
   "execution_count": null,
   "metadata": {},
   "outputs": [],
   "source": []
  },
  {
   "cell_type": "code",
   "execution_count": null,
   "metadata": {},
   "outputs": [],
   "source": []
  },
  {
   "cell_type": "markdown",
   "metadata": {},
   "source": [
    "### Set the line-height of Paragraphs"
   ]
  },
  {
   "cell_type": "code",
   "execution_count": null,
   "metadata": {},
   "outputs": [],
   "source": []
  },
  {
   "cell_type": "code",
   "execution_count": null,
   "metadata": {},
   "outputs": [],
   "source": []
  },
  {
   "cell_type": "markdown",
   "metadata": {},
   "source": [
    "### Adjust the Hover State of an Anchor Tag"
   ]
  },
  {
   "cell_type": "code",
   "execution_count": null,
   "metadata": {},
   "outputs": [],
   "source": []
  },
  {
   "cell_type": "code",
   "execution_count": null,
   "metadata": {},
   "outputs": [],
   "source": []
  },
  {
   "cell_type": "markdown",
   "metadata": {},
   "source": [
    "### Change an Element's Relative Position"
   ]
  },
  {
   "cell_type": "code",
   "execution_count": null,
   "metadata": {},
   "outputs": [],
   "source": []
  },
  {
   "cell_type": "code",
   "execution_count": null,
   "metadata": {},
   "outputs": [],
   "source": []
  },
  {
   "cell_type": "markdown",
   "metadata": {},
   "source": [
    "### Move a Relatively Positioned Element with CSS Offsets"
   ]
  },
  {
   "cell_type": "code",
   "execution_count": null,
   "metadata": {},
   "outputs": [],
   "source": []
  },
  {
   "cell_type": "code",
   "execution_count": null,
   "metadata": {},
   "outputs": [],
   "source": []
  },
  {
   "cell_type": "markdown",
   "metadata": {},
   "source": [
    "### Lock an Element to its Parent with Absolute Positioning"
   ]
  },
  {
   "cell_type": "code",
   "execution_count": null,
   "metadata": {},
   "outputs": [],
   "source": []
  },
  {
   "cell_type": "code",
   "execution_count": null,
   "metadata": {},
   "outputs": [],
   "source": []
  },
  {
   "cell_type": "markdown",
   "metadata": {},
   "source": [
    "### Lock an Element to the Browser Window with Fixed Positioning"
   ]
  },
  {
   "cell_type": "code",
   "execution_count": null,
   "metadata": {},
   "outputs": [],
   "source": []
  },
  {
   "cell_type": "code",
   "execution_count": null,
   "metadata": {},
   "outputs": [],
   "source": []
  },
  {
   "cell_type": "markdown",
   "metadata": {},
   "source": [
    "### Push Elements Left or Right with the float Property"
   ]
  },
  {
   "cell_type": "code",
   "execution_count": null,
   "metadata": {},
   "outputs": [],
   "source": []
  },
  {
   "cell_type": "code",
   "execution_count": null,
   "metadata": {},
   "outputs": [],
   "source": []
  },
  {
   "cell_type": "markdown",
   "metadata": {},
   "source": [
    "### Change the Position of Overlapping Elements with the z-index Property"
   ]
  },
  {
   "cell_type": "code",
   "execution_count": null,
   "metadata": {},
   "outputs": [],
   "source": []
  },
  {
   "cell_type": "code",
   "execution_count": null,
   "metadata": {},
   "outputs": [],
   "source": []
  },
  {
   "cell_type": "markdown",
   "metadata": {},
   "source": [
    "### Center an Element Horizontally Using the margin Property"
   ]
  },
  {
   "cell_type": "code",
   "execution_count": null,
   "metadata": {},
   "outputs": [],
   "source": []
  },
  {
   "cell_type": "code",
   "execution_count": null,
   "metadata": {},
   "outputs": [],
   "source": []
  },
  {
   "cell_type": "markdown",
   "metadata": {},
   "source": [
    "### Learn about Complementary Colors"
   ]
  },
  {
   "cell_type": "code",
   "execution_count": null,
   "metadata": {},
   "outputs": [],
   "source": []
  },
  {
   "cell_type": "code",
   "execution_count": null,
   "metadata": {},
   "outputs": [],
   "source": []
  },
  {
   "cell_type": "markdown",
   "metadata": {},
   "source": [
    "### Learn about Tertiary Colors"
   ]
  },
  {
   "cell_type": "code",
   "execution_count": null,
   "metadata": {},
   "outputs": [],
   "source": []
  },
  {
   "cell_type": "code",
   "execution_count": null,
   "metadata": {},
   "outputs": [],
   "source": []
  },
  {
   "cell_type": "markdown",
   "metadata": {},
   "source": [
    "### Adjust the Color of Various Elements to Complementary Colors"
   ]
  },
  {
   "cell_type": "code",
   "execution_count": null,
   "metadata": {},
   "outputs": [],
   "source": []
  },
  {
   "cell_type": "code",
   "execution_count": null,
   "metadata": {},
   "outputs": [],
   "source": []
  },
  {
   "cell_type": "markdown",
   "metadata": {},
   "source": [
    "### Adjust the Hue of a Color"
   ]
  },
  {
   "cell_type": "code",
   "execution_count": null,
   "metadata": {},
   "outputs": [],
   "source": []
  },
  {
   "cell_type": "code",
   "execution_count": null,
   "metadata": {},
   "outputs": [],
   "source": []
  },
  {
   "cell_type": "markdown",
   "metadata": {},
   "source": [
    "### Adjust the Tone of a Color"
   ]
  },
  {
   "cell_type": "code",
   "execution_count": null,
   "metadata": {},
   "outputs": [],
   "source": []
  },
  {
   "cell_type": "code",
   "execution_count": null,
   "metadata": {},
   "outputs": [],
   "source": []
  },
  {
   "cell_type": "markdown",
   "metadata": {},
   "source": [
    "### Create a Gradual CSS Linear Gradient"
   ]
  },
  {
   "cell_type": "code",
   "execution_count": null,
   "metadata": {},
   "outputs": [],
   "source": []
  },
  {
   "cell_type": "code",
   "execution_count": null,
   "metadata": {},
   "outputs": [],
   "source": []
  },
  {
   "cell_type": "markdown",
   "metadata": {},
   "source": [
    "### Use a CSS Linear Gradient to Create a Striped Element"
   ]
  },
  {
   "cell_type": "code",
   "execution_count": null,
   "metadata": {},
   "outputs": [],
   "source": []
  },
  {
   "cell_type": "code",
   "execution_count": null,
   "metadata": {},
   "outputs": [],
   "source": []
  },
  {
   "cell_type": "markdown",
   "metadata": {},
   "source": [
    "### Create Texture by Adding a Subtle Pattern as a Background Image"
   ]
  },
  {
   "cell_type": "code",
   "execution_count": null,
   "metadata": {},
   "outputs": [],
   "source": []
  },
  {
   "cell_type": "code",
   "execution_count": null,
   "metadata": {},
   "outputs": [],
   "source": []
  },
  {
   "cell_type": "markdown",
   "metadata": {},
   "source": [
    "### Use the CSS Transform scale Property to Change the Size of an Element"
   ]
  },
  {
   "cell_type": "code",
   "execution_count": null,
   "metadata": {},
   "outputs": [],
   "source": []
  },
  {
   "cell_type": "code",
   "execution_count": null,
   "metadata": {},
   "outputs": [],
   "source": []
  },
  {
   "cell_type": "markdown",
   "metadata": {},
   "source": [
    "### Use the CSS Transform scale Property to Scale an Element on Hover"
   ]
  },
  {
   "cell_type": "code",
   "execution_count": null,
   "metadata": {},
   "outputs": [],
   "source": []
  },
  {
   "cell_type": "code",
   "execution_count": null,
   "metadata": {},
   "outputs": [],
   "source": []
  },
  {
   "cell_type": "markdown",
   "metadata": {},
   "source": [
    "### Use the CSS Transform Property skewX to Skew an Element Along the X-Axis"
   ]
  },
  {
   "cell_type": "code",
   "execution_count": null,
   "metadata": {},
   "outputs": [],
   "source": []
  },
  {
   "cell_type": "code",
   "execution_count": null,
   "metadata": {},
   "outputs": [],
   "source": []
  },
  {
   "cell_type": "markdown",
   "metadata": {},
   "source": [
    "### Use the CSS Transform Property skewY to Skew an Element Along the Y-Axis"
   ]
  },
  {
   "cell_type": "code",
   "execution_count": null,
   "metadata": {},
   "outputs": [],
   "source": []
  },
  {
   "cell_type": "code",
   "execution_count": null,
   "metadata": {},
   "outputs": [],
   "source": []
  },
  {
   "cell_type": "markdown",
   "metadata": {},
   "source": [
    "### Create a Graphic Using CSS"
   ]
  },
  {
   "cell_type": "code",
   "execution_count": null,
   "metadata": {},
   "outputs": [],
   "source": []
  },
  {
   "cell_type": "code",
   "execution_count": null,
   "metadata": {},
   "outputs": [],
   "source": []
  },
  {
   "cell_type": "markdown",
   "metadata": {},
   "source": [
    "### Create a More Complex Shape Using CSS and HTML"
   ]
  },
  {
   "cell_type": "code",
   "execution_count": null,
   "metadata": {},
   "outputs": [],
   "source": []
  },
  {
   "cell_type": "code",
   "execution_count": null,
   "metadata": {},
   "outputs": [],
   "source": []
  },
  {
   "cell_type": "markdown",
   "metadata": {},
   "source": [
    "### Learn How the CSS @keyframes and animation Properties Work"
   ]
  },
  {
   "cell_type": "code",
   "execution_count": null,
   "metadata": {},
   "outputs": [],
   "source": []
  },
  {
   "cell_type": "code",
   "execution_count": null,
   "metadata": {},
   "outputs": [],
   "source": []
  },
  {
   "cell_type": "markdown",
   "metadata": {},
   "source": [
    "### Use CSS Animation to Change the Hover State of a Button"
   ]
  },
  {
   "cell_type": "code",
   "execution_count": null,
   "metadata": {},
   "outputs": [],
   "source": []
  },
  {
   "cell_type": "code",
   "execution_count": null,
   "metadata": {},
   "outputs": [],
   "source": []
  },
  {
   "cell_type": "markdown",
   "metadata": {},
   "source": [
    "### Modify Fill Mode of an Animation"
   ]
  },
  {
   "cell_type": "code",
   "execution_count": null,
   "metadata": {},
   "outputs": [],
   "source": []
  },
  {
   "cell_type": "code",
   "execution_count": null,
   "metadata": {},
   "outputs": [],
   "source": []
  },
  {
   "cell_type": "markdown",
   "metadata": {},
   "source": [
    "### Create Movement Using CSS Animation"
   ]
  },
  {
   "cell_type": "code",
   "execution_count": null,
   "metadata": {},
   "outputs": [],
   "source": []
  },
  {
   "cell_type": "code",
   "execution_count": null,
   "metadata": {},
   "outputs": [],
   "source": []
  },
  {
   "cell_type": "markdown",
   "metadata": {},
   "source": [
    "### Create Visual Direction by Fading an Element from Left to Right"
   ]
  },
  {
   "cell_type": "code",
   "execution_count": null,
   "metadata": {},
   "outputs": [],
   "source": []
  },
  {
   "cell_type": "code",
   "execution_count": null,
   "metadata": {},
   "outputs": [],
   "source": []
  },
  {
   "cell_type": "markdown",
   "metadata": {},
   "source": [
    "### Animate Elements Continually Using an Infinite Animation Count"
   ]
  },
  {
   "cell_type": "code",
   "execution_count": null,
   "metadata": {},
   "outputs": [],
   "source": []
  },
  {
   "cell_type": "code",
   "execution_count": null,
   "metadata": {},
   "outputs": [],
   "source": []
  },
  {
   "cell_type": "markdown",
   "metadata": {},
   "source": [
    "### Make a CSS Heartbeat using an Infinite Animation Count"
   ]
  },
  {
   "cell_type": "code",
   "execution_count": null,
   "metadata": {},
   "outputs": [],
   "source": []
  },
  {
   "cell_type": "code",
   "execution_count": null,
   "metadata": {},
   "outputs": [],
   "source": []
  },
  {
   "cell_type": "markdown",
   "metadata": {},
   "source": [
    "### Animate Elements at Variable Rates"
   ]
  },
  {
   "cell_type": "code",
   "execution_count": null,
   "metadata": {},
   "outputs": [],
   "source": []
  },
  {
   "cell_type": "code",
   "execution_count": null,
   "metadata": {},
   "outputs": [],
   "source": []
  },
  {
   "cell_type": "markdown",
   "metadata": {},
   "source": [
    "### Animate Multiple Elements at Variable Rates"
   ]
  },
  {
   "cell_type": "code",
   "execution_count": null,
   "metadata": {},
   "outputs": [],
   "source": []
  },
  {
   "cell_type": "code",
   "execution_count": null,
   "metadata": {},
   "outputs": [],
   "source": []
  },
  {
   "cell_type": "markdown",
   "metadata": {},
   "source": [
    "### Change Animation Timing with Keywords"
   ]
  },
  {
   "cell_type": "code",
   "execution_count": null,
   "metadata": {},
   "outputs": [],
   "source": []
  },
  {
   "cell_type": "code",
   "execution_count": null,
   "metadata": {},
   "outputs": [],
   "source": []
  },
  {
   "cell_type": "markdown",
   "metadata": {},
   "source": [
    "### Learn How Bezier Curves Work"
   ]
  },
  {
   "cell_type": "code",
   "execution_count": null,
   "metadata": {},
   "outputs": [],
   "source": []
  },
  {
   "cell_type": "code",
   "execution_count": null,
   "metadata": {},
   "outputs": [],
   "source": []
  },
  {
   "cell_type": "markdown",
   "metadata": {},
   "source": [
    "### Use a Bezier Curve to Move a Graphic"
   ]
  },
  {
   "cell_type": "code",
   "execution_count": null,
   "metadata": {},
   "outputs": [],
   "source": []
  },
  {
   "cell_type": "code",
   "execution_count": null,
   "metadata": {},
   "outputs": [],
   "source": []
  },
  {
   "cell_type": "markdown",
   "metadata": {},
   "source": [
    "### Make Motion More Natural Using a Bezier Curve"
   ]
  },
  {
   "cell_type": "code",
   "execution_count": null,
   "metadata": {},
   "outputs": [],
   "source": []
  },
  {
   "cell_type": "code",
   "execution_count": null,
   "metadata": {},
   "outputs": [],
   "source": []
  }
 ],
 "metadata": {
  "kernelspec": {
   "display_name": "Python 3",
   "language": "python",
   "name": "python3"
  },
  "language_info": {
   "codemirror_mode": {
    "name": "ipython",
    "version": 3
   },
   "file_extension": ".py",
   "mimetype": "text/x-python",
   "name": "python",
   "nbconvert_exporter": "python",
   "pygments_lexer": "ipython3",
   "version": "3.7.1"
  },
  "toc": {
   "base_numbering": 1,
   "nav_menu": {},
   "number_sections": true,
   "sideBar": true,
   "skip_h1_title": false,
   "title_cell": "Table of Contents",
   "title_sidebar": "Contents",
   "toc_cell": false,
   "toc_position": {
    "height": "752px",
    "left": "28px",
    "top": "54px",
    "width": "248.594px"
   },
   "toc_section_display": true,
   "toc_window_display": true
  }
 },
 "nbformat": 4,
 "nbformat_minor": 2
}
