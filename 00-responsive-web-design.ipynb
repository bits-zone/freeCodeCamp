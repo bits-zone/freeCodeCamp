{
 "cells": [
  {
   "cell_type": "markdown",
   "metadata": {},
   "source": [
    "# Responsive Web Design Certification"
   ]
  },
  {
   "cell_type": "markdown",
   "metadata": {},
   "source": [
    "## Basic HTML and HTML 5"
   ]
  },
  {
   "cell_type": "markdown",
   "metadata": {
    "heading_collapsed": true
   },
   "source": [
    "### Introduction to Basic HTML and HTML5"
   ]
  },
  {
   "cell_type": "markdown",
   "metadata": {
    "hidden": true
   },
   "source": [
    "HTML, or HyperText Markup Language, is a markup language used to describe the structure of a web page. It uses a special syntax or notation to organize and give information about the page to the browser. Elements usually have opening and closing tags that surround and give meaning to content. For example, there are different tag options to place around text to show whether it is a heading, a paragraph, or a list.\n",
    "\n",
    "For example:\n",
    "```HTML\n",
    "<h1>Top level heading: Maybe a page title</h1>\n",
    "\n",
    "<p>A paragraph of text. Some information we would like to communicate to the viewer. This can be as long or short as we would like.</p>\n",
    "\n",
    "<ol>\n",
    "  <li>Number one on the list</li>\n",
    "  <li>Number two</li>\n",
    "  <li>A third item</li>\n",
    "</ol>\n",
    "```\n",
    "Becomes:\n",
    "\n",
    "<p style=\"font-size: 2em\">Top level heading: Maybe a page title</p>\n",
    "<p>A paragraph of text. Some information we would like to communicate to the viewer. This can be as long or short as we would like.</p>    \n",
    "<ol>\n",
    "    <li>Number one on the list</li>\n",
    "    <li>Number two</li>\n",
    "    <li>A third item</li>\n",
    "</ol>\n",
    "    \n",
    "---    \n",
    "The HyperText part of HTML comes from the early days of the web and its original use case. Pages usually contained static documents that contained references to other documents. These references contained hypertext links used by the browser to navigate to the reference document so the user could read the reference document without having to manually search for it.\n",
    "\n",
    "As web pages and web applications grow more complex, the W3 Consortium updates the HTML specification to ensure that a webpage can be shown reliably on any browser. The latest version of HTML is HTML5.\n",
    "\n",
    "This section introduces how to use HTML elements to give structure and meaning to your web content."
   ]
  },
  {
   "cell_type": "markdown",
   "metadata": {
    "heading_collapsed": true
   },
   "source": [
    "### Say Hello to HTML Elements"
   ]
  },
  {
   "cell_type": "markdown",
   "metadata": {
    "hidden": true
   },
   "source": [
    "Welcome to freeCodeCamp's HTML coding challenges. These will walk you through web development step-by-step.\n",
    "\n",
    "First, you'll start by building a simple web page using HTML. You can edit code in your code editor, which is embedded into this web page.\n",
    "\n",
    "Do you see the code in your code editor that says `<h1>Hello</h1>`? That's an HTML element.\n",
    "\n",
    "Most HTML elements have an opening tag and a closing tag.\n",
    "\n",
    "Opening tags look like this:\n",
    "\n",
    "`<h1>`\n",
    "\n",
    "Closing tags look like this:\n",
    "\n",
    "`</h1>`\n",
    "\n",
    "The only difference between opening and closing tags is the forward slash after the opening bracket of a closing tag.\n",
    "\n",
    "Each challenge has tests you can run at any time by clicking the \"Run tests\" button. When you pass all tests, you'll be prompted to submit your solution and go to the next coding challenge.\n",
    "\n",
    "---\n",
    "To pass the test on this challenge, change your `h1` element's text to say \"Hello World\"."
   ]
  },
  {
   "cell_type": "code",
   "execution_count": 10,
   "metadata": {
    "hidden": true
   },
   "outputs": [
    {
     "data": {
      "text/html": [
       "<h1>Hello World</h1>"
      ],
      "text/plain": [
       "<IPython.core.display.HTML object>"
      ]
     },
     "execution_count": 10,
     "metadata": {},
     "output_type": "execute_result"
    }
   ],
   "source": [
    "HTML(\"<h1>Hello World</h1>\")"
   ]
  },
  {
   "cell_type": "markdown",
   "metadata": {},
   "source": [
    "### Headline with the h2 Element"
   ]
  },
  {
   "cell_type": "markdown",
   "metadata": {},
   "source": [
    "Over the next few lessons, we'll build an HTML5 cat photo web app piece-by-piece.\n",
    "\n",
    "The `h2` element you will be adding in this step will add a level two heading to the web page.\n",
    "\n",
    "This element tells the browser about the structure of your website. h1 elements are often used for main headings, while `h2` elements are generally used for subheadings. There are also `h3`, `h4`, `h5` and `h6` elements to indicate different levels of subheadings.\n",
    "\n",
    "---\n",
    "Add an `h2` tag that says \"CatPhotoApp\" to create a second HTML element below your \"Hello World\" `h1` element."
   ]
  },
  {
   "cell_type": "code",
   "execution_count": 7,
   "metadata": {},
   "outputs": [
    {
     "data": {
      "text/html": [
       "<h1>Hello World</h1>\n",
       "<h2>CatPhotoApp</h2>\n"
      ],
      "text/plain": [
       "<IPython.core.display.HTML object>"
      ]
     },
     "metadata": {},
     "output_type": "display_data"
    }
   ],
   "source": [
    "%%HTML\n",
    "<h1>Hello World</h1>\n",
    "<h2>CatPhotoApp</h2>"
   ]
  },
  {
   "cell_type": "markdown",
   "metadata": {
    "heading_collapsed": true
   },
   "source": [
    "### Inform with the Paragraph Element\n"
   ]
  },
  {
   "cell_type": "markdown",
   "metadata": {
    "hidden": true
   },
   "source": [
    "`p` elements are the preferred element for paragraph text on websites. `p` is short for \"paragraph\".\n",
    "\n",
    "You can create a paragraph element like this:\n",
    "\n",
    "`<p>I'm a p tag!</p>`\n",
    "\n",
    "---\n",
    "Create a p element below your h2 element, and give it the text \"Hello Paragraph\".\n",
    "\n",
    "Note: As a convention, all HTML tags are written in lowercase, for example `<p></p>` and not `<P></P>`."
   ]
  },
  {
   "cell_type": "code",
   "execution_count": 11,
   "metadata": {
    "hidden": true
   },
   "outputs": [
    {
     "data": {
      "text/html": [
       "<h1>Hello World</h1>\n",
       "<h2>CatPhotoApp</h2>\n",
       "<p>Hello Paragraph</p>\n"
      ],
      "text/plain": [
       "<IPython.core.display.HTML object>"
      ]
     },
     "metadata": {},
     "output_type": "display_data"
    }
   ],
   "source": [
    "%%HTML\n",
    "<h1>Hello World</h1>\n",
    "<h2>CatPhotoApp</h2>\n",
    "<p>Hello Paragraph</p>"
   ]
  },
  {
   "cell_type": "markdown",
   "metadata": {
    "heading_collapsed": true
   },
   "source": [
    "### Fill in the Blank with Placeholder Text\n"
   ]
  },
  {
   "cell_type": "markdown",
   "metadata": {
    "hidden": true
   },
   "source": [
    "Web developers traditionally use lorem ipsum text as placeholder text. The lorem ipsum text is randomly scraped from a famous passage by Cicero of Ancient Rome.\n",
    "\n",
    "Lorem ipsum text has been used as placeholder text by typesetters since the 16th century, and this tradition continues on the web.\n",
    "\n",
    "Well, 5 centuries is long enough. Since we're building a CatPhotoApp, let's use something called \"kitty ipsum text\".\n",
    "\n",
    "---\n",
    "Replace the text inside your p element with the first few words of this `kitty ipsum text: Kitty ipsum dolor sit amet, shed everywhere shed everywhere stretching attack your ankles chase the red dot, hairball run catnip eat the grass sniff.`"
   ]
  },
  {
   "cell_type": "code",
   "execution_count": 10,
   "metadata": {
    "hidden": true
   },
   "outputs": [
    {
     "data": {
      "text/html": [
       "<h1>Hello World</h1>\n",
       "\n",
       "<h2>CatPhotoApp</h2>\n",
       "\n",
       "<p>Kitty ipsum dolor sit amet, shed everywhere shed everywhere stretching attack your ankles chase the red dot, hairball run catnip eat the grass sniff.</p>\n"
      ],
      "text/plain": [
       "<IPython.core.display.HTML object>"
      ]
     },
     "metadata": {},
     "output_type": "display_data"
    }
   ],
   "source": [
    "%%HTML\n",
    "<h1>Hello World</h1>\n",
    "\n",
    "<h2>CatPhotoApp</h2>\n",
    "\n",
    "<p>Kitty ipsum dolor sit amet, shed everywhere shed everywhere stretching attack your ankles chase the red dot, hairball run catnip eat the grass sniff.</p>\n"
   ]
  },
  {
   "cell_type": "markdown",
   "metadata": {
    "heading_collapsed": true
   },
   "source": [
    "### Uncomment HTML"
   ]
  },
  {
   "cell_type": "markdown",
   "metadata": {
    "hidden": true
   },
   "source": [
    "Commenting is a way that you can leave comments for other developers within your code without affecting the resulting output that is displayed to the end user.\n",
    "\n",
    "Commenting is also a convenient way to make code inactive without having to delete it entirely.\n",
    "\n",
    "Comments in HTML start with `<!--` and end with a `-->`\n",
    "\n",
    "---\n",
    "Uncomment your `h1`, `h2` and `p` elements."
   ]
  },
  {
   "cell_type": "code",
   "execution_count": 3,
   "metadata": {
    "hidden": true
   },
   "outputs": [
    {
     "data": {
      "text/html": [
       "<h1>Hello World</h1>\n",
       "\n",
       "<h2>CatPhotoApp</h2>\n",
       "\n",
       "<p>Kitty ipsum dolor sit amet, shed everywhere shed everywhere stretching attack your ankles chase the red dot, hairball run catnip eat the grass sniff.</p>\n"
      ],
      "text/plain": [
       "<IPython.core.display.HTML object>"
      ]
     },
     "metadata": {},
     "output_type": "display_data"
    }
   ],
   "source": [
    "%%HTML\n",
    "<h1>Hello World</h1>\n",
    "\n",
    "<h2>CatPhotoApp</h2>\n",
    "\n",
    "<p>Kitty ipsum dolor sit amet, shed everywhere shed everywhere stretching attack your ankles chase the red dot, hairball run catnip eat the grass sniff.</p>"
   ]
  },
  {
   "cell_type": "markdown",
   "metadata": {
    "heading_collapsed": true
   },
   "source": [
    "### Comment out HTML"
   ]
  },
  {
   "cell_type": "markdown",
   "metadata": {
    "hidden": true
   },
   "source": [
    "Remember that in order to start a comment, you need to use `<!--` and to end a comment, you need to use `-->`\n",
    "\n",
    "Here you'll need to end the comment before your `h2` element begins.\n",
    "\n",
    "---\n",
    "Comment out your `h1` element and your `p` element, but not your `h2` element."
   ]
  },
  {
   "cell_type": "code",
   "execution_count": 4,
   "metadata": {
    "hidden": true
   },
   "outputs": [
    {
     "data": {
      "text/html": [
       "<!-- <h1>Hello World</h1> -->\n",
       "\n",
       "<h2>CatPhotoApp</h2>\n",
       "\n",
       "<!-- <p>Kitty ipsum dolor sit amet, shed everywhere shed everywhere stretching attack your ankles chase the red dot, hairball run catnip eat the grass sniff.</p> -->\n"
      ],
      "text/plain": [
       "<IPython.core.display.HTML object>"
      ]
     },
     "metadata": {},
     "output_type": "display_data"
    }
   ],
   "source": [
    "%%HTML\n",
    "<!-- <h1>Hello World</h1> -->\n",
    "\n",
    "<h2>CatPhotoApp</h2>\n",
    "\n",
    "<!-- <p>Kitty ipsum dolor sit amet, shed everywhere shed everywhere stretching attack your ankles chase the red dot, hairball run catnip eat the grass sniff.</p> -->"
   ]
  },
  {
   "cell_type": "markdown",
   "metadata": {
    "heading_collapsed": true
   },
   "source": [
    "### Delete HTML Elements"
   ]
  },
  {
   "cell_type": "markdown",
   "metadata": {
    "hidden": true
   },
   "source": [
    "Our phone doesn't have much vertical space.\n",
    "\n",
    "Let's remove the unnecessary elements so we can start building our CatPhotoApp.\n",
    "\n",
    "---\n",
    "Delete your h1 element so we can simplify our view."
   ]
  },
  {
   "cell_type": "code",
   "execution_count": 5,
   "metadata": {
    "hidden": true
   },
   "outputs": [
    {
     "data": {
      "text/html": [
       "<h2>CatPhotoApp</h2>\n",
       "\n",
       "<p>Kitty ipsum dolor sit amet, shed everywhere shed everywhere stretching attack your ankles chase the red dot, hairball run catnip eat the grass sniff.</p>\n"
      ],
      "text/plain": [
       "<IPython.core.display.HTML object>"
      ]
     },
     "metadata": {},
     "output_type": "display_data"
    }
   ],
   "source": [
    "%%HTML\n",
    "<h2>CatPhotoApp</h2>\n",
    "\n",
    "<p>Kitty ipsum dolor sit amet, shed everywhere shed everywhere stretching attack your ankles chase the red dot, hairball run catnip eat the grass sniff.</p>\n"
   ]
  },
  {
   "cell_type": "markdown",
   "metadata": {
    "heading_collapsed": true
   },
   "source": [
    "### Introduction to HTML5 Elements\n"
   ]
  },
  {
   "cell_type": "markdown",
   "metadata": {
    "hidden": true
   },
   "source": [
    "HTML5 introduces more descriptive HTML tags. These include `main`, `header`, `footer`, `nav`, `video`, `article`, `section` and others.\n",
    "\n",
    "These tags give a descriptive structure to your HTML, make your HTML easier to read, and help with Search Engine Optimization (SEO) and accessibility. The `main` HTML5 tag helps search engines and other developers find the main content of your page.\n",
    "\n",
    "Example usage, a `main` element with two child elements nested inside it:\n",
    "```\n",
    "<main> \n",
    "  <h1>Hello World</h1>\n",
    "  <p>Hello Paragraph</p>\n",
    "</main>\n",
    "```\n",
    "Note: Many of the new HTML5 tags and their benefits are covered in the Applied Accessibility section.\n",
    "\n",
    "---\n",
    "Create a second p element after the existing `p` element with the following kitty ipsum text: `Purr jump eat the grass rip the couch scratched sunbathe, shed everywhere rip the couch sleep in the sink fluffy fur catnip scratched.`\n",
    "\n",
    "Then, create a main element and nest the two `p` elements inside the `main` element."
   ]
  },
  {
   "cell_type": "code",
   "execution_count": 6,
   "metadata": {
    "hidden": true
   },
   "outputs": [
    {
     "data": {
      "text/html": [
       "<h2>CatPhotoApp</h2>\n",
       "\n",
       "<main>\n",
       "    <p>Kitty ipsum dolor sit amet, shed everywhere shed everywhere stretching attack your ankles chase the red dot, hairball run catnip eat the grass sniff.</p>\n",
       "\n",
       "    <p>Purr jump eat the grass rip the couch scratched sunbathe, shed everywhere rip the couch sleep in the sink fluffy fur catnip scratched.</p>\n",
       "</main>\n"
      ],
      "text/plain": [
       "<IPython.core.display.HTML object>"
      ]
     },
     "metadata": {},
     "output_type": "display_data"
    }
   ],
   "source": [
    "%%HTML\n",
    "<h2>CatPhotoApp</h2>\n",
    "\n",
    "<main>\n",
    "    <p>Kitty ipsum dolor sit amet, shed everywhere shed everywhere stretching attack your ankles chase the red dot, hairball run catnip eat the grass sniff.</p>\n",
    "\n",
    "    <p>Purr jump eat the grass rip the couch scratched sunbathe, shed everywhere rip the couch sleep in the sink fluffy fur catnip scratched.</p>\n",
    "</main>"
   ]
  },
  {
   "cell_type": "markdown",
   "metadata": {
    "heading_collapsed": true
   },
   "source": [
    "### Add Images to Your Website\n"
   ]
  },
  {
   "cell_type": "markdown",
   "metadata": {
    "hidden": true
   },
   "source": [
    "You can add images to your website by using the `img` element, and point to a specific image's URL using the `src` attribute.\n",
    "\n",
    "An example of this would be:\n",
    "\n",
    "`<img src=\"https://www.your-image-source.com/your-image.jpg\">`\n",
    "\n",
    "Note that `img` elements are self-closing.\n",
    "\n",
    "All `img` elements must have an `alt` attribute. The text inside an `alt` attribute is used for screen readers to improve accessibility and is displayed if the image fails to load.\n",
    "\n",
    "Note: If the image is purely decorative, using an empty `alt` attribute is a best practice.\n",
    "\n",
    "Ideally the `alt` attribute should not contain special characters unless needed.\n",
    "\n",
    "Let's add an `alt` attribute to our `img` example above:\n",
    "\n",
    "`<img src=\"https://www.your-image-source.com/your-image.jpg\" alt=\"Author standing on a beach with two thumbs up.\">`\n",
    "\n",
    "---\n",
    "Let's try to add an image to our website:\n",
    "\n",
    "Within the existing main element, insert an `img` element before the existing `p` elements.\n",
    "\n",
    "Now set the `src` attribute so that it points to this url:\n",
    "\n",
    "`https://bit.ly/fcc-relaxing-cat`\n",
    "\n",
    "Finally, don't forget to give your `img` element an `alt` attribute with applicable text."
   ]
  },
  {
   "cell_type": "code",
   "execution_count": 7,
   "metadata": {
    "hidden": true
   },
   "outputs": [
    {
     "data": {
      "text/html": [
       "<h2>CatPhotoApp</h2>\n",
       "<main>\n",
       "<img src=\"https://bit.ly/fcc-relaxing-cat\" alt=\"cute cat\">\n",
       "\n",
       "  <p>Kitty ipsum dolor sit amet, shed everywhere shed everywhere stretching attack your ankles chase the red dot, hairball run catnip eat the grass sniff.</p>\n",
       "  <p>Purr jump eat the grass rip the couch scratched sunbathe, shed everywhere rip the couch sleep in the sink fluffy fur catnip scratched.</p>\n",
       "</main>\n"
      ],
      "text/plain": [
       "<IPython.core.display.HTML object>"
      ]
     },
     "metadata": {},
     "output_type": "display_data"
    }
   ],
   "source": [
    "%%HTML\n",
    "<h2>CatPhotoApp</h2>\n",
    "<main>\n",
    "<img src=\"https://bit.ly/fcc-relaxing-cat\" alt=\"cute cat\">\n",
    "\n",
    "  <p>Kitty ipsum dolor sit amet, shed everywhere shed everywhere stretching attack your ankles chase the red dot, hairball run catnip eat the grass sniff.</p>\n",
    "  <p>Purr jump eat the grass rip the couch scratched sunbathe, shed everywhere rip the couch sleep in the sink fluffy fur catnip scratched.</p>\n",
    "</main>\n"
   ]
  },
  {
   "cell_type": "markdown",
   "metadata": {
    "heading_collapsed": true
   },
   "source": [
    "### Link to External Pages with Anchor Elements"
   ]
  },
  {
   "cell_type": "markdown",
   "metadata": {
    "hidden": true
   },
   "source": [
    "You can use `a` (_anchor_) elements to link to content outside of your web page.\n",
    "\n",
    "`a` elements need a destination web address called an `href` attribute. They also need anchor text. Here's an example:\n",
    "\n",
    "`<a href=\"https://freecodecamp.org\">this links to freecodecamp.org</a>`\n",
    "\n",
    "Then your browser will display the text \"**this links to freecodecamp.org**\" as a link you can click. And that link will take you to the web address **https://www.freecodecamp.org**.\n",
    "\n",
    "---\n",
    "Create an `a` element that links to `http://freecatphotoapp.com` and has \"cat photos\" as its anchor text."
   ]
  },
  {
   "cell_type": "code",
   "execution_count": 8,
   "metadata": {
    "hidden": true
   },
   "outputs": [
    {
     "data": {
      "text/html": [
       "<h2>CatPhotoApp</h2>\n",
       "<main>\n",
       "\n",
       "  <a href=\"http://freecatphotoapp.com\">cat photos</a>\n",
       "\n",
       "  <img src=\"https://bit.ly/fcc-relaxing-cat\" alt=\"A cute orange cat lying on its back.\">\n",
       "\n",
       "  <p>Kitty ipsum dolor sit amet, shed everywhere shed everywhere stretching attack your ankles chase the red dot, hairball run catnip eat the grass sniff.</p>\n",
       "  <p>Purr jump eat the grass rip the couch scratched sunbathe, shed everywhere rip the couch sleep in the sink fluffy fur catnip scratched.</p>\n",
       "</main>\n"
      ],
      "text/plain": [
       "<IPython.core.display.HTML object>"
      ]
     },
     "metadata": {},
     "output_type": "display_data"
    }
   ],
   "source": [
    "%%HTML\n",
    "<h2>CatPhotoApp</h2>\n",
    "<main>\n",
    "\n",
    "  <a href=\"http://freecatphotoapp.com\">cat photos</a>\n",
    "\n",
    "  <img src=\"https://bit.ly/fcc-relaxing-cat\" alt=\"A cute orange cat lying on its back.\">\n",
    "\n",
    "  <p>Kitty ipsum dolor sit amet, shed everywhere shed everywhere stretching attack your ankles chase the red dot, hairball run catnip eat the grass sniff.</p>\n",
    "  <p>Purr jump eat the grass rip the couch scratched sunbathe, shed everywhere rip the couch sleep in the sink fluffy fur catnip scratched.</p>\n",
    "</main>\n"
   ]
  },
  {
   "cell_type": "markdown",
   "metadata": {
    "heading_collapsed": true
   },
   "source": [
    "### Link to Internal Sections of a Page with Anchor Elements"
   ]
  },
  {
   "cell_type": "markdown",
   "metadata": {
    "hidden": true
   },
   "source": [
    "`a` (_anchor_) elements can also be used to create internal links to jump to different sections within a webpage.\n",
    "\n",
    "To create an internal link, you assign a link's `href` attribute to a hash symbol `#` plus the value of the `id` attribute for the element that you want to internally link to, usually further down the page. You then need to add the same `id` attribute to the element you are linking to. An `id` is an attribute that uniquely describes an element.\n",
    "\n",
    "Below is an example of an internal anchor link and its target element:\n",
    "```HTML\n",
    "<a href=\"#contacts-header\">Contacts</a>\n",
    "...\n",
    "<h2 id=\"contacts-header\">Contacts</h2>\n",
    "```\n",
    "When users click the Contacts link, they'll be taken to the section of the webpage with the Contacts header element.\n",
    "\n",
    "---\n",
    "Change your external link to an internal link by changing the `href` attribute to \"#footer\" and the text from \"cat photos\" to \"Jump to Bottom\".\n",
    "\n",
    "Remove the `target=\"_blank\"` attribute from the anchor tag since this causes the linked document to open in a new window tab.\n",
    "\n",
    "Then add an `id` attribute with a value of \"footer\" to the `<footer>` element at the bottom of the page."
   ]
  },
  {
   "cell_type": "code",
   "execution_count": 9,
   "metadata": {
    "hidden": true
   },
   "outputs": [
    {
     "data": {
      "text/html": [
       "<h2>CatPhotoApp</h2>\n",
       "<main>\n",
       "\n",
       "  <a href=\"#footer\">Jump to Bottom</a>\n",
       "\n",
       "  <img src=\"https://bit.ly/fcc-relaxing-cat\" alt=\"A cute orange cat lying on its back.\">\n",
       "\n",
       "  <p>Kitty ipsum dolor sit amet, shed everywhere shed everywhere stretching attack your ankles chase the red dot, hairball run catnip eat the grass sniff. Purr jump eat the grass rip the couch scratched sunbathe, shed everywhere rip the couch sleep in the sink fluffy fur catnip scratched. Kitty ipsum dolor sit amet, shed everywhere shed everywhere stretching attack your ankles chase the red dot, hairball run catnip eat the grass sniff.</p>\n",
       "  <p>Purr jump eat the grass rip the couch scratched sunbathe, shed everywhere rip the couch sleep in the sink fluffy fur catnip scratched. Kitty ipsum dolor sit amet, shed everywhere shed everywhere stretching attack your ankles chase the red dot, hairball run catnip eat the grass sniff. Purr jump eat the grass rip the couch scratched sunbathe, shed everywhere rip the couch sleep in the sink fluffy fur catnip scratched.</p>\n",
       "  <p>Meowwww loved it, hated it, loved it, hated it yet spill litter box, scratch at owner, destroy all furniture, especially couch or lay on arms while you're using the keyboard. Missing until dinner time toy mouse squeak roll over. With tail in the air lounge in doorway. Man running from cops stops to pet cats, goes to jail.</p>\n",
       "  <p>Intently stare at the same spot poop in the plant pot but kitten is playing with dead mouse. Get video posted to internet for chasing red dot leave fur on owners clothes meow to be let out and mesmerizing birds leave fur on owners clothes or favor packaging over toy so purr for no reason. Meow to be let out play time intently sniff hand run outside as soon as door open yet destroy couch.</p>\n",
       "\n",
       "</main>\n",
       "\n",
       "<footer id=\"footer\">Copyright Cat Photo App</footer>\n"
      ],
      "text/plain": [
       "<IPython.core.display.HTML object>"
      ]
     },
     "metadata": {},
     "output_type": "display_data"
    }
   ],
   "source": [
    "%%HTML\n",
    "<h2>CatPhotoApp</h2>\n",
    "<main>\n",
    "\n",
    "  <a href=\"#footer\">Jump to Bottom</a>\n",
    "\n",
    "  <img src=\"https://bit.ly/fcc-relaxing-cat\" alt=\"A cute orange cat lying on its back.\">\n",
    "\n",
    "  <p>Kitty ipsum dolor sit amet, shed everywhere shed everywhere stretching attack your ankles chase the red dot, hairball run catnip eat the grass sniff. Purr jump eat the grass rip the couch scratched sunbathe, shed everywhere rip the couch sleep in the sink fluffy fur catnip scratched. Kitty ipsum dolor sit amet, shed everywhere shed everywhere stretching attack your ankles chase the red dot, hairball run catnip eat the grass sniff.</p>\n",
    "  <p>Purr jump eat the grass rip the couch scratched sunbathe, shed everywhere rip the couch sleep in the sink fluffy fur catnip scratched. Kitty ipsum dolor sit amet, shed everywhere shed everywhere stretching attack your ankles chase the red dot, hairball run catnip eat the grass sniff. Purr jump eat the grass rip the couch scratched sunbathe, shed everywhere rip the couch sleep in the sink fluffy fur catnip scratched.</p>\n",
    "  <p>Meowwww loved it, hated it, loved it, hated it yet spill litter box, scratch at owner, destroy all furniture, especially couch or lay on arms while you're using the keyboard. Missing until dinner time toy mouse squeak roll over. With tail in the air lounge in doorway. Man running from cops stops to pet cats, goes to jail.</p>\n",
    "  <p>Intently stare at the same spot poop in the plant pot but kitten is playing with dead mouse. Get video posted to internet for chasing red dot leave fur on owners clothes meow to be let out and mesmerizing birds leave fur on owners clothes or favor packaging over toy so purr for no reason. Meow to be let out play time intently sniff hand run outside as soon as door open yet destroy couch.</p>\n",
    "\n",
    "</main>\n",
    "\n",
    "<footer id=\"footer\">Copyright Cat Photo App</footer>\n"
   ]
  },
  {
   "cell_type": "markdown",
   "metadata": {
    "heading_collapsed": true
   },
   "source": [
    "### Nest an Anchor Element within a Paragraph\n"
   ]
  },
  {
   "cell_type": "markdown",
   "metadata": {
    "hidden": true
   },
   "source": [
    "You can nest links within other text elements.\n",
    "```HTML\n",
    "<p> \n",
    "    Here's a <a target=\"_blank\" href=\"http://freecodecamp.org\"> link to freecodecamp.org</a> for you to follow.\n",
    "</p>\n",
    "```\n",
    "Let's break down the example: Normal text is wrapped in the `p` element:\n",
    "`<p> Here's a ... for you to follow. </p>` Next is the anchor element `<a>` (which requires a closing tag `</a>`):\n",
    "`<a> ... </a>` target is an anchor tag attribute that specifies where to open the link and the value `\"_blank\"` specifies to open the link in a new tab `href` is an anchor tag attribute that contains the URL address of the link:\n",
    "`<a href=\"http://freecodecamp.org\"> ... </a>` The text, **\"link to freecodecamp.org\"**, within the `a` element called `anchor text`, will display a link to click:\n",
    "`<a href=\" ... \">link to freecodecamp.org</a>` The final output of the example will look like this:\n",
    "\n",
    "Here's a [link to freecodecamp.org](http://freecodecamp.org) for you to follow.\n",
    "\n",
    "---\n",
    "Now nest the existing `a` element within a new `p` element (just after the existing main element). The new paragraph should have text that says \"View more cat photos\", where \"cat photos\" is a link, and the rest of the text is plain text."
   ]
  },
  {
   "cell_type": "code",
   "execution_count": 10,
   "metadata": {
    "hidden": true
   },
   "outputs": [
    {
     "data": {
      "text/html": [
       "<h2>CatPhotoApp</h2>\n",
       "<main>\n",
       "\n",
       "  <p>View more \n",
       "    <a href=\"http://freecatphotoapp.com\" target=\"_blank\">cat photos</a></p>\n",
       "\n",
       "  <img src=\"https://bit.ly/fcc-relaxing-cat\" alt=\"A cute orange cat lying on its back.\">\n",
       "\n",
       "  <p>Kitty ipsum dolor sit amet, shed everywhere shed everywhere stretching attack your ankles chase the red dot, hairball run catnip eat the grass sniff.</p>\n",
       "  <p>Purr jump eat the grass rip the couch scratched sunbathe, shed everywhere rip the couch sleep in the sink fluffy fur catnip scratched.</p>\n",
       "</main>\n"
      ],
      "text/plain": [
       "<IPython.core.display.HTML object>"
      ]
     },
     "metadata": {},
     "output_type": "display_data"
    }
   ],
   "source": [
    "%%HTML\n",
    "<h2>CatPhotoApp</h2>\n",
    "<main>\n",
    "\n",
    "  <p>View more \n",
    "    <a href=\"http://freecatphotoapp.com\" target=\"_blank\">cat photos</a></p>\n",
    "\n",
    "  <img src=\"https://bit.ly/fcc-relaxing-cat\" alt=\"A cute orange cat lying on its back.\">\n",
    "\n",
    "  <p>Kitty ipsum dolor sit amet, shed everywhere shed everywhere stretching attack your ankles chase the red dot, hairball run catnip eat the grass sniff.</p>\n",
    "  <p>Purr jump eat the grass rip the couch scratched sunbathe, shed everywhere rip the couch sleep in the sink fluffy fur catnip scratched.</p>\n",
    "</main>\n"
   ]
  },
  {
   "cell_type": "markdown",
   "metadata": {
    "heading_collapsed": true
   },
   "source": [
    "### Make Dead Links Using the Hash Symbol\n"
   ]
  },
  {
   "cell_type": "markdown",
   "metadata": {
    "hidden": true
   },
   "source": [
    "Sometimes you want to add `a` elements to your website before you know where they will link.\n",
    "\n",
    "This is also handy when you're changing the behavior of a link using `JavaScript`, which we'll learn about later.\n",
    "\n",
    "---\n",
    "The current value of the `href` attribute is a link that points to \"http://freecatphotoapp.com\". Replace the href attribute value with a `#`, also known as a hash symbol, to create a dead link.\n",
    "\n",
    "For example: `href=\"#\"`"
   ]
  },
  {
   "cell_type": "code",
   "execution_count": 12,
   "metadata": {
    "hidden": true
   },
   "outputs": [
    {
     "data": {
      "text/html": [
       "<h2>CatPhotoApp</h2>\n",
       "<main>\n",
       "  <p>Click here to view more <a href=\"#\" target=\"_blank\">cat photos</a>.</p>\n",
       "\n",
       "  <img src=\"https://bit.ly/fcc-relaxing-cat\" alt=\"A cute orange cat lying on its back.\">\n",
       "\n",
       "  <p>Kitty ipsum dolor sit amet, shed everywhere shed everywhere stretching attack your ankles chase the red dot, hairball run catnip eat the grass sniff.</p>\n",
       "  <p>Purr jump eat the grass rip the couch scratched sunbathe, shed everywhere rip the couch sleep in the sink fluffy fur catnip scratched.</p>\n",
       "</main>\n"
      ],
      "text/plain": [
       "<IPython.core.display.HTML object>"
      ]
     },
     "metadata": {},
     "output_type": "display_data"
    }
   ],
   "source": [
    "%%HTML\n",
    "<h2>CatPhotoApp</h2>\n",
    "<main>\n",
    "  <p>Click here to view more <a href=\"#\" target=\"_blank\">cat photos</a>.</p>\n",
    "\n",
    "  <img src=\"https://bit.ly/fcc-relaxing-cat\" alt=\"A cute orange cat lying on its back.\">\n",
    "\n",
    "  <p>Kitty ipsum dolor sit amet, shed everywhere shed everywhere stretching attack your ankles chase the red dot, hairball run catnip eat the grass sniff.</p>\n",
    "  <p>Purr jump eat the grass rip the couch scratched sunbathe, shed everywhere rip the couch sleep in the sink fluffy fur catnip scratched.</p>\n",
    "</main>\n"
   ]
  },
  {
   "cell_type": "markdown",
   "metadata": {
    "heading_collapsed": true
   },
   "source": [
    "### Turn an Image into a Link"
   ]
  },
  {
   "cell_type": "markdown",
   "metadata": {
    "hidden": true
   },
   "source": [
    "You can make elements into links by nesting them within an `a` element.\n",
    "\n",
    "Nest your image within an `a` element. Here's an example:\n",
    "\n",
    "`<a href=\"#\"><img src=\"https://bit.ly/fcc-running-cats\" alt=\"Three kittens running towards the camera.\"></a>`\n",
    "\n",
    "Remember to use `#` as your `a` element's `href` property in order to turn it into a dead link.\n",
    "\n",
    "---\n",
    "Place the existing image element within an `a` (_anchor_) element.\n",
    "\n",
    "Once you've done this, hover over your image with your cursor. Your cursor's normal pointer should become the link clicking pointer. The photo is now a link."
   ]
  },
  {
   "cell_type": "code",
   "execution_count": 13,
   "metadata": {
    "hidden": true
   },
   "outputs": [
    {
     "data": {
      "text/html": [
       "<h2>CatPhotoApp</h2>\n",
       "<main>\n",
       "  <p>Click here to view more <a href=\"#\"><img src=\"https://bit.ly/fcc-relaxing-cat\" alt=\"A cute orange cat lying on its back.\"></a>.</p>\n",
       "\n",
       "  <p>Kitty ipsum dolor sit amet, shed everywhere shed everywhere stretching attack your ankles chase the red dot, hairball run catnip eat the grass sniff.</p>\n",
       "  <p>Purr jump eat the grass rip the couch scratched sunbathe, shed everywhere rip the couch sleep in the sink fluffy fur catnip scratched.</p>\n",
       "</main>\n"
      ],
      "text/plain": [
       "<IPython.core.display.HTML object>"
      ]
     },
     "metadata": {},
     "output_type": "display_data"
    }
   ],
   "source": [
    "%%HTML\n",
    "<h2>CatPhotoApp</h2>\n",
    "<main>\n",
    "  <p>Click here to view more <a href=\"#\"><img src=\"https://bit.ly/fcc-relaxing-cat\" alt=\"A cute orange cat lying on its back.\"></a>.</p>\n",
    "\n",
    "  <p>Kitty ipsum dolor sit amet, shed everywhere shed everywhere stretching attack your ankles chase the red dot, hairball run catnip eat the grass sniff.</p>\n",
    "  <p>Purr jump eat the grass rip the couch scratched sunbathe, shed everywhere rip the couch sleep in the sink fluffy fur catnip scratched.</p>\n",
    "</main>\n"
   ]
  },
  {
   "cell_type": "markdown",
   "metadata": {
    "heading_collapsed": true
   },
   "source": [
    "### Create a Bulleted Unordered List\n"
   ]
  },
  {
   "cell_type": "markdown",
   "metadata": {
    "hidden": true
   },
   "source": [
    "HTML has a special element for creating unordered lists, or bullet point style lists.\n",
    "\n",
    "Unordered lists start with an opening `<ul>` element, followed by any number of `<li>` elements. Finally, unordered lists close with a `</ul>`\n",
    "\n",
    "For example:\n",
    "```HTML\n",
    "<ul>\n",
    "  <li>milk</li>\n",
    "  <li>cheese</li>\n",
    "</ul>\n",
    "```\n",
    "would create a bullet point style list of \"milk\" and \"cheese\".\n",
    "\n",
    "---\n",
    "Remove the last two `p` elements and create an unordered list of three things that cats love at the bottom of the page."
   ]
  },
  {
   "cell_type": "code",
   "execution_count": 14,
   "metadata": {
    "hidden": true
   },
   "outputs": [
    {
     "data": {
      "text/html": [
       "<h2>CatPhotoApp</h2>\n",
       "<main>\n",
       "  <p>Click here to view more <a href=\"#\">cat photos</a>.</p>\n",
       "\n",
       "  <a href=\"#\"><img src=\"https://bit.ly/fcc-relaxing-cat\" alt=\"A cute orange cat lying on its back.\"></a>\n",
       "\n",
       "  <ul>\n",
       "    <li>milk</li>\n",
       "    <li>fish</li>\n",
       "    <li>bird</li>\n",
       "  </ul>\n",
       "</main>\n"
      ],
      "text/plain": [
       "<IPython.core.display.HTML object>"
      ]
     },
     "metadata": {},
     "output_type": "display_data"
    }
   ],
   "source": [
    "%%HTML\n",
    "<h2>CatPhotoApp</h2>\n",
    "<main>\n",
    "  <p>Click here to view more <a href=\"#\">cat photos</a>.</p>\n",
    "\n",
    "  <a href=\"#\"><img src=\"https://bit.ly/fcc-relaxing-cat\" alt=\"A cute orange cat lying on its back.\"></a>\n",
    "\n",
    "  <ul>\n",
    "    <li>milk</li>\n",
    "    <li>fish</li>\n",
    "    <li>bird</li>\n",
    "  </ul>\n",
    "</main>\n"
   ]
  },
  {
   "cell_type": "markdown",
   "metadata": {
    "heading_collapsed": true
   },
   "source": [
    "### Create an Ordered List\n"
   ]
  },
  {
   "cell_type": "markdown",
   "metadata": {
    "hidden": true
   },
   "source": [
    "HTML has another special element for creating ordered lists, or numbered lists.\n",
    "\n",
    "Ordered lists start with an opening `<ol>` element, followed by any number of `<li>` elements. Finally, ordered lists are closed with the `</ol>` tag.\n",
    "\n",
    "For example:\n",
    "```HTML\n",
    "<ol>\n",
    "  <li>Garfield</li>\n",
    "  <li>Sylvester</li>\n",
    "</ol>\n",
    "```\n",
    "would create a numbered list of \"Garfield\" and \"Sylvester\".\n",
    "\n",
    "---\n",
    "Create an ordered list of the top 3 things cats hate the most."
   ]
  },
  {
   "cell_type": "code",
   "execution_count": 15,
   "metadata": {
    "hidden": true
   },
   "outputs": [
    {
     "data": {
      "text/html": [
       "<h2>CatPhotoApp</h2>\n",
       "<main>\n",
       "  <p>Click here to view more <a href=\"#\">cat photos</a>.</p>\n",
       "\n",
       "  <a href=\"#\"><img src=\"https://bit.ly/fcc-relaxing-cat\" alt=\"A cute orange cat lying on its back.\"></a>\n",
       "\n",
       "  <p>Things cats love:</p>\n",
       "  <ul>\n",
       "    <li>cat nip</li>\n",
       "    <li>laser pointers</li>\n",
       "    <li>lasagna</li>\n",
       "  </ul>\n",
       "  <p>Top 3 things cats hate:</p>\n",
       "  <ol>\n",
       "    <li>dog</li>\n",
       "    <li>shower</li>\n",
       "    <li>noise</li>\n",
       "  </ol>\n",
       "\n",
       "</main>\n"
      ],
      "text/plain": [
       "<IPython.core.display.HTML object>"
      ]
     },
     "metadata": {},
     "output_type": "display_data"
    }
   ],
   "source": [
    "%%HTML\n",
    "<h2>CatPhotoApp</h2>\n",
    "<main>\n",
    "  <p>Click here to view more <a href=\"#\">cat photos</a>.</p>\n",
    "\n",
    "  <a href=\"#\"><img src=\"https://bit.ly/fcc-relaxing-cat\" alt=\"A cute orange cat lying on its back.\"></a>\n",
    "\n",
    "  <p>Things cats love:</p>\n",
    "  <ul>\n",
    "    <li>cat nip</li>\n",
    "    <li>laser pointers</li>\n",
    "    <li>lasagna</li>\n",
    "  </ul>\n",
    "  <p>Top 3 things cats hate:</p>\n",
    "  <ol>\n",
    "    <li>dog</li>\n",
    "    <li>shower</li>\n",
    "    <li>noise</li>\n",
    "  </ol>\n",
    "\n",
    "</main>\n"
   ]
  },
  {
   "cell_type": "markdown",
   "metadata": {
    "heading_collapsed": true
   },
   "source": [
    "### Create a Text Field\n"
   ]
  },
  {
   "cell_type": "markdown",
   "metadata": {
    "hidden": true
   },
   "source": [
    "Now let's create a web form.\n",
    "\n",
    "`input` elements are a convenient way to get input from your user.\n",
    "\n",
    "You can create a text input like this:\n",
    "\n",
    "`<input type=\"text\">`\n",
    "\n",
    "Note that `input` elements are self-closing.\n",
    "\n",
    "---\n",
    "Create an `input` element of type `text` below your lists."
   ]
  },
  {
   "cell_type": "code",
   "execution_count": 16,
   "metadata": {
    "hidden": true
   },
   "outputs": [
    {
     "data": {
      "text/html": [
       "<h2>CatPhotoApp</h2>\n",
       "<main>\n",
       "  <p>Click here to view more <a href=\"#\">cat photos</a>.</p>\n",
       "\n",
       "  <a href=\"#\"><img src=\"https://bit.ly/fcc-relaxing-cat\" alt=\"A cute orange cat lying on its back.\"></a>\n",
       "\n",
       "  <p>Things cats love:</p>\n",
       "  <ul>\n",
       "    <li>cat nip</li>\n",
       "    <li>laser pointers</li>\n",
       "    <li>lasagna</li>\n",
       "  </ul>\n",
       "  <p>Top 3 things cats hate:</p>\n",
       "  <ol>\n",
       "    <li>flea treatment</li>\n",
       "    <li>thunder</li>\n",
       "    <li>other cats</li>\n",
       "  </ol>\n",
       "\n",
       "  <input type=\"text\">\n",
       "\n",
       "</main>\n"
      ],
      "text/plain": [
       "<IPython.core.display.HTML object>"
      ]
     },
     "metadata": {},
     "output_type": "display_data"
    }
   ],
   "source": [
    "%%HTML\n",
    "<h2>CatPhotoApp</h2>\n",
    "<main>\n",
    "  <p>Click here to view more <a href=\"#\">cat photos</a>.</p>\n",
    "\n",
    "  <a href=\"#\"><img src=\"https://bit.ly/fcc-relaxing-cat\" alt=\"A cute orange cat lying on its back.\"></a>\n",
    "\n",
    "  <p>Things cats love:</p>\n",
    "  <ul>\n",
    "    <li>cat nip</li>\n",
    "    <li>laser pointers</li>\n",
    "    <li>lasagna</li>\n",
    "  </ul>\n",
    "  <p>Top 3 things cats hate:</p>\n",
    "  <ol>\n",
    "    <li>flea treatment</li>\n",
    "    <li>thunder</li>\n",
    "    <li>other cats</li>\n",
    "  </ol>\n",
    "\n",
    "  <input type=\"text\">\n",
    "\n",
    "</main>\n"
   ]
  },
  {
   "cell_type": "markdown",
   "metadata": {
    "heading_collapsed": true
   },
   "source": [
    "### Add Placeholder Text to a Text Field\n"
   ]
  },
  {
   "cell_type": "markdown",
   "metadata": {
    "hidden": true
   },
   "source": [
    "Placeholder text is what is displayed in your `input` element before your user has inputted anything.\n",
    "\n",
    "You can create placeholder text like so:\n",
    "\n",
    "`<input type=\"text\" placeholder=\"this is placeholder text\">`\n",
    "\n",
    "Note: Remember that `input` elements are self-closing.\n",
    "\n",
    "---\n",
    "Set the `placeholder` value of your text `input` to \"cat photo URL\"."
   ]
  },
  {
   "cell_type": "code",
   "execution_count": 17,
   "metadata": {
    "hidden": true
   },
   "outputs": [
    {
     "data": {
      "text/html": [
       "<h2>CatPhotoApp</h2>\n",
       "<main>\n",
       "  <p>Click here to view more <a href=\"#\">cat photos</a>.</p>\n",
       "\n",
       "  <a href=\"#\"><img src=\"https://bit.ly/fcc-relaxing-cat\" alt=\"A cute orange cat lying on its back.\"></a>\n",
       "\n",
       "  <p>Things cats love:</p>\n",
       "  <ul>\n",
       "    <li>cat nip</li>\n",
       "    <li>laser pointers</li>\n",
       "    <li>lasagna</li>\n",
       "  </ul>\n",
       "  <p>Top 3 things cats hate:</p>\n",
       "  <ol>\n",
       "    <li>flea treatment</li>\n",
       "    <li>thunder</li>\n",
       "    <li>other cats</li>\n",
       "  </ol>\n",
       "  <input type=\"text\" placeholder=\"cat photo URL\">\n",
       "</main>\n"
      ],
      "text/plain": [
       "<IPython.core.display.HTML object>"
      ]
     },
     "metadata": {},
     "output_type": "display_data"
    }
   ],
   "source": [
    "%%HTML\n",
    "<h2>CatPhotoApp</h2>\n",
    "<main>\n",
    "  <p>Click here to view more <a href=\"#\">cat photos</a>.</p>\n",
    "\n",
    "  <a href=\"#\"><img src=\"https://bit.ly/fcc-relaxing-cat\" alt=\"A cute orange cat lying on its back.\"></a>\n",
    "\n",
    "  <p>Things cats love:</p>\n",
    "  <ul>\n",
    "    <li>cat nip</li>\n",
    "    <li>laser pointers</li>\n",
    "    <li>lasagna</li>\n",
    "  </ul>\n",
    "  <p>Top 3 things cats hate:</p>\n",
    "  <ol>\n",
    "    <li>flea treatment</li>\n",
    "    <li>thunder</li>\n",
    "    <li>other cats</li>\n",
    "  </ol>\n",
    "  <input type=\"text\" placeholder=\"cat photo URL\">\n",
    "</main>\n"
   ]
  },
  {
   "cell_type": "markdown",
   "metadata": {
    "heading_collapsed": true
   },
   "source": [
    "### Create a Form Element\n"
   ]
  },
  {
   "cell_type": "markdown",
   "metadata": {
    "hidden": true
   },
   "source": [
    "You can build web forms that actually submit data to a server using nothing more than pure HTML. You can do this by specifying an action on your `form` element.\n",
    "\n",
    "For example:\n",
    "\n",
    "`<form action=\"/url-where-you-want-to-submit-form-data\"></form>`\n",
    "\n",
    "---\n",
    "Nest your text field inside a `form` element, and add the `action=\"/submit-cat-photo\"` attribute to the form element."
   ]
  },
  {
   "cell_type": "code",
   "execution_count": 18,
   "metadata": {
    "hidden": true
   },
   "outputs": [
    {
     "data": {
      "text/html": [
       "<h2>CatPhotoApp</h2>\n",
       "<main>\n",
       "  <p>Click here to view more <a href=\"#\">cat photos</a>.</p>\n",
       "\n",
       "  <a href=\"#\"><img src=\"https://bit.ly/fcc-relaxing-cat\" alt=\"A cute orange cat lying on its back.\"></a>\n",
       "\n",
       "  <p>Things cats love:</p>\n",
       "  <ul>\n",
       "    <li>cat nip</li>\n",
       "    <li>laser pointers</li>\n",
       "    <li>lasagna</li>\n",
       "  </ul>\n",
       "  <p>Top 3 things cats hate:</p>\n",
       "  <ol>\n",
       "    <li>flea treatment</li>\n",
       "    <li>thunder</li>\n",
       "    <li>other cats</li>\n",
       "  </ol>\n",
       "  <form action=\"/submit-cat-photo\">\n",
       "    <input type=\"text\" placeholder=\"cat photo URL\">\n",
       "  </form>\n",
       "</main>\n"
      ],
      "text/plain": [
       "<IPython.core.display.HTML object>"
      ]
     },
     "metadata": {},
     "output_type": "display_data"
    }
   ],
   "source": [
    "%%HTML\n",
    "<h2>CatPhotoApp</h2>\n",
    "<main>\n",
    "  <p>Click here to view more <a href=\"#\">cat photos</a>.</p>\n",
    "\n",
    "  <a href=\"#\"><img src=\"https://bit.ly/fcc-relaxing-cat\" alt=\"A cute orange cat lying on its back.\"></a>\n",
    "\n",
    "  <p>Things cats love:</p>\n",
    "  <ul>\n",
    "    <li>cat nip</li>\n",
    "    <li>laser pointers</li>\n",
    "    <li>lasagna</li>\n",
    "  </ul>\n",
    "  <p>Top 3 things cats hate:</p>\n",
    "  <ol>\n",
    "    <li>flea treatment</li>\n",
    "    <li>thunder</li>\n",
    "    <li>other cats</li>\n",
    "  </ol>\n",
    "  <form action=\"/submit-cat-photo\">\n",
    "    <input type=\"text\" placeholder=\"cat photo URL\">\n",
    "  </form>\n",
    "</main>\n"
   ]
  },
  {
   "cell_type": "markdown",
   "metadata": {
    "heading_collapsed": true
   },
   "source": [
    "### Add a Submit Button to a Form\n"
   ]
  },
  {
   "cell_type": "markdown",
   "metadata": {
    "hidden": true
   },
   "source": [
    "Let's add a `submit` button to your form. Clicking this button will send the data from your form to the URL you specified with your form's `action` attribute.\n",
    "\n",
    "Here's an example submit button:\n",
    "\n",
    "`<button type=\"submit\">this button submits the form</button>`\n",
    "\n",
    "---\n",
    "Add a button as the last element of your `form` element with a type of `submit`, and \"Submit\" as its text."
   ]
  },
  {
   "cell_type": "code",
   "execution_count": 19,
   "metadata": {
    "hidden": true
   },
   "outputs": [
    {
     "data": {
      "text/html": [
       "<h2>CatPhotoApp</h2>\n",
       "<main>\n",
       "  <p>Click here to view more <a href=\"#\">cat photos</a>.</p>\n",
       "\n",
       "  <a href=\"#\"><img src=\"https://bit.ly/fcc-relaxing-cat\" alt=\"A cute orange cat lying on its back.\"></a>\n",
       "\n",
       "  <p>Things cats love:</p>\n",
       "  <ul>\n",
       "    <li>cat nip</li>\n",
       "    <li>laser pointers</li>\n",
       "    <li>lasagna</li>\n",
       "  </ul>\n",
       "  <p>Top 3 things cats hate:</p>\n",
       "  <ol>\n",
       "    <li>flea treatment</li>\n",
       "    <li>thunder</li>\n",
       "    <li>other cats</li>\n",
       "  </ol>\n",
       "  <form action=\"/submit-cat-photo\">\n",
       "    <input type=\"text\" placeholder=\"cat photo URL\">\n",
       "    <button type=\"submit\">Submit</button>\n",
       "  </form>\n",
       "</main>\n"
      ],
      "text/plain": [
       "<IPython.core.display.HTML object>"
      ]
     },
     "metadata": {},
     "output_type": "display_data"
    }
   ],
   "source": [
    "%%HTML\n",
    "<h2>CatPhotoApp</h2>\n",
    "<main>\n",
    "  <p>Click here to view more <a href=\"#\">cat photos</a>.</p>\n",
    "\n",
    "  <a href=\"#\"><img src=\"https://bit.ly/fcc-relaxing-cat\" alt=\"A cute orange cat lying on its back.\"></a>\n",
    "\n",
    "  <p>Things cats love:</p>\n",
    "  <ul>\n",
    "    <li>cat nip</li>\n",
    "    <li>laser pointers</li>\n",
    "    <li>lasagna</li>\n",
    "  </ul>\n",
    "  <p>Top 3 things cats hate:</p>\n",
    "  <ol>\n",
    "    <li>flea treatment</li>\n",
    "    <li>thunder</li>\n",
    "    <li>other cats</li>\n",
    "  </ol>\n",
    "  <form action=\"/submit-cat-photo\">\n",
    "    <input type=\"text\" placeholder=\"cat photo URL\">\n",
    "    <button type=\"submit\">Submit</button>\n",
    "  </form>\n",
    "</main>\n"
   ]
  },
  {
   "cell_type": "markdown",
   "metadata": {
    "heading_collapsed": true
   },
   "source": [
    "### Use HTML5 to Require a Field\n"
   ]
  },
  {
   "cell_type": "markdown",
   "metadata": {
    "hidden": true
   },
   "source": [
    "You can require specific form fields so that your user will not be able to submit your form until he or she has filled them out.\n",
    "\n",
    "For example, if you wanted to make a text input field required, you can just add the attribute `required` within your `input` element, like this: `<input type=\"text\" required>`\n",
    "\n",
    "---\n",
    "Make your text `input` a `required` field, so that your user can't submit the form without completing this field.\n",
    "\n",
    "Then try to submit the form without inputting any text. See how your HTML5 form notifies you that the field is required?"
   ]
  },
  {
   "cell_type": "code",
   "execution_count": 20,
   "metadata": {
    "hidden": true
   },
   "outputs": [
    {
     "data": {
      "text/html": [
       "<h2>CatPhotoApp</h2>\n",
       "<main>\n",
       "  <p>Click here to view more <a href=\"#\">cat photos</a>.</p>\n",
       "\n",
       "  <a href=\"#\"><img src=\"https://bit.ly/fcc-relaxing-cat\" alt=\"A cute orange cat lying on its back.\"></a>\n",
       "\n",
       "  <p>Things cats love:</p>\n",
       "  <ul>\n",
       "    <li>cat nip</li>\n",
       "    <li>laser pointers</li>\n",
       "    <li>lasagna</li>\n",
       "  </ul>\n",
       "  <p>Top 3 things cats hate:</p>\n",
       "  <ol>\n",
       "    <li>flea treatment</li>\n",
       "    <li>thunder</li>\n",
       "    <li>other cats</li>\n",
       "  </ol>\n",
       "  <form action=\"/submit-cat-photo\">\n",
       "    <input type=\"text\" placeholder=\"cat photo URL\" required>\n",
       "    <button type=\"submit\">Submit</button>\n",
       "  </form>\n",
       "</main>\n"
      ],
      "text/plain": [
       "<IPython.core.display.HTML object>"
      ]
     },
     "metadata": {},
     "output_type": "display_data"
    }
   ],
   "source": [
    "%%HTML\n",
    "<h2>CatPhotoApp</h2>\n",
    "<main>\n",
    "  <p>Click here to view more <a href=\"#\">cat photos</a>.</p>\n",
    "\n",
    "  <a href=\"#\"><img src=\"https://bit.ly/fcc-relaxing-cat\" alt=\"A cute orange cat lying on its back.\"></a>\n",
    "\n",
    "  <p>Things cats love:</p>\n",
    "  <ul>\n",
    "    <li>cat nip</li>\n",
    "    <li>laser pointers</li>\n",
    "    <li>lasagna</li>\n",
    "  </ul>\n",
    "  <p>Top 3 things cats hate:</p>\n",
    "  <ol>\n",
    "    <li>flea treatment</li>\n",
    "    <li>thunder</li>\n",
    "    <li>other cats</li>\n",
    "  </ol>\n",
    "  <form action=\"/submit-cat-photo\">\n",
    "    <input type=\"text\" placeholder=\"cat photo URL\" required>\n",
    "    <button type=\"submit\">Submit</button>\n",
    "  </form>\n",
    "</main>\n"
   ]
  },
  {
   "cell_type": "markdown",
   "metadata": {
    "heading_collapsed": true
   },
   "source": [
    "### Create a Set of Radio Buttons\n"
   ]
  },
  {
   "cell_type": "markdown",
   "metadata": {
    "hidden": true
   },
   "source": [
    "You can use _radio buttons_ for questions where you want the user to only give you one answer out of multiple options.\n",
    "\n",
    "Radio buttons are a type of `input`.\n",
    "\n",
    "Each of your radio buttons can be nested within its own `label` element. By wrapping an `input` element inside of a `label` element it will automatically associate the radio button input with the label element surrounding it.\n",
    "\n",
    "All related radio buttons should have the same `name` attribute to create a radio button group. By creating a radio group, selecting any single radio button will automatically deselect the other buttons within the same group ensuring only one answer is provided by the user.\n",
    "\n",
    "Here's an example of a radio button:\n",
    "```HTML\n",
    "<label> \n",
    "  <input type=\"radio\" name=\"indoor-outdoor\">Indoor \n",
    "</label>\n",
    "```\n",
    "It is considered best practice to set a `for` attribute on the `label` element, with a value that matches the value of the `id` attribute of the `input` element. This allows assistive technologies to create a linked relationship between the label and the child `input` element. For example:\n",
    "```HTML\n",
    "<label for=\"indoor\"> \n",
    "  <input id=\"indoor\" type=\"radio\" name=\"indoor-outdoor\">Indoor \n",
    "</label>\n",
    "```\n",
    "\n",
    "---\n",
    "Add a pair of radio buttons to your form, each nested in its own `label` element. One should have the option of `indoor` and the other should have the option of `outdoor`. Both should share the name attribute of `indoor-outdoor` to create a radio group."
   ]
  },
  {
   "cell_type": "code",
   "execution_count": 23,
   "metadata": {
    "hidden": true
   },
   "outputs": [
    {
     "data": {
      "text/html": [
       "<h2>CatPhotoApp</h2>\n",
       "<main>\n",
       "  <p>Click here to view more <a href=\"#\">cat photos</a>.</p>\n",
       "\n",
       "  <a href=\"#\"><img src=\"https://bit.ly/fcc-relaxing-cat\" alt=\"A cute orange cat lying on its back.\"></a>\n",
       "\n",
       "  <p>Things cats love:</p>\n",
       "  <ul>\n",
       "    <li>cat nip</li>\n",
       "    <li>laser pointers</li>\n",
       "    <li>lasagna</li>\n",
       "  </ul>\n",
       "  <p>Top 3 things cats hate:</p>\n",
       "  <ol>\n",
       "    <li>flea treatment</li>\n",
       "    <li>thunder</li>\n",
       "    <li>other cats</li>\n",
       "  </ol>\n",
       "  <form action=\"/submit-cat-photo\">\n",
       "    <input type=\"text\" placeholder=\"cat photo URL\" required>\n",
       "    <button type=\"submit\">Submit</button><br>\n",
       "    <label for=\"indoor\">\n",
       "      <input id=\"indoor\" type=\"radio\" name=\"indoor-outdoor\">Indoor\n",
       "    </label>\n",
       "    <label for=\"outdoor\">\n",
       "      <input id=\"outdoor\" type=\"radio\" name=\"indoor-outdoor\">Outdoor\n",
       "    </label>\n",
       "  </form>\n",
       "</main>\n"
      ],
      "text/plain": [
       "<IPython.core.display.HTML object>"
      ]
     },
     "metadata": {},
     "output_type": "display_data"
    }
   ],
   "source": [
    "%%HTML\n",
    "<h2>CatPhotoApp</h2>\n",
    "<main>\n",
    "  <p>Click here to view more <a href=\"#\">cat photos</a>.</p>\n",
    "\n",
    "  <a href=\"#\"><img src=\"https://bit.ly/fcc-relaxing-cat\" alt=\"A cute orange cat lying on its back.\"></a>\n",
    "\n",
    "  <p>Things cats love:</p>\n",
    "  <ul>\n",
    "    <li>cat nip</li>\n",
    "    <li>laser pointers</li>\n",
    "    <li>lasagna</li>\n",
    "  </ul>\n",
    "  <p>Top 3 things cats hate:</p>\n",
    "  <ol>\n",
    "    <li>flea treatment</li>\n",
    "    <li>thunder</li>\n",
    "    <li>other cats</li>\n",
    "  </ol>\n",
    "  <form action=\"/submit-cat-photo\">\n",
    "    <input type=\"text\" placeholder=\"cat photo URL\" required>\n",
    "    <button type=\"submit\">Submit</button><br>\n",
    "    <label for=\"indoor\">\n",
    "      <input id=\"indoor\" type=\"radio\" name=\"indoor-outdoor\">Indoor\n",
    "    </label>\n",
    "    <label for=\"outdoor\">\n",
    "      <input id=\"outdoor\" type=\"radio\" name=\"indoor-outdoor\">Outdoor\n",
    "    </label>\n",
    "  </form>\n",
    "</main>\n"
   ]
  },
  {
   "cell_type": "markdown",
   "metadata": {
    "heading_collapsed": true
   },
   "source": [
    "### Create a Set of Checkboxes\n"
   ]
  },
  {
   "cell_type": "markdown",
   "metadata": {
    "hidden": true
   },
   "source": [
    "Forms commonly use checkboxes for questions that may have more than one answer.\n",
    "\n",
    "Checkboxes are a type of `input`.\n",
    "\n",
    "Each of your checkboxes can be nested within its own `label` element. By wrapping an `input` element inside of a `label` element it will automatically associate the checkbox input with the label element surrounding it.\n",
    "\n",
    "All related checkbox inputs should have the same `name` attribute.\n",
    "\n",
    "It is considered best practice to explicitly define the relationship between a checkbox `input` and its corresponding `label` by setting the `for` attribute on the `label` element to match the `id` attribute of the associated `input` element.\n",
    "\n",
    "Here's an example of a checkbox:\n",
    "\n",
    "`<label for=\"loving\"><input id=\"loving\" type=\"checkbox\" name=\"personality\"> Loving</label>`\n",
    "\n",
    "---\n",
    "Add to your form a set of three checkboxes. Each checkbox should be nested within its own `label` element. All three should share the `name` attribute of `personality`.\n",
    "\n"
   ]
  },
  {
   "cell_type": "code",
   "execution_count": 24,
   "metadata": {
    "hidden": true
   },
   "outputs": [
    {
     "data": {
      "text/html": [
       "<h2>CatPhotoApp</h2>\n",
       "<main>\n",
       "  <p>Click here to view more <a href=\"#\">cat photos</a>.</p>\n",
       "\n",
       "  <a href=\"#\"><img src=\"https://bit.ly/fcc-relaxing-cat\" alt=\"A cute orange cat lying on its back.\"></a>\n",
       "\n",
       "  <p>Things cats love:</p>\n",
       "  <ul>\n",
       "    <li>cat nip</li>\n",
       "    <li>laser pointers</li>\n",
       "    <li>lasagna</li>\n",
       "  </ul>\n",
       "  <p>Top 3 things cats hate:</p>\n",
       "  <ol>\n",
       "    <li>flea treatment</li>\n",
       "    <li>thunder</li>\n",
       "    <li>other cats</li>\n",
       "  </ol>\n",
       "  <form action=\"/submit-cat-photo\">\n",
       "    <label for=\"indoor\"><input id=\"indoor\" type=\"radio\" name=\"indoor-outdoor\"> Indoor</label>\n",
       "    <label for=\"outdoor\"><input id=\"outdoor\" type=\"radio\" name=\"indoor-outdoor\"> Outdoor</label><br>\n",
       "    <label for=\"loving\"><input id=\"loving\" type=\"checkbox\" name=\"personality\"> Loving</label>\n",
       "    <label for=\"playing\"><input id=\"playing\" type=\"checkbox\" name=\"personality\"> Playing</label>\n",
       "    <label for=\"slacking\"><input id=\"slacking\" type=\"checkbox\" name=\"personality\"> Slacking</label><br>\n",
       "    <input type=\"text\" placeholder=\"cat photo URL\" required>\n",
       "    <button type=\"submit\">Submit</button>\n",
       "  </form>\n",
       "</main>\n"
      ],
      "text/plain": [
       "<IPython.core.display.HTML object>"
      ]
     },
     "metadata": {},
     "output_type": "display_data"
    }
   ],
   "source": [
    "%%HTML\n",
    "<h2>CatPhotoApp</h2>\n",
    "<main>\n",
    "  <p>Click here to view more <a href=\"#\">cat photos</a>.</p>\n",
    "\n",
    "  <a href=\"#\"><img src=\"https://bit.ly/fcc-relaxing-cat\" alt=\"A cute orange cat lying on its back.\"></a>\n",
    "\n",
    "  <p>Things cats love:</p>\n",
    "  <ul>\n",
    "    <li>cat nip</li>\n",
    "    <li>laser pointers</li>\n",
    "    <li>lasagna</li>\n",
    "  </ul>\n",
    "  <p>Top 3 things cats hate:</p>\n",
    "  <ol>\n",
    "    <li>flea treatment</li>\n",
    "    <li>thunder</li>\n",
    "    <li>other cats</li>\n",
    "  </ol>\n",
    "  <form action=\"/submit-cat-photo\">\n",
    "    <label for=\"indoor\"><input id=\"indoor\" type=\"radio\" name=\"indoor-outdoor\"> Indoor</label>\n",
    "    <label for=\"outdoor\"><input id=\"outdoor\" type=\"radio\" name=\"indoor-outdoor\"> Outdoor</label><br>\n",
    "    <label for=\"loving\"><input id=\"loving\" type=\"checkbox\" name=\"personality\"> Loving</label>\n",
    "    <label for=\"playing\"><input id=\"playing\" type=\"checkbox\" name=\"personality\"> Playing</label>\n",
    "    <label for=\"slacking\"><input id=\"slacking\" type=\"checkbox\" name=\"personality\"> Slacking</label><br>\n",
    "    <input type=\"text\" placeholder=\"cat photo URL\" required>\n",
    "    <button type=\"submit\">Submit</button>\n",
    "  </form>\n",
    "</main>\n"
   ]
  },
  {
   "cell_type": "markdown",
   "metadata": {
    "heading_collapsed": true
   },
   "source": [
    "### Use the value attribute with Radio Buttons and Checkboxes\n"
   ]
  },
  {
   "cell_type": "markdown",
   "metadata": {
    "hidden": true
   },
   "source": [
    "When a form gets submitted, the data is sent to the server and includes entries for the options selected. Inputs of type `radio` and `checkbox` report their values from the `value` attribute.\n",
    "\n",
    "For example:\n",
    "```HTML\n",
    "<label for=\"indoor\"> \n",
    "  <input id=\"indoor\" value=\"indoor\" type=\"radio\" name=\"indoor-outdoor\">Indoor \n",
    "</label>\n",
    "<label for=\"outdoor\"> \n",
    "  <input id=\"outdoor\" value=\"outdoor\" type=\"radio\" name=\"indoor-outdoor\">Outdoor \n",
    "</label>\n",
    "```\n",
    "Here, you have two `radio` inputs. When the user submits the form with the `indoor` option selected, the form data will include the line: `indoor-outdoor=indoor`. This is from the `name` and `value` attributes of the \"indoor\" input.\n",
    "\n",
    "If you omit the `value` attribute, the submitted form data uses the default value, which is `on`. In this scenario, if the user clicked the \"indoor\" option and submitted the form, the resulting form data would be `indoor-outdoor=on`, which is not useful. So the `value` attribute needs to be set to something to identify the option.\n",
    "\n",
    "---\n",
    "Give each of the `radio` and `checkbox` inputs the `value` attribute. Use the input label text, in lowercase, as the value for the attribute."
   ]
  },
  {
   "cell_type": "code",
   "execution_count": 25,
   "metadata": {
    "hidden": true
   },
   "outputs": [
    {
     "data": {
      "text/html": [
       "<h2>CatPhotoApp</h2>\n",
       "<main>\n",
       "  <p>Click here to view more <a href=\"#\">cat photos</a>.</p>\n",
       "  \n",
       "  <a href=\"#\"><img src=\"https://bit.ly/fcc-relaxing-cat\" alt=\"A cute orange cat lying on its back.\"></a>\n",
       "  \n",
       "  <p>Things cats love:</p>\n",
       "  <ul>\n",
       "    <li>cat nip</li>\n",
       "    <li>laser pointers</li>\n",
       "    <li>lasagna</li>\n",
       "  </ul>\n",
       "  <p>Top 3 things cats hate:</p>\n",
       "  <ol>\n",
       "    <li>flea treatment</li>\n",
       "    <li>thunder</li>\n",
       "    <li>other cats</li>\n",
       "  </ol>\n",
       "  <form action=\"/submit-cat-photo\">\n",
       "    <label><input type=\"radio\" name=\"indoor-outdoor\" value=\"indoor\"> Indoor</label>\n",
       "    <label><input type=\"radio\" name=\"indoor-outdoor\" value=\"outdoor\"> Outdoor</label><br>\n",
       "    <label><input type=\"checkbox\" name=\"personality\" value=\"loving\"> Loving</label>\n",
       "    <label><input type=\"checkbox\" name=\"personality\" value=\"lazy\"> Lazy</label>\n",
       "    <label><input type=\"checkbox\" name=\"personality\" value=\"energetic\"> Energetic</label><br>\n",
       "    <input type=\"text\" placeholder=\"cat photo URL\" required>\n",
       "    <button type=\"submit\">Submit</button>\n",
       "  </form>\n",
       "</main>\n"
      ],
      "text/plain": [
       "<IPython.core.display.HTML object>"
      ]
     },
     "metadata": {},
     "output_type": "display_data"
    }
   ],
   "source": [
    "%%HTML\n",
    "<h2>CatPhotoApp</h2>\n",
    "<main>\n",
    "  <p>Click here to view more <a href=\"#\">cat photos</a>.</p>\n",
    "  \n",
    "  <a href=\"#\"><img src=\"https://bit.ly/fcc-relaxing-cat\" alt=\"A cute orange cat lying on its back.\"></a>\n",
    "  \n",
    "  <p>Things cats love:</p>\n",
    "  <ul>\n",
    "    <li>cat nip</li>\n",
    "    <li>laser pointers</li>\n",
    "    <li>lasagna</li>\n",
    "  </ul>\n",
    "  <p>Top 3 things cats hate:</p>\n",
    "  <ol>\n",
    "    <li>flea treatment</li>\n",
    "    <li>thunder</li>\n",
    "    <li>other cats</li>\n",
    "  </ol>\n",
    "  <form action=\"/submit-cat-photo\">\n",
    "    <label><input type=\"radio\" name=\"indoor-outdoor\" value=\"indoor\"> Indoor</label>\n",
    "    <label><input type=\"radio\" name=\"indoor-outdoor\" value=\"outdoor\"> Outdoor</label><br>\n",
    "    <label><input type=\"checkbox\" name=\"personality\" value=\"loving\"> Loving</label>\n",
    "    <label><input type=\"checkbox\" name=\"personality\" value=\"lazy\"> Lazy</label>\n",
    "    <label><input type=\"checkbox\" name=\"personality\" value=\"energetic\"> Energetic</label><br>\n",
    "    <input type=\"text\" placeholder=\"cat photo URL\" required>\n",
    "    <button type=\"submit\">Submit</button>\n",
    "  </form>\n",
    "</main>\n"
   ]
  },
  {
   "cell_type": "markdown",
   "metadata": {
    "heading_collapsed": true
   },
   "source": [
    "### Check Radio Buttons and Checkboxes by Default\n"
   ]
  },
  {
   "cell_type": "markdown",
   "metadata": {
    "hidden": true
   },
   "source": [
    "You can set a checkbox or radio button to be checked by default using the `checked` attribute.\n",
    "\n",
    "To do this, just add the word \"checked\" to the inside of an input element. For example:\n",
    "\n",
    "`<input type=\"radio\" name=\"test-name\" checked>`\n",
    "\n",
    "---\n",
    "Set the first of your radio buttons and the first of your checkboxes to both be checked by default."
   ]
  },
  {
   "cell_type": "code",
   "execution_count": 26,
   "metadata": {
    "hidden": true
   },
   "outputs": [
    {
     "data": {
      "text/html": [
       "<h2>CatPhotoApp</h2>\n",
       "<main>\n",
       "  <p>Click here to view more <a href=\"#\">cat photos</a>.</p>\n",
       "\n",
       "  <a href=\"#\"><img src=\"https://bit.ly/fcc-relaxing-cat\" alt=\"A cute orange cat lying on its back.\"></a>\n",
       "\n",
       "  <p>Things cats love:</p>\n",
       "  <ul>\n",
       "    <li>cat nip</li>\n",
       "    <li>laser pointers</li>\n",
       "    <li>lasagna</li>\n",
       "  </ul>\n",
       "  <p>Top 3 things cats hate:</p>\n",
       "  <ol>\n",
       "    <li>flea treatment</li>\n",
       "    <li>thunder</li>\n",
       "    <li>other cats</li>\n",
       "  </ol>\n",
       "  <form action=\"/submit-cat-photo\">\n",
       "    <label for=\"indoor\"><input id=\"indoor\" type=\"radio\" name=\"indoor-outdoor\" value=\"indoor\" checked> Indoor</label>\n",
       "    <label for=\"outdoor\"><input id=\"outdoor\" type=\"radio\" name=\"indoor-outdoor\" value=\"outdoor\"> Outdoor</label><br>\n",
       "    <label for=\"loving\"><input id=\"loving\" type=\"checkbox\" name=\"personality\" value=\"loving\" checked> Loving</label>\n",
       "    <label for=\"lazy\"><input id=\"lazy\" type=\"checkbox\" name=\"personality\" value=\"lazy\"> Lazy</label>\n",
       "    <label for=\"energetic\"><input id=\"energetic\" type=\"checkbox\" name=\"personality\" value=\"energetic\"> Energetic</label><br>\n",
       "    <input type=\"text\" placeholder=\"cat photo URL\" required>\n",
       "    <button type=\"submit\">Submit</button>\n",
       "  </form>\n",
       "</main>\n"
      ],
      "text/plain": [
       "<IPython.core.display.HTML object>"
      ]
     },
     "metadata": {},
     "output_type": "display_data"
    }
   ],
   "source": [
    "%%HTML\n",
    "<h2>CatPhotoApp</h2>\n",
    "<main>\n",
    "  <p>Click here to view more <a href=\"#\">cat photos</a>.</p>\n",
    "\n",
    "  <a href=\"#\"><img src=\"https://bit.ly/fcc-relaxing-cat\" alt=\"A cute orange cat lying on its back.\"></a>\n",
    "\n",
    "  <p>Things cats love:</p>\n",
    "  <ul>\n",
    "    <li>cat nip</li>\n",
    "    <li>laser pointers</li>\n",
    "    <li>lasagna</li>\n",
    "  </ul>\n",
    "  <p>Top 3 things cats hate:</p>\n",
    "  <ol>\n",
    "    <li>flea treatment</li>\n",
    "    <li>thunder</li>\n",
    "    <li>other cats</li>\n",
    "  </ol>\n",
    "  <form action=\"/submit-cat-photo\">\n",
    "    <label for=\"indoor\"><input id=\"indoor\" type=\"radio\" name=\"indoor-outdoor\" value=\"indoor\" checked> Indoor</label>\n",
    "    <label for=\"outdoor\"><input id=\"outdoor\" type=\"radio\" name=\"indoor-outdoor\" value=\"outdoor\"> Outdoor</label><br>\n",
    "    <label for=\"loving\"><input id=\"loving\" type=\"checkbox\" name=\"personality\" value=\"loving\" checked> Loving</label>\n",
    "    <label for=\"lazy\"><input id=\"lazy\" type=\"checkbox\" name=\"personality\" value=\"lazy\"> Lazy</label>\n",
    "    <label for=\"energetic\"><input id=\"energetic\" type=\"checkbox\" name=\"personality\" value=\"energetic\"> Energetic</label><br>\n",
    "    <input type=\"text\" placeholder=\"cat photo URL\" required>\n",
    "    <button type=\"submit\">Submit</button>\n",
    "  </form>\n",
    "</main>\n"
   ]
  },
  {
   "cell_type": "markdown",
   "metadata": {
    "heading_collapsed": true
   },
   "source": [
    "### Nest Many Elements within a Single div Element\n"
   ]
  },
  {
   "cell_type": "markdown",
   "metadata": {
    "hidden": true
   },
   "source": [
    "The `div` element, also known as a division element, is a general purpose container for other elements.\n",
    "\n",
    "The `div` element is probably the most commonly used HTML element of all.\n",
    "\n",
    "Just like any other non-self-closing element, you can open a `div` element with `<div>` and close it on another line with `</div>`.\n",
    "\n",
    "---\n",
    "Nest your \"Things cats love\" and \"Things cats hate\" lists all within a single `div` element.\n",
    "\n",
    "Hint: Try putting your opening `div` tag above your \"Things cats love\" `p` element and your closing `div` tag after your closing `ol` tag so that both of your lists are within one `div`."
   ]
  },
  {
   "cell_type": "code",
   "execution_count": 27,
   "metadata": {
    "hidden": true
   },
   "outputs": [
    {
     "data": {
      "text/html": [
       "<h2>CatPhotoApp</h2>\n",
       "<main>\n",
       "  <p>Click here to view more <a href=\"#\">cat photos</a>.</p>\n",
       "\n",
       "  <a href=\"#\"><img src=\"https://bit.ly/fcc-relaxing-cat\" alt=\"A cute orange cat lying on its back.\"></a>\n",
       "  <div>\n",
       "    <p>Things cats love:</p>\n",
       "    <ul>\n",
       "      <li>cat nip</li>\n",
       "      <li>laser pointers</li>\n",
       "      <li>lasagna</li>\n",
       "    </ul>\n",
       "    <p>Top 3 things cats hate:</p>\n",
       "    <ol>\n",
       "      <li>flea treatment</li>\n",
       "      <li>thunder</li>\n",
       "      <li>other cats</li>\n",
       "    </ol>\n",
       "  </div>\n",
       "  \n",
       "  <form action=\"/submit-cat-photo\">\n",
       "    <label for=\"indoor\"><input id=\"indoor\" type=\"radio\" name=\"indoor-outdoor\" value=\"indoor\" checked> Indoor</label>\n",
       "    <label for=\"outdoor\"><input id=\"outdoor\" type=\"radio\" name=\"indoor-outdoor\" value=\"outdoor\"> Outdoor</label><br>\n",
       "    <label for=\"loving\"><input id=\"loving\" type=\"checkbox\" name=\"personality\" value=\"loving\" checked> Loving</label>\n",
       "    <label for=\"lazy\"><input id=\"lazy\" type=\"checkbox\" name=\"personality\" value=\"lazy\"> Lazy</label>\n",
       "    <label for=\"energetic\"><input id=\"energetic\" type=\"checkbox\" name=\"personality\" value=\"energetic\"> Energetic</label><br>\n",
       "    <input type=\"text\" placeholder=\"cat photo URL\" required>\n",
       "    <button type=\"submit\">Submit</button>\n",
       "  </form>\n",
       "</main>\n"
      ],
      "text/plain": [
       "<IPython.core.display.HTML object>"
      ]
     },
     "metadata": {},
     "output_type": "display_data"
    }
   ],
   "source": [
    "%%HTML\n",
    "<h2>CatPhotoApp</h2>\n",
    "<main>\n",
    "  <p>Click here to view more <a href=\"#\">cat photos</a>.</p>\n",
    "\n",
    "  <a href=\"#\"><img src=\"https://bit.ly/fcc-relaxing-cat\" alt=\"A cute orange cat lying on its back.\"></a>\n",
    "  <div>\n",
    "    <p>Things cats love:</p>\n",
    "    <ul>\n",
    "      <li>cat nip</li>\n",
    "      <li>laser pointers</li>\n",
    "      <li>lasagna</li>\n",
    "    </ul>\n",
    "    <p>Top 3 things cats hate:</p>\n",
    "    <ol>\n",
    "      <li>flea treatment</li>\n",
    "      <li>thunder</li>\n",
    "      <li>other cats</li>\n",
    "    </ol>\n",
    "  </div>\n",
    "  \n",
    "  <form action=\"/submit-cat-photo\">\n",
    "    <label for=\"indoor\"><input id=\"indoor\" type=\"radio\" name=\"indoor-outdoor\" value=\"indoor\" checked> Indoor</label>\n",
    "    <label for=\"outdoor\"><input id=\"outdoor\" type=\"radio\" name=\"indoor-outdoor\" value=\"outdoor\"> Outdoor</label><br>\n",
    "    <label for=\"loving\"><input id=\"loving\" type=\"checkbox\" name=\"personality\" value=\"loving\" checked> Loving</label>\n",
    "    <label for=\"lazy\"><input id=\"lazy\" type=\"checkbox\" name=\"personality\" value=\"lazy\"> Lazy</label>\n",
    "    <label for=\"energetic\"><input id=\"energetic\" type=\"checkbox\" name=\"personality\" value=\"energetic\"> Energetic</label><br>\n",
    "    <input type=\"text\" placeholder=\"cat photo URL\" required>\n",
    "    <button type=\"submit\">Submit</button>\n",
    "  </form>\n",
    "</main>\n"
   ]
  },
  {
   "cell_type": "markdown",
   "metadata": {
    "heading_collapsed": true
   },
   "source": [
    "### Declare the Doctype of an HTML Document\n"
   ]
  },
  {
   "cell_type": "markdown",
   "metadata": {
    "hidden": true
   },
   "source": [
    "The challenges so far have covered specific HTML elements and their uses. However, there are a few elements that give overall structure to your page, and should be included in every HTML document.\n",
    "\n",
    "At the top of your document, you need to tell the browser which version of HTML your page is using. HTML is an evolving language, and is updated regularly. Most major browsers support the latest specification, which is HTML5. However, older web pages may use previous versions of the language.\n",
    "\n",
    "You tell the browser this information by adding the `<!DOCTYPE ...>` tag on the first line, where the `...` part is the version of HTML. For HTML5, you use `<!DOCTYPE html>`.\n",
    "\n",
    "The `!` and uppercase `DOCTYPE` is important, especially for older browsers. The `html` is not case sensitive.\n",
    "\n",
    "Next, the rest of your HTML code needs to be wrapped in `html` tags. The opening `<html>` goes directly below the `<!DOCTYPE html>` line, and the closing `</html>` goes at the end of the page.\n",
    "\n",
    "Here's an example of the page structure:\n",
    "```HTML\n",
    "<!DOCTYPE html>\n",
    "<html>\n",
    "  <!-- Your HTML code goes here -->\n",
    "</html>\n",
    "```\n",
    "\n",
    "---\n",
    "Add a `DOCTYPE` tag for HTML5 to the top of the blank HTML document in the code editor. Under it, add opening and closing `html` tags, which wrap around an `h1` element. The heading can include any text."
   ]
  },
  {
   "cell_type": "code",
   "execution_count": 29,
   "metadata": {
    "hidden": true
   },
   "outputs": [
    {
     "data": {
      "text/html": [
       "<!DOCTYPE html>\n",
       "<html>\n",
       "  <h1></h1>\n",
       "</html>\n"
      ],
      "text/plain": [
       "<IPython.core.display.HTML object>"
      ]
     },
     "metadata": {},
     "output_type": "display_data"
    }
   ],
   "source": [
    "%%HTML\n",
    "<!DOCTYPE html>\n",
    "<html>\n",
    "  <h1></h1>\n",
    "</html>"
   ]
  },
  {
   "cell_type": "markdown",
   "metadata": {
    "heading_collapsed": true
   },
   "source": [
    "### Define the Head and Body of an HTML Document"
   ]
  },
  {
   "cell_type": "markdown",
   "metadata": {
    "hidden": true
   },
   "source": [
    "You can add another level of organization in your HTML document within the `html` tags with the `head` and `body` elements. Any markup with information about your page would go into the `head` tag. Then any markup with the content of the page (what displays for a user) would go into the `body` tag.\n",
    "\n",
    "Metadata elements, such as `link`, `meta`, `title`, and `style`, typically go inside the head element.\n",
    "\n",
    "Here's an example of a page's layout:\n",
    "```HTML\n",
    "<!DOCTYPE html>\n",
    "<html>\n",
    "  <head>\n",
    "    <!-- metadata elements -->\n",
    "  </head>\n",
    "  <body>\n",
    "    <!-- page contents -->\n",
    "  </body>\n",
    "</html>\n",
    "```\n",
    "\n",
    "---\n",
    "Edit the markup so there's a `head` and a `body`. The `head` element should only include the `title`, and the `body` element should only include the `h1` and `p`."
   ]
  },
  {
   "cell_type": "code",
   "execution_count": 30,
   "metadata": {
    "hidden": true
   },
   "outputs": [
    {
     "data": {
      "text/html": [
       "<!DOCTYPE html>\n",
       "<html>\n",
       "  <head>\n",
       "    <title>The best page ever</title>\n",
       "  </head>\n",
       "  <body>\n",
       "    <h1>The best page ever</h1>\n",
       "    <p>Cat ipsum dolor sit amet, jump launch to pounce upon little yarn mouse, bare fangs at toy run hide in litter box until treats are fed. Go into a room to decide you didn't want to be in there anyway. I like big cats and i can not lie kitty ipsum dolor sit amet, shed everywhere shed everywhere stretching attack your ankles chase the red dot, hairball run catnip eat the grass sniff. Meow i could pee on this if i had the energy for slap owner's face at 5am until human fills food dish yet scamper. Knock dish off table head butt cant eat out of my own dish scratch the furniture. Make meme, make cute face. Sleep in the bathroom sink chase laser but pee in the shoe. Paw at your fat belly licks your face and eat grass, throw it back up kitty ipsum dolor sit amet, shed everywhere shed everywhere stretching attack your ankles chase the red dot, hairball run catnip eat the grass sniff.</p>\n",
       "  </body>\n",
       "</html>\n"
      ],
      "text/plain": [
       "<IPython.core.display.HTML object>"
      ]
     },
     "metadata": {},
     "output_type": "display_data"
    }
   ],
   "source": [
    "%%HTML\n",
    "<!DOCTYPE html>\n",
    "<html>\n",
    "  <head>\n",
    "    <title>The best page ever</title>\n",
    "  </head>\n",
    "  <body>\n",
    "    <h1>The best page ever</h1>\n",
    "    <p>Cat ipsum dolor sit amet, jump launch to pounce upon little yarn mouse, bare fangs at toy run hide in litter box until treats are fed. Go into a room to decide you didn't want to be in there anyway. I like big cats and i can not lie kitty ipsum dolor sit amet, shed everywhere shed everywhere stretching attack your ankles chase the red dot, hairball run catnip eat the grass sniff. Meow i could pee on this if i had the energy for slap owner's face at 5am until human fills food dish yet scamper. Knock dish off table head butt cant eat out of my own dish scratch the furniture. Make meme, make cute face. Sleep in the bathroom sink chase laser but pee in the shoe. Paw at your fat belly licks your face and eat grass, throw it back up kitty ipsum dolor sit amet, shed everywhere shed everywhere stretching attack your ankles chase the red dot, hairball run catnip eat the grass sniff.</p>\n",
    "  </body>\n",
    "</html>\n"
   ]
  },
  {
   "cell_type": "code",
   "execution_count": null,
   "metadata": {
    "hidden": true
   },
   "outputs": [],
   "source": []
  }
 ],
 "metadata": {
  "kernelspec": {
   "display_name": "Python 3",
   "language": "python",
   "name": "python3"
  },
  "language_info": {
   "codemirror_mode": {
    "name": "ipython",
    "version": 3
   },
   "file_extension": ".py",
   "mimetype": "text/x-python",
   "name": "python",
   "nbconvert_exporter": "python",
   "pygments_lexer": "ipython3",
   "version": "3.7.1"
  },
  "toc": {
   "base_numbering": 1,
   "nav_menu": {},
   "number_sections": true,
   "sideBar": true,
   "skip_h1_title": false,
   "title_cell": "Table of Contents",
   "title_sidebar": "Contents",
   "toc_cell": false,
   "toc_position": {
    "height": "752px",
    "left": "28px",
    "top": "54px",
    "width": "248.594px"
   },
   "toc_section_display": true,
   "toc_window_display": true
  }
 },
 "nbformat": 4,
 "nbformat_minor": 2
}
