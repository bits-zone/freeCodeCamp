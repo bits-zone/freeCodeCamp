{
 "cells": [
  {
   "cell_type": "code",
   "execution_count": 1,
   "metadata": {},
   "outputs": [],
   "source": [
    "from IPython.display import IFrame"
   ]
  },
  {
   "cell_type": "markdown",
   "metadata": {},
   "source": [
    "# Responsive Web Design Certification"
   ]
  },
  {
   "cell_type": "markdown",
   "metadata": {},
   "source": [
    "## Basic HTML and HTML 5"
   ]
  },
  {
   "cell_type": "markdown",
   "metadata": {
    "heading_collapsed": true
   },
   "source": [
    "### Introduction to Basic HTML and HTML5"
   ]
  },
  {
   "cell_type": "markdown",
   "metadata": {
    "hidden": true
   },
   "source": [
    "HTML, or HyperText Markup Language, is a markup language used to describe the structure of a web page. It uses a special syntax or notation to organize and give information about the page to the browser. Elements usually have opening and closing tags that surround and give meaning to content. For example, there are different tag options to place around text to show whether it is a heading, a paragraph, or a list.\n",
    "\n",
    "For example:\n",
    "```HTML\n",
    "<h1>Top level heading: Maybe a page title</h1>\n",
    "\n",
    "<p>A paragraph of text. Some information we would like to communicate to the viewer. This can be as long or short as we would like.</p>\n",
    "\n",
    "<ol>\n",
    "  <li>Number one on the list</li>\n",
    "  <li>Number two</li>\n",
    "  <li>A third item</li>\n",
    "</ol>\n",
    "```\n",
    "Becomes:\n",
    "\n",
    "<p style=\"font-size: 2em\">Top level heading: Maybe a page title</p>\n",
    "<p>A paragraph of text. Some information we would like to communicate to the viewer. This can be as long or short as we would like.</p>    \n",
    "<ol>\n",
    "    <li>Number one on the list</li>\n",
    "    <li>Number two</li>\n",
    "    <li>A third item</li>\n",
    "</ol>\n",
    "    \n",
    "---    \n",
    "The HyperText part of HTML comes from the early days of the web and its original use case. Pages usually contained static documents that contained references to other documents. These references contained hypertext links used by the browser to navigate to the reference document so the user could read the reference document without having to manually search for it.\n",
    "\n",
    "As web pages and web applications grow more complex, the W3 Consortium updates the HTML specification to ensure that a webpage can be shown reliably on any browser. The latest version of HTML is HTML5.\n",
    "\n",
    "This section introduces how to use HTML elements to give structure and meaning to your web content."
   ]
  },
  {
   "cell_type": "markdown",
   "metadata": {
    "heading_collapsed": true
   },
   "source": [
    "### Say Hello to HTML Elements"
   ]
  },
  {
   "cell_type": "markdown",
   "metadata": {
    "hidden": true
   },
   "source": [
    "Welcome to freeCodeCamp's HTML coding challenges. These will walk you through web development step-by-step.\n",
    "\n",
    "First, you'll start by building a simple web page using HTML. You can edit code in your code editor, which is embedded into this web page.\n",
    "\n",
    "Do you see the code in your code editor that says `<h1>Hello</h1>`? That's an HTML element.\n",
    "\n",
    "Most HTML elements have an opening tag and a closing tag.\n",
    "\n",
    "Opening tags look like this:\n",
    "\n",
    "`<h1>`\n",
    "\n",
    "Closing tags look like this:\n",
    "\n",
    "`</h1>`\n",
    "\n",
    "The only difference between opening and closing tags is the forward slash after the opening bracket of a closing tag.\n",
    "\n",
    "Each challenge has tests you can run at any time by clicking the \"Run tests\" button. When you pass all tests, you'll be prompted to submit your solution and go to the next coding challenge.\n",
    "\n",
    "---\n",
    "To pass the test on this challenge, change your `h1` element's text to say \"Hello World\"."
   ]
  },
  {
   "cell_type": "markdown",
   "metadata": {
    "hidden": true
   },
   "source": [
    "```HTML\n",
    "<h1>Hello World</h1>\n",
    "```"
   ]
  },
  {
   "cell_type": "code",
   "execution_count": 139,
   "metadata": {},
   "outputs": [
    {
     "data": {
      "text/html": [
       "\n",
       "        <iframe\n",
       "            width=\"100%\"\n",
       "            height=\"500\"\n",
       "            src=\"./source-solution/01-basic-html-and-html5/000-say-hello-to-html-elements.html\"\n",
       "            frameborder=\"0\"\n",
       "            allowfullscreen\n",
       "        ></iframe>\n",
       "        "
      ],
      "text/plain": [
       "<IPython.lib.display.IFrame at 0x17a82673128>"
      ]
     },
     "execution_count": 139,
     "metadata": {},
     "output_type": "execute_result"
    }
   ],
   "source": [
    "IFrame('./source-solution/01-basic-html-and-html5/000-say-hello-to-html-elements.html', '100%', 500)"
   ]
  },
  {
   "cell_type": "markdown",
   "metadata": {
    "heading_collapsed": true
   },
   "source": [
    "### Headline with the h2 Element"
   ]
  },
  {
   "cell_type": "markdown",
   "metadata": {
    "hidden": true
   },
   "source": [
    "Over the next few lessons, we'll build an HTML5 cat photo web app piece-by-piece.\n",
    "\n",
    "The `h2` element you will be adding in this step will add a level two heading to the web page.\n",
    "\n",
    "This element tells the browser about the structure of your website. h1 elements are often used for main headings, while `h2` elements are generally used for subheadings. There are also `h3`, `h4`, `h5` and `h6` elements to indicate different levels of subheadings.\n",
    "\n",
    "---\n",
    "Add an `h2` tag that says \"CatPhotoApp\" to create a second HTML element below your \"Hello World\" `h1` element."
   ]
  },
  {
   "cell_type": "markdown",
   "metadata": {
    "collapsed": true,
    "hidden": true
   },
   "source": [
    "```HTML\n",
    "<h1>Hello World</h1>\n",
    "<h2>CatPhotoApp</h2>\n",
    "```"
   ]
  },
  {
   "cell_type": "code",
   "execution_count": 140,
   "metadata": {},
   "outputs": [
    {
     "data": {
      "text/html": [
       "\n",
       "        <iframe\n",
       "            width=\"100%\"\n",
       "            height=\"500\"\n",
       "            src=\"./source-solution/01-basic-html-and-html5/001-headline-with-the-h2-element.html\"\n",
       "            frameborder=\"0\"\n",
       "            allowfullscreen\n",
       "        ></iframe>\n",
       "        "
      ],
      "text/plain": [
       "<IPython.lib.display.IFrame at 0x17a826730f0>"
      ]
     },
     "execution_count": 140,
     "metadata": {},
     "output_type": "execute_result"
    }
   ],
   "source": [
    "IFrame('./source-solution/01-basic-html-and-html5/001-headline-with-the-h2-element.html', '100%', 500)"
   ]
  },
  {
   "cell_type": "markdown",
   "metadata": {
    "heading_collapsed": true
   },
   "source": [
    "### Inform with the Paragraph Element\n"
   ]
  },
  {
   "cell_type": "markdown",
   "metadata": {
    "hidden": true
   },
   "source": [
    "`p` elements are the preferred element for paragraph text on websites. `p` is short for \"paragraph\".\n",
    "\n",
    "You can create a paragraph element like this:\n",
    "\n",
    "`<p>I'm a p tag!</p>`\n",
    "\n",
    "---\n",
    "Create a p element below your h2 element, and give it the text \"Hello Paragraph\".\n",
    "\n",
    "Note: As a convention, all HTML tags are written in lowercase, for example `<p></p>` and not `<P></P>`."
   ]
  },
  {
   "cell_type": "markdown",
   "metadata": {
    "collapsed": true,
    "hidden": true
   },
   "source": [
    "```HTML\n",
    "<h1>Hello World</h1>\n",
    "<h2>CatPhotoApp</h2>\n",
    "<p>Hello Paragraph</p>\n",
    "```"
   ]
  },
  {
   "cell_type": "code",
   "execution_count": 141,
   "metadata": {},
   "outputs": [
    {
     "data": {
      "text/html": [
       "\n",
       "        <iframe\n",
       "            width=\"100%\"\n",
       "            height=\"500\"\n",
       "            src=\"./source-solution/01-basic-html-and-html5/002-inform-with-the-paragraph-element.html\"\n",
       "            frameborder=\"0\"\n",
       "            allowfullscreen\n",
       "        ></iframe>\n",
       "        "
      ],
      "text/plain": [
       "<IPython.lib.display.IFrame at 0x17a8254d278>"
      ]
     },
     "execution_count": 141,
     "metadata": {},
     "output_type": "execute_result"
    }
   ],
   "source": [
    "IFrame('./source-solution/01-basic-html-and-html5/002-inform-with-the-paragraph-element.html', '100%', 500)"
   ]
  },
  {
   "cell_type": "markdown",
   "metadata": {
    "heading_collapsed": true
   },
   "source": [
    "### Fill in the Blank with Placeholder Text\n"
   ]
  },
  {
   "cell_type": "markdown",
   "metadata": {
    "hidden": true
   },
   "source": [
    "Web developers traditionally use lorem ipsum text as placeholder text. The lorem ipsum text is randomly scraped from a famous passage by Cicero of Ancient Rome.\n",
    "\n",
    "Lorem ipsum text has been used as placeholder text by typesetters since the 16th century, and this tradition continues on the web.\n",
    "\n",
    "Well, 5 centuries is long enough. Since we're building a CatPhotoApp, let's use something called \"kitty ipsum text\".\n",
    "\n",
    "---\n",
    "Replace the text inside your p element with the first few words of this `kitty ipsum text: Kitty ipsum dolor sit amet, shed everywhere shed everywhere stretching attack your ankles chase the red dot, hairball run catnip eat the grass sniff.`"
   ]
  },
  {
   "cell_type": "markdown",
   "metadata": {
    "collapsed": true,
    "hidden": true
   },
   "source": [
    "```HTML\n",
    "<h1>Hello World</h1>\n",
    "\n",
    "<h2>CatPhotoApp</h2>\n",
    "\n",
    "<p>Kitty ipsum dolor sit amet, shed everywhere shed everywhere stretching attack your ankles chase the red dot, hairball run catnip eat the grass sniff.</p>\n",
    "```"
   ]
  },
  {
   "cell_type": "code",
   "execution_count": 142,
   "metadata": {},
   "outputs": [
    {
     "data": {
      "text/html": [
       "\n",
       "        <iframe\n",
       "            width=\"100%\"\n",
       "            height=\"500\"\n",
       "            src=\"./source-solution/01-basic-html-and-html5/003-fill-in-the-blank-with-placeholder-text.html\"\n",
       "            frameborder=\"0\"\n",
       "            allowfullscreen\n",
       "        ></iframe>\n",
       "        "
      ],
      "text/plain": [
       "<IPython.lib.display.IFrame at 0x17a8254d630>"
      ]
     },
     "execution_count": 142,
     "metadata": {},
     "output_type": "execute_result"
    }
   ],
   "source": [
    "IFrame('./source-solution/01-basic-html-and-html5/003-fill-in-the-blank-with-placeholder-text.html', '100%', 500)"
   ]
  },
  {
   "cell_type": "markdown",
   "metadata": {
    "heading_collapsed": true
   },
   "source": [
    "### Uncomment HTML"
   ]
  },
  {
   "cell_type": "markdown",
   "metadata": {
    "hidden": true
   },
   "source": [
    "Commenting is a way that you can leave comments for other developers within your code without affecting the resulting output that is displayed to the end user.\n",
    "\n",
    "Commenting is also a convenient way to make code inactive without having to delete it entirely.\n",
    "\n",
    "Comments in HTML start with `<!--` and end with a `-->`\n",
    "\n",
    "---\n",
    "Uncomment your `h1`, `h2` and `p` elements."
   ]
  },
  {
   "cell_type": "markdown",
   "metadata": {
    "collapsed": true,
    "hidden": true
   },
   "source": [
    "```HTML\n",
    "<h1>Hello World</h1>\n",
    "\n",
    "<h2>CatPhotoApp</h2>\n",
    "\n",
    "<p>Kitty ipsum dolor sit amet, shed everywhere shed everywhere stretching attack your ankles chase the red dot, hairball run catnip eat the grass sniff.</p>\n",
    "```"
   ]
  },
  {
   "cell_type": "code",
   "execution_count": 143,
   "metadata": {},
   "outputs": [
    {
     "data": {
      "text/html": [
       "\n",
       "        <iframe\n",
       "            width=\"100%\"\n",
       "            height=\"500\"\n",
       "            src=\"./source-solution/01-basic-html-and-html5/004-uncomment-html.html\"\n",
       "            frameborder=\"0\"\n",
       "            allowfullscreen\n",
       "        ></iframe>\n",
       "        "
      ],
      "text/plain": [
       "<IPython.lib.display.IFrame at 0x17a8254d9e8>"
      ]
     },
     "execution_count": 143,
     "metadata": {},
     "output_type": "execute_result"
    }
   ],
   "source": [
    "IFrame('./source-solution/01-basic-html-and-html5/004-uncomment-html.html', '100%', 500)"
   ]
  },
  {
   "cell_type": "markdown",
   "metadata": {
    "heading_collapsed": true
   },
   "source": [
    "### Comment out HTML"
   ]
  },
  {
   "cell_type": "markdown",
   "metadata": {
    "hidden": true
   },
   "source": [
    "Remember that in order to start a comment, you need to use `<!--` and to end a comment, you need to use `-->`\n",
    "\n",
    "Here you'll need to end the comment before your `h2` element begins.\n",
    "\n",
    "---\n",
    "Comment out your `h1` element and your `p` element, but not your `h2` element."
   ]
  },
  {
   "cell_type": "markdown",
   "metadata": {
    "collapsed": true,
    "hidden": true
   },
   "source": [
    "```HTML\n",
    "<!-- <h1>Hello World</h1> -->\n",
    "\n",
    "<h2>CatPhotoApp</h2>\n",
    "\n",
    "<!-- <p>Kitty ipsum dolor sit amet, shed everywhere shed everywhere stretching attack your ankles chase the red dot, hairball run catnip eat the grass sniff.</p> -->\n",
    "```"
   ]
  },
  {
   "cell_type": "code",
   "execution_count": 144,
   "metadata": {},
   "outputs": [
    {
     "data": {
      "text/html": [
       "\n",
       "        <iframe\n",
       "            width=\"100%\"\n",
       "            height=\"500\"\n",
       "            src=\"./source-solution/01-basic-html-and-html5/005-comment-out-html.html\"\n",
       "            frameborder=\"0\"\n",
       "            allowfullscreen\n",
       "        ></iframe>\n",
       "        "
      ],
      "text/plain": [
       "<IPython.lib.display.IFrame at 0x17a8254da20>"
      ]
     },
     "execution_count": 144,
     "metadata": {},
     "output_type": "execute_result"
    }
   ],
   "source": [
    "IFrame('./source-solution/01-basic-html-and-html5/005-comment-out-html.html', '100%', 500)"
   ]
  },
  {
   "cell_type": "markdown",
   "metadata": {
    "heading_collapsed": true
   },
   "source": [
    "### Delete HTML Elements"
   ]
  },
  {
   "cell_type": "markdown",
   "metadata": {
    "hidden": true
   },
   "source": [
    "Our phone doesn't have much vertical space.\n",
    "\n",
    "Let's remove the unnecessary elements so we can start building our CatPhotoApp.\n",
    "\n",
    "---\n",
    "Delete your h1 element so we can simplify our view."
   ]
  },
  {
   "cell_type": "markdown",
   "metadata": {
    "collapsed": true,
    "hidden": true
   },
   "source": [
    "```HTML\n",
    "<h2>CatPhotoApp</h2>\n",
    "\n",
    "<p>Kitty ipsum dolor sit amet, shed everywhere shed everywhere stretching attack your ankles chase the red dot, hairball run catnip eat the grass sniff.</p>\n",
    "```"
   ]
  },
  {
   "cell_type": "code",
   "execution_count": 145,
   "metadata": {},
   "outputs": [
    {
     "data": {
      "text/html": [
       "\n",
       "        <iframe\n",
       "            width=\"100%\"\n",
       "            height=\"500\"\n",
       "            src=\"./source-solution/01-basic-html-and-html5/006-delete-html-elements.html\"\n",
       "            frameborder=\"0\"\n",
       "            allowfullscreen\n",
       "        ></iframe>\n",
       "        "
      ],
      "text/plain": [
       "<IPython.lib.display.IFrame at 0x17a825de4a8>"
      ]
     },
     "execution_count": 145,
     "metadata": {},
     "output_type": "execute_result"
    }
   ],
   "source": [
    "IFrame('./source-solution/01-basic-html-and-html5/006-delete-html-elements.html', '100%', 500)"
   ]
  },
  {
   "cell_type": "markdown",
   "metadata": {
    "heading_collapsed": true
   },
   "source": [
    "### Introduction to HTML5 Elements\n"
   ]
  },
  {
   "cell_type": "markdown",
   "metadata": {
    "hidden": true
   },
   "source": [
    "HTML5 introduces more descriptive HTML tags. These include `main`, `header`, `footer`, `nav`, `video`, `article`, `section` and others.\n",
    "\n",
    "These tags give a descriptive structure to your HTML, make your HTML easier to read, and help with Search Engine Optimization (SEO) and accessibility. The `main` HTML5 tag helps search engines and other developers find the main content of your page.\n",
    "\n",
    "Example usage, a `main` element with two child elements nested inside it:\n",
    "```\n",
    "<main> \n",
    "  <h1>Hello World</h1>\n",
    "  <p>Hello Paragraph</p>\n",
    "</main>\n",
    "```\n",
    "Note: Many of the new HTML5 tags and their benefits are covered in the Applied Accessibility section.\n",
    "\n",
    "---\n",
    "Create a second p element after the existing `p` element with the following kitty ipsum text: `Purr jump eat the grass rip the couch scratched sunbathe, shed everywhere rip the couch sleep in the sink fluffy fur catnip scratched.`\n",
    "\n",
    "Then, create a main element and nest the two `p` elements inside the `main` element."
   ]
  },
  {
   "cell_type": "markdown",
   "metadata": {
    "collapsed": true,
    "hidden": true
   },
   "source": [
    "```HTML\n",
    "<h2>CatPhotoApp</h2>\n",
    "\n",
    "<main>\n",
    "    <p>Kitty ipsum dolor sit amet, shed everywhere shed everywhere stretching attack your ankles chase the red dot, hairball run catnip eat the grass sniff.</p>\n",
    "\n",
    "    <p>Purr jump eat the grass rip the couch scratched sunbathe, shed everywhere rip the couch sleep in the sink fluffy fur catnip scratched.</p>\n",
    "</main>\n",
    "```"
   ]
  },
  {
   "cell_type": "code",
   "execution_count": 146,
   "metadata": {},
   "outputs": [
    {
     "data": {
      "text/html": [
       "\n",
       "        <iframe\n",
       "            width=\"100%\"\n",
       "            height=\"500\"\n",
       "            src=\"./source-solution/01-basic-html-and-html5/007-introduction-to-html5-elements.html\"\n",
       "            frameborder=\"0\"\n",
       "            allowfullscreen\n",
       "        ></iframe>\n",
       "        "
      ],
      "text/plain": [
       "<IPython.lib.display.IFrame at 0x17a82544518>"
      ]
     },
     "execution_count": 146,
     "metadata": {},
     "output_type": "execute_result"
    }
   ],
   "source": [
    "IFrame('./source-solution/01-basic-html-and-html5/007-introduction-to-html5-elements.html', '100%', 500)"
   ]
  },
  {
   "cell_type": "markdown",
   "metadata": {
    "heading_collapsed": true
   },
   "source": [
    "\n",
    "### Add Images to Your Website\n"
   ]
  },
  {
   "cell_type": "markdown",
   "metadata": {
    "hidden": true
   },
   "source": [
    "You can add images to your website by using the `img` element, and point to a specific image's URL using the `src` attribute.\n",
    "\n",
    "An example of this would be:\n",
    "\n",
    "`<img src=\"https://www.your-image-source.com/your-image.jpg\">`\n",
    "\n",
    "Note that `img` elements are self-closing.\n",
    "\n",
    "All `img` elements must have an `alt` attribute. The text inside an `alt` attribute is used for screen readers to improve accessibility and is displayed if the image fails to load.\n",
    "\n",
    "Note: If the image is purely decorative, using an empty `alt` attribute is a best practice.\n",
    "\n",
    "Ideally the `alt` attribute should not contain special characters unless needed.\n",
    "\n",
    "Let's add an `alt` attribute to our `img` example above:\n",
    "\n",
    "`<img src=\"https://www.your-image-source.com/your-image.jpg\" alt=\"Author standing on a beach with two thumbs up.\">`\n",
    "\n",
    "---\n",
    "Let's try to add an image to our website:\n",
    "\n",
    "Within the existing main element, insert an `img` element before the existing `p` elements.\n",
    "\n",
    "Now set the `src` attribute so that it points to this url:\n",
    "\n",
    "`https://bit.ly/fcc-relaxing-cat`\n",
    "\n",
    "Finally, don't forget to give your `img` element an `alt` attribute with applicable text."
   ]
  },
  {
   "cell_type": "markdown",
   "metadata": {
    "collapsed": true,
    "hidden": true
   },
   "source": [
    "```HTML\n",
    "<h2>CatPhotoApp</h2>\n",
    "<main>\n",
    "<img src=\"https://bit.ly/fcc-relaxing-cat\" alt=\"cute cat\">\n",
    "\n",
    "  <p>Kitty ipsum dolor sit amet, shed everywhere shed everywhere stretching attack your ankles chase the red dot, hairball run catnip eat the grass sniff.</p>\n",
    "  <p>Purr jump eat the grass rip the couch scratched sunbathe, shed everywhere rip the couch sleep in the sink fluffy fur catnip scratched.</p>\n",
    "</main>\n",
    "```"
   ]
  },
  {
   "cell_type": "code",
   "execution_count": 147,
   "metadata": {},
   "outputs": [
    {
     "data": {
      "text/html": [
       "\n",
       "        <iframe\n",
       "            width=\"100%\"\n",
       "            height=\"500\"\n",
       "            src=\"./source-solution/01-basic-html-and-html5/008-add-images-to-your-website.html\"\n",
       "            frameborder=\"0\"\n",
       "            allowfullscreen\n",
       "        ></iframe>\n",
       "        "
      ],
      "text/plain": [
       "<IPython.lib.display.IFrame at 0x17a825444a8>"
      ]
     },
     "execution_count": 147,
     "metadata": {},
     "output_type": "execute_result"
    }
   ],
   "source": [
    "IFrame('./source-solution/01-basic-html-and-html5/008-add-images-to-your-website.html', '100%', 500)"
   ]
  },
  {
   "cell_type": "markdown",
   "metadata": {
    "heading_collapsed": true
   },
   "source": [
    "### Link to External Pages with Anchor Elements"
   ]
  },
  {
   "cell_type": "markdown",
   "metadata": {
    "hidden": true
   },
   "source": [
    "You can use `a` (_anchor_) elements to link to content outside of your web page.\n",
    "\n",
    "`a` elements need a destination web address called an `href` attribute. They also need anchor text. Here's an example:\n",
    "\n",
    "`<a href=\"https://freecodecamp.org\">this links to freecodecamp.org</a>`\n",
    "\n",
    "Then your browser will display the text \"**this links to freecodecamp.org**\" as a link you can click. And that link will take you to the web address **https://www.freecodecamp.org**.\n",
    "\n",
    "---\n",
    "Create an `a` element that links to `http://freecatphotoapp.com` and has \"cat photos\" as its anchor text."
   ]
  },
  {
   "cell_type": "markdown",
   "metadata": {
    "collapsed": true,
    "hidden": true
   },
   "source": [
    "```HTML\n",
    "<h2>CatPhotoApp</h2>\n",
    "<main>\n",
    "\n",
    "  <a href=\"http://freecatphotoapp.com\">cat photos</a>\n",
    "\n",
    "  <img src=\"https://bit.ly/fcc-relaxing-cat\" alt=\"A cute orange cat lying on its back.\">\n",
    "\n",
    "  <p>Kitty ipsum dolor sit amet, shed everywhere shed everywhere stretching attack your ankles chase the red dot, hairball run catnip eat the grass sniff.</p>\n",
    "  <p>Purr jump eat the grass rip the couch scratched sunbathe, shed everywhere rip the couch sleep in the sink fluffy fur catnip scratched.</p>\n",
    "</main>\n",
    "```"
   ]
  },
  {
   "cell_type": "code",
   "execution_count": 148,
   "metadata": {},
   "outputs": [
    {
     "data": {
      "text/html": [
       "\n",
       "        <iframe\n",
       "            width=\"100%\"\n",
       "            height=\"500\"\n",
       "            src=\"./source-solution/01-basic-html-and-html5/009-link-to-external-pages-with-anchor-elements.html\"\n",
       "            frameborder=\"0\"\n",
       "            allowfullscreen\n",
       "        ></iframe>\n",
       "        "
      ],
      "text/plain": [
       "<IPython.lib.display.IFrame at 0x17a825442b0>"
      ]
     },
     "execution_count": 148,
     "metadata": {},
     "output_type": "execute_result"
    }
   ],
   "source": [
    "IFrame('./source-solution/01-basic-html-and-html5/009-link-to-external-pages-with-anchor-elements.html', '100%', 500)"
   ]
  },
  {
   "cell_type": "markdown",
   "metadata": {
    "heading_collapsed": true
   },
   "source": [
    "### Link to Internal Sections of a Page with Anchor Elements"
   ]
  },
  {
   "cell_type": "markdown",
   "metadata": {
    "hidden": true
   },
   "source": [
    "`a` (_anchor_) elements can also be used to create internal links to jump to different sections within a webpage.\n",
    "\n",
    "To create an internal link, you assign a link's `href` attribute to a hash symbol `#` plus the value of the `id` attribute for the element that you want to internally link to, usually further down the page. You then need to add the same `id` attribute to the element you are linking to. An `id` is an attribute that uniquely describes an element.\n",
    "\n",
    "Below is an example of an internal anchor link and its target element:\n",
    "```HTML\n",
    "<a href=\"#contacts-header\">Contacts</a>\n",
    "...\n",
    "<h2 id=\"contacts-header\">Contacts</h2>\n",
    "```\n",
    "When users click the Contacts link, they'll be taken to the section of the webpage with the Contacts header element.\n",
    "\n",
    "---\n",
    "Change your external link to an internal link by changing the `href` attribute to \"#footer\" and the text from \"cat photos\" to \"Jump to Bottom\".\n",
    "\n",
    "Remove the `target=\"_blank\"` attribute from the anchor tag since this causes the linked document to open in a new window tab.\n",
    "\n",
    "Then add an `id` attribute with a value of \"footer\" to the `<footer>` element at the bottom of the page."
   ]
  },
  {
   "cell_type": "markdown",
   "metadata": {
    "collapsed": true,
    "hidden": true
   },
   "source": [
    "```HTML\n",
    "<h2>CatPhotoApp</h2>\n",
    "<main>\n",
    "\n",
    "  <a href=\"#footer\">Jump to Bottom</a>\n",
    "\n",
    "  <img src=\"https://bit.ly/fcc-relaxing-cat\" alt=\"A cute orange cat lying on its back.\">\n",
    "\n",
    "  <p>Kitty ipsum dolor sit amet, shed everywhere shed everywhere stretching attack your ankles chase the red dot, hairball run catnip eat the grass sniff. Purr jump eat the grass rip the couch scratched sunbathe, shed everywhere rip the couch sleep in the sink fluffy fur catnip scratched. Kitty ipsum dolor sit amet, shed everywhere shed everywhere stretching attack your ankles chase the red dot, hairball run catnip eat the grass sniff.</p>\n",
    "  <p>Purr jump eat the grass rip the couch scratched sunbathe, shed everywhere rip the couch sleep in the sink fluffy fur catnip scratched. Kitty ipsum dolor sit amet, shed everywhere shed everywhere stretching attack your ankles chase the red dot, hairball run catnip eat the grass sniff. Purr jump eat the grass rip the couch scratched sunbathe, shed everywhere rip the couch sleep in the sink fluffy fur catnip scratched.</p>\n",
    "  <p>Meowwww loved it, hated it, loved it, hated it yet spill litter box, scratch at owner, destroy all furniture, especially couch or lay on arms while you're using the keyboard. Missing until dinner time toy mouse squeak roll over. With tail in the air lounge in doorway. Man running from cops stops to pet cats, goes to jail.</p>\n",
    "  <p>Intently stare at the same spot poop in the plant pot but kitten is playing with dead mouse. Get video posted to internet for chasing red dot leave fur on owners clothes meow to be let out and mesmerizing birds leave fur on owners clothes or favor packaging over toy so purr for no reason. Meow to be let out play time intently sniff hand run outside as soon as door open yet destroy couch.</p>\n",
    "\n",
    "</main>\n",
    "\n",
    "<footer id=\"footer\">Copyright Cat Photo App</footer>\n",
    "```"
   ]
  },
  {
   "cell_type": "code",
   "execution_count": 149,
   "metadata": {},
   "outputs": [
    {
     "data": {
      "text/html": [
       "\n",
       "        <iframe\n",
       "            width=\"100%\"\n",
       "            height=\"500\"\n",
       "            src=\"./source-solution/01-basic-html-and-html5/010-link-to-internal-sections-of-a-page-with-anchor-elements.html\"\n",
       "            frameborder=\"0\"\n",
       "            allowfullscreen\n",
       "        ></iframe>\n",
       "        "
      ],
      "text/plain": [
       "<IPython.lib.display.IFrame at 0x17a82544438>"
      ]
     },
     "execution_count": 149,
     "metadata": {},
     "output_type": "execute_result"
    }
   ],
   "source": [
    "IFrame('./source-solution/01-basic-html-and-html5/010-link-to-internal-sections-of-a-page-with-anchor-elements.html', '100%', 500)"
   ]
  },
  {
   "cell_type": "markdown",
   "metadata": {
    "heading_collapsed": true
   },
   "source": [
    "### Nest an Anchor Element within a Paragraph\n"
   ]
  },
  {
   "cell_type": "markdown",
   "metadata": {
    "hidden": true
   },
   "source": [
    "You can nest links within other text elements.\n",
    "```HTML\n",
    "<p> \n",
    "    Here's a <a target=\"_blank\" href=\"http://freecodecamp.org\"> link to freecodecamp.org</a> for you to follow.\n",
    "</p>\n",
    "```\n",
    "Let's break down the example: Normal text is wrapped in the `p` element:\n",
    "`<p> Here's a ... for you to follow. </p>` Next is the anchor element `<a>` (which requires a closing tag `</a>`):\n",
    "`<a> ... </a>` target is an anchor tag attribute that specifies where to open the link and the value `\"_blank\"` specifies to open the link in a new tab `href` is an anchor tag attribute that contains the URL address of the link:\n",
    "`<a href=\"http://freecodecamp.org\"> ... </a>` The text, **\"link to freecodecamp.org\"**, within the `a` element called `anchor text`, will display a link to click:\n",
    "`<a href=\" ... \">link to freecodecamp.org</a>` The final output of the example will look like this:\n",
    "\n",
    "Here's a [link to freecodecamp.org](http://freecodecamp.org) for you to follow.\n",
    "\n",
    "---\n",
    "Now nest the existing `a` element within a new `p` element (just after the existing main element). The new paragraph should have text that says \"View more cat photos\", where \"cat photos\" is a link, and the rest of the text is plain text."
   ]
  },
  {
   "cell_type": "markdown",
   "metadata": {
    "collapsed": true,
    "hidden": true
   },
   "source": [
    "```HTML\n",
    "<h2>CatPhotoApp</h2>\n",
    "<main>\n",
    "\n",
    "  <p>View more \n",
    "    <a href=\"http://freecatphotoapp.com\" target=\"_blank\">cat photos</a></p>\n",
    "\n",
    "  <img src=\"https://bit.ly/fcc-relaxing-cat\" alt=\"A cute orange cat lying on its back.\">\n",
    "\n",
    "  <p>Kitty ipsum dolor sit amet, shed everywhere shed everywhere stretching attack your ankles chase the red dot, hairball run catnip eat the grass sniff.</p>\n",
    "  <p>Purr jump eat the grass rip the couch scratched sunbathe, shed everywhere rip the couch sleep in the sink fluffy fur catnip scratched.</p>\n",
    "</main>\n",
    "```"
   ]
  },
  {
   "cell_type": "code",
   "execution_count": 150,
   "metadata": {},
   "outputs": [
    {
     "data": {
      "text/html": [
       "\n",
       "        <iframe\n",
       "            width=\"100%\"\n",
       "            height=\"500\"\n",
       "            src=\"./source-solution/01-basic-html-and-html5/011-nest-an-anchor-element-within-a-paragraph.html\"\n",
       "            frameborder=\"0\"\n",
       "            allowfullscreen\n",
       "        ></iframe>\n",
       "        "
      ],
      "text/plain": [
       "<IPython.lib.display.IFrame at 0x17a82544780>"
      ]
     },
     "execution_count": 150,
     "metadata": {},
     "output_type": "execute_result"
    }
   ],
   "source": [
    "IFrame('./source-solution/01-basic-html-and-html5/011-nest-an-anchor-element-within-a-paragraph.html', '100%', 500)"
   ]
  },
  {
   "cell_type": "markdown",
   "metadata": {
    "heading_collapsed": true
   },
   "source": [
    "### Make Dead Links Using the Hash Symbol\n"
   ]
  },
  {
   "cell_type": "markdown",
   "metadata": {
    "hidden": true
   },
   "source": [
    "Sometimes you want to add `a` elements to your website before you know where they will link.\n",
    "\n",
    "This is also handy when you're changing the behavior of a link using `JavaScript`, which we'll learn about later.\n",
    "\n",
    "---\n",
    "The current value of the `href` attribute is a link that points to \"http://freecatphotoapp.com\". Replace the href attribute value with a `#`, also known as a hash symbol, to create a dead link.\n",
    "\n",
    "For example: `href=\"#\"`"
   ]
  },
  {
   "cell_type": "markdown",
   "metadata": {
    "collapsed": true,
    "hidden": true
   },
   "source": [
    "```HTML\n",
    "<h2>CatPhotoApp</h2>\n",
    "<main>\n",
    "  <p>Click here to view more <a href=\"#\" target=\"_blank\">cat photos</a>.</p>\n",
    "\n",
    "  <img src=\"https://bit.ly/fcc-relaxing-cat\" alt=\"A cute orange cat lying on its back.\">\n",
    "\n",
    "  <p>Kitty ipsum dolor sit amet, shed everywhere shed everywhere stretching attack your ankles chase the red dot, hairball run catnip eat the grass sniff.</p>\n",
    "  <p>Purr jump eat the grass rip the couch scratched sunbathe, shed everywhere rip the couch sleep in the sink fluffy fur catnip scratched.</p>\n",
    "</main>\n",
    "```"
   ]
  },
  {
   "cell_type": "code",
   "execution_count": null,
   "metadata": {},
   "outputs": [],
   "source": [
    "IFrame('./source-solution/01-basic-html-and-html5/012-make-dead-links-using-the-hash-symbol.html', '100%', 500)"
   ]
  },
  {
   "cell_type": "markdown",
   "metadata": {
    "heading_collapsed": true
   },
   "source": [
    "### Turn an Image into a Link"
   ]
  },
  {
   "cell_type": "markdown",
   "metadata": {
    "hidden": true
   },
   "source": [
    "You can make elements into links by nesting them within an `a` element.\n",
    "\n",
    "Nest your image within an `a` element. Here's an example:\n",
    "\n",
    "`<a href=\"#\"><img src=\"https://bit.ly/fcc-running-cats\" alt=\"Three kittens running towards the camera.\"></a>`\n",
    "\n",
    "Remember to use `#` as your `a` element's `href` property in order to turn it into a dead link.\n",
    "\n",
    "---\n",
    "Place the existing image element within an `a` (_anchor_) element.\n",
    "\n",
    "Once you've done this, hover over your image with your cursor. Your cursor's normal pointer should become the link clicking pointer. The photo is now a link."
   ]
  },
  {
   "cell_type": "markdown",
   "metadata": {
    "collapsed": true,
    "hidden": true
   },
   "source": [
    "```HTML\n",
    "<h2>CatPhotoApp</h2>\n",
    "<main>\n",
    "  <p>Click here to view more <a href=\"#\"><img src=\"https://bit.ly/fcc-relaxing-cat\" alt=\"A cute orange cat lying on its back.\"></a>.</p>\n",
    "\n",
    "  <p>Kitty ipsum dolor sit amet, shed everywhere shed everywhere stretching attack your ankles chase the red dot, hairball run catnip eat the grass sniff.</p>\n",
    "  <p>Purr jump eat the grass rip the couch scratched sunbathe, shed everywhere rip the couch sleep in the sink fluffy fur catnip scratched.</p>\n",
    "</main>\n",
    "```"
   ]
  },
  {
   "cell_type": "code",
   "execution_count": null,
   "metadata": {},
   "outputs": [],
   "source": [
    "IFrame('./source-solution/01-basic-html-and-html5/013-turn-an-image-into-a-link.html', '100%', 500)"
   ]
  },
  {
   "cell_type": "markdown",
   "metadata": {
    "heading_collapsed": true
   },
   "source": [
    "### Create a Bulleted Unordered List\n"
   ]
  },
  {
   "cell_type": "markdown",
   "metadata": {
    "hidden": true
   },
   "source": [
    "HTML has a special element for creating unordered lists, or bullet point style lists.\n",
    "\n",
    "Unordered lists start with an opening `<ul>` element, followed by any number of `<li>` elements. Finally, unordered lists close with a `</ul>`\n",
    "\n",
    "For example:\n",
    "```HTML\n",
    "<ul>\n",
    "  <li>milk</li>\n",
    "  <li>cheese</li>\n",
    "</ul>\n",
    "```\n",
    "would create a bullet point style list of \"milk\" and \"cheese\".\n",
    "\n",
    "---\n",
    "Remove the last two `p` elements and create an unordered list of three things that cats love at the bottom of the page."
   ]
  },
  {
   "cell_type": "markdown",
   "metadata": {
    "collapsed": true,
    "hidden": true
   },
   "source": [
    "```HTML\n",
    "<h2>CatPhotoApp</h2>\n",
    "<main>\n",
    "  <p>Click here to view more <a href=\"#\">cat photos</a>.</p>\n",
    "\n",
    "  <a href=\"#\"><img src=\"https://bit.ly/fcc-relaxing-cat\" alt=\"A cute orange cat lying on its back.\"></a>\n",
    "\n",
    "  <ul>\n",
    "    <li>milk</li>\n",
    "    <li>fish</li>\n",
    "    <li>bird</li>\n",
    "  </ul>\n",
    "</main>\n",
    "```"
   ]
  },
  {
   "cell_type": "code",
   "execution_count": 151,
   "metadata": {},
   "outputs": [
    {
     "data": {
      "text/html": [
       "\n",
       "        <iframe\n",
       "            width=\"100%\"\n",
       "            height=\"500\"\n",
       "            src=\"./source-solution/01-basic-html-and-html5/014-create-a-bulleted-unordered-list.html\"\n",
       "            frameborder=\"0\"\n",
       "            allowfullscreen\n",
       "        ></iframe>\n",
       "        "
      ],
      "text/plain": [
       "<IPython.lib.display.IFrame at 0x17a82544240>"
      ]
     },
     "execution_count": 151,
     "metadata": {},
     "output_type": "execute_result"
    }
   ],
   "source": [
    "IFrame('./source-solution/01-basic-html-and-html5/014-create-a-bulleted-unordered-list.html', '100%', 500)"
   ]
  },
  {
   "cell_type": "markdown",
   "metadata": {
    "heading_collapsed": true
   },
   "source": [
    "### Create an Ordered List\n"
   ]
  },
  {
   "cell_type": "markdown",
   "metadata": {
    "hidden": true
   },
   "source": [
    "HTML has another special element for creating ordered lists, or numbered lists.\n",
    "\n",
    "Ordered lists start with an opening `<ol>` element, followed by any number of `<li>` elements. Finally, ordered lists are closed with the `</ol>` tag.\n",
    "\n",
    "For example:\n",
    "```HTML\n",
    "<ol>\n",
    "  <li>Garfield</li>\n",
    "  <li>Sylvester</li>\n",
    "</ol>\n",
    "```\n",
    "would create a numbered list of \"Garfield\" and \"Sylvester\".\n",
    "\n",
    "---\n",
    "Create an ordered list of the top 3 things cats hate the most."
   ]
  },
  {
   "cell_type": "markdown",
   "metadata": {
    "collapsed": true,
    "hidden": true
   },
   "source": [
    "```HTML\n",
    "<h2>CatPhotoApp</h2>\n",
    "<main>\n",
    "  <p>Click here to view more <a href=\"#\">cat photos</a>.</p>\n",
    "\n",
    "  <a href=\"#\"><img src=\"https://bit.ly/fcc-relaxing-cat\" alt=\"A cute orange cat lying on its back.\"></a>\n",
    "\n",
    "  <p>Things cats love:</p>\n",
    "  <ul>\n",
    "    <li>cat nip</li>\n",
    "    <li>laser pointers</li>\n",
    "    <li>lasagna</li>\n",
    "  </ul>\n",
    "  <p>Top 3 things cats hate:</p>\n",
    "  <ol>\n",
    "    <li>dog</li>\n",
    "    <li>shower</li>\n",
    "    <li>noise</li>\n",
    "  </ol>\n",
    "\n",
    "</main>\n",
    "```"
   ]
  },
  {
   "cell_type": "code",
   "execution_count": null,
   "metadata": {},
   "outputs": [],
   "source": [
    "IFrame('./source-solution/01-basic-html-and-html5/015-create-an-ordered-list.html', '100%', 500)"
   ]
  },
  {
   "cell_type": "markdown",
   "metadata": {
    "heading_collapsed": true
   },
   "source": [
    "### Create a Text Field\n"
   ]
  },
  {
   "cell_type": "markdown",
   "metadata": {
    "hidden": true
   },
   "source": [
    "Now let's create a web form.\n",
    "\n",
    "`input` elements are a convenient way to get input from your user.\n",
    "\n",
    "You can create a text input like this:\n",
    "\n",
    "`<input type=\"text\">`\n",
    "\n",
    "Note that `input` elements are self-closing.\n",
    "\n",
    "---\n",
    "Create an `input` element of type `text` below your lists."
   ]
  },
  {
   "cell_type": "markdown",
   "metadata": {
    "collapsed": true,
    "hidden": true
   },
   "source": [
    "```HTML\n",
    "<h2>CatPhotoApp</h2>\n",
    "<main>\n",
    "  <p>Click here to view more <a href=\"#\">cat photos</a>.</p>\n",
    "\n",
    "  <a href=\"#\"><img src=\"https://bit.ly/fcc-relaxing-cat\" alt=\"A cute orange cat lying on its back.\"></a>\n",
    "\n",
    "  <p>Things cats love:</p>\n",
    "  <ul>\n",
    "    <li>cat nip</li>\n",
    "    <li>laser pointers</li>\n",
    "    <li>lasagna</li>\n",
    "  </ul>\n",
    "  <p>Top 3 things cats hate:</p>\n",
    "  <ol>\n",
    "    <li>flea treatment</li>\n",
    "    <li>thunder</li>\n",
    "    <li>other cats</li>\n",
    "  </ol>\n",
    "\n",
    "  <input type=\"text\">\n",
    "</main>\n",
    "```"
   ]
  },
  {
   "cell_type": "code",
   "execution_count": 152,
   "metadata": {},
   "outputs": [
    {
     "data": {
      "text/html": [
       "\n",
       "        <iframe\n",
       "            width=\"100%\"\n",
       "            height=\"500\"\n",
       "            src=\"./source-solution/01-basic-html-and-html5/016-create-a-text-field.html\"\n",
       "            frameborder=\"0\"\n",
       "            allowfullscreen\n",
       "        ></iframe>\n",
       "        "
      ],
      "text/plain": [
       "<IPython.lib.display.IFrame at 0x17a825448d0>"
      ]
     },
     "execution_count": 152,
     "metadata": {},
     "output_type": "execute_result"
    }
   ],
   "source": [
    "IFrame('./source-solution/01-basic-html-and-html5/016-create-a-text-field.html', '100%', 500)"
   ]
  },
  {
   "cell_type": "markdown",
   "metadata": {
    "heading_collapsed": true
   },
   "source": [
    "### Add Placeholder Text to a Text Field\n"
   ]
  },
  {
   "cell_type": "markdown",
   "metadata": {
    "hidden": true
   },
   "source": [
    "Placeholder text is what is displayed in your `input` element before your user has inputted anything.\n",
    "\n",
    "You can create placeholder text like so:\n",
    "\n",
    "`<input type=\"text\" placeholder=\"this is placeholder text\">`\n",
    "\n",
    "Note: Remember that `input` elements are self-closing.\n",
    "\n",
    "---\n",
    "Set the `placeholder` value of your text `input` to \"cat photo URL\"."
   ]
  },
  {
   "cell_type": "markdown",
   "metadata": {
    "collapsed": true,
    "hidden": true
   },
   "source": [
    "```HTML\n",
    "<h2>CatPhotoApp</h2>\n",
    "<main>\n",
    "  <p>Click here to view more <a href=\"#\">cat photos</a>.</p>\n",
    "\n",
    "  <a href=\"#\"><img src=\"https://bit.ly/fcc-relaxing-cat\" alt=\"A cute orange cat lying on its back.\"></a>\n",
    "\n",
    "  <p>Things cats love:</p>\n",
    "  <ul>\n",
    "    <li>cat nip</li>\n",
    "    <li>laser pointers</li>\n",
    "    <li>lasagna</li>\n",
    "  </ul>\n",
    "  <p>Top 3 things cats hate:</p>\n",
    "  <ol>\n",
    "    <li>flea treatment</li>\n",
    "    <li>thunder</li>\n",
    "    <li>other cats</li>\n",
    "  </ol>\n",
    "  <input type=\"text\" placeholder=\"cat photo URL\">\n",
    "</main>\n",
    "```"
   ]
  },
  {
   "cell_type": "code",
   "execution_count": 153,
   "metadata": {},
   "outputs": [
    {
     "data": {
      "text/html": [
       "\n",
       "        <iframe\n",
       "            width=\"100%\"\n",
       "            height=\"500\"\n",
       "            src=\"./source-solution/01-basic-html-and-html5/017-add-placeholder-text-to-a-text-field.html\"\n",
       "            frameborder=\"0\"\n",
       "            allowfullscreen\n",
       "        ></iframe>\n",
       "        "
      ],
      "text/plain": [
       "<IPython.lib.display.IFrame at 0x17a82544668>"
      ]
     },
     "execution_count": 153,
     "metadata": {},
     "output_type": "execute_result"
    }
   ],
   "source": [
    "IFrame('./source-solution/01-basic-html-and-html5/017-add-placeholder-text-to-a-text-field.html', '100%', 500)"
   ]
  },
  {
   "cell_type": "markdown",
   "metadata": {
    "heading_collapsed": true
   },
   "source": [
    "### Create a Form Element\n"
   ]
  },
  {
   "cell_type": "markdown",
   "metadata": {
    "hidden": true
   },
   "source": [
    "You can build web forms that actually submit data to a server using nothing more than pure HTML. You can do this by specifying an action on your `form` element.\n",
    "\n",
    "For example:\n",
    "\n",
    "`<form action=\"/url-where-you-want-to-submit-form-data\"></form>`\n",
    "\n",
    "---\n",
    "Nest your text field inside a `form` element, and add the `action=\"/submit-cat-photo\"` attribute to the form element."
   ]
  },
  {
   "cell_type": "markdown",
   "metadata": {
    "collapsed": true,
    "hidden": true
   },
   "source": [
    "```HTML\n",
    "<h2>CatPhotoApp</h2>\n",
    "<main>\n",
    "  <p>Click here to view more <a href=\"#\">cat photos</a>.</p>\n",
    "\n",
    "  <a href=\"#\"><img src=\"https://bit.ly/fcc-relaxing-cat\" alt=\"A cute orange cat lying on its back.\"></a>\n",
    "\n",
    "  <p>Things cats love:</p>\n",
    "  <ul>\n",
    "    <li>cat nip</li>\n",
    "    <li>laser pointers</li>\n",
    "    <li>lasagna</li>\n",
    "  </ul>\n",
    "  <p>Top 3 things cats hate:</p>\n",
    "  <ol>\n",
    "    <li>flea treatment</li>\n",
    "    <li>thunder</li>\n",
    "    <li>other cats</li>\n",
    "  </ol>\n",
    "  <form action=\"/submit-cat-photo\">\n",
    "    <input type=\"text\" placeholder=\"cat photo URL\">\n",
    "  </form>\n",
    "</main>\n",
    "```"
   ]
  },
  {
   "cell_type": "code",
   "execution_count": 154,
   "metadata": {},
   "outputs": [
    {
     "data": {
      "text/html": [
       "\n",
       "        <iframe\n",
       "            width=\"100%\"\n",
       "            height=\"500\"\n",
       "            src=\"./source-solution/01-basic-html-and-html5/018-create-a-form-element.html\"\n",
       "            frameborder=\"0\"\n",
       "            allowfullscreen\n",
       "        ></iframe>\n",
       "        "
      ],
      "text/plain": [
       "<IPython.lib.display.IFrame at 0x17a825447f0>"
      ]
     },
     "execution_count": 154,
     "metadata": {},
     "output_type": "execute_result"
    }
   ],
   "source": [
    "IFrame('./source-solution/01-basic-html-and-html5/018-create-a-form-element.html', '100%', 500)"
   ]
  },
  {
   "cell_type": "markdown",
   "metadata": {
    "heading_collapsed": true
   },
   "source": [
    "### Add a Submit Button to a Form\n"
   ]
  },
  {
   "cell_type": "markdown",
   "metadata": {
    "hidden": true
   },
   "source": [
    "Let's add a `submit` button to your form. Clicking this button will send the data from your form to the URL you specified with your form's `action` attribute.\n",
    "\n",
    "Here's an example submit button:\n",
    "\n",
    "`<button type=\"submit\">this button submits the form</button>`\n",
    "\n",
    "---\n",
    "Add a button as the last element of your `form` element with a type of `submit`, and \"Submit\" as its text."
   ]
  },
  {
   "cell_type": "markdown",
   "metadata": {
    "collapsed": true,
    "hidden": true
   },
   "source": [
    "```HTML\n",
    "<h2>CatPhotoApp</h2>\n",
    "<main>\n",
    "  <p>Click here to view more <a href=\"#\">cat photos</a>.</p>\n",
    "\n",
    "  <a href=\"#\"><img src=\"https://bit.ly/fcc-relaxing-cat\" alt=\"A cute orange cat lying on its back.\"></a>\n",
    "\n",
    "  <p>Things cats love:</p>\n",
    "  <ul>\n",
    "    <li>cat nip</li>\n",
    "    <li>laser pointers</li>\n",
    "    <li>lasagna</li>\n",
    "  </ul>\n",
    "  <p>Top 3 things cats hate:</p>\n",
    "  <ol>\n",
    "    <li>flea treatment</li>\n",
    "    <li>thunder</li>\n",
    "    <li>other cats</li>\n",
    "  </ol>\n",
    "  <form action=\"/submit-cat-photo\">\n",
    "    <input type=\"text\" placeholder=\"cat photo URL\">\n",
    "    <button type=\"submit\">Submit</button>\n",
    "  </form>\n",
    "</main>\n",
    "```"
   ]
  },
  {
   "cell_type": "code",
   "execution_count": 155,
   "metadata": {},
   "outputs": [
    {
     "data": {
      "text/html": [
       "\n",
       "        <iframe\n",
       "            width=\"100%\"\n",
       "            height=\"500\"\n",
       "            src=\"./source-solution/01-basic-html-and-html5/019-add-a-submit-button-to-a-form.html\"\n",
       "            frameborder=\"0\"\n",
       "            allowfullscreen\n",
       "        ></iframe>\n",
       "        "
      ],
      "text/plain": [
       "<IPython.lib.display.IFrame at 0x17a82544b70>"
      ]
     },
     "execution_count": 155,
     "metadata": {},
     "output_type": "execute_result"
    }
   ],
   "source": [
    "IFrame('./source-solution/01-basic-html-and-html5/019-add-a-submit-button-to-a-form.html', '100%', 500)"
   ]
  },
  {
   "cell_type": "markdown",
   "metadata": {
    "heading_collapsed": true
   },
   "source": [
    "### Use HTML5 to Require a Field\n"
   ]
  },
  {
   "cell_type": "markdown",
   "metadata": {
    "hidden": true
   },
   "source": [
    "You can require specific form fields so that your user will not be able to submit your form until he or she has filled them out.\n",
    "\n",
    "For example, if you wanted to make a text input field required, you can just add the attribute `required` within your `input` element, like this: `<input type=\"text\" required>`\n",
    "\n",
    "---\n",
    "Make your text `input` a `required` field, so that your user can't submit the form without completing this field.\n",
    "\n",
    "Then try to submit the form without inputting any text. See how your HTML5 form notifies you that the field is required?"
   ]
  },
  {
   "cell_type": "markdown",
   "metadata": {
    "collapsed": true,
    "hidden": true
   },
   "source": [
    "```HTML\n",
    "<h2>CatPhotoApp</h2>\n",
    "<main>\n",
    "  <p>Click here to view more <a href=\"#\">cat photos</a>.</p>\n",
    "\n",
    "  <a href=\"#\"><img src=\"https://bit.ly/fcc-relaxing-cat\" alt=\"A cute orange cat lying on its back.\"></a>\n",
    "\n",
    "  <p>Things cats love:</p>\n",
    "  <ul>\n",
    "    <li>cat nip</li>\n",
    "    <li>laser pointers</li>\n",
    "    <li>lasagna</li>\n",
    "  </ul>\n",
    "  <p>Top 3 things cats hate:</p>\n",
    "  <ol>\n",
    "    <li>flea treatment</li>\n",
    "    <li>thunder</li>\n",
    "    <li>other cats</li>\n",
    "  </ol>\n",
    "  <form action=\"/submit-cat-photo\">\n",
    "    <input type=\"text\" placeholder=\"cat photo URL\" required>\n",
    "    <button type=\"submit\">Submit</button>\n",
    "  </form>\n",
    "</main>\n",
    "```"
   ]
  },
  {
   "cell_type": "code",
   "execution_count": 156,
   "metadata": {},
   "outputs": [
    {
     "data": {
      "text/html": [
       "\n",
       "        <iframe\n",
       "            width=\"100%\"\n",
       "            height=\"500\"\n",
       "            src=\"./source-solution/01-basic-html-and-html5/020-use-html5-to-require-a-field.html\"\n",
       "            frameborder=\"0\"\n",
       "            allowfullscreen\n",
       "        ></iframe>\n",
       "        "
      ],
      "text/plain": [
       "<IPython.lib.display.IFrame at 0x17a82544cf8>"
      ]
     },
     "execution_count": 156,
     "metadata": {},
     "output_type": "execute_result"
    }
   ],
   "source": [
    "IFrame('./source-solution/01-basic-html-and-html5/020-use-html5-to-require-a-field.html', '100%', 500)"
   ]
  },
  {
   "cell_type": "markdown",
   "metadata": {
    "heading_collapsed": true
   },
   "source": [
    "### Create a Set of Radio Buttons\n"
   ]
  },
  {
   "cell_type": "markdown",
   "metadata": {
    "hidden": true
   },
   "source": [
    "You can use _radio buttons_ for questions where you want the user to only give you one answer out of multiple options.\n",
    "\n",
    "Radio buttons are a type of `input`.\n",
    "\n",
    "Each of your radio buttons can be nested within its own `label` element. By wrapping an `input` element inside of a `label` element it will automatically associate the radio button input with the label element surrounding it.\n",
    "\n",
    "All related radio buttons should have the same `name` attribute to create a radio button group. By creating a radio group, selecting any single radio button will automatically deselect the other buttons within the same group ensuring only one answer is provided by the user.\n",
    "\n",
    "Here's an example of a radio button:\n",
    "```HTML\n",
    "<label> \n",
    "  <input type=\"radio\" name=\"indoor-outdoor\">Indoor \n",
    "</label>\n",
    "```\n",
    "It is considered best practice to set a `for` attribute on the `label` element, with a value that matches the value of the `id` attribute of the `input` element. This allows assistive technologies to create a linked relationship between the label and the child `input` element. For example:\n",
    "```HTML\n",
    "<label for=\"indoor\"> \n",
    "  <input id=\"indoor\" type=\"radio\" name=\"indoor-outdoor\">Indoor \n",
    "</label>\n",
    "```\n",
    "\n",
    "---\n",
    "Add a pair of radio buttons to your form, each nested in its own `label` element. One should have the option of `indoor` and the other should have the option of `outdoor`. Both should share the name attribute of `indoor-outdoor` to create a radio group."
   ]
  },
  {
   "cell_type": "markdown",
   "metadata": {
    "collapsed": true,
    "hidden": true
   },
   "source": [
    "```HTML\n",
    "<h2>CatPhotoApp</h2>\n",
    "<main>\n",
    "  <p>Click here to view more <a href=\"#\">cat photos</a>.</p>\n",
    "\n",
    "  <a href=\"#\"><img src=\"https://bit.ly/fcc-relaxing-cat\" alt=\"A cute orange cat lying on its back.\"></a>\n",
    "\n",
    "  <p>Things cats love:</p>\n",
    "  <ul>\n",
    "    <li>cat nip</li>\n",
    "    <li>laser pointers</li>\n",
    "    <li>lasagna</li>\n",
    "  </ul>\n",
    "  <p>Top 3 things cats hate:</p>\n",
    "  <ol>\n",
    "    <li>flea treatment</li>\n",
    "    <li>thunder</li>\n",
    "    <li>other cats</li>\n",
    "  </ol>\n",
    "  <form action=\"/submit-cat-photo\">\n",
    "    <input type=\"text\" placeholder=\"cat photo URL\" required>\n",
    "    <button type=\"submit\">Submit</button>\n",
    "    <label for=\"indoor\">\n",
    "      <input id=\"indoor\" type=\"radio\" name=\"indoor-outdoor\">Indoor\n",
    "    </label>\n",
    "    <label for=\"outdoor\">\n",
    "      <input id=\"outdoor\" type=\"radio\" name=\"indoor-outdoor\">Outdoor\n",
    "    </label>\n",
    "  </form>\n",
    "</main>\n",
    "```"
   ]
  },
  {
   "cell_type": "code",
   "execution_count": 157,
   "metadata": {},
   "outputs": [
    {
     "data": {
      "text/html": [
       "\n",
       "        <iframe\n",
       "            width=\"100%\"\n",
       "            height=\"500\"\n",
       "            src=\"./source-solution/01-basic-html-and-html5/021-create-a-set-of-radio-buttons.html\"\n",
       "            frameborder=\"0\"\n",
       "            allowfullscreen\n",
       "        ></iframe>\n",
       "        "
      ],
      "text/plain": [
       "<IPython.lib.display.IFrame at 0x17a82544d30>"
      ]
     },
     "execution_count": 157,
     "metadata": {},
     "output_type": "execute_result"
    }
   ],
   "source": [
    "IFrame('./source-solution/01-basic-html-and-html5/021-create-a-set-of-radio-buttons.html', '100%', 500)"
   ]
  },
  {
   "cell_type": "markdown",
   "metadata": {
    "heading_collapsed": true
   },
   "source": [
    "### Create a Set of Checkboxes\n"
   ]
  },
  {
   "cell_type": "markdown",
   "metadata": {
    "hidden": true
   },
   "source": [
    "Forms commonly use checkboxes for questions that may have more than one answer.\n",
    "\n",
    "Checkboxes are a type of `input`.\n",
    "\n",
    "Each of your checkboxes can be nested within its own `label` element. By wrapping an `input` element inside of a `label` element it will automatically associate the checkbox input with the label element surrounding it.\n",
    "\n",
    "All related checkbox inputs should have the same `name` attribute.\n",
    "\n",
    "It is considered best practice to explicitly define the relationship between a checkbox `input` and its corresponding `label` by setting the `for` attribute on the `label` element to match the `id` attribute of the associated `input` element.\n",
    "\n",
    "Here's an example of a checkbox:\n",
    "\n",
    "`<label for=\"loving\"><input id=\"loving\" type=\"checkbox\" name=\"personality\"> Loving</label>`\n",
    "\n",
    "---\n",
    "Add to your form a set of three checkboxes. Each checkbox should be nested within its own `label` element. All three should share the `name` attribute of `personality`.\n",
    "\n"
   ]
  },
  {
   "cell_type": "markdown",
   "metadata": {
    "hidden": true,
    "scrolled": true
   },
   "source": [
    "```HTML\n",
    "<h2>CatPhotoApp</h2>\n",
    "<main>\n",
    "  <p>Click here to view more <a href=\"#\">cat photos</a>.</p>\n",
    "\n",
    "  <a href=\"#\"><img src=\"https://bit.ly/fcc-relaxing-cat\" alt=\"A cute orange cat lying on its back.\"></a>\n",
    "\n",
    "  <p>Things cats love:</p>\n",
    "  <ul>\n",
    "    <li>cat nip</li>\n",
    "    <li>laser pointers</li>\n",
    "    <li>lasagna</li>\n",
    "  </ul>\n",
    "  <p>Top 3 things cats hate:</p>\n",
    "  <ol>\n",
    "    <li>flea treatment</li>\n",
    "    <li>thunder</li>\n",
    "    <li>other cats</li>\n",
    "  </ol>\n",
    "  <form action=\"/submit-cat-photo\">\n",
    "    <label for=\"indoor\"><input id=\"indoor\" type=\"radio\" name=\"indoor-outdoor\"> Indoor</label>\n",
    "    <label for=\"outdoor\"><input id=\"outdoor\" type=\"radio\" name=\"indoor-outdoor\"> Outdoor</label><br>\n",
    "    <label for=\"loving\"><input id=\"loving\" type=\"checkbox\" name=\"personality\"> Loving</label>\n",
    "    <label for=\"playing\"><input id=\"playing\" type=\"checkbox\" name=\"personality\"> Playing</label>\n",
    "    <label for=\"slacking\"><input id=\"slacking\" type=\"checkbox\" name=\"personality\"> Slacking</label><br>\n",
    "    <input type=\"text\" placeholder=\"cat photo URL\" required>\n",
    "    <button type=\"submit\">Submit</button>\n",
    "  </form>\n",
    "</main>\n",
    "```"
   ]
  },
  {
   "cell_type": "code",
   "execution_count": 158,
   "metadata": {},
   "outputs": [
    {
     "data": {
      "text/html": [
       "\n",
       "        <iframe\n",
       "            width=\"100%\"\n",
       "            height=\"500\"\n",
       "            src=\"./source-solution/01-basic-html-and-html5/022-create-a-set-of-checkboxes.html\"\n",
       "            frameborder=\"0\"\n",
       "            allowfullscreen\n",
       "        ></iframe>\n",
       "        "
      ],
      "text/plain": [
       "<IPython.lib.display.IFrame at 0x17a82544cc0>"
      ]
     },
     "execution_count": 158,
     "metadata": {},
     "output_type": "execute_result"
    }
   ],
   "source": [
    "IFrame('./source-solution/01-basic-html-and-html5/022-create-a-set-of-checkboxes.html', '100%', 500)"
   ]
  },
  {
   "cell_type": "markdown",
   "metadata": {
    "heading_collapsed": true
   },
   "source": [
    "### Use the value attribute with Radio Buttons and Checkboxes\n"
   ]
  },
  {
   "cell_type": "markdown",
   "metadata": {
    "hidden": true
   },
   "source": [
    "When a form gets submitted, the data is sent to the server and includes entries for the options selected. Inputs of type `radio` and `checkbox` report their values from the `value` attribute.\n",
    "\n",
    "For example:\n",
    "```HTML\n",
    "<label for=\"indoor\"> \n",
    "  <input id=\"indoor\" value=\"indoor\" type=\"radio\" name=\"indoor-outdoor\">Indoor \n",
    "</label>\n",
    "<label for=\"outdoor\"> \n",
    "  <input id=\"outdoor\" value=\"outdoor\" type=\"radio\" name=\"indoor-outdoor\">Outdoor \n",
    "</label>\n",
    "```\n",
    "Here, you have two `radio` inputs. When the user submits the form with the `indoor` option selected, the form data will include the line: `indoor-outdoor=indoor`. This is from the `name` and `value` attributes of the \"indoor\" input.\n",
    "\n",
    "If you omit the `value` attribute, the submitted form data uses the default value, which is `on`. In this scenario, if the user clicked the \"indoor\" option and submitted the form, the resulting form data would be `indoor-outdoor=on`, which is not useful. So the `value` attribute needs to be set to something to identify the option.\n",
    "\n",
    "---\n",
    "Give each of the `radio` and `checkbox` inputs the `value` attribute. Use the input label text, in lowercase, as the value for the attribute."
   ]
  },
  {
   "cell_type": "markdown",
   "metadata": {
    "collapsed": true,
    "hidden": true
   },
   "source": [
    "```HTML\n",
    "<h2>CatPhotoApp</h2>\n",
    "<main>\n",
    "  <p>Click here to view more <a href=\"#\">cat photos</a>.</p>\n",
    "  \n",
    "  <a href=\"#\"><img src=\"https://bit.ly/fcc-relaxing-cat\" alt=\"A cute orange cat lying on its back.\"></a>\n",
    "  \n",
    "  <p>Things cats love:</p>\n",
    "  <ul>\n",
    "    <li>cat nip</li>\n",
    "    <li>laser pointers</li>\n",
    "    <li>lasagna</li>\n",
    "  </ul>\n",
    "  <p>Top 3 things cats hate:</p>\n",
    "  <ol>\n",
    "    <li>flea treatment</li>\n",
    "    <li>thunder</li>\n",
    "    <li>other cats</li>\n",
    "  </ol>\n",
    "  <form action=\"/submit-cat-photo\">\n",
    "    <label><input type=\"radio\" name=\"indoor-outdoor\" value=\"indoor\"> Indoor</label>\n",
    "    <label><input type=\"radio\" name=\"indoor-outdoor\" value=\"outdoor\"> Outdoor</label><br>\n",
    "    <label><input type=\"checkbox\" name=\"personality\" value=\"loving\"> Loving</label>\n",
    "    <label><input type=\"checkbox\" name=\"personality\" value=\"lazy\"> Lazy</label>\n",
    "    <label><input type=\"checkbox\" name=\"personality\" value=\"energetic\"> Energetic</label><br>\n",
    "    <input type=\"text\" placeholder=\"cat photo URL\" required>\n",
    "    <button type=\"submit\">Submit</button>\n",
    "  </form>\n",
    "</main>\n",
    "```"
   ]
  },
  {
   "cell_type": "code",
   "execution_count": 159,
   "metadata": {},
   "outputs": [
    {
     "data": {
      "text/html": [
       "\n",
       "        <iframe\n",
       "            width=\"100%\"\n",
       "            height=\"500\"\n",
       "            src=\"./source-solution/01-basic-html-and-html5/023-use-the-value-attribute-with-radio-buttons-and-checkboxes.html\"\n",
       "            frameborder=\"0\"\n",
       "            allowfullscreen\n",
       "        ></iframe>\n",
       "        "
      ],
      "text/plain": [
       "<IPython.lib.display.IFrame at 0x17a825445c0>"
      ]
     },
     "execution_count": 159,
     "metadata": {},
     "output_type": "execute_result"
    }
   ],
   "source": [
    "IFrame('./source-solution/01-basic-html-and-html5/023-use-the-value-attribute-with-radio-buttons-and-checkboxes.html', '100%', 500)"
   ]
  },
  {
   "cell_type": "markdown",
   "metadata": {
    "heading_collapsed": true
   },
   "source": [
    "### Check Radio Buttons and Checkboxes by Default\n"
   ]
  },
  {
   "cell_type": "markdown",
   "metadata": {
    "hidden": true
   },
   "source": [
    "You can set a checkbox or radio button to be checked by default using the `checked` attribute.\n",
    "\n",
    "To do this, just add the word \"checked\" to the inside of an input element. For example:\n",
    "\n",
    "`<input type=\"radio\" name=\"test-name\" checked>`\n",
    "\n",
    "---\n",
    "Set the first of your radio buttons and the first of your checkboxes to both be checked by default."
   ]
  },
  {
   "cell_type": "markdown",
   "metadata": {
    "collapsed": true,
    "hidden": true
   },
   "source": [
    "```HTML\n",
    "<h2>CatPhotoApp</h2>\n",
    "<main>\n",
    "  <p>Click here to view more <a href=\"#\">cat photos</a>.</p>\n",
    "\n",
    "  <a href=\"#\"><img src=\"https://bit.ly/fcc-relaxing-cat\" alt=\"A cute orange cat lying on its back.\"></a>\n",
    "\n",
    "  <p>Things cats love:</p>\n",
    "  <ul>\n",
    "    <li>cat nip</li>\n",
    "    <li>laser pointers</li>\n",
    "    <li>lasagna</li>\n",
    "  </ul>\n",
    "  <p>Top 3 things cats hate:</p>\n",
    "  <ol>\n",
    "    <li>flea treatment</li>\n",
    "    <li>thunder</li>\n",
    "    <li>other cats</li>\n",
    "  </ol>\n",
    "  <form action=\"/submit-cat-photo\">\n",
    "    <label for=\"indoor\"><input id=\"indoor\" type=\"radio\" name=\"indoor-outdoor\" value=\"indoor\" checked> Indoor</label>\n",
    "    <label for=\"outdoor\"><input id=\"outdoor\" type=\"radio\" name=\"indoor-outdoor\" value=\"outdoor\"> Outdoor</label><br>\n",
    "    <label for=\"loving\"><input id=\"loving\" type=\"checkbox\" name=\"personality\" value=\"loving\" checked> Loving</label>\n",
    "    <label for=\"lazy\"><input id=\"lazy\" type=\"checkbox\" name=\"personality\" value=\"lazy\"> Lazy</label>\n",
    "    <label for=\"energetic\"><input id=\"energetic\" type=\"checkbox\" name=\"personality\" value=\"energetic\"> Energetic</label><br>\n",
    "    <input type=\"text\" placeholder=\"cat photo URL\" required>\n",
    "    <button type=\"submit\">Submit</button>\n",
    "  </form>\n",
    "</main>\n",
    "```"
   ]
  },
  {
   "cell_type": "code",
   "execution_count": 160,
   "metadata": {},
   "outputs": [
    {
     "data": {
      "text/html": [
       "\n",
       "        <iframe\n",
       "            width=\"100%\"\n",
       "            height=\"500\"\n",
       "            src=\"./source-solution/01-basic-html-and-html5/024-check-radio-buttons-and-checkboxes-by-default.html\"\n",
       "            frameborder=\"0\"\n",
       "            allowfullscreen\n",
       "        ></iframe>\n",
       "        "
      ],
      "text/plain": [
       "<IPython.lib.display.IFrame at 0x17a82544198>"
      ]
     },
     "execution_count": 160,
     "metadata": {},
     "output_type": "execute_result"
    }
   ],
   "source": [
    "IFrame('./source-solution/01-basic-html-and-html5/024-check-radio-buttons-and-checkboxes-by-default.html', '100%', 500)"
   ]
  },
  {
   "cell_type": "markdown",
   "metadata": {
    "heading_collapsed": true
   },
   "source": [
    "### Nest Many Elements within a Single div Element\n"
   ]
  },
  {
   "cell_type": "markdown",
   "metadata": {
    "hidden": true
   },
   "source": [
    "The `div` element, also known as a division element, is a general purpose container for other elements.\n",
    "\n",
    "The `div` element is probably the most commonly used HTML element of all.\n",
    "\n",
    "Just like any other non-self-closing element, you can open a `div` element with `<div>` and close it on another line with `</div>`.\n",
    "\n",
    "---\n",
    "Nest your \"Things cats love\" and \"Things cats hate\" lists all within a single `div` element.\n",
    "\n",
    "Hint: Try putting your opening `div` tag above your \"Things cats love\" `p` element and your closing `div` tag after your closing `ol` tag so that both of your lists are within one `div`."
   ]
  },
  {
   "cell_type": "markdown",
   "metadata": {
    "collapsed": true,
    "hidden": true
   },
   "source": [
    "```HTML\n",
    "<h2>CatPhotoApp</h2>\n",
    "<main>\n",
    "  <p>Click here to view more <a href=\"#\">cat photos</a>.</p>\n",
    "\n",
    "  <a href=\"#\"><img src=\"https://bit.ly/fcc-relaxing-cat\" alt=\"A cute orange cat lying on its back.\"></a>\n",
    "  <div>\n",
    "    <p>Things cats love:</p>\n",
    "    <ul>\n",
    "      <li>cat nip</li>\n",
    "      <li>laser pointers</li>\n",
    "      <li>lasagna</li>\n",
    "    </ul>\n",
    "    <p>Top 3 things cats hate:</p>\n",
    "    <ol>\n",
    "      <li>flea treatment</li>\n",
    "      <li>thunder</li>\n",
    "      <li>other cats</li>\n",
    "    </ol>\n",
    "  </div>\n",
    "  \n",
    "  <form action=\"/submit-cat-photo\">\n",
    "    <label for=\"indoor\"><input id=\"indoor\" type=\"radio\" name=\"indoor-outdoor\" value=\"indoor\" checked> Indoor</label>\n",
    "    <label for=\"outdoor\"><input id=\"outdoor\" type=\"radio\" name=\"indoor-outdoor\" value=\"outdoor\"> Outdoor</label><br>\n",
    "    <label for=\"loving\"><input id=\"loving\" type=\"checkbox\" name=\"personality\" value=\"loving\" checked> Loving</label>\n",
    "    <label for=\"lazy\"><input id=\"lazy\" type=\"checkbox\" name=\"personality\" value=\"lazy\"> Lazy</label>\n",
    "    <label for=\"energetic\"><input id=\"energetic\" type=\"checkbox\" name=\"personality\" value=\"energetic\"> Energetic</label><br>\n",
    "    <input type=\"text\" placeholder=\"cat photo URL\" required>\n",
    "    <button type=\"submit\">Submit</button>\n",
    "  </form>\n",
    "</main>\n",
    "```"
   ]
  },
  {
   "cell_type": "code",
   "execution_count": 161,
   "metadata": {},
   "outputs": [
    {
     "data": {
      "text/html": [
       "\n",
       "        <iframe\n",
       "            width=\"100%\"\n",
       "            height=\"500\"\n",
       "            src=\"./source-solution/01-basic-html-and-html5/025-nest-many-elements-within-a-single-div-element.html\"\n",
       "            frameborder=\"0\"\n",
       "            allowfullscreen\n",
       "        ></iframe>\n",
       "        "
      ],
      "text/plain": [
       "<IPython.lib.display.IFrame at 0x17a82544f60>"
      ]
     },
     "execution_count": 161,
     "metadata": {},
     "output_type": "execute_result"
    }
   ],
   "source": [
    "IFrame('./source-solution/01-basic-html-and-html5/025-nest-many-elements-within-a-single-div-element.html', '100%', 500)"
   ]
  },
  {
   "cell_type": "markdown",
   "metadata": {
    "heading_collapsed": true
   },
   "source": [
    "### Declare the Doctype of an HTML Document\n"
   ]
  },
  {
   "cell_type": "markdown",
   "metadata": {
    "hidden": true
   },
   "source": [
    "The challenges so far have covered specific HTML elements and their uses. However, there are a few elements that give overall structure to your page, and should be included in every HTML document.\n",
    "\n",
    "At the top of your document, you need to tell the browser which version of HTML your page is using. HTML is an evolving language, and is updated regularly. Most major browsers support the latest specification, which is HTML5. However, older web pages may use previous versions of the language.\n",
    "\n",
    "You tell the browser this information by adding the `<!DOCTYPE ...>` tag on the first line, where the `...` part is the version of HTML. For HTML5, you use `<!DOCTYPE html>`.\n",
    "\n",
    "The `!` and uppercase `DOCTYPE` is important, especially for older browsers. The `html` is not case sensitive.\n",
    "\n",
    "Next, the rest of your HTML code needs to be wrapped in `html` tags. The opening `<html>` goes directly below the `<!DOCTYPE html>` line, and the closing `</html>` goes at the end of the page.\n",
    "\n",
    "Here's an example of the page structure:\n",
    "```HTML\n",
    "<!DOCTYPE html>\n",
    "<html>\n",
    "  <!-- Your HTML code goes here -->\n",
    "</html>\n",
    "```\n",
    "\n",
    "---\n",
    "Add a `DOCTYPE` tag for HTML5 to the top of the blank HTML document in the code editor. Under it, add opening and closing `html` tags, which wrap around an `h1` element. The heading can include any text."
   ]
  },
  {
   "cell_type": "markdown",
   "metadata": {
    "collapsed": true,
    "hidden": true
   },
   "source": [
    "```HTML\n",
    "<!DOCTYPE html>\n",
    "<html>\n",
    "  <h1></h1>\n",
    "</html>\n"
   ]
  },
  {
   "cell_type": "code",
   "execution_count": null,
   "metadata": {},
   "outputs": [],
   "source": [
    "IFrame('./source-solution/01-basic-html-and-html5/026-declare-the-doctype-of-an-html-document.html', '100%', 500)"
   ]
  },
  {
   "cell_type": "markdown",
   "metadata": {},
   "source": [
    "### Define the Head and Body of an HTML Document"
   ]
  },
  {
   "cell_type": "markdown",
   "metadata": {},
   "source": [
    "You can add another level of organization in your HTML document within the `html` tags with the `head` and `body` elements. Any markup with information about your page would go into the `head` tag. Then any markup with the content of the page (what displays for a user) would go into the `body` tag.\n",
    "\n",
    "Metadata elements, such as `link`, `meta`, `title`, and `style`, typically go inside the head element.\n",
    "\n",
    "Here's an example of a page's layout:\n",
    "```HTML\n",
    "<!DOCTYPE html>\n",
    "<html>\n",
    "  <head>\n",
    "    <!-- metadata elements -->\n",
    "  </head>\n",
    "  <body>\n",
    "    <!-- page contents -->\n",
    "  </body>\n",
    "</html>\n",
    "```\n",
    "\n",
    "---\n",
    "Edit the markup so there's a `head` and a `body`. The `head` element should only include the `title`, and the `body` element should only include the `h1` and `p`."
   ]
  },
  {
   "cell_type": "markdown",
   "metadata": {
    "collapsed": true
   },
   "source": []
  },
  {
   "cell_type": "code",
   "execution_count": null,
   "metadata": {},
   "outputs": [],
   "source": [
    "IFrame('./source-solution/01-basic-html-and-html5/027-define-the-head-and-body-of-an-html-document.html', '100%', 500)"
   ]
  },
  {
   "cell_type": "markdown",
   "metadata": {},
   "source": [
    "## Basic CSS"
   ]
  },
  {
   "cell_type": "markdown",
   "metadata": {},
   "source": [
    "### Introduction to Basic CSS"
   ]
  },
  {
   "cell_type": "markdown",
   "metadata": {},
   "source": [
    "Cascading Style Sheets (CSS) tell the browser how to display the text and other content that you write in HTML.\n",
    "\n",
    "Note that CSS is case-sensitive so be careful with your capitalization. CSS has been adopted by all major browsers and allows you to control:\n",
    "\n",
    "* color\n",
    "* fonts\n",
    "* positioning\n",
    "* spacing\n",
    "* sizing\n",
    "* decorations\n",
    "* transitions\n",
    "\n",
    "There are three main ways to apply CSS styling. You can apply inline styles directly to HTML elements with the `style` attribute. Alternatively, you can place CSS rules within `style` tags in an HTML document. Finally, you can write CSS rules in an external style sheet, then reference that file in the HTML document. Even though the first two options have their use cases, most developers prefer external style sheets because they keep the styles separate from the HTML elements. This improves the readability and reusability of your code. The idea behind CSS is that you can use a selector to target an HTML element in the DOM (Document Object Model) and then apply a variety of attributes to that element to change the way it is displayed on the page.\n",
    "\n",
    "In this section, you'll see how adding CSS styles to the elements of your CatPhotoApp can change it from simple text to something more."
   ]
  },
  {
   "cell_type": "markdown",
   "metadata": {},
   "source": [
    "### Change the Color of Text"
   ]
  },
  {
   "cell_type": "markdown",
   "metadata": {},
   "source": [
    "Now let's change the color of some of our text.\n",
    "\n",
    "We can do this by changing the `style` of your `h2` element.\n",
    "\n",
    "The property that is responsible for the `color` of an element's text is the color style property.\n",
    "\n",
    "Here's how you would set your `h2` element's text color to blue:\n",
    "\n",
    "`<h2 style=\"color: blue;\">CatPhotoApp</h2>`\n",
    "\n",
    "Note that it is a good practice to end inline `style` declarations with a `;`.\n",
    "\n",
    "---\n",
    "Change your `h2` element's style so that its text color is red."
   ]
  },
  {
   "cell_type": "markdown",
   "metadata": {},
   "source": [
    "```HTML\n",
    "<h2 style=\"color: red;\">CatPhotoApp</h2>\n",
    "<main>\n",
    "\t<p>Click here to view more <a href=\"#\">cat photos</a>. </p>\n",
    "\t<a href=\"#\"> <img src=\"https://bit.ly/fcc-relaxing-cat\" alt=\"A cute orange cat lying on its back.\"> </a>\n",
    "\t<div>\n",
    "\t\t<p>Things cats love:</p>\n",
    "\t\t<ul>\n",
    "\t\t\t<li>cat nip</li>\n",
    "\t\t\t<li>laser pointers</li>\n",
    "\t\t\t<li>lasagna</li>\n",
    "\t\t</ul>\n",
    "\t\t<p>Top 3 things cats hate:</p>\n",
    "\t\t<ol>\n",
    "\t\t\t<li>flea treatment</li>\n",
    "\t\t\t<li>thunder</li>\n",
    "\t\t\t<li>other cats</li>\n",
    "\t\t</ol>\n",
    "\t</div>\n",
    "\t<form action=\"/submit-cat-photo\">\n",
    "\t\t<label>\n",
    "\t\t\t<input type=\"radio\" name=\"indoor-outdoor\" checked> Indoor </label>\n",
    "\t\t<label>\n",
    "\t\t\t<input type=\"radio\" name=\"indoor-outdoor\"> Outdoor </label <br>\n",
    "\t\t<label>\n",
    "\t\t\t<input type=\"checkbox\" name=\"personality\" checked> Loving </label>\n",
    "\t\t<label>\n",
    "\t\t\t<input type=\"checkbox\" name=\"personality\"> Lazy </label>\n",
    "\t\t<label>\n",
    "\t\t\t<input type=\"checkbox\" name=\"personality\"> Energetic </label>\n",
    "\t\t<br>\n",
    "\t\t<input type=\"text\" placeholder=\"cat photo URL\" required>\n",
    "\t\t<button type=\"submit\">Submit</button>\n",
    "\t</form>\n",
    "</main> ```"
   ]
  },
  {
   "cell_type": "code",
   "execution_count": 30,
   "metadata": {},
   "outputs": [
    {
     "data": {
      "text/html": [
       "\n",
       "        <iframe\n",
       "            width=\"100%\"\n",
       "            height=\"500\"\n",
       "            src=\"./source-solution/02-basic-css/000-change-the-color-of-text.html\"\n",
       "            frameborder=\"0\"\n",
       "            allowfullscreen\n",
       "        ></iframe>\n",
       "        "
      ],
      "text/plain": [
       "<IPython.lib.display.IFrame at 0x17a821a3940>"
      ]
     },
     "execution_count": 30,
     "metadata": {},
     "output_type": "execute_result"
    }
   ],
   "source": [
    "IFrame('./source-solution/02-basic-css/000-change-the-color-of-text.html', '100%', 500)"
   ]
  },
  {
   "cell_type": "markdown",
   "metadata": {},
   "source": [
    "### Use CSS Selectors to Style Elements"
   ]
  },
  {
   "cell_type": "markdown",
   "metadata": {},
   "source": [
    "With CSS, there are hundreds of CSS properties that you can use to change the way an element looks on your page.\n",
    "\n",
    "When you entered `<h2 style=\"color: red;\">CatPhotoApp</h2>`, you were styling that individual `h2` element with inline CSS, which stands for Cascading Style Sheets.\n",
    "\n",
    "That's one way to specify the style of an element, but there's a better way to apply CSS.\n",
    "\n",
    "At the top of your code, create a `style` block like this:\n",
    "```HTML\n",
    "<style>\n",
    "</style>\n",
    "```\n",
    "Inside that style block, you can create a CSS selector for all `h2` elements. For example, if you wanted all `h2` elements to be red, you would add a style rule that looks like this:\n",
    "```HTML\n",
    "<style>\n",
    "  h2 {\n",
    "    color: red;\n",
    "  }\n",
    "</style>\n",
    "```\n",
    "Note that it's important to have both opening and closing curly braces (`{` and `}`) around each element's style rule(s). You also need to make sure that your element's style definition is between the opening and closing style tags. Finally, be sure to add a semicolon to the end of each of your element's style rules.\n",
    "\n",
    "---\n",
    "Delete your `h2` element's style attribute, and instead create a CSS `style` block. Add the necessary CSS to turn all `h2` elements blue."
   ]
  },
  {
   "cell_type": "markdown",
   "metadata": {
    "scrolled": true
   },
   "source": [
    "```HTML\n",
    "<style>\n",
    "\th2 {\n",
    "\t\tb color: blue;\n",
    "\t}\n",
    "</style>\n",
    "<h2>CatPhotoApp</h2>\n",
    "<main>\n",
    "\t<p>Click here to view more <a href=\"#\">cat photos</a>.</p>\n",
    "\t<a href=\"#\"><img src=\"https://bit.ly/fcc-relaxing-cat\" alt=\"A cute orange cat lying on its back.\"></a>\n",
    "\t<div>\n",
    "\t\t<p>Things cats love:</p>\n",
    "\t\t<ul>\n",
    "\t\t\t<li>cat nip</li>\n",
    "\t\t\t<li>laser pointers</li>\n",
    "\t\t\t<li>lasagna</li>\n",
    "\t\t</ul>\n",
    "\t\t<p>Top 3 things cats hate:</p>\n",
    "\t\t<ol>\n",
    "\t\t\t<li>flea treatment</li>\n",
    "\t\t\t<li>thunder</li>\n",
    "\t\t\t<li>other cats</li>\n",
    "\t\t</ol>\n",
    "\t</div>\n",
    "\t<form action=\"/submit-cat-photo\">\n",
    "\t\t<label>\n",
    "\t\t\t<input type=\"radio\" name=\"indoor-outdoor\" checked> Indoor</label>\n",
    "\t\t<label>\n",
    "\t\t\t<input type=\"radio\" name=\"indoor-outdoor\"> Outdoor</label>\n",
    "\t\t<br>\n",
    "\t\t<label>\n",
    "\t\t\t<input type=\"checkbox\" name=\"personality\" checked> Loving</label>\n",
    "\t\t<label>\n",
    "\t\t\t<input type=\"checkbox\" name=\"personality\"> Lazy</label>\n",
    "\t\t<label>\n",
    "\t\t\t<input type=\"checkbox\" name=\"personality\"> Energetic</label>\n",
    "\t\t<br>\n",
    "\t\t<input type=\"text\" placeholder=\"cat photo URL\" required>\n",
    "\t\t<button type=\"submit\">Submit</button>\n",
    "\t</form>\n",
    "</main>\n",
    "```"
   ]
  },
  {
   "cell_type": "code",
   "execution_count": 31,
   "metadata": {},
   "outputs": [
    {
     "data": {
      "text/html": [
       "\n",
       "        <iframe\n",
       "            width=\"100%\"\n",
       "            height=\"500\"\n",
       "            src=\"./source-solution/02-basic-css/001-use-css-selectors-to-style-elements.html\"\n",
       "            frameborder=\"0\"\n",
       "            allowfullscreen\n",
       "        ></iframe>\n",
       "        "
      ],
      "text/plain": [
       "<IPython.lib.display.IFrame at 0x17a821bd080>"
      ]
     },
     "execution_count": 31,
     "metadata": {},
     "output_type": "execute_result"
    }
   ],
   "source": [
    "IFrame('./source-solution/02-basic-css/001-use-css-selectors-to-style-elements.html', '100%', 500)"
   ]
  },
  {
   "cell_type": "markdown",
   "metadata": {},
   "source": [
    "### Use a CSS Class to Style an Element"
   ]
  },
  {
   "cell_type": "markdown",
   "metadata": {},
   "source": [
    "Classes are reusable styles that can be added to HTML elements.\n",
    "\n",
    "Here's an example CSS class declaration:\n",
    "```HTML\n",
    "<style>\n",
    "  .blue-text {\n",
    "    color: blue;\n",
    "  }\n",
    "</style>\n",
    "```\n",
    "You can see that we've created a CSS class called `blue-text` within the \" `<style>` tag. You can apply a class to an HTML element like this: `<h2 class=\"blue-text\">CatPhotoApp</h2>` Note that in your CSS `style` element, class names start with a period. In your HTML elements' class attribute, the class name does not include the period.\n",
    "\n",
    "---\n",
    "Inside your `style` element, change the `h2` selector to `.red-text` and update the color's value from `blue` to `red`.\n",
    "\n",
    "Give your `h2` element the class attribute with a value of `'red-text'`."
   ]
  },
  {
   "cell_type": "markdown",
   "metadata": {
    "scrolled": false
   },
   "source": [
    "```HTML\n",
    "<style>\n",
    "\th2 {\n",
    "\t\tcolor: blue;\n",
    "\t}\n",
    "\t\n",
    "\t.red-text {\n",
    "\t\tcolor: red;\n",
    "\t}\n",
    "</style>\n",
    "\n",
    "<h2 class=\"red-text\">CatPhotoApp</h2>\n",
    "<main>\n",
    "\t<p>Click here to view more <a href=\"#\">cat photos</a>.</p>\n",
    "\n",
    "\t<a href=\"#\"><img src=\"https://bit.ly/fcc-relaxing-cat\" alt=\"A cute orange cat lying on its back.\"></a>\n",
    "\n",
    "\t<div>\n",
    "\t\t<p>Things cats love:</p>\n",
    "\t\t<ul>\n",
    "\t\t\t<li>cat nip</li>\n",
    "\t\t\t<li>laser pointers</li>\n",
    "\t\t\t<li>lasagna</li>\n",
    "\t\t</ul>\n",
    "\t\t<p>Top 3 things cats hate:</p>\n",
    "\t\t<ol>\n",
    "\t\t\t<li>flea treatment</li>\n",
    "\t\t\t<li>thunder</li>\n",
    "\t\t\t<li>other cats</li>\n",
    "\t\t</ol>\n",
    "\t</div>\n",
    "\n",
    "\t<form action=\"/submit-cat-photo\">\n",
    "\t\t<label>\n",
    "\t\t\t<input type=\"radio\" name=\"indoor-outdoor\" checked> Indoor</label>\n",
    "\t\t<label>\n",
    "\t\t\t<input type=\"radio\" name=\"indoor-outdoor\"> Outdoor</label>\n",
    "\t\t<br>\n",
    "\t\t<label>\n",
    "\t\t\t<input type=\"checkbox\" name=\"personality\" checked> Loving</label>\n",
    "\t\t<label>\n",
    "\t\t\t<input type=\"checkbox\" name=\"personality\"> Lazy</label>\n",
    "\t\t<label>\n",
    "\t\t\t<input type=\"checkbox\" name=\"personality\"> Energetic</label>\n",
    "\t\t<br>\n",
    "\t\t<input type=\"text\" placeholder=\"cat photo URL\" required>\n",
    "\t\t<button type=\"submit\">Submit</button>\n",
    "\t</form>\n",
    "</main>\n",
    "```"
   ]
  },
  {
   "cell_type": "code",
   "execution_count": 32,
   "metadata": {},
   "outputs": [
    {
     "data": {
      "text/html": [
       "\n",
       "        <iframe\n",
       "            width=\"100%\"\n",
       "            height=\"500\"\n",
       "            src=\"./source-solution/02-basic-css/002-use-a-css-class-to-style-an-element.html\"\n",
       "            frameborder=\"0\"\n",
       "            allowfullscreen\n",
       "        ></iframe>\n",
       "        "
      ],
      "text/plain": [
       "<IPython.lib.display.IFrame at 0x17a821bd198>"
      ]
     },
     "execution_count": 32,
     "metadata": {},
     "output_type": "execute_result"
    }
   ],
   "source": [
    "IFrame('./source-solution/02-basic-css/002-use-a-css-class-to-style-an-element.html', '100%', 500)"
   ]
  },
  {
   "cell_type": "markdown",
   "metadata": {},
   "source": [
    "### Style Multiple Elements with a CSS Class"
   ]
  },
  {
   "cell_type": "markdown",
   "metadata": {},
   "source": [
    "Classes allow you to use the same CSS styles on multiple HTML elements. You can see this by applying your `red-text` class to the first `p` element."
   ]
  },
  {
   "cell_type": "markdown",
   "metadata": {},
   "source": [
    "```HTML\n",
    "<style>\n",
    "\t.red-text {\n",
    "\t\tcolor: red;\n",
    "\t}\n",
    "</style>\n",
    "\n",
    "<h2 class=\"red-text\">CatPhotoApp</h2>\n",
    "<main>\n",
    "\t<p class=\"red-text\">Click here to view more <a href=\"#\">cat photos</a>.</p>\n",
    "\n",
    "\t<a href=\"#\"><img src=\"https://bit.ly/fcc-relaxing-cat\" alt=\"A cute orange cat lying on its back.\"></a>\n",
    "\n",
    "\t<div>\n",
    "\t\t<p>Things cats love:</p>\n",
    "\t\t<ul>\n",
    "\t\t\t<li>cat nip</li>\n",
    "\t\t\t<li>laser pointers</li>\n",
    "\t\t\t<li>lasagna</li>\n",
    "\t\t</ul>\n",
    "\t\t<p>Top 3 things cats hate:</p>\n",
    "\t\t<ol>\n",
    "\t\t\t<li>flea treatment</li>\n",
    "\t\t\t<li>thunder</li>\n",
    "\t\t\t<li>other cats</li>\n",
    "\t\t</ol>\n",
    "\t</div>\n",
    "\n",
    "\t<form action=\"/submit-cat-photo\">\n",
    "\t\t<label>\n",
    "\t\t\t<input type=\"radio\" name=\"indoor-outdoor\" checked> Indoor</label>\n",
    "\t\t<label>\n",
    "\t\t\t<input type=\"radio\" name=\"indoor-outdoor\"> Outdoor</label>\n",
    "\t\t<br>\n",
    "\t\t<label>\n",
    "\t\t\t<input type=\"checkbox\" name=\"personality\" checked> Loving</label>\n",
    "\t\t<label>\n",
    "\t\t\t<input type=\"checkbox\" name=\"personality\"> Lazy</label>\n",
    "\t\t<label>\n",
    "\t\t\t<input type=\"checkbox\" name=\"personality\"> Energetic</label>\n",
    "\t\t<br>\n",
    "\t\t<input type=\"text\" placeholder=\"cat photo URL\" required>\n",
    "\t\t<button type=\"submit\">Submit</button>\n",
    "\t</form>\n",
    "</main>\n",
    "```"
   ]
  },
  {
   "cell_type": "code",
   "execution_count": 33,
   "metadata": {},
   "outputs": [
    {
     "data": {
      "text/html": [
       "\n",
       "        <iframe\n",
       "            width=\"100%\"\n",
       "            height=\"500\"\n",
       "            src=\"./source-solution/02-basic-css/003-style-multiple-elements-with-a-css-class.html\"\n",
       "            frameborder=\"0\"\n",
       "            allowfullscreen\n",
       "        ></iframe>\n",
       "        "
      ],
      "text/plain": [
       "<IPython.lib.display.IFrame at 0x17a821bd390>"
      ]
     },
     "execution_count": 33,
     "metadata": {},
     "output_type": "execute_result"
    }
   ],
   "source": [
    "IFrame('./source-solution/02-basic-css/003-style-multiple-elements-with-a-css-class.html', '100%', 500)"
   ]
  },
  {
   "cell_type": "markdown",
   "metadata": {},
   "source": [
    "### Change the Font Size of an Element"
   ]
  },
  {
   "cell_type": "markdown",
   "metadata": {},
   "source": [
    "Font size is controlled by the `font-size` CSS property, like this:\n",
    "\n",
    "```CSS\n",
    "h1 {\n",
    "  font-size: 30px;\n",
    "}\n",
    "```\n",
    "\n",
    "---\n",
    "Inside the same `<style>` tag that contains your `red-text` class, create an entry for `p` elements and set the `font-size` to 16 pixels (`16px`)."
   ]
  },
  {
   "cell_type": "markdown",
   "metadata": {},
   "source": [
    "```HTML\n",
    "<html>\n",
    "<style>\n",
    "\t.red-text {\n",
    "\t\tcolor: red;\n",
    "\t}\n",
    "\t\n",
    "\tp {\n",
    "\t\tfont-size: 16px;\n",
    "\t}\n",
    "</style>\n",
    "\n",
    "<h2 class=\"red-text\">CatPhotoApp</h2>\n",
    "<main>\n",
    "\t<p class=\"red-text\">Click here to view more <a href=\"#\">cat photos</a>.</p>\n",
    "\n",
    "\t<a href=\"#\"><img src=\"https://bit.ly/fcc-relaxing-cat\" alt=\"A cute orange cat lying on its back.\"></a>\n",
    "\n",
    "\t<div>\n",
    "\t\t<p>Things cats love:</p>\n",
    "\t\t<ul>\n",
    "\t\t\t<li>cat nip</li>\n",
    "\t\t\t<li>laser pointers</li>\n",
    "\t\t\t<li>lasagna</li>\n",
    "\t\t</ul>\n",
    "\t\t<p>Top 3 things cats hate:</p>\n",
    "\t\t<ol>\n",
    "\t\t\t<li>flea treatment</li>\n",
    "\t\t\t<li>thunder</li>\n",
    "\t\t\t<li>other cats</li>\n",
    "\t\t</ol>\n",
    "\t</div>\n",
    "\n",
    "\t<form action=\"/submit-cat-photo\">\n",
    "\t\t<label>\n",
    "\t\t\t<input type=\"radio\" name=\"indoor-outdoor\" checked> Indoor</label>\n",
    "\t\t<label>\n",
    "\t\t\t<input type=\"radio\" name=\"indoor-outdoor\"> Outdoor</label>\n",
    "\t\t<br>\n",
    "\t\t<label>\n",
    "\t\t\t<input type=\"checkbox\" name=\"personality\" checked> Loving</label>\n",
    "\t\t<label>\n",
    "\t\t\t<input type=\"checkbox\" name=\"personality\"> Lazy</label>\n",
    "\t\t<label>\n",
    "\t\t\t<input type=\"checkbox\" name=\"personality\"> Energetic</label>\n",
    "\t\t<br>\n",
    "\t\t<input type=\"text\" placeholder=\"cat photo URL\" required>\n",
    "\t\t<button type=\"submit\">Submit</button>\n",
    "\t</form>\n",
    "</main>\n",
    "\n",
    "</html>\n",
    "```"
   ]
  },
  {
   "cell_type": "code",
   "execution_count": 34,
   "metadata": {},
   "outputs": [
    {
     "data": {
      "text/html": [
       "\n",
       "        <iframe\n",
       "            width=\"100%\"\n",
       "            height=\"500\"\n",
       "            src=\"./source-solution/02-basic-css/004-change-the-font-size-of-an-element.html\"\n",
       "            frameborder=\"0\"\n",
       "            allowfullscreen\n",
       "        ></iframe>\n",
       "        "
      ],
      "text/plain": [
       "<IPython.lib.display.IFrame at 0x17a821bd6a0>"
      ]
     },
     "execution_count": 34,
     "metadata": {},
     "output_type": "execute_result"
    }
   ],
   "source": [
    "IFrame('./source-solution/02-basic-css/004-change-the-font-size-of-an-element.html', '100%', 500)"
   ]
  },
  {
   "cell_type": "markdown",
   "metadata": {},
   "source": [
    "### Set the Font Family of an Element"
   ]
  },
  {
   "cell_type": "markdown",
   "metadata": {},
   "source": [
    "In addition to classes, each HTML element can also have an `id` attribute.\n",
    "\n",
    "There are several benefits to using `id` attributes: You can use an id to style a single element and later you'll learn that you can use them to select and modify specific elements with JavaScript.\n",
    "\n",
    "`id` attributes should be unique. Browsers won't enforce this, but it is a widely agreed upon best practice. So please don't give more than one element the same `id` attribute.\n",
    "\n",
    "Here's an example of how you give your `h2` element the id of `cat-photo-app`:\n",
    "\n",
    "`<h2 id=\"cat-photo-app\">`\n",
    "\n",
    "---\n",
    "Give your `form` element the id `cat-photo-form`."
   ]
  },
  {
   "cell_type": "markdown",
   "metadata": {},
   "source": [
    "```HTML\n",
    "<style>\n",
    "\t.red-text {\n",
    "\t\tcolor: red;\n",
    "\t}\n",
    "\t\n",
    "\tp {\n",
    "\t\tfont-size: 16px;\n",
    "\t\tfont-family: monospace;\n",
    "\t}\n",
    "</style>\n",
    "\n",
    "<h2 class=\"red-text\">CatPhotoApp</h2>\n",
    "<main>\n",
    "\t<p class=\"red-text\">Click here to view more <a href=\"#\">cat photos</a>.</p>\n",
    "\n",
    "\t<a href=\"#\"><img src=\"https://bit.ly/fcc-relaxing-cat\" alt=\"A cute orange cat lying on its back.\"></a>\n",
    "\n",
    "\t<div>\n",
    "\t\t<p>Things cats love:</p>\n",
    "\t\t<ul>\n",
    "\t\t\t<li>cat nip</li>\n",
    "\t\t\t<li>laser pointers</li>\n",
    "\t\t\t<li>lasagna</li>\n",
    "\t\t</ul>\n",
    "\t\t<p>Top 3 things cats hate:</p>\n",
    "\t\t<ol>\n",
    "\t\t\t<li>flea treatment</li>\n",
    "\t\t\t<li>thunder</li>\n",
    "\t\t\t<li>other cats</li>\n",
    "\t\t</ol>\n",
    "\t</div>\n",
    "\n",
    "\t<form action=\"/submit-cat-photo\">\n",
    "\t\t<label>\n",
    "\t\t\t<input type=\"radio\" name=\"indoor-outdoor\" checked> Indoor</label>\n",
    "\t\t<label>\n",
    "\t\t\t<input type=\"radio\" name=\"indoor-outdoor\"> Outdoor</label>\n",
    "\t\t<br>\n",
    "\t\t<label>\n",
    "\t\t\t<input type=\"checkbox\" name=\"personality\" checked> Loving</label>\n",
    "\t\t<label>\n",
    "\t\t\t<input type=\"checkbox\" name=\"personality\"> Lazy</label>\n",
    "\t\t<label>\n",
    "\t\t\t<input type=\"checkbox\" name=\"personality\"> Energetic</label>\n",
    "\t\t<br>\n",
    "\t\t<input type=\"text\" placeholder=\"cat photo URL\" required>\n",
    "\t\t<button type=\"submit\">Submit</button>\n",
    "\t</form>\n",
    "</main>\n",
    "```"
   ]
  },
  {
   "cell_type": "code",
   "execution_count": 35,
   "metadata": {},
   "outputs": [
    {
     "data": {
      "text/html": [
       "\n",
       "        <iframe\n",
       "            width=\"100%\"\n",
       "            height=\"500\"\n",
       "            src=\"./source-solution/02-basic-css/005-set-the-font-family-of-an-element.html\"\n",
       "            frameborder=\"0\"\n",
       "            allowfullscreen\n",
       "        ></iframe>\n",
       "        "
      ],
      "text/plain": [
       "<IPython.lib.display.IFrame at 0x17a821bd9e8>"
      ]
     },
     "execution_count": 35,
     "metadata": {},
     "output_type": "execute_result"
    }
   ],
   "source": [
    "IFrame('./source-solution/02-basic-css/005-set-the-font-family-of-an-element.html', '100%', 500)"
   ]
  },
  {
   "cell_type": "markdown",
   "metadata": {},
   "source": [
    "### Import a Google Font"
   ]
  },
  {
   "cell_type": "markdown",
   "metadata": {},
   "source": [
    "In addition to specifying common fonts that are found on most operating systems, we can also specify non-standard, custom web fonts for use on our website. There are many sources for web fonts on the Internet. For this example we will focus on the Google Fonts library.\n",
    "\n",
    "[Google Fonts](https://fonts.google.com/) is a free library of web fonts that you can use in your CSS by referencing the font's URL.\n",
    "\n",
    "So, let's go ahead and import and apply a Google font (note that if Google is blocked in your country, you will need to skip this challenge).\n",
    "\n",
    "To import a Google Font, you can copy the font(s) URL from the Google Fonts library and then paste it in your HTML. For this challenge, we'll import the `Lobster` font. To do this, copy the following code snippet and paste it into the top of your code editor (before the opening `style` element):\n",
    "\n",
    "`<link href=\"https://fonts.googleapis.com/css?family=Lobster\" rel=\"stylesheet\" type=\"text/css\">`\n",
    "\n",
    "Now you can use the `Lobster` font in your CSS by using `Lobster` as the FAMILY_NAME as in the following example:\n",
    "`font-family: FAMILY_NAME, GENERIC_NAME;`.\n",
    "\n",
    "The GENERIC_NAME is optional, and is a fallback font in case the other specified font is not available. This is covered in the next challenge.\n",
    "\n",
    "Family names are case-sensitive and need to be wrapped in quotes if there is a space in the name. For example, you need quotes to use the `\"Open Sans\"` font, but not to use the `Lobster` font.\n",
    "\n",
    "---\n",
    "Create a `font-family` CSS rule that uses the `Lobster` font, and ensure that it will be applied to your `h2` element."
   ]
  },
  {
   "cell_type": "markdown",
   "metadata": {},
   "source": [
    "```HTML\n",
    "<link href=\"https://fonts.googleapis.com/css?family=Lobster\" rel=\"stylesheet\" type=\"text/css\">\n",
    "\n",
    "<style>\n",
    "\t.red-text {\n",
    "\t\tcolor: red;\n",
    "\t}\n",
    "\t\n",
    "\tp {\n",
    "\t\tfont-size: 16px;\n",
    "\t\tfont-family: monospace;\n",
    "\t}\n",
    "\t\n",
    "\th2 {\n",
    "\t\tfont-family: Lobster;\n",
    "\t}\n",
    "</style>\n",
    "\n",
    "<h2 class=\"red-text\">CatPhotoApp</h2>\n",
    "<main>\n",
    "\t<p class=\"red-text\">Click here to view more <a href=\"#\">cat photos</a>.</p>\n",
    "\n",
    "\t<a href=\"#\"><img src=\"https://bit.ly/fcc-relaxing-cat\" alt=\"A cute orange cat lying on its back.\"></a>\n",
    "\n",
    "\t<div>\n",
    "\t\t<p>Things cats love:</p>\n",
    "\t\t<ul>\n",
    "\t\t\t<li>cat nip</li>\n",
    "\t\t\t<li>laser pointers</li>\n",
    "\t\t\t<li>lasagna</li>\n",
    "\t\t</ul>\n",
    "\t\t<p>Top 3 things cats hate:</p>\n",
    "\t\t<ol>\n",
    "\t\t\t<li>flea treatment</li>\n",
    "\t\t\t<li>thunder</li>\n",
    "\t\t\t<li>other cats</li>\n",
    "\t\t</ol>\n",
    "\t</div>\n",
    "\n",
    "\t<form action=\"/submit-cat-photo\">\n",
    "\t\t<label>\n",
    "\t\t\t<input type=\"radio\" name=\"indoor-outdoor\" checked> Indoor</label>\n",
    "\t\t<label>\n",
    "\t\t\t<input type=\"radio\" name=\"indoor-outdoor\"> Outdoor</label>\n",
    "\t\t<br>\n",
    "\t\t<label>\n",
    "\t\t\t<input type=\"checkbox\" name=\"personality\" checked> Loving</label>\n",
    "\t\t<label>\n",
    "\t\t\t<input type=\"checkbox\" name=\"personality\"> Lazy</label>\n",
    "\t\t<label>\n",
    "\t\t\t<input type=\"checkbox\" name=\"personality\"> Energetic</label>\n",
    "\t\t<br>\n",
    "\t\t<input type=\"text\" placeholder=\"cat photo URL\" required>\n",
    "\t\t<button type=\"submit\">Submit</button>\n",
    "\t</form>\n",
    "</main>\n",
    "```"
   ]
  },
  {
   "cell_type": "code",
   "execution_count": 36,
   "metadata": {
    "scrolled": true
   },
   "outputs": [
    {
     "data": {
      "text/html": [
       "\n",
       "        <iframe\n",
       "            width=\"100%\"\n",
       "            height=\"500\"\n",
       "            src=\"./source-solution/02-basic-css/006-import-a-google-font.html\"\n",
       "            frameborder=\"0\"\n",
       "            allowfullscreen\n",
       "        ></iframe>\n",
       "        "
      ],
      "text/plain": [
       "<IPython.lib.display.IFrame at 0x17a821bdc88>"
      ]
     },
     "execution_count": 36,
     "metadata": {},
     "output_type": "execute_result"
    }
   ],
   "source": [
    "IFrame('./source-solution/02-basic-css/006-import-a-google-font.html', '100%', 500)"
   ]
  },
  {
   "cell_type": "markdown",
   "metadata": {},
   "source": [
    "### Specify How Fonts Should Degrade"
   ]
  },
  {
   "cell_type": "markdown",
   "metadata": {},
   "source": [
    "There are several default fonts that are available in all browsers. These generic font families include `monospace`, `serif` and `sans-serif`\n",
    "\n",
    "When one font isn't available, you can tell the browser to \"degrade\" to another font.\n",
    "\n",
    "For example, if you wanted an element to use the `Helvetica` font, but degrade to the `sans-serif` font when `Helvetica` isn't available, you will specify it as follows:\n",
    "\n",
    "```CSS\n",
    "p {\n",
    "  font-family: Helvetica, sans-serif;\n",
    "}\n",
    "```\n",
    "Generic font family names are not case-sensitive. Also, they do not need quotes because they are CSS keywords.\n",
    "\n",
    "---\n",
    "To begin, apply the `monospace` font to the `h2` element, so that it now has two fonts - `Lobster` and `monospace`.\n",
    "\n",
    "In the last challenge, you imported the `Lobster` font using the `link` tag. Now comment out that import of the `Lobster` font (using the HTML comments you learned before) from Google Fonts so that it isn't available anymore. Notice how your `h2` element degrades to the `monospace` font.\n",
    "\n",
    "**Note**: If you have the Lobster font installed on your computer, you won't see the degradation because your browser is able to find the font."
   ]
  },
  {
   "cell_type": "markdown",
   "metadata": {},
   "source": [
    "```HTML\n",
    "<!-- <link href=\"https://fonts.googleapis.com/css?family=Lobster\" rel=\"stylesheet\" type=\"text/css\"> -->\n",
    "<style>\n",
    "\t.red-text {\n",
    "\t\tcolor: red;\n",
    "\t}\n",
    "\t\n",
    "\th2 {\n",
    "\t\tfont-family: Lobster, monospace;\n",
    "\t}\n",
    "\t\n",
    "\tp {\n",
    "\t\tfont-size: 16px;\n",
    "\t\tfont-family: monospace;\n",
    "\t}\n",
    "</style>\n",
    "\n",
    "<h2 class=\"red-text\">CatPhotoApp</h2>\n",
    "<main>\n",
    "\t<p class=\"red-text\">Click here to view more <a href=\"#\">cat photos</a>.</p>\n",
    "\n",
    "\t<a href=\"#\"><img src=\"https://bit.ly/fcc-relaxing-cat\" alt=\"A cute orange cat lying on its back.\"></a>\n",
    "\n",
    "\t<div>\n",
    "\t\t<p>Things cats love:</p>\n",
    "\t\t<ul>\n",
    "\t\t\t<li>cat nip</li>\n",
    "\t\t\t<li>laser pointers</li>\n",
    "\t\t\t<li>lasagna</li>\n",
    "\t\t</ul>\n",
    "\t\t<p>Top 3 things cats hate:</p>\n",
    "\t\t<ol>\n",
    "\t\t\t<li>flea treatment</li>\n",
    "\t\t\t<li>thunder</li>\n",
    "\t\t\t<li>other cats</li>\n",
    "\t\t</ol>\n",
    "\t</div>\n",
    "\n",
    "\t<form action=\"/submit-cat-photo\">\n",
    "\t\t<label>\n",
    "\t\t\t<input type=\"radio\" name=\"indoor-outdoor\" checked> Indoor</label>\n",
    "\t\t<label>\n",
    "\t\t\t<input type=\"radio\" name=\"indoor-outdoor\"> Outdoor</label>\n",
    "\t\t<br>\n",
    "\t\t<label>\n",
    "\t\t\t<input type=\"checkbox\" name=\"personality\" checked> Loving</label>\n",
    "\t\t<label>\n",
    "\t\t\t<input type=\"checkbox\" name=\"personality\"> Lazy</label>\n",
    "\t\t<label>\n",
    "\t\t\t<input type=\"checkbox\" name=\"personality\"> Energetic</label>\n",
    "\t\t<br>\n",
    "\t\t<input type=\"text\" placeholder=\"cat photo URL\" required>\n",
    "\t\t<button type=\"submit\">Submit</button>\n",
    "\t</form>\n",
    "</main>\n",
    "```"
   ]
  },
  {
   "cell_type": "code",
   "execution_count": 37,
   "metadata": {},
   "outputs": [
    {
     "data": {
      "text/html": [
       "\n",
       "        <iframe\n",
       "            width=\"100%\"\n",
       "            height=\"500\"\n",
       "            src=\"./source-solution/02-basic-css/007-specify-how-fonts-should-degrade.html\"\n",
       "            frameborder=\"0\"\n",
       "            allowfullscreen\n",
       "        ></iframe>\n",
       "        "
      ],
      "text/plain": [
       "<IPython.lib.display.IFrame at 0x17a821bdf98>"
      ]
     },
     "execution_count": 37,
     "metadata": {},
     "output_type": "execute_result"
    }
   ],
   "source": [
    "IFrame('./source-solution/02-basic-css/007-specify-how-fonts-should-degrade.html', '100%', 500)"
   ]
  },
  {
   "cell_type": "markdown",
   "metadata": {},
   "source": [
    "### Size Your Images"
   ]
  },
  {
   "cell_type": "markdown",
   "metadata": {},
   "source": [
    "CSS has a property called width that controls an element's `width`. Just like with fonts, we'll use `px` (pixels) to specify the image's width.\n",
    "\n",
    "For example, if we wanted to create a CSS class called `larger-image` that gave HTML elements a width of 500 pixels, we'd use:\n",
    "\n",
    "```HTML\n",
    "<style>\n",
    "  .larger-image {\n",
    "    width: 500px;\n",
    "  }\n",
    "</style>\n",
    "```\n",
    "\n",
    "---\n",
    "Create a class called `smaller-image` and use it to resize the image so that it's only 100 pixels wide.\n",
    "\n",
    "**Note**: Due to browser implementation differences, you may need to be at 100% zoom to pass the tests on this challenge."
   ]
  },
  {
   "cell_type": "markdown",
   "metadata": {},
   "source": [
    "```HTML\n",
    "<link href=\"https://fonts.googleapis.com/css?family=Lobster\" rel=\"stylesheet\" type=\"text/css\">\n",
    "<style>\n",
    "\t.red-text {\n",
    "\t\tcolor: red;\n",
    "\t}\n",
    "\t\n",
    "\th2 {\n",
    "\t\tfont-family: Lobster, monospace;\n",
    "\t}\n",
    "\t\n",
    "\tp {\n",
    "\t\tfont-size: 16px;\n",
    "\t\tfont-family: monospace;\n",
    "\t}\n",
    "\t\n",
    "\t.smaller-image {\n",
    "\t\twidth: 100px;\n",
    "\t}\n",
    "</style>\n",
    "\n",
    "<h2 class=\"red-text\">CatPhotoApp</h2>\n",
    "<main>\n",
    "\t<p class=\"red-text\">Click here to view more <a href=\"#\">cat photos</a>.</p>\n",
    "\n",
    "\t<a href=\"#\"><img class=\"smaller-image\" src=\"https://bit.ly/fcc-relaxing-cat\" alt=\"A cute orange cat lying on its back.\"></a>\n",
    "\n",
    "\t<div>\n",
    "\t\t<p>Things cats love:</p>\n",
    "\t\t<ul>\n",
    "\t\t\t<li>cat nip</li>\n",
    "\t\t\t<li>laser pointers</li>\n",
    "\t\t\t<li>lasagna</li>\n",
    "\t\t</ul>\n",
    "\t\t<p>Top 3 things cats hate:</p>\n",
    "\t\t<ol>\n",
    "\t\t\t<li>flea treatment</li>\n",
    "\t\t\t<li>thunder</li>\n",
    "\t\t\t<li>other cats</li>\n",
    "\t\t</ol>\n",
    "\t</div>\n",
    "\n",
    "\t<form action=\"/submit-cat-photo\">\n",
    "\t\t<label>\n",
    "\t\t\t<input type=\"radio\" name=\"indoor-outdoor\" checked> Indoor</label>\n",
    "\t\t<label>\n",
    "\t\t\t<input type=\"radio\" name=\"indoor-outdoor\"> Outdoor</label>\n",
    "\t\t<br>\n",
    "\t\t<label>\n",
    "\t\t\t<input type=\"checkbox\" name=\"personality\" checked> Loving</label>\n",
    "\t\t<label>\n",
    "\t\t\t<input type=\"checkbox\" name=\"personality\"> Lazy</label>\n",
    "\t\t<label>\n",
    "\t\t\t<input type=\"checkbox\" name=\"personality\"> Energetic</label>\n",
    "\t\t<br>\n",
    "\t\t<input type=\"text\" placeholder=\"cat photo URL\" required>\n",
    "\t\t<button type=\"submit\">Submit</button>\n",
    "\t</form>\n",
    "</main>\n",
    "```"
   ]
  },
  {
   "cell_type": "code",
   "execution_count": 38,
   "metadata": {},
   "outputs": [
    {
     "data": {
      "text/html": [
       "\n",
       "        <iframe\n",
       "            width=\"100%\"\n",
       "            height=\"500\"\n",
       "            src=\"./source-solution/02-basic-css/008-size-your-images.html\"\n",
       "            frameborder=\"0\"\n",
       "            allowfullscreen\n",
       "        ></iframe>\n",
       "        "
      ],
      "text/plain": [
       "<IPython.lib.display.IFrame at 0x17a821c4400>"
      ]
     },
     "execution_count": 38,
     "metadata": {},
     "output_type": "execute_result"
    }
   ],
   "source": [
    "IFrame('./source-solution/02-basic-css/008-size-your-images.html', '100%', 500)"
   ]
  },
  {
   "cell_type": "markdown",
   "metadata": {},
   "source": [
    "### Add Borders Around Your Elements"
   ]
  },
  {
   "cell_type": "markdown",
   "metadata": {},
   "source": [
    "CSS borders have properties like `style`, `color` and `width`.\n",
    "\n",
    "For example, if we wanted to create a red, 5 pixel border around an HTML element, we could use this class:\n",
    "\n",
    "```HTML\n",
    "<style>\n",
    "  .thin-red-border {\n",
    "    border-color: red;\n",
    "    border-width: 5px;\n",
    "    border-style: solid;\n",
    "  }\n",
    "</style>\n",
    "```\n",
    "\n",
    "---\n",
    "Create a class called `thick-green-border`. This class should add a 10px, solid, green border around an HTML element. Apply the `class` to your cat photo.\n",
    "\n",
    "Remember that you can apply multiple classes to an element using its `class` attribute, by separating each class name with a space. For example:\n",
    "\n",
    "`<img class=\"class1 class2\">`"
   ]
  },
  {
   "cell_type": "markdown",
   "metadata": {},
   "source": [
    "```HTML\n",
    "<link href=\"https://fonts.googleapis.com/css?family=Lobster\" rel=\"stylesheet\" type=\"text/css\">\n",
    "<style>\n",
    "\t.red-text {\n",
    "\t\tcolor: red;\n",
    "\t}\n",
    "\t\n",
    "\th2 {\n",
    "\t\tfont-family: Lobster, monospace;\n",
    "\t}\n",
    "\t\n",
    "\tp {\n",
    "\t\tfont-size: 16px;\n",
    "\t\tfont-family: monospace;\n",
    "\t}\n",
    "\t\n",
    "\t.smaller-image {\n",
    "\t\twidth: 100px;\n",
    "\t}\n",
    "\t\n",
    "\t.thick-green-border {\n",
    "\t\tborder-color: green;\n",
    "\t\tborder-width: 10px;\n",
    "\t\tborder-style: solid;\n",
    "\t}\n",
    "</style>\n",
    "\n",
    "<h2 class=\"red-text\">CatPhotoApp</h2>\n",
    "<main>\n",
    "\t<p class=\"red-text\">Click here to view more <a href=\"#\">cat photos</a>.</p>\n",
    "\n",
    "\t<a href=\"#\"><img class=\"smaller-image thick-green-border\" src=\"https://bit.ly/fcc-relaxing-cat\" alt=\"A cute orange cat lying on its back.\"></a>\n",
    "\n",
    "\t<div>\n",
    "\t\t<p>Things cats love:</p>\n",
    "\t\t<ul>\n",
    "\t\t\t<li>cat nip</li>\n",
    "\t\t\t<li>laser pointers</li>\n",
    "\t\t\t<li>lasagna</li>\n",
    "\t\t</ul>\n",
    "\t\t<p>Top 3 things cats hate:</p>\n",
    "\t\t<ol>\n",
    "\t\t\t<li>flea treatment</li>\n",
    "\t\t\t<li>thunder</li>\n",
    "\t\t\t<li>other cats</li>\n",
    "\t\t</ol>\n",
    "\t</div>\n",
    "\n",
    "\t<form action=\"/submit-cat-photo\">\n",
    "\t\t<label>\n",
    "\t\t\t<input type=\"radio\" name=\"indoor-outdoor\" checked> Indoor</label>\n",
    "\t\t<label>\n",
    "\t\t\t<input type=\"radio\" name=\"indoor-outdoor\"> Outdoor</label>\n",
    "\t\t<br>\n",
    "\t\t<label>\n",
    "\t\t\t<input type=\"checkbox\" name=\"personality\" checked> Loving</label>\n",
    "\t\t<label>\n",
    "\t\t\t<input type=\"checkbox\" name=\"personality\"> Lazy</label>\n",
    "\t\t<label>\n",
    "\t\t\t<input type=\"checkbox\" name=\"personality\"> Energetic</label>\n",
    "\t\t<br>\n",
    "\t\t<input type=\"text\" placeholder=\"cat photo URL\" required>\n",
    "\t\t<button type=\"submit\">Submit</button>\n",
    "\t</form>\n",
    "</main>\n",
    "```"
   ]
  },
  {
   "cell_type": "code",
   "execution_count": 39,
   "metadata": {},
   "outputs": [
    {
     "data": {
      "text/html": [
       "\n",
       "        <iframe\n",
       "            width=\"100%\"\n",
       "            height=\"500\"\n",
       "            src=\"./source-solution/02-basic-css/009-add-borders-around-your-elements.html\"\n",
       "            frameborder=\"0\"\n",
       "            allowfullscreen\n",
       "        ></iframe>\n",
       "        "
      ],
      "text/plain": [
       "<IPython.lib.display.IFrame at 0x17a821c4780>"
      ]
     },
     "execution_count": 39,
     "metadata": {},
     "output_type": "execute_result"
    }
   ],
   "source": [
    "IFrame('./source-solution/02-basic-css/009-add-borders-around-your-elements.html', '100%', 500)"
   ]
  },
  {
   "cell_type": "markdown",
   "metadata": {},
   "source": [
    "### Add Rounded Corners with border-radius"
   ]
  },
  {
   "cell_type": "markdown",
   "metadata": {},
   "source": [
    "Your cat photo currently has sharp corners. We can round out those corners with a CSS property called `border-radius`.\n",
    "\n",
    "---\n",
    "You can specify a `border-radius` with pixels. Give your cat photo a `border-radius` of `10px`.\n",
    "\n",
    "**Note**: This challenge allows for multiple possible solutions. For example, you may add `border-radius` to either the `.thick-green-border` class or the `.smaller-image` class."
   ]
  },
  {
   "cell_type": "markdown",
   "metadata": {},
   "source": [
    "```HTML\n",
    "<link href=\"https://fonts.googleapis.com/css?family=Lobster\" rel=\"stylesheet\" type=\"text/css\">\n",
    "<style>\n",
    "\t.red-text {\n",
    "\t\tcolor: red;\n",
    "\t}\n",
    "\t\n",
    "\th2 {\n",
    "\t\tfont-family: Lobster, monospace;\n",
    "\t}\n",
    "\t\n",
    "\tp {\n",
    "\t\tfont-size: 16px;\n",
    "\t\tfont-family: monospace;\n",
    "\t}\n",
    "\t\n",
    "\t.thick-green-border {\n",
    "\t\tborder-color: green;\n",
    "\t\tborder-width: 10px;\n",
    "\t\tborder-style: solid;\n",
    "\t\tborder-radius: 10px;\n",
    "\t}\n",
    "\t\n",
    "\t.smaller-image {\n",
    "\t\twidth: 100px;\n",
    "\t}\n",
    "</style>\n",
    "\n",
    "<h2 class=\"red-text\">CatPhotoApp</h2>\n",
    "<main>\n",
    "\t<p class=\"red-text\">Click here to view more <a href=\"#\">cat photos</a>.</p>\n",
    "\n",
    "\t<a href=\"#\"><img class=\"smaller-image thick-green-border\" src=\"https://bit.ly/fcc-relaxing-cat\" alt=\"A cute orange cat lying on its back.\"></a>\n",
    "\n",
    "\t<div>\n",
    "\t\t<p>Things cats love:</p>\n",
    "\t\t<ul>\n",
    "\t\t\t<li>cat nip</li>\n",
    "\t\t\t<li>laser pointers</li>\n",
    "\t\t\t<li>lasagna</li>\n",
    "\t\t</ul>\n",
    "\t\t<p>Top 3 things cats hate:</p>\n",
    "\t\t<ol>\n",
    "\t\t\t<li>flea treatment</li>\n",
    "\t\t\t<li>thunder</li>\n",
    "\t\t\t<li>other cats</li>\n",
    "\t\t</ol>\n",
    "\t</div>\n",
    "\n",
    "\t<form action=\"/submit-cat-photo\">\n",
    "\t\t<label>\n",
    "\t\t\t<input type=\"radio\" name=\"indoor-outdoor\" checked> Indoor</label>\n",
    "\t\t<label>\n",
    "\t\t\t<input type=\"radio\" name=\"indoor-outdoor\"> Outdoor</label>\n",
    "\t\t<br>\n",
    "\t\t<label>\n",
    "\t\t\t<input type=\"checkbox\" name=\"personality\" checked> Loving</label>\n",
    "\t\t<label>\n",
    "\t\t\t<input type=\"checkbox\" name=\"personality\"> Lazy</label>\n",
    "\t\t<label>\n",
    "\t\t\t<input type=\"checkbox\" name=\"personality\"> Energetic</label>\n",
    "\t\t<br>\n",
    "\t\t<input type=\"text\" placeholder=\"cat photo URL\" required>\n",
    "\t\t<button type=\"submit\">Submit</button>\n",
    "\t</form>\n",
    "</main>\n",
    "```"
   ]
  },
  {
   "cell_type": "code",
   "execution_count": 40,
   "metadata": {},
   "outputs": [
    {
     "data": {
      "text/html": [
       "\n",
       "        <iframe\n",
       "            width=\"100%\"\n",
       "            height=\"500\"\n",
       "            src=\"./source-solution/02-basic-css/010-add-rounded-corners-with-border-radius.html\"\n",
       "            frameborder=\"0\"\n",
       "            allowfullscreen\n",
       "        ></iframe>\n",
       "        "
      ],
      "text/plain": [
       "<IPython.lib.display.IFrame at 0x17a821c49b0>"
      ]
     },
     "execution_count": 40,
     "metadata": {},
     "output_type": "execute_result"
    }
   ],
   "source": [
    "IFrame('./source-solution/02-basic-css/010-add-rounded-corners-with-border-radius.html', '100%', 500)"
   ]
  },
  {
   "cell_type": "markdown",
   "metadata": {},
   "source": [
    "### Make Circular Images with a border-radius"
   ]
  },
  {
   "cell_type": "markdown",
   "metadata": {},
   "source": [
    "In addition to pixels, you can also specify the `border-radius` using a percentage.\n",
    "\n",
    "---\n",
    "Give your cat photo a `border-radius` of `50%`."
   ]
  },
  {
   "cell_type": "markdown",
   "metadata": {},
   "source": [
    "```HTML\n",
    "<link href=\"https://fonts.googleapis.com/css?family=Lobster\" rel=\"stylesheet\" type=\"text/css\">\n",
    "<style>\n",
    "\t.red-text {\n",
    "\t\tcolor: red;\n",
    "\t}\n",
    "\t\n",
    "\th2 {\n",
    "\t\tfont-family: Lobster, monospace;\n",
    "\t}\n",
    "\t\n",
    "\tp {\n",
    "\t\tfont-size: 16px;\n",
    "\t\tfont-family: monospace;\n",
    "\t}\n",
    "\t\n",
    "\t.thick-green-border {\n",
    "\t\tborder-color: green;\n",
    "\t\tborder-width: 10px;\n",
    "\t\tborder-style: solid;\n",
    "\t\tborder-radius: 50%;\n",
    "\t}\n",
    "\t\n",
    "\t.smaller-image {\n",
    "\t\twidth: 100px;\n",
    "\t}\n",
    "</style>\n",
    "\n",
    "<h2 class=\"red-text\">CatPhotoApp</h2>\n",
    "<main>\n",
    "\t<p class=\"red-text\">Click here to view more <a href=\"#\">cat photos</a>.</p>\n",
    "\n",
    "\t<a href=\"#\"><img class=\"smaller-image thick-green-border\" src=\"https://bit.ly/fcc-relaxing-cat\" alt=\"A cute orange cat lying on its back.\"></a>\n",
    "\n",
    "\t<div>\n",
    "\t\t<p>Things cats love:</p>\n",
    "\t\t<ul>\n",
    "\t\t\t<li>cat nip</li>\n",
    "\t\t\t<li>laser pointers</li>\n",
    "\t\t\t<li>lasagna</li>\n",
    "\t\t</ul>\n",
    "\t\t<p>Top 3 things cats hate:</p>\n",
    "\t\t<ol>\n",
    "\t\t\t<li>flea treatment</li>\n",
    "\t\t\t<li>thunder</li>\n",
    "\t\t\t<li>other cats</li>\n",
    "\t\t</ol>\n",
    "\t</div>\n",
    "\n",
    "\t<form action=\"/submit-cat-photo\">\n",
    "\t\t<label>\n",
    "\t\t\t<input type=\"radio\" name=\"indoor-outdoor\" checked> Indoor</label>\n",
    "\t\t<label>\n",
    "\t\t\t<input type=\"radio\" name=\"indoor-outdoor\"> Outdoor</label>\n",
    "\t\t<br>\n",
    "\t\t<label>\n",
    "\t\t\t<input type=\"checkbox\" name=\"personality\" checked> Loving</label>\n",
    "\t\t<label>\n",
    "\t\t\t<input type=\"checkbox\" name=\"personality\"> Lazy</label>\n",
    "\t\t<label>\n",
    "\t\t\t<input type=\"checkbox\" name=\"personality\"> Energetic</label>\n",
    "\t\t<br>\n",
    "\t\t<input type=\"text\" placeholder=\"cat photo URL\" required>\n",
    "\t\t<button type=\"submit\">Submit</button>\n",
    "\t</form>\n",
    "</main>\n",
    "```"
   ]
  },
  {
   "cell_type": "code",
   "execution_count": 41,
   "metadata": {},
   "outputs": [
    {
     "data": {
      "text/html": [
       "\n",
       "        <iframe\n",
       "            width=\"100%\"\n",
       "            height=\"500\"\n",
       "            src=\"./source-solution/02-basic-css/011-make-circular-images-with-a-border-radius.html\"\n",
       "            frameborder=\"0\"\n",
       "            allowfullscreen\n",
       "        ></iframe>\n",
       "        "
      ],
      "text/plain": [
       "<IPython.lib.display.IFrame at 0x17a821c4e10>"
      ]
     },
     "execution_count": 41,
     "metadata": {},
     "output_type": "execute_result"
    }
   ],
   "source": [
    "IFrame('./source-solution/02-basic-css/011-make-circular-images-with-a-border-radius.html', '100%', 500)"
   ]
  },
  {
   "cell_type": "markdown",
   "metadata": {},
   "source": [
    "### Give a Background Color to a div Element"
   ]
  },
  {
   "cell_type": "markdown",
   "metadata": {},
   "source": [
    "You can set an element's background color with the `background-color` property.\n",
    "\n",
    "For example, if you wanted an element's background color to be `green`, you'd put this within your `style` element:\n",
    "\n",
    "```CSS\n",
    ".green-background {\n",
    "  background-color: green;\n",
    "}\n",
    "```\n",
    "\n",
    "---\n",
    "Create a class called `silver-background` with the `background-color` of silver. Assign this class to your `div` element."
   ]
  },
  {
   "cell_type": "markdown",
   "metadata": {},
   "source": [
    "```HTML\n",
    "<link href=\"https://fonts.googleapis.com/css?family=Lobster\" rel=\"stylesheet\" type=\"text/css\">\n",
    "<style>\n",
    "\t.red-text {\n",
    "\t\tcolor: red;\n",
    "\t}\n",
    "\t\n",
    "\th2 {\n",
    "\t\tfont-family: Lobster, monospace;\n",
    "\t}\n",
    "\t\n",
    "\tp {\n",
    "\t\tfont-size: 16px;\n",
    "\t\tfont-family: monospace;\n",
    "\t}\n",
    "\t\n",
    "\t.thick-green-border {\n",
    "\t\tborder-color: green;\n",
    "\t\tborder-width: 10px;\n",
    "\t\tborder-style: solid;\n",
    "\t\tborder-radius: 50%;\n",
    "\t}\n",
    "\t\n",
    "\t.smaller-image {\n",
    "\t\twidth: 100px;\n",
    "\t}\n",
    "\t\n",
    "\t.silver-background {\n",
    "\t\tbackground-color: silver;\n",
    "\t}\n",
    "</style>\n",
    "\n",
    "<h2 class=\"red-text\">CatPhotoApp</h2>\n",
    "<main>\n",
    "\t<p class=\"red-text\">Click here to view more <a href=\"#\">cat photos</a>.</p>\n",
    "\n",
    "\t<a href=\"#\"><img class=\"smaller-image thick-green-border\" src=\"https://bit.ly/fcc-relaxing-cat\" alt=\"A cute orange cat lying on its back.\"></a>\n",
    "\n",
    "\t<div class=\"silver-background\">\n",
    "\t\t<p>Things cats love:</p>\n",
    "\t\t<ul>\n",
    "\t\t\t<li>cat nip</li>\n",
    "\t\t\t<li>laser pointers</li>\n",
    "\t\t\t<li>lasagna</li>\n",
    "\t\t</ul>\n",
    "\t\t<p>Top 3 things cats hate:</p>\n",
    "\t\t<ol>\n",
    "\t\t\t<li>flea treatment</li>\n",
    "\t\t\t<li>thunder</li>\n",
    "\t\t\t<li>other cats</li>\n",
    "\t\t</ol>\n",
    "\t</div>\n",
    "\n",
    "\t<form action=\"/submit-cat-photo\">\n",
    "\t\t<label>\n",
    "\t\t\t<input type=\"radio\" name=\"indoor-outdoor\" checked> Indoor</label>\n",
    "\t\t<label>\n",
    "\t\t\t<input type=\"radio\" name=\"indoor-outdoor\"> Outdoor</label>\n",
    "\t\t<br>\n",
    "\t\t<label>\n",
    "\t\t\t<input type=\"checkbox\" name=\"personality\" checked> Loving</label>\n",
    "\t\t<label>\n",
    "\t\t\t<input type=\"checkbox\" name=\"personality\"> Lazy</label>\n",
    "\t\t<label>\n",
    "\t\t\t<input type=\"checkbox\" name=\"personality\"> Energetic</label>\n",
    "\t\t<br>\n",
    "\t\t<input type=\"text\" placeholder=\"cat photo URL\" required>\n",
    "\t\t<button type=\"submit\">Submit</button>\n",
    "\t</form>\n",
    "</main>\n",
    "```"
   ]
  },
  {
   "cell_type": "code",
   "execution_count": 42,
   "metadata": {},
   "outputs": [
    {
     "data": {
      "text/html": [
       "\n",
       "        <iframe\n",
       "            width=\"100%\"\n",
       "            height=\"500\"\n",
       "            src=\"./source-solution/02-basic-css/012-give-a-background-color-to-a-div-element.html\"\n",
       "            frameborder=\"0\"\n",
       "            allowfullscreen\n",
       "        ></iframe>\n",
       "        "
      ],
      "text/plain": [
       "<IPython.lib.display.IFrame at 0x17a821c90b8>"
      ]
     },
     "execution_count": 42,
     "metadata": {},
     "output_type": "execute_result"
    }
   ],
   "source": [
    "IFrame('./source-solution/02-basic-css/012-give-a-background-color-to-a-div-element.html', '100%', 500)"
   ]
  },
  {
   "cell_type": "markdown",
   "metadata": {},
   "source": [
    "### Set the id of an Element"
   ]
  },
  {
   "cell_type": "markdown",
   "metadata": {},
   "source": [
    "In addition to classes, each HTML element can also have an `id` attribute.\n",
    "\n",
    "There are several benefits to using `id` attributes: You can use an `id` to style a single element and later you'll learn that you can use them to select and modify specific elements with JavaScript.\n",
    "\n",
    "`id` attributes should be unique. Browsers won't enforce this, but it is a widely agreed upon best practice. So please don't give more than one element the same `id` attribute.\n",
    "\n",
    "Here's an example of how you give your `h2` element the id of `cat-photo-app`:\n",
    "\n",
    "`<h2 id=\"cat-photo-app\">`\n",
    "\n",
    "---\n",
    "Give your `form` element the id `cat-photo-form`."
   ]
  },
  {
   "cell_type": "markdown",
   "metadata": {},
   "source": [
    "```HTML\n",
    "<link href=\"https://fonts.googleapis.com/css?family=Lobster\" rel=\"stylesheet\" type=\"text/css\">\n",
    "<style>\n",
    "\t.red-text {\n",
    "\t\tcolor: red;\n",
    "\t}\n",
    "\t\n",
    "\th2 {\n",
    "\t\tfont-family: Lobster, monospace;\n",
    "\t}\n",
    "\t\n",
    "\tp {\n",
    "\t\tfont-size: 16px;\n",
    "\t\tfont-family: monospace;\n",
    "\t}\n",
    "\t\n",
    "\t.thick-green-border {\n",
    "\t\tborder-color: green;\n",
    "\t\tborder-width: 10px;\n",
    "\t\tborder-style: solid;\n",
    "\t\tborder-radius: 50%;\n",
    "\t}\n",
    "\t\n",
    "\t.smaller-image {\n",
    "\t\twidth: 100px;\n",
    "\t}\n",
    "\t\n",
    "\t.silver-background {\n",
    "\t\tbackground-color: silver;\n",
    "\t}\n",
    "</style>\n",
    "\n",
    "<h2 class=\"red-text\">CatPhotoApp</h2>\n",
    "<main>\n",
    "\t<p class=\"red-text\">Click here to view more <a href=\"#\">cat photos</a>.</p>\n",
    "\n",
    "\t<a href=\"#\"><img class=\"smaller-image thick-green-border\" src=\"https://bit.ly/fcc-relaxing-cat\" alt=\"A cute orange cat lying on its back.\"></a>\n",
    "\n",
    "\t<div class=\"silver-background\">\n",
    "\t\t<p>Things cats love:</p>\n",
    "\t\t<ul>\n",
    "\t\t\t<li>cat nip</li>\n",
    "\t\t\t<li>laser pointers</li>\n",
    "\t\t\t<li>lasagna</li>\n",
    "\t\t</ul>\n",
    "\t\t<p>Top 3 things cats hate:</p>\n",
    "\t\t<ol>\n",
    "\t\t\t<li>flea treatment</li>\n",
    "\t\t\t<li>thunder</li>\n",
    "\t\t\t<li>other cats</li>\n",
    "\t\t</ol>\n",
    "\t</div>\n",
    "\n",
    "\t<form id=\"cat-photo-form\" action=\"/submit-cat-photo\">\n",
    "\t\t<label>\n",
    "\t\t\t<input type=\"radio\" name=\"indoor-outdoor\" checked> Indoor</label>\n",
    "\t\t<label>\n",
    "\t\t\t<input type=\"radio\" name=\"indoor-outdoor\"> Outdoor</label>\n",
    "\t\t<br>\n",
    "\t\t<label>\n",
    "\t\t\t<input type=\"checkbox\" name=\"personality\" checked> Loving</label>\n",
    "\t\t<label>\n",
    "\t\t\t<input type=\"checkbox\" name=\"personality\"> Lazy</label>\n",
    "\t\t<label>\n",
    "\t\t\t<input type=\"checkbox\" name=\"personality\"> Energetic</label>\n",
    "\t\t<br>\n",
    "\t\t<input type=\"text\" placeholder=\"cat photo URL\" required>\n",
    "\t\t<button type=\"submit\">Submit</button>\n",
    "\t</form>\n",
    "</main>\n",
    "```"
   ]
  },
  {
   "cell_type": "code",
   "execution_count": 43,
   "metadata": {},
   "outputs": [
    {
     "data": {
      "text/html": [
       "\n",
       "        <iframe\n",
       "            width=\"100%\"\n",
       "            height=\"500\"\n",
       "            src=\"./source-solution/02-basic-css/013-set-the-id-of-an-element.html\"\n",
       "            frameborder=\"0\"\n",
       "            allowfullscreen\n",
       "        ></iframe>\n",
       "        "
      ],
      "text/plain": [
       "<IPython.lib.display.IFrame at 0x17a821c9518>"
      ]
     },
     "execution_count": 43,
     "metadata": {},
     "output_type": "execute_result"
    }
   ],
   "source": [
    "IFrame('./source-solution/02-basic-css/013-set-the-id-of-an-element.html', '100%', 500)"
   ]
  },
  {
   "cell_type": "markdown",
   "metadata": {},
   "source": [
    "### Use an id Attribute to Style an Element"
   ]
  },
  {
   "cell_type": "markdown",
   "metadata": {},
   "source": [
    "One cool thing about `id` attributes is that, like classes, you can style them using CSS.\n",
    "\n",
    "However, an `id` is not reusable and should only be applied to one element. An id also has a higher specificity (importance) than a class so if both are applied to the same element and have conflicting styles, the styles of the `id` will be applied.\n",
    "\n",
    "Here's an example of how you can take your element with the `id` attribute of `cat-photo-element` and give it the background color of green. In your `style` element:\n",
    "\n",
    "```CSS\n",
    "#cat-photo-element {\n",
    "  background-color: green;\n",
    "}\n",
    "```\n",
    "\n",
    "Note that inside your `style` element, you always reference classes by putting a `.` in front of their names. You always reference ids by putting a `#` in front of their names.\n",
    "\n",
    "---\n",
    "Try giving your form, which now has the `id` attribute of `cat-photo-form`, a green background."
   ]
  },
  {
   "cell_type": "markdown",
   "metadata": {},
   "source": [
    "```HTML\n",
    "<link href=\"https://fonts.googleapis.com/css?family=Lobster\" rel=\"stylesheet\" type=\"text/css\">\n",
    "<style>\n",
    "\t.red-text {\n",
    "\t\tcolor: red;\n",
    "\t}\n",
    "\t\n",
    "\th2 {\n",
    "\t\tfont-family: Lobster, monospace;\n",
    "\t}\n",
    "\t\n",
    "\tp {\n",
    "\t\tfont-size: 16px;\n",
    "\t\tfont-family: monospace;\n",
    "\t}\n",
    "\t\n",
    "\t.thick-green-border {\n",
    "\t\tborder-color: green;\n",
    "\t\tborder-width: 10px;\n",
    "\t\tborder-style: solid;\n",
    "\t\tborder-radius: 50%;\n",
    "\t}\n",
    "\t\n",
    "\t.smaller-image {\n",
    "\t\twidth: 100px;\n",
    "\t}\n",
    "\t\n",
    "\t.silver-background {\n",
    "\t\tbackground-color: silver;\n",
    "\t}\n",
    "\t\n",
    "\t#cat-photo-form {\n",
    "\t\tbackground-color: green;\n",
    "\t}\n",
    "</style>\n",
    "\n",
    "<h2 class=\"red-text\">CatPhotoApp</h2>\n",
    "<main>\n",
    "\t<p class=\"red-text\">Click here to view more <a href=\"#\">cat photos</a>.</p>\n",
    "\n",
    "\t<a href=\"#\"><img class=\"smaller-image thick-green-border\" src=\"https://bit.ly/fcc-relaxing-cat\" alt=\"A cute orange cat lying on its back.\"></a>\n",
    "\n",
    "\t<div class=\"silver-background\">\n",
    "\t\t<p>Things cats love:</p>\n",
    "\t\t<ul>\n",
    "\t\t\t<li>cat nip</li>\n",
    "\t\t\t<li>laser pointers</li>\n",
    "\t\t\t<li>lasagna</li>\n",
    "\t\t</ul>\n",
    "\t\t<p>Top 3 things cats hate:</p>\n",
    "\t\t<ol>\n",
    "\t\t\t<li>flea treatment</li>\n",
    "\t\t\t<li>thunder</li>\n",
    "\t\t\t<li>other cats</li>\n",
    "\t\t</ol>\n",
    "\t</div>\n",
    "\n",
    "\t<form action=\"/submit-cat-photo\" id=\"cat-photo-form\">\n",
    "\t\t<label>\n",
    "\t\t\t<input type=\"radio\" name=\"indoor-outdoor\" checked> Indoor</label>\n",
    "\t\t<label>\n",
    "\t\t\t<input type=\"radio\" name=\"indoor-outdoor\"> Outdoor</label>\n",
    "\t\t<br>\n",
    "\t\t<label>\n",
    "\t\t\t<input type=\"checkbox\" name=\"personality\" checked> Loving</label>\n",
    "\t\t<label>\n",
    "\t\t\t<input type=\"checkbox\" name=\"personality\"> Lazy</label>\n",
    "\t\t<label>\n",
    "\t\t\t<input type=\"checkbox\" name=\"personality\"> Energetic</label>\n",
    "\t\t<br>\n",
    "\t\t<input type=\"text\" placeholder=\"cat photo URL\" required>\n",
    "\t\t<button type=\"submit\">Submit</button>\n",
    "\t</form>\n",
    "</main>\n",
    "```"
   ]
  },
  {
   "cell_type": "code",
   "execution_count": 44,
   "metadata": {},
   "outputs": [
    {
     "data": {
      "text/html": [
       "\n",
       "        <iframe\n",
       "            width=\"100%\"\n",
       "            height=\"500\"\n",
       "            src=\"./source-solution/02-basic-css/014-use-an-id-attribute-to-style-an-element.html\"\n",
       "            frameborder=\"0\"\n",
       "            allowfullscreen\n",
       "        ></iframe>\n",
       "        "
      ],
      "text/plain": [
       "<IPython.lib.display.IFrame at 0x17a821c97f0>"
      ]
     },
     "execution_count": 44,
     "metadata": {},
     "output_type": "execute_result"
    }
   ],
   "source": [
    "IFrame('./source-solution/02-basic-css/014-use-an-id-attribute-to-style-an-element.html', '100%', 500)"
   ]
  },
  {
   "cell_type": "markdown",
   "metadata": {},
   "source": [
    "### Adjust the Padding of an Element"
   ]
  },
  {
   "cell_type": "markdown",
   "metadata": {},
   "source": [
    "Now let's put our Cat Photo App away for a little while and learn more about styling HTML.\n",
    "\n",
    "You may have already noticed this, but all HTML elements are essentially little rectangles.\n",
    "\n",
    "Three important properties control the space that surrounds each HTML element: `padding`, `margin`, and `border`.\n",
    "\n",
    "An element's `padding` controls the amount of space between the element's content and its `border`.\n",
    "\n",
    "Here, we can see that the blue box and the red box are nested within the yellow box. Note that the red box has more `padding` than the blue box.\n",
    "\n",
    "When you increase the blue box's `padding`, it will increase the distance (`padding`) between the text and the border around it.\n",
    "\n",
    "---\n",
    "Change the `padding` of your blue box to match that of your red box."
   ]
  },
  {
   "cell_type": "markdown",
   "metadata": {},
   "source": [
    "```HTML\n",
    "<style>\n",
    "\t.injected-text {\n",
    "\t\tmargin-bottom: -25px;\n",
    "\t\ttext-align: center;\n",
    "\t}\n",
    "\t\n",
    "\t.box {\n",
    "\t\tborder-style: solid;\n",
    "\t\tborder-color: black;\n",
    "\t\tborder-width: 5px;\n",
    "\t\ttext-align: center;\n",
    "\t}\n",
    "\t\n",
    "\t.yellow-box {\n",
    "\t\tbackground-color: yellow;\n",
    "\t\tpadding: 10px;\n",
    "\t}\n",
    "\t\n",
    "\t.red-box {\n",
    "\t\tbackground-color: crimson;\n",
    "\t\tcolor: #fff;\n",
    "\t\tpadding: 20px;\n",
    "\t}\n",
    "\t\n",
    "\t.blue-box {\n",
    "\t\tbackground-color: blue;\n",
    "\t\tcolor: #fff;\n",
    "\t\tpadding: 20px;\n",
    "\t}\n",
    "</style>\n",
    "<h5 class=\"injected-text\">margin</h5>\n",
    "\n",
    "<div class=\"box yellow-box\">\n",
    "\t<h5 class=\"box red-box\">padding</h5>\n",
    "\t<h5 class=\"box blue-box\">padding</h5>\n",
    "</div>\n",
    "```"
   ]
  },
  {
   "cell_type": "code",
   "execution_count": 45,
   "metadata": {},
   "outputs": [
    {
     "data": {
      "text/html": [
       "\n",
       "        <iframe\n",
       "            width=\"100%\"\n",
       "            height=\"500\"\n",
       "            src=\"./source-solution/02-basic-css/015-adjust-the-padding-of-an-element.html\"\n",
       "            frameborder=\"0\"\n",
       "            allowfullscreen\n",
       "        ></iframe>\n",
       "        "
      ],
      "text/plain": [
       "<IPython.lib.display.IFrame at 0x17a821c9a90>"
      ]
     },
     "execution_count": 45,
     "metadata": {},
     "output_type": "execute_result"
    }
   ],
   "source": [
    "IFrame('./source-solution/02-basic-css/015-adjust-the-padding-of-an-element.html', '100%', 500)"
   ]
  },
  {
   "cell_type": "markdown",
   "metadata": {},
   "source": [
    "### Adjust the Margin of an Element"
   ]
  },
  {
   "cell_type": "markdown",
   "metadata": {},
   "source": [
    "An element's `margin` controls the amount of space between an element's `border` and surrounding elements.\n",
    "\n",
    "Here, we can see that the blue box and the red box are nested within the yellow box. Note that the red box has a bigger `margin` than the blue box, making it appear smaller.\n",
    "\n",
    "When you increase the blue box's `margin`, it will increase the distance between its border and surrounding elements.\n",
    "\n",
    "---\n",
    "Change the `margin` of the blue box to match that of the red box."
   ]
  },
  {
   "cell_type": "markdown",
   "metadata": {},
   "source": [
    "```HTML\n",
    "<style>\n",
    "\t.injected-text {\n",
    "\t\tmargin-bottom: -25px;\n",
    "\t\ttext-align: center;\n",
    "\t}\n",
    "\t\n",
    "\t.box {\n",
    "\t\tborder-style: solid;\n",
    "\t\tborder-color: black;\n",
    "\t\tborder-width: 5px;\n",
    "\t\ttext-align: center;\n",
    "\t}\n",
    "\t\n",
    "\t.yellow-box {\n",
    "\t\tbackground-color: yellow;\n",
    "\t\tpadding: 10px;\n",
    "\t}\n",
    "\t\n",
    "\t.red-box {\n",
    "\t\tbackground-color: crimson;\n",
    "\t\tcolor: #fff;\n",
    "\t\tpadding: 20px;\n",
    "\t\tmargin: 20px;\n",
    "\t}\n",
    "\t\n",
    "\t.blue-box {\n",
    "\t\tbackground-color: blue;\n",
    "\t\tcolor: #fff;\n",
    "\t\tpadding: 20px;\n",
    "\t\tmargin: 20px;\n",
    "\t}\n",
    "</style>\n",
    "<h5 class=\"injected-text\">margin</h5>\n",
    "\n",
    "<div class=\"box yellow-box\">\n",
    "\t<h5 class=\"box red-box\">padding</h5>\n",
    "\t<h5 class=\"box blue-box\">padding</h5>\n",
    "</div>\n",
    "```"
   ]
  },
  {
   "cell_type": "code",
   "execution_count": 46,
   "metadata": {},
   "outputs": [
    {
     "data": {
      "text/html": [
       "\n",
       "        <iframe\n",
       "            width=\"100%\"\n",
       "            height=\"500\"\n",
       "            src=\"./source-solution/02-basic-css/016-adjust-the-margin-of-an-element.html\"\n",
       "            frameborder=\"0\"\n",
       "            allowfullscreen\n",
       "        ></iframe>\n",
       "        "
      ],
      "text/plain": [
       "<IPython.lib.display.IFrame at 0x17a821c9da0>"
      ]
     },
     "execution_count": 46,
     "metadata": {},
     "output_type": "execute_result"
    }
   ],
   "source": [
    "IFrame('./source-solution/02-basic-css/016-adjust-the-margin-of-an-element.html', '100%', 500)"
   ]
  },
  {
   "cell_type": "markdown",
   "metadata": {},
   "source": [
    "### Add a Negative Margin to an Element"
   ]
  },
  {
   "cell_type": "markdown",
   "metadata": {},
   "source": [
    "An element's `margin` controls the amount of space between an element's `border` and surrounding elements.\n",
    "\n",
    "If you set an element's `margin` to a negative value, the element will grow larger.\n",
    "\n",
    "---\n",
    "Try to set the `margin` to a negative value like the one for the red box.\n",
    "\n",
    "Change the `margin` of the blue box to `-15px`, so it fills the entire horizontal width of the yellow box around it."
   ]
  },
  {
   "cell_type": "markdown",
   "metadata": {},
   "source": [
    "```HTML\n",
    "<style>\n",
    "\t.injected-text {\n",
    "\t\tmargin-bottom: -25px;\n",
    "\t\ttext-align: center;\n",
    "\t}\n",
    "\t\n",
    "\t.box {\n",
    "\t\tborder-style: solid;\n",
    "\t\tborder-color: black;\n",
    "\t\tborder-width: 5px;\n",
    "\t\ttext-align: center;\n",
    "\t}\n",
    "\t\n",
    "\t.yellow-box {\n",
    "\t\tbackground-color: yellow;\n",
    "\t\tpadding: 10px;\n",
    "\t}\n",
    "\t\n",
    "\t.red-box {\n",
    "\t\tbackground-color: crimson;\n",
    "\t\tcolor: #fff;\n",
    "\t\tpadding: 20px;\n",
    "\t\tmargin: -15px;\n",
    "\t}\n",
    "\t\n",
    "\t.blue-box {\n",
    "\t\tbackground-color: blue;\n",
    "\t\tcolor: #fff;\n",
    "\t\tpadding: 20px;\n",
    "\t\tmargin: -15px;\n",
    "\t}\n",
    "</style>\n",
    "\n",
    "<div class=\"box yellow-box\">\n",
    "\t<h5 class=\"box red-box\">padding</h5>\n",
    "\t<h5 class=\"box blue-box\">padding</h5>\n",
    "</div>\n",
    "```"
   ]
  },
  {
   "cell_type": "code",
   "execution_count": 47,
   "metadata": {},
   "outputs": [
    {
     "data": {
      "text/html": [
       "\n",
       "        <iframe\n",
       "            width=\"100%\"\n",
       "            height=\"500\"\n",
       "            src=\"./source-solution/02-basic-css/017-add-a-negative-margin-to-an-element.html\"\n",
       "            frameborder=\"0\"\n",
       "            allowfullscreen\n",
       "        ></iframe>\n",
       "        "
      ],
      "text/plain": [
       "<IPython.lib.display.IFrame at 0x17a821b0208>"
      ]
     },
     "execution_count": 47,
     "metadata": {},
     "output_type": "execute_result"
    }
   ],
   "source": [
    "IFrame('./source-solution/02-basic-css/017-add-a-negative-margin-to-an-element.html', '100%', 500)"
   ]
  },
  {
   "cell_type": "markdown",
   "metadata": {},
   "source": [
    "### Add Different Padding to Each Side of an Element"
   ]
  },
  {
   "cell_type": "markdown",
   "metadata": {},
   "source": [
    "Sometimes you will want to customize an element so that it has different amounts of `padding` on each of its sides.\n",
    "\n",
    "CSS allows you to control the `padding` of all four individual sides of an element with the `padding-top`, `padding-right`, `padding-bottom`, and `padding-left` properties.\n",
    "\n",
    "---\n",
    "Give the blue box a `padding` of `40px` on its top and left side, but only `20px` on its bottom and right side."
   ]
  },
  {
   "cell_type": "markdown",
   "metadata": {},
   "source": [
    "```HTML\n",
    "<style>\n",
    "\t.injected-text {\n",
    "\t\tmargin-bottom: -25px;\n",
    "\t\ttext-align: center;\n",
    "\t}\n",
    "\t\n",
    "\t.box {\n",
    "\t\tborder-style: solid;\n",
    "\t\tborder-color: black;\n",
    "\t\tborder-width: 5px;\n",
    "\t\ttext-align: center;\n",
    "\t}\n",
    "\t\n",
    "\t.yellow-box {\n",
    "\t\tbackground-color: yellow;\n",
    "\t\tpadding: 10px;\n",
    "\t}\n",
    "\t\n",
    "\t.red-box {\n",
    "\t\tbackground-color: crimson;\n",
    "\t\tcolor: #fff;\n",
    "\t\tpadding-top: 40px;\n",
    "\t\tpadding-right: 20px;\n",
    "\t\tpadding-bottom: 20px;\n",
    "\t\tpadding-left: 40px;\n",
    "\t}\n",
    "\t\n",
    "\t.blue-box {\n",
    "\t\tbackground-color: blue;\n",
    "\t\tcolor: #fff;\n",
    "\t\tpadding-top: 40px;\n",
    "\t\tpadding-left: 40px;\n",
    "\t\tpadding-bottom: 20px;\n",
    "\t\tpadding-right: 20px;\n",
    "\t}\n",
    "</style>\n",
    "<h5 class=\"injected-text\">margin</h5>\n",
    "\n",
    "<div class=\"box yellow-box\">\n",
    "\t<h5 class=\"box red-box\">padding</h5>\n",
    "\t<h5 class=\"box blue-box\">padding</h5>\n",
    "</div>\n",
    "```"
   ]
  },
  {
   "cell_type": "code",
   "execution_count": 48,
   "metadata": {},
   "outputs": [
    {
     "data": {
      "text/html": [
       "\n",
       "        <iframe\n",
       "            width=\"100%\"\n",
       "            height=\"500\"\n",
       "            src=\"./source-solution/02-basic-css/018-add-different-padding-to-each-side-of-an-element.html\"\n",
       "            frameborder=\"0\"\n",
       "            allowfullscreen\n",
       "        ></iframe>\n",
       "        "
      ],
      "text/plain": [
       "<IPython.lib.display.IFrame at 0x17a821b04e0>"
      ]
     },
     "execution_count": 48,
     "metadata": {},
     "output_type": "execute_result"
    }
   ],
   "source": [
    "IFrame('./source-solution/02-basic-css/018-add-different-padding-to-each-side-of-an-element.html', '100%', 500)"
   ]
  },
  {
   "cell_type": "markdown",
   "metadata": {},
   "source": [
    "### Add Different Margins to Each Side of an Element"
   ]
  },
  {
   "cell_type": "markdown",
   "metadata": {},
   "source": [
    "Sometimes you will want to customize an element so that it has a different `margin` on each of its sides.\n",
    "\n",
    "CSS allows you to control the `margin` of all four individual sides of an element with the `margin-top`, `margin-right`, `margin-bottom`, and `margin-left` properties.\n",
    "\n",
    "---\n",
    "Give the blue box a `margin` of `40px` on its top and left side, but only `20px` on its bottom and right side."
   ]
  },
  {
   "cell_type": "markdown",
   "metadata": {},
   "source": [
    "```HTML\n",
    "<style>\n",
    "\t.injected-text {\n",
    "\t\tmargin-bottom: -25px;\n",
    "\t\ttext-align: center;\n",
    "\t}\n",
    "\t\n",
    "\t.box {\n",
    "\t\tborder-style: solid;\n",
    "\t\tborder-color: black;\n",
    "\t\tborder-width: 5px;\n",
    "\t\ttext-align: center;\n",
    "\t}\n",
    "\t\n",
    "\t.yellow-box {\n",
    "\t\tbackground-color: yellow;\n",
    "\t\tpadding: 10px;\n",
    "\t}\n",
    "\t\n",
    "\t.red-box {\n",
    "\t\tbackground-color: crimson;\n",
    "\t\tcolor: #fff;\n",
    "\t\tmargin-top: 40px;\n",
    "\t\tmargin-right: 20px;\n",
    "\t\tmargin-bottom: 20px;\n",
    "\t\tmargin-left: 40px;\n",
    "\t}\n",
    "\t\n",
    "\t.blue-box {\n",
    "\t\tbackground-color: blue;\n",
    "\t\tcolor: #fff;\n",
    "\t\tmargin-top: 40px;\n",
    "\t\tmargin-left: 40px;\n",
    "\t\tmargin-bottom: 20px;\n",
    "\t\tmargin-right: 20px;\n",
    "\t}\n",
    "</style>\n",
    "<h5 class=\"injected-text\">margin</h5>\n",
    "\n",
    "<div class=\"box yellow-box\">\n",
    "\t<h5 class=\"box red-box\">padding</h5>\n",
    "\t<h5 class=\"box blue-box\">padding</h5>\n",
    "</div>\n",
    "```"
   ]
  },
  {
   "cell_type": "code",
   "execution_count": 49,
   "metadata": {},
   "outputs": [
    {
     "data": {
      "text/html": [
       "\n",
       "        <iframe\n",
       "            width=\"100%\"\n",
       "            height=\"500\"\n",
       "            src=\"./source-solution/02-basic-css/019-add-different-margins-to-each-side-of-an-element.html\"\n",
       "            frameborder=\"0\"\n",
       "            allowfullscreen\n",
       "        ></iframe>\n",
       "        "
      ],
      "text/plain": [
       "<IPython.lib.display.IFrame at 0x17a821b06d8>"
      ]
     },
     "execution_count": 49,
     "metadata": {},
     "output_type": "execute_result"
    }
   ],
   "source": [
    "IFrame('./source-solution/02-basic-css/019-add-different-margins-to-each-side-of-an-element.html', '100%', 500)"
   ]
  },
  {
   "cell_type": "markdown",
   "metadata": {},
   "source": [
    "### Use Clockwise Notation to Specify the Padding of an Element"
   ]
  },
  {
   "cell_type": "markdown",
   "metadata": {},
   "source": [
    "Instead of specifying an element's `padding-top`, `padding-right`, `padding-bottom`, and `padding-left` properties individually, you can specify them all in one line, like this:\n",
    "\n",
    "`padding: 10px 20px 10px 20px;`\n",
    "\n",
    "These four values work like a clock: top, right, bottom, left, and will produce the exact same result as using the side-specific padding instructions.\n",
    "\n",
    "---\n",
    "Use Clockwise Notation to give the \".blue-box\" class a `padding` of `40px` on its top and left side, but only `20px` on its bottom and right side."
   ]
  },
  {
   "cell_type": "markdown",
   "metadata": {},
   "source": [
    "```HTML\n",
    "<style>\n",
    "\t.injected-text {\n",
    "\t\tmargin-bottom: -25px;\n",
    "\t\ttext-align: center;\n",
    "\t}\n",
    "\t\n",
    "\t.box {\n",
    "\t\tborder-style: solid;\n",
    "\t\tborder-color: black;\n",
    "\t\tborder-width: 5px;\n",
    "\t\ttext-align: center;\n",
    "\t}\n",
    "\t\n",
    "\t.yellow-box {\n",
    "\t\tbackground-color: yellow;\n",
    "\t\tpadding: 20px 40px 20px 40px;\n",
    "\t}\n",
    "\t\n",
    "\t.red-box {\n",
    "\t\tbackground-color: crimson;\n",
    "\t\tcolor: #fff;\n",
    "\t\tpadding: 20px 40px 20px 40px;\n",
    "\t}\n",
    "\t\n",
    "\t.blue-box {\n",
    "\t\tbackground-color: blue;\n",
    "\t\tcolor: #fff;\n",
    "\t\tpadding: 40px 20px 20px 40px;\n",
    "\t}\n",
    "</style>\n",
    "<h5 class=\"injected-text\">margin</h5>\n",
    "\n",
    "<div class=\"box yellow-box\">\n",
    "\t<h5 class=\"box red-box\">padding</h5>\n",
    "\t<h5 class=\"box blue-box\">padding</h5>\n",
    "</div>\n",
    "```"
   ]
  },
  {
   "cell_type": "code",
   "execution_count": 50,
   "metadata": {},
   "outputs": [
    {
     "data": {
      "text/html": [
       "\n",
       "        <iframe\n",
       "            width=\"100%\"\n",
       "            height=\"500\"\n",
       "            src=\"./source-solution/02-basic-css/020-use-clockwise-notation-to-specify-the-padding-of-an-element.html\"\n",
       "            frameborder=\"0\"\n",
       "            allowfullscreen\n",
       "        ></iframe>\n",
       "        "
      ],
      "text/plain": [
       "<IPython.lib.display.IFrame at 0x17a821b0be0>"
      ]
     },
     "execution_count": 50,
     "metadata": {},
     "output_type": "execute_result"
    }
   ],
   "source": [
    "IFrame('./source-solution/02-basic-css/020-use-clockwise-notation-to-specify-the-padding-of-an-element.html', '100%', 500)"
   ]
  },
  {
   "cell_type": "markdown",
   "metadata": {},
   "source": [
    "### Use Clockwise Notation to Specify the Margin of an Element"
   ]
  },
  {
   "cell_type": "markdown",
   "metadata": {},
   "source": [
    "Let's try this again, but with margin this time.\n",
    "\n",
    "Instead of specifying an element's `margin-top`, `margin-right`, `margin-bottom`, and `margin-left` properties individually, you can specify them all in one line, like this:\n",
    "\n",
    "`margin: 10px 20px 10px 20px;`\n",
    "\n",
    "These four values work like a clock: top, right, bottom, left, and will produce the exact same result as using the side-specific margin instructions.\n",
    "\n",
    "---\n",
    "Use Clockwise Notation to give the element with the `blue-box` class a margin of `40px` on its top and left side, but only `20px` on its bottom and right side."
   ]
  },
  {
   "cell_type": "markdown",
   "metadata": {},
   "source": [
    "```HTML\n",
    "<style>\n",
    "\t.injected-text {\n",
    "\t\tmargin-bottom: -25px;\n",
    "\t\ttext-align: center;\n",
    "\t}\n",
    "\t\n",
    "\t.box {\n",
    "\t\tborder-style: solid;\n",
    "\t\tborder-color: black;\n",
    "\t\tborder-width: 5px;\n",
    "\t\ttext-align: center;\n",
    "\t}\n",
    "\t\n",
    "\t.yellow-box {\n",
    "\t\tbackground-color: yellow;\n",
    "\t\tpadding: 20px 40px 20px 40px;\n",
    "\t}\n",
    "\t\n",
    "\t.red-box {\n",
    "\t\tbackground-color: crimson;\n",
    "\t\tcolor: #fff;\n",
    "\t\tmargin: 20px 40px 20px 40px;\n",
    "\t}\n",
    "\t\n",
    "\t.blue-box {\n",
    "\t\tbackground-color: blue;\n",
    "\t\tcolor: #fff;\n",
    "\t\tmargin: 40px 20px 20px 40px;\n",
    "\t}\n",
    "</style>\n",
    "<h5 class=\"injected-text\">margin</h5>\n",
    "\n",
    "<div class=\"box yellow-box\">\n",
    "\t<h5 class=\"box red-box\">padding</h5>\n",
    "\t<h5 class=\"box blue-box\">padding</h5>\n",
    "</div>\n",
    "```"
   ]
  },
  {
   "cell_type": "code",
   "execution_count": 51,
   "metadata": {},
   "outputs": [
    {
     "data": {
      "text/html": [
       "\n",
       "        <iframe\n",
       "            width=\"100%\"\n",
       "            height=\"500\"\n",
       "            src=\"./source-solution/02-basic-css/021-use-clockwise-notation-to-specify-the-margin-of-an-element.html\"\n",
       "            frameborder=\"0\"\n",
       "            allowfullscreen\n",
       "        ></iframe>\n",
       "        "
      ],
      "text/plain": [
       "<IPython.lib.display.IFrame at 0x17a821b0e80>"
      ]
     },
     "execution_count": 51,
     "metadata": {},
     "output_type": "execute_result"
    }
   ],
   "source": [
    "IFrame('./source-solution/02-basic-css/021-use-clockwise-notation-to-specify-the-margin-of-an-element.html', '100%', 500)"
   ]
  },
  {
   "cell_type": "markdown",
   "metadata": {},
   "source": [
    "### Use Attribute Selectors to Style Elements"
   ]
  },
  {
   "cell_type": "markdown",
   "metadata": {},
   "source": [
    "You have been adding `id` or `class` attributes to elements that you wish to specifically style. These are known as ID and class selectors. There are other CSS Selectors you can use to select custom groups of elements to style.\n",
    "\n",
    "Let's bring out CatPhotoApp again to practice using CSS Selectors.\n",
    "\n",
    "For this challenge, you will use the `[attr=value]` attribute selector to style the checkboxes in CatPhotoApp. This selector matches and styles elements with a specific attribute value. For example, the below code changes the margins of all elements with the attribute `type` and a corresponding value of `radio`:\n",
    "\n",
    "```CSS\n",
    "[type='radio'] {\n",
    "  margin: 20px 0px 20px 0px;\n",
    "}\n",
    "```\n",
    "\n",
    "---\n",
    "Using the `type` attribute selector, try to give the checkboxes in CatPhotoApp a top margin of 10px and a bottom margin of 15px."
   ]
  },
  {
   "cell_type": "markdown",
   "metadata": {},
   "source": [
    "```HTML\n",
    "<link href=\"https://fonts.googleapis.com/css?family=Lobster\" rel=\"stylesheet\" type=\"text/css\">\n",
    "<style>\n",
    "\t.red-text {\n",
    "\t\tcolor: red;\n",
    "\t}\n",
    "\t\n",
    "\th2 {\n",
    "\t\tfont-family: Lobster, monospace;\n",
    "\t}\n",
    "\t\n",
    "\tp {\n",
    "\t\tfont-size: 16px;\n",
    "\t\tfont-family: monospace;\n",
    "\t}\n",
    "\t\n",
    "\t.thick-green-border {\n",
    "\t\tborder-color: green;\n",
    "\t\tborder-width: 10px;\n",
    "\t\tborder-style: solid;\n",
    "\t\tborder-radius: 50%;\n",
    "\t}\n",
    "\t\n",
    "\t.smaller-image {\n",
    "\t\twidth: 100px;\n",
    "\t}\n",
    "\t\n",
    "\t.silver-background {\n",
    "\t\tbackground-color: silver;\n",
    "\t}\n",
    "\t\n",
    "\t[type=\"checkbox\"] {\n",
    "\t\tmargin-top: 10px;\n",
    "\t\tmargin-bottom: 15px;\n",
    "\t}\n",
    "</style>\n",
    "\n",
    "<h2 class=\"red-text\">CatPhotoApp</h2>\n",
    "<main>\n",
    "\t<p class=\"red-text\">Click here to view more <a href=\"#\">cat photos</a>.</p>\n",
    "\n",
    "\t<a href=\"#\"><img class=\"smaller-image thick-green-border\" src=\"https://bit.ly/fcc-relaxing-cat\" alt=\"A cute orange cat lying on its back.\"></a>\n",
    "\n",
    "\t<div class=\"silver-background\">\n",
    "\t\t<p>Things cats love:</p>\n",
    "\t\t<ul>\n",
    "\t\t\t<li>cat nip</li>\n",
    "\t\t\t<li>laser pointers</li>\n",
    "\t\t\t<li>lasagna</li>\n",
    "\t\t</ul>\n",
    "\t\t<p>Top 3 things cats hate:</p>\n",
    "\t\t<ol>\n",
    "\t\t\t<li>flea treatment</li>\n",
    "\t\t\t<li>thunder</li>\n",
    "\t\t\t<li>other cats</li>\n",
    "\t\t</ol>\n",
    "\t</div>\n",
    "\n",
    "\t<form action=\"/submit-cat-photo\" id=\"cat-photo-form\">\n",
    "\t\t<label>\n",
    "\t\t\t<input type=\"radio\" name=\"indoor-outdoor\" checked> Indoor</label>\n",
    "\t\t<label>\n",
    "\t\t\t<input type=\"radio\" name=\"indoor-outdoor\"> Outdoor</label>\n",
    "\t\t<br>\n",
    "\t\t<label>\n",
    "\t\t\t<input type=\"checkbox\" name=\"personality\" checked> Loving</label>\n",
    "\t\t<label>\n",
    "\t\t\t<input type=\"checkbox\" name=\"personality\"> Lazy</label>\n",
    "\t\t<label>\n",
    "\t\t\t<input type=\"checkbox\" name=\"personality\"> Energetic</label>\n",
    "\t\t<br>\n",
    "\t\t<input type=\"text\" placeholder=\"cat photo URL\" required>\n",
    "\t\t<button type=\"submit\">Submit</button>\n",
    "\t</form>\n",
    "</main>\n",
    "```"
   ]
  },
  {
   "cell_type": "code",
   "execution_count": 52,
   "metadata": {},
   "outputs": [
    {
     "data": {
      "text/html": [
       "\n",
       "        <iframe\n",
       "            width=\"100%\"\n",
       "            height=\"500\"\n",
       "            src=\"./source-solution/02-basic-css/022-use-attribute-selectors-to-style-elements.html\"\n",
       "            frameborder=\"0\"\n",
       "            allowfullscreen\n",
       "        ></iframe>\n",
       "        "
      ],
      "text/plain": [
       "<IPython.lib.display.IFrame at 0x17a821d92b0>"
      ]
     },
     "execution_count": 52,
     "metadata": {},
     "output_type": "execute_result"
    }
   ],
   "source": [
    "IFrame('./source-solution/02-basic-css/022-use-attribute-selectors-to-style-elements.html', '100%', 500)"
   ]
  },
  {
   "cell_type": "markdown",
   "metadata": {},
   "source": [
    "### Understand Absolute versus Relative Units"
   ]
  },
  {
   "cell_type": "markdown",
   "metadata": {},
   "source": [
    "The last several challenges all set an element's margin or padding with pixels (`px`). Pixels are a type of length unit, which is what tells the browser how to size or space an item. In addition to `px`, CSS has a number of different length unit options that you can use.\n",
    "\n",
    "The two main types of length units are absolute and relative. Absolute units tie to physical units of length. For example, `in` and `mm` refer to inches and millimeters, respectively. Absolute length units approximate the actual measurement on a screen, but there are some differences depending on a screen's resolution.\n",
    "\n",
    "Relative units, such as `em` or `rem`, are relative to another length value. For example, `em` is based on the size of an element's font. If you use it to set the `font-size` property itself, it's relative to the parent's `font-size`.\n",
    "\n",
    "**Note**: There are several relative unit options that are tied to the size of the viewport. They are covered in the Responsive Web Design Principles section.\n",
    "\n",
    "---\n",
    "Add a `padding` property to the element with class `red-box` and set it to `1.5em`."
   ]
  },
  {
   "cell_type": "markdown",
   "metadata": {},
   "source": [
    "```HTML\n",
    "<style>\n",
    "\t.injected-text {\n",
    "\t\tmargin-bottom: -25px;\n",
    "\t\ttext-align: center;\n",
    "\t}\n",
    "\t\n",
    "\t.box {\n",
    "\t\tborder-style: solid;\n",
    "\t\tborder-color: black;\n",
    "\t\tborder-width: 5px;\n",
    "\t\ttext-align: center;\n",
    "\t}\n",
    "\t\n",
    "\t.yellow-box {\n",
    "\t\tbackground-color: yellow;\n",
    "\t\tpadding: 20px 40px 20px 40px;\n",
    "\t}\n",
    "\t\n",
    "\t.red-box {\n",
    "\t\tbackground-color: red;\n",
    "\t\tmargin: 20px 40px 20px 40px;\n",
    "\t\tpadding: 1.5em;\n",
    "\t}\n",
    "\t\n",
    "\t.green-box {\n",
    "\t\tbackground-color: green;\n",
    "\t\tmargin: 20px 40px 20px 40px;\n",
    "\t}\n",
    "</style>\n",
    "<h5 class=\"injected-text\">margin</h5>\n",
    "\n",
    "<div class=\"box yellow-box\">\n",
    "\t<h5 class=\"box red-box\">padding</h5>\n",
    "\t<h5 class=\"box green-box\">padding</h5>\n",
    "</div>\n",
    "```"
   ]
  },
  {
   "cell_type": "code",
   "execution_count": 53,
   "metadata": {},
   "outputs": [
    {
     "data": {
      "text/html": [
       "\n",
       "        <iframe\n",
       "            width=\"100%\"\n",
       "            height=\"500\"\n",
       "            src=\"./source-solution/02-basic-css/023-understand-absolute-versus-relative-units.html\"\n",
       "            frameborder=\"0\"\n",
       "            allowfullscreen\n",
       "        ></iframe>\n",
       "        "
      ],
      "text/plain": [
       "<IPython.lib.display.IFrame at 0x17a821d95f8>"
      ]
     },
     "execution_count": 53,
     "metadata": {},
     "output_type": "execute_result"
    }
   ],
   "source": [
    "IFrame('./source-solution/02-basic-css/023-understand-absolute-versus-relative-units.html', '100%', 500)"
   ]
  },
  {
   "cell_type": "markdown",
   "metadata": {},
   "source": [
    "### Style the HTML Body Element"
   ]
  },
  {
   "cell_type": "markdown",
   "metadata": {},
   "source": [
    "Now let's start fresh and talk about CSS inheritance.\n",
    "\n",
    "Every HTML page has a `body` element.\n",
    "\n",
    "---\n",
    "We can prove that the `body` element exists here by giving it a `background-color` of black.\n",
    "\n",
    "We can do this by adding the following to our `style` element:\n",
    "\n",
    "```CSS\n",
    "body {\n",
    "  background-color: black;\n",
    "}\n",
    "```"
   ]
  },
  {
   "cell_type": "markdown",
   "metadata": {},
   "source": [
    "```HTML\n",
    "<style>\n",
    "\tbody {\n",
    "\t\tbackground-color: black;\n",
    "\t}\n",
    "</style>\n",
    "```"
   ]
  },
  {
   "cell_type": "code",
   "execution_count": 54,
   "metadata": {},
   "outputs": [
    {
     "data": {
      "text/html": [
       "\n",
       "        <iframe\n",
       "            width=\"100%\"\n",
       "            height=\"500\"\n",
       "            src=\"./source-solution/02-basic-css/024-style-the-html-body-element.html\"\n",
       "            frameborder=\"0\"\n",
       "            allowfullscreen\n",
       "        ></iframe>\n",
       "        "
      ],
      "text/plain": [
       "<IPython.lib.display.IFrame at 0x17a821d9940>"
      ]
     },
     "execution_count": 54,
     "metadata": {},
     "output_type": "execute_result"
    }
   ],
   "source": [
    "IFrame('./source-solution/02-basic-css/024-style-the-html-body-element.html', '100%', 500)"
   ]
  },
  {
   "cell_type": "markdown",
   "metadata": {},
   "source": [
    "### Inherit Styles from the Body Element"
   ]
  },
  {
   "cell_type": "markdown",
   "metadata": {},
   "source": [
    "Now we've proven that every HTML page has a `body` element, and that its `body` element can also be styled with CSS.\n",
    "\n",
    "Remember, you can style your `body` element just like any other HTML element, and all your other elements will inherit your `body` element's styles.\n",
    "\n",
    "---\n",
    "First, create a `h1` element with the text `Hello World`\n",
    "\n",
    "Then, let's give all elements on your page the color of `green` by adding `color: green`; to your `body` element's style declaration.\n",
    "\n",
    "Finally, give your `body` element the font-family of `monospace` by adding `font-family: monospace;` to your `body` element's style declaration."
   ]
  },
  {
   "cell_type": "markdown",
   "metadata": {},
   "source": [
    "```HTML\n",
    "<style>\n",
    "\tbody {\n",
    "\t\tbackground-color: green;\n",
    "\t\tfont-family: monospace;\n",
    "\t\tcolor: green;\n",
    "\t}\n",
    "</style>\n",
    "\n",
    "<h1>Hello World</h1>\n",
    "```"
   ]
  },
  {
   "cell_type": "code",
   "execution_count": 55,
   "metadata": {},
   "outputs": [
    {
     "data": {
      "text/html": [
       "\n",
       "        <iframe\n",
       "            width=\"100%\"\n",
       "            height=\"500\"\n",
       "            src=\"./source-solution/02-basic-css/025-inherit-styles-from-the-body-element.html\"\n",
       "            frameborder=\"0\"\n",
       "            allowfullscreen\n",
       "        ></iframe>\n",
       "        "
      ],
      "text/plain": [
       "<IPython.lib.display.IFrame at 0x17a821d9cf8>"
      ]
     },
     "execution_count": 55,
     "metadata": {},
     "output_type": "execute_result"
    }
   ],
   "source": [
    "IFrame('./source-solution/02-basic-css/025-inherit-styles-from-the-body-element.html', '100%', 500)"
   ]
  },
  {
   "cell_type": "markdown",
   "metadata": {},
   "source": [
    "### Prioritize One Style Over Another"
   ]
  },
  {
   "cell_type": "markdown",
   "metadata": {},
   "source": [
    "Sometimes your HTML elements will receive multiple styles that conflict with one another.\n",
    "\n",
    "For example, your `h1` element can't be both green and pink at the same time.\n",
    "\n",
    "Let's see what happens when we create a class that makes text pink, then apply it to an element. Will our class override the `body` element's `color: green;` CSS property?\n",
    "\n",
    "---\n",
    "Create a CSS class called `pink-text` that gives an element the color pink.\n",
    "\n",
    "Give your `h1` element the class of `pink-text`."
   ]
  },
  {
   "cell_type": "markdown",
   "metadata": {},
   "source": [
    "```HTML\n",
    "<style>\n",
    "\tbody {\n",
    "\t\tbackground-color: black;\n",
    "\t\tfont-family: monospace;\n",
    "\t\tcolor: green;\n",
    "\t}\n",
    "\t\n",
    "\t.pink-text {\n",
    "\t\tcolor: pink;\n",
    "\t}\n",
    "</style>\n",
    "<h1 class=\"pink-text\">Hello World!</h1>\n",
    "```"
   ]
  },
  {
   "cell_type": "code",
   "execution_count": 56,
   "metadata": {},
   "outputs": [
    {
     "data": {
      "text/html": [
       "\n",
       "        <iframe\n",
       "            width=\"100%\"\n",
       "            height=\"500\"\n",
       "            src=\"./source-solution/02-basic-css/026-prioritize-one-style-over-another.html\"\n",
       "            frameborder=\"0\"\n",
       "            allowfullscreen\n",
       "        ></iframe>\n",
       "        "
      ],
      "text/plain": [
       "<IPython.lib.display.IFrame at 0x17a821d9f28>"
      ]
     },
     "execution_count": 56,
     "metadata": {},
     "output_type": "execute_result"
    }
   ],
   "source": [
    "IFrame('./source-solution/02-basic-css/026-prioritize-one-style-over-another.html', '100%', 500)"
   ]
  },
  {
   "cell_type": "markdown",
   "metadata": {},
   "source": [
    "### Override Styles in Subsequent CSS"
   ]
  },
  {
   "cell_type": "markdown",
   "metadata": {},
   "source": [
    "Our \"pink-text\" class overrode our `body` element's CSS declaration!\n",
    "\n",
    "We just proved that our classes will override the `body` element's CSS. So the next logical question is, what can we do to override our `pink-text` class?\n",
    "\n",
    "---\n",
    "Create an additional CSS class called `blue-text` that gives an element the color blue. Make sure it's below your `pink-text` class declaration.\n",
    "\n",
    "Apply the `blue-text` class to your `h1` element in addition to your `pink-text` class, and let's see which one wins.\n",
    "\n",
    "Applying multiple class attributes to a HTML element is done with a space between them like this:\n",
    "\n",
    "`class=\"class1 class2\"`\n",
    "\n",
    "**Note**: It doesn't matter which order the classes are listed in the HTML element.\n",
    "\n",
    "However, the order of the `class` declarations in the `<style>` section is what is important. The second declaration will always take precedence over the first. Because `.blue-text` is declared second, it overrides the attributes of `.pink-text`"
   ]
  },
  {
   "cell_type": "markdown",
   "metadata": {},
   "source": [
    "```HTML\n",
    "<style>\n",
    "\tbody {\n",
    "\t\tbackground-color: black;\n",
    "\t\tfont-family: monospace;\n",
    "\t\tcolor: green;\n",
    "\t}\n",
    "\t\n",
    "\t.pink-text {\n",
    "\t\tcolor: pink;\n",
    "\t}\n",
    "\t\n",
    "\t.blue-text {\n",
    "\t\tcolor: blue;\n",
    "\t}\n",
    "</style>\n",
    "<h1 class=\"pink-text blue-text\">Hello World!</h1>\n",
    "```"
   ]
  },
  {
   "cell_type": "code",
   "execution_count": 57,
   "metadata": {},
   "outputs": [
    {
     "data": {
      "text/html": [
       "\n",
       "        <iframe\n",
       "            width=\"100%\"\n",
       "            height=\"500\"\n",
       "            src=\"./source-solution/02-basic-css/027-override-styles-in-subsequent-css.html\"\n",
       "            frameborder=\"0\"\n",
       "            allowfullscreen\n",
       "        ></iframe>\n",
       "        "
      ],
      "text/plain": [
       "<IPython.lib.display.IFrame at 0x17a821df390>"
      ]
     },
     "execution_count": 57,
     "metadata": {},
     "output_type": "execute_result"
    }
   ],
   "source": [
    "IFrame('./source-solution/02-basic-css/027-override-styles-in-subsequent-css.html', '100%', 500)"
   ]
  },
  {
   "cell_type": "markdown",
   "metadata": {},
   "source": [
    "### Override Class Declarations by Styling ID Attributes"
   ]
  },
  {
   "cell_type": "markdown",
   "metadata": {},
   "source": [
    "We just proved that browsers read CSS from top to bottom in order of their declaration. That means that, in the event of a conflict, the browser will use whichever CSS declaration came last. Notice that if we even had put `blue-text` before `pink-text` in our h1 element's classes, it would still look at the declaration order and not the order of their use!\n",
    "\n",
    "But we're not done yet. There are other ways that you can override CSS. Do you remember id attributes?\n",
    "\n",
    "Let's override your `pink-text` and `blue-text` classes, and make your `h1` element orange, by giving the `h1` element an id and then styling that id.\n",
    "\n",
    "---\n",
    "Give your `h1` element the `id` attribute of `orange-text`. Remember, id styles look like this:\n",
    "\n",
    "`<h1 id=\"orange-text\">`\n",
    "\n",
    "Leave the `blue-text` and `pink-text` classes on your `h1` element.\n",
    "\n",
    "Create a CSS declaration for your `orange-text` id in your style element. Here's an example of what this looks like:\n",
    "\n",
    "```CSS\n",
    "#brown-text {\n",
    "  color: brown;\n",
    "}\n",
    "```\n",
    "\n",
    "**Note**: It doesn't matter whether you declare this CSS above or below pink-text class, since id attribute will always take precedence."
   ]
  },
  {
   "cell_type": "markdown",
   "metadata": {},
   "source": [
    "```HTML\n",
    "<style>\n",
    "\tbody {\n",
    "\t\tbackground-color: black;\n",
    "\t\tfont-family: monospace;\n",
    "\t\tcolor: green;\n",
    "\t}\n",
    "\t\n",
    "\t.pink-text {\n",
    "\t\tcolor: pink;\n",
    "\t}\n",
    "\t\n",
    "\t.blue-text {\n",
    "\t\tcolor: blue;\n",
    "\t}\n",
    "\t\n",
    "\t#orange-text {\n",
    "\t\tcolor: orange;\n",
    "\t}\n",
    "</style>\n",
    "<h1 id=\"orange-text\" class=\"pink-text blue-text\">Hello World!</h1>\n",
    "```"
   ]
  },
  {
   "cell_type": "code",
   "execution_count": 58,
   "metadata": {},
   "outputs": [
    {
     "data": {
      "text/html": [
       "\n",
       "        <iframe\n",
       "            width=\"100%\"\n",
       "            height=\"500\"\n",
       "            src=\"./source-solution/02-basic-css/028-override-class-declarations-by-styling-id-attributes.html\"\n",
       "            frameborder=\"0\"\n",
       "            allowfullscreen\n",
       "        ></iframe>\n",
       "        "
      ],
      "text/plain": [
       "<IPython.lib.display.IFrame at 0x17a821df5f8>"
      ]
     },
     "execution_count": 58,
     "metadata": {},
     "output_type": "execute_result"
    }
   ],
   "source": [
    "IFrame('./source-solution/02-basic-css/028-override-class-declarations-by-styling-id-attributes.html', '100%', 500)"
   ]
  },
  {
   "cell_type": "markdown",
   "metadata": {},
   "source": [
    "### Override Class Declarations with Inline Styles"
   ]
  },
  {
   "cell_type": "markdown",
   "metadata": {},
   "source": [
    "So we've proven that id declarations override class declarations, regardless of where they are declared in your `style` element CSS.\n",
    "\n",
    "There are other ways that you can override CSS. Do you remember inline styles?\n",
    "\n",
    "---\n",
    "Use an inline style to try to make our `h1` element white. Remember, in line styles look like this:\n",
    "\n",
    "`<h1 style=\"color: green;\">`\n",
    "\n",
    "Leave the `blue-text` and `pink-text` classes on your `h1` element."
   ]
  },
  {
   "cell_type": "markdown",
   "metadata": {},
   "source": [
    "```HTML\n",
    "<style>\n",
    "\tbody {\n",
    "\t\tbackground-color: black;\n",
    "\t\tfont-family: monospace;\n",
    "\t\tcolor: green;\n",
    "\t}\n",
    "\t\n",
    "\t#orange-text {\n",
    "\t\tcolor: orange;\n",
    "\t}\n",
    "\t\n",
    "\t.pink-text {\n",
    "\t\tcolor: pink;\n",
    "\t}\n",
    "\t\n",
    "\t.blue-text {\n",
    "\t\tcolor: blue;\n",
    "\t}\n",
    "</style>\n",
    "<h1 style=\"color: white\" id=\"orange-text\" class=\"pink-text blue-text\">Hello World!</h1>\n",
    "```"
   ]
  },
  {
   "cell_type": "code",
   "execution_count": 59,
   "metadata": {},
   "outputs": [
    {
     "data": {
      "text/html": [
       "\n",
       "        <iframe\n",
       "            width=\"100%\"\n",
       "            height=\"500\"\n",
       "            src=\"./source-solution/02-basic-css/029-override-class-declarations-with-inline-styles.html\"\n",
       "            frameborder=\"0\"\n",
       "            allowfullscreen\n",
       "        ></iframe>\n",
       "        "
      ],
      "text/plain": [
       "<IPython.lib.display.IFrame at 0x17a821df9e8>"
      ]
     },
     "execution_count": 59,
     "metadata": {},
     "output_type": "execute_result"
    }
   ],
   "source": [
    "IFrame('./source-solution/02-basic-css/029-override-class-declarations-with-inline-styles.html', '100%', 500)"
   ]
  },
  {
   "cell_type": "markdown",
   "metadata": {},
   "source": [
    "### Override All Other Styles by using Important"
   ]
  },
  {
   "cell_type": "markdown",
   "metadata": {},
   "source": [
    "Yay! We just proved that inline styles will override all the CSS declarations in your `style` element.\n",
    "\n",
    "But wait. There's one last way to override CSS. This is the most powerful method of all. But before we do it, let's talk about why you would ever want to override CSS.\n",
    "\n",
    "In many situations, you will use CSS libraries. These may accidentally override your own CSS. So when you absolutely need to be sure that an element has specific CSS, you can use `!important`\n",
    "\n",
    "Let's go all the way back to our `pink-text` class declaration. Remember that our `pink-text` class was overridden by subsequent class declarations, id declarations, and inline styles.\n",
    "\n",
    "---\n",
    "Let's add the keyword `!important` to your `pink-text` element's color declaration to make 100% sure that your `h1` element will be pink.\n",
    "\n",
    "An example of how to do this is:\n",
    "\n",
    "`color: red !important;`"
   ]
  },
  {
   "cell_type": "markdown",
   "metadata": {},
   "source": [
    "```HTML\n",
    "<style>\n",
    "\tbody {\n",
    "\t\tbackground-color: black;\n",
    "\t\tfont-family: monospace;\n",
    "\t\tcolor: green;\n",
    "\t}\n",
    "\t\n",
    "\t#orange-text {\n",
    "\t\tcolor: orange;\n",
    "\t}\n",
    "\t\n",
    "\t.pink-text {\n",
    "\t\tcolor: pink !important;\n",
    "\t}\n",
    "\t\n",
    "\t.blue-text {\n",
    "\t\tcolor: blue;\n",
    "\t}\n",
    "</style>\n",
    "<h1 id=\"orange-text\" class=\"pink-text blue-text\" style=\"color: white\">Hello World!</h1>\n",
    "```"
   ]
  },
  {
   "cell_type": "code",
   "execution_count": 60,
   "metadata": {},
   "outputs": [
    {
     "data": {
      "text/html": [
       "\n",
       "        <iframe\n",
       "            width=\"100%\"\n",
       "            height=\"500\"\n",
       "            src=\"./source-solution/02-basic-css/030-override-all-other-styles-by-using-important.html\"\n",
       "            frameborder=\"0\"\n",
       "            allowfullscreen\n",
       "        ></iframe>\n",
       "        "
      ],
      "text/plain": [
       "<IPython.lib.display.IFrame at 0x17a821dfcc0>"
      ]
     },
     "execution_count": 60,
     "metadata": {},
     "output_type": "execute_result"
    }
   ],
   "source": [
    "IFrame('./source-solution/02-basic-css/030-override-all-other-styles-by-using-important.html', '100%', 500)"
   ]
  },
  {
   "cell_type": "markdown",
   "metadata": {},
   "source": [
    "### Use Hex Code for Specific Colors"
   ]
  },
  {
   "cell_type": "markdown",
   "metadata": {},
   "source": [
    "Did you know there are other ways to represent colors in CSS? One of these ways is called hexadecimal code, or hex code for short.\n",
    "\n",
    "We usually use decimals, or base 10 numbers, which use the symbols 0 to 9 for each digit. Hexadecimals (or hex) are base 16 numbers. This means it uses sixteen distinct symbols. Like decimals, the symbols 0-9 represent the values zero to nine. Then A,B,C,D,E,F represent the values ten to fifteen. Altogether, 0 to F can represent a digit in hexadecimal, giving us 16 total possible values. You can find more information about [hexadecimal numbers here](https://en.wikipedia.org/wiki/Hexadecimal).\n",
    "\n",
    "In CSS, we can use 6 hexadecimal digits to represent colors, two each for the red (R), green (G), and blue (B) components. For example, `#000000` is black and is also the lowest possible value. You can find more information about the RGB color system here.\n",
    "\n",
    "```CSS\n",
    "body {\n",
    "  color: #000000;\n",
    "}\n",
    "```\n",
    "\n",
    "---\n",
    "Replace the word `black` in our `body` element's `background-color` with its hex code representation, `#000000`."
   ]
  },
  {
   "cell_type": "markdown",
   "metadata": {},
   "source": [
    "```HTML\n",
    "<style>\n",
    "\tbody {\n",
    "\t\tbackground-color: #000000;\n",
    "\t}\n",
    "</style>\n",
    "```"
   ]
  },
  {
   "cell_type": "code",
   "execution_count": 61,
   "metadata": {},
   "outputs": [
    {
     "data": {
      "text/html": [
       "\n",
       "        <iframe\n",
       "            width=\"100%\"\n",
       "            height=\"500\"\n",
       "            src=\"./source-solution/02-basic-css/031-use-hex-code-for-specific-colors.html\"\n",
       "            frameborder=\"0\"\n",
       "            allowfullscreen\n",
       "        ></iframe>\n",
       "        "
      ],
      "text/plain": [
       "<IPython.lib.display.IFrame at 0x17a821b40f0>"
      ]
     },
     "execution_count": 61,
     "metadata": {},
     "output_type": "execute_result"
    }
   ],
   "source": [
    "IFrame('./source-solution/02-basic-css/031-use-hex-code-for-specific-colors.html', '100%', 500)"
   ]
  },
  {
   "cell_type": "markdown",
   "metadata": {},
   "source": [
    "### Use Hex Code to Mix Colors"
   ]
  },
  {
   "cell_type": "markdown",
   "metadata": {},
   "source": [
    "To review, hex codes use 6 hexadecimal digits to represent colors, two each for red (R), green (G), and blue (B) components.\n",
    "\n",
    "From these three pure colors (red, green, and blue), we can vary the amounts of each to create over 16 million other colors!\n",
    "\n",
    "For example, orange is pure red, mixed with some green, and no blue. In hex code, this translates to being `#FFA500`.\n",
    "\n",
    "The digit `0` is the lowest number in hex code, and represents a complete absence of color.\n",
    "\n",
    "The digit `F` is the highest number in hex code, and represents the maximum possible brightness.\n",
    "\n",
    "---\n",
    "Replace the color words in our `style` element with their correct hex codes.\n",
    "\n",
    "| Color       | Hex Code   |\n",
    "|-------------|------------|\n",
    "| Dodger Blue | `#1E90FF`  |\n",
    "| Green       | `#00FF00`  |\n",
    "| Orange      | `#FFA500`  |\n",
    "| Red         | `#FF0000`  |"
   ]
  },
  {
   "cell_type": "markdown",
   "metadata": {},
   "source": [
    "```HTML\n",
    "<style>\n",
    "\t.red-text {\n",
    "\t\tcolor: #FF0000;\n",
    "\t}\n",
    "\t\n",
    "\t.green-text {\n",
    "\t\tcolor: #00FF00;\n",
    "\t}\n",
    "\t\n",
    "\t.dodger-blue-text {\n",
    "\t\tcolor: #1E90FF;\n",
    "\t}\n",
    "\t\n",
    "\t.orange-text {\n",
    "\t\tcolor: #FFA500;\n",
    "\t}\n",
    "</style>\n",
    "\n",
    "<h1 class=\"red-text\">I am red!</h1>\n",
    "\n",
    "<h1 class=\"green-text\">I am green!</h1>\n",
    "\n",
    "<h1 class=\"dodger-blue-text\">I am dodger blue!</h1>\n",
    "\n",
    "<h1 class=\"orange-text\">I am orange!</h1>\n",
    "```"
   ]
  },
  {
   "cell_type": "code",
   "execution_count": 62,
   "metadata": {},
   "outputs": [
    {
     "data": {
      "text/html": [
       "\n",
       "        <iframe\n",
       "            width=\"100%\"\n",
       "            height=\"500\"\n",
       "            src=\"./source-solution/02-basic-css/032-use-hex-code-to-mix-colors.html\"\n",
       "            frameborder=\"0\"\n",
       "            allowfullscreen\n",
       "        ></iframe>\n",
       "        "
      ],
      "text/plain": [
       "<IPython.lib.display.IFrame at 0x17a821b4400>"
      ]
     },
     "execution_count": 62,
     "metadata": {},
     "output_type": "execute_result"
    }
   ],
   "source": [
    "IFrame('./source-solution/02-basic-css/032-use-hex-code-to-mix-colors.html', '100%', 500)"
   ]
  },
  {
   "cell_type": "markdown",
   "metadata": {},
   "source": [
    "### Use Abbreviated Hex Code"
   ]
  },
  {
   "cell_type": "markdown",
   "metadata": {},
   "source": [
    "Many people feel overwhelmed by the possibilities of more than 16 million colors. And it's difficult to remember hex code. Fortunately, you can shorten it.\n",
    "\n",
    "For example, red's hex code `#FF0000` can be shortened to `#F00`. This shortened form gives one digit for red, one digit for green, and one digit for blue.\n",
    "\n",
    "This reduces the total number of possible colors to around 4,000. But browsers will interpret `#FF0000` and `#F00` as exactly the same color.\n",
    "\n",
    "---\n",
    "Go ahead, try using the abbreviated hex codes to color the correct elements.\n",
    "\n",
    "| Color       | Short Hex Code |\n",
    "|-------------|----------------|\n",
    "| Cyan        | `#0FF`         |\n",
    "| Green       | `#0F0`         |\n",
    "| Red         | `#F00`         |\n",
    "| Fuchsia     | `#F0F`         |"
   ]
  },
  {
   "cell_type": "markdown",
   "metadata": {},
   "source": [
    "```HTML\n",
    "<style>\n",
    "\t.red-text {\n",
    "\t\tcolor: #F00;\n",
    "\t}\n",
    "\t\n",
    "\t.fuchsia-text {\n",
    "\t\tcolor: #F0F;\n",
    "\t}\n",
    "\t\n",
    "\t.cyan-text {\n",
    "\t\tcolor: #0FF;\n",
    "\t}\n",
    "\t\n",
    "\t.green-text {\n",
    "\t\tcolor: #0F0;\n",
    "\t}\n",
    "</style>\n",
    "\n",
    "<h1 class=\"red-text\">I am red!</h1>\n",
    "\n",
    "<h1 class=\"fuchsia-text\">I am fuchsia!</h1>\n",
    "\n",
    "<h1 class=\"cyan-text\">I am cyan!</h1>\n",
    "\n",
    "<h1 class=\"green-text\">I am green!</h1>\n",
    "```"
   ]
  },
  {
   "cell_type": "code",
   "execution_count": 63,
   "metadata": {},
   "outputs": [
    {
     "data": {
      "text/html": [
       "\n",
       "        <iframe\n",
       "            width=\"100%\"\n",
       "            height=\"500\"\n",
       "            src=\"./source-solution/02-basic-css/033-use-abbreviated-hex-code.html\"\n",
       "            frameborder=\"0\"\n",
       "            allowfullscreen\n",
       "        ></iframe>\n",
       "        "
      ],
      "text/plain": [
       "<IPython.lib.display.IFrame at 0x17a821b4668>"
      ]
     },
     "execution_count": 63,
     "metadata": {},
     "output_type": "execute_result"
    }
   ],
   "source": [
    "IFrame('./source-solution/02-basic-css/033-use-abbreviated-hex-code.html', '100%', 500)"
   ]
  },
  {
   "cell_type": "markdown",
   "metadata": {},
   "source": [
    "### Use RGB values to Color Elements"
   ]
  },
  {
   "cell_type": "markdown",
   "metadata": {},
   "source": [
    "Another way you can represent colors in CSS is by using `RGB` values.\n",
    "\n",
    "The RGB value for black looks like this:\n",
    "\n",
    "\n",
    "`rgb(0, 0, 0)`\n",
    "\n",
    "The RGB value for white looks like this:\n",
    "\n",
    "`rgb(255, 255, 255)`\n",
    "\n",
    "Instead of using six hexadecimal digits like you do with hex code, with `RGB` you specify the brightness of each color with a number between 0 and 255.\n",
    "\n",
    "If you do the math, the two digits for one color equal 16 times 16, which gives us 256 total values. So `RGB`, which starts counting from zero, has the exact same number of possible values as hex code.\n",
    "\n",
    "Here's an example of how you'd change the body background to orange using its RGB code.\n",
    "\n",
    "```CSS\n",
    "body {\n",
    "  background-color: rgb(255, 165, 0);\n",
    "}\n",
    "```\n",
    "\n",
    "---\n",
    "Let's replace the hex code in our `body` element's background color with the RGB value for black: `rgb(0, 0, 0)`"
   ]
  },
  {
   "cell_type": "markdown",
   "metadata": {},
   "source": [
    "```HTML\n",
    "<style>\n",
    "\tbody {\n",
    "\t\tbackground-color: rgb(0, 0, 0);\n",
    "\t}\n",
    "</style>\n",
    "```"
   ]
  },
  {
   "cell_type": "code",
   "execution_count": 64,
   "metadata": {},
   "outputs": [
    {
     "data": {
      "text/html": [
       "\n",
       "        <iframe\n",
       "            width=\"100%\"\n",
       "            height=\"500\"\n",
       "            src=\"./source-solution/02-basic-css/034-use-rgb-values-to-color-elements.html\"\n",
       "            frameborder=\"0\"\n",
       "            allowfullscreen\n",
       "        ></iframe>\n",
       "        "
      ],
      "text/plain": [
       "<IPython.lib.display.IFrame at 0x17a821b4a90>"
      ]
     },
     "execution_count": 64,
     "metadata": {},
     "output_type": "execute_result"
    }
   ],
   "source": [
    "IFrame('./source-solution/02-basic-css/034-use-rgb-values-to-color-elements.html', '100%', 500)"
   ]
  },
  {
   "cell_type": "markdown",
   "metadata": {},
   "source": [
    "### Use RGB to Mix Colors"
   ]
  },
  {
   "cell_type": "markdown",
   "metadata": {},
   "source": [
    "Just like with hex code, you can mix colors in RGB by using combinations of different values.\n",
    "\n",
    "---\n",
    "Replace the hex codes in our `style` element with their correct RGB values.\n",
    "\n",
    "| Color       | RGB                  |\n",
    "|-------------|----------------------|\n",
    "| Blue        | `rgb(0, 0, 255)`     |\n",
    "| Red         | `rgb(255, 0, 0)`     |\n",
    "| Orchid      | `rgb(218, 112, 214)` |\n",
    "| Sienna      | `rgb(160, 82, 45)`   |"
   ]
  },
  {
   "cell_type": "markdown",
   "metadata": {},
   "source": [
    "```HTML\n",
    "<style>\n",
    "\t.red-text {\n",
    "\t\tcolor: rgb(255, 0, 0);\n",
    "\t}\n",
    "\t\n",
    "\t.orchid-text {\n",
    "\t\tcolor: rgb(218, 112, 214);\n",
    "\t}\n",
    "\t\n",
    "\t.sienna-text {\n",
    "\t\tcolor: rgb(160, 82, 45);\n",
    "\t}\n",
    "\t\n",
    "\t.blue-text {\n",
    "\t\tcolor: rgb(0, 0, 255);\n",
    "\t}\n",
    "</style>\n",
    "\n",
    "<h1 class=\"red-text\">I am red!</h1>\n",
    "\n",
    "<h1 class=\"orchid-text\">I am orchid!</h1>\n",
    "\n",
    "<h1 class=\"sienna-text\">I am sienna!</h1>\n",
    "\n",
    "<h1 class=\"blue-text\">I am blue!</h1>\n",
    "```"
   ]
  },
  {
   "cell_type": "code",
   "execution_count": 65,
   "metadata": {},
   "outputs": [
    {
     "data": {
      "text/html": [
       "\n",
       "        <iframe\n",
       "            width=\"100%\"\n",
       "            height=\"500\"\n",
       "            src=\"./source-solution/02-basic-css/035-use-rgb-to-mix-colors.html\"\n",
       "            frameborder=\"0\"\n",
       "            allowfullscreen\n",
       "        ></iframe>\n",
       "        "
      ],
      "text/plain": [
       "<IPython.lib.display.IFrame at 0x17a821b4e10>"
      ]
     },
     "execution_count": 65,
     "metadata": {},
     "output_type": "execute_result"
    }
   ],
   "source": [
    "IFrame('./source-solution/02-basic-css/035-use-rgb-to-mix-colors.html', '100%', 500)"
   ]
  },
  {
   "cell_type": "markdown",
   "metadata": {},
   "source": [
    "### Use CSS Variables to change several elements at once"
   ]
  },
  {
   "cell_type": "markdown",
   "metadata": {},
   "source": [
    "CSS Variables are a powerful way to change many CSS style properties at once by changing only one value.\n",
    "\n",
    "Follow the instructions below to see how changing just three values can change the styling of many elements.\n",
    "\n",
    "---\n",
    "In the `penguin` class, change the `black` value to `gray`, the `gray` value to `white`, and the `yellow` value to `orange`."
   ]
  },
  {
   "cell_type": "markdown",
   "metadata": {},
   "source": [
    "```HTML\n",
    "<style>\n",
    "\t.penguin {\n",
    "\t\t/* change code below */\n",
    "\t\t--penguin-skin: gray;\n",
    "\t\t--penguin-belly: white;\n",
    "\t\t--penguin-beak: orange;\n",
    "\t\t/* change code above */\n",
    "\t\tposition: relative;\n",
    "\t\tmargin: auto;\n",
    "\t\tdisplay: block;\n",
    "\t\tmargin-top: 5%;\n",
    "\t\twidth: 300px;\n",
    "\t\theight: 300px;\n",
    "\t}\n",
    "\t\n",
    "\t.penguin-top {\n",
    "\t\ttop: 10%;\n",
    "\t\tleft: 25%;\n",
    "\t\tbackground: var(--penguin-skin, gray);\n",
    "\t\twidth: 50%;\n",
    "\t\theight: 45%;\n",
    "\t\tborder-radius: 70% 70% 60% 60%;\n",
    "\t}\n",
    "\t\n",
    "\t.penguin-bottom {\n",
    "\t\ttop: 40%;\n",
    "\t\tleft: 23.5%;\n",
    "\t\tbackground: var(--penguin-skin, gray);\n",
    "\t\twidth: 53%;\n",
    "\t\theight: 45%;\n",
    "\t\tborder-radius: 70% 70% 100% 100%;\n",
    "\t}\n",
    "\t\n",
    "\t.right-hand {\n",
    "\t\ttop: 0%;\n",
    "\t\tleft: -5%;\n",
    "\t\tbackground: var(--penguin-skin, gray);\n",
    "\t\twidth: 30%;\n",
    "\t\theight: 60%;\n",
    "\t\tborder-radius: 30% 30% 120% 30%;\n",
    "\t\ttransform: rotate(45deg);\n",
    "\t\tz-index: -1;\n",
    "\t}\n",
    "\t\n",
    "\t.left-hand {\n",
    "\t\ttop: 0%;\n",
    "\t\tleft: 75%;\n",
    "\t\tbackground: var(--penguin-skin, gray);\n",
    "\t\twidth: 30%;\n",
    "\t\theight: 60%;\n",
    "\t\tborder-radius: 30% 30% 30% 120%;\n",
    "\t\ttransform: rotate(-45deg);\n",
    "\t\tz-index: -1;\n",
    "\t}\n",
    "\t\n",
    "\t.right-cheek {\n",
    "\t\ttop: 15%;\n",
    "\t\tleft: 35%;\n",
    "\t\tbackground: var(--penguin-belly, white);\n",
    "\t\twidth: 60%;\n",
    "\t\theight: 70%;\n",
    "\t\tborder-radius: 70% 70% 60% 60%;\n",
    "\t}\n",
    "\t\n",
    "\t.left-cheek {\n",
    "\t\ttop: 15%;\n",
    "\t\tleft: 5%;\n",
    "\t\tbackground: var(--penguin-belly, white);\n",
    "\t\twidth: 60%;\n",
    "\t\theight: 70%;\n",
    "\t\tborder-radius: 70% 70% 60% 60%;\n",
    "\t}\n",
    "\t\n",
    "\t.belly {\n",
    "\t\ttop: 60%;\n",
    "\t\tleft: 2.5%;\n",
    "\t\tbackground: var(--penguin-belly, white);\n",
    "\t\twidth: 95%;\n",
    "\t\theight: 100%;\n",
    "\t\tborder-radius: 120% 120% 100% 100%;\n",
    "\t}\n",
    "\t\n",
    "\t.right-feet {\n",
    "\t\ttop: 85%;\n",
    "\t\tleft: 60%;\n",
    "\t\tbackground: var(--penguin-beak, orange);\n",
    "\t\twidth: 15%;\n",
    "\t\theight: 30%;\n",
    "\t\tborder-radius: 50% 50% 50% 50%;\n",
    "\t\ttransform: rotate(-80deg);\n",
    "\t\tz-index: -2222;\n",
    "\t}\n",
    "\t\n",
    "\t.left-feet {\n",
    "\t\ttop: 85%;\n",
    "\t\tleft: 25%;\n",
    "\t\tbackground: var(--penguin-beak, orange);\n",
    "\t\twidth: 15%;\n",
    "\t\theight: 30%;\n",
    "\t\tborder-radius: 50% 50% 50% 50%;\n",
    "\t\ttransform: rotate(80deg);\n",
    "\t\tz-index: -2222;\n",
    "\t}\n",
    "\t\n",
    "\t.right-eye {\n",
    "\t\ttop: 45%;\n",
    "\t\tleft: 60%;\n",
    "\t\tbackground: black;\n",
    "\t\twidth: 15%;\n",
    "\t\theight: 17%;\n",
    "\t\tborder-radius: 50%;\n",
    "\t}\n",
    "\t\n",
    "\t.left-eye {\n",
    "\t\ttop: 45%;\n",
    "\t\tleft: 25%;\n",
    "\t\tbackground: black;\n",
    "\t\twidth: 15%;\n",
    "\t\theight: 17%;\n",
    "\t\tborder-radius: 50%;\n",
    "\t}\n",
    "\t\n",
    "\t.sparkle {\n",
    "\t\ttop: 25%;\n",
    "\t\tleft: 15%;\n",
    "\t\tbackground: white;\n",
    "\t\twidth: 35%;\n",
    "\t\theight: 35%;\n",
    "\t\tborder-radius: 50%;\n",
    "\t}\n",
    "\t\n",
    "\t.blush-right {\n",
    "\t\ttop: 65%;\n",
    "\t\tleft: 15%;\n",
    "\t\tbackground: pink;\n",
    "\t\twidth: 15%;\n",
    "\t\theight: 10%;\n",
    "\t\tborder-radius: 50%;\n",
    "\t}\n",
    "\t\n",
    "\t.blush-left {\n",
    "\t\ttop: 65%;\n",
    "\t\tleft: 70%;\n",
    "\t\tbackground: pink;\n",
    "\t\twidth: 15%;\n",
    "\t\theight: 10%;\n",
    "\t\tborder-radius: 50%;\n",
    "\t}\n",
    "\t\n",
    "\t.beak-top {\n",
    "\t\ttop: 60%;\n",
    "\t\tleft: 40%;\n",
    "\t\tbackground: var(--penguin-beak, orange);\n",
    "\t\twidth: 20%;\n",
    "\t\theight: 10%;\n",
    "\t\tborder-radius: 50%;\n",
    "\t}\n",
    "\t\n",
    "\t.beak-bottom {\n",
    "\t\ttop: 65%;\n",
    "\t\tleft: 42%;\n",
    "\t\tbackground: var(--penguin-beak, orange);\n",
    "\t\twidth: 16%;\n",
    "\t\theight: 10%;\n",
    "\t\tborder-radius: 50%;\n",
    "\t}\n",
    "\t\n",
    "\tbody {\n",
    "\t\tbackground: #c6faf1;\n",
    "\t}\n",
    "\t\n",
    "\t.penguin * {\n",
    "\t\tposition: absolute;\n",
    "\t}\n",
    "</style>\n",
    "<div class=\"penguin\">\n",
    "\t<div class=\"penguin-bottom\">\n",
    "\t\t<div class=\"right-hand\"></div>\n",
    "\t\t<div class=\"left-hand\"></div>\n",
    "\t\t<div class=\"right-feet\"></div>\n",
    "\t\t<div class=\"left-feet\"></div>\n",
    "\t</div>\n",
    "\t<div class=\"penguin-top\">\n",
    "\t\t<div class=\"right-cheek\"></div>\n",
    "\t\t<div class=\"left-cheek\"></div>\n",
    "\t\t<div class=\"belly\"></div>\n",
    "\t\t<div class=\"right-eye\">\n",
    "\t\t\t<div class=\"sparkle\"></div>\n",
    "\t\t</div>\n",
    "\t\t<div class=\"left-eye\">\n",
    "\t\t\t<div class=\"sparkle\"></div>\n",
    "\t\t</div>\n",
    "\t\t<div class=\"blush-right\"></div>\n",
    "\t\t<div class=\"blush-left\"></div>\n",
    "\t\t<div class=\"beak-top\"></div>\n",
    "\t\t<div class=\"beak-bottom\"></div>\n",
    "\t</div>\n",
    "</div>\n",
    "```"
   ]
  },
  {
   "cell_type": "code",
   "execution_count": 66,
   "metadata": {},
   "outputs": [
    {
     "data": {
      "text/html": [
       "\n",
       "        <iframe\n",
       "            width=\"100%\"\n",
       "            height=\"500\"\n",
       "            src=\"./source-solution/02-basic-css/036-use-css-variables-to-change-several-elements-at-once.html\"\n",
       "            frameborder=\"0\"\n",
       "            allowfullscreen\n",
       "        ></iframe>\n",
       "        "
      ],
      "text/plain": [
       "<IPython.lib.display.IFrame at 0x17a821ed0f0>"
      ]
     },
     "execution_count": 66,
     "metadata": {},
     "output_type": "execute_result"
    }
   ],
   "source": [
    "IFrame('./source-solution/02-basic-css/036-use-css-variables-to-change-several-elements-at-once.html', '100%', 500)"
   ]
  },
  {
   "cell_type": "markdown",
   "metadata": {},
   "source": [
    "### Create a custom CSS Variable"
   ]
  },
  {
   "cell_type": "markdown",
   "metadata": {},
   "source": [
    "To create a CSS variable, you just need to give it a name with two hyphens in front of it and assign it a value like this:\n",
    "\n",
    "`--penguin-skin: gray;`\n",
    "\n",
    "This will create a variable named `--penguin-skin` and assign it the value of `gray`. Now you can use that variable elsewhere in your CSS to change the value of other elements to gray.\n",
    "\n",
    "---\n",
    "In the `penguin` class, create a variable name `--penguin-skin` and give it a value of `gray`."
   ]
  },
  {
   "cell_type": "markdown",
   "metadata": {},
   "source": [
    "```HTML\n",
    "<style>\n",
    "\t.penguin {\n",
    "\t\t/* add code below */\n",
    "\t\t--penguin-skin: gray;\n",
    "\t\t/* add code above */\n",
    "\t\tposition: relative;\n",
    "\t\tmargin: auto;\n",
    "\t\tdisplay: block;\n",
    "\t\tmargin-top: 5%;\n",
    "\t\twidth: 300px;\n",
    "\t\theight: 300px;\n",
    "\t}\n",
    "\t\n",
    "\t.penguin-top {\n",
    "\t\ttop: 10%;\n",
    "\t\tleft: 25%;\n",
    "\t\tbackground: black;\n",
    "\t\twidth: 50%;\n",
    "\t\theight: 45%;\n",
    "\t\tborder-radius: 70% 70% 60% 60%;\n",
    "\t}\n",
    "\t\n",
    "\t.penguin-bottom {\n",
    "\t\ttop: 40%;\n",
    "\t\tleft: 23.5%;\n",
    "\t\tbackground: black;\n",
    "\t\twidth: 53%;\n",
    "\t\theight: 45%;\n",
    "\t\tborder-radius: 70% 70% 100% 100%;\n",
    "\t}\n",
    "\t\n",
    "\t.right-hand {\n",
    "\t\ttop: 0%;\n",
    "\t\tleft: -5%;\n",
    "\t\tbackground: black;\n",
    "\t\twidth: 30%;\n",
    "\t\theight: 60%;\n",
    "\t\tborder-radius: 30% 30% 120% 30%;\n",
    "\t\ttransform: rotate(45deg);\n",
    "\t\tz-index: -1;\n",
    "\t}\n",
    "\t\n",
    "\t.left-hand {\n",
    "\t\ttop: 0%;\n",
    "\t\tleft: 75%;\n",
    "\t\tbackground: black;\n",
    "\t\twidth: 30%;\n",
    "\t\theight: 60%;\n",
    "\t\tborder-radius: 30% 30% 30% 120%;\n",
    "\t\ttransform: rotate(-45deg);\n",
    "\t\tz-index: -1;\n",
    "\t}\n",
    "\t\n",
    "\t.right-cheek {\n",
    "\t\ttop: 15%;\n",
    "\t\tleft: 35%;\n",
    "\t\tbackground: white;\n",
    "\t\twidth: 60%;\n",
    "\t\theight: 70%;\n",
    "\t\tborder-radius: 70% 70% 60% 60%;\n",
    "\t}\n",
    "\t\n",
    "\t.left-cheek {\n",
    "\t\ttop: 15%;\n",
    "\t\tleft: 5%;\n",
    "\t\tbackground: white;\n",
    "\t\twidth: 60%;\n",
    "\t\theight: 70%;\n",
    "\t\tborder-radius: 70% 70% 60% 60%;\n",
    "\t}\n",
    "\t\n",
    "\t.belly {\n",
    "\t\ttop: 60%;\n",
    "\t\tleft: 2.5%;\n",
    "\t\tbackground: white;\n",
    "\t\twidth: 95%;\n",
    "\t\theight: 100%;\n",
    "\t\tborder-radius: 120% 120% 100% 100%;\n",
    "\t}\n",
    "\t\n",
    "\t.right-feet {\n",
    "\t\ttop: 85%;\n",
    "\t\tleft: 60%;\n",
    "\t\tbackground: orange;\n",
    "\t\twidth: 15%;\n",
    "\t\theight: 30%;\n",
    "\t\tborder-radius: 50% 50% 50% 50%;\n",
    "\t\ttransform: rotate(-80deg);\n",
    "\t\tz-index: -2222;\n",
    "\t}\n",
    "\t\n",
    "\t.left-feet {\n",
    "\t\ttop: 85%;\n",
    "\t\tleft: 25%;\n",
    "\t\tbackground: orange;\n",
    "\t\twidth: 15%;\n",
    "\t\theight: 30%;\n",
    "\t\tborder-radius: 50% 50% 50% 50%;\n",
    "\t\ttransform: rotate(80deg);\n",
    "\t\tz-index: -2222;\n",
    "\t}\n",
    "\t\n",
    "\t.right-eye {\n",
    "\t\ttop: 45%;\n",
    "\t\tleft: 60%;\n",
    "\t\tbackground: black;\n",
    "\t\twidth: 15%;\n",
    "\t\theight: 17%;\n",
    "\t\tborder-radius: 50%;\n",
    "\t}\n",
    "\t\n",
    "\t.left-eye {\n",
    "\t\ttop: 45%;\n",
    "\t\tleft: 25%;\n",
    "\t\tbackground: black;\n",
    "\t\twidth: 15%;\n",
    "\t\theight: 17%;\n",
    "\t\tborder-radius: 50%;\n",
    "\t}\n",
    "\t\n",
    "\t.sparkle {\n",
    "\t\ttop: 25%;\n",
    "\t\tleft: 15%;\n",
    "\t\tbackground: white;\n",
    "\t\twidth: 35%;\n",
    "\t\theight: 35%;\n",
    "\t\tborder-radius: 50%;\n",
    "\t}\n",
    "\t\n",
    "\t.blush-right {\n",
    "\t\ttop: 65%;\n",
    "\t\tleft: 15%;\n",
    "\t\tbackground: pink;\n",
    "\t\twidth: 15%;\n",
    "\t\theight: 10%;\n",
    "\t\tborder-radius: 50%;\n",
    "\t}\n",
    "\t\n",
    "\t.blush-left {\n",
    "\t\ttop: 65%;\n",
    "\t\tleft: 70%;\n",
    "\t\tbackground: pink;\n",
    "\t\twidth: 15%;\n",
    "\t\theight: 10%;\n",
    "\t\tborder-radius: 50%;\n",
    "\t}\n",
    "\t\n",
    "\t.beak-top {\n",
    "\t\ttop: 60%;\n",
    "\t\tleft: 40%;\n",
    "\t\tbackground: orange;\n",
    "\t\twidth: 20%;\n",
    "\t\theight: 10%;\n",
    "\t\tborder-radius: 50%;\n",
    "\t}\n",
    "\t\n",
    "\t.beak-bottom {\n",
    "\t\ttop: 65%;\n",
    "\t\tleft: 42%;\n",
    "\t\tbackground: orange;\n",
    "\t\twidth: 16%;\n",
    "\t\theight: 10%;\n",
    "\t\tborder-radius: 50%;\n",
    "\t}\n",
    "\t\n",
    "\tbody {\n",
    "\t\tbackground: #c6faf1;\n",
    "\t}\n",
    "\t\n",
    "\t.penguin * {\n",
    "\t\tposition: absolute;\n",
    "\t}\n",
    "</style>\n",
    "<div class=\"penguin\">\n",
    "\t<div class=\"penguin-bottom\">\n",
    "\t\t<div class=\"right-hand\"></div>\n",
    "\t\t<div class=\"left-hand\"></div>\n",
    "\t\t<div class=\"right-feet\"></div>\n",
    "\t\t<div class=\"left-feet\"></div>\n",
    "\t</div>\n",
    "\t<div class=\"penguin-top\">\n",
    "\t\t<div class=\"right-cheek\"></div>\n",
    "\t\t<div class=\"left-cheek\"></div>\n",
    "\t\t<div class=\"belly\"></div>\n",
    "\t\t<div class=\"right-eye\">\n",
    "\t\t\t<div class=\"sparkle\"></div>\n",
    "\t\t</div>\n",
    "\t\t<div class=\"left-eye\">\n",
    "\t\t\t<div class=\"sparkle\"></div>\n",
    "\t\t</div>\n",
    "\t\t<div class=\"blush-right\"></div>\n",
    "\t\t<div class=\"blush-left\"></div>\n",
    "\t\t<div class=\"beak-top\"></div>\n",
    "\t\t<div class=\"beak-bottom\"></div>\n",
    "\t</div>\n",
    "</div>\n",
    "```"
   ]
  },
  {
   "cell_type": "code",
   "execution_count": 67,
   "metadata": {},
   "outputs": [
    {
     "data": {
      "text/html": [
       "\n",
       "        <iframe\n",
       "            width=\"100%\"\n",
       "            height=\"500\"\n",
       "            src=\"./source-solution/02-basic-css/037-create-a-custom-css-variable.html\"\n",
       "            frameborder=\"0\"\n",
       "            allowfullscreen\n",
       "        ></iframe>\n",
       "        "
      ],
      "text/plain": [
       "<IPython.lib.display.IFrame at 0x17a821ed4a8>"
      ]
     },
     "execution_count": 67,
     "metadata": {},
     "output_type": "execute_result"
    }
   ],
   "source": [
    "IFrame('./source-solution/02-basic-css/037-create-a-custom-css-variable.html', '100%', 500)"
   ]
  },
  {
   "cell_type": "markdown",
   "metadata": {},
   "source": [
    "### Use a custom CSS Variable"
   ]
  },
  {
   "cell_type": "markdown",
   "metadata": {},
   "source": [
    "After you create your variable, you can assign its value to other CSS properties by referencing the name you gave it.\n",
    "\n",
    "```CSS\n",
    "background: var(--penguin-skin);\n",
    "```\n",
    "\n",
    "This will change the background of whatever element you are targeting to gray because that is the value of the `--penguin-skin variable`. Note that styles will not be applied unless the variable names are an exact match.\n",
    "\n",
    "---\n",
    "Apply the `--penguin-skin` variable to the `background` property of the `penguin-top`, `penguin-bottom`, `right-hand` and `left-hand` classes."
   ]
  },
  {
   "cell_type": "markdown",
   "metadata": {},
   "source": [
    "```HTML\n",
    "<style>\n",
    "\t.penguin {\n",
    "\t\t--penguin-skin: gray;\n",
    "\t\tposition: relative;\n",
    "\t\tmargin: auto;\n",
    "\t\tdisplay: block;\n",
    "\t\tmargin-top: 5%;\n",
    "\t\twidth: 300px;\n",
    "\t\theight: 300px;\n",
    "\t}\n",
    "\t\n",
    "\t.penguin-top {\n",
    "\t\ttop: 10%;\n",
    "\t\tleft: 25%;\n",
    "\t\t/* change code below */\n",
    "\t\tbackground: var(--penguin-skin);\n",
    "\t\t/* change code above */\n",
    "\t\twidth: 50%;\n",
    "\t\theight: 45%;\n",
    "\t\tborder-radius: 70% 70% 60% 60%;\n",
    "\t}\n",
    "\t\n",
    "\t.penguin-bottom {\n",
    "\t\ttop: 40%;\n",
    "\t\tleft: 23.5%;\n",
    "\t\t/* change code below */\n",
    "\t\tbackground: var(--penguin-skin);\n",
    "\t\t/* change code above */\n",
    "\t\twidth: 53%;\n",
    "\t\theight: 45%;\n",
    "\t\tborder-radius: 70% 70% 100% 100%;\n",
    "\t}\n",
    "\t\n",
    "\t.right-hand {\n",
    "\t\ttop: 0%;\n",
    "\t\tleft: -5%;\n",
    "\t\t/* change code below */\n",
    "\t\tbackground: var(--penguin-skin);\n",
    "\t\t/* change code above */\n",
    "\t\twidth: 30%;\n",
    "\t\theight: 60%;\n",
    "\t\tborder-radius: 30% 30% 120% 30%;\n",
    "\t\ttransform: rotate(45deg);\n",
    "\t\tz-index: -1;\n",
    "\t}\n",
    "\t\n",
    "\t.left-hand {\n",
    "\t\ttop: 0%;\n",
    "\t\tleft: 75%;\n",
    "\t\t/* change code below */\n",
    "\t\tbackground: var(--penguin-skin);\n",
    "\t\t/* change code above */\n",
    "\t\twidth: 30%;\n",
    "\t\theight: 60%;\n",
    "\t\tborder-radius: 30% 30% 30% 120%;\n",
    "\t\ttransform: rotate(-45deg);\n",
    "\t\tz-index: -1;\n",
    "\t}\n",
    "\t\n",
    "\t.right-cheek {\n",
    "\t\ttop: 15%;\n",
    "\t\tleft: 35%;\n",
    "\t\tbackground: white;\n",
    "\t\twidth: 60%;\n",
    "\t\theight: 70%;\n",
    "\t\tborder-radius: 70% 70% 60% 60%;\n",
    "\t}\n",
    "\t\n",
    "\t.left-cheek {\n",
    "\t\ttop: 15%;\n",
    "\t\tleft: 5%;\n",
    "\t\tbackground: white;\n",
    "\t\twidth: 60%;\n",
    "\t\theight: 70%;\n",
    "\t\tborder-radius: 70% 70% 60% 60%;\n",
    "\t}\n",
    "\t\n",
    "\t.belly {\n",
    "\t\ttop: 60%;\n",
    "\t\tleft: 2.5%;\n",
    "\t\tbackground: white;\n",
    "\t\twidth: 95%;\n",
    "\t\theight: 100%;\n",
    "\t\tborder-radius: 120% 120% 100% 100%;\n",
    "\t}\n",
    "\t\n",
    "\t.right-feet {\n",
    "\t\ttop: 85%;\n",
    "\t\tleft: 60%;\n",
    "\t\tbackground: orange;\n",
    "\t\twidth: 15%;\n",
    "\t\theight: 30%;\n",
    "\t\tborder-radius: 50% 50% 50% 50%;\n",
    "\t\ttransform: rotate(-80deg);\n",
    "\t\tz-index: -2222;\n",
    "\t}\n",
    "\t\n",
    "\t.left-feet {\n",
    "\t\ttop: 85%;\n",
    "\t\tleft: 25%;\n",
    "\t\tbackground: orange;\n",
    "\t\twidth: 15%;\n",
    "\t\theight: 30%;\n",
    "\t\tborder-radius: 50% 50% 50% 50%;\n",
    "\t\ttransform: rotate(80deg);\n",
    "\t\tz-index: -2222;\n",
    "\t}\n",
    "\t\n",
    "\t.right-eye {\n",
    "\t\ttop: 45%;\n",
    "\t\tleft: 60%;\n",
    "\t\tbackground: black;\n",
    "\t\twidth: 15%;\n",
    "\t\theight: 17%;\n",
    "\t\tborder-radius: 50%;\n",
    "\t}\n",
    "\t\n",
    "\t.left-eye {\n",
    "\t\ttop: 45%;\n",
    "\t\tleft: 25%;\n",
    "\t\tbackground: black;\n",
    "\t\twidth: 15%;\n",
    "\t\theight: 17%;\n",
    "\t\tborder-radius: 50%;\n",
    "\t}\n",
    "\t\n",
    "\t.sparkle {\n",
    "\t\ttop: 25%;\n",
    "\t\tleft: 15%;\n",
    "\t\tbackground: white;\n",
    "\t\twidth: 35%;\n",
    "\t\theight: 35%;\n",
    "\t\tborder-radius: 50%;\n",
    "\t}\n",
    "\t\n",
    "\t.blush-right {\n",
    "\t\ttop: 65%;\n",
    "\t\tleft: 15%;\n",
    "\t\tbackground: pink;\n",
    "\t\twidth: 15%;\n",
    "\t\theight: 10%;\n",
    "\t\tborder-radius: 50%;\n",
    "\t}\n",
    "\t\n",
    "\t.blush-left {\n",
    "\t\ttop: 65%;\n",
    "\t\tleft: 70%;\n",
    "\t\tbackground: pink;\n",
    "\t\twidth: 15%;\n",
    "\t\theight: 10%;\n",
    "\t\tborder-radius: 50%;\n",
    "\t}\n",
    "\t\n",
    "\t.beak-top {\n",
    "\t\ttop: 60%;\n",
    "\t\tleft: 40%;\n",
    "\t\tbackground: orange;\n",
    "\t\twidth: 20%;\n",
    "\t\theight: 10%;\n",
    "\t\tborder-radius: 50%;\n",
    "\t}\n",
    "\t\n",
    "\t.beak-bottom {\n",
    "\t\ttop: 65%;\n",
    "\t\tleft: 42%;\n",
    "\t\tbackground: orange;\n",
    "\t\twidth: 16%;\n",
    "\t\theight: 10%;\n",
    "\t\tborder-radius: 50%;\n",
    "\t}\n",
    "\t\n",
    "\tbody {\n",
    "\t\tbackground: #c6faf1;\n",
    "\t}\n",
    "\t\n",
    "\t.penguin * {\n",
    "\t\tposition: absolute;\n",
    "\t}\n",
    "</style>\n",
    "<div class=\"penguin\">\n",
    "\t<div class=\"penguin-bottom\">\n",
    "\t\t<div class=\"right-hand\"></div>\n",
    "\t\t<div class=\"left-hand\"></div>\n",
    "\t\t<div class=\"right-feet\"></div>\n",
    "\t\t<div class=\"left-feet\"></div>\n",
    "\t</div>\n",
    "\t<div class=\"penguin-top\">\n",
    "\t\t<div class=\"right-cheek\"></div>\n",
    "\t\t<div class=\"left-cheek\"></div>\n",
    "\t\t<div class=\"belly\"></div>\n",
    "\t\t<div class=\"right-eye\">\n",
    "\t\t\t<div class=\"sparkle\"></div>\n",
    "\t\t</div>\n",
    "\t\t<div class=\"left-eye\">\n",
    "\t\t\t<div class=\"sparkle\"></div>\n",
    "\t\t</div>\n",
    "\t\t<div class=\"blush-right\"></div>\n",
    "\t\t<div class=\"blush-left\"></div>\n",
    "\t\t<div class=\"beak-top\"></div>\n",
    "\t\t<div class=\"beak-bottom\"></div>\n",
    "\t</div>\n",
    "</div>\n",
    "```"
   ]
  },
  {
   "cell_type": "code",
   "execution_count": 68,
   "metadata": {},
   "outputs": [
    {
     "data": {
      "text/html": [
       "\n",
       "        <iframe\n",
       "            width=\"100%\"\n",
       "            height=\"500\"\n",
       "            src=\"./source-solution/02-basic-css/038-use-a-custom-css-variable.html\"\n",
       "            frameborder=\"0\"\n",
       "            allowfullscreen\n",
       "        ></iframe>\n",
       "        "
      ],
      "text/plain": [
       "<IPython.lib.display.IFrame at 0x17a821ed7f0>"
      ]
     },
     "execution_count": 68,
     "metadata": {},
     "output_type": "execute_result"
    }
   ],
   "source": [
    "IFrame('./source-solution/02-basic-css/038-use-a-custom-css-variable.html', '100%', 500)"
   ]
  },
  {
   "cell_type": "markdown",
   "metadata": {},
   "source": [
    "### Attach a Fallback value to a CSS Variable"
   ]
  },
  {
   "cell_type": "markdown",
   "metadata": {},
   "source": [
    "When using your variable as a CSS property value, you can attach a fallback value that your browser will revert to if the given variable is invalid.\n",
    "\n",
    "Note: This fallback is not used to increase browser compatibility, and it will not work on IE browsers. Rather, it is used so that the browser has a color to display if it cannot find your variable.\n",
    "\n",
    "Here's how you do it:\n",
    "\n",
    "```CSS\n",
    "background: var(--penguin-skin, black);\n",
    "```\n",
    "\n",
    "This will set background to black if your variable wasn't set. Note that this can be useful for debugging.\n",
    "\n",
    "---\n",
    "It looks like there is a problem with the variables supplied to the `.penguin-top` and `.penguin-bottom` classes. Rather than fix the typo, add a fallback value of `black` to the `background` property of the `.penguin-top` and `.penguin-bottom` classes."
   ]
  },
  {
   "cell_type": "markdown",
   "metadata": {},
   "source": [
    "```HTML\n",
    "<style>\n",
    "\t.penguin {\n",
    "\t\t--penguin-skin: black;\n",
    "\t\t--penguin-belly: gray;\n",
    "\t\t--penguin-beak: yellow;\n",
    "\t\tposition: relative;\n",
    "\t\tmargin: auto;\n",
    "\t\tdisplay: block;\n",
    "\t\tmargin-top: 5%;\n",
    "\t\twidth: 300px;\n",
    "\t\theight: 300px;\n",
    "\t}\n",
    "\t\n",
    "\t.penguin-top {\n",
    "\t\ttop: 10%;\n",
    "\t\tleft: 25%;\n",
    "\t\t/* change code below */\n",
    "\t\tbackground: var(--pengiun-skin, black);\n",
    "\t\t/* change code above */\n",
    "\t\twidth: 50%;\n",
    "\t\theight: 45%;\n",
    "\t\tborder-radius: 70% 70% 60% 60%;\n",
    "\t}\n",
    "\t\n",
    "\t.penguin-bottom {\n",
    "\t\ttop: 40%;\n",
    "\t\tleft: 23.5%;\n",
    "\t\t/* change code below */\n",
    "\t\tbackground: var(--pengiun-skin, black);\n",
    "\t\t/* change code above */\n",
    "\t\twidth: 53%;\n",
    "\t\theight: 45%;\n",
    "\t\tborder-radius: 70% 70% 100% 100%;\n",
    "\t}\n",
    "\t\n",
    "\t.right-hand {\n",
    "\t\ttop: 0%;\n",
    "\t\tleft: -5%;\n",
    "\t\tbackground: var(--penguin-skin, black);\n",
    "\t\twidth: 30%;\n",
    "\t\theight: 60%;\n",
    "\t\tborder-radius: 30% 30% 120% 30%;\n",
    "\t\ttransform: rotate(45deg);\n",
    "\t\tz-index: -1;\n",
    "\t}\n",
    "\t\n",
    "\t.left-hand {\n",
    "\t\ttop: 0%;\n",
    "\t\tleft: 75%;\n",
    "\t\tbackground: var(--penguin-skin, black);\n",
    "\t\twidth: 30%;\n",
    "\t\theight: 60%;\n",
    "\t\tborder-radius: 30% 30% 30% 120%;\n",
    "\t\ttransform: rotate(-45deg);\n",
    "\t\tz-index: -1;\n",
    "\t}\n",
    "\t\n",
    "\t.right-cheek {\n",
    "\t\ttop: 15%;\n",
    "\t\tleft: 35%;\n",
    "\t\tbackground: var(--penguin-belly, white);\n",
    "\t\twidth: 60%;\n",
    "\t\theight: 70%;\n",
    "\t\tborder-radius: 70% 70% 60% 60%;\n",
    "\t}\n",
    "\t\n",
    "\t.left-cheek {\n",
    "\t\ttop: 15%;\n",
    "\t\tleft: 5%;\n",
    "\t\tbackground: var(--penguin-belly, white);\n",
    "\t\twidth: 60%;\n",
    "\t\theight: 70%;\n",
    "\t\tborder-radius: 70% 70% 60% 60%;\n",
    "\t}\n",
    "\t\n",
    "\t.belly {\n",
    "\t\ttop: 60%;\n",
    "\t\tleft: 2.5%;\n",
    "\t\tbackground: var(--penguin-belly, white);\n",
    "\t\twidth: 95%;\n",
    "\t\theight: 100%;\n",
    "\t\tborder-radius: 120% 120% 100% 100%;\n",
    "\t}\n",
    "\t\n",
    "\t.right-feet {\n",
    "\t\ttop: 85%;\n",
    "\t\tleft: 60%;\n",
    "\t\tbackground: var(--penguin-beak, orange);\n",
    "\t\twidth: 15%;\n",
    "\t\theight: 30%;\n",
    "\t\tborder-radius: 50% 50% 50% 50%;\n",
    "\t\ttransform: rotate(-80deg);\n",
    "\t\tz-index: -2222;\n",
    "\t}\n",
    "\t\n",
    "\t.left-feet {\n",
    "\t\ttop: 85%;\n",
    "\t\tleft: 25%;\n",
    "\t\tbackground: var(--penguin-beak, orange);\n",
    "\t\twidth: 15%;\n",
    "\t\theight: 30%;\n",
    "\t\tborder-radius: 50% 50% 50% 50%;\n",
    "\t\ttransform: rotate(80deg);\n",
    "\t\tz-index: -2222;\n",
    "\t}\n",
    "\t\n",
    "\t.right-eye {\n",
    "\t\ttop: 45%;\n",
    "\t\tleft: 60%;\n",
    "\t\tbackground: black;\n",
    "\t\twidth: 15%;\n",
    "\t\theight: 17%;\n",
    "\t\tborder-radius: 50%;\n",
    "\t}\n",
    "\t\n",
    "\t.left-eye {\n",
    "\t\ttop: 45%;\n",
    "\t\tleft: 25%;\n",
    "\t\tbackground: black;\n",
    "\t\twidth: 15%;\n",
    "\t\theight: 17%;\n",
    "\t\tborder-radius: 50%;\n",
    "\t}\n",
    "\t\n",
    "\t.sparkle {\n",
    "\t\ttop: 25%;\n",
    "\t\tleft: 15%;\n",
    "\t\tbackground: white;\n",
    "\t\twidth: 35%;\n",
    "\t\theight: 35%;\n",
    "\t\tborder-radius: 50%;\n",
    "\t}\n",
    "\t\n",
    "\t.blush-right {\n",
    "\t\ttop: 65%;\n",
    "\t\tleft: 15%;\n",
    "\t\tbackground: pink;\n",
    "\t\twidth: 15%;\n",
    "\t\theight: 10%;\n",
    "\t\tborder-radius: 50%;\n",
    "\t}\n",
    "\t\n",
    "\t.blush-left {\n",
    "\t\ttop: 65%;\n",
    "\t\tleft: 70%;\n",
    "\t\tbackground: pink;\n",
    "\t\twidth: 15%;\n",
    "\t\theight: 10%;\n",
    "\t\tborder-radius: 50%;\n",
    "\t}\n",
    "\t\n",
    "\t.beak-top {\n",
    "\t\ttop: 60%;\n",
    "\t\tleft: 40%;\n",
    "\t\tbackground: var(--penguin-beak, orange);\n",
    "\t\twidth: 20%;\n",
    "\t\theight: 10%;\n",
    "\t\tborder-radius: 50%;\n",
    "\t}\n",
    "\t\n",
    "\t.beak-bottom {\n",
    "\t\ttop: 65%;\n",
    "\t\tleft: 42%;\n",
    "\t\tbackground: var(--penguin-beak, orange);\n",
    "\t\twidth: 16%;\n",
    "\t\theight: 10%;\n",
    "\t\tborder-radius: 50%;\n",
    "\t}\n",
    "\t\n",
    "\tbody {\n",
    "\t\tbackground: #c6faf1;\n",
    "\t}\n",
    "\t\n",
    "\t.penguin * {\n",
    "\t\tposition: absolute;\n",
    "\t}\n",
    "</style>\n",
    "<div class=\"penguin\">\n",
    "\t<div class=\"penguin-bottom\">\n",
    "\t\t<div class=\"right-hand\"></div>\n",
    "\t\t<div class=\"left-hand\"></div>\n",
    "\t\t<div class=\"right-feet\"></div>\n",
    "\t\t<div class=\"left-feet\"></div>\n",
    "\t</div>\n",
    "\t<div class=\"penguin-top\">\n",
    "\t\t<div class=\"right-cheek\"></div>\n",
    "\t\t<div class=\"left-cheek\"></div>\n",
    "\t\t<div class=\"belly\"></div>\n",
    "\t\t<div class=\"right-eye\">\n",
    "\t\t\t<div class=\"sparkle\"></div>\n",
    "\t\t</div>\n",
    "\t\t<div class=\"left-eye\">\n",
    "\t\t\t<div class=\"sparkle\"></div>\n",
    "\t\t</div>\n",
    "\t\t<div class=\"blush-right\"></div>\n",
    "\t\t<div class=\"blush-left\"></div>\n",
    "\t\t<div class=\"beak-top\"></div>\n",
    "\t\t<div class=\"beak-bottom\"></div>\n",
    "\t</div>\n",
    "</div>\n",
    "```"
   ]
  },
  {
   "cell_type": "code",
   "execution_count": 69,
   "metadata": {},
   "outputs": [
    {
     "data": {
      "text/html": [
       "\n",
       "        <iframe\n",
       "            width=\"100%\"\n",
       "            height=\"500\"\n",
       "            src=\"./source-solution/02-basic-css/039-attach-a-fallback-value-to-a-css-variable.html\"\n",
       "            frameborder=\"0\"\n",
       "            allowfullscreen\n",
       "        ></iframe>\n",
       "        "
      ],
      "text/plain": [
       "<IPython.lib.display.IFrame at 0x17a821edb38>"
      ]
     },
     "execution_count": 69,
     "metadata": {},
     "output_type": "execute_result"
    }
   ],
   "source": [
    "IFrame('./source-solution/02-basic-css/039-attach-a-fallback-value-to-a-css-variable.html', '100%', 500)"
   ]
  },
  {
   "cell_type": "markdown",
   "metadata": {},
   "source": [
    "### Improve Compatibility with Browser Fallbacks"
   ]
  },
  {
   "cell_type": "markdown",
   "metadata": {},
   "source": [
    "When working with CSS you will likely run into browser compatibility issues at some point. This is why it's important to provide browser fallbacks to avoid potential problems.\n",
    "\n",
    "When your browser parses the CSS of a webpage, it ignores any properties that it doesn't recognize or support. For example, if you use a CSS variable to assign a background color on a site, Internet Explorer will ignore the background color because it does not support CSS variables. In that case, the browser will use whatever value it has for that property. If it can't find any other value set for that property, it will revert to the default value, which is typically not ideal.\n",
    "\n",
    "This means that if you do want to provide a browser fallback, it's as easy as providing another more widely supported value immediately before your declaration. That way an older browser will have something to fall back on, while a newer browser will just interpret whatever declaration comes later in the cascade.\n",
    "\n",
    "---\n",
    "It looks like a variable is being used to set the background color of the `.red-box` class. Let's improve our browser compatibility by adding another `background` declaration right before the existing declaration and set its value to red."
   ]
  },
  {
   "cell_type": "markdown",
   "metadata": {},
   "source": [
    "```HTML\n",
    "<style>\n",
    "\t:root {\n",
    "\t\t--red-color: red;\n",
    "\t}\n",
    "\t\n",
    "\t.red-box {\n",
    "\t\tbackground: red;\n",
    "\t\tbackground: var(--red-color);\n",
    "\t\theight: 200px;\n",
    "\t\twidth: 200px;\n",
    "\t}\n",
    "</style>\n",
    "<div class=\"red-box\"></div>\n",
    "```"
   ]
  },
  {
   "cell_type": "code",
   "execution_count": 70,
   "metadata": {},
   "outputs": [
    {
     "data": {
      "text/html": [
       "\n",
       "        <iframe\n",
       "            width=\"100%\"\n",
       "            height=\"500\"\n",
       "            src=\"./source-solution/02-basic-css/040-improve-compatibility-with-browser-fallbacks.html\"\n",
       "            frameborder=\"0\"\n",
       "            allowfullscreen\n",
       "        ></iframe>\n",
       "        "
      ],
      "text/plain": [
       "<IPython.lib.display.IFrame at 0x17a821ede80>"
      ]
     },
     "execution_count": 70,
     "metadata": {},
     "output_type": "execute_result"
    }
   ],
   "source": [
    "IFrame('./source-solution/02-basic-css/040-improve-compatibility-with-browser-fallbacks.html', '100%', 500)"
   ]
  },
  {
   "cell_type": "markdown",
   "metadata": {},
   "source": [
    "### Inherit CSS Variables"
   ]
  },
  {
   "cell_type": "markdown",
   "metadata": {},
   "source": [
    "When you create a variable, it is available for you to use inside the selector in which you create it. It also is available in any of that selector's descendants. This happens because CSS variables are inherited, just like ordinary properties.\n",
    "\n",
    "To make use of inheritance, CSS variables are often defined in the :root element.\n",
    "\n",
    "`:root` is a pseudo-class selector that matches the root element of the document, usually the `html` element. By creating your variables in `:root`, they will be available globally and can be accessed from any other selector in the style sheet.\n",
    "\n",
    "---\n",
    "Define a variable named `--penguin-belly` in the `:root` selector and give it the value of `pink`. You can then see that the variable is inherited and that all the child elements which use it get pink backgrounds."
   ]
  },
  {
   "cell_type": "markdown",
   "metadata": {},
   "source": [
    "```HTML\n",
    "<style>\n",
    "\t:root {\n",
    "\t\t/* add code below */\n",
    "\t\t--penguin-belly: pink;\n",
    "\t\t/* add code above */\n",
    "\t}\n",
    "\t\n",
    "\tbody {\n",
    "\t\tbackground: var(--penguin-belly, #c6faf1);\n",
    "\t}\n",
    "\t\n",
    "\t.penguin {\n",
    "\t\t--penguin-skin: gray;\n",
    "\t\t--penguin-beak: orange;\n",
    "\t\tposition: relative;\n",
    "\t\tmargin: auto;\n",
    "\t\tdisplay: block;\n",
    "\t\tmargin-top: 5%;\n",
    "\t\twidth: 300px;\n",
    "\t\theight: 300px;\n",
    "\t}\n",
    "\t\n",
    "\t.right-cheek {\n",
    "\t\ttop: 15%;\n",
    "\t\tleft: 35%;\n",
    "\t\tbackground: var(--penguin-belly, white);\n",
    "\t\twidth: 60%;\n",
    "\t\theight: 70%;\n",
    "\t\tborder-radius: 70% 70% 60% 60%;\n",
    "\t}\n",
    "\t\n",
    "\t.left-cheek {\n",
    "\t\ttop: 15%;\n",
    "\t\tleft: 5%;\n",
    "\t\tbackground: var(--penguin-belly, white);\n",
    "\t\twidth: 60%;\n",
    "\t\theight: 70%;\n",
    "\t\tborder-radius: 70% 70% 60% 60%;\n",
    "\t}\n",
    "\t\n",
    "\t.belly {\n",
    "\t\ttop: 60%;\n",
    "\t\tleft: 2.5%;\n",
    "\t\tbackground: var(--penguin-belly, white);\n",
    "\t\twidth: 95%;\n",
    "\t\theight: 100%;\n",
    "\t\tborder-radius: 120% 120% 100% 100%;\n",
    "\t}\n",
    "\t\n",
    "\t.penguin-top {\n",
    "\t\ttop: 10%;\n",
    "\t\tleft: 25%;\n",
    "\t\tbackground: var(--penguin-skin, gray);\n",
    "\t\twidth: 50%;\n",
    "\t\theight: 45%;\n",
    "\t\tborder-radius: 70% 70% 60% 60%;\n",
    "\t}\n",
    "\t\n",
    "\t.penguin-bottom {\n",
    "\t\ttop: 40%;\n",
    "\t\tleft: 23.5%;\n",
    "\t\tbackground: var(--penguin-skin, gray);\n",
    "\t\twidth: 53%;\n",
    "\t\theight: 45%;\n",
    "\t\tborder-radius: 70% 70% 100% 100%;\n",
    "\t}\n",
    "\t\n",
    "\t.right-hand {\n",
    "\t\ttop: 0%;\n",
    "\t\tleft: -5%;\n",
    "\t\tbackground: var(--penguin-skin, gray);\n",
    "\t\twidth: 30%;\n",
    "\t\theight: 60%;\n",
    "\t\tborder-radius: 30% 30% 120% 30%;\n",
    "\t\ttransform: rotate(45deg);\n",
    "\t\tz-index: -1;\n",
    "\t}\n",
    "\t\n",
    "\t.left-hand {\n",
    "\t\ttop: 0%;\n",
    "\t\tleft: 75%;\n",
    "\t\tbackground: var(--penguin-skin, gray);\n",
    "\t\twidth: 30%;\n",
    "\t\theight: 60%;\n",
    "\t\tborder-radius: 30% 30% 30% 120%;\n",
    "\t\ttransform: rotate(-45deg);\n",
    "\t\tz-index: -1;\n",
    "\t}\n",
    "\t\n",
    "\t.right-feet {\n",
    "\t\ttop: 85%;\n",
    "\t\tleft: 60%;\n",
    "\t\tbackground: var(--penguin-beak, orange);\n",
    "\t\twidth: 15%;\n",
    "\t\theight: 30%;\n",
    "\t\tborder-radius: 50% 50% 50% 50%;\n",
    "\t\ttransform: rotate(-80deg);\n",
    "\t\tz-index: -2222;\n",
    "\t}\n",
    "\t\n",
    "\t.left-feet {\n",
    "\t\ttop: 85%;\n",
    "\t\tleft: 25%;\n",
    "\t\tbackground: var(--penguin-beak, orange);\n",
    "\t\twidth: 15%;\n",
    "\t\theight: 30%;\n",
    "\t\tborder-radius: 50% 50% 50% 50%;\n",
    "\t\ttransform: rotate(80deg);\n",
    "\t\tz-index: -2222;\n",
    "\t}\n",
    "\t\n",
    "\t.right-eye {\n",
    "\t\ttop: 45%;\n",
    "\t\tleft: 60%;\n",
    "\t\tbackground: black;\n",
    "\t\twidth: 15%;\n",
    "\t\theight: 17%;\n",
    "\t\tborder-radius: 50%;\n",
    "\t}\n",
    "\t\n",
    "\t.left-eye {\n",
    "\t\ttop: 45%;\n",
    "\t\tleft: 25%;\n",
    "\t\tbackground: black;\n",
    "\t\twidth: 15%;\n",
    "\t\theight: 17%;\n",
    "\t\tborder-radius: 50%;\n",
    "\t}\n",
    "\t\n",
    "\t.sparkle {\n",
    "\t\ttop: 25%;\n",
    "\t\tleft: 15%;\n",
    "\t\tbackground: white;\n",
    "\t\twidth: 35%;\n",
    "\t\theight: 35%;\n",
    "\t\tborder-radius: 50%;\n",
    "\t}\n",
    "\t\n",
    "\t.blush-right {\n",
    "\t\ttop: 65%;\n",
    "\t\tleft: 15%;\n",
    "\t\tbackground: pink;\n",
    "\t\twidth: 15%;\n",
    "\t\theight: 10%;\n",
    "\t\tborder-radius: 50%;\n",
    "\t}\n",
    "\t\n",
    "\t.blush-left {\n",
    "\t\ttop: 65%;\n",
    "\t\tleft: 70%;\n",
    "\t\tbackground: pink;\n",
    "\t\twidth: 15%;\n",
    "\t\theight: 10%;\n",
    "\t\tborder-radius: 50%;\n",
    "\t}\n",
    "\t\n",
    "\t.beak-top {\n",
    "\t\ttop: 60%;\n",
    "\t\tleft: 40%;\n",
    "\t\tbackground: var(--penguin-beak, orange);\n",
    "\t\twidth: 20%;\n",
    "\t\theight: 10%;\n",
    "\t\tborder-radius: 50%;\n",
    "\t}\n",
    "\t\n",
    "\t.beak-bottom {\n",
    "\t\ttop: 65%;\n",
    "\t\tleft: 42%;\n",
    "\t\tbackground: var(--penguin-beak, orange);\n",
    "\t\twidth: 16%;\n",
    "\t\theight: 10%;\n",
    "\t\tborder-radius: 50%;\n",
    "\t}\n",
    "\t\n",
    "\t.penguin * {\n",
    "\t\tposition: absolute;\n",
    "\t}\n",
    "</style>\n",
    "<div class=\"penguin\">\n",
    "\t<div class=\"penguin-bottom\">\n",
    "\t\t<div class=\"right-hand\"></div>\n",
    "\t\t<div class=\"left-hand\"></div>\n",
    "\t\t<div class=\"right-feet\"></div>\n",
    "\t\t<div class=\"left-feet\"></div>\n",
    "\t</div>\n",
    "\t<div class=\"penguin-top\">\n",
    "\t\t<div class=\"right-cheek\"></div>\n",
    "\t\t<div class=\"left-cheek\"></div>\n",
    "\t\t<div class=\"belly\"></div>\n",
    "\t\t<div class=\"right-eye\">\n",
    "\t\t\t<div class=\"sparkle\"></div>\n",
    "\t\t</div>\n",
    "\t\t<div class=\"left-eye\">\n",
    "\t\t\t<div class=\"sparkle\"></div>\n",
    "\t\t</div>\n",
    "\t\t<div class=\"blush-right\"></div>\n",
    "\t\t<div class=\"blush-left\"></div>\n",
    "\t\t<div class=\"beak-top\"></div>\n",
    "\t\t<div class=\"beak-bottom\"></div>\n",
    "\t</div>\n",
    "</div>\n",
    "```"
   ]
  },
  {
   "cell_type": "code",
   "execution_count": 71,
   "metadata": {},
   "outputs": [
    {
     "data": {
      "text/html": [
       "\n",
       "        <iframe\n",
       "            width=\"100%\"\n",
       "            height=\"500\"\n",
       "            src=\"./source-solution/02-basic-css/041-inherit-css-variables.html\"\n",
       "            frameborder=\"0\"\n",
       "            allowfullscreen\n",
       "        ></iframe>\n",
       "        "
      ],
      "text/plain": [
       "<IPython.lib.display.IFrame at 0x17a821b7240>"
      ]
     },
     "execution_count": 71,
     "metadata": {},
     "output_type": "execute_result"
    }
   ],
   "source": [
    "IFrame('./source-solution/02-basic-css/041-inherit-css-variables.html', '100%', 500)"
   ]
  },
  {
   "cell_type": "markdown",
   "metadata": {},
   "source": [
    "### Change a variable for a specific area"
   ]
  },
  {
   "cell_type": "markdown",
   "metadata": {},
   "source": [
    "When you create your variables in `:root` they will set the value of that variable for the whole page.\n",
    "\n",
    "You can then over-write these variables by setting them again within a specific element.\n",
    "\n",
    "---\n",
    "Change the value of `--penguin-belly` to `white` in the `penguin` class."
   ]
  },
  {
   "cell_type": "markdown",
   "metadata": {},
   "source": [
    "```HTML\n",
    "<style>\n",
    "\t:root {\n",
    "\t\t--penguin-skin: gray;\n",
    "\t\t--penguin-belly: pink;\n",
    "\t\t--penguin-beak: orange;\n",
    "\t}\n",
    "\t\n",
    "\tbody {\n",
    "\t\tbackground: var(--penguin-belly, #c6faf1);\n",
    "\t}\n",
    "\t\n",
    "\t.penguin {\n",
    "\t\t/* add code below */\n",
    "\t\t--penguin-belly: white;\n",
    "\t\t/* add code above */\n",
    "\t\tposition: relative;\n",
    "\t\tmargin: auto;\n",
    "\t\tdisplay: block;\n",
    "\t\tmargin-top: 5%;\n",
    "\t\twidth: 300px;\n",
    "\t\theight: 300px;\n",
    "\t}\n",
    "\t\n",
    "\t.right-cheek {\n",
    "\t\ttop: 15%;\n",
    "\t\tleft: 35%;\n",
    "\t\tbackground: var(--penguin-belly, pink);\n",
    "\t\twidth: 60%;\n",
    "\t\theight: 70%;\n",
    "\t\tborder-radius: 70% 70% 60% 60%;\n",
    "\t}\n",
    "\t\n",
    "\t.left-cheek {\n",
    "\t\ttop: 15%;\n",
    "\t\tleft: 5%;\n",
    "\t\tbackground: var(--penguin-belly, pink);\n",
    "\t\twidth: 60%;\n",
    "\t\theight: 70%;\n",
    "\t\tborder-radius: 70% 70% 60% 60%;\n",
    "\t}\n",
    "\t\n",
    "\t.belly {\n",
    "\t\ttop: 60%;\n",
    "\t\tleft: 2.5%;\n",
    "\t\tbackground: var(--penguin-belly, pink);\n",
    "\t\twidth: 95%;\n",
    "\t\theight: 100%;\n",
    "\t\tborder-radius: 120% 120% 100% 100%;\n",
    "\t}\n",
    "\t\n",
    "\t.penguin-top {\n",
    "\t\ttop: 10%;\n",
    "\t\tleft: 25%;\n",
    "\t\tbackground: var(--penguin-skin, gray);\n",
    "\t\twidth: 50%;\n",
    "\t\theight: 45%;\n",
    "\t\tborder-radius: 70% 70% 60% 60%;\n",
    "\t}\n",
    "\t\n",
    "\t.penguin-bottom {\n",
    "\t\ttop: 40%;\n",
    "\t\tleft: 23.5%;\n",
    "\t\tbackground: var(--penguin-skin, gray);\n",
    "\t\twidth: 53%;\n",
    "\t\theight: 45%;\n",
    "\t\tborder-radius: 70% 70% 100% 100%;\n",
    "\t}\n",
    "\t\n",
    "\t.right-hand {\n",
    "\t\ttop: 0%;\n",
    "\t\tleft: -5%;\n",
    "\t\tbackground: var(--penguin-skin, gray);\n",
    "\t\twidth: 30%;\n",
    "\t\theight: 60%;\n",
    "\t\tborder-radius: 30% 30% 120% 30%;\n",
    "\t\ttransform: rotate(45deg);\n",
    "\t\tz-index: -1;\n",
    "\t}\n",
    "\t\n",
    "\t.left-hand {\n",
    "\t\ttop: 0%;\n",
    "\t\tleft: 75%;\n",
    "\t\tbackground: var(--penguin-skin, gray);\n",
    "\t\twidth: 30%;\n",
    "\t\theight: 60%;\n",
    "\t\tborder-radius: 30% 30% 30% 120%;\n",
    "\t\ttransform: rotate(-45deg);\n",
    "\t\tz-index: -1;\n",
    "\t}\n",
    "\t\n",
    "\t.right-feet {\n",
    "\t\ttop: 85%;\n",
    "\t\tleft: 60%;\n",
    "\t\tbackground: var(--penguin-beak, orange);\n",
    "\t\twidth: 15%;\n",
    "\t\theight: 30%;\n",
    "\t\tborder-radius: 50% 50% 50% 50%;\n",
    "\t\ttransform: rotate(-80deg);\n",
    "\t\tz-index: -2222;\n",
    "\t}\n",
    "\t\n",
    "\t.left-feet {\n",
    "\t\ttop: 85%;\n",
    "\t\tleft: 25%;\n",
    "\t\tbackground: var(--penguin-beak, orange);\n",
    "\t\twidth: 15%;\n",
    "\t\theight: 30%;\n",
    "\t\tborder-radius: 50% 50% 50% 50%;\n",
    "\t\ttransform: rotate(80deg);\n",
    "\t\tz-index: -2222;\n",
    "\t}\n",
    "\t\n",
    "\t.right-eye {\n",
    "\t\ttop: 45%;\n",
    "\t\tleft: 60%;\n",
    "\t\tbackground: black;\n",
    "\t\twidth: 15%;\n",
    "\t\theight: 17%;\n",
    "\t\tborder-radius: 50%;\n",
    "\t}\n",
    "\t\n",
    "\t.left-eye {\n",
    "\t\ttop: 45%;\n",
    "\t\tleft: 25%;\n",
    "\t\tbackground: black;\n",
    "\t\twidth: 15%;\n",
    "\t\theight: 17%;\n",
    "\t\tborder-radius: 50%;\n",
    "\t}\n",
    "\t\n",
    "\t.sparkle {\n",
    "\t\ttop: 25%;\n",
    "\t\tleft: 15%;\n",
    "\t\tbackground: white;\n",
    "\t\twidth: 35%;\n",
    "\t\theight: 35%;\n",
    "\t\tborder-radius: 50%;\n",
    "\t}\n",
    "\t\n",
    "\t.blush-right {\n",
    "\t\ttop: 65%;\n",
    "\t\tleft: 15%;\n",
    "\t\tbackground: pink;\n",
    "\t\twidth: 15%;\n",
    "\t\theight: 10%;\n",
    "\t\tborder-radius: 50%;\n",
    "\t}\n",
    "\t\n",
    "\t.blush-left {\n",
    "\t\ttop: 65%;\n",
    "\t\tleft: 70%;\n",
    "\t\tbackground: pink;\n",
    "\t\twidth: 15%;\n",
    "\t\theight: 10%;\n",
    "\t\tborder-radius: 50%;\n",
    "\t}\n",
    "\t\n",
    "\t.beak-top {\n",
    "\t\ttop: 60%;\n",
    "\t\tleft: 40%;\n",
    "\t\tbackground: var(--penguin-beak, orange);\n",
    "\t\twidth: 20%;\n",
    "\t\theight: 10%;\n",
    "\t\tborder-radius: 50%;\n",
    "\t}\n",
    "\t\n",
    "\t.beak-bottom {\n",
    "\t\ttop: 65%;\n",
    "\t\tleft: 42%;\n",
    "\t\tbackground: var(--penguin-beak, orange);\n",
    "\t\twidth: 16%;\n",
    "\t\theight: 10%;\n",
    "\t\tborder-radius: 50%;\n",
    "\t}\n",
    "\t\n",
    "\t.penguin * {\n",
    "\t\tposition: absolute;\n",
    "\t}\n",
    "</style>\n",
    "<div class=\"penguin\">\n",
    "\t<div class=\"penguin-bottom\">\n",
    "\t\t<div class=\"right-hand\"></div>\n",
    "\t\t<div class=\"left-hand\"></div>\n",
    "\t\t<div class=\"right-feet\"></div>\n",
    "\t\t<div class=\"left-feet\"></div>\n",
    "\t</div>\n",
    "\t<div class=\"penguin-top\">\n",
    "\t\t<div class=\"right-cheek\"></div>\n",
    "\t\t<div class=\"left-cheek\"></div>\n",
    "\t\t<div class=\"belly\"></div>\n",
    "\t\t<div class=\"right-eye\">\n",
    "\t\t\t<div class=\"sparkle\"></div>\n",
    "\t\t</div>\n",
    "\t\t<div class=\"left-eye\">\n",
    "\t\t\t<div class=\"sparkle\"></div>\n",
    "\t\t</div>\n",
    "\t\t<div class=\"blush-right\"></div>\n",
    "\t\t<div class=\"blush-left\"></div>\n",
    "\t\t<div class=\"beak-top\"></div>\n",
    "\t\t<div class=\"beak-bottom\"></div>\n",
    "\t</div>\n",
    "</div>\n",
    "```"
   ]
  },
  {
   "cell_type": "code",
   "execution_count": 72,
   "metadata": {},
   "outputs": [
    {
     "data": {
      "text/html": [
       "\n",
       "        <iframe\n",
       "            width=\"100%\"\n",
       "            height=\"500\"\n",
       "            src=\"./source-solution/02-basic-css/042-change-a-variable-for-a-specific-area.html\"\n",
       "            frameborder=\"0\"\n",
       "            allowfullscreen\n",
       "        ></iframe>\n",
       "        "
      ],
      "text/plain": [
       "<IPython.lib.display.IFrame at 0x17a821b75c0>"
      ]
     },
     "execution_count": 72,
     "metadata": {},
     "output_type": "execute_result"
    }
   ],
   "source": [
    "IFrame('./source-solution/02-basic-css/042-change-a-variable-for-a-specific-area.html', '100%', 500)"
   ]
  },
  {
   "cell_type": "markdown",
   "metadata": {},
   "source": [
    "### Use a media query to change a variable"
   ]
  },
  {
   "cell_type": "markdown",
   "metadata": {},
   "source": [
    "CSS Variables can simplify the way you use media queries.\n",
    "\n",
    "For instance, when your screen is smaller or larger than your media query break point, you can change the value of a variable, and it will apply its style wherever it is used.\n",
    "\n",
    "---\n",
    "In the `:root` selector of the `media` query, change it so `--penguin-size` is redefined and given a value of `200px`. Also, redefine `--penguin-skin` and give it a value of `black`. Then resize the preview to see this change in action."
   ]
  },
  {
   "cell_type": "markdown",
   "metadata": {},
   "source": [
    "```HTML\n",
    "<style>\n",
    "\t:root {\n",
    "\t\t--penguin-size: 300px;\n",
    "\t\t--penguin-skin: gray;\n",
    "\t\t--penguin-belly: white;\n",
    "\t\t--penguin-beak: orange;\n",
    "\t}\n",
    "\t\n",
    "\t@media (max-width: 350px) {\n",
    "\t\t:root {\n",
    "\t\t\t/* add code below */\n",
    "\t\t\t--penguin-size: 200px;\n",
    "\t\t\t--penguin-skin: black;\n",
    "\t\t\t/* add code above */\n",
    "\t\t}\n",
    "\t}\n",
    "\t\n",
    "\t.penguin {\n",
    "\t\tposition: relative;\n",
    "\t\tmargin: auto;\n",
    "\t\tdisplay: block;\n",
    "\t\tmargin-top: 5%;\n",
    "\t\twidth: var(--penguin-size, 300px);\n",
    "\t\theight: var(--penguin-size, 300px);\n",
    "\t}\n",
    "\t\n",
    "\t.right-cheek {\n",
    "\t\ttop: 15%;\n",
    "\t\tleft: 35%;\n",
    "\t\tbackground: var(--penguin-belly, white);\n",
    "\t\twidth: 60%;\n",
    "\t\theight: 70%;\n",
    "\t\tborder-radius: 70% 70% 60% 60%;\n",
    "\t}\n",
    "\t\n",
    "\t.left-cheek {\n",
    "\t\ttop: 15%;\n",
    "\t\tleft: 5%;\n",
    "\t\tbackground: var(--penguin-belly, white);\n",
    "\t\twidth: 60%;\n",
    "\t\theight: 70%;\n",
    "\t\tborder-radius: 70% 70% 60% 60%;\n",
    "\t}\n",
    "\t\n",
    "\t.belly {\n",
    "\t\ttop: 60%;\n",
    "\t\tleft: 2.5%;\n",
    "\t\tbackground: var(--penguin-belly, white);\n",
    "\t\twidth: 95%;\n",
    "\t\theight: 100%;\n",
    "\t\tborder-radius: 120% 120% 100% 100%;\n",
    "\t}\n",
    "\t\n",
    "\t.penguin-top {\n",
    "\t\ttop: 10%;\n",
    "\t\tleft: 25%;\n",
    "\t\tbackground: var(--penguin-skin, gray);\n",
    "\t\twidth: 50%;\n",
    "\t\theight: 45%;\n",
    "\t\tborder-radius: 70% 70% 60% 60%;\n",
    "\t}\n",
    "\t\n",
    "\t.penguin-bottom {\n",
    "\t\ttop: 40%;\n",
    "\t\tleft: 23.5%;\n",
    "\t\tbackground: var(--penguin-skin, gray);\n",
    "\t\twidth: 53%;\n",
    "\t\theight: 45%;\n",
    "\t\tborder-radius: 70% 70% 100% 100%;\n",
    "\t}\n",
    "\t\n",
    "\t.right-hand {\n",
    "\t\ttop: 5%;\n",
    "\t\tleft: 25%;\n",
    "\t\tbackground: var(--penguin-skin, black);\n",
    "\t\twidth: 30%;\n",
    "\t\theight: 60%;\n",
    "\t\tborder-radius: 30% 30% 120% 30%;\n",
    "\t\ttransform: rotate(130deg);\n",
    "\t\tz-index: -1;\n",
    "\t\tanimation-duration: 3s;\n",
    "\t\tanimation-name: wave;\n",
    "\t\tanimation-iteration-count: infinite;\n",
    "\t\ttransform-origin: 0% 0%;\n",
    "\t\tanimation-timing-function: linear;\n",
    "\t}\n",
    "\t\n",
    "\t@keyframes wave {\n",
    "\t\t10% {\n",
    "\t\t\ttransform: rotate(110deg);\n",
    "\t\t}\n",
    "\t\t20% {\n",
    "\t\t\ttransform: rotate(130deg);\n",
    "\t\t}\n",
    "\t\t30% {\n",
    "\t\t\ttransform: rotate(110deg);\n",
    "\t\t}\n",
    "\t\t40% {\n",
    "\t\t\ttransform: rotate(130deg);\n",
    "\t\t}\n",
    "\t}\n",
    "\t\n",
    "\t.left-hand {\n",
    "\t\ttop: 0%;\n",
    "\t\tleft: 75%;\n",
    "\t\tbackground: var(--penguin-skin, gray);\n",
    "\t\twidth: 30%;\n",
    "\t\theight: 60%;\n",
    "\t\tborder-radius: 30% 30% 30% 120%;\n",
    "\t\ttransform: rotate(-45deg);\n",
    "\t\tz-index: -1;\n",
    "\t}\n",
    "\t\n",
    "\t.right-feet {\n",
    "\t\ttop: 85%;\n",
    "\t\tleft: 60%;\n",
    "\t\tbackground: var(--penguin-beak, orange);\n",
    "\t\twidth: 15%;\n",
    "\t\theight: 30%;\n",
    "\t\tborder-radius: 50% 50% 50% 50%;\n",
    "\t\ttransform: rotate(-80deg);\n",
    "\t\tz-index: -2222;\n",
    "\t}\n",
    "\t\n",
    "\t.left-feet {\n",
    "\t\ttop: 85%;\n",
    "\t\tleft: 25%;\n",
    "\t\tbackground: var(--penguin-beak, orange);\n",
    "\t\twidth: 15%;\n",
    "\t\theight: 30%;\n",
    "\t\tborder-radius: 50% 50% 50% 50%;\n",
    "\t\ttransform: rotate(80deg);\n",
    "\t\tz-index: -2222;\n",
    "\t}\n",
    "\t\n",
    "\t.right-eye {\n",
    "\t\ttop: 45%;\n",
    "\t\tleft: 60%;\n",
    "\t\tbackground: black;\n",
    "\t\twidth: 15%;\n",
    "\t\theight: 17%;\n",
    "\t\tborder-radius: 50%;\n",
    "\t}\n",
    "\t\n",
    "\t.left-eye {\n",
    "\t\ttop: 45%;\n",
    "\t\tleft: 25%;\n",
    "\t\tbackground: black;\n",
    "\t\twidth: 15%;\n",
    "\t\theight: 17%;\n",
    "\t\tborder-radius: 50%;\n",
    "\t}\n",
    "\t\n",
    "\t.sparkle {\n",
    "\t\ttop: 25%;\n",
    "\t\tleft: -23%;\n",
    "\t\tbackground: white;\n",
    "\t\twidth: 150%;\n",
    "\t\theight: 100%;\n",
    "\t\tborder-radius: 50%;\n",
    "\t}\n",
    "\t\n",
    "\t.blush-right {\n",
    "\t\ttop: 65%;\n",
    "\t\tleft: 15%;\n",
    "\t\tbackground: pink;\n",
    "\t\twidth: 15%;\n",
    "\t\theight: 10%;\n",
    "\t\tborder-radius: 50%;\n",
    "\t}\n",
    "\t\n",
    "\t.blush-left {\n",
    "\t\ttop: 65%;\n",
    "\t\tleft: 70%;\n",
    "\t\tbackground: pink;\n",
    "\t\twidth: 15%;\n",
    "\t\theight: 10%;\n",
    "\t\tborder-radius: 50%;\n",
    "\t}\n",
    "\t\n",
    "\t.beak-top {\n",
    "\t\ttop: 60%;\n",
    "\t\tleft: 40%;\n",
    "\t\tbackground: var(--penguin-beak, orange);\n",
    "\t\twidth: 20%;\n",
    "\t\theight: 10%;\n",
    "\t\tborder-radius: 50%;\n",
    "\t}\n",
    "\t\n",
    "\t.beak-bottom {\n",
    "\t\ttop: 65%;\n",
    "\t\tleft: 42%;\n",
    "\t\tbackground: var(--penguin-beak, orange);\n",
    "\t\twidth: 16%;\n",
    "\t\theight: 10%;\n",
    "\t\tborder-radius: 50%;\n",
    "\t}\n",
    "\t\n",
    "\tbody {\n",
    "\t\tbackground: #c6faf1;\n",
    "\t}\n",
    "\t\n",
    "\t.penguin * {\n",
    "\t\tposition: absolute;\n",
    "\t}\n",
    "</style>\n",
    "<div class=\"penguin\">\n",
    "\t<div class=\"penguin-bottom\">\n",
    "\t\t<div class=\"right-hand\"></div>\n",
    "\t\t<div class=\"left-hand\"></div>\n",
    "\t\t<div class=\"right-feet\"></div>\n",
    "\t\t<div class=\"left-feet\"></div>\n",
    "\t</div>\n",
    "\t<div class=\"penguin-top\">\n",
    "\t\t<div class=\"right-cheek\"></div>\n",
    "\t\t<div class=\"left-cheek\"></div>\n",
    "\t\t<div class=\"belly\"></div>\n",
    "\t\t<div class=\"right-eye\">\n",
    "\t\t\t<div class=\"sparkle\"></div>\n",
    "\t\t</div>\n",
    "\t\t<div class=\"left-eye\">\n",
    "\t\t\t<div class=\"sparkle\"></div>\n",
    "\t\t</div>\n",
    "\t\t<div class=\"blush-right\"></div>\n",
    "\t\t<div class=\"blush-left\"></div>\n",
    "\t\t<div class=\"beak-top\"></div>\n",
    "\t\t<div class=\"beak-bottom\"></div>\n",
    "\t</div>\n",
    "</div>\n",
    "```"
   ]
  },
  {
   "cell_type": "code",
   "execution_count": 73,
   "metadata": {
    "scrolled": true
   },
   "outputs": [
    {
     "data": {
      "text/html": [
       "\n",
       "        <iframe\n",
       "            width=\"100%\"\n",
       "            height=\"500\"\n",
       "            src=\"./source-solution/02-basic-css/043-use-a-media-query-to-change-a-variable.html\"\n",
       "            frameborder=\"0\"\n",
       "            allowfullscreen\n",
       "        ></iframe>\n",
       "        "
      ],
      "text/plain": [
       "<IPython.lib.display.IFrame at 0x17a821b7860>"
      ]
     },
     "execution_count": 73,
     "metadata": {},
     "output_type": "execute_result"
    }
   ],
   "source": [
    "IFrame('./source-solution/02-basic-css/043-use-a-media-query-to-change-a-variable.html', '100%', 500)"
   ]
  },
  {
   "cell_type": "markdown",
   "metadata": {},
   "source": [
    "## Applied Visual Design"
   ]
  },
  {
   "cell_type": "markdown",
   "metadata": {},
   "source": [
    "### Introduction to the Applied Visual Design Challenges"
   ]
  },
  {
   "cell_type": "markdown",
   "metadata": {},
   "source": [
    "Visual Design in web development is a broad topic. It combines typography, color theory, graphics, animation, and page layout to help deliver a site's message. The definition of good design is a well-discussed subject, with many books on the theme.\n",
    "\n",
    "At a basic level, most web content provides a user with information. The visual design of the page can influence its presentation and a user's experience. In web development, HTML gives structure and semantics to a page's content, and CSS controls the layout and appearance of it.\n",
    "\n",
    "This section covers some of the basic tools developers use to create their own visual designs."
   ]
  },
  {
   "cell_type": "markdown",
   "metadata": {},
   "source": [
    "### Create Visual Balance Using the text-align Property"
   ]
  },
  {
   "cell_type": "markdown",
   "metadata": {},
   "source": [
    "This section of the curriculum focuses on Applied Visual Design. The first group of challenges build on the given card layout to show a number of core principles.\n",
    "\n",
    "Text is often a large part of web content. CSS has several options for how to align it with the `text-align` property.\n",
    "\n",
    "`text-align: justify;` causes all lines of text except the last line to meet the left and right edges of the line box.\n",
    "\n",
    "`text-align: center;` centers the text\n",
    "\n",
    "`text-align: right;` right-aligns the text\n",
    "\n",
    "And `text-align: left;` (the default) left-aligns the text.\n",
    "\n",
    "---\n",
    "Align the `h4` tag's text, which says \"Google\", to the center. Then justify the paragraph tag which contains information about how Google was founded."
   ]
  },
  {
   "cell_type": "markdown",
   "metadata": {},
   "source": [
    "```HTML\n",
    "<style>\n",
    "  h4 {\n",
    "    text-align: center;\n",
    "  }\n",
    "  p {\n",
    "    text-align: justify;\n",
    "  }\n",
    "  .links {\n",
    "    margin-right: 20px;\n",
    "\n",
    "  }\n",
    "  .fullCard {\n",
    "    border: 1px solid #ccc;\n",
    "    border-radius: 5px;\n",
    "    margin: 10px 5px;\n",
    "    padding: 4px;\n",
    "  }\n",
    "  .cardContent {\n",
    "    padding: 10px;\n",
    "  }\n",
    "</style>\n",
    "<div class=\"fullCard\">\n",
    "  <div class=\"cardContent\">\n",
    "    <div class=\"cardText\">\n",
    "      <h4>Google</h4>\n",
    "      <p>Google was founded by Larry Page and Sergey Brin while they were Ph.D. students at Stanford University.</p>\n",
    "    </div>\n",
    "    <div class=\"cardLinks\">\n",
    "      <a href=\"https://en.wikipedia.org/wiki/Larry_Page\" target=\"_blank\" class=\"links\">Larry Page</a>\n",
    "      <a href=\"https://en.wikipedia.org/wiki/Sergey_Brin\" target=\"_blank\" class=\"links\">Sergey Brin</a>\n",
    "    </div>\n",
    "  </div>\n",
    "</div>\n",
    "```"
   ]
  },
  {
   "cell_type": "code",
   "execution_count": 83,
   "metadata": {},
   "outputs": [
    {
     "data": {
      "text/html": [
       "\n",
       "        <iframe\n",
       "            width=\"100%\"\n",
       "            height=\"500\"\n",
       "            src=\"./source-solution/03-applied-visual-design/000-create-visual-balance-using-the-text-align-property.html\"\n",
       "            frameborder=\"0\"\n",
       "            allowfullscreen\n",
       "        ></iframe>\n",
       "        "
      ],
      "text/plain": [
       "<IPython.lib.display.IFrame at 0x17a82536400>"
      ]
     },
     "execution_count": 83,
     "metadata": {},
     "output_type": "execute_result"
    }
   ],
   "source": [
    "IFrame('./source-solution/03-applied-visual-design/000-create-visual-balance-using-the-text-align-property.html', '100%', 500)"
   ]
  },
  {
   "cell_type": "markdown",
   "metadata": {},
   "source": [
    "### Adjust the Width of an Element Using the width Property"
   ]
  },
  {
   "cell_type": "markdown",
   "metadata": {},
   "source": [
    "You can specify the width of an element using the `width` property in CSS. Values can be given in relative length units (such as em), absolute length units (such as px), or as a percentage of its containing parent element. Here's an example that changes the width of an image to 220px:\n",
    "```CSS\n",
    "img {\n",
    "  width: 220px;\n",
    "}\n",
    "```\n",
    "\n",
    "---\n",
    "Add a `width` property to the entire card and set it to an absolute value of 245px. Use the `fullCard` class to select the element."
   ]
  },
  {
   "cell_type": "markdown",
   "metadata": {},
   "source": [
    "```HTML\n",
    "<style>\n",
    "  h4 {\n",
    "    text-align: center;\n",
    "  }\n",
    "  p {\n",
    "    text-align: justify;\n",
    "  }\n",
    "  .links {\n",
    "    margin-right: 20px;\n",
    "    text-align: left;\n",
    "  }\n",
    "  .fullCard {\n",
    "    width: 245px;\n",
    "    border: 1px solid #ccc;\n",
    "    border-radius: 5px;\n",
    "    margin: 10px 5px;\n",
    "    padding: 4px;\n",
    "  }\n",
    "  .cardContent {\n",
    "    padding: 10px;\n",
    "  }\n",
    "</style>\n",
    "<div class=\"fullCard\">\n",
    "  <div class=\"cardContent\">\n",
    "    <div class=\"cardText\">\n",
    "      <h4>Google</h4>\n",
    "      <p>Google was founded by Larry Page and Sergey Brin while they were Ph.D. students at Stanford University.</p>\n",
    "    </div>\n",
    "    <div class=\"cardLinks\">\n",
    "      <a href=\"https://en.wikipedia.org/wiki/Larry_Page\" target=\"_blank\" class=\"links\">Larry Page</a>\n",
    "      <a href=\"https://en.wikipedia.org/wiki/Sergey_Brin\" target=\"_blank\" class=\"links\">Sergey Brin</a>\n",
    "    </div>\n",
    "  </div>\n",
    "</div>\n",
    "```"
   ]
  },
  {
   "cell_type": "code",
   "execution_count": 84,
   "metadata": {},
   "outputs": [
    {
     "data": {
      "text/html": [
       "\n",
       "        <iframe\n",
       "            width=\"100%\"\n",
       "            height=\"500\"\n",
       "            src=\"./source-solution/03-applied-visual-design/001-adjust-the-width-of-an-element-using-the-width-property.html\"\n",
       "            frameborder=\"0\"\n",
       "            allowfullscreen\n",
       "        ></iframe>\n",
       "        "
      ],
      "text/plain": [
       "<IPython.lib.display.IFrame at 0x17a82536978>"
      ]
     },
     "execution_count": 84,
     "metadata": {},
     "output_type": "execute_result"
    }
   ],
   "source": [
    "IFrame('./source-solution/03-applied-visual-design/001-adjust-the-width-of-an-element-using-the-width-property.html', '100%', 500)"
   ]
  },
  {
   "cell_type": "markdown",
   "metadata": {},
   "source": [
    "### Adjust the Height of an Element Using the height Property"
   ]
  },
  {
   "cell_type": "markdown",
   "metadata": {},
   "source": [
    "You can specify the height of an element using the `height` property in CSS, similar to the `width` property. Here's an example that changes the height of an image to 20px:\n",
    "\n",
    "```CSS\n",
    "img {\n",
    "  height: 20px;\n",
    "}\n",
    "```\n",
    "\n",
    "---\n",
    "Add a `height` property to the `h4` tag and set it to 25px.\n",
    "\n",
    "**Note**: You may need to be at 100% zoom to pass the test on this challenge."
   ]
  },
  {
   "cell_type": "markdown",
   "metadata": {},
   "source": [
    "```HTML\n",
    "<style>\n",
    "  h4 {\n",
    "    text-align: center;\n",
    "    height: 25px;\n",
    "  }\n",
    "  p {\n",
    "    text-align: justify;\n",
    "  }\n",
    "  .links {\n",
    "    margin-right: 20px;\n",
    "    text-align: left;\n",
    "  }\n",
    "  .fullCard {\n",
    "    width: 245px;\n",
    "    border: 1px solid #ccc;\n",
    "    border-radius: 5px;\n",
    "    margin: 10px 5px;\n",
    "    padding: 4px;\n",
    "  }\n",
    "  .cardContent {\n",
    "    padding: 10px;\n",
    "  }\n",
    "</style>\n",
    "<div class=\"fullCard\">\n",
    "  <div class=\"cardContent\">\n",
    "    <div class=\"cardText\">\n",
    "      <h4>Google</h4>\n",
    "      <p>Google was founded by Larry Page and Sergey Brin while they were Ph.D. students at Stanford University.</p>\n",
    "    </div>\n",
    "    <div class=\"cardLinks\">\n",
    "      <a href=\"https://en.wikipedia.org/wiki/Larry_Page\" target=\"_blank\" class=\"links\">Larry Page</a>\n",
    "      <a href=\"https://en.wikipedia.org/wiki/Sergey_Brin\" target=\"_blank\" class=\"links\">Sergey Brin</a>\n",
    "    </div>\n",
    "  </div>\n",
    "</div>\n",
    "```"
   ]
  },
  {
   "cell_type": "code",
   "execution_count": 86,
   "metadata": {},
   "outputs": [
    {
     "data": {
      "text/html": [
       "\n",
       "        <iframe\n",
       "            width=\"100%\"\n",
       "            height=\"500\"\n",
       "            src=\"./source-solution/03-applied-visual-design/002-adjust-the-height-of-an-element-using-the-height-property.html\"\n",
       "            frameborder=\"0\"\n",
       "            allowfullscreen\n",
       "        ></iframe>\n",
       "        "
      ],
      "text/plain": [
       "<IPython.lib.display.IFrame at 0x17a82821e10>"
      ]
     },
     "execution_count": 86,
     "metadata": {},
     "output_type": "execute_result"
    }
   ],
   "source": [
    "IFrame('./source-solution/03-applied-visual-design/002-adjust-the-height-of-an-element-using-the-height-property.html', '100%', 500)"
   ]
  },
  {
   "cell_type": "markdown",
   "metadata": {},
   "source": [
    "### Use the strong Tag to Make Text Bold"
   ]
  },
  {
   "cell_type": "markdown",
   "metadata": {},
   "source": [
    "To make text bold, you can use the `strong` tag. This is often used to draw attention to text and symbolize that it is important. With the `strong` tag, the browser applies the CSS of `font-weight: bold;` to the element.\n",
    "\n",
    "---\n",
    "Wrap a `strong` tag around \"Stanford University\" inside the `p` tag (do not include the period)."
   ]
  },
  {
   "cell_type": "markdown",
   "metadata": {},
   "source": [
    "```HTML\n",
    "<style>\n",
    "  h4 {\n",
    "    text-align: center;\n",
    "    height: 25px;\n",
    "  }\n",
    "  p {\n",
    "    text-align: justify;\n",
    "  }\n",
    "  .links {\n",
    "    text-align: left;\n",
    "    color: black;\n",
    "  }\n",
    "  .fullCard {\n",
    "    width: 245px;\n",
    "    border: 1px solid #ccc;\n",
    "    border-radius: 5px;\n",
    "    margin: 10px 5px;\n",
    "    padding: 4px;\n",
    "  }\n",
    "  .cardContent {\n",
    "    padding: 10px;\n",
    "  }\n",
    "  .cardText {\n",
    "    margin-bottom: 30px;\n",
    "  }\n",
    "</style>\n",
    "<div class=\"fullCard\">\n",
    "  <div class=\"cardContent\">\n",
    "    <div class=\"cardText\">\n",
    "      <h4>Google</h4>\n",
    "      <p>Google was founded by Larry Page and Sergey Brin while they were Ph.D. students at <strong>Stanford University</strong>.</p>\n",
    "    </div>\n",
    "    <div class=\"cardLinks\">\n",
    "      <a href=\"https://en.wikipedia.org/wiki/Larry_Page\" target=\"_blank\" class=\"links\">Larry Page</a><br><br>\n",
    "      <a href=\"https://en.wikipedia.org/wiki/Sergey_Brin\" target=\"_blank\" class=\"links\">Sergey Brin</a>\n",
    "    </div>\n",
    "  </div>\n",
    "</div>\n",
    "```"
   ]
  },
  {
   "cell_type": "code",
   "execution_count": 88,
   "metadata": {},
   "outputs": [
    {
     "data": {
      "text/html": [
       "\n",
       "        <iframe\n",
       "            width=\"100%\"\n",
       "            height=\"500\"\n",
       "            src=\"./source-solution/03-applied-visual-design/003-use-the-strong-tag-to-make-text-bold.html\"\n",
       "            frameborder=\"0\"\n",
       "            allowfullscreen\n",
       "        ></iframe>\n",
       "        "
      ],
      "text/plain": [
       "<IPython.lib.display.IFrame at 0x17a8282ab38>"
      ]
     },
     "execution_count": 88,
     "metadata": {},
     "output_type": "execute_result"
    }
   ],
   "source": [
    "IFrame('./source-solution/03-applied-visual-design/003-use-the-strong-tag-to-make-text-bold.html', '100%', 500)"
   ]
  },
  {
   "cell_type": "markdown",
   "metadata": {},
   "source": [
    "### Use the u Tag to Underline Text"
   ]
  },
  {
   "cell_type": "markdown",
   "metadata": {},
   "source": [
    "To underline text, you can use the `u` tag. This is often used to signify that a section of text is important, or something to remember. With the u tag, the browser applies the CSS of `text-decoration: underline;` to the element.\n",
    "\n",
    "Wrap the `u` tag only around the text \"Ph.D. students\".\n",
    "\n",
    "---\n",
    "Note: Try to avoid using the `u` tag when it could be confused for a link. Anchor tags also have a default underlined formatting."
   ]
  },
  {
   "cell_type": "markdown",
   "metadata": {},
   "source": [
    "```HTML\n",
    "<style>\n",
    "  h4 {\n",
    "    text-align: center;\n",
    "    height: 25px;\n",
    "  }\n",
    "  p {\n",
    "    text-align: justify;\n",
    "  }\n",
    "  .links {\n",
    "    text-align: left;\n",
    "    color: black;\n",
    "  }\n",
    "  .fullCard {\n",
    "    width: 245px;\n",
    "    border: 1px solid #ccc;\n",
    "    border-radius: 5px;\n",
    "    margin: 10px 5px;\n",
    "    padding: 4px;\n",
    "  }\n",
    "  .cardContent {\n",
    "    padding: 10px;\n",
    "  }\n",
    "  .cardText {\n",
    "    margin-bottom: 30px;\n",
    "  }\n",
    "</style>\n",
    "<div class=\"fullCard\">\n",
    "  <div class=\"cardContent\">\n",
    "    <div class=\"cardText\">\n",
    "      <h4>Google</h4>\n",
    "      <p>Google was founded by Larry Page and Sergey Brin while they were <u>Ph.D. students</u> at <strong>Stanford University</strong>.</p>\n",
    "    </div>\n",
    "    <div class=\"cardLinks\">\n",
    "      <a href=\"https://en.wikipedia.org/wiki/Larry_Page\" target=\"_blank\" class=\"links\">Larry Page</a><br><br>\n",
    "      <a href=\"https://en.wikipedia.org/wiki/Sergey_Brin\" target=\"_blank\" class=\"links\">Sergey Brin</a>\n",
    "    </div>\n",
    "  </div>\n",
    "</div>\n",
    "```"
   ]
  },
  {
   "cell_type": "code",
   "execution_count": 89,
   "metadata": {},
   "outputs": [
    {
     "data": {
      "text/html": [
       "\n",
       "        <iframe\n",
       "            width=\"100%\"\n",
       "            height=\"500\"\n",
       "            src=\"./source-solution/03-applied-visual-design/004-use-the-u-tag-to-underline-text.html\"\n",
       "            frameborder=\"0\"\n",
       "            allowfullscreen\n",
       "        ></iframe>\n",
       "        "
      ],
      "text/plain": [
       "<IPython.lib.display.IFrame at 0x17a826c7e10>"
      ]
     },
     "execution_count": 89,
     "metadata": {},
     "output_type": "execute_result"
    }
   ],
   "source": [
    "IFrame('./source-solution/03-applied-visual-design/004-use-the-u-tag-to-underline-text.html', '100%', 500)"
   ]
  },
  {
   "cell_type": "markdown",
   "metadata": {},
   "source": [
    "### Use the em Tag to Italicize Text"
   ]
  },
  {
   "cell_type": "markdown",
   "metadata": {},
   "source": [
    "To emphasize text, you can use the `em` tag. This displays text as italicized, as the browser applies the CSS of `font-style: italic;` to the element.\n",
    "\n",
    "---\n",
    "Wrap an `em` tag around the contents of the paragraph tag to give it emphasis."
   ]
  },
  {
   "cell_type": "markdown",
   "metadata": {},
   "source": [
    "```HTML\n",
    "<style>\n",
    "  h4 {\n",
    "    text-align: center;\n",
    "    height: 25px;\n",
    "  }\n",
    "  p {\n",
    "    text-align: justify;\n",
    "  }\n",
    "  .links {\n",
    "    text-align: left;\n",
    "    color: black;\n",
    "  }\n",
    "  .fullCard {\n",
    "    width: 245px;\n",
    "    border: 1px solid #ccc;\n",
    "    border-radius: 5px;\n",
    "    margin: 10px 5px;\n",
    "    padding: 4px;\n",
    "  }\n",
    "  .cardContent {\n",
    "    padding: 10px;\n",
    "  }\n",
    "  .cardText {\n",
    "    margin-bottom: 30px;\n",
    "  }\n",
    "</style>\n",
    "<div class=\"fullCard\">\n",
    "  <div class=\"cardContent\">\n",
    "    <div class=\"cardText\">\n",
    "      <h4>Google</h4>\n",
    "      <p><em>Google was founded by Larry Page and Sergey Brin while they were <u>Ph.D. students</u> at <strong>Stanford University</strong>.</em></p>\n",
    "    </div>\n",
    "    <div class=\"cardLinks\">\n",
    "      <a href=\"https://en.wikipedia.org/wiki/Larry_Page\" target=\"_blank\" class=\"links\">Larry Page</a><br><br>\n",
    "      <a href=\"https://en.wikipedia.org/wiki/Sergey_Brin\" target=\"_blank\" class=\"links\">Sergey Brin</a>\n",
    "    </div>\n",
    "  </div>\n",
    "</div>\n",
    "```"
   ]
  },
  {
   "cell_type": "code",
   "execution_count": 90,
   "metadata": {},
   "outputs": [
    {
     "data": {
      "text/html": [
       "\n",
       "        <iframe\n",
       "            width=\"100%\"\n",
       "            height=\"500\"\n",
       "            src=\"./source-solution/03-applied-visual-design/005-use-the-em-tag-to-italicize-text.html\"\n",
       "            frameborder=\"0\"\n",
       "            allowfullscreen\n",
       "        ></iframe>\n",
       "        "
      ],
      "text/plain": [
       "<IPython.lib.display.IFrame at 0x17a82536240>"
      ]
     },
     "execution_count": 90,
     "metadata": {},
     "output_type": "execute_result"
    }
   ],
   "source": [
    "IFrame('./source-solution/03-applied-visual-design/005-use-the-em-tag-to-italicize-text.html', '100%', 500)"
   ]
  },
  {
   "cell_type": "markdown",
   "metadata": {},
   "source": [
    "### Use the s Tag to Strikethrough Text"
   ]
  },
  {
   "cell_type": "markdown",
   "metadata": {},
   "source": [
    "To strikethrough text, which is when a horizontal line cuts across the characters, you can use the `s` tag. It shows that a section of text is no longer valid. With the `s` tag, the browser applies the CSS of `text-decoration: line-through;` to the element.\n",
    "\n",
    "---\n",
    "Wrap the `s` tag around \"Google\" inside the `h4` tag and then add the word Alphabet beside it, which should not have the strikethrough formatting."
   ]
  },
  {
   "cell_type": "markdown",
   "metadata": {},
   "source": [
    "```HTML\n",
    "<style>\n",
    "  h4 {\n",
    "    text-align: center;\n",
    "    height: 25px;\n",
    "  }\n",
    "  p {\n",
    "    text-align: justify;\n",
    "  }\n",
    "  .links {\n",
    "    text-align: left;\n",
    "    color: black;\n",
    "  }\n",
    "  .fullCard {\n",
    "    width: 245px;\n",
    "    border: 1px solid #ccc;\n",
    "    border-radius: 5px;\n",
    "    margin: 10px 5px;\n",
    "    padding: 4px;\n",
    "  }\n",
    "  .cardContent {\n",
    "    padding: 10px;\n",
    "  }\n",
    "  .cardText {\n",
    "    margin-bottom: 30px;\n",
    "  }\n",
    "</style>\n",
    "<div class=\"fullCard\">\n",
    "  <div class=\"cardContent\">\n",
    "    <div class=\"cardText\">\n",
    "      <h4><s>Google</s>Alphabet</h4>\n",
    "      <p><em>Google was founded by Larry Page and Sergey Brin while they were <u>Ph.D. students</u> at <strong>Stanford University</strong>.</em></p>\n",
    "    </div>\n",
    "    <div class=\"cardLinks\">\n",
    "      <a href=\"https://en.wikipedia.org/wiki/Larry_Page\" target=\"_blank\" class=\"links\">Larry Page</a><br><br>\n",
    "      <a href=\"https://en.wikipedia.org/wiki/Sergey_Brin\" target=\"_blank\" class=\"links\">Sergey Brin</a>\n",
    "    </div>\n",
    "  </div>\n",
    "</div>\n",
    "```"
   ]
  },
  {
   "cell_type": "code",
   "execution_count": 91,
   "metadata": {},
   "outputs": [
    {
     "data": {
      "text/html": [
       "\n",
       "        <iframe\n",
       "            width=\"100%\"\n",
       "            height=\"500\"\n",
       "            src=\"./source-solution/03-applied-visual-design/006-use-the-s-tag-to-strikethrough-text.html\"\n",
       "            frameborder=\"0\"\n",
       "            allowfullscreen\n",
       "        ></iframe>\n",
       "        "
      ],
      "text/plain": [
       "<IPython.lib.display.IFrame at 0x17a828bc358>"
      ]
     },
     "execution_count": 91,
     "metadata": {},
     "output_type": "execute_result"
    }
   ],
   "source": [
    "IFrame('./source-solution/03-applied-visual-design/006-use-the-s-tag-to-strikethrough-text.html', '100%', 500)"
   ]
  },
  {
   "cell_type": "markdown",
   "metadata": {},
   "source": [
    "### Create a Horizontal Line Using the hr Element"
   ]
  },
  {
   "cell_type": "markdown",
   "metadata": {},
   "source": [
    "You can use the `hr` tag to add a horizontal line across the width of its containing element. This can be used to define a change in topic or to visually separate groups of content.\n",
    "\n",
    "---\n",
    "Add an `hr` tag underneath the `h4` which contains the card title.\n",
    "\n",
    "**Note**: In HTML, `hr` is a self-closing tag, and therefore doesn't need a separate closing tag."
   ]
  },
  {
   "cell_type": "markdown",
   "metadata": {},
   "source": [
    "```HTML\n",
    "<style>\n",
    "  h4 {\n",
    "    text-align: center;\n",
    "    height: 25px;\n",
    "  }\n",
    "  p {\n",
    "    text-align: justify;\n",
    "  }\n",
    "  .links {\n",
    "    text-align: left;\n",
    "    color: black;\n",
    "  }\n",
    "  .fullCard {\n",
    "    width: 245px;\n",
    "    border: 1px solid #ccc;\n",
    "    border-radius: 5px;\n",
    "    margin: 10px 5px;\n",
    "    padding: 4px;\n",
    "  }\n",
    "  .cardContent {\n",
    "    padding: 10px;\n",
    "  }\n",
    "  .cardText {\n",
    "    margin-bottom: 30px;\n",
    "  }\n",
    "</style>\n",
    "<div class=\"fullCard\">\n",
    "  <div class=\"cardContent\">\n",
    "    <div class=\"cardText\">\n",
    "      <h4><s>Google</s>Alphabet</h4>\n",
    "      <hr>\n",
    "      <p><em>Google was founded by Larry Page and Sergey Brin while they were <u>Ph.D. students</u> at <strong>Stanford University</strong>.</em></p>\n",
    "    </div>\n",
    "    <div class=\"cardLinks\">\n",
    "      <a href=\"https://en.wikipedia.org/wiki/Larry_Page\" target=\"_blank\" class=\"links\">Larry Page</a><br><br>\n",
    "      <a href=\"https://en.wikipedia.org/wiki/Sergey_Brin\" target=\"_blank\" class=\"links\">Sergey Brin</a>\n",
    "    </div>\n",
    "  </div>\n",
    "</div>\n",
    "```"
   ]
  },
  {
   "cell_type": "code",
   "execution_count": 92,
   "metadata": {},
   "outputs": [
    {
     "data": {
      "text/html": [
       "\n",
       "        <iframe\n",
       "            width=\"100%\"\n",
       "            height=\"500\"\n",
       "            src=\"./source-solution/03-applied-visual-design/007-create-a-horizontal-line-using-the-hr-element.html\"\n",
       "            frameborder=\"0\"\n",
       "            allowfullscreen\n",
       "        ></iframe>\n",
       "        "
      ],
      "text/plain": [
       "<IPython.lib.display.IFrame at 0x17a828bcbe0>"
      ]
     },
     "execution_count": 92,
     "metadata": {},
     "output_type": "execute_result"
    }
   ],
   "source": [
    "IFrame('./source-solution/03-applied-visual-design/007-create-a-horizontal-line-using-the-hr-element.html', '100%', 500)"
   ]
  },
  {
   "cell_type": "markdown",
   "metadata": {},
   "source": [
    "### Adjust the background-color Property of Text"
   ]
  },
  {
   "cell_type": "markdown",
   "metadata": {},
   "source": [
    "Instead of adjusting your overall background or the color of the text to make the foreground easily readable, you can add a `background-color` to the element holding the text you want to emphasize. This challenge uses `rgba()` instead of hex codes or normal `rgb()`.\n",
    "\n",
    "```\n",
    "rgba stands for:\n",
    "  r = red\n",
    "  g = green\n",
    "  b = blue\n",
    "  a = alpha/level of opacity\n",
    "```\n",
    "\n",
    "The RGB values can range from 0 to 255. The alpha value can range from 1, which is fully opaque or a solid color, to 0, which is fully transparent or clear. `rgba()` is great to use in this case, as it allows you to adjust the opacity. This means you don't have to completely block out the background.\n",
    "\n",
    "You'll use `background-color: rgba(45, 45, 45, 0.1)` for this challenge. It produces a dark gray color that is nearly transparent given the low opacity value of 0.1.\n",
    "\n",
    "---\n",
    "To make the text stand out more, adjust the `background-color` of the `h4` element to the given `rgba()` value.\n",
    "\n",
    "Also for the `h4`, remove the `height` property and add `padding` of 10px."
   ]
  },
  {
   "cell_type": "markdown",
   "metadata": {},
   "source": [
    "```HTML\n",
    "<style>\n",
    "  h4 {\n",
    "    text-align: center;\n",
    "    padding: 10px;\n",
    "    background-color: rgba(45, 45, 45, 0.1);    \n",
    "  }\n",
    "  p {\n",
    "    text-align: justify;\n",
    "  }\n",
    "  .links {\n",
    "    text-align: left;\n",
    "    color: black;\n",
    "  }\n",
    "  .fullCard {\n",
    "    width: 245px;\n",
    "    border: 1px solid #ccc;\n",
    "    border-radius: 5px;\n",
    "    margin: 10px 5px;\n",
    "    padding: 4px;\n",
    "  }\n",
    "  .cardContent {\n",
    "    padding: 10px;\n",
    "  }\n",
    "  .cardText {\n",
    "    margin-bottom: 30px;\n",
    "  }\n",
    "</style>\n",
    "<div class=\"fullCard\">\n",
    "  <div class=\"cardContent\">\n",
    "    <div class=\"cardText\">\n",
    "      <h4>Alphabet</h4>\n",
    "      <hr>\n",
    "      <p><em>Google was founded by Larry Page and Sergey Brin while they were <u>Ph.D. students</u> at <strong>Stanford University</strong>.</em></p>\n",
    "    </div>\n",
    "    <div class=\"cardLinks\">\n",
    "      <a href=\"https://en.wikipedia.org/wiki/Larry_Page\" target=\"_blank\" class=\"links\">Larry Page</a><br><br>\n",
    "      <a href=\"https://en.wikipedia.org/wiki/Sergey_Brin\" target=\"_blank\" class=\"links\">Sergey Brin</a>\n",
    "    </div>\n",
    "  </div>\n",
    "</div>\n",
    "```"
   ]
  },
  {
   "cell_type": "code",
   "execution_count": 93,
   "metadata": {},
   "outputs": [
    {
     "data": {
      "text/html": [
       "\n",
       "        <iframe\n",
       "            width=\"100%\"\n",
       "            height=\"500\"\n",
       "            src=\"./source-solution/03-applied-visual-design/008-adjust-the-background-color-property-of-text.html\"\n",
       "            frameborder=\"0\"\n",
       "            allowfullscreen\n",
       "        ></iframe>\n",
       "        "
      ],
      "text/plain": [
       "<IPython.lib.display.IFrame at 0x17a827fa630>"
      ]
     },
     "execution_count": 93,
     "metadata": {},
     "output_type": "execute_result"
    }
   ],
   "source": [
    "IFrame('./source-solution/03-applied-visual-design/008-adjust-the-background-color-property-of-text.html', '100%', 500)"
   ]
  },
  {
   "cell_type": "markdown",
   "metadata": {},
   "source": [
    "### Adjust the Size of a Header Versus a Paragraph Tag"
   ]
  },
  {
   "cell_type": "markdown",
   "metadata": {},
   "source": [
    "The font size of header tags (`h1` through `h6`) should generally be larger than the font size of paragraph tags. This makes it easier for the user to visually understand the layout and level of importance of everything on the page. You use the `font-size` property to adjust the size of the text in an element.\n",
    "\n",
    "---\n",
    "To make the heading significantly larger than the paragraph, change the `font-size` of the `h4` tag to 27 pixels."
   ]
  },
  {
   "cell_type": "markdown",
   "metadata": {},
   "source": [
    "```HTML\n",
    "<style>\n",
    "  h4 {\n",
    "    text-align: center;\n",
    "    background-color: rgba(45, 45, 45, 0.1);\n",
    "    padding: 10px;\n",
    "    font-size: 27px;\n",
    "  }\n",
    "  p {\n",
    "    text-align: justify;\n",
    "  }\n",
    "  .links {\n",
    "    text-align: left;\n",
    "    color: black;\n",
    "  }\n",
    "  .fullCard {\n",
    "    width: 245px;\n",
    "    border: 1px solid #ccc;\n",
    "    border-radius: 5px;\n",
    "    margin: 10px 5px;\n",
    "    padding: 4px;\n",
    "  }\n",
    "  .cardContent {\n",
    "    padding: 10px;\n",
    "  }\n",
    "  .cardText {\n",
    "    margin-bottom: 30px;\n",
    "  }\n",
    "</style>\n",
    "<div class=\"fullCard\">\n",
    "  <div class=\"cardContent\">\n",
    "    <div class=\"cardText\">\n",
    "      <h4>Alphabet</h4>\n",
    "      <hr>\n",
    "      <p><em>Google was founded by Larry Page and Sergey Brin while they were <u>Ph.D. students</u> at <strong>Stanford University</strong>.</em></p>\n",
    "    </div>\n",
    "    <div class=\"cardLinks\">\n",
    "      <a href=\"https://en.wikipedia.org/wiki/Larry_Page\" target=\"_blank\" class=\"links\">Larry Page</a><br><br>\n",
    "      <a href=\"https://en.wikipedia.org/wiki/Sergey_Brin\" target=\"_blank\" class=\"links\">Sergey Brin</a>\n",
    "    </div>\n",
    "  </div>\n",
    "</div>\n",
    "```"
   ]
  },
  {
   "cell_type": "code",
   "execution_count": 94,
   "metadata": {},
   "outputs": [
    {
     "data": {
      "text/html": [
       "\n",
       "        <iframe\n",
       "            width=\"100%\"\n",
       "            height=\"500\"\n",
       "            src=\"./source-solution/03-applied-visual-design/009-adjust-the-size-of-a-header-versus-a-paragraph-tag.html\"\n",
       "            frameborder=\"0\"\n",
       "            allowfullscreen\n",
       "        ></iframe>\n",
       "        "
      ],
      "text/plain": [
       "<IPython.lib.display.IFrame at 0x17a828bc630>"
      ]
     },
     "execution_count": 94,
     "metadata": {},
     "output_type": "execute_result"
    }
   ],
   "source": [
    "IFrame('./source-solution/03-applied-visual-design/009-adjust-the-size-of-a-header-versus-a-paragraph-tag.html', '100%', 500)"
   ]
  },
  {
   "cell_type": "markdown",
   "metadata": {},
   "source": [
    "### Add a box-shadow to a Card-like Element"
   ]
  },
  {
   "cell_type": "markdown",
   "metadata": {},
   "source": [
    "The `box-shadow` property applies one or more shadows to an element.\n",
    "\n",
    "The `box-shadow` property takes values for\n",
    "\n",
    "* `offset-x` (how far to push the shadow horizontally from the element),\n",
    "* `offset-y` (how far to push the shadow vertically from the element),\n",
    "* `blur-radius`,\n",
    "* `spread-radius` and\n",
    "* `color`, in that order.\n",
    "\n",
    "The `blur-radius` and `spread-radius` values are optional.\n",
    "\n",
    "Multiple box-shadows can be created by using commas to separate properties of each `box-shadow` element.\n",
    "\n",
    "Here's an example of the CSS to create multiple shadows with some blur, at mostly-transparent black colors:\n",
    "\n",
    "```CSS\n",
    "box-shadow: 0 10px 20px rgba(0,0,0,0.19), 0 6px 6px rgba(0,0,0,0.23);\n",
    "```\n",
    "\n",
    "---\n",
    "The element now has an id of thumbnail. With this selector, use the example CSS values above to place a box-shadow on the card."
   ]
  },
  {
   "cell_type": "markdown",
   "metadata": {},
   "source": [
    "```HTML\n",
    "<style>\n",
    "  h4 {\n",
    "    text-align: center;\n",
    "    background-color: rgba(45, 45, 45, 0.1);\n",
    "    padding: 10px;\n",
    "    font-size: 27px;\n",
    "  }\n",
    "  p {\n",
    "    text-align: justify;\n",
    "  }\n",
    "  .links {\n",
    "    text-align: left;\n",
    "    color: black;\n",
    "  }\n",
    "  #thumbnail {\n",
    "    box-shadow: 0 10px 20px rgba(0,0,0,0.19), 0 6px 6px rgba(0,0,0,0.23);\n",
    "  }\n",
    "\n",
    "  .fullCard {\n",
    "    width: 245px;\n",
    "    border: 1px solid #ccc;\n",
    "    border-radius: 5px;\n",
    "    margin: 10px 5px;\n",
    "    padding: 4px;\n",
    "  }\n",
    "  .cardContent {\n",
    "    padding: 10px;\n",
    "  }\n",
    "  .cardText {\n",
    "    margin-bottom: 30px;\n",
    "  }\n",
    "</style>\n",
    "<div class=\"fullCard\" id=\"thumbnail\">\n",
    "  <div class=\"cardContent\">\n",
    "    <div class=\"cardText\">\n",
    "      <h4>Alphabet</h4>\n",
    "      <hr>\n",
    "      <p><em>Google was founded by Larry Page and Sergey Brin while they were <u>Ph.D. students</u> at <strong>Stanford University</strong>.</em></p>\n",
    "    </div>\n",
    "    <div class=\"cardLinks\">\n",
    "      <a href=\"https://en.wikipedia.org/wiki/Larry_Page\" target=\"_blank\" class=\"links\">Larry Page</a><br><br>\n",
    "      <a href=\"https://en.wikipedia.org/wiki/Sergey_Brin\" target=\"_blank\" class=\"links\">Sergey Brin</a>\n",
    "    </div>\n",
    "  </div>\n",
    "</div>\n",
    "```"
   ]
  },
  {
   "cell_type": "code",
   "execution_count": 95,
   "metadata": {},
   "outputs": [
    {
     "data": {
      "text/html": [
       "\n",
       "        <iframe\n",
       "            width=\"100%\"\n",
       "            height=\"500\"\n",
       "            src=\"./source-solution/03-applied-visual-design/010-add-a-box-shadow-to-a-card-like-element.html\"\n",
       "            frameborder=\"0\"\n",
       "            allowfullscreen\n",
       "        ></iframe>\n",
       "        "
      ],
      "text/plain": [
       "<IPython.lib.display.IFrame at 0x17a82529fd0>"
      ]
     },
     "execution_count": 95,
     "metadata": {},
     "output_type": "execute_result"
    }
   ],
   "source": [
    "IFrame('./source-solution/03-applied-visual-design/010-add-a-box-shadow-to-a-card-like-element.html', '100%', 500)"
   ]
  },
  {
   "cell_type": "markdown",
   "metadata": {},
   "source": [
    "### Decrease the Opacity of an Element"
   ]
  },
  {
   "cell_type": "markdown",
   "metadata": {},
   "source": [
    "The `opacity` property in CSS is used to adjust the opacity, or conversely, the transparency for an item.\n",
    "\n",
    "```\n",
    "A value of 1 is opaque, which isn't transparent at all.\n",
    "A value of 0.5 is half see-through.\n",
    "A value of 0 is completely transparent.\n",
    "```\n",
    "\n",
    "The value given will apply to the entire element, whether that's an image with some transparency, or the foreground and background colors for a block of text.\n",
    "\n",
    "---\n",
    "Set the `opacity` of the anchor tags to 0.7 using `links` class to select them."
   ]
  },
  {
   "cell_type": "markdown",
   "metadata": {},
   "source": [
    "```HTML\n",
    "<style>\n",
    "  h4 {\n",
    "    text-align: center;\n",
    "    background-color: rgba(45, 45, 45, 0.1);\n",
    "    padding: 10px;\n",
    "    font-size: 27px;\n",
    "  }\n",
    "  p {\n",
    "    text-align: justify;\n",
    "  }\n",
    "  .links {\n",
    "    text-align: left;\n",
    "    color: black;\n",
    "    opacity: 0.7;\n",
    "  }\n",
    "  #thumbnail {\n",
    "    box-shadow: 0 10px 20px rgba(0,0,0,0.19), 0 6px 6px rgba(0,0,0,0.23);\n",
    "  }\n",
    "  .fullCard {\n",
    "    width: 245px;\n",
    "    border: 1px solid #ccc;\n",
    "    border-radius: 5px;\n",
    "    margin: 10px 5px;\n",
    "    padding: 4px;\n",
    "  }\n",
    "  .cardContent {\n",
    "    padding: 10px;\n",
    "  }\n",
    "  .cardText {\n",
    "    margin-bottom: 30px;\n",
    "  }\n",
    "</style>\n",
    "<div class=\"fullCard\" id=\"thumbnail\">\n",
    "  <div class=\"cardContent\">\n",
    "    <div class=\"cardText\">\n",
    "      <h4>Alphabet</h4>\n",
    "      <hr>\n",
    "      <p><em>Google was founded by Larry Page and Sergey Brin while they were <u>Ph.D. students</u> at <strong>Stanford University</strong>.</em></p>\n",
    "    </div>\n",
    "    <div class=\"cardLinks\">\n",
    "      <a href=\"https://en.wikipedia.org/wiki/Larry_Page\" target=\"_blank\" class=\"links\">Larry Page</a><br><br>\n",
    "      <a href=\"https://en.wikipedia.org/wiki/Sergey_Brin\" target=\"_blank\" class=\"links\">Sergey Brin</a>\n",
    "    </div>\n",
    "  </div>\n",
    "</div>\n",
    "```"
   ]
  },
  {
   "cell_type": "code",
   "execution_count": 96,
   "metadata": {},
   "outputs": [
    {
     "data": {
      "text/html": [
       "\n",
       "        <iframe\n",
       "            width=\"100%\"\n",
       "            height=\"500\"\n",
       "            src=\"./source-solution/03-applied-visual-design/011-decrease-the-opacity-of-an-element.html\"\n",
       "            frameborder=\"0\"\n",
       "            allowfullscreen\n",
       "        ></iframe>\n",
       "        "
      ],
      "text/plain": [
       "<IPython.lib.display.IFrame at 0x17a82529c88>"
      ]
     },
     "execution_count": 96,
     "metadata": {},
     "output_type": "execute_result"
    }
   ],
   "source": [
    "IFrame('./source-solution/03-applied-visual-design/011-decrease-the-opacity-of-an-element.html', '100%', 500)"
   ]
  },
  {
   "cell_type": "markdown",
   "metadata": {},
   "source": [
    "### Use the text-transform Property to Make Text Uppercase"
   ]
  },
  {
   "cell_type": "markdown",
   "metadata": {},
   "source": [
    "The `text-transform` property in CSS is used to change the appearance of text. It's a convenient way to make sure text on a webpage appears consistently, without having to change the text content of the actual HTML elements.\n",
    "\n",
    "The following table shows how the different `text-transform` values change the example text \"Transform me\".\n",
    "\n",
    "Value      | Result\n",
    "-----------|------------------------------------------------------\n",
    "lowercase  | \"transform me\"\n",
    "uppercase  | \"TRANSFORM ME\"\n",
    "capitalize | \"Transform Me\"\n",
    "initial    | Use the default value\n",
    "inherit    | Use the `text-transform` value from the parent element\n",
    "none       | `Default`: Use the original text\n",
    "\n",
    "Transform the text of the `h4` to be uppercase using the `text-transform` property."
   ]
  },
  {
   "cell_type": "markdown",
   "metadata": {},
   "source": [
    "```HTML\n",
    "<style>\n",
    "  h4 {\n",
    "    text-align: center;\n",
    "    background-color: rgba(45, 45, 45, 0.1);\n",
    "    padding: 10px;\n",
    "    font-size: 27px;\n",
    "    text-transform: uppercase;\n",
    "  }\n",
    "  p {\n",
    "    text-align: justify;\n",
    "  }\n",
    "  .links {\n",
    "    text-align: left;\n",
    "    color: black;\n",
    "    opacity: 0.7;\n",
    "  }\n",
    "  #thumbnail {\n",
    "    box-shadow: 0 10px 20px rgba(0,0,0,0.19), 0 6px 6px rgba(0,0,0,0.23);\n",
    "  }\n",
    "  .fullCard {\n",
    "    width: 245px;\n",
    "    border: 1px solid #ccc;\n",
    "    border-radius: 5px;\n",
    "    margin: 10px 5px;\n",
    "    padding: 4px;\n",
    "  }\n",
    "  .cardContent {\n",
    "    padding: 10px;\n",
    "  }\n",
    "  .cardText {\n",
    "    margin-bottom: 30px;\n",
    "  }\n",
    "</style>\n",
    "<div class=\"fullCard\" id=\"thumbnail\">\n",
    "  <div class=\"cardContent\">\n",
    "    <div class=\"cardText\">\n",
    "      <h4>Alphabet</h4>\n",
    "      <hr>\n",
    "      <p><em>Google was founded by Larry Page and Sergey Brin while they were <u>Ph.D. students</u> at <strong>Stanford University</strong>.</em></p>\n",
    "    </div>\n",
    "    <div class=\"cardLinks\">\n",
    "      <a href=\"https://en.wikipedia.org/wiki/Larry_Page\" target=\"_blank\" class=\"links\">Larry Page</a><br><br>\n",
    "      <a href=\"https://en.wikipedia.org/wiki/Sergey_Brin\" target=\"_blank\" class=\"links\">Sergey Brin</a>\n",
    "    </div>\n",
    "  </div>\n",
    "</div>\n",
    "```"
   ]
  },
  {
   "cell_type": "code",
   "execution_count": 97,
   "metadata": {},
   "outputs": [
    {
     "data": {
      "text/html": [
       "\n",
       "        <iframe\n",
       "            width=\"100%\"\n",
       "            height=\"500\"\n",
       "            src=\"./source-solution/03-applied-visual-design/012-use-the-text-transform-property-to-make-text-uppercase.html\"\n",
       "            frameborder=\"0\"\n",
       "            allowfullscreen\n",
       "        ></iframe>\n",
       "        "
      ],
      "text/plain": [
       "<IPython.lib.display.IFrame at 0x17a826330b8>"
      ]
     },
     "execution_count": 97,
     "metadata": {},
     "output_type": "execute_result"
    }
   ],
   "source": [
    "IFrame('./source-solution/03-applied-visual-design/012-use-the-text-transform-property-to-make-text-uppercase.html', '100%', 500)"
   ]
  },
  {
   "cell_type": "markdown",
   "metadata": {},
   "source": [
    "### Set the font-size for Multiple Heading Elements"
   ]
  },
  {
   "cell_type": "markdown",
   "metadata": {},
   "source": [
    "The `font-size` property is used to specify how large the text is in a given element. This rule can be used for multiple elements to create visual consistency of text on a page. In this challenge, you'll set the values for all `h1` through `h6` tags to balance the heading sizes.\n",
    "\n",
    "---\n",
    "* Set the `font-size` of the `h1` tag to 68px.\n",
    "* Set the `font-size` of the `h2` tag to 52px.\n",
    "* Set the `font-size` of the `h3` tag to 40px.\n",
    "* Set the `font-size` of the `h4` tag to 32px.\n",
    "* Set the `font-size` of the `h5` tag to 21px.\n",
    "* Set the `font-size` of the `h6` tag to 14px."
   ]
  },
  {
   "cell_type": "markdown",
   "metadata": {},
   "source": [
    "```HTML\n",
    "<style>\n",
    "    h1{\n",
    "        font-size: 68px;\n",
    "    }\n",
    "    h2{\n",
    "        font-size: 52px;\n",
    "    }\n",
    "    h3{\n",
    "        font-size: 40px;\n",
    "    }\n",
    "    h4{\n",
    "        font-size: 32px;\n",
    "    }\n",
    "    h5{\n",
    "        font-size: 21px;\n",
    "    }\n",
    "    h6{\n",
    "        font-size: 14px;\n",
    "    }\n",
    "</style>\n",
    "\n",
    "<h1>This is h1 text</h1>\n",
    "<h2>This is h2 text</h2>\n",
    "<h3>This is h3 text</h3>\n",
    "<h4>This is h4 text</h4>\n",
    "<h5>This is h5 text</h5>\n",
    "<h6>This is h6 text</h6>\n",
    "```"
   ]
  },
  {
   "cell_type": "code",
   "execution_count": 98,
   "metadata": {},
   "outputs": [
    {
     "data": {
      "text/html": [
       "\n",
       "        <iframe\n",
       "            width=\"100%\"\n",
       "            height=\"500\"\n",
       "            src=\"./source-solution/03-applied-visual-design/013-set-the-font-size-for-multiple-heading-elements.html\"\n",
       "            frameborder=\"0\"\n",
       "            allowfullscreen\n",
       "        ></iframe>\n",
       "        "
      ],
      "text/plain": [
       "<IPython.lib.display.IFrame at 0x17a82633390>"
      ]
     },
     "execution_count": 98,
     "metadata": {},
     "output_type": "execute_result"
    }
   ],
   "source": [
    "IFrame('./source-solution/03-applied-visual-design/013-set-the-font-size-for-multiple-heading-elements.html', '100%', 500)"
   ]
  },
  {
   "cell_type": "markdown",
   "metadata": {},
   "source": [
    "### Set the font-weight for Multiple Heading Elements"
   ]
  },
  {
   "cell_type": "markdown",
   "metadata": {},
   "source": [
    "You set the `font-size` of each heading tag in the last challenge, here you'll adjust the `font-weight`.\n",
    "\n",
    "The `font-weight` property sets how thick or thin characters are in a section of text.\n",
    "\n",
    "---\n",
    "* Set the `font-weight` of the `h1` tag to 800.\n",
    "* Set the `font-weight` of the `h2` tag to 600.\n",
    "* Set the `font-weight` of the `h3` tag to 500.\n",
    "* Set the `font-weight` of the `h4` tag to 400.\n",
    "* Set the `font-weight` of the `h5` tag to 300.\n",
    "* Set the `font-weight` of the `h6` tag to 200."
   ]
  },
  {
   "cell_type": "markdown",
   "metadata": {},
   "source": [
    "```HTML\n",
    "<style>\n",
    "  h1 {\n",
    "    font-size: 68px;\n",
    "    font-weight: 800;\n",
    "  }\n",
    "  h2 {\n",
    "    font-size: 52px;\n",
    "    font-weight: 600;\n",
    "  }\n",
    "  h3 {\n",
    "    font-size: 40px;\n",
    "    font-weight: 500;\n",
    "  }\n",
    "  h4 {\n",
    "    font-size: 32px;\n",
    "    font-weight: 400;\n",
    "  }\n",
    "  h5 {\n",
    "    font-size: 21px;\n",
    "    font-weight: 300;\n",
    "  }\n",
    "  h6 {\n",
    "    font-size: 14px;\n",
    "    font-weight: 200;\n",
    "  }\n",
    "</style>\n",
    "\n",
    "<h1>This is h1 text</h1>\n",
    "<h2>This is h2 text</h2>\n",
    "<h3>This is h3 text</h3>\n",
    "<h4>This is h4 text</h4>\n",
    "<h5>This is h5 text</h5>\n",
    "<h6>This is h6 text</h6>\n",
    "```"
   ]
  },
  {
   "cell_type": "code",
   "execution_count": 99,
   "metadata": {},
   "outputs": [
    {
     "data": {
      "text/html": [
       "\n",
       "        <iframe\n",
       "            width=\"100%\"\n",
       "            height=\"500\"\n",
       "            src=\"./source-solution/03-applied-visual-design/014-set-the-font-weight-for-multiple-heading-elements.html\"\n",
       "            frameborder=\"0\"\n",
       "            allowfullscreen\n",
       "        ></iframe>\n",
       "        "
      ],
      "text/plain": [
       "<IPython.lib.display.IFrame at 0x17a824e34e0>"
      ]
     },
     "execution_count": 99,
     "metadata": {},
     "output_type": "execute_result"
    }
   ],
   "source": [
    "IFrame('./source-solution/03-applied-visual-design/014-set-the-font-weight-for-multiple-heading-elements.html', '100%', 500)"
   ]
  },
  {
   "cell_type": "markdown",
   "metadata": {},
   "source": [
    "### Set the font-size of Paragraph Text"
   ]
  },
  {
   "cell_type": "markdown",
   "metadata": {},
   "source": [
    "The `font-size` property in CSS is not limited to headings, it can be applied to any element containing text.\n",
    "\n",
    "---\n",
    "Change the value of the `font-size` property for the paragraph to 16px to make it more visible."
   ]
  },
  {
   "cell_type": "markdown",
   "metadata": {},
   "source": [
    "```HTML\n",
    "<style>\n",
    "  p {\n",
    "    font-size: 16px;\n",
    "  }\n",
    "</style>\n",
    "<p>\n",
    "  Lorem ipsum dolor sit amet, consectetur adipiscing elit, sed do eiusmod tempor incididunt ut labore et dolore magna aliqua. Ut enim ad minim veniam, quis nostrud exercitation ullamco laboris nisi ut aliquip ex ea commodo consequat. Duis aute irure dolor in reprehenderit in voluptate velit esse cillum dolore eu fugiat nulla pariatur.\n",
    "</p>\n",
    "```"
   ]
  },
  {
   "cell_type": "code",
   "execution_count": 100,
   "metadata": {},
   "outputs": [
    {
     "data": {
      "text/html": [
       "\n",
       "        <iframe\n",
       "            width=\"100%\"\n",
       "            height=\"500\"\n",
       "            src=\"./source-solution/03-applied-visual-design/015-set-the-font-size-of-paragraph-text.html\"\n",
       "            frameborder=\"0\"\n",
       "            allowfullscreen\n",
       "        ></iframe>\n",
       "        "
      ],
      "text/plain": [
       "<IPython.lib.display.IFrame at 0x17a824e3828>"
      ]
     },
     "execution_count": 100,
     "metadata": {},
     "output_type": "execute_result"
    }
   ],
   "source": [
    "IFrame('./source-solution/03-applied-visual-design/015-set-the-font-size-of-paragraph-text.html', '100%', 500)"
   ]
  },
  {
   "cell_type": "markdown",
   "metadata": {},
   "source": [
    "### Set the line-height of Paragraphs"
   ]
  },
  {
   "cell_type": "markdown",
   "metadata": {},
   "source": [
    "CSS offers the `line-height` property to change the height of each line in a block of text. As the name suggests, it changes the amount of vertical space that each line of text gets.\n",
    "\n",
    "---\n",
    "Add a `line-height` property to the `p` tag and set it to 25px."
   ]
  },
  {
   "cell_type": "markdown",
   "metadata": {},
   "source": [
    "```HTML\n",
    "<style>\n",
    "  p {\n",
    "    font-size: 16px;\n",
    "    line-height: 25px;\n",
    "  }\n",
    "</style>\n",
    "<p>\n",
    "  Lorem ipsum dolor sit amet, consectetur adipiscing elit, sed do eiusmod tempor incididunt ut labore et dolore magna aliqua. Ut enim ad minim veniam, quis nostrud exercitation ullamco laboris nisi ut aliquip ex ea commodo consequat. Duis aute irure dolor in reprehenderit in voluptate velit esse cillum dolore eu fugiat nulla pariatur.\n",
    "</p>\n",
    "```"
   ]
  },
  {
   "cell_type": "code",
   "execution_count": 101,
   "metadata": {},
   "outputs": [
    {
     "data": {
      "text/html": [
       "\n",
       "        <iframe\n",
       "            width=\"100%\"\n",
       "            height=\"500\"\n",
       "            src=\"./source-solution/03-applied-visual-design/016-set-the-line-height-of-paragraphs.html\"\n",
       "            frameborder=\"0\"\n",
       "            allowfullscreen\n",
       "        ></iframe>\n",
       "        "
      ],
      "text/plain": [
       "<IPython.lib.display.IFrame at 0x17a830af828>"
      ]
     },
     "execution_count": 101,
     "metadata": {},
     "output_type": "execute_result"
    }
   ],
   "source": [
    "IFrame('./source-solution/03-applied-visual-design/016-set-the-line-height-of-paragraphs.html', '100%', 500)"
   ]
  },
  {
   "cell_type": "markdown",
   "metadata": {},
   "source": [
    "### Adjust the Hover State of an Anchor Tag"
   ]
  },
  {
   "cell_type": "markdown",
   "metadata": {},
   "source": [
    "This challenge will touch on the usage of pseudo-classes. A pseudo-class is a keyword that can be added to selectors, in order to select a specific state of the element.\n",
    "\n",
    "For example, the styling of an anchor tag can be changed for its hover state using the `:hover` pseudo-class selector. Here's the CSS to change the `color` of the anchor tag to red during its hover state:\n",
    "\n",
    "```CSS\n",
    "a:hover {\n",
    "  color: red;\n",
    "}\n",
    "```\n",
    "\n",
    "---\n",
    "The code editor has a CSS rule to style all `a` tags black. Add a rule so that when the user hovers over the `a` tag, the `color` is blue."
   ]
  },
  {
   "cell_type": "markdown",
   "metadata": {},
   "source": [
    "```HTML\n",
    "<style>\n",
    "  a {\n",
    "    color: #000;\n",
    "  }\n",
    "  a:hover {\n",
    "    color: blue;\n",
    "  }\n",
    "\n",
    "\n",
    "</style>\n",
    "<a href=\"http://freecatphotoapp.com/\" target=\"_blank\">CatPhotoApp</a>\n",
    "```"
   ]
  },
  {
   "cell_type": "code",
   "execution_count": 102,
   "metadata": {},
   "outputs": [
    {
     "data": {
      "text/html": [
       "\n",
       "        <iframe\n",
       "            width=\"100%\"\n",
       "            height=\"500\"\n",
       "            src=\"./source-solution/03-applied-visual-design/017-adjust-the-hover-state-of-an-anchor-tag.html\"\n",
       "            frameborder=\"0\"\n",
       "            allowfullscreen\n",
       "        ></iframe>\n",
       "        "
      ],
      "text/plain": [
       "<IPython.lib.display.IFrame at 0x17a830affd0>"
      ]
     },
     "execution_count": 102,
     "metadata": {},
     "output_type": "execute_result"
    }
   ],
   "source": [
    "IFrame('./source-solution/03-applied-visual-design/017-adjust-the-hover-state-of-an-anchor-tag.html', '100%', 500)"
   ]
  },
  {
   "cell_type": "markdown",
   "metadata": {},
   "source": [
    "### Change an Element's Relative Position"
   ]
  },
  {
   "cell_type": "markdown",
   "metadata": {},
   "source": [
    "CSS treats each HTML element as its own box, which is usually referred to as the CSS Box Model. Block-level items automatically start on a new line (think headings, paragraphs, and divs) while inline items sit within surrounding content (like images or spans). The default layout of elements in this way is called the normal flow of a document, but CSS offers the position property to override it.\n",
    "\n",
    "When the position of an element is set to `relative`, it allows you to specify how CSS should move it relative to its current position in the normal flow of the page. It pairs with the CSS offset properties of `left` or `right`, and `top` or `bottom`. These say how many pixels, percentages, or ems to move the item away from where it is normally positioned. The following example moves the paragraph 10 pixels away from the bottom:\n",
    "\n",
    "```CSS\n",
    "p {\n",
    "  position: relative;\n",
    "  bottom: 10px;\n",
    "}\n",
    "```\n",
    "\n",
    "Changing an element's position to relative does not remove it from the normal flow - other elements around it still behave as if that item were in its default position. Note: Positioning gives you a lot of flexibility and power over the visual layout of a page. It's good to remember that no matter the position of elements, the underlying HTML markup should be organized and make sense when read from top to bottom. This is how users with visual impairments (who rely on assistive devices like screen readers) access your content.\n",
    "\n",
    "---\n",
    "Change the `position` of the `h2` to `relative`, and use a CSS offset to move it 15 pixels away from the `top` of where it sits in the normal flow. Notice there is no impact on the positions of the surrounding h1 and p elements."
   ]
  },
  {
   "cell_type": "markdown",
   "metadata": {},
   "source": [
    "```HTML\n",
    "<style>\n",
    "  h2 {\n",
    "    position: relative;\n",
    "    top: 15px;\n",
    "  }\n",
    "</style>\n",
    "<body>\n",
    "  <h1>On Being Well-Positioned</h1>\n",
    "  <h2>Move me!</h2>\n",
    "  <p>I still think the h2 is where it normally sits.</p>\n",
    "</body>\n",
    "```"
   ]
  },
  {
   "cell_type": "code",
   "execution_count": 103,
   "metadata": {},
   "outputs": [
    {
     "data": {
      "text/html": [
       "\n",
       "        <iframe\n",
       "            width=\"100%\"\n",
       "            height=\"500\"\n",
       "            src=\"./source-solution/03-applied-visual-design/018-change-an-elements-relative-position.html\"\n",
       "            frameborder=\"0\"\n",
       "            allowfullscreen\n",
       "        ></iframe>\n",
       "        "
      ],
      "text/plain": [
       "<IPython.lib.display.IFrame at 0x17a828d2048>"
      ]
     },
     "execution_count": 103,
     "metadata": {},
     "output_type": "execute_result"
    }
   ],
   "source": [
    "IFrame('./source-solution/03-applied-visual-design/018-change-an-elements-relative-position.html', '100%', 500)"
   ]
  },
  {
   "cell_type": "markdown",
   "metadata": {},
   "source": [
    "### Move a Relatively Positioned Element with CSS Offsets"
   ]
  },
  {
   "attachments": {},
   "cell_type": "markdown",
   "metadata": {},
   "source": [
    "The CSS offsets of `top` or `bottom`, and `left` or `right` tell the browser how far to offset an item relative to where it would sit in the normal flow of the document. You're offsetting an element away from a given spot, which moves the element away from the referenced side (effectively, the opposite direction). As you saw in the last challenge, using the top offset moved the `h2` downwards. Likewise, using a left offset moves an item to the right.\n",
    "\n",
    "<img src=\"./images/eWWi3gZ.gif\">\n",
    "\n",
    "---\n",
    "Use CSS offsets to move the `h2` 15 pixels to the right and 10 pixels up."
   ]
  },
  {
   "cell_type": "markdown",
   "metadata": {},
   "source": [
    "```HTML\n",
    "<head>\n",
    "<style>\n",
    "  h2 {\n",
    "    position: relative;\n",
    "    left: 15px;\n",
    "    bottom: 10px;\n",
    "  }\n",
    "</style>\n",
    "</head>\n",
    "<body>\n",
    "  <h1>On Being Well-Positioned</h1>\n",
    "  <h2>Move me!</h2>\n",
    "  <p>I still think the h2 is where it normally sits.</p>\n",
    "</body>\n",
    "```"
   ]
  },
  {
   "cell_type": "code",
   "execution_count": 104,
   "metadata": {},
   "outputs": [
    {
     "data": {
      "text/html": [
       "\n",
       "        <iframe\n",
       "            width=\"100%\"\n",
       "            height=\"500\"\n",
       "            src=\"./source-solution/03-applied-visual-design/019-move-a-relatively-positioned-element-with-css-offsets.html\"\n",
       "            frameborder=\"0\"\n",
       "            allowfullscreen\n",
       "        ></iframe>\n",
       "        "
      ],
      "text/plain": [
       "<IPython.lib.display.IFrame at 0x17a828d2390>"
      ]
     },
     "execution_count": 104,
     "metadata": {},
     "output_type": "execute_result"
    }
   ],
   "source": [
    "IFrame('./source-solution/03-applied-visual-design/019-move-a-relatively-positioned-element-with-css-offsets.html', '100%', 500)"
   ]
  },
  {
   "cell_type": "markdown",
   "metadata": {},
   "source": [
    "### Lock an Element to its Parent with Absolute Positioning"
   ]
  },
  {
   "cell_type": "markdown",
   "metadata": {},
   "source": [
    "The next option for the CSS `position` property is `absolute`, which locks the element in place `relative` to its parent container. Unlike the relative position, this removes the element from the normal flow of the document, so surrounding items ignore it. The CSS offset properties (top or bottom and left or right) are used to adjust the position.\n",
    "\n",
    "One nuance with absolute positioning is that it will be locked relative to its closest positioned ancestor. If you forget to add a position rule to the parent item, (this is typically done using position: relative;), the browser will keep looking up the chain and ultimately default to the body tag.\n",
    "\n",
    "---\n",
    "Lock the `#searchbar` element to the top-right of its `section` parent by declaring its `position` as `absolute`. Give it `top` and `right` offsets of 50 pixels each."
   ]
  },
  {
   "cell_type": "markdown",
   "metadata": {},
   "source": [
    "```HTML\n",
    "<style>\n",
    "  #searchbar {\n",
    "    position: absolute;\n",
    "    top: 50px;\n",
    "    right: 50px;\n",
    "  }\n",
    "  section {\n",
    "    position: relative;\n",
    "  }\n",
    "</style>\n",
    "<body>\n",
    "  <h1>Welcome!</h1>\n",
    "  <section>\n",
    "    <form id=\"searchbar\">\n",
    "      <label for=\"search\">Search:</label>\n",
    "      <input type=\"search\" id=\"search\" name=\"search\">\n",
    "      <input type=\"submit\" name=\"submit\" value=\"Go!\">\n",
    "    </form>\n",
    "  </section>\n",
    "</body>\n",
    "```"
   ]
  },
  {
   "cell_type": "code",
   "execution_count": 105,
   "metadata": {},
   "outputs": [
    {
     "data": {
      "text/html": [
       "\n",
       "        <iframe\n",
       "            width=\"100%\"\n",
       "            height=\"500\"\n",
       "            src=\"./source-solution/03-applied-visual-design/020-lock-an-element-to-its-parent-with-absolute-positioning.html\"\n",
       "            frameborder=\"0\"\n",
       "            allowfullscreen\n",
       "        ></iframe>\n",
       "        "
      ],
      "text/plain": [
       "<IPython.lib.display.IFrame at 0x17a828d2a90>"
      ]
     },
     "execution_count": 105,
     "metadata": {},
     "output_type": "execute_result"
    }
   ],
   "source": [
    "IFrame('./source-solution/03-applied-visual-design/020-lock-an-element-to-its-parent-with-absolute-positioning.html', '100%', 500)"
   ]
  },
  {
   "cell_type": "markdown",
   "metadata": {},
   "source": [
    "### Lock an Element to the Browser Window with Fixed Positioning"
   ]
  },
  {
   "cell_type": "markdown",
   "metadata": {},
   "source": [
    "The next layout scheme that CSS offers is the `fixed` position, which is a type of absolute positioning that locks an element relative to the browser window. Similar to absolute positioning, it's used with the CSS offset properties and also removes the element from the normal flow of the document. Other items no longer \"realize\" where it is positioned, which may require some layout adjustments elsewhere.\n",
    "\n",
    "One key difference between the `fixed` and `absolute` positions is that an element with a fixed position won't move when the user scrolls.\n",
    "\n",
    "---\n",
    "The navigation bar in the code is labeled with an id of `navbar`. Change its `position` to `fixed`, and offset it 0 pixels from the `top` and 0 pixels from the `left`. After you have added the code, scroll the preview window to see how the navigation stays in place."
   ]
  },
  {
   "cell_type": "markdown",
   "metadata": {},
   "source": [
    "```HTML\n",
    "<style>\n",
    "  body {\n",
    "    min-height: 150vh;\n",
    "  }\n",
    "  #navbar {\n",
    "    position: fixed;\n",
    "    top: 0px;\n",
    "    left: 0px;\n",
    "    width: 100%;\n",
    "    background-color: #767676;\n",
    "  }\n",
    "  nav ul {\n",
    "    margin: 0px;\n",
    "    padding: 5px 0px 5px 30px;\n",
    "  }\n",
    "  nav li {\n",
    "    display: inline;\n",
    "    margin-right: 20px;\n",
    "  }\n",
    "  a {\n",
    "    text-decoration: none;\n",
    "  }\n",
    "</style>\n",
    "<body>\n",
    "  <header>\n",
    "    <h1>Welcome!</h1>\n",
    "    <nav id=\"navbar\">\n",
    "      <ul>\n",
    "        <li><a href=\"\">Home</a></li>\n",
    "        <li><a href=\"\">Contact</a></li>\n",
    "      </ul>\n",
    "    </nav>\n",
    "  </header>\n",
    "  <p>I shift up when the #navbar is fixed to the browser window.</p>\n",
    "</body>\n",
    "```"
   ]
  },
  {
   "cell_type": "code",
   "execution_count": 106,
   "metadata": {},
   "outputs": [
    {
     "data": {
      "text/html": [
       "\n",
       "        <iframe\n",
       "            width=\"100%\"\n",
       "            height=\"500\"\n",
       "            src=\"./source-solution/03-applied-visual-design/021-lock-an-element-to-the-browser-window-with-fixed-positioning.html\"\n",
       "            frameborder=\"0\"\n",
       "            allowfullscreen\n",
       "        ></iframe>\n",
       "        "
      ],
      "text/plain": [
       "<IPython.lib.display.IFrame at 0x17a830b0f98>"
      ]
     },
     "execution_count": 106,
     "metadata": {},
     "output_type": "execute_result"
    }
   ],
   "source": [
    "IFrame('./source-solution/03-applied-visual-design/021-lock-an-element-to-the-browser-window-with-fixed-positioning.html', '100%', 500)"
   ]
  },
  {
   "cell_type": "markdown",
   "metadata": {},
   "source": [
    "### Push Elements Left or Right with the float Property"
   ]
  },
  {
   "cell_type": "markdown",
   "metadata": {},
   "source": [
    "The next positioning tool does not actually use `position`, but sets the `float` property of an element. Floating elements are removed from the normal flow of a document and pushed to either the `left` or `right` of their containing parent element. It's commonly used with the `width` property to specify how much horizontal space the floated element requires.\n",
    "\n",
    "---\n",
    "The given markup would work well as a two-column layout, with the `section` and `aside` elements next to each other. Give the `#left` item a `float` of `left` and the `#right` item a `float` of `right`."
   ]
  },
  {
   "cell_type": "markdown",
   "metadata": {},
   "source": [
    "```HTML\n",
    "<head>\n",
    "  <style>\n",
    "    #left {\n",
    "      float: left;\n",
    "      width: 50%;\n",
    "    }\n",
    "    #right {\n",
    "      float: right;\n",
    "      width: 40%;\n",
    "    }\n",
    "    aside, section {\n",
    "      padding: 2px;\n",
    "      background-color: #ccc;\n",
    "    }\n",
    "  </style>\n",
    "</head>\n",
    "<body>\n",
    "  <header>\n",
    "    <h1>Welcome!</h1>\n",
    "  </header>\n",
    "  <section id=\"left\">\n",
    "    <h2>Content</h2>\n",
    "    <p>Good stuff</p>\n",
    "  </section>\n",
    "  <aside id=\"right\">\n",
    "    <h2>Sidebar</h2>\n",
    "    <p>Links</p>\n",
    "  </aside>\n",
    "</body>\n",
    "```"
   ]
  },
  {
   "cell_type": "code",
   "execution_count": 107,
   "metadata": {},
   "outputs": [
    {
     "data": {
      "text/html": [
       "\n",
       "        <iframe\n",
       "            width=\"100%\"\n",
       "            height=\"500\"\n",
       "            src=\"./source-solution/03-applied-visual-design/022-push-elements-left-or-right-with-the-float-property.html\"\n",
       "            frameborder=\"0\"\n",
       "            allowfullscreen\n",
       "        ></iframe>\n",
       "        "
      ],
      "text/plain": [
       "<IPython.lib.display.IFrame at 0x17a8282a748>"
      ]
     },
     "execution_count": 107,
     "metadata": {},
     "output_type": "execute_result"
    }
   ],
   "source": [
    "IFrame('./source-solution/03-applied-visual-design/022-push-elements-left-or-right-with-the-float-property.html', '100%', 500)"
   ]
  },
  {
   "cell_type": "markdown",
   "metadata": {},
   "source": [
    "### Change the Position of Overlapping Elements with the z-index Property"
   ]
  },
  {
   "cell_type": "markdown",
   "metadata": {},
   "source": [
    "When elements are positioned to overlap (i.e. using `position: absolute | relative | fixed | sticky`), the element coming later in the HTML markup will, by default, appear on the top of the other elements. However, the `z-index` property can specify the order of how elements are stacked on top of one another. It must be an integer (i.e. a whole number and not a decimal), and higher values for the `z-index` property of an element move it higher in the stack than those with lower values.\n",
    "\n",
    "---\n",
    "Add a `z-index` property to the element with the class name of `first` (the red rectangle) and set it to a value of 2 so it covers the other element (blue rectangle)."
   ]
  },
  {
   "cell_type": "markdown",
   "metadata": {},
   "source": [
    "```HTML\n",
    "<style>\n",
    "  div {\n",
    "    width: 60%;\n",
    "    height: 200px;\n",
    "    margin-top: 20px;\n",
    "  }\n",
    "\n",
    "  .first {\n",
    "    background-color: red;\n",
    "    position: absolute;\n",
    "    z-index: 2;\n",
    "  }\n",
    "  .second {\n",
    "    background-color: blue;\n",
    "    position: absolute;\n",
    "    left: 40px;\n",
    "    top: 50px;\n",
    "    z-index: 1;\n",
    "  }\n",
    "</style>\n",
    "\n",
    "<div class=\"first\"></div>\n",
    "<div class=\"second\"></div>\n",
    "```"
   ]
  },
  {
   "cell_type": "code",
   "execution_count": 108,
   "metadata": {},
   "outputs": [
    {
     "data": {
      "text/html": [
       "\n",
       "        <iframe\n",
       "            width=\"100%\"\n",
       "            height=\"500\"\n",
       "            src=\"./source-solution/03-applied-visual-design/023-change-the-position-of-overlapping-elements-with-the-z-index-property.html\"\n",
       "            frameborder=\"0\"\n",
       "            allowfullscreen\n",
       "        ></iframe>\n",
       "        "
      ],
      "text/plain": [
       "<IPython.lib.display.IFrame at 0x17a8282ad68>"
      ]
     },
     "execution_count": 108,
     "metadata": {},
     "output_type": "execute_result"
    }
   ],
   "source": [
    "IFrame('./source-solution/03-applied-visual-design/023-change-the-position-of-overlapping-elements-with-the-z-index-property.html', '100%', 500)"
   ]
  },
  {
   "cell_type": "markdown",
   "metadata": {},
   "source": [
    "### Center an Element Horizontally Using the margin Property"
   ]
  },
  {
   "cell_type": "markdown",
   "metadata": {},
   "source": [
    "Another positioning technique is to center a block element horizontally. One way to do this is to set its `margin` to a value of auto.\n",
    "\n",
    "This method works for images, too. Images are inline elements by default, but can be changed to block elements when you set the `display` property to block.\n",
    "\n",
    "---\n",
    "Center the `div` on the page by adding a `margin` property with a value of auto."
   ]
  },
  {
   "cell_type": "markdown",
   "metadata": {},
   "source": [
    "```HTML\n",
    "<style>\n",
    "  div {\n",
    "    background-color: blue;\n",
    "    height: 100px;\n",
    "    width: 100px;\n",
    "    margin: auto;\n",
    "  }\n",
    "</style>\n",
    "<div></div>\n",
    "```"
   ]
  },
  {
   "cell_type": "code",
   "execution_count": 109,
   "metadata": {},
   "outputs": [
    {
     "data": {
      "text/html": [
       "\n",
       "        <iframe\n",
       "            width=\"100%\"\n",
       "            height=\"500\"\n",
       "            src=\"./source-solution/03-applied-visual-design/024-center-an-element-horizontally-using-the-margin-property.html\"\n",
       "            frameborder=\"0\"\n",
       "            allowfullscreen\n",
       "        ></iframe>\n",
       "        "
      ],
      "text/plain": [
       "<IPython.lib.display.IFrame at 0x17a8263be10>"
      ]
     },
     "execution_count": 109,
     "metadata": {},
     "output_type": "execute_result"
    }
   ],
   "source": [
    "IFrame('./source-solution/03-applied-visual-design/024-center-an-element-horizontally-using-the-margin-property.html', '100%', 500)"
   ]
  },
  {
   "cell_type": "markdown",
   "metadata": {},
   "source": [
    "### Learn about Complementary Colors"
   ]
  },
  {
   "cell_type": "markdown",
   "metadata": {},
   "source": [
    "Color theory and its impact on design is a deep topic and only the basics are covered in the following challenges. On a website, color can draw attention to content, evoke emotions, or create visual harmony. Using different combinations of colors can really change the look of a website, and a lot of thought can go into picking a color palette that works with your content.\n",
    "\n",
    "The color wheel is a useful tool to visualize how colors relate to each other - it's a circle where similar hues are neighbors and different hues are farther apart. When two colors are opposite each other on the wheel, they are called complementary colors. They have the characteristic that if they are combined, they \"cancel\" each other out and create a gray color. However, when placed side-by-side, these colors appear more vibrant and produce a strong visual contrast.\n",
    "\n",
    "Some examples of complementary colors with their hex codes are:\n",
    "\n",
    "```\n",
    "red (#FF0000) and cyan (#00FFFF)\n",
    "green (#00FF00) and magenta (#FF00FF)\n",
    "blue (#0000FF) and yellow (#FFFF00)\n",
    "```\n",
    "\n",
    "This is different than the outdated RYB color model that many of us were taught in school, which has different primary and complementary colors. Modern color theory uses the additive RGB model (like on a computer screen) and the subtractive CMY(K) model (like in printing). Read [here](https://en.wikipedia.org/wiki/Color_model) for more information on this complex subject.\n",
    "\n",
    "There are many color picking tools available online that have an option to find the complement of a color.\n",
    "\n",
    "**Note**: For all color challenges: Using color can be a powerful way to add visual interest to a page. However, color alone should not be used as the only way to convey important information because users with visual impairments may not understand that content. This issue will be covered in more detail in the Applied Accessibility challenges.\n",
    "\n",
    "---\n",
    "Change the `background-color` property of the `blue` and `yellow` classes to their respective colors. Notice how the colors look different next to each other than they do compared against the white background."
   ]
  },
  {
   "cell_type": "markdown",
   "metadata": {},
   "source": [
    "```HTML\n",
    "<style>\n",
    "  body {\n",
    "    background-color: #FFFFFF;\n",
    "  }\n",
    "  .blue {\n",
    "    background-color: #0000FF;\n",
    "  }\n",
    "  .yellow {\n",
    "    background-color: #FFFF00;\n",
    "  }\n",
    "  div {\n",
    "    display: inline-block;\n",
    "    height: 100px;\n",
    "    width: 100px;\n",
    "  }\n",
    "</style>\n",
    "<div class=\"blue\"></div>\n",
    "<div class=\"yellow\"></div>\n",
    "```"
   ]
  },
  {
   "cell_type": "code",
   "execution_count": 110,
   "metadata": {},
   "outputs": [
    {
     "data": {
      "text/html": [
       "\n",
       "        <iframe\n",
       "            width=\"100%\"\n",
       "            height=\"500\"\n",
       "            src=\"./source-solution/03-applied-visual-design/025-learn-about-complementary-colors.html\"\n",
       "            frameborder=\"0\"\n",
       "            allowfullscreen\n",
       "        ></iframe>\n",
       "        "
      ],
      "text/plain": [
       "<IPython.lib.display.IFrame at 0x17a8263bdd8>"
      ]
     },
     "execution_count": 110,
     "metadata": {},
     "output_type": "execute_result"
    }
   ],
   "source": [
    "IFrame('./source-solution/03-applied-visual-design/025-learn-about-complementary-colors.html', '100%', 500)"
   ]
  },
  {
   "cell_type": "markdown",
   "metadata": {},
   "source": [
    "### Learn about Tertiary Colors"
   ]
  },
  {
   "cell_type": "markdown",
   "metadata": {},
   "source": [
    "Computer monitors and device screens create different colors by combining amounts of red, green, and blue light. This is known as the RGB additive color model in modern color theory. Red (R), green (G), and blue (B) are called primary colors. Mixing two primary colors creates the secondary colors cyan (G + B), magenta (R + B) and yellow (R + G). You saw these colors in the Complementary Colors challenge. These secondary colors happen to be the complement to the primary color not used in their creation, and are opposite to that primary color on the color wheel. For example, magenta is made with red and blue, and is the complement to green.\n",
    "\n",
    "Tertiary colors are the result of combining a primary color with one of its secondary color neighbors. For example, within the RGB color model, red (primary) and yellow (secondary) make orange (tertiary). This adds six more colors to a simple color wheel for a total of twelve.\n",
    "\n",
    "There are various methods of selecting different colors that result in a harmonious combination in design. One example that can use tertiary colors is called the split-complementary color scheme. This scheme starts with a base color, then pairs it with the two colors that are adjacent to its complement. The three colors provide strong visual contrast in a design, but are more subtle than using two complementary colors.\n",
    "\n",
    "Here are three colors created using the split-complement scheme:\n",
    "\n",
    "Color    | Hex Code\n",
    "---------|----------\n",
    "orange\t | `#FF7F00`\n",
    "cyan\t | `#00FFFF`\n",
    "raspberry| `#FF007F`\n",
    "\n",
    "---\n",
    "Change the `background-color` property of the `orange`, `cyan`, and `raspberry` classes to their respective colors. Make sure to use the hex codes and not the color names."
   ]
  },
  {
   "cell_type": "markdown",
   "metadata": {},
   "source": [
    "```HTML\n",
    "<style>\n",
    "  body {\n",
    "    background-color: #FFFFFF;\n",
    "  }\n",
    "\n",
    "  .orange {\n",
    "    background-color: #FF7F00;\n",
    "  }\n",
    "\n",
    "  .cyan {\n",
    "    background-color: #00FFFF;\n",
    "  }\n",
    "\n",
    "  .raspberry {\n",
    "    background-color: #FF007F;\n",
    "  }\n",
    "\n",
    "  div {\n",
    "    height: 100px;\n",
    "    width: 100px;\n",
    "    margin-bottom: 5px;\n",
    "  }\n",
    "</style>\n",
    "\n",
    "<div class=\"orange\"></div>\n",
    "<div class=\"cyan\"></div>\n",
    "<div class=\"raspberry\"></div>\n",
    "```"
   ]
  },
  {
   "cell_type": "code",
   "execution_count": 111,
   "metadata": {},
   "outputs": [
    {
     "data": {
      "text/html": [
       "\n",
       "        <iframe\n",
       "            width=\"100%\"\n",
       "            height=\"500\"\n",
       "            src=\"./source-solution/03-applied-visual-design/026-learn-about-tertiary-colors.html\"\n",
       "            frameborder=\"0\"\n",
       "            allowfullscreen\n",
       "        ></iframe>\n",
       "        "
      ],
      "text/plain": [
       "<IPython.lib.display.IFrame at 0x17a8263b898>"
      ]
     },
     "execution_count": 111,
     "metadata": {},
     "output_type": "execute_result"
    }
   ],
   "source": [
    "IFrame('./source-solution/03-applied-visual-design/026-learn-about-tertiary-colors.html', '100%', 500)"
   ]
  },
  {
   "cell_type": "markdown",
   "metadata": {},
   "source": [
    "### Adjust the Color of Various Elements to Complementary Colors"
   ]
  },
  {
   "cell_type": "markdown",
   "metadata": {},
   "source": [
    "The Complementary Colors challenge showed that opposite colors on the color wheel can make each other appear more vibrant when placed side-by-side. However, the strong visual contrast can be jarring if it's overused on a website, and can sometimes make text harder to read if it's placed on a complementary-colored background. In practice, one of the colors is usually dominant and the complement is used to bring visual attention to certain content on the page.\n",
    "\n",
    "---\n",
    "This page will use a shade of teal (`#09A7A1`) as the dominant color, and its orange (`#FF790E`) complement to visually highlight the sign-up buttons. Change the `background-color` of both the `header` and `footer` from black to the teal color. Then change the `h2` text `color` to teal as well. Finally, change the `background-color` of the `button` to the orange color."
   ]
  },
  {
   "cell_type": "markdown",
   "metadata": {},
   "source": [
    "```HTML\n",
    "<style>\n",
    "  body {\n",
    "    background-color: white;\n",
    "  }\n",
    "  header {\n",
    "    background-color: #09A7A1;\n",
    "    color: white;\n",
    "    padding: 0.25em;\n",
    "  }\n",
    "  h2 {\n",
    "    color: #09A7A1 ;\n",
    "  }\n",
    "  button {\n",
    "    background-color: #FF790E;\n",
    "  }\n",
    "  footer {\n",
    "    background-color: #09A7A1;\n",
    "    color: white;\n",
    "    padding: 0.5em;\n",
    "  }\n",
    "</style>\n",
    "<header>\n",
    "  <h1>Cooking with FCC!</h1>\n",
    "</header>\n",
    "<main>\n",
    "  <article>\n",
    "    <h2>Machine Learning in the Kitchen</h2>\n",
    "    <p>Join this two day workshop that walks through how to implement cutting-edge snack-getting algorithms with a command line interface. Coding usually involves writing exact instructions, but sometimes you need your computer to execute flexible commands, like <code>fetch Pringles</code>.</p>\n",
    "    <button>Sign Up</button>\n",
    "  </article>\n",
    "  <article>\n",
    "    <h2>Bisection Vegetable Chopping</h2>\n",
    "    <p>This week-long retreat will level-up your coding ninja skills to actual ninja skills. No longer is the humble bisection search limited to sorted arrays or coding interview questions, applying its concepts in the kitchen will have you chopping carrots in O(log n) time before you know it.</p>\n",
    "    <button>Sign Up</button>\n",
    "  </article>\n",
    "</main>\n",
    "<br>\n",
    "<footer>&copy; 2018 FCC Kitchen</footer>\n",
    "```"
   ]
  },
  {
   "cell_type": "code",
   "execution_count": 112,
   "metadata": {},
   "outputs": [
    {
     "data": {
      "text/html": [
       "\n",
       "        <iframe\n",
       "            width=\"100%\"\n",
       "            height=\"500\"\n",
       "            src=\"./source-solution/03-applied-visual-design/027-adjust-the-color-of-various-elements-to-complementary-colors.html\"\n",
       "            frameborder=\"0\"\n",
       "            allowfullscreen\n",
       "        ></iframe>\n",
       "        "
      ],
      "text/plain": [
       "<IPython.lib.display.IFrame at 0x17a82824f60>"
      ]
     },
     "execution_count": 112,
     "metadata": {},
     "output_type": "execute_result"
    }
   ],
   "source": [
    "IFrame('./source-solution/03-applied-visual-design/027-adjust-the-color-of-various-elements-to-complementary-colors.html', '100%', 500)"
   ]
  },
  {
   "cell_type": "markdown",
   "metadata": {},
   "source": [
    "### Adjust the Hue of a Color"
   ]
  },
  {
   "attachments": {},
   "cell_type": "markdown",
   "metadata": {},
   "source": [
    "Colors have several characteristics including hue, saturation, and lightness. CSS3 introduced the `hsl()` property as an alternative way to pick a color by directly stating these characteristics.\n",
    "\n",
    "Hue is what people generally think of as 'color'. If you picture a spectrum of colors starting with red on the left, moving through green in the middle, and blue on right, the hue is where a color fits along this line. In `hsl()`, hue uses a color wheel concept instead of the spectrum, where the angle of the color on the circle is given as a value between 0 and 360.\n",
    "\n",
    "**Saturation** is the amount of gray in a color. A fully saturated color has no gray in it, and a minimally saturated color is almost completely gray. This is given as a percentage with 100% being fully saturated.\n",
    "\n",
    "**Lightness** is the amount of white or black in a color. A percentage is given ranging from 0% (black) to 100% (white), where 50% is the normal color.\n",
    "\n",
    "Here are a few examples of using `hsl()` with fully-saturated, normal lightness colors:\n",
    "\n",
    " Color   | HSL\n",
    " --------|----------------------\n",
    " red     | `hsl(0, 100%, 50%)`\n",
    " yellow  | `hsl(60, 100%, 50%)`\n",
    " green   | `hsl(120, 100%, 50%)`\n",
    " cyan    | `hsl(180, 100%, 50%)`\n",
    " blue    | `hsl(240, 100%, 50%)`\n",
    " magenta | `hsl(300, 100%, 50%)`\n",
    "\n",
    "---\n",
    "Change the `background-color` of each `div` element based on the class names (`green`, `cyan`, or `blue`) using `hsl()`. All three should have full saturation and normal lightness."
   ]
  },
  {
   "cell_type": "markdown",
   "metadata": {},
   "source": [
    "```HTML\n",
    "<style>\n",
    "  body {\n",
    "    background-color: #FFFFFF;\n",
    "  }\n",
    "\n",
    "  .green {\n",
    "    background-color: hsl(120, 100%, 50%);\n",
    "  }\n",
    "\n",
    "  .cyan {\n",
    "    background-color: hsl(180, 100%, 50%);\n",
    "  }\n",
    "\n",
    "  .blue {\n",
    "    background-color: hsl(240, 100%, 50%);\n",
    "  }\n",
    "\n",
    "  div {\n",
    "    display: inline-block;\n",
    "    height: 100px;\n",
    "    width: 100px;\n",
    "  }\n",
    "</style>\n",
    "\n",
    "<div class=\"green\"></div>\n",
    "<div class=\"cyan\"></div>\n",
    "<div class=\"blue\"></div>\n",
    "```"
   ]
  },
  {
   "cell_type": "code",
   "execution_count": 113,
   "metadata": {},
   "outputs": [
    {
     "data": {
      "text/html": [
       "\n",
       "        <iframe\n",
       "            width=\"100%\"\n",
       "            height=\"500\"\n",
       "            src=\"./source-solution/03-applied-visual-design/028-adjust-the-hue-of-a-color.html\"\n",
       "            frameborder=\"0\"\n",
       "            allowfullscreen\n",
       "        ></iframe>\n",
       "        "
      ],
      "text/plain": [
       "<IPython.lib.display.IFrame at 0x17a828c90b8>"
      ]
     },
     "execution_count": 113,
     "metadata": {},
     "output_type": "execute_result"
    }
   ],
   "source": [
    "IFrame('./source-solution/03-applied-visual-design/028-adjust-the-hue-of-a-color.html', '100%', 500)"
   ]
  },
  {
   "cell_type": "markdown",
   "metadata": {},
   "source": [
    "### Adjust the Tone of a Color"
   ]
  },
  {
   "cell_type": "markdown",
   "metadata": {},
   "source": [
    "The `hsl()` option in CSS also makes it easy to adjust the tone of a color. Mixing white with a pure hue creates a tint of that color, and adding black will make a shade. Alternatively, a tone is produced by adding gray or by both tinting and shading. Recall that the 's' and 'l' of `hsl()` stand for saturation and lightness, respectively. The saturation percent changes the amount of gray and the lightness percent determines how much white or black is in the color. This is useful when you have a base hue you like, but need different variations of it.\n",
    "\n",
    "---\n",
    "All elements have a default `background-color` of `transparent`. Our `nav` element currently appears to have a `cyan` background, because the element behind it has a `background-color` set to `cyan`. Add a `background-color` to the `nav` element so it uses the same `cyan` hue, but has `80% saturation` and `25% lightness` values to change its tone and shade."
   ]
  },
  {
   "cell_type": "markdown",
   "metadata": {},
   "source": [
    "```HTML\n",
    "<style>\n",
    "  header {\n",
    "    background-color: hsl(180, 90%, 35%);\n",
    "    color: #FFFFFF;\n",
    "  }\n",
    "\n",
    "  nav {\n",
    "    background-color: hsl(180, 80%, 25%)\n",
    "  }\n",
    "\n",
    "  h1 {\n",
    "    text-indent: 10px;\n",
    "    padding-top: 10px;\n",
    "  }\n",
    "\n",
    "  nav ul {\n",
    "    margin: 0px;\n",
    "    padding: 5px 0px 5px 30px;\n",
    "  }\n",
    "\n",
    "  nav li {\n",
    "    display: inline;\n",
    "    margin-right: 20px;\n",
    "  }\n",
    "\n",
    "  a {\n",
    "    text-decoration: none;\n",
    "    color: inherit;\n",
    "  }\n",
    "</style>\n",
    "\n",
    "<header>\n",
    "  <h1>Cooking with FCC!</h1>\n",
    "  <nav>\n",
    "    <ul>\n",
    "      <li><a href=\"#\">Home</a></li>\n",
    "      <li><a href=\"#\">Classes</a></li>\n",
    "      <li><a href=\"#\">Contact</a></li>\n",
    "    </ul>\n",
    "  </nav>\n",
    "</header>\n",
    "```"
   ]
  },
  {
   "cell_type": "code",
   "execution_count": 114,
   "metadata": {},
   "outputs": [
    {
     "data": {
      "text/html": [
       "\n",
       "        <iframe\n",
       "            width=\"100%\"\n",
       "            height=\"500\"\n",
       "            src=\"./source-solution/03-applied-visual-design/029-adjust-the-tone-of-a-color.html\"\n",
       "            frameborder=\"0\"\n",
       "            allowfullscreen\n",
       "        ></iframe>\n",
       "        "
      ],
      "text/plain": [
       "<IPython.lib.display.IFrame at 0x17a828c97f0>"
      ]
     },
     "execution_count": 114,
     "metadata": {},
     "output_type": "execute_result"
    }
   ],
   "source": [
    "IFrame('./source-solution/03-applied-visual-design/029-adjust-the-tone-of-a-color.html', '100%', 500)"
   ]
  },
  {
   "cell_type": "markdown",
   "metadata": {},
   "source": [
    "### Create a Gradual CSS Linear Gradient"
   ]
  },
  {
   "cell_type": "markdown",
   "metadata": {},
   "source": [
    "Applying a color on HTML elements is not limited to one flat hue. CSS provides the ability to use color transitions, otherwise known as gradients, on elements. This is accessed through the `background` property's `linear-gradient()` function. Here is the general syntax:\n",
    "\n",
    "`background: linear-gradient(gradient_direction, color 1, color 2, color 3, ...);`\n",
    "\n",
    "The first argument specifies the direction from which color transition starts - it can be stated as a degree, where 90deg makes a vertical gradient and 45deg is angled like a backslash. The following arguments specify the order of colors used in the gradient.\n",
    "\n",
    "Example:\n",
    "\n",
    "`background: linear-gradient(90deg, red, yellow, rgb(204, 204, 255));`\n",
    "\n",
    "---\n",
    "Use a `linear-gradient()` for the `div` element's `background`, and set it from a direction of 35 degrees to change the color from `#CCFFFF` to `#FFCCCC`."
   ]
  },
  {
   "cell_type": "markdown",
   "metadata": {},
   "source": [
    "```HTML\n",
    "<style>\n",
    "  div {\n",
    "    border-radius: 20px;\n",
    "    width: 70%;\n",
    "    height: 400px;\n",
    "    margin: 50px auto;\n",
    "    background: linear-gradient(35deg, #CCFFFF, #FFCCCC);\n",
    "  }\n",
    "\n",
    "</style>\n",
    "\n",
    "<div></div>\n",
    "```"
   ]
  },
  {
   "cell_type": "code",
   "execution_count": 115,
   "metadata": {},
   "outputs": [
    {
     "data": {
      "text/html": [
       "\n",
       "        <iframe\n",
       "            width=\"100%\"\n",
       "            height=\"500\"\n",
       "            src=\"./source-solution/03-applied-visual-design/030-create-a-gradual-css-linear-gradient.html\"\n",
       "            frameborder=\"0\"\n",
       "            allowfullscreen\n",
       "        ></iframe>\n",
       "        "
      ],
      "text/plain": [
       "<IPython.lib.display.IFrame at 0x17a828c94a8>"
      ]
     },
     "execution_count": 115,
     "metadata": {},
     "output_type": "execute_result"
    }
   ],
   "source": [
    "IFrame('./source-solution/03-applied-visual-design/030-create-a-gradual-css-linear-gradient.html', '100%', 500)"
   ]
  },
  {
   "cell_type": "markdown",
   "metadata": {},
   "source": [
    "### Use a CSS Linear Gradient to Create a Striped Element"
   ]
  },
  {
   "cell_type": "markdown",
   "metadata": {},
   "source": [
    "The `repeating-linear-gradient()` function is very similar to `linear-gradient()` with the major difference that it repeats the specified gradient pattern. `repeating-linear-gradient()` accepts a variety of values, but for simplicity, you'll work with an angle value and color stop values in this challenge.\n",
    "\n",
    "The angle value is the direction of the gradient. Color stops are like width values that mark where a transition takes place, and are given with a percentage or a number of pixels.\n",
    "\n",
    "In the example demonstrated in the code editor, the gradient starts with the color `yellow` at 0 pixels which blends into the second color `blue` at 40 pixels away from the start. Since the next color stop is also at 40 pixels, the gradient immediately changes to the third color `green`, which itself blends into the fourth color value `red` as that is 80 pixels away from the beginning of the gradient.\n",
    "\n",
    "For this example, it helps to think about the color stops as pairs where every two colors blend together.\n",
    "\n",
    "`0px [yellow -- blend -- blue] 40px [green -- blend -- red] 80px`\n",
    "\n",
    "If every two color stop values are the same color, the blending isn't noticeable because it's between the same color, followed by a hard transition to the next color, so you end up with stripes.\n",
    "\n",
    "---\n",
    "Make stripes by changing the `repeating-linear-gradient()` to use a gradient angle of `45deg`, then set the first two color stops to `yellow`, and finally the second two color stops to `black`."
   ]
  },
  {
   "cell_type": "markdown",
   "metadata": {},
   "source": [
    "```HTML\n",
    "<style>\n",
    "\n",
    "  div{\n",
    "    border-radius: 20px;\n",
    "    width: 70%;\n",
    "    height: 400px;\n",
    "    margin:  50 auto;\n",
    "    background: repeating-linear-gradient(\n",
    "      45deg,\n",
    "      yellow 0px,\n",
    "      yellow 40px,\n",
    "      black 40px,\n",
    "      black 80px\n",
    "    );\n",
    "  }\n",
    "\n",
    "</style>\n",
    "\n",
    "<div></div>\n",
    "```"
   ]
  },
  {
   "cell_type": "code",
   "execution_count": 116,
   "metadata": {},
   "outputs": [
    {
     "data": {
      "text/html": [
       "\n",
       "        <iframe\n",
       "            width=\"100%\"\n",
       "            height=\"500\"\n",
       "            src=\"./source-solution/03-applied-visual-design/031-use-a-css-linear-gradient-to-create-a-striped-element.html\"\n",
       "            frameborder=\"0\"\n",
       "            allowfullscreen\n",
       "        ></iframe>\n",
       "        "
      ],
      "text/plain": [
       "<IPython.lib.display.IFrame at 0x17a828c9cc0>"
      ]
     },
     "execution_count": 116,
     "metadata": {},
     "output_type": "execute_result"
    }
   ],
   "source": [
    "IFrame('./source-solution/03-applied-visual-design/031-use-a-css-linear-gradient-to-create-a-striped-element.html', '100%', 500)"
   ]
  },
  {
   "cell_type": "markdown",
   "metadata": {},
   "source": [
    "### Create Texture by Adding a Subtle Pattern as a Background Image"
   ]
  },
  {
   "cell_type": "markdown",
   "metadata": {},
   "source": [
    "One way to add texture and interest to a background and have it stand out more is to add a subtle pattern. The key is balance, as you don't want the background to stand out too much, and take away from the foreground. The `background` property supports the `url()` function in order to link to an image of the chosen texture or pattern. The link address is wrapped in quotes inside the parentheses.\n",
    "\n",
    "---\n",
    "Using the url of `https://cdn-media-1.freecodecamp.org/imgr/MJAkxbh.png`, set the `background` of the whole page with the `body` selector."
   ]
  },
  {
   "cell_type": "markdown",
   "metadata": {},
   "source": [
    "```HTML\n",
    "<style>\n",
    "  body {\n",
    "    background: url(https://cdn-media-1.freecodecamp.org/imgr/MJAkxbh.png)\n",
    "  }\n",
    "</style>\n",
    "```"
   ]
  },
  {
   "cell_type": "code",
   "execution_count": 117,
   "metadata": {},
   "outputs": [
    {
     "data": {
      "text/html": [
       "\n",
       "        <iframe\n",
       "            width=\"100%\"\n",
       "            height=\"500\"\n",
       "            src=\"./source-solution/03-applied-visual-design/032-create-texture-by-adding-a-subtle-pattern-as-a-background-image.html\"\n",
       "            frameborder=\"0\"\n",
       "            allowfullscreen\n",
       "        ></iframe>\n",
       "        "
      ],
      "text/plain": [
       "<IPython.lib.display.IFrame at 0x17a821ed5c0>"
      ]
     },
     "execution_count": 117,
     "metadata": {},
     "output_type": "execute_result"
    }
   ],
   "source": [
    "IFrame('./source-solution/03-applied-visual-design/032-create-texture-by-adding-a-subtle-pattern-as-a-background-image.html', '100%', 500)"
   ]
  },
  {
   "cell_type": "markdown",
   "metadata": {},
   "source": [
    "### Use the CSS Transform scale Property to Change the Size of an Element"
   ]
  },
  {
   "cell_type": "markdown",
   "metadata": {},
   "source": [
    "To change the scale of an element, CSS has the `transform` property, along with its `scale()` function. The following code example doubles the size of all the paragraph elements on the page:\n",
    "\n",
    "```CSS\n",
    "p {\n",
    "  transform: scale(2);\n",
    "}\n",
    "```\n",
    "\n",
    "---\n",
    "Increase the size of the element with the id of `ball2` to 1.5 times its original size."
   ]
  },
  {
   "cell_type": "markdown",
   "metadata": {},
   "source": [
    "```HTML\n",
    "<style>\n",
    "  .ball {\n",
    "    width: 40px;\n",
    "    height: 40px;\n",
    "    margin: 50 auto;\n",
    "    position: fixed;\n",
    "    background: linear-gradient(\n",
    "      35deg,\n",
    "      #ccffff,\n",
    "      #ffcccc\n",
    "    );\n",
    "    border-radius: 50%;\n",
    "  }\n",
    "  #ball1 {\n",
    "    left: 20%;\n",
    "  }\n",
    "  #ball2 {\n",
    "    left: 65%;\n",
    "    transform: scale(1.5);\n",
    "  }\n",
    "\n",
    "\n",
    "</style>\n",
    "\n",
    "<div class=\"ball\" id= \"ball1\"></div>\n",
    "<div class=\"ball\" id= \"ball2\"></div>\n",
    "```"
   ]
  },
  {
   "cell_type": "code",
   "execution_count": 118,
   "metadata": {},
   "outputs": [
    {
     "data": {
      "text/html": [
       "\n",
       "        <iframe\n",
       "            width=\"100%\"\n",
       "            height=\"500\"\n",
       "            src=\"./source-solution/03-applied-visual-design/033-use-the-css-transform-scale-property-to-change-the-size-of-an-element.html\"\n",
       "            frameborder=\"0\"\n",
       "            allowfullscreen\n",
       "        ></iframe>\n",
       "        "
      ],
      "text/plain": [
       "<IPython.lib.display.IFrame at 0x17a821edda0>"
      ]
     },
     "execution_count": 118,
     "metadata": {},
     "output_type": "execute_result"
    }
   ],
   "source": [
    "IFrame('./source-solution/03-applied-visual-design/033-use-the-css-transform-scale-property-to-change-the-size-of-an-element.html', '100%', 500)"
   ]
  },
  {
   "cell_type": "markdown",
   "metadata": {},
   "source": [
    "### Use the CSS Transform scale Property to Scale an Element on Hover"
   ]
  },
  {
   "cell_type": "markdown",
   "metadata": {},
   "source": [
    "The `transform` property has a variety of functions that let you scale, move, rotate, skew, etc., your elements. When used with pseudo-classes such as `:hover` that specify a certain state of an element, the `transform` property can easily add interactivity to your elements.\n",
    "\n",
    "Here's an example to scale the paragraph elements to 2.1 times their original size when a user hovers over them:\n",
    "\n",
    "```CSS\n",
    "p:hover {\n",
    "  transform: scale(2.1);\n",
    "}\n",
    "```\n",
    "\n",
    "**Note**: Applying a transform to a `div` element will also affect any child elements contained in the div.\n",
    "\n",
    "---\n",
    "Add a CSS rule for the `hover` state of the `div` and use the `transform` property to scale the `div` element to 1.1 times its original size when a user hovers over it."
   ]
  },
  {
   "cell_type": "markdown",
   "metadata": {},
   "source": [
    "```HTML\n",
    "<style>\n",
    "  div {\n",
    "    width: 70%;\n",
    "    height: 100px;\n",
    "    margin:  50px auto;\n",
    "    background: linear-gradient(\n",
    "      53deg,\n",
    "      #ccfffc,\n",
    "      #ffcccf\n",
    "    );\n",
    "  }\n",
    "\n",
    "  div:hover {\n",
    "    transform: scale(1.1);\n",
    "  }\n",
    "\n",
    "</style>\n",
    "\n",
    "<div></div>\n",
    "```"
   ]
  },
  {
   "cell_type": "code",
   "execution_count": 119,
   "metadata": {},
   "outputs": [
    {
     "data": {
      "text/html": [
       "\n",
       "        <iframe\n",
       "            width=\"100%\"\n",
       "            height=\"500\"\n",
       "            src=\"./source-solution/03-applied-visual-design/034-use-the-css-transform-scale-property-to-scale-an-element-on-hover.html\"\n",
       "            frameborder=\"0\"\n",
       "            allowfullscreen\n",
       "        ></iframe>\n",
       "        "
      ],
      "text/plain": [
       "<IPython.lib.display.IFrame at 0x17a82648898>"
      ]
     },
     "execution_count": 119,
     "metadata": {},
     "output_type": "execute_result"
    }
   ],
   "source": [
    "IFrame('./source-solution/03-applied-visual-design/034-use-the-css-transform-scale-property-to-scale-an-element-on-hover.html', '100%', 500)"
   ]
  },
  {
   "cell_type": "markdown",
   "metadata": {},
   "source": [
    "### Use the CSS Transform Property skewX to Skew an Element Along the X-Axis"
   ]
  },
  {
   "cell_type": "markdown",
   "metadata": {},
   "source": [
    "The next function of the `transform` property is `skewX()`, which skews the selected element along its X (horizontal) axis by a given degree.\n",
    "\n",
    "The following code skews the paragraph element by -32 degrees along the X-axis.\n",
    "\n",
    "```CSS\n",
    "p {\n",
    "  transform: skewX(-32deg);\n",
    "}\n",
    "```\n",
    "\n",
    "--\n",
    "Skew the element with the id of `bottom` by 24 degrees along the X-axis by using the `transform` property."
   ]
  },
  {
   "cell_type": "markdown",
   "metadata": {},
   "source": [
    "```HTML\n",
    "<style>\n",
    "  div {\n",
    "    width: 70%;\n",
    "    height: 100px;\n",
    "    margin:  50px auto;\n",
    "  }\n",
    "  #top {\n",
    "    background-color: red;\n",
    "  }\n",
    "  #bottom {\n",
    "    background-color: blue;\n",
    "    transform: skewX(24deg);\n",
    "  }\n",
    "</style>\n",
    "\n",
    "<div id=\"top\"></div>\n",
    "<div id=\"bottom\"></div>\n",
    "```"
   ]
  },
  {
   "cell_type": "code",
   "execution_count": 120,
   "metadata": {},
   "outputs": [
    {
     "data": {
      "text/html": [
       "\n",
       "        <iframe\n",
       "            width=\"100%\"\n",
       "            height=\"500\"\n",
       "            src=\"./source-solution/03-applied-visual-design/035-use-the-css-transform-property-skewx-to-skew-an-element-along-the-x-axis.html\"\n",
       "            frameborder=\"0\"\n",
       "            allowfullscreen\n",
       "        ></iframe>\n",
       "        "
      ],
      "text/plain": [
       "<IPython.lib.display.IFrame at 0x17a82648390>"
      ]
     },
     "execution_count": 120,
     "metadata": {},
     "output_type": "execute_result"
    }
   ],
   "source": [
    "IFrame('./source-solution/03-applied-visual-design/035-use-the-css-transform-property-skewx-to-skew-an-element-along-the-x-axis.html', '100%', 500)"
   ]
  },
  {
   "cell_type": "markdown",
   "metadata": {},
   "source": [
    "### Use the CSS Transform Property skewY to Skew an Element Along the Y-Axis"
   ]
  },
  {
   "cell_type": "markdown",
   "metadata": {},
   "source": [
    "Given that the `skewX()` function skews the selected element along the X-axis by a given degree, it is no surprise that the `skewY()` property skews an element along the Y (vertical) axis.\n",
    "\n",
    "---\n",
    "Skew the element with the id of `top` -10 degrees along the Y-axis by using the `transform` property."
   ]
  },
  {
   "cell_type": "markdown",
   "metadata": {},
   "source": [
    "```HTML\n",
    "<style>\n",
    "  div {\n",
    "    width: 70%;\n",
    "    height: 100px;\n",
    "    margin: 50px auto;\n",
    "  }\n",
    "  #top {\n",
    "    background-color: red;\n",
    "    transform: skewY(-10deg);\n",
    "  }\n",
    "  #bottom {\n",
    "    background-color: blue;\n",
    "    transform: skewX(24deg);\n",
    "  }\n",
    "</style>\n",
    "\n",
    "<div id=\"top\"></div>\n",
    "<div id=\"bottom\"></div>\n",
    "```"
   ]
  },
  {
   "cell_type": "code",
   "execution_count": 121,
   "metadata": {},
   "outputs": [
    {
     "data": {
      "text/html": [
       "\n",
       "        <iframe\n",
       "            width=\"100%\"\n",
       "            height=\"500\"\n",
       "            src=\"./source-solution/03-applied-visual-design/036-use-the-css-transform-property-skewy-to-skew-an-element-along-the-y-axis.html\"\n",
       "            frameborder=\"0\"\n",
       "            allowfullscreen\n",
       "        ></iframe>\n",
       "        "
      ],
      "text/plain": [
       "<IPython.lib.display.IFrame at 0x17a82648e10>"
      ]
     },
     "execution_count": 121,
     "metadata": {},
     "output_type": "execute_result"
    }
   ],
   "source": [
    "IFrame('./source-solution/03-applied-visual-design/036-use-the-css-transform-property-skewy-to-skew-an-element-along-the-y-axis.html', '100%', 500)"
   ]
  },
  {
   "cell_type": "markdown",
   "metadata": {},
   "source": [
    "### Create a Graphic Using CSS"
   ]
  },
  {
   "cell_type": "markdown",
   "metadata": {},
   "source": [
    "By manipulating different selectors and properties, you can make interesting shapes. One of the easier ones to try is a crescent moon shape. For this challenge you need to work with the `box-shadow` property that sets the shadow of an element, along with the `border-radius` property that controls the roundness of the element's corners.\n",
    "\n",
    "You will create a round, transparent object with a crisp shadow that is slightly offset to the side - the shadow is actually going to be the moon shape you see.\n",
    "\n",
    "In order to create a round object, the `border-radius` property should be set to a value of 50%.\n",
    "\n",
    "You may recall from an earlier challenge that the `box-shadow` property takes values for `offset-x`, `offset-y`, `blur-radius`, `spread-radius` and a color value in that order. The `blur-radius` and `spread-radius` values are optional.\n",
    "\n",
    "---\n",
    "Manipulate the square element in the editor to create the moon shape. First, change the `background-color` to transparent, then set the `border-radius` property to 50% to make the circular shape. Finally, change the `box-shadow` property to set the `offset-x` to 25px, the `offset-y` to 10px, `blur-radius` to 0, `spread-radius` to 0, and color to blue.\n",
    "\n"
   ]
  },
  {
   "cell_type": "markdown",
   "metadata": {},
   "source": [
    "```HTML\n",
    "<style>\n",
    "  .center {\n",
    "    position: absolute;\n",
    "    margin: auto;\n",
    "    top: 0;\n",
    "    right: 0;\n",
    "    bottom: 0;\n",
    "    left: 0;\n",
    "    width: 100px;\n",
    "    height: 100px;\n",
    "    background-color: transparent;\n",
    "    border-radius: 50%;\n",
    "    box-shadow: 25px 10px 0px 0px blue;    \n",
    "  }\n",
    "\n",
    "</style>\n",
    "<div class=\"center\"></div>\n",
    "```"
   ]
  },
  {
   "cell_type": "code",
   "execution_count": 122,
   "metadata": {},
   "outputs": [
    {
     "data": {
      "text/html": [
       "\n",
       "        <iframe\n",
       "            width=\"100%\"\n",
       "            height=\"500\"\n",
       "            src=\"./source-solution/03-applied-visual-design/037-create-a-graphic-using-css.html\"\n",
       "            frameborder=\"0\"\n",
       "            allowfullscreen\n",
       "        ></iframe>\n",
       "        "
      ],
      "text/plain": [
       "<IPython.lib.display.IFrame at 0x17a82651b70>"
      ]
     },
     "execution_count": 122,
     "metadata": {},
     "output_type": "execute_result"
    }
   ],
   "source": [
    "IFrame('./source-solution/03-applied-visual-design/037-create-a-graphic-using-css.html', '100%', 500)"
   ]
  },
  {
   "cell_type": "markdown",
   "metadata": {},
   "source": [
    "### Create a More Complex Shape Using CSS and HTML"
   ]
  },
  {
   "cell_type": "markdown",
   "metadata": {},
   "source": [
    "One of the most popular shapes in the world is the heart shape, and in this challenge you'll create one using pure CSS. But first, you need to understand the `::before` and `::after` pseudo-elements. These pseudo-elements are used to add something before or after a selected element. In the following example, a `::before` pseudo-element is used to add a rectangle to an element with the class `heart`:\n",
    "\n",
    "```CSS\n",
    ".heart::before {\n",
    "  content: \"\";\n",
    "  background-color: yellow;\n",
    "  border-radius: 25%;\n",
    "  position: absolute;\n",
    "  height: 50px;\n",
    "  width: 70px;\n",
    "  top: -50px;\n",
    "  left: 5px;\n",
    "}\n",
    "```\n",
    "\n",
    "For the `::before` and `::after` pseudo-elements to function properly, they must have a defined `content` property. This property is usually used to add things like a photo or text to the selected element. When the `::before` and `::after` pseudo-elements are used to make shapes, the content property is still required, but it's set to an empty string. In the above example, the element with the class of `heart` has a `::before` pseudo-element that produces a yellow rectangle with `height` and `width` of 50px and 70px, respectively. This rectangle has round corners due to its 25% border radius and is positioned absolutely at 5px from the `left` and 50px above the `top` of the element.\n",
    "\n",
    "---\n",
    "Transform the element on the screen to a heart. In the `heart::after` selector, change the `background-color` to pink and the `border-radius` to 50%.\n",
    "\n",
    "Next, target the element with the class `heart` (just `heart`) and fill in the `transform` property. Use the rotate() function with -45 degrees.\n",
    "\n",
    "Finally, in the `heart::before` selector, set its content property to an empty string."
   ]
  },
  {
   "cell_type": "markdown",
   "metadata": {},
   "source": [
    "```HTML\n",
    "<style>\n",
    "  .heart {\n",
    "    position: absolute;\n",
    "    margin: auto;\n",
    "    top: 0;\n",
    "    right: 0;\n",
    "    bottom: 0;\n",
    "    left: 0;\n",
    "    background-color: pink;\n",
    "    height: 50px;\n",
    "    width: 50px;\n",
    "    transform: rotate(-45deg);\n",
    "  }\n",
    "  .heart::after {\n",
    "    background-color: pink;\n",
    "    content: \"\";\n",
    "    border-radius: 50%;\n",
    "    position: absolute;\n",
    "    width: 50px;\n",
    "    height: 50px;\n",
    "    top: 0px;\n",
    "    left: 25px;\n",
    "  }\n",
    "  .heart::before {\n",
    "    content: \"\";\n",
    "    background-color: pink;\n",
    "    border-radius: 50%;\n",
    "    position: absolute;\n",
    "    width: 50px;\n",
    "    height: 50px;\n",
    "    top: -25px;\n",
    "    left: 0px;\n",
    "  }\n",
    "</style>\n",
    "<div class=\"heart\"></div>\n",
    "```"
   ]
  },
  {
   "cell_type": "code",
   "execution_count": 123,
   "metadata": {},
   "outputs": [
    {
     "data": {
      "text/html": [
       "\n",
       "        <iframe\n",
       "            width=\"100%\"\n",
       "            height=\"500\"\n",
       "            src=\"./source-solution/03-applied-visual-design/038-create-a-more-complex-shape-using-css-and-html.html\"\n",
       "            frameborder=\"0\"\n",
       "            allowfullscreen\n",
       "        ></iframe>\n",
       "        "
      ],
      "text/plain": [
       "<IPython.lib.display.IFrame at 0x17a826518d0>"
      ]
     },
     "execution_count": 123,
     "metadata": {},
     "output_type": "execute_result"
    }
   ],
   "source": [
    "IFrame('./source-solution/03-applied-visual-design/038-create-a-more-complex-shape-using-css-and-html.html', '100%', 500)"
   ]
  },
  {
   "cell_type": "markdown",
   "metadata": {},
   "source": [
    "### Learn How the CSS @keyframes and animation Properties Work"
   ]
  },
  {
   "cell_type": "markdown",
   "metadata": {},
   "source": [
    "To animate an element, you need to know about the animation properties and the `@keyframes` rule. The animation properties control how the animation should behave and the `@keyframes` rule controls what happens during that animation. There are eight animation properties in total. This challenge will keep it simple and cover the two most important ones first:\n",
    "\n",
    "`animation-name` sets the name of the animation, which is later used by `@keyframes` to tell CSS which rules go with which animations.\n",
    "\n",
    "`animation-duration` sets the length of time for the animation.\n",
    "\n",
    "`@keyframes` is how to specify exactly what happens within the animation over the duration. This is done by giving CSS properties for specific \"frames\" during the animation, with percentages ranging from 0% to 100%. If you compare this to a movie, the CSS properties for 0% is how the element displays in the opening scene. The CSS properties for 100% is how the element appears at the end, right before the credits roll. Then CSS applies the magic to transition the element over the given duration to act out the scene. Here's an example to illustrate the usage of `@keyframes` and the animation properties:\n",
    "\n",
    "```CSS\n",
    "#anim {\n",
    "  animation-name: colorful;\n",
    "  animation-duration: 3s;\n",
    "}\n",
    "\n",
    "@keyframes colorful {\n",
    "  0% {\n",
    "    background-color: blue;\n",
    "  }\n",
    "  100% {\n",
    "    background-color: yellow;\n",
    "  }\n",
    "}\n",
    "```\n",
    "\n",
    "For the element with the `anim` id, the code snippet above sets the `animation-name` to `colorful` and sets the `animation-duration` to 3 seconds. Then the `@keyframes` rule links to the animation properties with the name `colorful`. It sets the color to blue at the beginning of the animation (0%) which will transition to yellow by the end of the animation (100%). You aren't limited to only beginning-end transitions, you can set properties for the element for any percentage between 0% and 100%.\n",
    "\n",
    "---\n",
    "Create an animation for the element with the id `rect`, by setting the `animation-name` to rainbow and the `animation-duration` to 4 seconds. Next, declare a `@keyframes` rule, and set the `background-color` at the beginning of the animation (`0%`) to blue, the middle of the animation (`50%`) to green, and the end of the animation (`100%`) to yellow.\n",
    "\n"
   ]
  },
  {
   "cell_type": "markdown",
   "metadata": {},
   "source": [
    "```HTML\n",
    "<style>\n",
    "  div {\n",
    "    height: 40px;\n",
    "    width: 70%;\n",
    "    background: black;\n",
    "    margin: 50px auto;\n",
    "    border-radius: 5px;\n",
    "  }\n",
    "\n",
    "  #rect {\n",
    "    animation-name: rainbow;\n",
    "    animation-duration: 4s;\n",
    "  }\n",
    "\n",
    "  @keyframes rainbow{\n",
    "    0%{\n",
    "      background-color: blue;\n",
    "    }\n",
    "    \n",
    "    50%{\n",
    "      background-color: green;\n",
    "    }\n",
    "    \n",
    "    100%{\n",
    "      background-color: yellow;\n",
    "    }    \n",
    "  }\n",
    "\n",
    "\n",
    "\n",
    "</style>\n",
    "<div id=\"rect\"></div>\n",
    "```"
   ]
  },
  {
   "cell_type": "code",
   "execution_count": 124,
   "metadata": {},
   "outputs": [
    {
     "data": {
      "text/html": [
       "\n",
       "        <iframe\n",
       "            width=\"100%\"\n",
       "            height=\"500\"\n",
       "            src=\"./source-solution/03-applied-visual-design/039-learn-how-the-css-keyframes-and-animation-properties-work.html\"\n",
       "            frameborder=\"0\"\n",
       "            allowfullscreen\n",
       "        ></iframe>\n",
       "        "
      ],
      "text/plain": [
       "<IPython.lib.display.IFrame at 0x17a82651e10>"
      ]
     },
     "execution_count": 124,
     "metadata": {},
     "output_type": "execute_result"
    }
   ],
   "source": [
    "IFrame('./source-solution/03-applied-visual-design/039-learn-how-the-css-keyframes-and-animation-properties-work.html', '100%', 500)"
   ]
  },
  {
   "cell_type": "markdown",
   "metadata": {},
   "source": [
    "### Use CSS Animation to Change the Hover State of a Button"
   ]
  },
  {
   "cell_type": "markdown",
   "metadata": {},
   "source": [
    "You can use CSS `@keyframes` to change the color of a button in its hover state.\n",
    "\n",
    "Here's an example of changing the width of an image on hover:\n",
    "\n",
    "```HTML\n",
    "<style>\n",
    "  img:hover {\n",
    "    animation-name: width;\n",
    "    animation-duration: 500ms;\n",
    "  }\n",
    "\n",
    "  @keyframes width {\n",
    "    100% {\n",
    "      width: 40px;\n",
    "    }\n",
    "  }\n",
    "</style>\n",
    "\n",
    "<img src=\"https://bit.ly/smallgooglelogo\" alt=\"Google's Logo\" />\n",
    "```\n",
    "\n",
    "Note that `ms` stands for milliseconds, where 1000ms is equal to 1s.\n",
    "\n",
    "---\n",
    "Use CSS `@keyframes` to change the `background-color` of the button element so it becomes `#4791d0` when a user hovers over it. The `@keyframes` rule should only have an entry for `100%`."
   ]
  },
  {
   "cell_type": "markdown",
   "metadata": {},
   "source": [
    "```HTML\n",
    "<style>\n",
    "  button {\n",
    "    border-radius: 5px;\n",
    "    color: white;\n",
    "    background-color: #0F5897;\n",
    "    padding: 5px 10px 8px 10px;\n",
    "  }\n",
    "\n",
    "  button:hover {\n",
    "    animation-name: background-color;\n",
    "    animation-duration: 500ms;\n",
    "  }\n",
    "\n",
    "  @keyframes background-color{\n",
    "    100%{\n",
    "      background-color: #4791d0;\n",
    "    }    \n",
    "  }\n",
    "\n",
    "</style>\n",
    "\n",
    "<button>Register</button>\n",
    "```"
   ]
  },
  {
   "cell_type": "code",
   "execution_count": 125,
   "metadata": {},
   "outputs": [
    {
     "data": {
      "text/html": [
       "\n",
       "        <iframe\n",
       "            width=\"100%\"\n",
       "            height=\"500\"\n",
       "            src=\"./source-solution/03-applied-visual-design/040-use-css-animation-to-change-the-hover-state-of-a-button.html\"\n",
       "            frameborder=\"0\"\n",
       "            allowfullscreen\n",
       "        ></iframe>\n",
       "        "
      ],
      "text/plain": [
       "<IPython.lib.display.IFrame at 0x17a8265b630>"
      ]
     },
     "execution_count": 125,
     "metadata": {},
     "output_type": "execute_result"
    }
   ],
   "source": [
    "IFrame('./source-solution/03-applied-visual-design/040-use-css-animation-to-change-the-hover-state-of-a-button.html', '100%', 500)"
   ]
  },
  {
   "cell_type": "markdown",
   "metadata": {},
   "source": [
    "### Modify Fill Mode of an Animation"
   ]
  },
  {
   "cell_type": "markdown",
   "metadata": {},
   "source": [
    "That's great, but it doesn't work right yet. Notice how the animation resets after `500ms` has passed, causing the button to revert back to the original color. You want the button to stay highlighted.\n",
    "\n",
    "This can be done by setting the `animation-fill-mode` property to `forwards`. The `animation-fill-mode` specifies the style applied to an element when the animation has finished. You can set it like so:\n",
    "\n",
    "`animation-fill-mode: forwards;`\n",
    "\n",
    "---\n",
    "Set the `animation-fill-mode` property of `button:hover` to `forwards` so the button stays highlighted when a user hovers over it."
   ]
  },
  {
   "cell_type": "markdown",
   "metadata": {},
   "source": [
    "```HTML\n",
    "<style>\n",
    "  button {\n",
    "    border-radius: 5px;\n",
    "    color: white;\n",
    "    background-color: #0F5897;\n",
    "    padding: 5px 10px 8px 10px;\n",
    "  }\n",
    "  button:hover {\n",
    "    animation-name: background-color;\n",
    "    animation-duration: 500ms;\n",
    "    /* add your code below this line */\n",
    "    animation-fill-mode: forwards;\n",
    "    /* add your code above this line */\n",
    "  }\n",
    "  @keyframes background-color {\n",
    "    100% {\n",
    "      background-color: #4791d0;\n",
    "    }\n",
    "  }\n",
    "</style>\n",
    "<button>Register</button>\n",
    "```"
   ]
  },
  {
   "cell_type": "code",
   "execution_count": 126,
   "metadata": {},
   "outputs": [
    {
     "data": {
      "text/html": [
       "\n",
       "        <iframe\n",
       "            width=\"100%\"\n",
       "            height=\"500\"\n",
       "            src=\"./source-solution/03-applied-visual-design/041-modify-fill-mode-of-an-animation.html\"\n",
       "            frameborder=\"0\"\n",
       "            allowfullscreen\n",
       "        ></iframe>\n",
       "        "
      ],
      "text/plain": [
       "<IPython.lib.display.IFrame at 0x17a8265b5f8>"
      ]
     },
     "execution_count": 126,
     "metadata": {},
     "output_type": "execute_result"
    }
   ],
   "source": [
    "IFrame('./source-solution/03-applied-visual-design/041-modify-fill-mode-of-an-animation.html', '100%', 500)"
   ]
  },
  {
   "cell_type": "markdown",
   "metadata": {},
   "source": [
    "### Create Movement Using CSS Animation"
   ]
  },
  {
   "cell_type": "markdown",
   "metadata": {},
   "source": [
    "When elements have a specified `position`, such as `fixed` or `relative`, the CSS offset properties `right`, `left`, `top`, and `bottom` can be used in animation rules to create movement.\n",
    "\n",
    "As shown in the example below, you can push the item downwards then upwards by setting the `top` property of the `50%` keyframe to 50px, but having it set to 0px for the first (`0%`) and the last (`100%`) keyframe.\n",
    "\n",
    "```CSS\n",
    "@keyframes rainbow {\n",
    "  0% {\n",
    "    background-color: blue;\n",
    "    top: 0px;\n",
    "  }\n",
    "  50% {\n",
    "    background-color: green;\n",
    "    top: 50px;\n",
    "  }\n",
    "  100% {\n",
    "    background-color: yellow;\n",
    "    top: 0px;\n",
    "  }\n",
    "}\n",
    "```\n",
    "\n",
    "---\n",
    "Add a horizontal motion to the `div` animation. Using the `left` offset property, add to the `@keyframes` rule so rainbow starts at 0 pixels at `0%`, moves to 25 pixels at `50%`, and ends at -25 pixels at `100%`. Don't replace the `top` property in the editor - the animation should have both vertical and horizontal motion."
   ]
  },
  {
   "cell_type": "markdown",
   "metadata": {},
   "source": [
    "```HTML\n",
    "<style>\n",
    "  div {\n",
    "    height: 40px;\n",
    "    width: 70%;\n",
    "    background: black;\n",
    "    margin: 50px auto;\n",
    "    border-radius: 5px;\n",
    "    position: relative;\n",
    "  }\n",
    "\n",
    "  #rect {\n",
    "    animation-name: rainbow;\n",
    "    animation-duration: 4s;\n",
    "  }\n",
    "\n",
    "  @keyframes rainbow {\n",
    "    0% {\n",
    "      background-color: blue;\n",
    "      top: 0px;\n",
    "      left: 0px;\n",
    "    }\n",
    "    50% {\n",
    "      background-color: green;\n",
    "      top: 50px;\n",
    "      left: 25px;\n",
    "    }\n",
    "    100% {\n",
    "      background-color: yellow;\n",
    "      top: 0px;\n",
    "      left: -25px;\n",
    "    }\n",
    "  }\n",
    "</style>\n",
    "\n",
    "<div id=\"rect\"></div>\n",
    "```"
   ]
  },
  {
   "cell_type": "code",
   "execution_count": 127,
   "metadata": {},
   "outputs": [
    {
     "data": {
      "text/html": [
       "\n",
       "        <iframe\n",
       "            width=\"100%\"\n",
       "            height=\"500\"\n",
       "            src=\"./source-solution/03-applied-visual-design/042-create-movement-using-css-animation.html\"\n",
       "            frameborder=\"0\"\n",
       "            allowfullscreen\n",
       "        ></iframe>\n",
       "        "
      ],
      "text/plain": [
       "<IPython.lib.display.IFrame at 0x17a8265be10>"
      ]
     },
     "execution_count": 127,
     "metadata": {},
     "output_type": "execute_result"
    }
   ],
   "source": [
    "IFrame('./source-solution/03-applied-visual-design/042-create-movement-using-css-animation.html', '100%', 500)"
   ]
  },
  {
   "cell_type": "markdown",
   "metadata": {},
   "source": [
    "### Create Visual Direction by Fading an Element from Left to Right"
   ]
  },
  {
   "cell_type": "markdown",
   "metadata": {},
   "source": [
    "For this challenge, you'll change the `opacity` of an animated element so it gradually fades as it reaches the right side of the screen.\n",
    "\n",
    "In the displayed animation, the round element with the gradient background moves to the right by the 50% mark of the animation per the `@keyframes` rule.\n",
    "\n",
    "---\n",
    "Target the element with the id of `ball` and add the `opacity` property set to 0.1 at `50%`, so the element fades as it moves to the right."
   ]
  },
  {
   "cell_type": "markdown",
   "metadata": {},
   "source": [
    "```HTML\n",
    "<style>\n",
    "  #ball {\n",
    "    width: 70px;\n",
    "    height: 70px;\n",
    "    margin: 50px auto;\n",
    "    position: fixed;\n",
    "    left: 20%;\n",
    "    border-radius: 50%;\n",
    "    background: linear-gradient(\n",
    "      35deg,\n",
    "      #ccffff,\n",
    "      #ffcccc\n",
    "    );\n",
    "    animation-name: fade;\n",
    "    animation-duration: 3s;\n",
    "  }\n",
    "\n",
    "  @keyframes fade {\n",
    "    50% {\n",
    "      left: 60%;\n",
    "      opacity: 0.1;\n",
    "    }\n",
    "  }\n",
    "</style>\n",
    "\n",
    "<div id=\"ball\"></div>\n",
    "```"
   ]
  },
  {
   "cell_type": "code",
   "execution_count": 128,
   "metadata": {},
   "outputs": [
    {
     "data": {
      "text/html": [
       "\n",
       "        <iframe\n",
       "            width=\"100%\"\n",
       "            height=\"500\"\n",
       "            src=\"./source-solution/03-applied-visual-design/043-create-visual-direction-by-fading-an-element-from-left-to-right.html\"\n",
       "            frameborder=\"0\"\n",
       "            allowfullscreen\n",
       "        ></iframe>\n",
       "        "
      ],
      "text/plain": [
       "<IPython.lib.display.IFrame at 0x17a8265fb70>"
      ]
     },
     "execution_count": 128,
     "metadata": {},
     "output_type": "execute_result"
    }
   ],
   "source": [
    "IFrame('./source-solution/03-applied-visual-design/043-create-visual-direction-by-fading-an-element-from-left-to-right.html', '100%', 500)"
   ]
  },
  {
   "cell_type": "markdown",
   "metadata": {},
   "source": [
    "### Animate Elements Continually Using an Infinite Animation Count"
   ]
  },
  {
   "cell_type": "markdown",
   "metadata": {},
   "source": [
    "The previous challenges covered how to use some of the animation properties and the `@keyframes` rule. Another animation property is the `animation-iteration-count`, which allows you to control how many times you would like to loop through the animation. Here's an example:\n",
    "\n",
    "`animation-iteration-count: 3;`\n",
    "\n",
    "In this case the animation will stop after running 3 times, but it's possible to make the animation run continuously by setting that value to infinite.\n",
    "\n",
    "---\n",
    "To keep the ball bouncing on the right on a continuous loop, change the `animation-iteration-count` property to `infinite`."
   ]
  },
  {
   "cell_type": "markdown",
   "metadata": {},
   "source": [
    "```HTML\n",
    "<style>\n",
    "  #ball {\n",
    "    width: 100px;\n",
    "    height: 100px;\n",
    "    margin: 50px auto;\n",
    "    position: relative;\n",
    "    border-radius: 50%;\n",
    "    background: linear-gradient(\n",
    "      35deg,\n",
    "      #ccffff,\n",
    "      #ffcccc\n",
    "    );\n",
    "    animation-name: bounce;\n",
    "    animation-duration: 1s;\n",
    "    animation-iteration-count: infinite;\n",
    "  }\n",
    "\n",
    "  @keyframes bounce{\n",
    "    0% {\n",
    "      top: 0px;\n",
    "    }\n",
    "    50% {\n",
    "      top: 249px;\n",
    "      width: 130px;\n",
    "      height: 70px;\n",
    "    }\n",
    "    100% {\n",
    "      top: 0px;\n",
    "    }\n",
    "  }\n",
    "</style>\n",
    "<div id=\"ball\"></div>\n",
    "```"
   ]
  },
  {
   "cell_type": "code",
   "execution_count": 129,
   "metadata": {},
   "outputs": [
    {
     "data": {
      "text/html": [
       "\n",
       "        <iframe\n",
       "            width=\"100%\"\n",
       "            height=\"500\"\n",
       "            src=\"./source-solution/03-applied-visual-design/044-animate-elements-continually-using-an-infinite-animation-count.html\"\n",
       "            frameborder=\"0\"\n",
       "            allowfullscreen\n",
       "        ></iframe>\n",
       "        "
      ],
      "text/plain": [
       "<IPython.lib.display.IFrame at 0x17a8265f8d0>"
      ]
     },
     "execution_count": 129,
     "metadata": {},
     "output_type": "execute_result"
    }
   ],
   "source": [
    "IFrame('./source-solution/03-applied-visual-design/044-animate-elements-continually-using-an-infinite-animation-count.html', '100%', 500)"
   ]
  },
  {
   "cell_type": "markdown",
   "metadata": {},
   "source": [
    "### Make a CSS Heartbeat using an Infinite Animation Count"
   ]
  },
  {
   "cell_type": "markdown",
   "metadata": {},
   "source": [
    "Here's one more continuous animation example with the `animation-iteration-count` property that uses the heart you designed in a previous challenge.\n",
    "\n",
    "The one-second long heartbeat animation consists of two animated pieces. The `heart` elements (including the `:before` and `:after` pieces) are animated to change size using the `transform` property, and the background `div` is animated to change its color using the `background` property.\n",
    "\n",
    "---\n",
    "Keep the heart beating by adding the `animation-iteration-count` property for both the `back` class and the `heart` class and setting the value to infinite. The `heart:before` and `heart:after` selectors do not need any animation properties."
   ]
  },
  {
   "cell_type": "markdown",
   "metadata": {},
   "source": [
    "```HTML\n",
    "<style>\n",
    "  .back {\n",
    "    position: fixed;\n",
    "    padding: 0;\n",
    "    margin: 0;\n",
    "    top: 0;\n",
    "    left: 0;\n",
    "    width: 100%;\n",
    "    height: 100%;\n",
    "    background: white;\n",
    "    animation-name: backdiv;\n",
    "    animation-duration: 1s;\n",
    "    animation-iteration-count: infinite;\n",
    "  }\n",
    "\n",
    "  .heart {\n",
    "    position: absolute;\n",
    "    margin: auto;\n",
    "    top: 0;\n",
    "    right: 0;\n",
    "    bottom: 0;\n",
    "    left: 0;\n",
    "    background-color: pink;\n",
    "    height: 50px;\n",
    "    width: 50px;\n",
    "    transform: rotate(-45deg);\n",
    "    animation-name: beat;\n",
    "    animation-duration: 1s;\n",
    "    animation-iteration-count: infinite;\n",
    "  }\n",
    "  .heart:after {\n",
    "    background-color: pink;\n",
    "    content: \"\";\n",
    "    border-radius: 50%;\n",
    "    position: absolute;\n",
    "    width: 50px;\n",
    "    height: 50px;\n",
    "    top: 0px;\n",
    "    left: 25px;\n",
    "  }\n",
    "  .heart:before {\n",
    "    background-color: pink;\n",
    "    content: \"\";\n",
    "    border-radius: 50%;\n",
    "    position: absolute;\n",
    "    width: 50px;\n",
    "    height: 50px;\n",
    "    top: -25px;\n",
    "    left: 0px;\n",
    "  }\n",
    "\n",
    "  @keyframes backdiv {\n",
    "    50% {\n",
    "      background: #ffe6f2;\n",
    "    }\n",
    "  }\n",
    "\n",
    "  @keyframes beat {\n",
    "    0% {\n",
    "      transform: scale(1) rotate(-45deg);\n",
    "    }\n",
    "    50% {\n",
    "      transform: scale(0.6) rotate(-45deg);\n",
    "    }\n",
    "  }\n",
    "\n",
    "</style>\n",
    "<div class=\"back\"></div>\n",
    "<div class=\"heart\"></div>\n",
    "```"
   ]
  },
  {
   "cell_type": "code",
   "execution_count": 130,
   "metadata": {},
   "outputs": [
    {
     "data": {
      "text/html": [
       "\n",
       "        <iframe\n",
       "            width=\"100%\"\n",
       "            height=\"500\"\n",
       "            src=\"./source-solution/03-applied-visual-design/045-make-a-css-heartbeat-using-an-infinite-animation-count.html\"\n",
       "            frameborder=\"0\"\n",
       "            allowfullscreen\n",
       "        ></iframe>\n",
       "        "
      ],
      "text/plain": [
       "<IPython.lib.display.IFrame at 0x17a8265fe10>"
      ]
     },
     "execution_count": 130,
     "metadata": {},
     "output_type": "execute_result"
    }
   ],
   "source": [
    "IFrame('./source-solution/03-applied-visual-design/045-make-a-css-heartbeat-using-an-infinite-animation-count.html', '100%', 500)"
   ]
  },
  {
   "cell_type": "markdown",
   "metadata": {},
   "source": [
    "### Animate Elements at Variable Rates"
   ]
  },
  {
   "cell_type": "markdown",
   "metadata": {},
   "source": [
    "There are a variety of ways to alter the animation rates of similarly animated elements. So far, this has been achieved by applying an `animation-iteration-count` property and setting `@keyframes rules`.\n",
    "\n",
    "To illustrate, the animation on the right consists of two \"stars\" that each decrease in size and opacity at the 20% mark in the `@keyframes` rule, which creates the twinkle animation. You can change the `@keyframes` rule for one of the elements so the stars twinkle at different rates.\n",
    "\n",
    "---\n",
    "Alter the animation rate for the element with the class name of `star-1` by changing its `@keyframes` rule to 50%."
   ]
  },
  {
   "cell_type": "markdown",
   "metadata": {},
   "source": [
    "```HTML\n",
    "<style>\n",
    "  .stars {\n",
    "    background-color: white;\n",
    "    height: 30px;\n",
    "    width: 30px;\n",
    "    border-radius: 50%;\n",
    "    animation-iteration-count: infinite;\n",
    "  }\n",
    "\n",
    "  .star-1 {\n",
    "    margin-top: 15%;\n",
    "    margin-left: 60%;\n",
    "    animation-name: twinkle-1;\n",
    "    animation-duration: 1s;\n",
    "  }\n",
    "\n",
    "  .star-2 {\n",
    "    margin-top: 25%;\n",
    "    margin-left: 25%;\n",
    "    animation-name: twinkle-2;\n",
    "    animation-duration: 1s;\n",
    "  }\n",
    "\n",
    "  @keyframes twinkle-1 {\n",
    "    50% {\n",
    "      transform: scale(0.5);\n",
    "      opacity: 0.5;\n",
    "    }\n",
    "  }\n",
    "\n",
    "  @keyframes twinkle-2 {\n",
    "    20% {\n",
    "      transform: scale(0.5);\n",
    "      opacity: 0.5;\n",
    "    }\n",
    "  }\n",
    "\n",
    "  #back {\n",
    "    position: fixed;\n",
    "    padding: 0;\n",
    "    margin: 0;\n",
    "    top: 0;\n",
    "    left: 0;\n",
    "    width: 100%;\n",
    "    height: 100%;\n",
    "    background: linear-gradient(black, #000099, #66c2ff, #ffcccc, #ffeee6);\n",
    "  }\n",
    "</style>\n",
    "\n",
    "<div id=\"back\"></div>\n",
    "<div class=\"star-1 stars\"></div>\n",
    "<div class=\"star-2 stars\"></div>\n",
    "```"
   ]
  },
  {
   "cell_type": "code",
   "execution_count": 131,
   "metadata": {},
   "outputs": [
    {
     "data": {
      "text/html": [
       "\n",
       "        <iframe\n",
       "            width=\"100%\"\n",
       "            height=\"500\"\n",
       "            src=\"./source-solution/03-applied-visual-design/046-animate-elements-at-variable-rates.html\"\n",
       "            frameborder=\"0\"\n",
       "            allowfullscreen\n",
       "        ></iframe>\n",
       "        "
      ],
      "text/plain": [
       "<IPython.lib.display.IFrame at 0x17a826273c8>"
      ]
     },
     "execution_count": 131,
     "metadata": {},
     "output_type": "execute_result"
    }
   ],
   "source": [
    "IFrame('./source-solution/03-applied-visual-design/046-animate-elements-at-variable-rates.html', '100%', 500)"
   ]
  },
  {
   "cell_type": "markdown",
   "metadata": {},
   "source": [
    "### Animate Multiple Elements at Variable Rates"
   ]
  },
  {
   "cell_type": "markdown",
   "metadata": {},
   "source": [
    "In the previous challenge, you changed the animation rates for two similarly animated elements by altering their `@keyframes` rules. You can achieve the same goal by manipulating the `animation-duration` of multiple elements.\n",
    "\n",
    "In the animation running in the code editor, there are three \"stars\" in the sky that twinkle at the same rate on a continuous loop. To make them twinkle at different rates, you can set the `animation-duration` property to different values for each element.\n",
    "\n",
    "---\n",
    "Set the `animation-duration` of the elements with the classes `star-1`, `star-2`, and `star-3` to 1s, 0.9s, and 1.1s, respectively."
   ]
  },
  {
   "cell_type": "markdown",
   "metadata": {},
   "source": [
    "```HTML\n",
    "<style>\n",
    "  .stars {\n",
    "    background-color: white;\n",
    "    height: 30px;\n",
    "    width: 30px;\n",
    "    border-radius: 50%;\n",
    "    animation-iteration-count: infinite;\n",
    "  }\n",
    "\n",
    "  .star-1 {\n",
    "    margin-top: 15%;\n",
    "    margin-left: 60%;\n",
    "    animation-duration: 1s;\n",
    "    animation-name: twinkle;\n",
    "  }\n",
    "\n",
    "  .star-2 {\n",
    "    margin-top: 25%;\n",
    "    margin-left: 25%;\n",
    "    animation-duration: 0.9s;\n",
    "    animation-name: twinkle;\n",
    "  }\n",
    "\n",
    "  .star-3 {\n",
    "    margin-top: 10%;\n",
    "    margin-left: 50%;\n",
    "    animation-duration: 1.1s;\n",
    "    animation-name: twinkle;\n",
    "  }\n",
    "\n",
    "  @keyframes twinkle {\n",
    "    20% {\n",
    "      transform: scale(0.5);\n",
    "      opacity: 0.5;\n",
    "    }\n",
    "  }\n",
    "\n",
    "  #back {\n",
    "    position: fixed;\n",
    "    padding: 0;\n",
    "    margin: 0;\n",
    "    top: 0;\n",
    "    left: 0;\n",
    "    width: 100%;\n",
    "    height: 100%;\n",
    "    background: linear-gradient(black, #000099, #66c2ff, #ffcccc, #ffeee6);\n",
    "  }\n",
    "</style>\n",
    "\n",
    "<div id=\"back\"></div>\n",
    "<div class=\"star-1 stars\"></div>\n",
    "<div class=\"star-2 stars\"></div>\n",
    "<div class=\"star-3 stars\"></div>\n",
    "```"
   ]
  },
  {
   "cell_type": "code",
   "execution_count": 132,
   "metadata": {},
   "outputs": [
    {
     "data": {
      "text/html": [
       "\n",
       "        <iframe\n",
       "            width=\"100%\"\n",
       "            height=\"500\"\n",
       "            src=\"./source-solution/03-applied-visual-design/047-animate-multiple-elements-at-variable-rates.html\"\n",
       "            frameborder=\"0\"\n",
       "            allowfullscreen\n",
       "        ></iframe>\n",
       "        "
      ],
      "text/plain": [
       "<IPython.lib.display.IFrame at 0x17a826270b8>"
      ]
     },
     "execution_count": 132,
     "metadata": {},
     "output_type": "execute_result"
    }
   ],
   "source": [
    "IFrame('./source-solution/03-applied-visual-design/047-animate-multiple-elements-at-variable-rates.html', '100%', 500)"
   ]
  },
  {
   "cell_type": "markdown",
   "metadata": {},
   "source": [
    "### Change Animation Timing with Keywords"
   ]
  },
  {
   "cell_type": "markdown",
   "metadata": {},
   "source": [
    "In CSS animations, the `animation-timing-function` property controls how quickly an animated element changes over the duration of the animation. If the animation is a car moving from point A to point B in a given time (your `animation-duration`), the `animation-timing-function` says how the car accelerates and decelerates over the course of the drive.\n",
    "\n",
    "There are a number of predefined keywords available for popular options. For example, the default value is `ease`, which starts slow, speeds up in the middle, and then slows down again in the end. Other options include `ease-out`, which is quick in the beginning then slows down, `ease-in`, which is slow in the beginning, then speeds up at the end, or `linear`, which applies a constant animation speed throughout.\n",
    "\n",
    "---\n",
    "For the elements with id of `ball1` and `ball2`, add an `animation-timing-function` property to each, and set `#ball1` to `linear`, and `#ball2` to `ease-out`. Notice the difference between how the elements move during the animation but end together, since they share the same `animation-duration` of 2 seconds."
   ]
  },
  {
   "cell_type": "markdown",
   "metadata": {},
   "source": [
    "```HTML\n",
    "<style>\n",
    "  .balls {\n",
    "    border-radius: 50%;\n",
    "    background: linear-gradient(\n",
    "      35deg,\n",
    "      #ccffff,\n",
    "      #ffcccc\n",
    "    );\n",
    "    position: fixed;\n",
    "    width: 50px;\n",
    "    height: 50px;\n",
    "    margin-top: 50px;\n",
    "    animation-name: bounce;\n",
    "    animation-duration: 2s;\n",
    "    animation-iteration-count: infinite;\n",
    "  }\n",
    "  #ball1 {\n",
    "    left:27%;\n",
    "    animation-timing-function: linear;\n",
    "  }\n",
    "  #ball2 {\n",
    "    left:56%;\n",
    "    animation-timing-function: ease-out;\n",
    "  }\n",
    "\n",
    "  @keyframes bounce {\n",
    "    0% {\n",
    "      top: 0px;\n",
    "    }\n",
    "    100% {\n",
    "      top: 249px;\n",
    "    }\n",
    "  }\n",
    "</style>\n",
    "\n",
    "<div class=\"balls\" id=\"ball1\"></div>\n",
    "<div class=\"balls\" id=\"ball2\"></div>\n",
    "```"
   ]
  },
  {
   "cell_type": "code",
   "execution_count": 133,
   "metadata": {},
   "outputs": [
    {
     "data": {
      "text/html": [
       "\n",
       "        <iframe\n",
       "            width=\"100%\"\n",
       "            height=\"500\"\n",
       "            src=\"./source-solution/03-applied-visual-design/048-change-animation-timing-with-keywords.html\"\n",
       "            frameborder=\"0\"\n",
       "            allowfullscreen\n",
       "        ></iframe>\n",
       "        "
      ],
      "text/plain": [
       "<IPython.lib.display.IFrame at 0x17a82627400>"
      ]
     },
     "execution_count": 133,
     "metadata": {},
     "output_type": "execute_result"
    }
   ],
   "source": [
    "IFrame('./source-solution/03-applied-visual-design/048-change-animation-timing-with-keywords.html', '100%', 500)"
   ]
  },
  {
   "cell_type": "markdown",
   "metadata": {},
   "source": [
    "### Learn How Bezier Curves Work"
   ]
  },
  {
   "cell_type": "markdown",
   "metadata": {},
   "source": [
    "The last challenge introduced the `animation-timing-function` property and a few keywords that change the speed of an animation over its duration. CSS offers an option other than keywords that provides even finer control over how the animation plays out, through the use of Bezier curves.\n",
    "\n",
    "In CSS animations, Bezier curves are used with the `cubic-bezier` function. The shape of the curve represents how the animation plays out. The curve lives on a 1 by 1 coordinate system. The X-axis of this coordinate system is the duration of the animation (think of it as a time scale), and the Y-axis is the change in the animation.\n",
    "\n",
    "The `cubic-bezier` function consists of four main points that sit on this 1 by 1 grid: `p0`, `p1`, `p2`, and `p3`. `p0` and `p3` are set for you - they are the beginning and end points which are always located respectively at the origin (0, 0) and (1, 1). You set the x and y values for the other two points, and where you place them in the grid dictates the shape of the curve for the animation to follow. This is done in CSS by declaring the x and y values of the `p1` and `p2` \"anchor\" points in the form: (`x1`, `y1`, `x2`, `y2`). Pulling it all together, here's an example of a Bezier curve in CSS code:\n",
    "\n",
    "`animation-timing-function: cubic-bezier(0.25, 0.25, 0.75, 0.75);`\n",
    "\n",
    "In the example above, the x and y values are equivalent for each point (x1 = 0.25 = y1 and x2 = 0.75 = y2), which if you remember from geometry class, results in a line that extends from the origin to point (1, 1). This animation is a linear change of an element during the length of an animation, and is the same as using the `linear` keyword. In other words, it changes at a constant speed.\n",
    "\n",
    "---\n",
    "For the element with the id of `ball1`, change the value of the `animation-timing-function` property from `linear` to its equivalent `cubic-bezier` function value. Use the point values given in the example above."
   ]
  },
  {
   "cell_type": "markdown",
   "metadata": {},
   "source": [
    "```HTML\n",
    "<style>\n",
    "  .balls{\n",
    "    border-radius: 50%;\n",
    "    background: linear-gradient(\n",
    "      35deg,\n",
    "      #ccffff,\n",
    "      #ffcccc\n",
    "    );\n",
    "    position: fixed;\n",
    "    width: 50px;\n",
    "    height: 50px;\n",
    "    margin-top: 50px;\n",
    "    animation-name: bounce;\n",
    "    animation-duration: 2s;\n",
    "    animation-iteration-count: infinite;\n",
    "  }\n",
    "  #ball1 {\n",
    "    left: 27%;\n",
    "    animation-timing-function: cubic-bezier(0.25, 0.25, 0.75, 0.75);\n",
    "  }\n",
    "  #ball2 {\n",
    "    left: 56%;\n",
    "    animation-timing-function: ease-out;\n",
    "  }\n",
    "\n",
    "  @keyframes bounce {\n",
    "    0% {\n",
    "      top: 0px;\n",
    "    }\n",
    "    100% {\n",
    "      top: 249px;\n",
    "    }\n",
    "  }\n",
    "</style>\n",
    "\n",
    "<div class=\"balls\" id=\"ball1\"></div>\n",
    "<div class=\"balls\" id=\"ball2\"></div>\n",
    "```"
   ]
  },
  {
   "cell_type": "code",
   "execution_count": 134,
   "metadata": {},
   "outputs": [
    {
     "data": {
      "text/html": [
       "\n",
       "        <iframe\n",
       "            width=\"100%\"\n",
       "            height=\"500\"\n",
       "            src=\"./source-solution/03-applied-visual-design/049-learn-how-bezier-curves-work.html\"\n",
       "            frameborder=\"0\"\n",
       "            allowfullscreen\n",
       "        ></iframe>\n",
       "        "
      ],
      "text/plain": [
       "<IPython.lib.display.IFrame at 0x17a826272b0>"
      ]
     },
     "execution_count": 134,
     "metadata": {},
     "output_type": "execute_result"
    }
   ],
   "source": [
    "IFrame('./source-solution/03-applied-visual-design/049-learn-how-bezier-curves-work.html', '100%', 500)"
   ]
  },
  {
   "cell_type": "markdown",
   "metadata": {},
   "source": [
    "### Use a Bezier Curve to Move a Graphic"
   ]
  },
  {
   "cell_type": "markdown",
   "metadata": {},
   "source": [
    "A previous challenge discussed the `ease-out` keyword that describes an animation change that speeds up first and then slows down at the end of the animation. On the right, the difference between the `ease-out` keyword (for the blue element) and `linear` keyword (for the red element) is demonstrated. Similar animation progressions to the `ease-out` keyword can be achieved by using a custom cubic Bezier curve function.\n",
    "\n",
    "In general, changing the `p1` and `p2` anchor points drives the creation of different Bezier curves, which controls how the animation progresses through time. Here's an example of a Bezier curve using values to mimic the ease-out style:\n",
    "\n",
    "`animation-timing-function: cubic-bezier(0, 0, 0.58, 1);`\n",
    "\n",
    "Remember that all `cubic-bezier` functions start with `p0` at (0, 0) and end with `p3` at (1, 1). In this example, the curve moves faster through the Y-axis (starts at 0, goes to `p1` y value of 0, then goes to `p2` y value of 1) than it moves through the X-axis (0 to start, then 0 for `p1`, up to 0.58 for `p2`). As a result, the change in the animated element progresses faster than the time of the animation for that segment. Towards the end of the curve, the relationship between the change in x and y values reverses - the y value moves from 1 to 1 (no change), and the x values move from 0.58 to 1, making the animation changes progress slower compared to the animation duration.\n",
    "\n",
    "---\n",
    "To see the effect of this Bezier curve in action, change the `animation-timing-function` of the element with id of `red` to a `cubic-bezier` function with x1, y1, x2, y2 values set respectively to 0, 0, 0.58, 1. This will make both elements progress through the animation similarly."
   ]
  },
  {
   "cell_type": "markdown",
   "metadata": {},
   "source": [
    "```HTML\n",
    "<style>\n",
    "  .balls{\n",
    "    border-radius: 50%;\n",
    "    position: fixed;\n",
    "    width: 50px;\n",
    "    height: 50px;\n",
    "    margin-top: 50px;\n",
    "    animation-name: bounce;\n",
    "    animation-duration: 2s;\n",
    "    animation-iteration-count: infinite;\n",
    "  }\n",
    "  #red {\n",
    "    background: red;\n",
    "    left: 27%;\n",
    "    animation-timing-function: cubic-bezier(0, 0, 0.58, 1);\n",
    "  }\n",
    "  #blue {\n",
    "    background: blue;\n",
    "    left: 56%;\n",
    "    animation-timing-function: ease-out;\n",
    "  }\n",
    "  @keyframes bounce {\n",
    "    0% {\n",
    "      top: 0px;\n",
    "    }\n",
    "    100% {\n",
    "      top: 249px;\n",
    "    }\n",
    "  }\n",
    "</style>\n",
    "<div class=\"balls\" id= \"red\"></div>\n",
    "<div class=\"balls\" id= \"blue\"></div>\n",
    "```"
   ]
  },
  {
   "cell_type": "code",
   "execution_count": 135,
   "metadata": {},
   "outputs": [
    {
     "data": {
      "text/html": [
       "\n",
       "        <iframe\n",
       "            width=\"100%\"\n",
       "            height=\"500\"\n",
       "            src=\"./source-solution/03-applied-visual-design/050-use-a-bezier-curve-to-move-a-graphic.html\"\n",
       "            frameborder=\"0\"\n",
       "            allowfullscreen\n",
       "        ></iframe>\n",
       "        "
      ],
      "text/plain": [
       "<IPython.lib.display.IFrame at 0x17a82627978>"
      ]
     },
     "execution_count": 135,
     "metadata": {},
     "output_type": "execute_result"
    }
   ],
   "source": [
    "IFrame('./source-solution/03-applied-visual-design/050-use-a-bezier-curve-to-move-a-graphic.html', '100%', 500)"
   ]
  },
  {
   "cell_type": "markdown",
   "metadata": {},
   "source": [
    "### Make Motion More Natural Using a Bezier Curve"
   ]
  },
  {
   "cell_type": "markdown",
   "metadata": {},
   "source": [
    "This challenge animates an element to replicate the movement of a ball being juggled. Prior challenges covered the `linear` and `ease-out` cubic Bezier curves, however neither depicts the juggling movement accurately. You need to customize a Bezier curve for this.\n",
    "\n",
    "The `animation-timing-function` automatically loops at every keyframe when the `animation-iteration-count` is set to infinite. Since there is a keyframe rule set in the middle of the animation duration (at `50%`), it results in two identical animation progressions at the upward and downward movement of the ball.\n",
    "\n",
    "The following cubic Bezier curve simulates a juggling movement:\n",
    "\n",
    "`cubic-bezier(0.3, 0.4, 0.5, 1.6);`\n",
    "\n",
    "Notice that the value of y2 is larger than 1. Although the cubic Bezier curve is mapped on a 1 by 1 coordinate system, and it can only accept x values from 0 to 1, the y value can be set to numbers larger than one. This results in a bouncing movement that is ideal for simulating the juggling ball.\n",
    "\n",
    "---\n",
    "Change value of the `animation-timing-function` of the element with the id of `green` to a `cubic-bezier` function with x1, y1, x2, y2 values set respectively to 0.311, 0.441, 0.444, 1.649."
   ]
  },
  {
   "cell_type": "markdown",
   "metadata": {},
   "source": [
    "```HTML\n",
    "<style>\n",
    "  .balls {\n",
    "    border-radius: 50%;\n",
    "    position: fixed;\n",
    "    width: 50px;\n",
    "    height: 50px;\n",
    "    top: 60%;\n",
    "    animation-name: jump;\n",
    "    animation-duration: 2s;\n",
    "    animation-iteration-count: infinite;\n",
    "  }\n",
    "  #red {\n",
    "    background: red;\n",
    "    left: 25%;\n",
    "    animation-timing-function: linear;\n",
    "  }\n",
    "  #blue {\n",
    "    background: blue;\n",
    "    left: 50%;\n",
    "    animation-timing-function: ease-out;\n",
    "  }\n",
    "  #green {\n",
    "    background: green;\n",
    "    left: 75%;\n",
    "    animation-timing-function: cubic-bezier(0.311, 0.441, 0.444, 1.649);\n",
    "  }\n",
    "\n",
    "  @keyframes jump {\n",
    "    50% {\n",
    "      top: 10%;\n",
    "    }\n",
    "  }\n",
    "</style>\n",
    "<div class=\"balls\" id=\"red\"></div>\n",
    "<div class=\"balls\" id=\"blue\"></div>\n",
    "<div class=\"balls\" id=\"green\"></div>\n",
    "```"
   ]
  },
  {
   "cell_type": "code",
   "execution_count": 137,
   "metadata": {},
   "outputs": [
    {
     "data": {
      "text/html": [
       "\n",
       "        <iframe\n",
       "            width=\"100%\"\n",
       "            height=\"500\"\n",
       "            src=\"./source-solution/03-applied-visual-design/051-make-motion-more-natural-using-a-bezier-curve.html\"\n",
       "            frameborder=\"0\"\n",
       "            allowfullscreen\n",
       "        ></iframe>\n",
       "        "
      ],
      "text/plain": [
       "<IPython.lib.display.IFrame at 0x17a825c5c50>"
      ]
     },
     "execution_count": 137,
     "metadata": {},
     "output_type": "execute_result"
    }
   ],
   "source": [
    "IFrame('./source-solution/03-applied-visual-design/051-make-motion-more-natural-using-a-bezier-curve.html', '100%', 500)"
   ]
  },
  {
   "cell_type": "code",
   "execution_count": null,
   "metadata": {},
   "outputs": [],
   "source": []
  }
 ],
 "metadata": {
  "kernelspec": {
   "display_name": "Python 3",
   "language": "python",
   "name": "python3"
  },
  "language_info": {
   "codemirror_mode": {
    "name": "ipython",
    "version": 3
   },
   "file_extension": ".py",
   "mimetype": "text/x-python",
   "name": "python",
   "nbconvert_exporter": "python",
   "pygments_lexer": "ipython3",
   "version": "3.7.1"
  },
  "toc": {
   "base_numbering": 1,
   "nav_menu": {},
   "number_sections": true,
   "sideBar": true,
   "skip_h1_title": false,
   "title_cell": "Table of Contents",
   "title_sidebar": "Contents",
   "toc_cell": false,
   "toc_position": {
    "height": "752px",
    "left": "28px",
    "top": "54px",
    "width": "248.594px"
   },
   "toc_section_display": true,
   "toc_window_display": true
  }
 },
 "nbformat": 4,
 "nbformat_minor": 2
}
