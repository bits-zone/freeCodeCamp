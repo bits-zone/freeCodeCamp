{
 "cells": [
  {
   "cell_type": "code",
   "execution_count": 1,
   "metadata": {},
   "outputs": [],
   "source": [
    "from IPython.display import IFrame"
   ]
  },
  {
   "cell_type": "markdown",
   "metadata": {},
   "source": [
    "# Responsive Web Design Certification"
   ]
  },
  {
   "cell_type": "markdown",
   "metadata": {},
   "source": [
    "## Applied Accessibility"
   ]
  },
  {
   "cell_type": "markdown",
   "metadata": {},
   "source": [
    "### Introduction to the Applied Accessibility Challenges"
   ]
  },
  {
   "cell_type": "markdown",
   "metadata": {},
   "source": [
    "\"Accessibility\" generally means having web content and a user interface that can be understood, navigated, and interacted with by a broad audience. This includes people with visual, auditory, mobility, or cognitive disabilities.\n",
    "\n",
    "Websites should be open and accessible to everyone, regardless of a user's abilities or resources. Some users rely on assistive technology such as a screen reader or voice recognition software. Other users may be able to navigate through a site only using a keyboard. Keeping the needs of various users in mind when developing your project can go a long way towards creating an open web.\n",
    "\n",
    "Here are three general concepts this section will explore throughout the following challenges:\n",
    "\n",
    "1. have well-organized code that uses appropriate markup\n",
    "1. ensure text alternatives exist for non-text and visual content\n",
    "1. create an easily-navigated page that's keyboard-friendly\n",
    "\n",
    "Having accessible web content is an ongoing challenge. A great resource for your projects going forward is the W3 Consortium's Web Content Accessibility Guidelines (WCAG). They set the international standard for accessibility and provide a number of criteria you can use to check your work."
   ]
  },
  {
   "cell_type": "markdown",
   "metadata": {},
   "source": [
    "### Add a Text Alternative to Images for Visually Impaired Accessibility"
   ]
  },
  {
   "cell_type": "markdown",
   "metadata": {},
   "source": [
    "It's likely that you've seen an `alt` attribute on an `img` tag in other challenges. `Alt` text describes the content of the image and provides a text-alternative for it. This helps in cases where the image fails to load or can't be seen by a user. It's also used by search engines to understand what an image contains to include it in search results. Here's an example:\n",
    "\n",
    "`<img src=\"importantLogo.jpeg\" alt=\"Company logo\">`\n",
    "\n",
    "People with visual impairments rely on screen readers to convert web content to an audio interface. They won't get information if it's only presented visually. For images, screen readers can access the `alt` attribute and read its contents to deliver key information.\n",
    "\n",
    "Good `alt` text provides the reader a brief description of the image. You should always include an `alt` attribute on your image. Per HTML5 specification, this is now considered mandatory.\n",
    "\n",
    "---\n",
    "Camper Cat happens to be both a coding ninja and an actual ninja, who is building a website to share his knowledge. The profile picture he wants to use shows his skills and should be appreciated by all site visitors. Add an `alt` attribute in the `img` tag, that explains Camper Cat is doing karate. (The image src doesn't link to an actual file, so you should see the `alt` text in the display.)"
   ]
  },
  {
   "cell_type": "markdown",
   "metadata": {},
   "source": [
    "```HTML\n",
    "<img src=\"doingKarateWow.jpeg\" alt=\"Camper Cat is doing karate\">\n",
    "```"
   ]
  },
  {
   "cell_type": "code",
   "execution_count": 2,
   "metadata": {},
   "outputs": [
    {
     "data": {
      "text/html": [
       "\n",
       "        <iframe\n",
       "            width=\"100%\"\n",
       "            height=\"250\"\n",
       "            src=\"./source-solution/04-applied-accessibility/000-add-a-text-alternative-to-images-for-visually-impaired-accessibility.html\"\n",
       "            frameborder=\"0\"\n",
       "            allowfullscreen\n",
       "        ></iframe>\n",
       "        "
      ],
      "text/plain": [
       "<IPython.lib.display.IFrame at 0x7efdcf7a6588>"
      ]
     },
     "execution_count": 2,
     "metadata": {},
     "output_type": "execute_result"
    }
   ],
   "source": [
    "IFrame('./source-solution/04-applied-accessibility/000-add-a-text-alternative-to-images-for-visually-impaired-accessibility.html', '100%', 250)"
   ]
  },
  {
   "cell_type": "markdown",
   "metadata": {},
   "source": [
    "### Know When Alt Text Should be Left Blank"
   ]
  },
  {
   "cell_type": "markdown",
   "metadata": {},
   "source": [
    "In the last challenge, you learned that including an `alt` attribute when using `img` tags is mandatory. However, sometimes images are grouped with a caption already describing them, or are used for decoration only. In these cases `alt` text may seem redundant or unnecessary.\n",
    "\n",
    "In situations when an image is already explained with text content, or does not add meaning to a page, the `img` still needs an `alt` attribute, but it can be set to an empty string. Here's an example:\n",
    "\n",
    "`<img src=\"visualDecoration.jpeg\" alt=\"\">`\n",
    "\n",
    "Background images usually fall under the 'decorative' label as well. However, they are typically applied with CSS rules, and therefore not part of the markup screen readers process.\n",
    "\n",
    "**Note**: For images with a caption, you may still want to include `alt` text, since it helps search engines catalog the content of the image.\n",
    "\n",
    "---\n",
    "Camper Cat has coded a skeleton page for the blog part of his website. He's planning to add a visual break between his two articles with a decorative image of a samurai sword. Add an `alt` attribute to the `img` tag and set it to an empty string. (Note that the image `src` doesn't link to an actual file - don't worry that there are no swords showing in the display.)"
   ]
  },
  {
   "cell_type": "markdown",
   "metadata": {},
   "source": [
    "```HTML\n",
    "<h1>Deep Thoughts with Master Camper Cat</h1>\n",
    "<article>\n",
    "  <h2>Defeating your Foe: the Red Dot is Ours!</h2>\n",
    "  <p>To Come...</p>\n",
    "</article>\n",
    "\n",
    "<img src=\"samuraiSwords.jpeg\" alt=\"\">\n",
    "\n",
    "<article>\n",
    "  <h2>Is Chuck Norris a Cat Person?</h2>\n",
    "  <p>To Come...</p>\n",
    "</article>\n",
    "```"
   ]
  },
  {
   "cell_type": "code",
   "execution_count": 3,
   "metadata": {},
   "outputs": [
    {
     "data": {
      "text/html": [
       "\n",
       "        <iframe\n",
       "            width=\"100%\"\n",
       "            height=\"250\"\n",
       "            src=\"./source-solution/04-applied-accessibility/001-know-when-alt-text-should-be-left-blank.html\"\n",
       "            frameborder=\"0\"\n",
       "            allowfullscreen\n",
       "        ></iframe>\n",
       "        "
      ],
      "text/plain": [
       "<IPython.lib.display.IFrame at 0x7efdcf7a6860>"
      ]
     },
     "execution_count": 3,
     "metadata": {},
     "output_type": "execute_result"
    }
   ],
   "source": [
    "IFrame('./source-solution/04-applied-accessibility/001-know-when-alt-text-should-be-left-blank.html', '100%', 250)"
   ]
  },
  {
   "cell_type": "markdown",
   "metadata": {},
   "source": [
    "### Use Headings to Show Hierarchical Relationships of Content"
   ]
  },
  {
   "cell_type": "markdown",
   "metadata": {},
   "source": [
    "Headings (`h1` through `h6` elements) are workhorse tags that help provide structure and labeling to your content. Screen readers can be set to read only the headings on a page so the user gets a summary. This means it is important for the heading tags in your markup to have semantic meaning and relate to each other, not be picked merely for their size values.\n",
    "\n",
    "_Semantic meaning_ means that the tag you use around content indicates the type of information it contains.\n",
    "\n",
    "If you were writing a paper with an introduction, a body, and a conclusion, it wouldn't make much sense to put the conclusion as a subsection of the body in your outline. It should be its own section. Similarly, the heading tags in a webpage need to go in order and indicate the hierarchical relationships of your content.\n",
    "\n",
    "Headings with equal (or higher) rank start new implied sections, headings with lower rank start subsections of the previous one.\n",
    "\n",
    "As an example, a page with an `h2` element followed by several subsections labeled with `h4` tags would confuse a screen reader user. With six choices, it's tempting to use a tag because it looks better in a browser, but you can use CSS to edit the relative sizing.\n",
    "\n",
    "One final point, each page should always have one (and only one) `h1` element, which is the main subject of your content. This and the other headings are used in part by search engines to understand the topic of the page.\n",
    "\n",
    "---\n",
    "Camper Cat wants a page on his site dedicated to becoming a ninja. Help him fix the headings so his markup gives semantic meaning to the content, and shows the proper parent-child relationships of his sections. Change all the `h5` tags to the proper heading level to indicate they are subsections of the `h2` ones. Use `h3` tags for the purpose."
   ]
  },
  {
   "cell_type": "markdown",
   "metadata": {},
   "source": [
    "```HTML\n",
    "<h1>How to Become a Ninja</h1>\n",
    "<main>\n",
    "  <h2>Learn the Art of Moving Stealthily</h2>\n",
    "  <h3>How to Hide in Plain Sight</h3>\n",
    "  <h3>How to Climb a Wall</h3>\n",
    "\n",
    "  <h2>Learn the Art of Battle</h2>\n",
    "  <h3>How to Strengthen your Body</h3>\n",
    "  <h3>How to Fight like a Ninja</h3>\n",
    "\n",
    "  <h2>Learn the Art of Living with Honor</h2>\n",
    "  <h3>How to Breathe Properly</h3>\n",
    "  <h3>How to Simplify your Life</h3>\n",
    "</main>\n",
    "```"
   ]
  },
  {
   "cell_type": "code",
   "execution_count": 4,
   "metadata": {},
   "outputs": [
    {
     "data": {
      "text/html": [
       "\n",
       "        <iframe\n",
       "            width=\"100%\"\n",
       "            height=\"250\"\n",
       "            src=\"./source-solution/04-applied-accessibility/002-use-headings-to-show-hierarchical-relationships-of-content.html\"\n",
       "            frameborder=\"0\"\n",
       "            allowfullscreen\n",
       "        ></iframe>\n",
       "        "
      ],
      "text/plain": [
       "<IPython.lib.display.IFrame at 0x7efdcf7a6b38>"
      ]
     },
     "execution_count": 4,
     "metadata": {},
     "output_type": "execute_result"
    }
   ],
   "source": [
    "IFrame('./source-solution/04-applied-accessibility/002-use-headings-to-show-hierarchical-relationships-of-content.html', '100%', 250)"
   ]
  },
  {
   "cell_type": "markdown",
   "metadata": {},
   "source": [
    "### Jump Straight to the Content Using the main Element"
   ]
  },
  {
   "cell_type": "markdown",
   "metadata": {},
   "source": [
    "HTML5 introduced a number of new elements that give developers more options while also incorporating accessibility features. These tags include `main`, `header`, `footer`, `nav`, `article`, and `section`, among others.\n",
    "\n",
    "By default, a browser renders these elements similarly to the humble `div`. However, using them where appropriate gives additional meaning in your markup. The tag name alone can indicate the type of information it contains, which adds semantic meaning to that content. Assistive technologies can access this information to provide better page summary or navigation options to their users.\n",
    "\n",
    "The `main` element is used to wrap (you guessed it) the main content, and there should be only one per page. It's meant to surround the information that's related to the central topic of your page. It's not meant to include items that repeat across pages, like navigation links or banners.\n",
    "\n",
    "The `main` tag also has an embedded landmark feature that assistive technology can use to quickly navigate to the main content. If you've ever seen a \"Jump to Main Content\" link at the top of a page, using a main tag automatically gives assistive devices that functionality.\n",
    "\n",
    "---\n",
    "Camper Cat has some big ideas for his ninja weapons page. Help him set up his markup by adding opening and closing `main` tags between the `header` and `footer` (covered in other challenges). Keep the `main` tags empty for now."
   ]
  },
  {
   "cell_type": "markdown",
   "metadata": {},
   "source": [
    "```HTML\n",
    "<header>\n",
    "  <h1>Weapons of the Ninja</h1>\n",
    "</header>\n",
    "<main>\n",
    "</main>\n",
    "<footer></footer>\n",
    "```"
   ]
  },
  {
   "cell_type": "code",
   "execution_count": 5,
   "metadata": {},
   "outputs": [
    {
     "data": {
      "text/html": [
       "\n",
       "        <iframe\n",
       "            width=\"100%\"\n",
       "            height=\"250\"\n",
       "            src=\"./source-solution/04-applied-accessibility/003-jump-straight-to-the-content-using-the-main-element.html\"\n",
       "            frameborder=\"0\"\n",
       "            allowfullscreen\n",
       "        ></iframe>\n",
       "        "
      ],
      "text/plain": [
       "<IPython.lib.display.IFrame at 0x7efdcf7a6d30>"
      ]
     },
     "execution_count": 5,
     "metadata": {},
     "output_type": "execute_result"
    }
   ],
   "source": [
    "IFrame('./source-solution/04-applied-accessibility/003-jump-straight-to-the-content-using-the-main-element.html', '100%', 250)"
   ]
  },
  {
   "cell_type": "markdown",
   "metadata": {},
   "source": [
    "### Wrap Content in the article Element"
   ]
  },
  {
   "cell_type": "markdown",
   "metadata": {},
   "source": [
    "`article` is another one of the new HTML5 elements that adds semantic meaning to your markup. `article` is a sectioning element, and is used to wrap independent, self-contained content. The tag works well with blog entries, forum posts, or news articles.\n",
    "\n",
    "Determining whether content can stand alone is usually a judgement call, but there are a couple simple tests you can use. Ask yourself if you removed all surrounding context, would that content still make sense? Similarly for text, would the content hold up if it were in an RSS feed?\n",
    "\n",
    "Remember that folks using assistive technologies rely on organized, semantically meaningful markup to better understand your work.\n",
    "\n",
    "**Note about `section` and `div`**\n",
    "The `section` element is also new with HTML5, and has a slightly different semantic meaning than `article`. An `article` is for standalone content, and a `section` is for grouping thematically related content. They can be used within each other, as needed. For example, if a book is the `article`, then each chapter is a `section`. When there's no relationship between groups of content, then use a `div`.\n",
    "\n",
    "```HTML\n",
    "<div> - groups content\n",
    "<section> - groups related content\n",
    "<article> - groups independent, self-contained content\n",
    "```\n",
    "\n",
    "---\n",
    "Camper Cat used `article` tags to wrap the posts on his blog page, but he forgot to use them around the top one. Change the `div` tag to use an `article` tag instead."
   ]
  },
  {
   "cell_type": "markdown",
   "metadata": {},
   "source": [
    "```HTML\n",
    "<h1>Deep Thoughts with Master Camper Cat</h1>\n",
    "<main>\n",
    "  <article>\n",
    "    <h2>The Garfield Files: Lasagna as Training Fuel?</h2>\n",
    "    <p>The internet is littered with varying opinions on nutritional paradigms, from catnip paleo to hairball cleanses. But let's turn our attention to an often overlooked fitness fuel, and examine the protein-carb-NOM trifecta that is lasagna...</p>\n",
    "  </article>\n",
    "\n",
    "  <img src=\"samuraiSwords.jpeg\" alt=\"\">\n",
    "\n",
    "  <article>\n",
    "    <h2>Defeating your Foe: the Red Dot is Ours!</h2>\n",
    "    <p>Felines the world over have been waging war on the most persistent of foes. This red nemesis combines both cunning stealth and lightening speed. But chin up, fellow fighters, our time for victory may soon be near...</p>\n",
    "  </article>\n",
    "\n",
    "  <img src=\"samuraiSwords.jpeg\" alt=\"\">\n",
    "\n",
    "  <article>\n",
    "    <h2>Is Chuck Norris a Cat Person?</h2>\n",
    "    <p>Chuck Norris is widely regarded as the premier martial artist on the planet, and it's a complete coincidence anyone who disagrees with this fact mysteriously disappears soon after. But the real question is, is he a cat person?...</p>\n",
    "  </article>\n",
    "</main>\n",
    "```"
   ]
  },
  {
   "cell_type": "code",
   "execution_count": 6,
   "metadata": {},
   "outputs": [
    {
     "data": {
      "text/html": [
       "\n",
       "        <iframe\n",
       "            width=\"100%\"\n",
       "            height=\"250\"\n",
       "            src=\"./source-solution/04-applied-accessibility/004-wrap-content-in-the-article-element.html\"\n",
       "            frameborder=\"0\"\n",
       "            allowfullscreen\n",
       "        ></iframe>\n",
       "        "
      ],
      "text/plain": [
       "<IPython.lib.display.IFrame at 0x7efdcf7a6a90>"
      ]
     },
     "execution_count": 6,
     "metadata": {},
     "output_type": "execute_result"
    }
   ],
   "source": [
    "IFrame('./source-solution/04-applied-accessibility/004-wrap-content-in-the-article-element.html', '100%', 250)"
   ]
  },
  {
   "cell_type": "markdown",
   "metadata": {},
   "source": [
    "### Make Screen Reader Navigation Easier with the header Landmark"
   ]
  },
  {
   "cell_type": "markdown",
   "metadata": {},
   "source": [
    "The next HTML5 element that adds semantic meaning and improves accessibility is the `header` tag. It's used to wrap introductory information or navigation links for its parent tag and works well around content that's repeated at the top on multiple pages.\n",
    "\n",
    "`header` shares the embedded landmark feature you saw with `main`, allowing assistive technologies to quickly navigate to that content.\n",
    "\n",
    "**Note:** The `header` is meant for use in the `body` tag of your HTML document. This is different than the `head` element, which contains the page's title, meta information, etc.\n",
    "\n",
    "---\n",
    "Camper Cat is writing some great articles about ninja training, and wants to add a page for them to his site. Change the top `div` that currently contains the `h1` to a `header` tag instead."
   ]
  },
  {
   "cell_type": "markdown",
   "metadata": {},
   "source": [
    "```HTML\n",
    "<body>    \n",
    "  <header>\n",
    "    <h1>Training with Camper Cat</h1>\n",
    "  </header>\n",
    "  <main>\n",
    "    <section id=\"stealth\">\n",
    "      <h2>Stealth &amp; Agility Training</h2>\n",
    "      <article><h3>Climb foliage quickly using a minimum spanning tree approach</h3></article>\n",
    "      <article><h3>No training is NP-complete without parkour</h3></article>\n",
    "    </section>\n",
    "    <section id=\"combat\">\n",
    "      <h2>Combat Training</h2>\n",
    "      <article><h3>Dispatch multiple enemies with multithreaded tactics</h3></article>\n",
    "      <article><h3>Goodbye world: 5 proven ways to knock out an opponent</h3></article>\n",
    "    </section>\n",
    "    <section id=\"weapons\">\n",
    "      <h2>Weapons Training</h2>\n",
    "      <article><h3>Swords: the best tool to literally divide and conquer</h3></article>\n",
    "      <article><h3>Breadth-first or depth-first in multi-weapon training?</h3></article>\n",
    "    </section>\n",
    "  </main>\n",
    "</body>\n",
    "```"
   ]
  },
  {
   "cell_type": "code",
   "execution_count": 7,
   "metadata": {},
   "outputs": [
    {
     "data": {
      "text/html": [
       "\n",
       "        <iframe\n",
       "            width=\"100%\"\n",
       "            height=\"250\"\n",
       "            src=\"./source-solution/04-applied-accessibility/005-make-screen-reader-navigation-easier-with-the-header-landmark.html\"\n",
       "            frameborder=\"0\"\n",
       "            allowfullscreen\n",
       "        ></iframe>\n",
       "        "
      ],
      "text/plain": [
       "<IPython.lib.display.IFrame at 0x7efdcf7a6f98>"
      ]
     },
     "execution_count": 7,
     "metadata": {},
     "output_type": "execute_result"
    }
   ],
   "source": [
    "IFrame('./source-solution/04-applied-accessibility/005-make-screen-reader-navigation-easier-with-the-header-landmark.html', '100%', 250)"
   ]
  },
  {
   "cell_type": "markdown",
   "metadata": {},
   "source": [
    "### Make Screen Reader Navigation Easier with the nav Landmark"
   ]
  },
  {
   "cell_type": "markdown",
   "metadata": {},
   "source": [
    "The `nav` element is another HTML5 item with the embedded landmark feature for easy screen reader navigation. This tag is meant to wrap around the main navigation links in your page.\n",
    "\n",
    "If there are repeated site links at the bottom of the page, it isn't necessary to markup those with a `nav` tag as well. Using a `footer` (covered in the next challenge) is sufficient.\n",
    "\n",
    "---\n",
    "Camper Cat included navigation links at the top of his training page, but wrapped them in a `div`. Change the `div` to a `nav` tag to improve the accessibility on his page."
   ]
  },
  {
   "cell_type": "markdown",
   "metadata": {},
   "source": [
    "```HTML\n",
    "<body>\n",
    "  <header>\n",
    "    <h1>Training with Camper Cat</h1>\n",
    "\n",
    "    <nav>\n",
    "      <ul>\n",
    "        <li><a href=\"#stealth\">Stealth &amp; Agility</a></li>\n",
    "        <li><a href=\"#combat\">Combat</a></li>\n",
    "        <li><a href=\"#weapons\">Weapons</a></li>\n",
    "      </ul>\n",
    "    </nav>\n",
    "\n",
    "  </header>\n",
    "  <main>\n",
    "    <section id=\"stealth\">\n",
    "      <h2>Stealth &amp; Agility Training</h2>\n",
    "      <article><h3>Climb foliage quickly using a minimum spanning tree approach</h3></article>\n",
    "      <article><h3>No training is NP-complete without parkour</h3></article>\n",
    "    </section>\n",
    "    <section id=\"combat\">\n",
    "      <h2>Combat Training</h2>\n",
    "      <article><h3>Dispatch multiple enemies with multithreaded tactics</h3></article>\n",
    "      <article><h3>Goodbye world: 5 proven ways to knock out an opponent</h3></article>\n",
    "    </section>\n",
    "    <section id=\"weapons\">\n",
    "      <h2>Weapons Training</h2>\n",
    "      <article><h3>Swords: the best tool to literally divide and conquer</h3></article>\n",
    "      <article><h3>Breadth-first or depth-first in multi-weapon training?</h3></article>\n",
    "    </section>\n",
    "  </main>\n",
    "</body>\n",
    "```"
   ]
  },
  {
   "cell_type": "code",
   "execution_count": 8,
   "metadata": {},
   "outputs": [
    {
     "data": {
      "text/html": [
       "\n",
       "        <iframe\n",
       "            width=\"100%\"\n",
       "            height=\"250\"\n",
       "            src=\"./source-solution/04-applied-accessibility/006-make-screen-reader-navigation-easier-with-the-nav-landmark.html\"\n",
       "            frameborder=\"0\"\n",
       "            allowfullscreen\n",
       "        ></iframe>\n",
       "        "
      ],
      "text/plain": [
       "<IPython.lib.display.IFrame at 0x7efdcf752208>"
      ]
     },
     "execution_count": 8,
     "metadata": {},
     "output_type": "execute_result"
    }
   ],
   "source": [
    "IFrame('./source-solution/04-applied-accessibility/006-make-screen-reader-navigation-easier-with-the-nav-landmark.html', '100%', 250)"
   ]
  },
  {
   "cell_type": "markdown",
   "metadata": {},
   "source": [
    "### Make Screen Reader Navigation Easier with the footer Landmark"
   ]
  },
  {
   "cell_type": "markdown",
   "metadata": {},
   "source": [
    "Similar to `header` and `nav`, the footer element has a built-in landmark feature that allows assistive devices to quickly navigate to it. It's primarily used to contain copyright information or links to related documents that usually sit at the bottom of a page.\n",
    "\n",
    "---\n",
    "Camper Cat's training page is making good progress. Change the `div`he used to wrap his copyright information at the bottom of the page to a `footer`element."
   ]
  },
  {
   "cell_type": "markdown",
   "metadata": {},
   "source": [
    "```HTML\n",
    "<body>\n",
    "  <header>\n",
    "    <h1>Training</h1>\n",
    "    <nav>\n",
    "      <ul>\n",
    "        <li><a href=\"#stealth\">Stealth &amp; Agility</a></li>\n",
    "        <li><a href=\"#combat\">Combat</a></li>\n",
    "        <li><a href=\"#weapons\">Weapons</a></li>\n",
    "      </ul>\n",
    "    </nav>\n",
    "  </header>\n",
    "  <main>\n",
    "    <section id=\"stealth\">\n",
    "      <h2>Stealth &amp; Agility Training</h2>\n",
    "      <article><h3>Climb foliage quickly using a minimum spanning tree approach</h3></article>\n",
    "      <article><h3>No training is NP-complete without parkour</h3></article>\n",
    "    </section>\n",
    "    <section id=\"combat\">\n",
    "      <h2>Combat Training</h2>\n",
    "      <article><h3>Dispatch multiple enemies with multithreaded tactics</h3></article>\n",
    "      <article><h3>Goodbye world: 5 proven ways to knock out an opponent</h3></article>\n",
    "    </section>\n",
    "    <section id=\"weapons\">\n",
    "      <h2>Weapons Training</h2>\n",
    "      <article><h3>Swords: the best tool to literally divide and conquer</h3></article>\n",
    "      <article><h3>Breadth-first or depth-first in multi-weapon training?</h3></article>\n",
    "    </section>\n",
    "  </main>\n",
    "\n",
    "\n",
    "  <footer>&copy; 2018 Camper Cat</footer>\n",
    "\n",
    "\n",
    "</body>\n",
    "```"
   ]
  },
  {
   "cell_type": "code",
   "execution_count": 9,
   "metadata": {},
   "outputs": [
    {
     "data": {
      "text/html": [
       "\n",
       "        <iframe\n",
       "            width=\"100%\"\n",
       "            height=\"250\"\n",
       "            src=\"./source-solution/04-applied-accessibility/007-make-screen-reader-navigation-easier-with-the-footer-landmark.html\"\n",
       "            frameborder=\"0\"\n",
       "            allowfullscreen\n",
       "        ></iframe>\n",
       "        "
      ],
      "text/plain": [
       "<IPython.lib.display.IFrame at 0x7efdcf752518>"
      ]
     },
     "execution_count": 9,
     "metadata": {},
     "output_type": "execute_result"
    }
   ],
   "source": [
    "IFrame('./source-solution/04-applied-accessibility/007-make-screen-reader-navigation-easier-with-the-footer-landmark.html', '100%', 250)"
   ]
  },
  {
   "cell_type": "markdown",
   "metadata": {},
   "source": [
    "### Improve Accessibility of Audio Content with the audio Element"
   ]
  },
  {
   "cell_type": "markdown",
   "metadata": {},
   "source": [
    "HTML5's `audio` element gives semantic meaning when it wraps sound or audio stream content in your markup. Audio content also needs a text alternative to be accessible to people who are deaf or hard of hearing. This can be done with nearby text on the page or a link to a transcript.\n",
    "\n",
    "The `audio` tag supports the `controls` attribute. This shows the browser default play, pause, and other controls, and supports keyboard functionality. This is a boolean attribute, meaning it doesn't need a value, its presence on the tag turns the setting on.\n",
    "\n",
    "Here's an example:\n",
    "\n",
    "```HTML\n",
    "<audio id=\"meowClip\" controls>\n",
    "  <source src=\"audio/meow.mp3\" type=\"audio/mpeg\" />\n",
    "  <source src=\"audio/meow.ogg\" type=\"audio/ogg\" />\n",
    "</audio>\n",
    "```\n",
    "\n",
    "**Note:** Multimedia content usually has both visual and auditory components. It needs synchronized captions and a transcript so users with visual and/or auditory impairments can access it. Generally, a web developer is not responsible for creating the captions or transcript, but needs to know to include them.\n",
    "\n",
    "---\n",
    "Time to take a break from Camper Cat and meet fellow camper Zersiax (@zersiax), a champion of accessibility and a screen reader user. To hear a clip of his screen reader in action, add an `audio`element after the `p`. Include the `controls` attribute. Then place a `source`tag inside the `audio` tags with the `src` attribute set to `\"https://s3.amazonaws.com/freecodecamp/screen-reader.mp3\"` and `type`attribute set to \"audio/mpeg\".\n",
    "\n",
    "**Note:** The audio clip may sound fast and be difficult to understand, but that is a normal speed for screen reader users."
   ]
  },
  {
   "cell_type": "markdown",
   "metadata": {},
   "source": [
    "```HTML\n",
    "<body>\n",
    "  <header>\n",
    "    <h1>Real Coding Ninjas</h1>\n",
    "  </header>\n",
    "  <main>\n",
    "    <p>A sound clip of Zersiax's screen reader in action.</p>\n",
    "    <audio controls>\n",
    "      <source src=\"https://s3.amazonaws.com/freecodecamp/screen-reader.mp3\" type=\"audio/mpeg\">\n",
    "    </audio>\n",
    "  </main>\n",
    "</body>\n",
    "```"
   ]
  },
  {
   "cell_type": "code",
   "execution_count": 10,
   "metadata": {},
   "outputs": [
    {
     "data": {
      "text/html": [
       "\n",
       "        <iframe\n",
       "            width=\"100%\"\n",
       "            height=\"250\"\n",
       "            src=\"./source-solution/04-applied-accessibility/008-improve-accessibility-of-audio-content-with-the-audio-element.html\"\n",
       "            frameborder=\"0\"\n",
       "            allowfullscreen\n",
       "        ></iframe>\n",
       "        "
      ],
      "text/plain": [
       "<IPython.lib.display.IFrame at 0x7efdcf7528d0>"
      ]
     },
     "execution_count": 10,
     "metadata": {},
     "output_type": "execute_result"
    }
   ],
   "source": [
    "IFrame('./source-solution/04-applied-accessibility/008-improve-accessibility-of-audio-content-with-the-audio-element.html', '100%', 250)"
   ]
  },
  {
   "cell_type": "markdown",
   "metadata": {},
   "source": [
    "### Improve Chart Accessibility with the figure Element"
   ]
  },
  {
   "cell_type": "markdown",
   "metadata": {},
   "source": [
    "HTML5 introduced the `figure` element, along with the related `figcaption`. Used together, these items wrap a visual representation (like an image, diagram, or chart) along with its caption. This gives a two-fold accessibility boost by both semantically grouping related content, and providing a text alternative that explains the `figure`.\n",
    "\n",
    "For data visualizations like charts, the caption can be used to briefly note the trends or conclusions for users with visual impairments. Another challenge covers how to move a table version of the chart's data off-screen (using CSS) for screen reader users.\n",
    "\n",
    "Here's an example - note that the `figcaption` goes inside the `figure` tags and can be combined with other elements:\n",
    "\n",
    "```HTML\n",
    "<figure>\n",
    "  <img src=\"roundhouseDestruction.jpeg\" alt=\"Photo of Camper Cat executing a roundhouse kick\">\n",
    "  <br>\n",
    "  <figcaption>\n",
    "    Master Camper Cat demonstrates proper form of a roundhouse kick.\n",
    "  </figcaption>\n",
    "</figure>\n",
    "```\n",
    "\n",
    "---\n",
    "Camper Cat is hard at work creating a stacked bar chart showing the amount of time per week to spend training in stealth, combat, and weapons. Help him structure his page better by changing the `div` tag he used to a `figure` tag, and the `p` tag that surrounds the caption to a `figcaption` tag."
   ]
  },
  {
   "cell_type": "markdown",
   "metadata": {},
   "source": [
    "```HTML\n",
    "<body>\n",
    "  <header>\n",
    "    <h1>Training</h1>\n",
    "    <nav>\n",
    "      <ul>\n",
    "        <li><a href=\"#stealth\">Stealth &amp; Agility</a></li>\n",
    "        <li><a href=\"#combat\">Combat</a></li>\n",
    "        <li><a href=\"#weapons\">Weapons</a></li>\n",
    "      </ul>\n",
    "    </nav>\n",
    "  </header>\n",
    "  <main>\n",
    "    <section>\n",
    "\n",
    "      <!-- Add your code below this line -->\n",
    "      <figure>\n",
    "        <!-- Stacked bar chart will go here -->\n",
    "        <br>\n",
    "        <figcaption>Breakdown per week of time to spend training in stealth, combat, and weapons.</figcaption>\n",
    "      </figure>\n",
    "      <!-- Add your code above this line -->\n",
    "\n",
    "    </section>\n",
    "    <section id=\"stealth\">\n",
    "      <h2>Stealth &amp; Agility Training</h2>\n",
    "      <article><h3>Climb foliage quickly using a minimum spanning tree approach</h3></article>\n",
    "      <article><h3>No training is NP-complete without parkour</h3></article>\n",
    "    </section>\n",
    "    <section id=\"combat\">\n",
    "      <h2>Combat Training</h2>\n",
    "      <article><h3>Dispatch multiple enemies with multithreaded tactics</h3></article>\n",
    "      <article><h3>Goodbye world: 5 proven ways to knock out an opponent</h3></article>\n",
    "    </section>\n",
    "    <section id=\"weapons\">\n",
    "      <h2>Weapons Training</h2>\n",
    "      <article><h3>Swords: the best tool to literally divide and conquer</h3></article>\n",
    "      <article><h3>Breadth-first or depth-first in multi-weapon training?</h3></article>\n",
    "    </section>\n",
    "  </main>\n",
    "  <footer>&copy; 2018 Camper Cat</footer>\n",
    "</body>\n",
    "```"
   ]
  },
  {
   "cell_type": "code",
   "execution_count": 11,
   "metadata": {},
   "outputs": [
    {
     "data": {
      "text/html": [
       "\n",
       "        <iframe\n",
       "            width=\"100%\"\n",
       "            height=\"250\"\n",
       "            src=\"./source-solution/04-applied-accessibility/009-improve-chart-accessibility-with-the-figure-element.html\"\n",
       "            frameborder=\"0\"\n",
       "            allowfullscreen\n",
       "        ></iframe>\n",
       "        "
      ],
      "text/plain": [
       "<IPython.lib.display.IFrame at 0x7efdcf752be0>"
      ]
     },
     "execution_count": 11,
     "metadata": {},
     "output_type": "execute_result"
    }
   ],
   "source": [
    "IFrame('./source-solution/04-applied-accessibility/009-improve-chart-accessibility-with-the-figure-element.html', '100%', 250)"
   ]
  },
  {
   "cell_type": "markdown",
   "metadata": {},
   "source": [
    "### Improve Form Field Accessibility with the label Element"
   ]
  },
  {
   "cell_type": "markdown",
   "metadata": {},
   "source": [
    "Improving accessibility with semantic HTML markup applies to using both appropriate tag names as well as attributes. The next several challenges cover some important scenarios using attributes in forms.\n",
    "\n",
    "The `label` tag wraps the text for a specific form control item, usually the name or label for a choice. This ties meaning to the item and makes the form more readable. The `for` attribute on a `label` tag explicitly associates that `label` with the form control and is used by screen readers.\n",
    "\n",
    "You learned about radio buttons and their labels in a lesson in the Basic HTML section. In that lesson, we wrapped the radio button input element inside a `label`element along with the label text in order to make the text clickable. Another way to achieve this is by using the `for` attribute as explained in this lesson.\n",
    "\n",
    "The value of the `for` attribute must be the same as the value of the `id` attribute of the form control. Here's an example:\n",
    "\n",
    "```HTML\n",
    "<form>\n",
    "  <label for=\"name\">Name:</label>\n",
    "  <input type=\"text\" id=\"name\" name=\"name\">\n",
    "</form>\n",
    "```\n",
    "\n",
    "---\n",
    "Camper Cat expects a lot of interest in his thoughtful blog posts and wants to include an email sign up form. Add a `for` attribute on the email `label` that matches the `id` on its `input` field."
   ]
  },
  {
   "cell_type": "markdown",
   "metadata": {},
   "source": [
    "```HTML\n",
    "<body>\n",
    "  <header>\n",
    "    <h1>Deep Thoughts with Master Camper Cat</h1>\n",
    "  </header>\n",
    "  <section>\n",
    "    <form>\n",
    "      <p>Sign up to receive Camper Cat's blog posts by email here!</p>\n",
    "\n",
    "\n",
    "      <label for=\"email\">Email:</label>\n",
    "      <input type=\"text\" id=\"email\" name=\"email\">\n",
    "\n",
    "\n",
    "      <input type=\"submit\" name=\"submit\" value=\"Submit\">\n",
    "    </form>\n",
    "  </section>\n",
    "  <article>\n",
    "    <h2>The Garfield Files: Lasagna as Training Fuel?</h2>\n",
    "    <p>The internet is littered with varying opinions on nutritional paradigms, from catnip paleo to hairball cleanses. But let's turn our attention to an often overlooked fitness fuel, and examine the protein-carb-NOM trifecta that is lasagna...</p>\n",
    "  </article>\n",
    "  <img src=\"samuraiSwords.jpeg\" alt=\"\">\n",
    "  <article>\n",
    "    <h2>Defeating your Foe: the Red Dot is Ours!</h2>\n",
    "    <p>Felines the world over have been waging war on the most persistent of foes. This red nemesis combines both cunning stealth and lightening speed. But chin up, fellow fighters, our time for victory may soon be near...</p>\n",
    "  </article>\n",
    "  <img src=\"samuraiSwords.jpeg\" alt=\"\">\n",
    "  <article>\n",
    "    <h2>Is Chuck Norris a Cat Person?</h2>\n",
    "    <p>Chuck Norris is widely regarded as the premier martial artist on the planet, and it's a complete coincidence anyone who disagrees with this fact mysteriously disappears soon after. But the real question is, is he a cat person?...</p>\n",
    "  </article>\n",
    "  <footer>&copy; 2018 Camper Cat</footer>\n",
    "</body>\n",
    "```"
   ]
  },
  {
   "cell_type": "code",
   "execution_count": 12,
   "metadata": {},
   "outputs": [
    {
     "data": {
      "text/html": [
       "\n",
       "        <iframe\n",
       "            width=\"100%\"\n",
       "            height=\"250\"\n",
       "            src=\"./source-solution/04-applied-accessibility/010-improve-form-field-accessibility-with-the-label-element.html\"\n",
       "            frameborder=\"0\"\n",
       "            allowfullscreen\n",
       "        ></iframe>\n",
       "        "
      ],
      "text/plain": [
       "<IPython.lib.display.IFrame at 0x7efdcf752f28>"
      ]
     },
     "execution_count": 12,
     "metadata": {},
     "output_type": "execute_result"
    }
   ],
   "source": [
    "IFrame('./source-solution/04-applied-accessibility/010-improve-form-field-accessibility-with-the-label-element.html', '100%', 250)"
   ]
  },
  {
   "cell_type": "markdown",
   "metadata": {},
   "source": [
    "### Wrap Radio Buttons in a fieldset Element for Better Accessibility"
   ]
  },
  {
   "cell_type": "markdown",
   "metadata": {},
   "source": [
    "The next form topic covers accessibility of radio buttons. Each choice is given a `label` with a `for` attribute tying to the `id` of the corresponding item as covered in the last challenge. Since radio buttons often come in a group where the user must choose one, there's a way to semantically show the choices are part of a set.\n",
    "\n",
    "The `fieldset` tag surrounds the entire grouping of radio buttons to achieve this. It often uses a `legend` tag to provide a description for the grouping, which is read by screen readers for each choice in the `fieldset` element.\n",
    "\n",
    "The `fieldset` wrapper and `legend` tag are not necessary when the choices are self-explanatory, like a gender selection. Using a `label` with the `for` attribute for each radio button is sufficient.\n",
    "\n",
    "Here's an example:\n",
    "\n",
    "```HTML\n",
    "<form>\n",
    "  <fieldset>\n",
    "    <legend>Choose one of these three items:</legend>\n",
    "    <input id=\"one\" type=\"radio\" name=\"items\" value=\"one\">\n",
    "    <label for=\"one\">Choice One</label><br>\n",
    "    <input id=\"two\" type=\"radio\" name=\"items\" value=\"two\">\n",
    "    <label for=\"two\">Choice Two</label><br>\n",
    "    <input id=\"three\" type=\"radio\" name=\"items\" value=\"three\">\n",
    "    <label for=\"three\">Choice Three</label>\n",
    "  </fieldset>\n",
    "</form>\n",
    "```\n",
    "\n",
    "---\n",
    "Camper Cat wants information about the ninja level of his users when they sign up for his email list. He's added a set of radio buttons and learned from our last lesson to use label tags with `for` attributes for each choice. Go Camper Cat! However, his code still needs some help. Change the `div` tag surrounding the radio buttons to a `fieldset` tag, and change the `p` tag inside it to a `legend`."
   ]
  },
  {
   "cell_type": "markdown",
   "metadata": {},
   "source": [
    "```HTML\n",
    "<body>\n",
    "  <header>\n",
    "    <h1>Deep Thoughts with Master Camper Cat</h1>\n",
    "  </header>\n",
    "  <section>\n",
    "    <form>\n",
    "      <p>Sign up to receive Camper Cat's blog posts by email here!</p>\n",
    "      <label for=\"email\">Email:</label>\n",
    "      <input type=\"text\" id=\"email\" name=\"email\">\n",
    "\n",
    "\n",
    "      <!-- Add your code below this line -->\n",
    "      <fieldset>\n",
    "        <legend>What level ninja are you?</legend>\n",
    "        <input id=\"newbie\" type=\"radio\" name=\"levels\" value=\"newbie\">\n",
    "        <label for=\"newbie\">Newbie Kitten</label><br>\n",
    "        <input id=\"intermediate\" type=\"radio\" name=\"levels\" value=\"intermediate\">\n",
    "        <label for=\"intermediate\">Developing Student</label><br>\n",
    "        <input id=\"master\" type=\"radio\" name=\"levels\" value=\"master\">\n",
    "        <label for=\"master\">Master</label>\n",
    "      </fieldset>\n",
    "      <!-- Add your code above this line -->\n",
    "\n",
    "\n",
    "      <input type=\"submit\" name=\"submit\" value=\"Submit\">\n",
    "    </form>\n",
    "  </section>\n",
    "  <article>\n",
    "    <h2>The Garfield Files: Lasagna as Training Fuel?</h2>\n",
    "    <p>The internet is littered with varying opinions on nutritional paradigms, from catnip paleo to hairball cleanses. But let's turn our attention to an often overlooked fitness fuel, and examine the protein-carb-NOM trifecta that is lasagna...</p>\n",
    "  </article>\n",
    "  <img src=\"samuraiSwords.jpeg\" alt=\"\">\n",
    "  <article>\n",
    "    <h2>Defeating your Foe: the Red Dot is Ours!</h2>\n",
    "    <p>Felines the world over have been waging war on the most persistent of foes. This red nemesis combines both cunning stealth and lightening speed. But chin up, fellow fighters, our time for victory may soon be near...</p>\n",
    "  </article>\n",
    "  <img src=\"samuraiSwords.jpeg\" alt=\"\">\n",
    "  <article>\n",
    "    <h2>Is Chuck Norris a Cat Person?</h2>\n",
    "    <p>Chuck Norris is widely regarded as the premier martial artist on the planet, and it's a complete coincidence anyone who disagrees with this fact mysteriously disappears soon after. But the real question is, is he a cat person?...</p>\n",
    "  </article>\n",
    "  <footer>&copy; 2018 Camper Cat</footer>\n",
    "</body>\n",
    "```"
   ]
  },
  {
   "cell_type": "code",
   "execution_count": 13,
   "metadata": {},
   "outputs": [
    {
     "data": {
      "text/html": [
       "\n",
       "        <iframe\n",
       "            width=\"100%\"\n",
       "            height=\"250\"\n",
       "            src=\"./source-solution/04-applied-accessibility/011-wrap-radio-buttons-in-a-fieldset-element-for-better-accessibility.html\"\n",
       "            frameborder=\"0\"\n",
       "            allowfullscreen\n",
       "        ></iframe>\n",
       "        "
      ],
      "text/plain": [
       "<IPython.lib.display.IFrame at 0x7efdcf75b1d0>"
      ]
     },
     "execution_count": 13,
     "metadata": {},
     "output_type": "execute_result"
    }
   ],
   "source": [
    "IFrame('./source-solution/04-applied-accessibility/011-wrap-radio-buttons-in-a-fieldset-element-for-better-accessibility.html', '100%', 250)"
   ]
  },
  {
   "cell_type": "markdown",
   "metadata": {},
   "source": [
    "### Add an Accessible Date Picker"
   ]
  },
  {
   "cell_type": "markdown",
   "metadata": {},
   "source": [
    "Forms often include the `input` field, which can be used to create several different form controls. The `type`attribute on this element indicates what kind of input will be created.\n",
    "\n",
    "You may have noticed the `text` and `submit` input types in prior challenges, and HTML5 introduced an option to specify a `date` field. Depending on browser support, a date picker shows up in the `input` field when it's in focus, which makes filling in a form easier for all users.\n",
    "\n",
    "For older browsers, the type will default to `text`, so it helps to show users the expected date format in the label or as placeholder text just in case.\n",
    "\n",
    "Here's an example:\n",
    "\n",
    "```HTML\n",
    "<label for=\"input1\">Enter a date:</label>\n",
    "<input type=\"date\" id=\"input1\" name=\"input1\">\n",
    "```\n",
    "\n",
    "---\n",
    "Camper Cat is setting up a Mortal Kombat tournament and wants to ask his competitors to see what date works best. Add an `input` tag with a type attribute of \"date\", an `id` attribute of \"pickdate\", and a `name` attribute of \"date\"."
   ]
  },
  {
   "cell_type": "markdown",
   "metadata": {},
   "source": [
    "```HTML\n",
    "<body>\n",
    "  <header>\n",
    "    <h1>Tournaments</h1>\n",
    "  </header>\n",
    "  <main>\n",
    "    <section>\n",
    "      <h2>Mortal Kombat Tournament Survey</h2>\n",
    "      <form>\n",
    "        <p>Tell us the best date for the competition</p>\n",
    "        <label for=\"pickdate\">Preferred Date:</label>\n",
    "\n",
    "        <!-- Add your code below this line -->\n",
    "        <input type=\"date\" id=\"pickdate\" name=\"date\">\n",
    "        <!-- Add your code above this line -->\n",
    "\n",
    "        <input type=\"submit\" name=\"submit\" value=\"Submit\">\n",
    "      </form>\n",
    "    </section>\n",
    "  </main>\n",
    "  <footer>&copy; 2018 Camper Cat</footer>\n",
    "</body>\n",
    "```"
   ]
  },
  {
   "cell_type": "code",
   "execution_count": 14,
   "metadata": {},
   "outputs": [
    {
     "data": {
      "text/html": [
       "\n",
       "        <iframe\n",
       "            width=\"100%\"\n",
       "            height=\"250\"\n",
       "            src=\"./source-solution/04-applied-accessibility/012-add-an-accessible-date-picker.html\"\n",
       "            frameborder=\"0\"\n",
       "            allowfullscreen\n",
       "        ></iframe>\n",
       "        "
      ],
      "text/plain": [
       "<IPython.lib.display.IFrame at 0x7efdcf75b630>"
      ]
     },
     "execution_count": 14,
     "metadata": {},
     "output_type": "execute_result"
    }
   ],
   "source": [
    "IFrame('./source-solution/04-applied-accessibility/012-add-an-accessible-date-picker.html', '100%', 250)"
   ]
  },
  {
   "cell_type": "markdown",
   "metadata": {},
   "source": [
    "### Standardize Times with the HTML5 datetime Attribute"
   ]
  },
  {
   "cell_type": "markdown",
   "metadata": {},
   "source": [
    "Continuing with the date theme, HTML5 also introduced the `time` element along with a `datetime` attribute to standardize times. This is an inline element that can wrap a date or time on a page. A valid format of that date is held by the `datetime` attribute. This is the value accessed by assistive devices. It helps avoid confusion by stating a standardized version of a time, even if it's written in an informal or colloquial manner in the text.\n",
    "\n",
    "Here's an example:\n",
    "\n",
    "`<p>Master Camper Cat officiated the cage match between Goro and Scorpion <time datetime=\"2013-02-13\">last Wednesday</time>, which ended in a draw.</p>`\n",
    "\n",
    "---\n",
    "Camper Cat's Mortal Kombat survey results are in! Wrap a `time` tag around the text \"Thursday, September 15<sup>th</sup>\" and add a `datetime` attribute to it set to \"2016-09-15\"."
   ]
  },
  {
   "cell_type": "markdown",
   "metadata": {},
   "source": [
    "```HTML\n",
    "<body>\n",
    "  <header>\n",
    "    <h1>Tournaments</h1>\n",
    "  </header>\n",
    "  <article>\n",
    "    <h2>Mortal Kombat Tournament Survey Results</h2>\n",
    "\n",
    "    <!-- Add your code below this line -->\n",
    "\n",
    "    <p>Thank you to everyone for responding to Master Camper Cat's survey. The best day to host the vaunted Mortal Kombat tournament is <time datetime=\"2016-09-15\">Thursday, September 15<sup>th</sup></time>. May the best ninja win!</p>\n",
    "\n",
    "    <!-- Add your code above this line -->\n",
    "\n",
    "    <section>\n",
    "      <h3>Comments:</h3>\n",
    "      <article>\n",
    "        <p>Posted by: Sub-Zero on <time datetime=\"2016-08-13T20:01Z\">August 13<sup>th</sup></time></p>\n",
    "        <p>Johnny Cage better be there, I'll finish him!</p>\n",
    "      </article>\n",
    "      <article>\n",
    "        <p>Posted by: Doge on <time datetime=\"2016-08-15T08:12Z\">August 15<sup>th</sup></time></p>\n",
    "        <p>Wow, much combat, so mortal.</p>\n",
    "      </article>\n",
    "      <article>\n",
    "        <p>Posted by: The Grim Reaper on <time datetime=\"2016-08-16T00:00Z\">August 16<sup>th</sup></time></p>\n",
    "        <p>Looks like I'll be busy that day.</p>\n",
    "      </article>\n",
    "    </section>\n",
    "  </article>\n",
    "  <footer>&copy; 2018 Camper Cat</footer>\n",
    "</body>\n",
    "```"
   ]
  },
  {
   "cell_type": "code",
   "execution_count": 15,
   "metadata": {},
   "outputs": [
    {
     "data": {
      "text/html": [
       "\n",
       "        <iframe\n",
       "            width=\"100%\"\n",
       "            height=\"250\"\n",
       "            src=\"./source-solution/04-applied-accessibility/013-standardize-times-with-the-html5-datetime-attribute.html\"\n",
       "            frameborder=\"0\"\n",
       "            allowfullscreen\n",
       "        ></iframe>\n",
       "        "
      ],
      "text/plain": [
       "<IPython.lib.display.IFrame at 0x7efdcf75b908>"
      ]
     },
     "execution_count": 15,
     "metadata": {},
     "output_type": "execute_result"
    }
   ],
   "source": [
    "IFrame('./source-solution/04-applied-accessibility/013-standardize-times-with-the-html5-datetime-attribute.html', '100%', 250)"
   ]
  },
  {
   "cell_type": "markdown",
   "metadata": {},
   "source": [
    "### Make Elements Only Visible to a Screen Reader by Using Custom CSS"
   ]
  },
  {
   "cell_type": "markdown",
   "metadata": {},
   "source": [
    "Have you noticed that all of the applied accessibility challenges so far haven't used any CSS? This is to show the importance of a logical document outline, and using semantically meaningful tags around your content before introducing the visual design aspect.\n",
    "\n",
    "However, CSS's magic can also improve accessibility on your page when you want to visually hide content meant only for screen readers. This happens when information is in a visual format (like a chart), but screen reader users need an alternative presentation (like a table) to access the data. CSS is used to position the screen reader-only elements off the visual area of the browser window.\n",
    "\n",
    "Here's an example of the CSS rules that accomplish this:\n",
    "\n",
    "```HTML\n",
    ".sr-only {\n",
    "  position: absolute;\n",
    "  left: -10000px;\n",
    "  width: 1px;\n",
    "  height: 1px;\n",
    "  top: auto;\n",
    "  overflow: hidden;\n",
    "}\n",
    "```\n",
    "\n",
    "**Note:** The following CSS approaches will NOT do the same thing:\n",
    "\n",
    "* `display: none;` or `visibility: hidden;` hides content for everyone, including screen reader users\n",
    "* Zero values for pixel sizes, such as `width: 0px; height: 0px;` removes that element from the flow of your document, meaning screen readers will ignore it\n",
    "\n",
    "---\n",
    "Camper Cat created a really cool stacked bar chart for his training page, and put the data into a table for his visually impaired users. The table already has an `sr-only` class, but the CSS rules aren't filled in yet. Give the  `position`an absolute value, the `left` a -10000px value, and the `width` and `height` both 1px values."
   ]
  },
  {
   "cell_type": "markdown",
   "metadata": {},
   "source": [
    "```HTML\n",
    "<head>\n",
    "  <style>\n",
    "  .sr-only {\n",
    "    position: absolute;\n",
    "    left: -10000px;\n",
    "    width: 1px;\n",
    "    height: 1px;\n",
    "    top: auto;\n",
    "    overflow: hidden;\n",
    "  }\n",
    "  </style>\n",
    "</head>\n",
    "<body>\n",
    "  <header>\n",
    "    <h1>Training</h1>\n",
    "    <nav>\n",
    "      <ul>\n",
    "        <li><a href=\"#stealth\">Stealth &amp; Agility</a></li>\n",
    "        <li><a href=\"#combat\">Combat</a></li>\n",
    "        <li><a href=\"#weapons\">Weapons</a></li>\n",
    "      </ul>\n",
    "    </nav>\n",
    "  </header>\n",
    "  <section>\n",
    "    <h2>Master Camper Cat's Beginner Three Week Training Program</h2>\n",
    "    <figure>\n",
    "      <!-- Stacked bar chart of weekly training-->\n",
    "      <p>[Stacked bar chart]</p>\n",
    "      <br />\n",
    "      <figcaption>Breakdown per week of time to spend training in stealth, combat, and weapons.</figcaption>\n",
    "    </figure>\n",
    "    <table class=\"sr-only\">\n",
    "      <caption>Hours of Weekly Training in Stealth, Combat, and Weapons</caption>\n",
    "      <thead>\n",
    "        <tr>\n",
    "          <th></th>\n",
    "          <th scope=\"col\">Stealth &amp; Agility</th>\n",
    "          <th scope=\"col\">Combat</th>\n",
    "          <th scope=\"col\">Weapons</th>\n",
    "          <th scope=\"col\">Total</th>\n",
    "        </tr>\n",
    "      </thead>\n",
    "      <tbody>\n",
    "        <tr>\n",
    "          <th scope=\"row\">Week One</th>\n",
    "          <td>3</td>\n",
    "          <td>5</td>\n",
    "          <td>2</td>\n",
    "          <td>10</td>\n",
    "        </tr>\n",
    "        <tr>\n",
    "          <th scope=\"row\">Week Two</th>\n",
    "          <td>4</td>\n",
    "          <td>5</td>\n",
    "          <td>3</td>\n",
    "          <td>12</td>\n",
    "        </tr>\n",
    "        <tr>\n",
    "          <th scope=\"row\">Week Three</th>\n",
    "          <td>4</td>\n",
    "          <td>6</td>\n",
    "          <td>3</td>\n",
    "          <td>13</td>\n",
    "        </tr>\n",
    "      </tbody>\n",
    "    </table>\n",
    "  </section>\n",
    "  <section id=\"stealth\">\n",
    "    <h2>Stealth &amp; Agility Training</h2>\n",
    "    <article><h3>Climb foliage quickly using a minimum spanning tree approach</h3></article>\n",
    "    <article><h3>No training is NP-complete without parkour</h3></article>\n",
    "  </section>\n",
    "  <section id=\"combat\">\n",
    "    <h2>Combat Training</h2>\n",
    "    <article><h3>Dispatch multiple enemies with multithreaded tactics</h3></article>\n",
    "    <article><h3>Goodbye, world: 5 proven ways to knock out an opponent</h3></article>\n",
    "  </section>\n",
    "  <section id=\"weapons\">\n",
    "    <h2>Weapons Training</h2>\n",
    "    <article><h3>Swords: the best tool to literally divide and conquer</h3></article>\n",
    "    <article><h3>Breadth-first or depth-first in multi-weapon training?</h3></article>\n",
    "  </section>\n",
    "  <footer>&copy; 2018 Camper Cat</footer>\n",
    "</body>\n",
    "```"
   ]
  },
  {
   "cell_type": "code",
   "execution_count": 16,
   "metadata": {},
   "outputs": [
    {
     "data": {
      "text/html": [
       "\n",
       "        <iframe\n",
       "            width=\"100%\"\n",
       "            height=\"250\"\n",
       "            src=\"./source-solution/04-applied-accessibility/014-make-elements-only-visible-to-a-screen-reader-by-using-custom-css.html\"\n",
       "            frameborder=\"0\"\n",
       "            allowfullscreen\n",
       "        ></iframe>\n",
       "        "
      ],
      "text/plain": [
       "<IPython.lib.display.IFrame at 0x7efdcf75bc88>"
      ]
     },
     "execution_count": 16,
     "metadata": {},
     "output_type": "execute_result"
    }
   ],
   "source": [
    "IFrame('./source-solution/04-applied-accessibility/014-make-elements-only-visible-to-a-screen-reader-by-using-custom-css.html', '100%', 250)"
   ]
  },
  {
   "cell_type": "markdown",
   "metadata": {},
   "source": [
    "### Improve Readability with High Contrast Text"
   ]
  },
  {
   "cell_type": "markdown",
   "metadata": {},
   "source": [
    "Low contrast between the foreground and background colors can make text difficult to read. Sufficient contrast improves the readability of your content, but what exactly does \"sufficient\" mean?\n",
    "\n",
    "The Web Content Accessibility Guidelines (WCAG) recommend at least a 4.5 to 1 contrast ratio for normal text. The ratio is calculated by comparing the relative luminance values of two colors. This ranges from 1:1 for the same color, or no contrast, to 21:1 for white against black, the strongest contrast. There are many contrast checking tools available online that calculate this ratio for you.\n",
    "\n",
    "---\n",
    "Camper Cat's choice of light gray text on a white background for his recent blog post has a 1.5:1 contrast ratio, making it hard to read. Change the `color` of the text from the current gray (`#D3D3D3`) to a darker gray (`#636363`) to improve the contrast ratio to 6:1."
   ]
  },
  {
   "cell_type": "markdown",
   "metadata": {},
   "source": [
    "```HTML\n",
    "<head>\n",
    "  <style>\n",
    "  body {\n",
    "    color: #636363;\n",
    "    background-color: #FFF;\n",
    "  }\n",
    "  </style>\n",
    "</head>\n",
    "<body>\n",
    "  <header>\n",
    "    <h1>Deep Thoughts with Master Camper Cat</h1>\n",
    "  </header>\n",
    "  <article>\n",
    "    <h2>A Word on the Recent Catnip Doping Scandal</h2>\n",
    "    <p>The influence that catnip has on feline behavior is well-documented, and its use as an herbal supplement in competitive ninja circles remains controversial. Once again, the debate to ban the substance is brought to the public's attention after the high-profile win of Kittytron, a long-time proponent and user of the green stuff, at the Claw of Fury tournament.</p>\n",
    "    <p>As I've stated in the past, I firmly believe a true ninja's skills must come from within, with no external influences. My own catnip use shall continue as purely recreational.</p>\n",
    "  </article>\n",
    "</body>\n",
    "```"
   ]
  },
  {
   "cell_type": "code",
   "execution_count": 17,
   "metadata": {},
   "outputs": [
    {
     "data": {
      "text/html": [
       "\n",
       "        <iframe\n",
       "            width=\"100%\"\n",
       "            height=\"250\"\n",
       "            src=\"./source-solution/04-applied-accessibility/015-improve-readability-with-high-contrast-text.html\"\n",
       "            frameborder=\"0\"\n",
       "            allowfullscreen\n",
       "        ></iframe>\n",
       "        "
      ],
      "text/plain": [
       "<IPython.lib.display.IFrame at 0x7efdcf762080>"
      ]
     },
     "execution_count": 17,
     "metadata": {},
     "output_type": "execute_result"
    }
   ],
   "source": [
    "IFrame('./source-solution/04-applied-accessibility/015-improve-readability-with-high-contrast-text.html', '100%', 250)"
   ]
  },
  {
   "cell_type": "markdown",
   "metadata": {},
   "source": [
    "### Avoid Colorblindness Issues by Using Sufficient Contrast"
   ]
  },
  {
   "cell_type": "markdown",
   "metadata": {},
   "source": [
    "Color is a large part of visual design, but its use introduces two accessibility issues. First, color alone should not be used as the only way to convey important information because screen reader users won't see it. Second, foreground and background colors need sufficient contrast so colorblind users can distinguish them.\n",
    "\n",
    "Previous challenges covered having text alternatives to address the first issue. The last challenge introduced contrast checking tools to help with the second. The WCAG-recommended contrast ratio of 4.5:1 applies for color use as well as gray-scale combinations.\n",
    "\n",
    "Colorblind users have trouble distinguishing some colors from others - usually in hue but sometimes lightness as well. You may recall the contrast ratio is calculated using the relative luminance (or lightness) values of the foreground and background colors.\n",
    "\n",
    "In practice, the 4.5:1 contrast ratio can be reached by shading (adding black to) the darker color and tinting (adding white to) the lighter color. Darker shades on the color wheel are considered to be shades of blues, violets, magentas, and reds, whereas lighter tinted colors are oranges, yellows, greens, and blue-greens.\n",
    "\n",
    "---\n",
    "Camper Cat is experimenting with using color for his blog text and background, but his current combination of a greenish `background-color` with maroon text `color` has a 2.5:1 contrast ratio. You can easily adjust the lightness of the colors since he declared them using the CSS `hsl()` property (which stands for hue, saturation, lightness) by changing the third argument. Increase the `background-color` lightness value from 35% to 55%, and decrease the `color` lightness value from 20% to 15%. This improves the contrast to 5.9:1."
   ]
  },
  {
   "cell_type": "markdown",
   "metadata": {},
   "source": [
    "```HTML\n",
    "<head>\n",
    "  <style>\n",
    "  body {\n",
    "    color: hsl(0, 55%, 15%);\n",
    "    background-color: hsl(120, 25%, 55%);\n",
    "  }\n",
    "  </style>\n",
    "</head>\n",
    "<body>\n",
    "  <header>\n",
    "    <h1>Deep Thoughts with Master Camper Cat</h1>\n",
    "  </header>\n",
    "  <article>\n",
    "    <h2>A Word on the Recent Catnip Doping Scandal</h2>\n",
    "    <p>The influence that catnip has on feline behavior is well-documented, and its use as an herbal supplement in competitive ninja circles remains controversial. Once again, the debate to ban the substance is brought to the public's attention after the high-profile win of Kittytron, a long-time proponent and user of the green stuff, at the Claw of Fury tournament.</p>\n",
    "    <p>As I've stated in the past, I firmly believe a true ninja's skills must come from within, with no external influences. My own catnip use shall continue as purely recreational.</p>\n",
    "  </article>\n",
    "</body>\n",
    "```"
   ]
  },
  {
   "cell_type": "code",
   "execution_count": 18,
   "metadata": {},
   "outputs": [
    {
     "data": {
      "text/html": [
       "\n",
       "        <iframe\n",
       "            width=\"100%\"\n",
       "            height=\"250\"\n",
       "            src=\"./source-solution/04-applied-accessibility/016-avoid-colorblindness-issues-by-using-sufficient-contrast.html\"\n",
       "            frameborder=\"0\"\n",
       "            allowfullscreen\n",
       "        ></iframe>\n",
       "        "
      ],
      "text/plain": [
       "<IPython.lib.display.IFrame at 0x7efdcf7a6e48>"
      ]
     },
     "execution_count": 18,
     "metadata": {},
     "output_type": "execute_result"
    }
   ],
   "source": [
    "IFrame('./source-solution/04-applied-accessibility/016-avoid-colorblindness-issues-by-using-sufficient-contrast.html', '100%', 250)"
   ]
  },
  {
   "cell_type": "markdown",
   "metadata": {},
   "source": [
    "### Avoid Colorblindness Issues by Carefully Choosing Colors that Convey Information"
   ]
  },
  {
   "cell_type": "markdown",
   "metadata": {},
   "source": [
    "There are various forms of colorblindness. These can range from a reduced sensitivity to a certain wavelength of light to the inability to see color at all. The most common form is a reduced sensitivity to detect greens.\n",
    "\n",
    "For example, if two similar green colors are the foreground and background color of your content, a colorblind user may not be able to distinguish them. Close colors can be thought of as neighbors on the color wheel, and those combinations should be avoided when conveying important information.\n",
    "\n",
    "**Note:** Some online color picking tools include visual simulations of how colors appear for different types of colorblindness. These are great resources in addition to online contrast checking calculators.\n",
    "\n",
    "---\n",
    "Camper Cat is testing different styles for an important button, but the yellow (`#FFFF33`) `background-color` and the green (`#33FF33`) text `color` are neighboring hues on the color wheel and virtually indistinguishable for some colorblind users. (Their similar lightness also fails the contrast ratio check). Change the text `color` to a dark blue (`#003366`) to solve both problems."
   ]
  },
  {
   "cell_type": "markdown",
   "metadata": {},
   "source": [
    "```HTML\n",
    "<head>\n",
    "  <style>\n",
    "  button {\n",
    "    color: #003366;\n",
    "    background-color: #FFFF33;\n",
    "    font-size: 14px;\n",
    "    padding: 10px;\n",
    "  }\n",
    "  </style>\n",
    "</head>\n",
    "<body>\n",
    "  <header>\n",
    "    <h1>Danger!</h1>\n",
    "  </header>\n",
    "  <button>Delete Internet</button>\n",
    "</body>\n",
    "```"
   ]
  },
  {
   "cell_type": "code",
   "execution_count": 19,
   "metadata": {},
   "outputs": [
    {
     "data": {
      "text/html": [
       "\n",
       "        <iframe\n",
       "            width=\"100%\"\n",
       "            height=\"250\"\n",
       "            src=\"./source-solution/04-applied-accessibility/017-avoid-colorblindness-issues-by-carefully-choosing-colors-that-convey-information.html\"\n",
       "            frameborder=\"0\"\n",
       "            allowfullscreen\n",
       "        ></iframe>\n",
       "        "
      ],
      "text/plain": [
       "<IPython.lib.display.IFrame at 0x7efdcf75b048>"
      ]
     },
     "execution_count": 19,
     "metadata": {},
     "output_type": "execute_result"
    }
   ],
   "source": [
    "IFrame('./source-solution/04-applied-accessibility/017-avoid-colorblindness-issues-by-carefully-choosing-colors-that-convey-information.html', '100%', 250)"
   ]
  },
  {
   "cell_type": "markdown",
   "metadata": {},
   "source": [
    "### Give Links Meaning by Using Descriptive Link Text"
   ]
  },
  {
   "cell_type": "markdown",
   "metadata": {},
   "source": [
    "Screen reader users have different options for what type of content their device reads. This includes skipping to (or over) landmark elements, jumping to the main content, or getting a page summary from the headings. Another option is to only hear the links available on a page.\n",
    "\n",
    "Screen readers do this by reading the link text, or what's between the anchor (`a`) tags. Having a list of \"click here\" or \"read more\" links isn't helpful. Instead, you should use brief but descriptive text within the `a` tags to provide more meaning for these users.\n",
    "\n",
    "---\n",
    "The link text that Camper Cat is using is not very descriptive without the surrounding context. Move the anchor (`a`) tags so they wrap around the text \"information about batteries\" instead of \"Click here\"."
   ]
  },
  {
   "cell_type": "markdown",
   "metadata": {},
   "source": [
    "```HTML\n",
    "<body>\n",
    "  <header>\n",
    "    <h1>Deep Thoughts with Master Camper Cat</h1>\n",
    "  </header>\n",
    "  <article>\n",
    "    <h2>Defeating your Foe: the Red Dot is Ours!</h2>\n",
    "    <p>Felines the world over have been waging war on the most persistent of foes. This red nemesis combines both cunning stealth and lightening speed. But chin up, fellow fighters, our time for victory may soon be near. Click here for <a href=\"\">information about batteries</a></p>\n",
    "  </article>\n",
    "</body>\n",
    "```"
   ]
  },
  {
   "cell_type": "code",
   "execution_count": 20,
   "metadata": {},
   "outputs": [
    {
     "data": {
      "text/html": [
       "\n",
       "        <iframe\n",
       "            width=\"100%\"\n",
       "            height=\"250\"\n",
       "            src=\"./source-solution/04-applied-accessibility/018-give-links-meaning-by-using-descriptive-link-text.html\"\n",
       "            frameborder=\"0\"\n",
       "            allowfullscreen\n",
       "        ></iframe>\n",
       "        "
      ],
      "text/plain": [
       "<IPython.lib.display.IFrame at 0x7efdcf75b7b8>"
      ]
     },
     "execution_count": 20,
     "metadata": {},
     "output_type": "execute_result"
    }
   ],
   "source": [
    "IFrame('./source-solution/04-applied-accessibility/018-give-links-meaning-by-using-descriptive-link-text.html', '100%', 250)"
   ]
  },
  {
   "cell_type": "markdown",
   "metadata": {},
   "source": [
    "### Make Links Navigable with HTML Access Keys"
   ]
  },
  {
   "cell_type": "markdown",
   "metadata": {},
   "source": [
    "HTML offers the `accesskey` attribute to specify a shortcut key to activate or bring focus to an element. This can make navigation more efficient for keyboard-only users.\n",
    "\n",
    "HTML5 allows this attribute to be used on any element, but it's particularly useful when it's used with interactive ones. This includes links, buttons, and form controls.\n",
    "\n",
    "Here's an example:\n",
    "\n",
    "`<button accesskey=\"b\">Important Button</button>`\n",
    "\n",
    "---\n",
    "Camper Cat wants the links around the two blog article titles to have keyboard shortcuts so his site's users can quickly navigate to the full story. Add an `accesskey` attribute to both links and set the first one to \"g\" (for Garfield) and the second one to \"c\" (for Chuck Norris)."
   ]
  },
  {
   "cell_type": "markdown",
   "metadata": {},
   "source": [
    "```HTML\n",
    "<body>\n",
    "  <header>\n",
    "    <h1>Deep Thoughts with Master Camper Cat</h1>\n",
    "  </header>\n",
    "  <article>\n",
    "\n",
    "\n",
    "    <h2><a id=\"first\" href=\"#\" accesskey=\"g\">The Garfield Files: Lasagna as Training Fuel?</a></h2>\n",
    "\n",
    "\n",
    "    <p>The internet is littered with varying opinions on nutritional paradigms, from catnip paleo to hairball cleanses. But let's turn our attention to an often overlooked fitness fuel, and examine the protein-carb-NOM trifecta that is lasagna...</p>\n",
    "  </article>\n",
    "  <article>\n",
    "\n",
    "\n",
    "    <h2><a id=\"second\" href=\"#\" accesskey=\"c\">Is Chuck Norris a Cat Person?</a></h2>\n",
    "\n",
    "\n",
    "    <p>Chuck Norris is widely regarded as the premier martial artist on the planet, and it's a complete coincidence anyone who disagrees with this fact mysteriously disappears soon after. But the real question is, is he a cat person?...</p>\n",
    "  </article>\n",
    "  <footer>&copy; 2018 Camper Cat</footer>\n",
    "</body>\n",
    "```"
   ]
  },
  {
   "cell_type": "code",
   "execution_count": 21,
   "metadata": {},
   "outputs": [
    {
     "data": {
      "text/html": [
       "\n",
       "        <iframe\n",
       "            width=\"100%\"\n",
       "            height=\"250\"\n",
       "            src=\"./source-solution/04-applied-accessibility/019-make-links-navigable-with-html-access-keys.html\"\n",
       "            frameborder=\"0\"\n",
       "            allowfullscreen\n",
       "        ></iframe>\n",
       "        "
      ],
      "text/plain": [
       "<IPython.lib.display.IFrame at 0x7efdcf75b0b8>"
      ]
     },
     "execution_count": 21,
     "metadata": {},
     "output_type": "execute_result"
    }
   ],
   "source": [
    "IFrame('./source-solution/04-applied-accessibility/019-make-links-navigable-with-html-access-keys.html', '100%', 250)"
   ]
  },
  {
   "cell_type": "markdown",
   "metadata": {},
   "source": [
    "### Use tabindex to Add Keyboard Focus to an Element"
   ]
  },
  {
   "cell_type": "markdown",
   "metadata": {},
   "source": [
    "The HTML `tabindex` attribute has three distinct functions relating to an element's keyboard focus. When it's on a tag, it indicates that element can be focused on. The value (an integer that's positive, negative, or zero) determines the behavior.\n",
    "\n",
    "Certain elements, such as links and form controls, automatically receive keyboard focus when a user tabs through a page. It's in the same order as the elements come in the HTML source markup. This same functionality can be given to other elements, such as `div`, `span`, and `p`, by placing a `tabindex=\"0\"` attribute on them. Here's an example:\n",
    "\n",
    "`<div tabindex=\"0\">I need keyboard focus!</div>`\n",
    "\n",
    "Note: A negative `tabindex` value (typically -1) indicates that an element is focusable, but is not reachable by the keyboard. This method is generally used to bring focus to content programmatically (like when a `div` used for a pop-up window is activated), and is beyond the scope of these challenges.\n",
    "\n",
    "---\n",
    "Camper Cat created a new survey to collect information about his users. He knows input fields automatically get keyboard focus, but he wants to make sure his keyboard users pause at the instructions while tabbing through the items. Add a `tabindex` attribute to the `p` tag and set its value to \"0\". Bonus - using `tabindex` also enables the CSS pseudo-class `:focus` to work on the `p` tag."
   ]
  },
  {
   "cell_type": "markdown",
   "metadata": {},
   "source": [
    "```HTML\n",
    "<head>\n",
    "  <style>\n",
    "  p:focus {\n",
    "    background-color: yellow;\n",
    "  }\n",
    "  </style>\n",
    "</head>\n",
    "<body>\n",
    "  <header>\n",
    "    <h1>Ninja Survey</h1>\n",
    "  </header>\n",
    "  <section>\n",
    "    <form>\n",
    "\n",
    "\n",
    "      <p tabindex=\"0\">Instructions: Fill in ALL your information then click <b>Submit</b></p>\n",
    "\n",
    "\n",
    "      <label for=\"username\">Username:</label>\n",
    "      <input type=\"text\" id=\"username\" name=\"username\"><br>\n",
    "      <fieldset>\n",
    "        <legend>What level ninja are you?</legend>\n",
    "        <input id=\"newbie\" type=\"radio\" name=\"levels\" value=\"newbie\">\n",
    "        <label for=\"newbie\">Newbie Kitten</label><br>\n",
    "        <input id=\"intermediate\" type=\"radio\" name=\"levels\" value=\"intermediate\">\n",
    "        <label for=\"intermediate\">Developing Student</label><br>\n",
    "        <input id=\"master\" type=\"radio\" name=\"levels\" value=\"master\">\n",
    "        <label for=\"master\">9th Life Master</label>\n",
    "      </fieldset>\n",
    "      <br>\n",
    "      <fieldset>\n",
    "      <legend>Select your favorite weapons:</legend>\n",
    "      <input id=\"stars\" type=\"checkbox\" name=\"weapons\" value=\"stars\">\n",
    "      <label for=\"stars\">Throwing Stars</label><br>\n",
    "      <input id=\"nunchucks\" type=\"checkbox\" name=\"weapons\" value=\"nunchucks\">\n",
    "      <label for=\"nunchucks\">Nunchucks</label><br>\n",
    "      <input id=\"sai\" type=\"checkbox\" name=\"weapons\" value=\"sai\">\n",
    "      <label for=\"sai\">Sai Set</label><br>\n",
    "      <input id=\"sword\" type=\"checkbox\" name=\"weapons\" value=\"sword\">\n",
    "      <label for=\"sword\">Sword</label>\n",
    "      </fieldset>\n",
    "      <br>\n",
    "      <input type=\"submit\" name=\"submit\" value=\"Submit\">\n",
    "    </form><br>\n",
    "  </section>\n",
    "  <footer>&copy; 2018 Camper Cat</footer>\n",
    "</body>\n",
    "```"
   ]
  },
  {
   "cell_type": "code",
   "execution_count": 22,
   "metadata": {},
   "outputs": [
    {
     "data": {
      "text/html": [
       "\n",
       "        <iframe\n",
       "            width=\"100%\"\n",
       "            height=\"250\"\n",
       "            src=\"./source-solution/04-applied-accessibility/020-use-tabindex-to-add-keyboard-focus-to-an-element.html\"\n",
       "            frameborder=\"0\"\n",
       "            allowfullscreen\n",
       "        ></iframe>\n",
       "        "
      ],
      "text/plain": [
       "<IPython.lib.display.IFrame at 0x7efdcf762048>"
      ]
     },
     "execution_count": 22,
     "metadata": {},
     "output_type": "execute_result"
    }
   ],
   "source": [
    "IFrame('./source-solution/04-applied-accessibility/020-use-tabindex-to-add-keyboard-focus-to-an-element.html', '100%', 250)"
   ]
  },
  {
   "cell_type": "markdown",
   "metadata": {},
   "source": [
    "### Use tabindex to Specify the Order of Keyboard Focus for Several Elements"
   ]
  },
  {
   "cell_type": "markdown",
   "metadata": {},
   "source": [
    "The `tabindex` attribute also specifies the exact tab order of elements. This is achieved when the value of the attribute is set to a positive number of 1 or higher.\n",
    "\n",
    "Setting a tabindex=\"1\" will bring keyboard focus to that element first. Then it cycles through the sequence of specified `tabindex` values (2, 3, etc.), before moving to default and `tabindex=\"0\"` items.\n",
    "\n",
    "It's important to note that when the tab order is set this way, it overrides the default order (which uses the HTML source). This may confuse users who are expecting to start navigation from the top of the page. This technique may be necessary in some circumstances, but in terms of accessibility, take care before applying it.\n",
    "\n",
    "Here's an example:\n",
    "\n",
    "`<div tabindex=\"1\">I get keyboard focus, and I get it first!</div>`\n",
    "\n",
    "`<div tabindex=\"2\">I get keyboard focus, and I get it second!</div>`\n",
    "\n",
    "---\n",
    "Camper Cat has a search field on his Inspirational Quotes page that he plans to position in the upper right corner with CSS. He wants the search `input` and submit `input` form controls to be the first two items in the tab order. Add a `tabindex` attribute set to \"1\" to the search `input` , and a `tabindex` attribute set to \"2\" to the submit `input`."
   ]
  },
  {
   "cell_type": "markdown",
   "metadata": {},
   "source": [
    "```HTML\n",
    "<body>\n",
    "  <header>\n",
    "    <h1>Even Deeper Thoughts with Master Camper Cat</h1>\n",
    "    <nav>\n",
    "      <ul>\n",
    "        <li><a href=\"\">Home</a></li>\n",
    "        <li><a href=\"\">Blog</a></li>\n",
    "        <li><a href=\"\">Training</a></li>\n",
    "      </ul>\n",
    "    </nav>\n",
    "  </header>\n",
    "  <form>\n",
    "    <label for=\"search\">Search:</label>\n",
    "\n",
    "\n",
    "    <input type=\"search\" name=\"search\" id=\"search\" tabindex=\"1\">\n",
    "    <input type=\"submit\" name=\"submit\" value=\"Submit\" id=\"submit\" tabindex=\"2\">\n",
    "\n",
    "\n",
    "  </form>\n",
    "  <h2>Inspirational Quotes</h2>\n",
    "  <blockquote>\n",
    "    <p>&ldquo;There's no Theory of Evolution, just a list of creatures I've allowed to live.&rdquo;<br>\n",
    "    - Chuck Norris</p>\n",
    "  </blockquote>\n",
    "  <blockquote>\n",
    "    <p>&ldquo;Wise men say forgiveness is divine, but never pay full price for late pizza.&rdquo;<br>\n",
    "    - TMNT</p>\n",
    "  </blockquote>\n",
    "  <footer>&copy; 2018 Camper Cat</footer>\n",
    "</body>\n",
    "```"
   ]
  },
  {
   "cell_type": "code",
   "execution_count": 23,
   "metadata": {
    "scrolled": true
   },
   "outputs": [
    {
     "data": {
      "text/html": [
       "\n",
       "        <iframe\n",
       "            width=\"100%\"\n",
       "            height=\"250\"\n",
       "            src=\"./source-solution/04-applied-accessibility/021-use-tabindex-to-specify-the-order-of-keyboard-focus-for-several-elements.html\"\n",
       "            frameborder=\"0\"\n",
       "            allowfullscreen\n",
       "        ></iframe>\n",
       "        "
      ],
      "text/plain": [
       "<IPython.lib.display.IFrame at 0x7efdcf7622b0>"
      ]
     },
     "execution_count": 23,
     "metadata": {},
     "output_type": "execute_result"
    }
   ],
   "source": [
    "IFrame('./source-solution/04-applied-accessibility/021-use-tabindex-to-specify-the-order-of-keyboard-focus-for-several-elements.html', '100%', 250)"
   ]
  },
  {
   "cell_type": "code",
   "execution_count": null,
   "metadata": {},
   "outputs": [],
   "source": []
  }
 ],
 "metadata": {
  "kernelspec": {
   "display_name": "Python 3",
   "language": "python",
   "name": "python3"
  },
  "language_info": {
   "codemirror_mode": {
    "name": "ipython",
    "version": 3
   },
   "file_extension": ".py",
   "mimetype": "text/x-python",
   "name": "python",
   "nbconvert_exporter": "python",
   "pygments_lexer": "ipython3",
   "version": "3.7.1"
  },
  "toc": {
   "base_numbering": 1,
   "nav_menu": {
    "height": "506px",
    "width": "671px"
   },
   "number_sections": true,
   "sideBar": true,
   "skip_h1_title": false,
   "title_cell": "Table of Contents",
   "title_sidebar": "Contents",
   "toc_cell": false,
   "toc_position": {
    "height": "752px",
    "left": "28px",
    "top": "54px",
    "width": "579.594px"
   },
   "toc_section_display": true,
   "toc_window_display": true
  }
 },
 "nbformat": 4,
 "nbformat_minor": 2
}
