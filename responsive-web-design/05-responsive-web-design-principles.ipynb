{
 "cells": [
  {
   "cell_type": "code",
   "execution_count": 6,
   "metadata": {},
   "outputs": [],
   "source": [
    "from IPython.display import IFrame"
   ]
  },
  {
   "cell_type": "markdown",
   "metadata": {},
   "source": [
    "# Responsive Web Design Certification"
   ]
  },
  {
   "cell_type": "markdown",
   "metadata": {},
   "source": [
    "## Responsive Web Design Principles"
   ]
  },
  {
   "cell_type": "markdown",
   "metadata": {},
   "source": [
    "### Introduction to the Responsive Web Design Challenges"
   ]
  },
  {
   "cell_type": "markdown",
   "metadata": {},
   "source": [
    "Today, there are many types of devices that can access the web. They range from large desktop computers to small mobile phones. These devices have different screen sizes, resolutions, and processing power. Responsive Web Design is an approach to designing web content that responds to the constraints of different devices. The page structure and CSS rules should be flexible to accommodate these differences. In general, design the page's CSS to your target audience. If you expect most of your traffic to be from mobile users, take a 'mobile-first' approach. Then add conditional rules for larger screen sizes. If your visitors are desktop users, then design for larger screens with conditional rules for smaller sizes. CSS gives you the tools to write different style rules, then apply them depending on the device displaying the page. This section will cover the basic ways to use CSS for Responsive Web Design."
   ]
  },
  {
   "cell_type": "markdown",
   "metadata": {},
   "source": [
    "### Create a Media Query"
   ]
  },
  {
   "cell_type": "markdown",
   "metadata": {},
   "source": [
    "Media Queries are a new technique introduced in CSS3 that change the presentation of content based on different viewport sizes. The viewport is a user's visible area of a web page, and is different depending on the device used to access the site.\n",
    "\n",
    "Media Queries consist of a media type, and if that media type matches the type of device the document is displayed on, the styles are applied. You can have as many selectors and styles inside your media query as you want.\n",
    "\n",
    "Here's an example of a media query that returns the content when the device's width is less than or equal to 100px:\n",
    "\n",
    "`@media (max-width: 100px) { /* CSS Rules */ }`\n",
    "\n",
    "and the following media query returns the content when the device's height is more than or equal to 350px:\n",
    "\n",
    "`@media (min-height: 350px) { /* CSS Rules */ }`\n",
    "\n",
    "Remember, the CSS inside the media query is applied only if the media type matches that of the device being used.\n",
    "\n",
    "---\n",
    "Add a media query, so that the `p` tag has a `font-size` of 10px when the device's height is less than or equal to 800px."
   ]
  },
  {
   "cell_type": "markdown",
   "metadata": {},
   "source": [
    "```HTML\n",
    "<style>\n",
    "  p {\n",
    "    font-size: 20px;\n",
    "  }\n",
    "\n",
    "  /* Add media query below */\n",
    "  @media (max-height: 800px) {\n",
    "    p {\n",
    "      font-size: 10px;\n",
    "    }\n",
    "  }\n",
    "</style>\n",
    "\n",
    "<p>Lorem ipsum dolor sit amet, consectetur adipiscing elit. Vivamus quis tempus massa. Aenean erat nisl, gravida vel vestibulum cursus, interdum sit amet lectus. Sed sit amet quam nibh. Suspendisse quis tincidunt nulla. In hac habitasse platea dictumst. Ut sit amet pretium nisl. Vivamus vel mi sem. Aenean sit amet consectetur sem. Suspendisse pretium, purus et gravida consequat, nunc ligula ultricies diam, at aliquet velit libero a dui.</p>\n",
    "```"
   ]
  },
  {
   "cell_type": "code",
   "execution_count": 8,
   "metadata": {},
   "outputs": [
    {
     "data": {
      "text/html": [
       "\n",
       "        <iframe\n",
       "            width=\"100%\"\n",
       "            height=\"250\"\n",
       "            src=\"./source-solution/05-responsive-web-design-principles/000-create-a-media-query.html\"\n",
       "            frameborder=\"0\"\n",
       "            allowfullscreen\n",
       "        ></iframe>\n",
       "        "
      ],
      "text/plain": [
       "<IPython.lib.display.IFrame at 0x28c9d8aa7b8>"
      ]
     },
     "execution_count": 8,
     "metadata": {},
     "output_type": "execute_result"
    }
   ],
   "source": [
    "IFrame('./source-solution/05-responsive-web-design-principles/000-create-a-media-query.html', '100%', 250)"
   ]
  },
  {
   "cell_type": "markdown",
   "metadata": {},
   "source": [
    "### Make an Image Responsive"
   ]
  },
  {
   "cell_type": "markdown",
   "metadata": {},
   "source": [
    "Making images responsive with CSS is actually very simple. You just need to add these properties to an image:\n",
    "\n",
    "```HTML\n",
    "img {\n",
    "  max-width: 100%;\n",
    "  height: auto;\n",
    "}\n",
    "```\n",
    "\n",
    "The `max-width` of `100%` will make sure the image is never wider than the container it is in, and the `height` of `auto` will make the image keep its original aspect ratio.\n",
    "\n",
    "---\n",
    "Add the style rules to the `responsive-img` class to make it responsive. It should never be wider than its container (in this case, it's the preview window) and it should keep its original aspect ratio. After you have added your code, resize the preview to see how your images behave."
   ]
  },
  {
   "cell_type": "markdown",
   "metadata": {},
   "source": [
    "```HTML\n",
    "<style>\n",
    ".responsive-img {\n",
    "  max-width: 100%;\n",
    "  height: auto;\n",
    "}\n",
    "\n",
    "img {\n",
    "  width: 600px;\n",
    "}\n",
    "</style>\n",
    "\n",
    "<img class=\"responsive-img\" src=\"https://s3.amazonaws.com/freecodecamp/FCCStickerPack.jpg\" alt=\"freeCodeCamp stickers set\">\n",
    "<img src=\"https://s3.amazonaws.com/freecodecamp/FCCStickerPack.jpg\" alt=\"freeCodeCamp stickers set\">\n",
    "```"
   ]
  },
  {
   "cell_type": "code",
   "execution_count": 9,
   "metadata": {},
   "outputs": [
    {
     "data": {
      "text/html": [
       "\n",
       "        <iframe\n",
       "            width=\"100%\"\n",
       "            height=\"250\"\n",
       "            src=\"./source-solution/05-responsive-web-design-principles/001-make-an-image-responsive.html\"\n",
       "            frameborder=\"0\"\n",
       "            allowfullscreen\n",
       "        ></iframe>\n",
       "        "
      ],
      "text/plain": [
       "<IPython.lib.display.IFrame at 0x28c9d8f7a20>"
      ]
     },
     "execution_count": 9,
     "metadata": {},
     "output_type": "execute_result"
    }
   ],
   "source": [
    "IFrame('./source-solution/05-responsive-web-design-principles/001-make-an-image-responsive.html', '100%', 250)"
   ]
  },
  {
   "cell_type": "markdown",
   "metadata": {},
   "source": [
    "### Use a Retina Image for Higher Resolution Displays"
   ]
  },
  {
   "cell_type": "markdown",
   "metadata": {},
   "source": [
    "With the increase of internet connected devices, their sizes and specifications vary, and the displays they use could be different externally and internally. Pixel density is an aspect that could be different on one device from others and this density is known as Pixel Per Inch(PPI) or Dots Per Inch(DPI). The most famous such display is the one known as a \"Retina Display\" on the latest Apple MacBook Pro notebooks, and recently iMac computers. Due to the difference in pixel density between a \"Retina\" and \"Non-Retina\" displays, some images that have not been made with a High-Resolution Display in mind could look \"pixelated\" when rendered on a High-Resolution display.\n",
    "\n",
    "The simplest way to make your images properly appear on High-Resolution Displays, such as the MacBook Pros \"retina display\" is to define their `width` and `height` values as only half of what the original file is. Here is an example of an image that is only using half of the original height and width:\n",
    "\n",
    "```HTML\n",
    "<style>\n",
    "  img { height: 250px; width: 250px; }\n",
    "</style>\n",
    "<img src=\"coolPic500x500\" alt=\"A most excellent picture\">\n",
    "```\n",
    "\n",
    "---\n",
    "Set the `width` and `height` of the `img` tag to half of their original values. In this case, both the original `height` and the original `width` are 200px."
   ]
  },
  {
   "cell_type": "markdown",
   "metadata": {},
   "source": [
    "```HTML\n",
    "<style>\n",
    "    img{\n",
    "        height: 100px;\n",
    "        width: 100px;\n",
    "    }\n",
    "</style>\n",
    "\n",
    "<img src=\"https://s3.amazonaws.com/freecodecamp/FCCStickers-CamperBot200x200.jpg\" alt=\"freeCodeCamp sticker that says 'Because CamperBot Cares'\">\n",
    "```"
   ]
  },
  {
   "cell_type": "code",
   "execution_count": 10,
   "metadata": {},
   "outputs": [
    {
     "data": {
      "text/html": [
       "\n",
       "        <iframe\n",
       "            width=\"100%\"\n",
       "            height=\"250\"\n",
       "            src=\"./source-solution/05-responsive-web-design-principles/002-use-a-retina-image-for-higher-resolution-displays.html\"\n",
       "            frameborder=\"0\"\n",
       "            allowfullscreen\n",
       "        ></iframe>\n",
       "        "
      ],
      "text/plain": [
       "<IPython.lib.display.IFrame at 0x28c9d8f79e8>"
      ]
     },
     "execution_count": 10,
     "metadata": {},
     "output_type": "execute_result"
    }
   ],
   "source": [
    "IFrame('./source-solution/05-responsive-web-design-principles/002-use-a-retina-image-for-higher-resolution-displays.html', '100%', 250)"
   ]
  },
  {
   "cell_type": "markdown",
   "metadata": {},
   "source": [
    "### Make Typography Responsive"
   ]
  },
  {
   "cell_type": "markdown",
   "metadata": {},
   "source": [
    "Instead of using `em` or `px` to size text, you can use viewport units for responsive typography. Viewport units, like percentages, are relative units, but they are based off different items. Viewport units are relative to the viewport dimensions (width or height) of a device, and percentages are relative to the size of the parent container element.\n",
    "\n",
    "The four different viewport units are:\n",
    "\n",
    "* `vw` (viewport width): `10vw` would be 10% of the viewport's width.\n",
    "* `vh` (viewport height): `3vh` would be 3% of the viewport's height.\n",
    "* `vmin` (viewport minimum): `70vmin` would be 70% of the viewport's smaller dimension (height or width).\n",
    "* `vmax` (viewport maximum): `100vmax` would be 100% of the viewport's bigger dimension (height or width).\n",
    "Here is an example that sets a body tag to 30% of the viewport's width.\n",
    "\n",
    "`body { width: 30vw; }`\n",
    "\n",
    "---\n",
    "Set the `width` of the `h2` tag to 80% of the viewport's width and the `width`of the paragraph as 75% of the viewport's smaller dimension."
   ]
  },
  {
   "cell_type": "markdown",
   "metadata": {},
   "source": [
    "```HTML\n",
    "<style>\n",
    "    h2 {\n",
    "        width: 80vw;        \n",
    "    }\n",
    "\n",
    "    p {\n",
    "        width: 75vmin;\n",
    "    }\n",
    "</style>\n",
    "\n",
    "<h2>Importantus Ipsum</h2>\n",
    "<p>Lorem ipsum dolor sit amet, consectetur adipiscing elit. Vivamus quis tempus massa. Aenean erat nisl, gravida vel vestibulum cursus, interdum sit amet lectus. Sed sit amet quam nibh. Suspendisse quis tincidunt nulla. In hac habitasse platea dictumst. Ut sit amet pretium nisl. Vivamus vel mi sem. Aenean sit amet consectetur sem. Suspendisse pretium, purus et gravida consequat, nunc ligula ultricies diam, at aliquet velit libero a dui.</p>\n",
    "```"
   ]
  },
  {
   "cell_type": "code",
   "execution_count": 11,
   "metadata": {},
   "outputs": [
    {
     "data": {
      "text/html": [
       "\n",
       "        <iframe\n",
       "            width=\"100%\"\n",
       "            height=\"250\"\n",
       "            src=\"./source-solution/05-responsive-web-design-principles/003-make-typography-responsive.html\"\n",
       "            frameborder=\"0\"\n",
       "            allowfullscreen\n",
       "        ></iframe>\n",
       "        "
      ],
      "text/plain": [
       "<IPython.lib.display.IFrame at 0x28c9d8f7898>"
      ]
     },
     "execution_count": 11,
     "metadata": {},
     "output_type": "execute_result"
    }
   ],
   "source": [
    "IFrame('./source-solution/05-responsive-web-design-principles/003-make-typography-responsive.html', '100%', 250)"
   ]
  },
  {
   "cell_type": "code",
   "execution_count": null,
   "metadata": {},
   "outputs": [],
   "source": []
  }
 ],
 "metadata": {
  "kernelspec": {
   "display_name": "Python 3",
   "language": "python",
   "name": "python3"
  },
  "language_info": {
   "codemirror_mode": {
    "name": "ipython",
    "version": 3
   },
   "file_extension": ".py",
   "mimetype": "text/x-python",
   "name": "python",
   "nbconvert_exporter": "python",
   "pygments_lexer": "ipython3",
   "version": "3.7.1"
  },
  "toc": {
   "base_numbering": 1,
   "nav_menu": {},
   "number_sections": true,
   "sideBar": true,
   "skip_h1_title": false,
   "title_cell": "Table of Contents",
   "title_sidebar": "Contents",
   "toc_cell": false,
   "toc_position": {
    "height": "752px",
    "left": "28px",
    "top": "54px",
    "width": "248.594px"
   },
   "toc_section_display": true,
   "toc_window_display": true
  }
 },
 "nbformat": 4,
 "nbformat_minor": 2
}
