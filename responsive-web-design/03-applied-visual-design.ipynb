{
 "cells": [
  {
   "cell_type": "code",
   "execution_count": 6,
   "metadata": {},
   "outputs": [],
   "source": [
    "from IPython.display import IFrame"
   ]
  },
  {
   "cell_type": "markdown",
   "metadata": {},
   "source": [
    "# Responsive Web Design Certification"
   ]
  },
  {
   "cell_type": "markdown",
   "metadata": {},
   "source": [
    "## Applied Visual Design"
   ]
  },
  {
   "cell_type": "markdown",
   "metadata": {},
   "source": [
    "### Introduction to the Applied Visual Design Challenges"
   ]
  },
  {
   "cell_type": "markdown",
   "metadata": {},
   "source": [
    "Visual Design in web development is a broad topic. It combines typography, color theory, graphics, animation, and page layout to help deliver a site's message. The definition of good design is a well-discussed subject, with many books on the theme.\n",
    "\n",
    "At a basic level, most web content provides a user with information. The visual design of the page can influence its presentation and a user's experience. In web development, HTML gives structure and semantics to a page's content, and CSS controls the layout and appearance of it.\n",
    "\n",
    "This section covers some of the basic tools developers use to create their own visual designs."
   ]
  },
  {
   "cell_type": "markdown",
   "metadata": {},
   "source": [
    "### Create Visual Balance Using the text-align Property"
   ]
  },
  {
   "cell_type": "markdown",
   "metadata": {},
   "source": [
    "This section of the curriculum focuses on Applied Visual Design. The first group of challenges build on the given card layout to show a number of core principles.\n",
    "\n",
    "Text is often a large part of web content. CSS has several options for how to align it with the `text-align` property.\n",
    "\n",
    "`text-align: justify;` causes all lines of text except the last line to meet the left and right edges of the line box.\n",
    "\n",
    "`text-align: center;` centers the text\n",
    "\n",
    "`text-align: right;` right-aligns the text\n",
    "\n",
    "And `text-align: left;` (the default) left-aligns the text.\n",
    "\n",
    "---\n",
    "Align the `h4` tag's text, which says \"Google\", to the center. Then justify the paragraph tag which contains information about how Google was founded."
   ]
  },
  {
   "cell_type": "markdown",
   "metadata": {},
   "source": [
    "```HTML\n",
    "<style>\n",
    "  h4 {\n",
    "    text-align: center;\n",
    "  }\n",
    "  p {\n",
    "    text-align: justify;\n",
    "  }\n",
    "  .links {\n",
    "    margin-right: 20px;\n",
    "\n",
    "  }\n",
    "  .fullCard {\n",
    "    border: 1px solid #ccc;\n",
    "    border-radius: 5px;\n",
    "    margin: 10px 5px;\n",
    "    padding: 4px;\n",
    "  }\n",
    "  .cardContent {\n",
    "    padding: 10px;\n",
    "  }\n",
    "</style>\n",
    "<div class=\"fullCard\">\n",
    "  <div class=\"cardContent\">\n",
    "    <div class=\"cardText\">\n",
    "      <h4>Google</h4>\n",
    "      <p>Google was founded by Larry Page and Sergey Brin while they were Ph.D. students at Stanford University.</p>\n",
    "    </div>\n",
    "    <div class=\"cardLinks\">\n",
    "      <a href=\"https://en.wikipedia.org/wiki/Larry_Page\" target=\"_blank\" class=\"links\">Larry Page</a>\n",
    "      <a href=\"https://en.wikipedia.org/wiki/Sergey_Brin\" target=\"_blank\" class=\"links\">Sergey Brin</a>\n",
    "    </div>\n",
    "  </div>\n",
    "</div>\n",
    "```"
   ]
  },
  {
   "cell_type": "code",
   "execution_count": 74,
   "metadata": {},
   "outputs": [
    {
     "data": {
      "text/html": [
       "\n",
       "        <iframe\n",
       "            width=\"100%\"\n",
       "            height=\"250\"\n",
       "            src=\"./source-solution/03-applied-visual-design/000-create-visual-balance-using-the-text-align-property.html\"\n",
       "            frameborder=\"0\"\n",
       "            allowfullscreen\n",
       "        ></iframe>\n",
       "        "
      ],
      "text/plain": [
       "<IPython.lib.display.IFrame at 0x1126b1c4940>"
      ]
     },
     "execution_count": 74,
     "metadata": {},
     "output_type": "execute_result"
    }
   ],
   "source": [
    "IFrame('./source-solution/03-applied-visual-design/000-create-visual-balance-using-the-text-align-property.html', '100%', 250)"
   ]
  },
  {
   "cell_type": "markdown",
   "metadata": {},
   "source": [
    "### Adjust the Width of an Element Using the width Property"
   ]
  },
  {
   "cell_type": "markdown",
   "metadata": {},
   "source": [
    "You can specify the width of an element using the `width` property in CSS. Values can be given in relative length units (such as em), absolute length units (such as px), or as a percentage of its containing parent element. Here's an example that changes the width of an image to 220px:\n",
    "```CSS\n",
    "img {\n",
    "  width: 220px;\n",
    "}\n",
    "```\n",
    "\n",
    "---\n",
    "Add a `width` property to the entire card and set it to an absolute value of 245px. Use the `fullCard` class to select the element."
   ]
  },
  {
   "cell_type": "markdown",
   "metadata": {},
   "source": [
    "```HTML\n",
    "<style>\n",
    "  h4 {\n",
    "    text-align: center;\n",
    "  }\n",
    "  p {\n",
    "    text-align: justify;\n",
    "  }\n",
    "  .links {\n",
    "    margin-right: 20px;\n",
    "    text-align: left;\n",
    "  }\n",
    "  .fullCard {\n",
    "    width: 245px;\n",
    "    border: 1px solid #ccc;\n",
    "    border-radius: 5px;\n",
    "    margin: 10px 5px;\n",
    "    padding: 4px;\n",
    "  }\n",
    "  .cardContent {\n",
    "    padding: 10px;\n",
    "  }\n",
    "</style>\n",
    "<div class=\"fullCard\">\n",
    "  <div class=\"cardContent\">\n",
    "    <div class=\"cardText\">\n",
    "      <h4>Google</h4>\n",
    "      <p>Google was founded by Larry Page and Sergey Brin while they were Ph.D. students at Stanford University.</p>\n",
    "    </div>\n",
    "    <div class=\"cardLinks\">\n",
    "      <a href=\"https://en.wikipedia.org/wiki/Larry_Page\" target=\"_blank\" class=\"links\">Larry Page</a>\n",
    "      <a href=\"https://en.wikipedia.org/wiki/Sergey_Brin\" target=\"_blank\" class=\"links\">Sergey Brin</a>\n",
    "    </div>\n",
    "  </div>\n",
    "</div>\n",
    "```"
   ]
  },
  {
   "cell_type": "code",
   "execution_count": 75,
   "metadata": {},
   "outputs": [
    {
     "data": {
      "text/html": [
       "\n",
       "        <iframe\n",
       "            width=\"100%\"\n",
       "            height=\"250\"\n",
       "            src=\"./source-solution/03-applied-visual-design/001-adjust-the-width-of-an-element-using-the-width-property.html\"\n",
       "            frameborder=\"0\"\n",
       "            allowfullscreen\n",
       "        ></iframe>\n",
       "        "
      ],
      "text/plain": [
       "<IPython.lib.display.IFrame at 0x1126b1c4c18>"
      ]
     },
     "execution_count": 75,
     "metadata": {},
     "output_type": "execute_result"
    }
   ],
   "source": [
    "IFrame('./source-solution/03-applied-visual-design/001-adjust-the-width-of-an-element-using-the-width-property.html', '100%', 250)"
   ]
  },
  {
   "cell_type": "markdown",
   "metadata": {},
   "source": [
    "### Adjust the Height of an Element Using the height Property"
   ]
  },
  {
   "cell_type": "markdown",
   "metadata": {},
   "source": [
    "You can specify the height of an element using the `height` property in CSS, similar to the `width` property. Here's an example that changes the height of an image to 20px:\n",
    "\n",
    "```CSS\n",
    "img {\n",
    "  height: 20px;\n",
    "}\n",
    "```\n",
    "\n",
    "---\n",
    "Add a `height` property to the `h4` tag and set it to 25px.\n",
    "\n",
    "**Note**: You may need to be at 100% zoom to pass the test on this challenge."
   ]
  },
  {
   "cell_type": "markdown",
   "metadata": {},
   "source": [
    "```HTML\n",
    "<style>\n",
    "  h4 {\n",
    "    text-align: center;\n",
    "    height: 25px;\n",
    "  }\n",
    "  p {\n",
    "    text-align: justify;\n",
    "  }\n",
    "  .links {\n",
    "    margin-right: 20px;\n",
    "    text-align: left;\n",
    "  }\n",
    "  .fullCard {\n",
    "    width: 245px;\n",
    "    border: 1px solid #ccc;\n",
    "    border-radius: 5px;\n",
    "    margin: 10px 5px;\n",
    "    padding: 4px;\n",
    "  }\n",
    "  .cardContent {\n",
    "    padding: 10px;\n",
    "  }\n",
    "</style>\n",
    "<div class=\"fullCard\">\n",
    "  <div class=\"cardContent\">\n",
    "    <div class=\"cardText\">\n",
    "      <h4>Google</h4>\n",
    "      <p>Google was founded by Larry Page and Sergey Brin while they were Ph.D. students at Stanford University.</p>\n",
    "    </div>\n",
    "    <div class=\"cardLinks\">\n",
    "      <a href=\"https://en.wikipedia.org/wiki/Larry_Page\" target=\"_blank\" class=\"links\">Larry Page</a>\n",
    "      <a href=\"https://en.wikipedia.org/wiki/Sergey_Brin\" target=\"_blank\" class=\"links\">Sergey Brin</a>\n",
    "    </div>\n",
    "  </div>\n",
    "</div>\n",
    "```"
   ]
  },
  {
   "cell_type": "code",
   "execution_count": 76,
   "metadata": {},
   "outputs": [
    {
     "data": {
      "text/html": [
       "\n",
       "        <iframe\n",
       "            width=\"100%\"\n",
       "            height=\"250\"\n",
       "            src=\"./source-solution/03-applied-visual-design/002-adjust-the-height-of-an-element-using-the-height-property.html\"\n",
       "            frameborder=\"0\"\n",
       "            allowfullscreen\n",
       "        ></iframe>\n",
       "        "
      ],
      "text/plain": [
       "<IPython.lib.display.IFrame at 0x1126b1c4f60>"
      ]
     },
     "execution_count": 76,
     "metadata": {},
     "output_type": "execute_result"
    }
   ],
   "source": [
    "IFrame('./source-solution/03-applied-visual-design/002-adjust-the-height-of-an-element-using-the-height-property.html', '100%', 250)"
   ]
  },
  {
   "cell_type": "markdown",
   "metadata": {},
   "source": [
    "### Use the strong Tag to Make Text Bold"
   ]
  },
  {
   "cell_type": "markdown",
   "metadata": {},
   "source": [
    "To make text bold, you can use the `strong` tag. This is often used to draw attention to text and symbolize that it is important. With the `strong` tag, the browser applies the CSS of `font-weight: bold;` to the element.\n",
    "\n",
    "---\n",
    "Wrap a `strong` tag around \"Stanford University\" inside the `p` tag (do not include the period)."
   ]
  },
  {
   "cell_type": "markdown",
   "metadata": {},
   "source": [
    "```HTML\n",
    "<style>\n",
    "  h4 {\n",
    "    text-align: center;\n",
    "    height: 25px;\n",
    "  }\n",
    "  p {\n",
    "    text-align: justify;\n",
    "  }\n",
    "  .links {\n",
    "    text-align: left;\n",
    "    color: black;\n",
    "  }\n",
    "  .fullCard {\n",
    "    width: 245px;\n",
    "    border: 1px solid #ccc;\n",
    "    border-radius: 5px;\n",
    "    margin: 10px 5px;\n",
    "    padding: 4px;\n",
    "  }\n",
    "  .cardContent {\n",
    "    padding: 10px;\n",
    "  }\n",
    "  .cardText {\n",
    "    margin-bottom: 30px;\n",
    "  }\n",
    "</style>\n",
    "<div class=\"fullCard\">\n",
    "  <div class=\"cardContent\">\n",
    "    <div class=\"cardText\">\n",
    "      <h4>Google</h4>\n",
    "      <p>Google was founded by Larry Page and Sergey Brin while they were Ph.D. students at <strong>Stanford University</strong>.</p>\n",
    "    </div>\n",
    "    <div class=\"cardLinks\">\n",
    "      <a href=\"https://en.wikipedia.org/wiki/Larry_Page\" target=\"_blank\" class=\"links\">Larry Page</a><br><br>\n",
    "      <a href=\"https://en.wikipedia.org/wiki/Sergey_Brin\" target=\"_blank\" class=\"links\">Sergey Brin</a>\n",
    "    </div>\n",
    "  </div>\n",
    "</div>\n",
    "```"
   ]
  },
  {
   "cell_type": "code",
   "execution_count": 77,
   "metadata": {},
   "outputs": [
    {
     "data": {
      "text/html": [
       "\n",
       "        <iframe\n",
       "            width=\"100%\"\n",
       "            height=\"250\"\n",
       "            src=\"./source-solution/03-applied-visual-design/003-use-the-strong-tag-to-make-text-bold.html\"\n",
       "            frameborder=\"0\"\n",
       "            allowfullscreen\n",
       "        ></iframe>\n",
       "        "
      ],
      "text/plain": [
       "<IPython.lib.display.IFrame at 0x1126b1cf2e8>"
      ]
     },
     "execution_count": 77,
     "metadata": {},
     "output_type": "execute_result"
    }
   ],
   "source": [
    "IFrame('./source-solution/03-applied-visual-design/003-use-the-strong-tag-to-make-text-bold.html', '100%', 250)"
   ]
  },
  {
   "cell_type": "markdown",
   "metadata": {},
   "source": [
    "### Use the u Tag to Underline Text"
   ]
  },
  {
   "cell_type": "markdown",
   "metadata": {},
   "source": [
    "To underline text, you can use the `u` tag. This is often used to signify that a section of text is important, or something to remember. With the u tag, the browser applies the CSS of `text-decoration: underline;` to the element.\n",
    "\n",
    "Wrap the `u` tag only around the text \"Ph.D. students\".\n",
    "\n",
    "---\n",
    "Note: Try to avoid using the `u` tag when it could be confused for a link. Anchor tags also have a default underlined formatting."
   ]
  },
  {
   "cell_type": "markdown",
   "metadata": {},
   "source": [
    "```HTML\n",
    "<style>\n",
    "  h4 {\n",
    "    text-align: center;\n",
    "    height: 25px;\n",
    "  }\n",
    "  p {\n",
    "    text-align: justify;\n",
    "  }\n",
    "  .links {\n",
    "    text-align: left;\n",
    "    color: black;\n",
    "  }\n",
    "  .fullCard {\n",
    "    width: 245px;\n",
    "    border: 1px solid #ccc;\n",
    "    border-radius: 5px;\n",
    "    margin: 10px 5px;\n",
    "    padding: 4px;\n",
    "  }\n",
    "  .cardContent {\n",
    "    padding: 10px;\n",
    "  }\n",
    "  .cardText {\n",
    "    margin-bottom: 30px;\n",
    "  }\n",
    "</style>\n",
    "<div class=\"fullCard\">\n",
    "  <div class=\"cardContent\">\n",
    "    <div class=\"cardText\">\n",
    "      <h4>Google</h4>\n",
    "      <p>Google was founded by Larry Page and Sergey Brin while they were <u>Ph.D. students</u> at <strong>Stanford University</strong>.</p>\n",
    "    </div>\n",
    "    <div class=\"cardLinks\">\n",
    "      <a href=\"https://en.wikipedia.org/wiki/Larry_Page\" target=\"_blank\" class=\"links\">Larry Page</a><br><br>\n",
    "      <a href=\"https://en.wikipedia.org/wiki/Sergey_Brin\" target=\"_blank\" class=\"links\">Sergey Brin</a>\n",
    "    </div>\n",
    "  </div>\n",
    "</div>\n",
    "```"
   ]
  },
  {
   "cell_type": "code",
   "execution_count": 78,
   "metadata": {},
   "outputs": [
    {
     "data": {
      "text/html": [
       "\n",
       "        <iframe\n",
       "            width=\"100%\"\n",
       "            height=\"250\"\n",
       "            src=\"./source-solution/03-applied-visual-design/004-use-the-u-tag-to-underline-text.html\"\n",
       "            frameborder=\"0\"\n",
       "            allowfullscreen\n",
       "        ></iframe>\n",
       "        "
      ],
      "text/plain": [
       "<IPython.lib.display.IFrame at 0x1126b1cf5c0>"
      ]
     },
     "execution_count": 78,
     "metadata": {},
     "output_type": "execute_result"
    }
   ],
   "source": [
    "IFrame('./source-solution/03-applied-visual-design/004-use-the-u-tag-to-underline-text.html', '100%', 250)"
   ]
  },
  {
   "cell_type": "markdown",
   "metadata": {},
   "source": [
    "### Use the em Tag to Italicize Text"
   ]
  },
  {
   "cell_type": "markdown",
   "metadata": {},
   "source": [
    "To emphasize text, you can use the `em` tag. This displays text as italicized, as the browser applies the CSS of `font-style: italic;` to the element.\n",
    "\n",
    "---\n",
    "Wrap an `em` tag around the contents of the paragraph tag to give it emphasis."
   ]
  },
  {
   "cell_type": "markdown",
   "metadata": {},
   "source": [
    "```HTML\n",
    "<style>\n",
    "  h4 {\n",
    "    text-align: center;\n",
    "    height: 25px;\n",
    "  }\n",
    "  p {\n",
    "    text-align: justify;\n",
    "  }\n",
    "  .links {\n",
    "    text-align: left;\n",
    "    color: black;\n",
    "  }\n",
    "  .fullCard {\n",
    "    width: 245px;\n",
    "    border: 1px solid #ccc;\n",
    "    border-radius: 5px;\n",
    "    margin: 10px 5px;\n",
    "    padding: 4px;\n",
    "  }\n",
    "  .cardContent {\n",
    "    padding: 10px;\n",
    "  }\n",
    "  .cardText {\n",
    "    margin-bottom: 30px;\n",
    "  }\n",
    "</style>\n",
    "<div class=\"fullCard\">\n",
    "  <div class=\"cardContent\">\n",
    "    <div class=\"cardText\">\n",
    "      <h4>Google</h4>\n",
    "      <p><em>Google was founded by Larry Page and Sergey Brin while they were <u>Ph.D. students</u> at <strong>Stanford University</strong>.</em></p>\n",
    "    </div>\n",
    "    <div class=\"cardLinks\">\n",
    "      <a href=\"https://en.wikipedia.org/wiki/Larry_Page\" target=\"_blank\" class=\"links\">Larry Page</a><br><br>\n",
    "      <a href=\"https://en.wikipedia.org/wiki/Sergey_Brin\" target=\"_blank\" class=\"links\">Sergey Brin</a>\n",
    "    </div>\n",
    "  </div>\n",
    "</div>\n",
    "```"
   ]
  },
  {
   "cell_type": "code",
   "execution_count": 79,
   "metadata": {},
   "outputs": [
    {
     "data": {
      "text/html": [
       "\n",
       "        <iframe\n",
       "            width=\"100%\"\n",
       "            height=\"250\"\n",
       "            src=\"./source-solution/03-applied-visual-design/005-use-the-em-tag-to-italicize-text.html\"\n",
       "            frameborder=\"0\"\n",
       "            allowfullscreen\n",
       "        ></iframe>\n",
       "        "
      ],
      "text/plain": [
       "<IPython.lib.display.IFrame at 0x1126b1cf9e8>"
      ]
     },
     "execution_count": 79,
     "metadata": {},
     "output_type": "execute_result"
    }
   ],
   "source": [
    "IFrame('./source-solution/03-applied-visual-design/005-use-the-em-tag-to-italicize-text.html', '100%', 250)"
   ]
  },
  {
   "cell_type": "markdown",
   "metadata": {},
   "source": [
    "### Use the s Tag to Strikethrough Text"
   ]
  },
  {
   "cell_type": "markdown",
   "metadata": {},
   "source": [
    "To strikethrough text, which is when a horizontal line cuts across the characters, you can use the `s` tag. It shows that a section of text is no longer valid. With the `s` tag, the browser applies the CSS of `text-decoration: line-through;` to the element.\n",
    "\n",
    "---\n",
    "Wrap the `s` tag around \"Google\" inside the `h4` tag and then add the word Alphabet beside it, which should not have the strikethrough formatting."
   ]
  },
  {
   "cell_type": "markdown",
   "metadata": {},
   "source": [
    "```HTML\n",
    "<style>\n",
    "  h4 {\n",
    "    text-align: center;\n",
    "    height: 25px;\n",
    "  }\n",
    "  p {\n",
    "    text-align: justify;\n",
    "  }\n",
    "  .links {\n",
    "    text-align: left;\n",
    "    color: black;\n",
    "  }\n",
    "  .fullCard {\n",
    "    width: 245px;\n",
    "    border: 1px solid #ccc;\n",
    "    border-radius: 5px;\n",
    "    margin: 10px 5px;\n",
    "    padding: 4px;\n",
    "  }\n",
    "  .cardContent {\n",
    "    padding: 10px;\n",
    "  }\n",
    "  .cardText {\n",
    "    margin-bottom: 30px;\n",
    "  }\n",
    "</style>\n",
    "<div class=\"fullCard\">\n",
    "  <div class=\"cardContent\">\n",
    "    <div class=\"cardText\">\n",
    "      <h4><s>Google</s>Alphabet</h4>\n",
    "      <p><em>Google was founded by Larry Page and Sergey Brin while they were <u>Ph.D. students</u> at <strong>Stanford University</strong>.</em></p>\n",
    "    </div>\n",
    "    <div class=\"cardLinks\">\n",
    "      <a href=\"https://en.wikipedia.org/wiki/Larry_Page\" target=\"_blank\" class=\"links\">Larry Page</a><br><br>\n",
    "      <a href=\"https://en.wikipedia.org/wiki/Sergey_Brin\" target=\"_blank\" class=\"links\">Sergey Brin</a>\n",
    "    </div>\n",
    "  </div>\n",
    "</div>\n",
    "```"
   ]
  },
  {
   "cell_type": "code",
   "execution_count": 80,
   "metadata": {},
   "outputs": [
    {
     "data": {
      "text/html": [
       "\n",
       "        <iframe\n",
       "            width=\"100%\"\n",
       "            height=\"250\"\n",
       "            src=\"./source-solution/03-applied-visual-design/006-use-the-s-tag-to-strikethrough-text.html\"\n",
       "            frameborder=\"0\"\n",
       "            allowfullscreen\n",
       "        ></iframe>\n",
       "        "
      ],
      "text/plain": [
       "<IPython.lib.display.IFrame at 0x1126b1cfc50>"
      ]
     },
     "execution_count": 80,
     "metadata": {},
     "output_type": "execute_result"
    }
   ],
   "source": [
    "IFrame('./source-solution/03-applied-visual-design/006-use-the-s-tag-to-strikethrough-text.html', '100%', 250)"
   ]
  },
  {
   "cell_type": "markdown",
   "metadata": {},
   "source": [
    "### Create a Horizontal Line Using the hr Element"
   ]
  },
  {
   "cell_type": "markdown",
   "metadata": {},
   "source": [
    "You can use the `hr` tag to add a horizontal line across the width of its containing element. This can be used to define a change in topic or to visually separate groups of content.\n",
    "\n",
    "---\n",
    "Add an `hr` tag underneath the `h4` which contains the card title.\n",
    "\n",
    "**Note**: In HTML, `hr` is a self-closing tag, and therefore doesn't need a separate closing tag."
   ]
  },
  {
   "cell_type": "markdown",
   "metadata": {},
   "source": [
    "```HTML\n",
    "<style>\n",
    "  h4 {\n",
    "    text-align: center;\n",
    "    height: 25px;\n",
    "  }\n",
    "  p {\n",
    "    text-align: justify;\n",
    "  }\n",
    "  .links {\n",
    "    text-align: left;\n",
    "    color: black;\n",
    "  }\n",
    "  .fullCard {\n",
    "    width: 245px;\n",
    "    border: 1px solid #ccc;\n",
    "    border-radius: 5px;\n",
    "    margin: 10px 5px;\n",
    "    padding: 4px;\n",
    "  }\n",
    "  .cardContent {\n",
    "    padding: 10px;\n",
    "  }\n",
    "  .cardText {\n",
    "    margin-bottom: 30px;\n",
    "  }\n",
    "</style>\n",
    "<div class=\"fullCard\">\n",
    "  <div class=\"cardContent\">\n",
    "    <div class=\"cardText\">\n",
    "      <h4><s>Google</s>Alphabet</h4>\n",
    "      <hr>\n",
    "      <p><em>Google was founded by Larry Page and Sergey Brin while they were <u>Ph.D. students</u> at <strong>Stanford University</strong>.</em></p>\n",
    "    </div>\n",
    "    <div class=\"cardLinks\">\n",
    "      <a href=\"https://en.wikipedia.org/wiki/Larry_Page\" target=\"_blank\" class=\"links\">Larry Page</a><br><br>\n",
    "      <a href=\"https://en.wikipedia.org/wiki/Sergey_Brin\" target=\"_blank\" class=\"links\">Sergey Brin</a>\n",
    "    </div>\n",
    "  </div>\n",
    "</div>\n",
    "```"
   ]
  },
  {
   "cell_type": "code",
   "execution_count": 81,
   "metadata": {},
   "outputs": [
    {
     "data": {
      "text/html": [
       "\n",
       "        <iframe\n",
       "            width=\"100%\"\n",
       "            height=\"250\"\n",
       "            src=\"./source-solution/03-applied-visual-design/007-create-a-horizontal-line-using-the-hr-element.html\"\n",
       "            frameborder=\"0\"\n",
       "            allowfullscreen\n",
       "        ></iframe>\n",
       "        "
      ],
      "text/plain": [
       "<IPython.lib.display.IFrame at 0x1126b1d80f0>"
      ]
     },
     "execution_count": 81,
     "metadata": {},
     "output_type": "execute_result"
    }
   ],
   "source": [
    "IFrame('./source-solution/03-applied-visual-design/007-create-a-horizontal-line-using-the-hr-element.html', '100%', 250)"
   ]
  },
  {
   "cell_type": "markdown",
   "metadata": {},
   "source": [
    "### Adjust the background-color Property of Text"
   ]
  },
  {
   "cell_type": "markdown",
   "metadata": {},
   "source": [
    "Instead of adjusting your overall background or the color of the text to make the foreground easily readable, you can add a `background-color` to the element holding the text you want to emphasize. This challenge uses `rgba()` instead of hex codes or normal `rgb()`.\n",
    "\n",
    "```\n",
    "rgba stands for:\n",
    "  r = red\n",
    "  g = green\n",
    "  b = blue\n",
    "  a = alpha/level of opacity\n",
    "```\n",
    "\n",
    "The RGB values can range from 0 to 255. The alpha value can range from 1, which is fully opaque or a solid color, to 0, which is fully transparent or clear. `rgba()` is great to use in this case, as it allows you to adjust the opacity. This means you don't have to completely block out the background.\n",
    "\n",
    "You'll use `background-color: rgba(45, 45, 45, 0.1)` for this challenge. It produces a dark gray color that is nearly transparent given the low opacity value of 0.1.\n",
    "\n",
    "---\n",
    "To make the text stand out more, adjust the `background-color` of the `h4` element to the given `rgba()` value.\n",
    "\n",
    "Also for the `h4`, remove the `height` property and add `padding` of 10px."
   ]
  },
  {
   "cell_type": "markdown",
   "metadata": {},
   "source": [
    "```HTML\n",
    "<style>\n",
    "  h4 {\n",
    "    text-align: center;\n",
    "    padding: 10px;\n",
    "    background-color: rgba(45, 45, 45, 0.1);    \n",
    "  }\n",
    "  p {\n",
    "    text-align: justify;\n",
    "  }\n",
    "  .links {\n",
    "    text-align: left;\n",
    "    color: black;\n",
    "  }\n",
    "  .fullCard {\n",
    "    width: 245px;\n",
    "    border: 1px solid #ccc;\n",
    "    border-radius: 5px;\n",
    "    margin: 10px 5px;\n",
    "    padding: 4px;\n",
    "  }\n",
    "  .cardContent {\n",
    "    padding: 10px;\n",
    "  }\n",
    "  .cardText {\n",
    "    margin-bottom: 30px;\n",
    "  }\n",
    "</style>\n",
    "<div class=\"fullCard\">\n",
    "  <div class=\"cardContent\">\n",
    "    <div class=\"cardText\">\n",
    "      <h4>Alphabet</h4>\n",
    "      <hr>\n",
    "      <p><em>Google was founded by Larry Page and Sergey Brin while they were <u>Ph.D. students</u> at <strong>Stanford University</strong>.</em></p>\n",
    "    </div>\n",
    "    <div class=\"cardLinks\">\n",
    "      <a href=\"https://en.wikipedia.org/wiki/Larry_Page\" target=\"_blank\" class=\"links\">Larry Page</a><br><br>\n",
    "      <a href=\"https://en.wikipedia.org/wiki/Sergey_Brin\" target=\"_blank\" class=\"links\">Sergey Brin</a>\n",
    "    </div>\n",
    "  </div>\n",
    "</div>\n",
    "```"
   ]
  },
  {
   "cell_type": "code",
   "execution_count": 82,
   "metadata": {},
   "outputs": [
    {
     "data": {
      "text/html": [
       "\n",
       "        <iframe\n",
       "            width=\"100%\"\n",
       "            height=\"250\"\n",
       "            src=\"./source-solution/03-applied-visual-design/008-adjust-the-background-color-property-of-text.html\"\n",
       "            frameborder=\"0\"\n",
       "            allowfullscreen\n",
       "        ></iframe>\n",
       "        "
      ],
      "text/plain": [
       "<IPython.lib.display.IFrame at 0x1126b1d8320>"
      ]
     },
     "execution_count": 82,
     "metadata": {},
     "output_type": "execute_result"
    }
   ],
   "source": [
    "IFrame('./source-solution/03-applied-visual-design/008-adjust-the-background-color-property-of-text.html', '100%', 250)"
   ]
  },
  {
   "cell_type": "markdown",
   "metadata": {},
   "source": [
    "### Adjust the Size of a Header Versus a Paragraph Tag"
   ]
  },
  {
   "cell_type": "markdown",
   "metadata": {},
   "source": [
    "The font size of header tags (`h1` through `h6`) should generally be larger than the font size of paragraph tags. This makes it easier for the user to visually understand the layout and level of importance of everything on the page. You use the `font-size` property to adjust the size of the text in an element.\n",
    "\n",
    "---\n",
    "To make the heading significantly larger than the paragraph, change the `font-size` of the `h4` tag to 27 pixels."
   ]
  },
  {
   "cell_type": "markdown",
   "metadata": {},
   "source": [
    "```HTML\n",
    "<style>\n",
    "  h4 {\n",
    "    text-align: center;\n",
    "    background-color: rgba(45, 45, 45, 0.1);\n",
    "    padding: 10px;\n",
    "    font-size: 27px;\n",
    "  }\n",
    "  p {\n",
    "    text-align: justify;\n",
    "  }\n",
    "  .links {\n",
    "    text-align: left;\n",
    "    color: black;\n",
    "  }\n",
    "  .fullCard {\n",
    "    width: 245px;\n",
    "    border: 1px solid #ccc;\n",
    "    border-radius: 5px;\n",
    "    margin: 10px 5px;\n",
    "    padding: 4px;\n",
    "  }\n",
    "  .cardContent {\n",
    "    padding: 10px;\n",
    "  }\n",
    "  .cardText {\n",
    "    margin-bottom: 30px;\n",
    "  }\n",
    "</style>\n",
    "<div class=\"fullCard\">\n",
    "  <div class=\"cardContent\">\n",
    "    <div class=\"cardText\">\n",
    "      <h4>Alphabet</h4>\n",
    "      <hr>\n",
    "      <p><em>Google was founded by Larry Page and Sergey Brin while they were <u>Ph.D. students</u> at <strong>Stanford University</strong>.</em></p>\n",
    "    </div>\n",
    "    <div class=\"cardLinks\">\n",
    "      <a href=\"https://en.wikipedia.org/wiki/Larry_Page\" target=\"_blank\" class=\"links\">Larry Page</a><br><br>\n",
    "      <a href=\"https://en.wikipedia.org/wiki/Sergey_Brin\" target=\"_blank\" class=\"links\">Sergey Brin</a>\n",
    "    </div>\n",
    "  </div>\n",
    "</div>\n",
    "```"
   ]
  },
  {
   "cell_type": "code",
   "execution_count": 83,
   "metadata": {},
   "outputs": [
    {
     "data": {
      "text/html": [
       "\n",
       "        <iframe\n",
       "            width=\"100%\"\n",
       "            height=\"250\"\n",
       "            src=\"./source-solution/03-applied-visual-design/009-adjust-the-size-of-a-header-versus-a-paragraph-tag.html\"\n",
       "            frameborder=\"0\"\n",
       "            allowfullscreen\n",
       "        ></iframe>\n",
       "        "
      ],
      "text/plain": [
       "<IPython.lib.display.IFrame at 0x1126b1d86a0>"
      ]
     },
     "execution_count": 83,
     "metadata": {},
     "output_type": "execute_result"
    }
   ],
   "source": [
    "IFrame('./source-solution/03-applied-visual-design/009-adjust-the-size-of-a-header-versus-a-paragraph-tag.html', '100%', 250)"
   ]
  },
  {
   "cell_type": "markdown",
   "metadata": {},
   "source": [
    "### Add a box-shadow to a Card-like Element"
   ]
  },
  {
   "cell_type": "markdown",
   "metadata": {},
   "source": [
    "The `box-shadow` property applies one or more shadows to an element.\n",
    "\n",
    "The `box-shadow` property takes values for\n",
    "\n",
    "* `offset-x` (how far to push the shadow horizontally from the element),\n",
    "* `offset-y` (how far to push the shadow vertically from the element),\n",
    "* `blur-radius`,\n",
    "* `spread-radius` and\n",
    "* `color`, in that order.\n",
    "\n",
    "The `blur-radius` and `spread-radius` values are optional.\n",
    "\n",
    "Multiple box-shadows can be created by using commas to separate properties of each `box-shadow` element.\n",
    "\n",
    "Here's an example of the CSS to create multiple shadows with some blur, at mostly-transparent black colors:\n",
    "\n",
    "```CSS\n",
    "box-shadow: 0 10px 20px rgba(0,0,0,0.19), 0 6px 6px rgba(0,0,0,0.23);\n",
    "```\n",
    "\n",
    "---\n",
    "The element now has an id of thumbnail. With this selector, use the example CSS values above to place a box-shadow on the card."
   ]
  },
  {
   "cell_type": "markdown",
   "metadata": {},
   "source": [
    "```HTML\n",
    "<style>\n",
    "  h4 {\n",
    "    text-align: center;\n",
    "    background-color: rgba(45, 45, 45, 0.1);\n",
    "    padding: 10px;\n",
    "    font-size: 27px;\n",
    "  }\n",
    "  p {\n",
    "    text-align: justify;\n",
    "  }\n",
    "  .links {\n",
    "    text-align: left;\n",
    "    color: black;\n",
    "  }\n",
    "  #thumbnail {\n",
    "    box-shadow: 0 10px 20px rgba(0,0,0,0.19), 0 6px 6px rgba(0,0,0,0.23);\n",
    "  }\n",
    "\n",
    "  .fullCard {\n",
    "    width: 245px;\n",
    "    border: 1px solid #ccc;\n",
    "    border-radius: 5px;\n",
    "    margin: 10px 5px;\n",
    "    padding: 4px;\n",
    "  }\n",
    "  .cardContent {\n",
    "    padding: 10px;\n",
    "  }\n",
    "  .cardText {\n",
    "    margin-bottom: 30px;\n",
    "  }\n",
    "</style>\n",
    "<div class=\"fullCard\" id=\"thumbnail\">\n",
    "  <div class=\"cardContent\">\n",
    "    <div class=\"cardText\">\n",
    "      <h4>Alphabet</h4>\n",
    "      <hr>\n",
    "      <p><em>Google was founded by Larry Page and Sergey Brin while they were <u>Ph.D. students</u> at <strong>Stanford University</strong>.</em></p>\n",
    "    </div>\n",
    "    <div class=\"cardLinks\">\n",
    "      <a href=\"https://en.wikipedia.org/wiki/Larry_Page\" target=\"_blank\" class=\"links\">Larry Page</a><br><br>\n",
    "      <a href=\"https://en.wikipedia.org/wiki/Sergey_Brin\" target=\"_blank\" class=\"links\">Sergey Brin</a>\n",
    "    </div>\n",
    "  </div>\n",
    "</div>\n",
    "```"
   ]
  },
  {
   "cell_type": "code",
   "execution_count": 84,
   "metadata": {},
   "outputs": [
    {
     "data": {
      "text/html": [
       "\n",
       "        <iframe\n",
       "            width=\"100%\"\n",
       "            height=\"250\"\n",
       "            src=\"./source-solution/03-applied-visual-design/010-add-a-box-shadow-to-a-card-like-element.html\"\n",
       "            frameborder=\"0\"\n",
       "            allowfullscreen\n",
       "        ></iframe>\n",
       "        "
      ],
      "text/plain": [
       "<IPython.lib.display.IFrame at 0x1126b1d89e8>"
      ]
     },
     "execution_count": 84,
     "metadata": {},
     "output_type": "execute_result"
    }
   ],
   "source": [
    "IFrame('./source-solution/03-applied-visual-design/010-add-a-box-shadow-to-a-card-like-element.html', '100%', 250)"
   ]
  },
  {
   "cell_type": "markdown",
   "metadata": {},
   "source": [
    "### Decrease the Opacity of an Element"
   ]
  },
  {
   "cell_type": "markdown",
   "metadata": {},
   "source": [
    "The `opacity` property in CSS is used to adjust the opacity, or conversely, the transparency for an item.\n",
    "\n",
    "```\n",
    "A value of 1 is opaque, which isn't transparent at all.\n",
    "A value of 0.5 is half see-through.\n",
    "A value of 0 is completely transparent.\n",
    "```\n",
    "\n",
    "The value given will apply to the entire element, whether that's an image with some transparency, or the foreground and background colors for a block of text.\n",
    "\n",
    "---\n",
    "Set the `opacity` of the anchor tags to 0.7 using `links` class to select them."
   ]
  },
  {
   "cell_type": "markdown",
   "metadata": {},
   "source": [
    "```HTML\n",
    "<style>\n",
    "  h4 {\n",
    "    text-align: center;\n",
    "    background-color: rgba(45, 45, 45, 0.1);\n",
    "    padding: 10px;\n",
    "    font-size: 27px;\n",
    "  }\n",
    "  p {\n",
    "    text-align: justify;\n",
    "  }\n",
    "  .links {\n",
    "    text-align: left;\n",
    "    color: black;\n",
    "    opacity: 0.7;\n",
    "  }\n",
    "  #thumbnail {\n",
    "    box-shadow: 0 10px 20px rgba(0,0,0,0.19), 0 6px 6px rgba(0,0,0,0.23);\n",
    "  }\n",
    "  .fullCard {\n",
    "    width: 245px;\n",
    "    border: 1px solid #ccc;\n",
    "    border-radius: 5px;\n",
    "    margin: 10px 5px;\n",
    "    padding: 4px;\n",
    "  }\n",
    "  .cardContent {\n",
    "    padding: 10px;\n",
    "  }\n",
    "  .cardText {\n",
    "    margin-bottom: 30px;\n",
    "  }\n",
    "</style>\n",
    "<div class=\"fullCard\" id=\"thumbnail\">\n",
    "  <div class=\"cardContent\">\n",
    "    <div class=\"cardText\">\n",
    "      <h4>Alphabet</h4>\n",
    "      <hr>\n",
    "      <p><em>Google was founded by Larry Page and Sergey Brin while they were <u>Ph.D. students</u> at <strong>Stanford University</strong>.</em></p>\n",
    "    </div>\n",
    "    <div class=\"cardLinks\">\n",
    "      <a href=\"https://en.wikipedia.org/wiki/Larry_Page\" target=\"_blank\" class=\"links\">Larry Page</a><br><br>\n",
    "      <a href=\"https://en.wikipedia.org/wiki/Sergey_Brin\" target=\"_blank\" class=\"links\">Sergey Brin</a>\n",
    "    </div>\n",
    "  </div>\n",
    "</div>\n",
    "```"
   ]
  },
  {
   "cell_type": "code",
   "execution_count": 85,
   "metadata": {},
   "outputs": [
    {
     "data": {
      "text/html": [
       "\n",
       "        <iframe\n",
       "            width=\"100%\"\n",
       "            height=\"250\"\n",
       "            src=\"./source-solution/03-applied-visual-design/011-decrease-the-opacity-of-an-element.html\"\n",
       "            frameborder=\"0\"\n",
       "            allowfullscreen\n",
       "        ></iframe>\n",
       "        "
      ],
      "text/plain": [
       "<IPython.lib.display.IFrame at 0x1126b1d8d68>"
      ]
     },
     "execution_count": 85,
     "metadata": {},
     "output_type": "execute_result"
    }
   ],
   "source": [
    "IFrame('./source-solution/03-applied-visual-design/011-decrease-the-opacity-of-an-element.html', '100%', 250)"
   ]
  },
  {
   "cell_type": "markdown",
   "metadata": {},
   "source": [
    "### Use the text-transform Property to Make Text Uppercase"
   ]
  },
  {
   "cell_type": "markdown",
   "metadata": {},
   "source": [
    "The `text-transform` property in CSS is used to change the appearance of text. It's a convenient way to make sure text on a webpage appears consistently, without having to change the text content of the actual HTML elements.\n",
    "\n",
    "The following table shows how the different `text-transform` values change the example text \"Transform me\".\n",
    "\n",
    "Value      | Result\n",
    "-----------|------------------------------------------------------\n",
    "lowercase  | \"transform me\"\n",
    "uppercase  | \"TRANSFORM ME\"\n",
    "capitalize | \"Transform Me\"\n",
    "initial    | Use the default value\n",
    "inherit    | Use the `text-transform` value from the parent element\n",
    "none       | `Default`: Use the original text\n",
    "\n",
    "Transform the text of the `h4` to be uppercase using the `text-transform` property."
   ]
  },
  {
   "cell_type": "markdown",
   "metadata": {},
   "source": [
    "```HTML\n",
    "<style>\n",
    "  h4 {\n",
    "    text-align: center;\n",
    "    background-color: rgba(45, 45, 45, 0.1);\n",
    "    padding: 10px;\n",
    "    font-size: 27px;\n",
    "    text-transform: uppercase;\n",
    "  }\n",
    "  p {\n",
    "    text-align: justify;\n",
    "  }\n",
    "  .links {\n",
    "    text-align: left;\n",
    "    color: black;\n",
    "    opacity: 0.7;\n",
    "  }\n",
    "  #thumbnail {\n",
    "    box-shadow: 0 10px 20px rgba(0,0,0,0.19), 0 6px 6px rgba(0,0,0,0.23);\n",
    "  }\n",
    "  .fullCard {\n",
    "    width: 245px;\n",
    "    border: 1px solid #ccc;\n",
    "    border-radius: 5px;\n",
    "    margin: 10px 5px;\n",
    "    padding: 4px;\n",
    "  }\n",
    "  .cardContent {\n",
    "    padding: 10px;\n",
    "  }\n",
    "  .cardText {\n",
    "    margin-bottom: 30px;\n",
    "  }\n",
    "</style>\n",
    "<div class=\"fullCard\" id=\"thumbnail\">\n",
    "  <div class=\"cardContent\">\n",
    "    <div class=\"cardText\">\n",
    "      <h4>Alphabet</h4>\n",
    "      <hr>\n",
    "      <p><em>Google was founded by Larry Page and Sergey Brin while they were <u>Ph.D. students</u> at <strong>Stanford University</strong>.</em></p>\n",
    "    </div>\n",
    "    <div class=\"cardLinks\">\n",
    "      <a href=\"https://en.wikipedia.org/wiki/Larry_Page\" target=\"_blank\" class=\"links\">Larry Page</a><br><br>\n",
    "      <a href=\"https://en.wikipedia.org/wiki/Sergey_Brin\" target=\"_blank\" class=\"links\">Sergey Brin</a>\n",
    "    </div>\n",
    "  </div>\n",
    "</div>\n",
    "```"
   ]
  },
  {
   "cell_type": "code",
   "execution_count": 86,
   "metadata": {},
   "outputs": [
    {
     "data": {
      "text/html": [
       "\n",
       "        <iframe\n",
       "            width=\"100%\"\n",
       "            height=\"250\"\n",
       "            src=\"./source-solution/03-applied-visual-design/012-use-the-text-transform-property-to-make-text-uppercase.html\"\n",
       "            frameborder=\"0\"\n",
       "            allowfullscreen\n",
       "        ></iframe>\n",
       "        "
      ],
      "text/plain": [
       "<IPython.lib.display.IFrame at 0x1126b17c0b8>"
      ]
     },
     "execution_count": 86,
     "metadata": {},
     "output_type": "execute_result"
    }
   ],
   "source": [
    "IFrame('./source-solution/03-applied-visual-design/012-use-the-text-transform-property-to-make-text-uppercase.html', '100%', 250)"
   ]
  },
  {
   "cell_type": "markdown",
   "metadata": {},
   "source": [
    "### Set the font-size for Multiple Heading Elements"
   ]
  },
  {
   "cell_type": "markdown",
   "metadata": {},
   "source": [
    "The `font-size` property is used to specify how large the text is in a given element. This rule can be used for multiple elements to create visual consistency of text on a page. In this challenge, you'll set the values for all `h1` through `h6` tags to balance the heading sizes.\n",
    "\n",
    "---\n",
    "* Set the `font-size` of the `h1` tag to 68px.\n",
    "* Set the `font-size` of the `h2` tag to 52px.\n",
    "* Set the `font-size` of the `h3` tag to 40px.\n",
    "* Set the `font-size` of the `h4` tag to 32px.\n",
    "* Set the `font-size` of the `h5` tag to 21px.\n",
    "* Set the `font-size` of the `h6` tag to 14px."
   ]
  },
  {
   "cell_type": "markdown",
   "metadata": {},
   "source": [
    "```HTML\n",
    "<style>\n",
    "    h1{\n",
    "        font-size: 68px;\n",
    "    }\n",
    "    h2{\n",
    "        font-size: 52px;\n",
    "    }\n",
    "    h3{\n",
    "        font-size: 40px;\n",
    "    }\n",
    "    h4{\n",
    "        font-size: 32px;\n",
    "    }\n",
    "    h5{\n",
    "        font-size: 21px;\n",
    "    }\n",
    "    h6{\n",
    "        font-size: 14px;\n",
    "    }\n",
    "</style>\n",
    "\n",
    "<h1>This is h1 text</h1>\n",
    "<h2>This is h2 text</h2>\n",
    "<h3>This is h3 text</h3>\n",
    "<h4>This is h4 text</h4>\n",
    "<h5>This is h5 text</h5>\n",
    "<h6>This is h6 text</h6>\n",
    "```"
   ]
  },
  {
   "cell_type": "code",
   "execution_count": 87,
   "metadata": {},
   "outputs": [
    {
     "data": {
      "text/html": [
       "\n",
       "        <iframe\n",
       "            width=\"100%\"\n",
       "            height=\"250\"\n",
       "            src=\"./source-solution/03-applied-visual-design/013-set-the-font-size-for-multiple-heading-elements.html\"\n",
       "            frameborder=\"0\"\n",
       "            allowfullscreen\n",
       "        ></iframe>\n",
       "        "
      ],
      "text/plain": [
       "<IPython.lib.display.IFrame at 0x1126b17c438>"
      ]
     },
     "execution_count": 87,
     "metadata": {},
     "output_type": "execute_result"
    }
   ],
   "source": [
    "IFrame('./source-solution/03-applied-visual-design/013-set-the-font-size-for-multiple-heading-elements.html', '100%', 250)"
   ]
  },
  {
   "cell_type": "markdown",
   "metadata": {},
   "source": [
    "### Set the font-weight for Multiple Heading Elements"
   ]
  },
  {
   "cell_type": "markdown",
   "metadata": {},
   "source": [
    "You set the `font-size` of each heading tag in the last challenge, here you'll adjust the `font-weight`.\n",
    "\n",
    "The `font-weight` property sets how thick or thin characters are in a section of text.\n",
    "\n",
    "---\n",
    "* Set the `font-weight` of the `h1` tag to 800.\n",
    "* Set the `font-weight` of the `h2` tag to 600.\n",
    "* Set the `font-weight` of the `h3` tag to 500.\n",
    "* Set the `font-weight` of the `h4` tag to 400.\n",
    "* Set the `font-weight` of the `h5` tag to 300.\n",
    "* Set the `font-weight` of the `h6` tag to 200."
   ]
  },
  {
   "cell_type": "markdown",
   "metadata": {},
   "source": [
    "```HTML\n",
    "<style>\n",
    "  h1 {\n",
    "    font-size: 68px;\n",
    "    font-weight: 800;\n",
    "  }\n",
    "  h2 {\n",
    "    font-size: 52px;\n",
    "    font-weight: 600;\n",
    "  }\n",
    "  h3 {\n",
    "    font-size: 40px;\n",
    "    font-weight: 500;\n",
    "  }\n",
    "  h4 {\n",
    "    font-size: 32px;\n",
    "    font-weight: 400;\n",
    "  }\n",
    "  h5 {\n",
    "    font-size: 21px;\n",
    "    font-weight: 300;\n",
    "  }\n",
    "  h6 {\n",
    "    font-size: 14px;\n",
    "    font-weight: 200;\n",
    "  }\n",
    "</style>\n",
    "\n",
    "<h1>This is h1 text</h1>\n",
    "<h2>This is h2 text</h2>\n",
    "<h3>This is h3 text</h3>\n",
    "<h4>This is h4 text</h4>\n",
    "<h5>This is h5 text</h5>\n",
    "<h6>This is h6 text</h6>\n",
    "```"
   ]
  },
  {
   "cell_type": "code",
   "execution_count": 88,
   "metadata": {},
   "outputs": [
    {
     "data": {
      "text/html": [
       "\n",
       "        <iframe\n",
       "            width=\"100%\"\n",
       "            height=\"250\"\n",
       "            src=\"./source-solution/03-applied-visual-design/014-set-the-font-weight-for-multiple-heading-elements.html\"\n",
       "            frameborder=\"0\"\n",
       "            allowfullscreen\n",
       "        ></iframe>\n",
       "        "
      ],
      "text/plain": [
       "<IPython.lib.display.IFrame at 0x1126b17c748>"
      ]
     },
     "execution_count": 88,
     "metadata": {},
     "output_type": "execute_result"
    }
   ],
   "source": [
    "IFrame('./source-solution/03-applied-visual-design/014-set-the-font-weight-for-multiple-heading-elements.html', '100%', 250)"
   ]
  },
  {
   "cell_type": "markdown",
   "metadata": {},
   "source": [
    "### Set the font-size of Paragraph Text"
   ]
  },
  {
   "cell_type": "markdown",
   "metadata": {},
   "source": [
    "The `font-size` property in CSS is not limited to headings, it can be applied to any element containing text.\n",
    "\n",
    "---\n",
    "Change the value of the `font-size` property for the paragraph to 16px to make it more visible."
   ]
  },
  {
   "cell_type": "markdown",
   "metadata": {},
   "source": [
    "```HTML\n",
    "<style>\n",
    "  p {\n",
    "    font-size: 16px;\n",
    "  }\n",
    "</style>\n",
    "<p>\n",
    "  Lorem ipsum dolor sit amet, consectetur adipiscing elit, sed do eiusmod tempor incididunt ut labore et dolore magna aliqua. Ut enim ad minim veniam, quis nostrud exercitation ullamco laboris nisi ut aliquip ex ea commodo consequat. Duis aute irure dolor in reprehenderit in voluptate velit esse cillum dolore eu fugiat nulla pariatur.\n",
    "</p>\n",
    "```"
   ]
  },
  {
   "cell_type": "code",
   "execution_count": 89,
   "metadata": {},
   "outputs": [
    {
     "data": {
      "text/html": [
       "\n",
       "        <iframe\n",
       "            width=\"100%\"\n",
       "            height=\"250\"\n",
       "            src=\"./source-solution/03-applied-visual-design/015-set-the-font-size-of-paragraph-text.html\"\n",
       "            frameborder=\"0\"\n",
       "            allowfullscreen\n",
       "        ></iframe>\n",
       "        "
      ],
      "text/plain": [
       "<IPython.lib.display.IFrame at 0x1126b1cff60>"
      ]
     },
     "execution_count": 89,
     "metadata": {},
     "output_type": "execute_result"
    }
   ],
   "source": [
    "IFrame('./source-solution/03-applied-visual-design/015-set-the-font-size-of-paragraph-text.html', '100%', 250)"
   ]
  },
  {
   "cell_type": "markdown",
   "metadata": {},
   "source": [
    "### Set the line-height of Paragraphs"
   ]
  },
  {
   "cell_type": "markdown",
   "metadata": {},
   "source": [
    "CSS offers the `line-height` property to change the height of each line in a block of text. As the name suggests, it changes the amount of vertical space that each line of text gets.\n",
    "\n",
    "---\n",
    "Add a `line-height` property to the `p` tag and set it to 25px."
   ]
  },
  {
   "cell_type": "markdown",
   "metadata": {},
   "source": [
    "```HTML\n",
    "<style>\n",
    "  p {\n",
    "    font-size: 16px;\n",
    "    line-height: 25px;\n",
    "  }\n",
    "</style>\n",
    "<p>\n",
    "  Lorem ipsum dolor sit amet, consectetur adipiscing elit, sed do eiusmod tempor incididunt ut labore et dolore magna aliqua. Ut enim ad minim veniam, quis nostrud exercitation ullamco laboris nisi ut aliquip ex ea commodo consequat. Duis aute irure dolor in reprehenderit in voluptate velit esse cillum dolore eu fugiat nulla pariatur.\n",
    "</p>\n",
    "```"
   ]
  },
  {
   "cell_type": "code",
   "execution_count": 90,
   "metadata": {},
   "outputs": [
    {
     "data": {
      "text/html": [
       "\n",
       "        <iframe\n",
       "            width=\"100%\"\n",
       "            height=\"250\"\n",
       "            src=\"./source-solution/03-applied-visual-design/016-set-the-line-height-of-paragraphs.html\"\n",
       "            frameborder=\"0\"\n",
       "            allowfullscreen\n",
       "        ></iframe>\n",
       "        "
      ],
      "text/plain": [
       "<IPython.lib.display.IFrame at 0x1126b1cf208>"
      ]
     },
     "execution_count": 90,
     "metadata": {},
     "output_type": "execute_result"
    }
   ],
   "source": [
    "IFrame('./source-solution/03-applied-visual-design/016-set-the-line-height-of-paragraphs.html', '100%', 250)"
   ]
  },
  {
   "cell_type": "markdown",
   "metadata": {},
   "source": [
    "### Adjust the Hover State of an Anchor Tag"
   ]
  },
  {
   "cell_type": "markdown",
   "metadata": {},
   "source": [
    "This challenge will touch on the usage of pseudo-classes. A pseudo-class is a keyword that can be added to selectors, in order to select a specific state of the element.\n",
    "\n",
    "For example, the styling of an anchor tag can be changed for its hover state using the `:hover` pseudo-class selector. Here's the CSS to change the `color` of the anchor tag to red during its hover state:\n",
    "\n",
    "```CSS\n",
    "a:hover {\n",
    "  color: red;\n",
    "}\n",
    "```\n",
    "\n",
    "---\n",
    "The code editor has a CSS rule to style all `a` tags black. Add a rule so that when the user hovers over the `a` tag, the `color` is blue."
   ]
  },
  {
   "cell_type": "markdown",
   "metadata": {},
   "source": [
    "```HTML\n",
    "<style>\n",
    "  a {\n",
    "    color: #000;\n",
    "  }\n",
    "  a:hover {\n",
    "    color: blue;\n",
    "  }\n",
    "\n",
    "\n",
    "</style>\n",
    "<a href=\"http://freecatphotoapp.com/\" target=\"_blank\">CatPhotoApp</a>\n",
    "```"
   ]
  },
  {
   "cell_type": "code",
   "execution_count": 91,
   "metadata": {},
   "outputs": [
    {
     "data": {
      "text/html": [
       "\n",
       "        <iframe\n",
       "            width=\"100%\"\n",
       "            height=\"250\"\n",
       "            src=\"./source-solution/03-applied-visual-design/017-adjust-the-hover-state-of-an-anchor-tag.html\"\n",
       "            frameborder=\"0\"\n",
       "            allowfullscreen\n",
       "        ></iframe>\n",
       "        "
      ],
      "text/plain": [
       "<IPython.lib.display.IFrame at 0x1126b1c4e10>"
      ]
     },
     "execution_count": 91,
     "metadata": {},
     "output_type": "execute_result"
    }
   ],
   "source": [
    "IFrame('./source-solution/03-applied-visual-design/017-adjust-the-hover-state-of-an-anchor-tag.html', '100%', 250)"
   ]
  },
  {
   "cell_type": "markdown",
   "metadata": {},
   "source": [
    "### Change an Element's Relative Position"
   ]
  },
  {
   "cell_type": "markdown",
   "metadata": {},
   "source": [
    "CSS treats each HTML element as its own box, which is usually referred to as the CSS Box Model. Block-level items automatically start on a new line (think headings, paragraphs, and divs) while inline items sit within surrounding content (like images or spans). The default layout of elements in this way is called the normal flow of a document, but CSS offers the position property to override it.\n",
    "\n",
    "When the position of an element is set to `relative`, it allows you to specify how CSS should move it relative to its current position in the normal flow of the page. It pairs with the CSS offset properties of `left` or `right`, and `top` or `bottom`. These say how many pixels, percentages, or ems to move the item away from where it is normally positioned. The following example moves the paragraph 10 pixels away from the bottom:\n",
    "\n",
    "```CSS\n",
    "p {\n",
    "  position: relative;\n",
    "  bottom: 10px;\n",
    "}\n",
    "```\n",
    "\n",
    "Changing an element's position to relative does not remove it from the normal flow - other elements around it still behave as if that item were in its default position. Note: Positioning gives you a lot of flexibility and power over the visual layout of a page. It's good to remember that no matter the position of elements, the underlying HTML markup should be organized and make sense when read from top to bottom. This is how users with visual impairments (who rely on assistive devices like screen readers) access your content.\n",
    "\n",
    "---\n",
    "Change the `position` of the `h2` to `relative`, and use a CSS offset to move it 15 pixels away from the `top` of where it sits in the normal flow. Notice there is no impact on the positions of the surrounding h1 and p elements."
   ]
  },
  {
   "cell_type": "markdown",
   "metadata": {},
   "source": [
    "```HTML\n",
    "<style>\n",
    "  h2 {\n",
    "    position: relative;\n",
    "    top: 15px;\n",
    "  }\n",
    "</style>\n",
    "<body>\n",
    "  <h1>On Being Well-Positioned</h1>\n",
    "  <h2>Move me!</h2>\n",
    "  <p>I still think the h2 is where it normally sits.</p>\n",
    "</body>\n",
    "```"
   ]
  },
  {
   "cell_type": "code",
   "execution_count": 92,
   "metadata": {},
   "outputs": [
    {
     "data": {
      "text/html": [
       "\n",
       "        <iframe\n",
       "            width=\"100%\"\n",
       "            height=\"250\"\n",
       "            src=\"./source-solution/03-applied-visual-design/018-change-an-elements-relative-position.html\"\n",
       "            frameborder=\"0\"\n",
       "            allowfullscreen\n",
       "        ></iframe>\n",
       "        "
      ],
      "text/plain": [
       "<IPython.lib.display.IFrame at 0x1126b1bfc88>"
      ]
     },
     "execution_count": 92,
     "metadata": {},
     "output_type": "execute_result"
    }
   ],
   "source": [
    "IFrame('./source-solution/03-applied-visual-design/018-change-an-elements-relative-position.html', '100%', 250)"
   ]
  },
  {
   "cell_type": "markdown",
   "metadata": {},
   "source": [
    "### Move a Relatively Positioned Element with CSS Offsets"
   ]
  },
  {
   "cell_type": "markdown",
   "metadata": {},
   "source": [
    "The CSS offsets of `top` or `bottom`, and `left` or `right` tell the browser how far to offset an item relative to where it would sit in the normal flow of the document. You're offsetting an element away from a given spot, which moves the element away from the referenced side (effectively, the opposite direction). As you saw in the last challenge, using the top offset moved the `h2` downwards. Likewise, using a left offset moves an item to the right.\n",
    "\n",
    "<img src=\"./images/eWWi3gZ.gif\">\n",
    "\n",
    "---\n",
    "Use CSS offsets to move the `h2` 15 pixels to the right and 10 pixels up."
   ]
  },
  {
   "cell_type": "markdown",
   "metadata": {},
   "source": [
    "```HTML\n",
    "<head>\n",
    "<style>\n",
    "  h2 {\n",
    "    position: relative;\n",
    "    left: 15px;\n",
    "    bottom: 10px;\n",
    "  }\n",
    "</style>\n",
    "</head>\n",
    "<body>\n",
    "  <h1>On Being Well-Positioned</h1>\n",
    "  <h2>Move me!</h2>\n",
    "  <p>I still think the h2 is where it normally sits.</p>\n",
    "</body>\n",
    "```"
   ]
  },
  {
   "cell_type": "code",
   "execution_count": 93,
   "metadata": {},
   "outputs": [
    {
     "data": {
      "text/html": [
       "\n",
       "        <iframe\n",
       "            width=\"100%\"\n",
       "            height=\"250\"\n",
       "            src=\"./source-solution/03-applied-visual-design/019-move-a-relatively-positioned-element-with-css-offsets.html\"\n",
       "            frameborder=\"0\"\n",
       "            allowfullscreen\n",
       "        ></iframe>\n",
       "        "
      ],
      "text/plain": [
       "<IPython.lib.display.IFrame at 0x1126b1bf0b8>"
      ]
     },
     "execution_count": 93,
     "metadata": {},
     "output_type": "execute_result"
    }
   ],
   "source": [
    "IFrame('./source-solution/03-applied-visual-design/019-move-a-relatively-positioned-element-with-css-offsets.html', '100%', 250)"
   ]
  },
  {
   "cell_type": "markdown",
   "metadata": {},
   "source": [
    "### Lock an Element to its Parent with Absolute Positioning"
   ]
  },
  {
   "cell_type": "markdown",
   "metadata": {},
   "source": [
    "The next option for the CSS `position` property is `absolute`, which locks the element in place `relative` to its parent container. Unlike the relative position, this removes the element from the normal flow of the document, so surrounding items ignore it. The CSS offset properties (top or bottom and left or right) are used to adjust the position.\n",
    "\n",
    "One nuance with absolute positioning is that it will be locked relative to its closest positioned ancestor. If you forget to add a position rule to the parent item, (this is typically done using position: relative;), the browser will keep looking up the chain and ultimately default to the body tag.\n",
    "\n",
    "---\n",
    "Lock the `#searchbar` element to the top-right of its `section` parent by declaring its `position` as `absolute`. Give it `top` and `right` offsets of 50 pixels each."
   ]
  },
  {
   "cell_type": "markdown",
   "metadata": {},
   "source": [
    "```HTML\n",
    "<style>\n",
    "  #searchbar {\n",
    "    position: absolute;\n",
    "    top: 50px;\n",
    "    right: 50px;\n",
    "  }\n",
    "  section {\n",
    "    position: relative;\n",
    "  }\n",
    "</style>\n",
    "<body>\n",
    "  <h1>Welcome!</h1>\n",
    "  <section>\n",
    "    <form id=\"searchbar\">\n",
    "      <label for=\"search\">Search:</label>\n",
    "      <input type=\"search\" id=\"search\" name=\"search\">\n",
    "      <input type=\"submit\" name=\"submit\" value=\"Go!\">\n",
    "    </form>\n",
    "  </section>\n",
    "</body>\n",
    "```"
   ]
  },
  {
   "cell_type": "code",
   "execution_count": 94,
   "metadata": {},
   "outputs": [
    {
     "data": {
      "text/html": [
       "\n",
       "        <iframe\n",
       "            width=\"100%\"\n",
       "            height=\"250\"\n",
       "            src=\"./source-solution/03-applied-visual-design/020-lock-an-element-to-its-parent-with-absolute-positioning.html\"\n",
       "            frameborder=\"0\"\n",
       "            allowfullscreen\n",
       "        ></iframe>\n",
       "        "
      ],
      "text/plain": [
       "<IPython.lib.display.IFrame at 0x1126b1bf128>"
      ]
     },
     "execution_count": 94,
     "metadata": {},
     "output_type": "execute_result"
    }
   ],
   "source": [
    "IFrame('./source-solution/03-applied-visual-design/020-lock-an-element-to-its-parent-with-absolute-positioning.html', '100%', 250)"
   ]
  },
  {
   "cell_type": "markdown",
   "metadata": {},
   "source": [
    "### Lock an Element to the Browser Window with Fixed Positioning"
   ]
  },
  {
   "cell_type": "markdown",
   "metadata": {},
   "source": [
    "The next layout scheme that CSS offers is the `fixed` position, which is a type of absolute positioning that locks an element relative to the browser window. Similar to absolute positioning, it's used with the CSS offset properties and also removes the element from the normal flow of the document. Other items no longer \"realize\" where it is positioned, which may require some layout adjustments elsewhere.\n",
    "\n",
    "One key difference between the `fixed` and `absolute` positions is that an element with a fixed position won't move when the user scrolls.\n",
    "\n",
    "---\n",
    "The navigation bar in the code is labeled with an id of `navbar`. Change its `position` to `fixed`, and offset it 0 pixels from the `top` and 0 pixels from the `left`. After you have added the code, scroll the preview window to see how the navigation stays in place."
   ]
  },
  {
   "cell_type": "markdown",
   "metadata": {},
   "source": [
    "```HTML\n",
    "<style>\n",
    "  body {\n",
    "    min-height: 150vh;\n",
    "  }\n",
    "  #navbar {\n",
    "    position: fixed;\n",
    "    top: 0px;\n",
    "    left: 0px;\n",
    "    width: 100%;\n",
    "    background-color: #767676;\n",
    "  }\n",
    "  nav ul {\n",
    "    margin: 0px;\n",
    "    padding: 5px 0px 5px 30px;\n",
    "  }\n",
    "  nav li {\n",
    "    display: inline;\n",
    "    margin-right: 20px;\n",
    "  }\n",
    "  a {\n",
    "    text-decoration: none;\n",
    "  }\n",
    "</style>\n",
    "<body>\n",
    "  <header>\n",
    "    <h1>Welcome!</h1>\n",
    "    <nav id=\"navbar\">\n",
    "      <ul>\n",
    "        <li><a href=\"\">Home</a></li>\n",
    "        <li><a href=\"\">Contact</a></li>\n",
    "      </ul>\n",
    "    </nav>\n",
    "  </header>\n",
    "  <p>I shift up when the #navbar is fixed to the browser window.</p>\n",
    "</body>\n",
    "```"
   ]
  },
  {
   "cell_type": "code",
   "execution_count": 95,
   "metadata": {},
   "outputs": [
    {
     "data": {
      "text/html": [
       "\n",
       "        <iframe\n",
       "            width=\"100%\"\n",
       "            height=\"250\"\n",
       "            src=\"./source-solution/03-applied-visual-design/021-lock-an-element-to-the-browser-window-with-fixed-positioning.html\"\n",
       "            frameborder=\"0\"\n",
       "            allowfullscreen\n",
       "        ></iframe>\n",
       "        "
      ],
      "text/plain": [
       "<IPython.lib.display.IFrame at 0x1126b1ba3c8>"
      ]
     },
     "execution_count": 95,
     "metadata": {},
     "output_type": "execute_result"
    }
   ],
   "source": [
    "IFrame('./source-solution/03-applied-visual-design/021-lock-an-element-to-the-browser-window-with-fixed-positioning.html', '100%', 250)"
   ]
  },
  {
   "cell_type": "markdown",
   "metadata": {},
   "source": [
    "### Push Elements Left or Right with the float Property"
   ]
  },
  {
   "cell_type": "markdown",
   "metadata": {},
   "source": [
    "The next positioning tool does not actually use `position`, but sets the `float` property of an element. Floating elements are removed from the normal flow of a document and pushed to either the `left` or `right` of their containing parent element. It's commonly used with the `width` property to specify how much horizontal space the floated element requires.\n",
    "\n",
    "---\n",
    "The given markup would work well as a two-column layout, with the `section` and `aside` elements next to each other. Give the `#left` item a `float` of `left` and the `#right` item a `float` of `right`."
   ]
  },
  {
   "cell_type": "markdown",
   "metadata": {},
   "source": [
    "```HTML\n",
    "<head>\n",
    "  <style>\n",
    "    #left {\n",
    "      float: left;\n",
    "      width: 50%;\n",
    "    }\n",
    "    #right {\n",
    "      float: right;\n",
    "      width: 40%;\n",
    "    }\n",
    "    aside, section {\n",
    "      padding: 2px;\n",
    "      background-color: #ccc;\n",
    "    }\n",
    "  </style>\n",
    "</head>\n",
    "<body>\n",
    "  <header>\n",
    "    <h1>Welcome!</h1>\n",
    "  </header>\n",
    "  <section id=\"left\">\n",
    "    <h2>Content</h2>\n",
    "    <p>Good stuff</p>\n",
    "  </section>\n",
    "  <aside id=\"right\">\n",
    "    <h2>Sidebar</h2>\n",
    "    <p>Links</p>\n",
    "  </aside>\n",
    "</body>\n",
    "```"
   ]
  },
  {
   "cell_type": "code",
   "execution_count": 96,
   "metadata": {},
   "outputs": [
    {
     "data": {
      "text/html": [
       "\n",
       "        <iframe\n",
       "            width=\"100%\"\n",
       "            height=\"250\"\n",
       "            src=\"./source-solution/03-applied-visual-design/022-push-elements-left-or-right-with-the-float-property.html\"\n",
       "            frameborder=\"0\"\n",
       "            allowfullscreen\n",
       "        ></iframe>\n",
       "        "
      ],
      "text/plain": [
       "<IPython.lib.display.IFrame at 0x1126b1ba588>"
      ]
     },
     "execution_count": 96,
     "metadata": {},
     "output_type": "execute_result"
    }
   ],
   "source": [
    "IFrame('./source-solution/03-applied-visual-design/022-push-elements-left-or-right-with-the-float-property.html', '100%', 250)"
   ]
  },
  {
   "cell_type": "markdown",
   "metadata": {},
   "source": [
    "### Change the Position of Overlapping Elements with the z-index Property"
   ]
  },
  {
   "cell_type": "markdown",
   "metadata": {},
   "source": [
    "When elements are positioned to overlap (i.e. using `position: absolute | relative | fixed | sticky`), the element coming later in the HTML markup will, by default, appear on the top of the other elements. However, the `z-index` property can specify the order of how elements are stacked on top of one another. It must be an integer (i.e. a whole number and not a decimal), and higher values for the `z-index` property of an element move it higher in the stack than those with lower values.\n",
    "\n",
    "---\n",
    "Add a `z-index` property to the element with the class name of `first` (the red rectangle) and set it to a value of 2 so it covers the other element (blue rectangle)."
   ]
  },
  {
   "cell_type": "markdown",
   "metadata": {},
   "source": [
    "```HTML\n",
    "<style>\n",
    "  div {\n",
    "    width: 60%;\n",
    "    height: 200px;\n",
    "    margin-top: 20px;\n",
    "  }\n",
    "\n",
    "  .first {\n",
    "    background-color: red;\n",
    "    position: absolute;\n",
    "    z-index: 2;\n",
    "  }\n",
    "  .second {\n",
    "    background-color: blue;\n",
    "    position: absolute;\n",
    "    left: 40px;\n",
    "    top: 50px;\n",
    "    z-index: 1;\n",
    "  }\n",
    "</style>\n",
    "\n",
    "<div class=\"first\"></div>\n",
    "<div class=\"second\"></div>\n",
    "```"
   ]
  },
  {
   "cell_type": "code",
   "execution_count": 97,
   "metadata": {},
   "outputs": [
    {
     "data": {
      "text/html": [
       "\n",
       "        <iframe\n",
       "            width=\"100%\"\n",
       "            height=\"250\"\n",
       "            src=\"./source-solution/03-applied-visual-design/023-change-the-position-of-overlapping-elements-with-the-z-index-property.html\"\n",
       "            frameborder=\"0\"\n",
       "            allowfullscreen\n",
       "        ></iframe>\n",
       "        "
      ],
      "text/plain": [
       "<IPython.lib.display.IFrame at 0x1126b1b1860>"
      ]
     },
     "execution_count": 97,
     "metadata": {},
     "output_type": "execute_result"
    }
   ],
   "source": [
    "IFrame('./source-solution/03-applied-visual-design/023-change-the-position-of-overlapping-elements-with-the-z-index-property.html', '100%', 250)"
   ]
  },
  {
   "cell_type": "markdown",
   "metadata": {},
   "source": [
    "### Center an Element Horizontally Using the margin Property"
   ]
  },
  {
   "cell_type": "markdown",
   "metadata": {},
   "source": [
    "Another positioning technique is to center a block element horizontally. One way to do this is to set its `margin` to a value of auto.\n",
    "\n",
    "This method works for images, too. Images are inline elements by default, but can be changed to block elements when you set the `display` property to block.\n",
    "\n",
    "---\n",
    "Center the `div` on the page by adding a `margin` property with a value of auto."
   ]
  },
  {
   "cell_type": "markdown",
   "metadata": {},
   "source": [
    "```HTML\n",
    "<style>\n",
    "  div {\n",
    "    background-color: blue;\n",
    "    height: 100px;\n",
    "    width: 100px;\n",
    "    margin: auto;\n",
    "  }\n",
    "</style>\n",
    "<div></div>\n",
    "```"
   ]
  },
  {
   "cell_type": "code",
   "execution_count": 98,
   "metadata": {},
   "outputs": [
    {
     "data": {
      "text/html": [
       "\n",
       "        <iframe\n",
       "            width=\"100%\"\n",
       "            height=\"250\"\n",
       "            src=\"./source-solution/03-applied-visual-design/024-center-an-element-horizontally-using-the-margin-property.html\"\n",
       "            frameborder=\"0\"\n",
       "            allowfullscreen\n",
       "        ></iframe>\n",
       "        "
      ],
      "text/plain": [
       "<IPython.lib.display.IFrame at 0x1126b1b1be0>"
      ]
     },
     "execution_count": 98,
     "metadata": {},
     "output_type": "execute_result"
    }
   ],
   "source": [
    "IFrame('./source-solution/03-applied-visual-design/024-center-an-element-horizontally-using-the-margin-property.html', '100%', 250)"
   ]
  },
  {
   "cell_type": "markdown",
   "metadata": {},
   "source": [
    "### Learn about Complementary Colors"
   ]
  },
  {
   "cell_type": "markdown",
   "metadata": {},
   "source": [
    "Color theory and its impact on design is a deep topic and only the basics are covered in the following challenges. On a website, color can draw attention to content, evoke emotions, or create visual harmony. Using different combinations of colors can really change the look of a website, and a lot of thought can go into picking a color palette that works with your content.\n",
    "\n",
    "The color wheel is a useful tool to visualize how colors relate to each other - it's a circle where similar hues are neighbors and different hues are farther apart. When two colors are opposite each other on the wheel, they are called complementary colors. They have the characteristic that if they are combined, they \"cancel\" each other out and create a gray color. However, when placed side-by-side, these colors appear more vibrant and produce a strong visual contrast.\n",
    "\n",
    "Some examples of complementary colors with their hex codes are:\n",
    "\n",
    "```\n",
    "red (#FF0000) and cyan (#00FFFF)\n",
    "green (#00FF00) and magenta (#FF00FF)\n",
    "blue (#0000FF) and yellow (#FFFF00)\n",
    "```\n",
    "\n",
    "This is different than the outdated RYB color model that many of us were taught in school, which has different primary and complementary colors. Modern color theory uses the additive RGB model (like on a computer screen) and the subtractive CMY(K) model (like in printing). Read [here](https://en.wikipedia.org/wiki/Color_model) for more information on this complex subject.\n",
    "\n",
    "There are many color picking tools available online that have an option to find the complement of a color.\n",
    "\n",
    "**Note**: For all color challenges: Using color can be a powerful way to add visual interest to a page. However, color alone should not be used as the only way to convey important information because users with visual impairments may not understand that content. This issue will be covered in more detail in the Applied Accessibility challenges.\n",
    "\n",
    "---\n",
    "Change the `background-color` property of the `blue` and `yellow` classes to their respective colors. Notice how the colors look different next to each other than they do compared against the white background."
   ]
  },
  {
   "cell_type": "markdown",
   "metadata": {},
   "source": [
    "```HTML\n",
    "<style>\n",
    "  body {\n",
    "    background-color: #FFFFFF;\n",
    "  }\n",
    "  .blue {\n",
    "    background-color: #0000FF;\n",
    "  }\n",
    "  .yellow {\n",
    "    background-color: #FFFF00;\n",
    "  }\n",
    "  div {\n",
    "    display: inline-block;\n",
    "    height: 100px;\n",
    "    width: 100px;\n",
    "  }\n",
    "</style>\n",
    "<div class=\"blue\"></div>\n",
    "<div class=\"yellow\"></div>\n",
    "```"
   ]
  },
  {
   "cell_type": "code",
   "execution_count": 99,
   "metadata": {},
   "outputs": [
    {
     "data": {
      "text/html": [
       "\n",
       "        <iframe\n",
       "            width=\"100%\"\n",
       "            height=\"250\"\n",
       "            src=\"./source-solution/03-applied-visual-design/025-learn-about-complementary-colors.html\"\n",
       "            frameborder=\"0\"\n",
       "            allowfullscreen\n",
       "        ></iframe>\n",
       "        "
      ],
      "text/plain": [
       "<IPython.lib.display.IFrame at 0x1126b1afb38>"
      ]
     },
     "execution_count": 99,
     "metadata": {},
     "output_type": "execute_result"
    }
   ],
   "source": [
    "IFrame('./source-solution/03-applied-visual-design/025-learn-about-complementary-colors.html', '100%', 250)"
   ]
  },
  {
   "cell_type": "markdown",
   "metadata": {},
   "source": [
    "### Learn about Tertiary Colors"
   ]
  },
  {
   "cell_type": "markdown",
   "metadata": {},
   "source": [
    "Computer monitors and device screens create different colors by combining amounts of red, green, and blue light. This is known as the RGB additive color model in modern color theory. Red (R), green (G), and blue (B) are called primary colors. Mixing two primary colors creates the secondary colors cyan (G + B), magenta (R + B) and yellow (R + G). You saw these colors in the Complementary Colors challenge. These secondary colors happen to be the complement to the primary color not used in their creation, and are opposite to that primary color on the color wheel. For example, magenta is made with red and blue, and is the complement to green.\n",
    "\n",
    "Tertiary colors are the result of combining a primary color with one of its secondary color neighbors. For example, within the RGB color model, red (primary) and yellow (secondary) make orange (tertiary). This adds six more colors to a simple color wheel for a total of twelve.\n",
    "\n",
    "There are various methods of selecting different colors that result in a harmonious combination in design. One example that can use tertiary colors is called the split-complementary color scheme. This scheme starts with a base color, then pairs it with the two colors that are adjacent to its complement. The three colors provide strong visual contrast in a design, but are more subtle than using two complementary colors.\n",
    "\n",
    "Here are three colors created using the split-complement scheme:\n",
    "\n",
    "Color    | Hex Code\n",
    "---------|----------\n",
    "orange\t | `#FF7F00`\n",
    "cyan\t | `#00FFFF`\n",
    "raspberry| `#FF007F`\n",
    "\n",
    "---\n",
    "Change the `background-color` property of the `orange`, `cyan`, and `raspberry` classes to their respective colors. Make sure to use the hex codes and not the color names."
   ]
  },
  {
   "cell_type": "markdown",
   "metadata": {},
   "source": [
    "```HTML\n",
    "<style>\n",
    "  body {\n",
    "    background-color: #FFFFFF;\n",
    "  }\n",
    "\n",
    "  .orange {\n",
    "    background-color: #FF7F00;\n",
    "  }\n",
    "\n",
    "  .cyan {\n",
    "    background-color: #00FFFF;\n",
    "  }\n",
    "\n",
    "  .raspberry {\n",
    "    background-color: #FF007F;\n",
    "  }\n",
    "\n",
    "  div {\n",
    "    height: 100px;\n",
    "    width: 100px;\n",
    "    margin-bottom: 5px;\n",
    "  }\n",
    "</style>\n",
    "\n",
    "<div class=\"orange\"></div>\n",
    "<div class=\"cyan\"></div>\n",
    "<div class=\"raspberry\"></div>\n",
    "```"
   ]
  },
  {
   "cell_type": "code",
   "execution_count": 100,
   "metadata": {},
   "outputs": [
    {
     "data": {
      "text/html": [
       "\n",
       "        <iframe\n",
       "            width=\"100%\"\n",
       "            height=\"250\"\n",
       "            src=\"./source-solution/03-applied-visual-design/026-learn-about-tertiary-colors.html\"\n",
       "            frameborder=\"0\"\n",
       "            allowfullscreen\n",
       "        ></iframe>\n",
       "        "
      ],
      "text/plain": [
       "<IPython.lib.display.IFrame at 0x1126b1afb00>"
      ]
     },
     "execution_count": 100,
     "metadata": {},
     "output_type": "execute_result"
    }
   ],
   "source": [
    "IFrame('./source-solution/03-applied-visual-design/026-learn-about-tertiary-colors.html', '100%', 250)"
   ]
  },
  {
   "cell_type": "markdown",
   "metadata": {},
   "source": [
    "### Adjust the Color of Various Elements to Complementary Colors"
   ]
  },
  {
   "cell_type": "markdown",
   "metadata": {},
   "source": [
    "The Complementary Colors challenge showed that opposite colors on the color wheel can make each other appear more vibrant when placed side-by-side. However, the strong visual contrast can be jarring if it's overused on a website, and can sometimes make text harder to read if it's placed on a complementary-colored background. In practice, one of the colors is usually dominant and the complement is used to bring visual attention to certain content on the page.\n",
    "\n",
    "---\n",
    "This page will use a shade of teal (`#09A7A1`) as the dominant color, and its orange (`#FF790E`) complement to visually highlight the sign-up buttons. Change the `background-color` of both the `header` and `footer` from black to the teal color. Then change the `h2` text `color` to teal as well. Finally, change the `background-color` of the `button` to the orange color."
   ]
  },
  {
   "cell_type": "markdown",
   "metadata": {},
   "source": [
    "```HTML\n",
    "<style>\n",
    "  body {\n",
    "    background-color: white;\n",
    "  }\n",
    "  header {\n",
    "    background-color: #09A7A1;\n",
    "    color: white;\n",
    "    padding: 0.25em;\n",
    "  }\n",
    "  h2 {\n",
    "    color: #09A7A1 ;\n",
    "  }\n",
    "  button {\n",
    "    background-color: #FF790E;\n",
    "  }\n",
    "  footer {\n",
    "    background-color: #09A7A1;\n",
    "    color: white;\n",
    "    padding: 0.5em;\n",
    "  }\n",
    "</style>\n",
    "<header>\n",
    "  <h1>Cooking with FCC!</h1>\n",
    "</header>\n",
    "<main>\n",
    "  <article>\n",
    "    <h2>Machine Learning in the Kitchen</h2>\n",
    "    <p>Join this two day workshop that walks through how to implement cutting-edge snack-getting algorithms with a command line interface. Coding usually involves writing exact instructions, but sometimes you need your computer to execute flexible commands, like <code>fetch Pringles</code>.</p>\n",
    "    <button>Sign Up</button>\n",
    "  </article>\n",
    "  <article>\n",
    "    <h2>Bisection Vegetable Chopping</h2>\n",
    "    <p>This week-long retreat will level-up your coding ninja skills to actual ninja skills. No longer is the humble bisection search limited to sorted arrays or coding interview questions, applying its concepts in the kitchen will have you chopping carrots in O(log n) time before you know it.</p>\n",
    "    <button>Sign Up</button>\n",
    "  </article>\n",
    "</main>\n",
    "<br>\n",
    "<footer>&copy; 2018 FCC Kitchen</footer>\n",
    "```"
   ]
  },
  {
   "cell_type": "code",
   "execution_count": 101,
   "metadata": {},
   "outputs": [
    {
     "data": {
      "text/html": [
       "\n",
       "        <iframe\n",
       "            width=\"100%\"\n",
       "            height=\"250\"\n",
       "            src=\"./source-solution/03-applied-visual-design/027-adjust-the-color-of-various-elements-to-complementary-colors.html\"\n",
       "            frameborder=\"0\"\n",
       "            allowfullscreen\n",
       "        ></iframe>\n",
       "        "
      ],
      "text/plain": [
       "<IPython.lib.display.IFrame at 0x1126b14ff98>"
      ]
     },
     "execution_count": 101,
     "metadata": {},
     "output_type": "execute_result"
    }
   ],
   "source": [
    "IFrame('./source-solution/03-applied-visual-design/027-adjust-the-color-of-various-elements-to-complementary-colors.html', '100%', 250)"
   ]
  },
  {
   "cell_type": "markdown",
   "metadata": {},
   "source": [
    "### Adjust the Hue of a Color"
   ]
  },
  {
   "cell_type": "markdown",
   "metadata": {},
   "source": [
    "Colors have several characteristics including hue, saturation, and lightness. CSS3 introduced the `hsl()` property as an alternative way to pick a color by directly stating these characteristics.\n",
    "\n",
    "Hue is what people generally think of as 'color'. If you picture a spectrum of colors starting with red on the left, moving through green in the middle, and blue on right, the hue is where a color fits along this line. In `hsl()`, hue uses a color wheel concept instead of the spectrum, where the angle of the color on the circle is given as a value between 0 and 360.\n",
    "\n",
    "**Saturation** is the amount of gray in a color. A fully saturated color has no gray in it, and a minimally saturated color is almost completely gray. This is given as a percentage with 100% being fully saturated.\n",
    "\n",
    "**Lightness** is the amount of white or black in a color. A percentage is given ranging from 0% (black) to 100% (white), where 50% is the normal color.\n",
    "\n",
    "Here are a few examples of using `hsl()` with fully-saturated, normal lightness colors:\n",
    "\n",
    " Color   | HSL\n",
    " --------|----------------------\n",
    " red     | `hsl(0, 100%, 50%)`\n",
    " yellow  | `hsl(60, 100%, 50%)`\n",
    " green   | `hsl(120, 100%, 50%)`\n",
    " cyan    | `hsl(180, 100%, 50%)`\n",
    " blue    | `hsl(240, 100%, 50%)`\n",
    " magenta | `hsl(300, 100%, 50%)`\n",
    "\n",
    "---\n",
    "Change the `background-color` of each `div` element based on the class names (`green`, `cyan`, or `blue`) using `hsl()`. All three should have full saturation and normal lightness."
   ]
  },
  {
   "cell_type": "markdown",
   "metadata": {},
   "source": [
    "```HTML\n",
    "<style>\n",
    "  body {\n",
    "    background-color: #FFFFFF;\n",
    "  }\n",
    "\n",
    "  .green {\n",
    "    background-color: hsl(120, 100%, 50%);\n",
    "  }\n",
    "\n",
    "  .cyan {\n",
    "    background-color: hsl(180, 100%, 50%);\n",
    "  }\n",
    "\n",
    "  .blue {\n",
    "    background-color: hsl(240, 100%, 50%);\n",
    "  }\n",
    "\n",
    "  div {\n",
    "    display: inline-block;\n",
    "    height: 100px;\n",
    "    width: 100px;\n",
    "  }\n",
    "</style>\n",
    "\n",
    "<div class=\"green\"></div>\n",
    "<div class=\"cyan\"></div>\n",
    "<div class=\"blue\"></div>\n",
    "```"
   ]
  },
  {
   "cell_type": "code",
   "execution_count": 102,
   "metadata": {},
   "outputs": [
    {
     "data": {
      "text/html": [
       "\n",
       "        <iframe\n",
       "            width=\"100%\"\n",
       "            height=\"250\"\n",
       "            src=\"./source-solution/03-applied-visual-design/028-adjust-the-hue-of-a-color.html\"\n",
       "            frameborder=\"0\"\n",
       "            allowfullscreen\n",
       "        ></iframe>\n",
       "        "
      ],
      "text/plain": [
       "<IPython.lib.display.IFrame at 0x1126b14f080>"
      ]
     },
     "execution_count": 102,
     "metadata": {},
     "output_type": "execute_result"
    }
   ],
   "source": [
    "IFrame('./source-solution/03-applied-visual-design/028-adjust-the-hue-of-a-color.html', '100%', 250)"
   ]
  },
  {
   "cell_type": "markdown",
   "metadata": {},
   "source": [
    "### Adjust the Tone of a Color"
   ]
  },
  {
   "cell_type": "markdown",
   "metadata": {},
   "source": [
    "The `hsl()` option in CSS also makes it easy to adjust the tone of a color. Mixing white with a pure hue creates a tint of that color, and adding black will make a shade. Alternatively, a tone is produced by adding gray or by both tinting and shading. Recall that the 's' and 'l' of `hsl()` stand for saturation and lightness, respectively. The saturation percent changes the amount of gray and the lightness percent determines how much white or black is in the color. This is useful when you have a base hue you like, but need different variations of it.\n",
    "\n",
    "---\n",
    "All elements have a default `background-color` of `transparent`. Our `nav` element currently appears to have a `cyan` background, because the element behind it has a `background-color` set to `cyan`. Add a `background-color` to the `nav` element so it uses the same `cyan` hue, but has `80% saturation` and `25% lightness` values to change its tone and shade."
   ]
  },
  {
   "cell_type": "markdown",
   "metadata": {},
   "source": [
    "```HTML\n",
    "<style>\n",
    "  header {\n",
    "    background-color: hsl(180, 90%, 35%);\n",
    "    color: #FFFFFF;\n",
    "  }\n",
    "\n",
    "  nav {\n",
    "    background-color: hsl(180, 80%, 25%)\n",
    "  }\n",
    "\n",
    "  h1 {\n",
    "    text-indent: 10px;\n",
    "    padding-top: 10px;\n",
    "  }\n",
    "\n",
    "  nav ul {\n",
    "    margin: 0px;\n",
    "    padding: 5px 0px 5px 30px;\n",
    "  }\n",
    "\n",
    "  nav li {\n",
    "    display: inline;\n",
    "    margin-right: 20px;\n",
    "  }\n",
    "\n",
    "  a {\n",
    "    text-decoration: none;\n",
    "    color: inherit;\n",
    "  }\n",
    "</style>\n",
    "\n",
    "<header>\n",
    "  <h1>Cooking with FCC!</h1>\n",
    "  <nav>\n",
    "    <ul>\n",
    "      <li><a href=\"#\">Home</a></li>\n",
    "      <li><a href=\"#\">Classes</a></li>\n",
    "      <li><a href=\"#\">Contact</a></li>\n",
    "    </ul>\n",
    "  </nav>\n",
    "</header>\n",
    "```"
   ]
  },
  {
   "cell_type": "code",
   "execution_count": 103,
   "metadata": {},
   "outputs": [
    {
     "data": {
      "text/html": [
       "\n",
       "        <iframe\n",
       "            width=\"100%\"\n",
       "            height=\"250\"\n",
       "            src=\"./source-solution/03-applied-visual-design/029-adjust-the-tone-of-a-color.html\"\n",
       "            frameborder=\"0\"\n",
       "            allowfullscreen\n",
       "        ></iframe>\n",
       "        "
      ],
      "text/plain": [
       "<IPython.lib.display.IFrame at 0x1126b19cf60>"
      ]
     },
     "execution_count": 103,
     "metadata": {},
     "output_type": "execute_result"
    }
   ],
   "source": [
    "IFrame('./source-solution/03-applied-visual-design/029-adjust-the-tone-of-a-color.html', '100%', 250)"
   ]
  },
  {
   "cell_type": "markdown",
   "metadata": {},
   "source": [
    "### Create a Gradual CSS Linear Gradient"
   ]
  },
  {
   "cell_type": "markdown",
   "metadata": {},
   "source": [
    "Applying a color on HTML elements is not limited to one flat hue. CSS provides the ability to use color transitions, otherwise known as gradients, on elements. This is accessed through the `background` property's `linear-gradient()` function. Here is the general syntax:\n",
    "\n",
    "`background: linear-gradient(gradient_direction, color 1, color 2, color 3, ...);`\n",
    "\n",
    "The first argument specifies the direction from which color transition starts - it can be stated as a degree, where 90deg makes a vertical gradient and 45deg is angled like a backslash. The following arguments specify the order of colors used in the gradient.\n",
    "\n",
    "Example:\n",
    "\n",
    "`background: linear-gradient(90deg, red, yellow, rgb(204, 204, 255));`\n",
    "\n",
    "---\n",
    "Use a `linear-gradient()` for the `div` element's `background`, and set it from a direction of 35 degrees to change the color from `#CCFFFF` to `#FFCCCC`."
   ]
  },
  {
   "cell_type": "markdown",
   "metadata": {},
   "source": [
    "```HTML\n",
    "<style>\n",
    "  div {\n",
    "    border-radius: 20px;\n",
    "    width: 70%;\n",
    "    height: 400px;\n",
    "    margin: 50px auto;\n",
    "    background: linear-gradient(35deg, #CCFFFF, #FFCCCC);\n",
    "  }\n",
    "\n",
    "</style>\n",
    "\n",
    "<div></div>\n",
    "```"
   ]
  },
  {
   "cell_type": "code",
   "execution_count": 104,
   "metadata": {},
   "outputs": [
    {
     "data": {
      "text/html": [
       "\n",
       "        <iframe\n",
       "            width=\"100%\"\n",
       "            height=\"250\"\n",
       "            src=\"./source-solution/03-applied-visual-design/030-create-a-gradual-css-linear-gradient.html\"\n",
       "            frameborder=\"0\"\n",
       "            allowfullscreen\n",
       "        ></iframe>\n",
       "        "
      ],
      "text/plain": [
       "<IPython.lib.display.IFrame at 0x1126b19ca90>"
      ]
     },
     "execution_count": 104,
     "metadata": {},
     "output_type": "execute_result"
    }
   ],
   "source": [
    "IFrame('./source-solution/03-applied-visual-design/030-create-a-gradual-css-linear-gradient.html', '100%', 250)"
   ]
  },
  {
   "cell_type": "markdown",
   "metadata": {},
   "source": [
    "### Use a CSS Linear Gradient to Create a Striped Element"
   ]
  },
  {
   "cell_type": "markdown",
   "metadata": {},
   "source": [
    "The `repeating-linear-gradient()` function is very similar to `linear-gradient()` with the major difference that it repeats the specified gradient pattern. `repeating-linear-gradient()` accepts a variety of values, but for simplicity, you'll work with an angle value and color stop values in this challenge.\n",
    "\n",
    "The angle value is the direction of the gradient. Color stops are like width values that mark where a transition takes place, and are given with a percentage or a number of pixels.\n",
    "\n",
    "In the example demonstrated in the code editor, the gradient starts with the color `yellow` at 0 pixels which blends into the second color `blue` at 40 pixels away from the start. Since the next color stop is also at 40 pixels, the gradient immediately changes to the third color `green`, which itself blends into the fourth color value `red` as that is 80 pixels away from the beginning of the gradient.\n",
    "\n",
    "For this example, it helps to think about the color stops as pairs where every two colors blend together.\n",
    "\n",
    "`0px [yellow -- blend -- blue] 40px [green -- blend -- red] 80px`\n",
    "\n",
    "If every two color stop values are the same color, the blending isn't noticeable because it's between the same color, followed by a hard transition to the next color, so you end up with stripes.\n",
    "\n",
    "---\n",
    "Make stripes by changing the `repeating-linear-gradient()` to use a gradient angle of `45deg`, then set the first two color stops to `yellow`, and finally the second two color stops to `black`."
   ]
  },
  {
   "cell_type": "markdown",
   "metadata": {},
   "source": [
    "```HTML\n",
    "<style>\n",
    "\n",
    "  div{\n",
    "    border-radius: 20px;\n",
    "    width: 70%;\n",
    "    height: 400px;\n",
    "    margin:  50 auto;\n",
    "    background: repeating-linear-gradient(\n",
    "      45deg,\n",
    "      yellow 0px,\n",
    "      yellow 40px,\n",
    "      black 40px,\n",
    "      black 80px\n",
    "    );\n",
    "  }\n",
    "\n",
    "</style>\n",
    "\n",
    "<div></div>\n",
    "```"
   ]
  },
  {
   "cell_type": "code",
   "execution_count": 105,
   "metadata": {},
   "outputs": [
    {
     "data": {
      "text/html": [
       "\n",
       "        <iframe\n",
       "            width=\"100%\"\n",
       "            height=\"250\"\n",
       "            src=\"./source-solution/03-applied-visual-design/031-use-a-css-linear-gradient-to-create-a-striped-element.html\"\n",
       "            frameborder=\"0\"\n",
       "            allowfullscreen\n",
       "        ></iframe>\n",
       "        "
      ],
      "text/plain": [
       "<IPython.lib.display.IFrame at 0x1126b163e80>"
      ]
     },
     "execution_count": 105,
     "metadata": {},
     "output_type": "execute_result"
    }
   ],
   "source": [
    "IFrame('./source-solution/03-applied-visual-design/031-use-a-css-linear-gradient-to-create-a-striped-element.html', '100%', 250)"
   ]
  },
  {
   "cell_type": "markdown",
   "metadata": {},
   "source": [
    "### Create Texture by Adding a Subtle Pattern as a Background Image"
   ]
  },
  {
   "cell_type": "markdown",
   "metadata": {},
   "source": [
    "One way to add texture and interest to a background and have it stand out more is to add a subtle pattern. The key is balance, as you don't want the background to stand out too much, and take away from the foreground. The `background` property supports the `url()` function in order to link to an image of the chosen texture or pattern. The link address is wrapped in quotes inside the parentheses.\n",
    "\n",
    "---\n",
    "Using the url of `https://cdn-media-1.freecodecamp.org/imgr/MJAkxbh.png`, set the `background` of the whole page with the `body` selector."
   ]
  },
  {
   "cell_type": "markdown",
   "metadata": {},
   "source": [
    "```HTML\n",
    "<style>\n",
    "  body {\n",
    "    background: url(https://cdn-media-1.freecodecamp.org/imgr/MJAkxbh.png)\n",
    "  }\n",
    "</style>\n",
    "```"
   ]
  },
  {
   "cell_type": "code",
   "execution_count": 106,
   "metadata": {},
   "outputs": [
    {
     "data": {
      "text/html": [
       "\n",
       "        <iframe\n",
       "            width=\"100%\"\n",
       "            height=\"250\"\n",
       "            src=\"./source-solution/03-applied-visual-design/032-create-texture-by-adding-a-subtle-pattern-as-a-background-image.html\"\n",
       "            frameborder=\"0\"\n",
       "            allowfullscreen\n",
       "        ></iframe>\n",
       "        "
      ],
      "text/plain": [
       "<IPython.lib.display.IFrame at 0x1126b163b70>"
      ]
     },
     "execution_count": 106,
     "metadata": {},
     "output_type": "execute_result"
    }
   ],
   "source": [
    "IFrame('./source-solution/03-applied-visual-design/032-create-texture-by-adding-a-subtle-pattern-as-a-background-image.html', '100%', 250)"
   ]
  },
  {
   "cell_type": "markdown",
   "metadata": {},
   "source": [
    "### Use the CSS Transform scale Property to Change the Size of an Element"
   ]
  },
  {
   "cell_type": "markdown",
   "metadata": {},
   "source": [
    "To change the scale of an element, CSS has the `transform` property, along with its `scale()` function. The following code example doubles the size of all the paragraph elements on the page:\n",
    "\n",
    "```CSS\n",
    "p {\n",
    "  transform: scale(2);\n",
    "}\n",
    "```\n",
    "\n",
    "---\n",
    "Increase the size of the element with the id of `ball2` to 1.5 times its original size."
   ]
  },
  {
   "cell_type": "markdown",
   "metadata": {},
   "source": [
    "```HTML\n",
    "<style>\n",
    "  .ball {\n",
    "    width: 40px;\n",
    "    height: 40px;\n",
    "    margin: 50 auto;\n",
    "    position: fixed;\n",
    "    background: linear-gradient(\n",
    "      35deg,\n",
    "      #ccffff,\n",
    "      #ffcccc\n",
    "    );\n",
    "    border-radius: 50%;\n",
    "  }\n",
    "  #ball1 {\n",
    "    left: 20%;\n",
    "  }\n",
    "  #ball2 {\n",
    "    left: 65%;\n",
    "    transform: scale(1.5);\n",
    "  }\n",
    "\n",
    "\n",
    "</style>\n",
    "\n",
    "<div class=\"ball\" id= \"ball1\"></div>\n",
    "<div class=\"ball\" id= \"ball2\"></div>\n",
    "```"
   ]
  },
  {
   "cell_type": "code",
   "execution_count": 107,
   "metadata": {},
   "outputs": [
    {
     "data": {
      "text/html": [
       "\n",
       "        <iframe\n",
       "            width=\"100%\"\n",
       "            height=\"250\"\n",
       "            src=\"./source-solution/03-applied-visual-design/033-use-the-css-transform-scale-property-to-change-the-size-of-an-element.html\"\n",
       "            frameborder=\"0\"\n",
       "            allowfullscreen\n",
       "        ></iframe>\n",
       "        "
      ],
      "text/plain": [
       "<IPython.lib.display.IFrame at 0x1126b1907f0>"
      ]
     },
     "execution_count": 107,
     "metadata": {},
     "output_type": "execute_result"
    }
   ],
   "source": [
    "IFrame('./source-solution/03-applied-visual-design/033-use-the-css-transform-scale-property-to-change-the-size-of-an-element.html', '100%', 250)"
   ]
  },
  {
   "cell_type": "markdown",
   "metadata": {},
   "source": [
    "### Use the CSS Transform scale Property to Scale an Element on Hover"
   ]
  },
  {
   "cell_type": "markdown",
   "metadata": {},
   "source": [
    "The `transform` property has a variety of functions that let you scale, move, rotate, skew, etc., your elements. When used with pseudo-classes such as `:hover` that specify a certain state of an element, the `transform` property can easily add interactivity to your elements.\n",
    "\n",
    "Here's an example to scale the paragraph elements to 2.1 times their original size when a user hovers over them:\n",
    "\n",
    "```CSS\n",
    "p:hover {\n",
    "  transform: scale(2.1);\n",
    "}\n",
    "```\n",
    "\n",
    "**Note**: Applying a transform to a `div` element will also affect any child elements contained in the div.\n",
    "\n",
    "---\n",
    "Add a CSS rule for the `hover` state of the `div` and use the `transform` property to scale the `div` element to 1.1 times its original size when a user hovers over it."
   ]
  },
  {
   "cell_type": "markdown",
   "metadata": {},
   "source": [
    "```HTML\n",
    "<style>\n",
    "  div {\n",
    "    width: 70%;\n",
    "    height: 100px;\n",
    "    margin:  50px auto;\n",
    "    background: linear-gradient(\n",
    "      53deg,\n",
    "      #ccfffc,\n",
    "      #ffcccf\n",
    "    );\n",
    "  }\n",
    "\n",
    "  div:hover {\n",
    "    transform: scale(1.1);\n",
    "  }\n",
    "\n",
    "</style>\n",
    "\n",
    "<div></div>\n",
    "```"
   ]
  },
  {
   "cell_type": "code",
   "execution_count": 108,
   "metadata": {},
   "outputs": [
    {
     "data": {
      "text/html": [
       "\n",
       "        <iframe\n",
       "            width=\"100%\"\n",
       "            height=\"250\"\n",
       "            src=\"./source-solution/03-applied-visual-design/034-use-the-css-transform-scale-property-to-scale-an-element-on-hover.html\"\n",
       "            frameborder=\"0\"\n",
       "            allowfullscreen\n",
       "        ></iframe>\n",
       "        "
      ],
      "text/plain": [
       "<IPython.lib.display.IFrame at 0x1126b190ba8>"
      ]
     },
     "execution_count": 108,
     "metadata": {},
     "output_type": "execute_result"
    }
   ],
   "source": [
    "IFrame('./source-solution/03-applied-visual-design/034-use-the-css-transform-scale-property-to-scale-an-element-on-hover.html', '100%', 250)"
   ]
  },
  {
   "cell_type": "markdown",
   "metadata": {},
   "source": [
    "### Use the CSS Transform Property skewX to Skew an Element Along the X-Axis"
   ]
  },
  {
   "cell_type": "markdown",
   "metadata": {},
   "source": [
    "The next function of the `transform` property is `skewX()`, which skews the selected element along its X (horizontal) axis by a given degree.\n",
    "\n",
    "The following code skews the paragraph element by -32 degrees along the X-axis.\n",
    "\n",
    "```CSS\n",
    "p {\n",
    "  transform: skewX(-32deg);\n",
    "}\n",
    "```\n",
    "\n",
    "--\n",
    "Skew the element with the id of `bottom` by 24 degrees along the X-axis by using the `transform` property."
   ]
  },
  {
   "cell_type": "markdown",
   "metadata": {},
   "source": [
    "```HTML\n",
    "<style>\n",
    "  div {\n",
    "    width: 70%;\n",
    "    height: 100px;\n",
    "    margin:  50px auto;\n",
    "  }\n",
    "  #top {\n",
    "    background-color: red;\n",
    "  }\n",
    "  #bottom {\n",
    "    background-color: blue;\n",
    "    transform: skewX(24deg);\n",
    "  }\n",
    "</style>\n",
    "\n",
    "<div id=\"top\"></div>\n",
    "<div id=\"bottom\"></div>\n",
    "```"
   ]
  },
  {
   "cell_type": "code",
   "execution_count": 109,
   "metadata": {},
   "outputs": [
    {
     "data": {
      "text/html": [
       "\n",
       "        <iframe\n",
       "            width=\"100%\"\n",
       "            height=\"250\"\n",
       "            src=\"./source-solution/03-applied-visual-design/035-use-the-css-transform-property-skewx-to-skew-an-element-along-the-x-axis.html\"\n",
       "            frameborder=\"0\"\n",
       "            allowfullscreen\n",
       "        ></iframe>\n",
       "        "
      ],
      "text/plain": [
       "<IPython.lib.display.IFrame at 0x1126b18a860>"
      ]
     },
     "execution_count": 109,
     "metadata": {},
     "output_type": "execute_result"
    }
   ],
   "source": [
    "IFrame('./source-solution/03-applied-visual-design/035-use-the-css-transform-property-skewx-to-skew-an-element-along-the-x-axis.html', '100%', 250)"
   ]
  },
  {
   "cell_type": "markdown",
   "metadata": {},
   "source": [
    "### Use the CSS Transform Property skewY to Skew an Element Along the Y-Axis"
   ]
  },
  {
   "cell_type": "markdown",
   "metadata": {},
   "source": [
    "Given that the `skewX()` function skews the selected element along the X-axis by a given degree, it is no surprise that the `skewY()` property skews an element along the Y (vertical) axis.\n",
    "\n",
    "---\n",
    "Skew the element with the id of `top` -10 degrees along the Y-axis by using the `transform` property."
   ]
  },
  {
   "cell_type": "markdown",
   "metadata": {},
   "source": [
    "```HTML\n",
    "<style>\n",
    "  div {\n",
    "    width: 70%;\n",
    "    height: 100px;\n",
    "    margin: 50px auto;\n",
    "  }\n",
    "  #top {\n",
    "    background-color: red;\n",
    "    transform: skewY(-10deg);\n",
    "  }\n",
    "  #bottom {\n",
    "    background-color: blue;\n",
    "    transform: skewX(24deg);\n",
    "  }\n",
    "</style>\n",
    "\n",
    "<div id=\"top\"></div>\n",
    "<div id=\"bottom\"></div>\n",
    "```"
   ]
  },
  {
   "cell_type": "code",
   "execution_count": 110,
   "metadata": {},
   "outputs": [
    {
     "data": {
      "text/html": [
       "\n",
       "        <iframe\n",
       "            width=\"100%\"\n",
       "            height=\"250\"\n",
       "            src=\"./source-solution/03-applied-visual-design/036-use-the-css-transform-property-skewy-to-skew-an-element-along-the-y-axis.html\"\n",
       "            frameborder=\"0\"\n",
       "            allowfullscreen\n",
       "        ></iframe>\n",
       "        "
      ],
      "text/plain": [
       "<IPython.lib.display.IFrame at 0x1126b18a940>"
      ]
     },
     "execution_count": 110,
     "metadata": {},
     "output_type": "execute_result"
    }
   ],
   "source": [
    "IFrame('./source-solution/03-applied-visual-design/036-use-the-css-transform-property-skewy-to-skew-an-element-along-the-y-axis.html', '100%', 250)"
   ]
  },
  {
   "cell_type": "markdown",
   "metadata": {},
   "source": [
    "### Create a Graphic Using CSS"
   ]
  },
  {
   "cell_type": "markdown",
   "metadata": {},
   "source": [
    "By manipulating different selectors and properties, you can make interesting shapes. One of the easier ones to try is a crescent moon shape. For this challenge you need to work with the `box-shadow` property that sets the shadow of an element, along with the `border-radius` property that controls the roundness of the element's corners.\n",
    "\n",
    "You will create a round, transparent object with a crisp shadow that is slightly offset to the side - the shadow is actually going to be the moon shape you see.\n",
    "\n",
    "In order to create a round object, the `border-radius` property should be set to a value of 50%.\n",
    "\n",
    "You may recall from an earlier challenge that the `box-shadow` property takes values for `offset-x`, `offset-y`, `blur-radius`, `spread-radius` and a color value in that order. The `blur-radius` and `spread-radius` values are optional.\n",
    "\n",
    "---\n",
    "Manipulate the square element in the editor to create the moon shape. First, change the `background-color` to transparent, then set the `border-radius` property to 50% to make the circular shape. Finally, change the `box-shadow` property to set the `offset-x` to 25px, the `offset-y` to 10px, `blur-radius` to 0, `spread-radius` to 0, and color to blue.\n",
    "\n"
   ]
  },
  {
   "cell_type": "markdown",
   "metadata": {},
   "source": [
    "```HTML\n",
    "<style>\n",
    "  .center {\n",
    "    position: absolute;\n",
    "    margin: auto;\n",
    "    top: 0;\n",
    "    right: 0;\n",
    "    bottom: 0;\n",
    "    left: 0;\n",
    "    width: 100px;\n",
    "    height: 100px;\n",
    "    background-color: transparent;\n",
    "    border-radius: 50%;\n",
    "    box-shadow: 25px 10px 0px 0px blue;    \n",
    "  }\n",
    "\n",
    "</style>\n",
    "<div class=\"center\"></div>\n",
    "```"
   ]
  },
  {
   "cell_type": "code",
   "execution_count": 111,
   "metadata": {},
   "outputs": [
    {
     "data": {
      "text/html": [
       "\n",
       "        <iframe\n",
       "            width=\"100%\"\n",
       "            height=\"250\"\n",
       "            src=\"./source-solution/03-applied-visual-design/037-create-a-graphic-using-css.html\"\n",
       "            frameborder=\"0\"\n",
       "            allowfullscreen\n",
       "        ></iframe>\n",
       "        "
      ],
      "text/plain": [
       "<IPython.lib.display.IFrame at 0x1126b164c18>"
      ]
     },
     "execution_count": 111,
     "metadata": {},
     "output_type": "execute_result"
    }
   ],
   "source": [
    "IFrame('./source-solution/03-applied-visual-design/037-create-a-graphic-using-css.html', '100%', 250)"
   ]
  },
  {
   "cell_type": "markdown",
   "metadata": {},
   "source": [
    "### Create a More Complex Shape Using CSS and HTML"
   ]
  },
  {
   "cell_type": "markdown",
   "metadata": {},
   "source": [
    "One of the most popular shapes in the world is the heart shape, and in this challenge you'll create one using pure CSS. But first, you need to understand the `::before` and `::after` pseudo-elements. These pseudo-elements are used to add something before or after a selected element. In the following example, a `::before` pseudo-element is used to add a rectangle to an element with the class `heart`:\n",
    "\n",
    "```CSS\n",
    ".heart::before {\n",
    "  content: \"\";\n",
    "  background-color: yellow;\n",
    "  border-radius: 25%;\n",
    "  position: absolute;\n",
    "  height: 50px;\n",
    "  width: 70px;\n",
    "  top: -50px;\n",
    "  left: 5px;\n",
    "}\n",
    "```\n",
    "\n",
    "For the `::before` and `::after` pseudo-elements to function properly, they must have a defined `content` property. This property is usually used to add things like a photo or text to the selected element. When the `::before` and `::after` pseudo-elements are used to make shapes, the content property is still required, but it's set to an empty string. In the above example, the element with the class of `heart` has a `::before` pseudo-element that produces a yellow rectangle with `height` and `width` of 50px and 70px, respectively. This rectangle has round corners due to its 25% border radius and is positioned absolutely at 5px from the `left` and 50px above the `top` of the element.\n",
    "\n",
    "---\n",
    "Transform the element on the screen to a heart. In the `heart::after` selector, change the `background-color` to pink and the `border-radius` to 50%.\n",
    "\n",
    "Next, target the element with the class `heart` (just `heart`) and fill in the `transform` property. Use the rotate() function with -45 degrees.\n",
    "\n",
    "Finally, in the `heart::before` selector, set its content property to an empty string."
   ]
  },
  {
   "cell_type": "markdown",
   "metadata": {},
   "source": [
    "```HTML\n",
    "<style>\n",
    "  .heart {\n",
    "    position: absolute;\n",
    "    margin: auto;\n",
    "    top: 0;\n",
    "    right: 0;\n",
    "    bottom: 0;\n",
    "    left: 0;\n",
    "    background-color: pink;\n",
    "    height: 50px;\n",
    "    width: 50px;\n",
    "    transform: rotate(-45deg);\n",
    "  }\n",
    "  .heart::after {\n",
    "    background-color: pink;\n",
    "    content: \"\";\n",
    "    border-radius: 50%;\n",
    "    position: absolute;\n",
    "    width: 50px;\n",
    "    height: 50px;\n",
    "    top: 0px;\n",
    "    left: 25px;\n",
    "  }\n",
    "  .heart::before {\n",
    "    content: \"\";\n",
    "    background-color: pink;\n",
    "    border-radius: 50%;\n",
    "    position: absolute;\n",
    "    width: 50px;\n",
    "    height: 50px;\n",
    "    top: -25px;\n",
    "    left: 0px;\n",
    "  }\n",
    "</style>\n",
    "<div class=\"heart\"></div>\n",
    "```"
   ]
  },
  {
   "cell_type": "code",
   "execution_count": 112,
   "metadata": {},
   "outputs": [
    {
     "data": {
      "text/html": [
       "\n",
       "        <iframe\n",
       "            width=\"100%\"\n",
       "            height=\"250\"\n",
       "            src=\"./source-solution/03-applied-visual-design/038-create-a-more-complex-shape-using-css-and-html.html\"\n",
       "            frameborder=\"0\"\n",
       "            allowfullscreen\n",
       "        ></iframe>\n",
       "        "
      ],
      "text/plain": [
       "<IPython.lib.display.IFrame at 0x1126b1644a8>"
      ]
     },
     "execution_count": 112,
     "metadata": {},
     "output_type": "execute_result"
    }
   ],
   "source": [
    "IFrame('./source-solution/03-applied-visual-design/038-create-a-more-complex-shape-using-css-and-html.html', '100%', 250)"
   ]
  },
  {
   "cell_type": "markdown",
   "metadata": {},
   "source": [
    "### Learn How the CSS @keyframes and animation Properties Work"
   ]
  },
  {
   "cell_type": "markdown",
   "metadata": {},
   "source": [
    "To animate an element, you need to know about the animation properties and the `@keyframes` rule. The animation properties control how the animation should behave and the `@keyframes` rule controls what happens during that animation. There are eight animation properties in total. This challenge will keep it simple and cover the two most important ones first:\n",
    "\n",
    "`animation-name` sets the name of the animation, which is later used by `@keyframes` to tell CSS which rules go with which animations.\n",
    "\n",
    "`animation-duration` sets the length of time for the animation.\n",
    "\n",
    "`@keyframes` is how to specify exactly what happens within the animation over the duration. This is done by giving CSS properties for specific \"frames\" during the animation, with percentages ranging from 0% to 100%. If you compare this to a movie, the CSS properties for 0% is how the element displays in the opening scene. The CSS properties for 100% is how the element appears at the end, right before the credits roll. Then CSS applies the magic to transition the element over the given duration to act out the scene. Here's an example to illustrate the usage of `@keyframes` and the animation properties:\n",
    "\n",
    "```CSS\n",
    "#anim {\n",
    "  animation-name: colorful;\n",
    "  animation-duration: 3s;\n",
    "}\n",
    "\n",
    "@keyframes colorful {\n",
    "  0% {\n",
    "    background-color: blue;\n",
    "  }\n",
    "  100% {\n",
    "    background-color: yellow;\n",
    "  }\n",
    "}\n",
    "```\n",
    "\n",
    "For the element with the `anim` id, the code snippet above sets the `animation-name` to `colorful` and sets the `animation-duration` to 3 seconds. Then the `@keyframes` rule links to the animation properties with the name `colorful`. It sets the color to blue at the beginning of the animation (0%) which will transition to yellow by the end of the animation (100%). You aren't limited to only beginning-end transitions, you can set properties for the element for any percentage between 0% and 100%.\n",
    "\n",
    "---\n",
    "Create an animation for the element with the id `rect`, by setting the `animation-name` to rainbow and the `animation-duration` to 4 seconds. Next, declare a `@keyframes` rule, and set the `background-color` at the beginning of the animation (`0%`) to blue, the middle of the animation (`50%`) to green, and the end of the animation (`100%`) to yellow.\n",
    "\n"
   ]
  },
  {
   "cell_type": "markdown",
   "metadata": {},
   "source": [
    "```HTML\n",
    "<style>\n",
    "  div {\n",
    "    height: 40px;\n",
    "    width: 70%;\n",
    "    background: black;\n",
    "    margin: 50px auto;\n",
    "    border-radius: 5px;\n",
    "  }\n",
    "\n",
    "  #rect {\n",
    "    animation-name: rainbow;\n",
    "    animation-duration: 4s;\n",
    "  }\n",
    "\n",
    "  @keyframes rainbow{\n",
    "    0%{\n",
    "      background-color: blue;\n",
    "    }\n",
    "    \n",
    "    50%{\n",
    "      background-color: green;\n",
    "    }\n",
    "    \n",
    "    100%{\n",
    "      background-color: yellow;\n",
    "    }    \n",
    "  }\n",
    "\n",
    "\n",
    "\n",
    "</style>\n",
    "<div id=\"rect\"></div>\n",
    "```"
   ]
  },
  {
   "cell_type": "code",
   "execution_count": 113,
   "metadata": {},
   "outputs": [
    {
     "data": {
      "text/html": [
       "\n",
       "        <iframe\n",
       "            width=\"100%\"\n",
       "            height=\"250\"\n",
       "            src=\"./source-solution/03-applied-visual-design/039-learn-how-the-css-keyframes-and-animation-properties-work.html\"\n",
       "            frameborder=\"0\"\n",
       "            allowfullscreen\n",
       "        ></iframe>\n",
       "        "
      ],
      "text/plain": [
       "<IPython.lib.display.IFrame at 0x1126b119fd0>"
      ]
     },
     "execution_count": 113,
     "metadata": {},
     "output_type": "execute_result"
    }
   ],
   "source": [
    "IFrame('./source-solution/03-applied-visual-design/039-learn-how-the-css-keyframes-and-animation-properties-work.html', '100%', 250)"
   ]
  },
  {
   "cell_type": "markdown",
   "metadata": {},
   "source": [
    "### Use CSS Animation to Change the Hover State of a Button"
   ]
  },
  {
   "cell_type": "markdown",
   "metadata": {},
   "source": [
    "You can use CSS `@keyframes` to change the color of a button in its hover state.\n",
    "\n",
    "Here's an example of changing the width of an image on hover:\n",
    "\n",
    "```HTML\n",
    "<style>\n",
    "  img:hover {\n",
    "    animation-name: width;\n",
    "    animation-duration: 500ms;\n",
    "  }\n",
    "\n",
    "  @keyframes width {\n",
    "    100% {\n",
    "      width: 40px;\n",
    "    }\n",
    "  }\n",
    "</style>\n",
    "\n",
    "<img src=\"https://bit.ly/smallgooglelogo\" alt=\"Google's Logo\" />\n",
    "```\n",
    "\n",
    "Note that `ms` stands for milliseconds, where 1000ms is equal to 1s.\n",
    "\n",
    "---\n",
    "Use CSS `@keyframes` to change the `background-color` of the button element so it becomes `#4791d0` when a user hovers over it. The `@keyframes` rule should only have an entry for `100%`."
   ]
  },
  {
   "cell_type": "markdown",
   "metadata": {},
   "source": [
    "```HTML\n",
    "<style>\n",
    "  button {\n",
    "    border-radius: 5px;\n",
    "    color: white;\n",
    "    background-color: #0F5897;\n",
    "    padding: 5px 10px 8px 10px;\n",
    "  }\n",
    "\n",
    "  button:hover {\n",
    "    animation-name: background-color;\n",
    "    animation-duration: 500ms;\n",
    "  }\n",
    "\n",
    "  @keyframes background-color{\n",
    "    100%{\n",
    "      background-color: #4791d0;\n",
    "    }    \n",
    "  }\n",
    "\n",
    "</style>\n",
    "\n",
    "<button>Register</button>\n",
    "```"
   ]
  },
  {
   "cell_type": "code",
   "execution_count": 114,
   "metadata": {},
   "outputs": [
    {
     "data": {
      "text/html": [
       "\n",
       "        <iframe\n",
       "            width=\"100%\"\n",
       "            height=\"250\"\n",
       "            src=\"./source-solution/03-applied-visual-design/040-use-css-animation-to-change-the-hover-state-of-a-button.html\"\n",
       "            frameborder=\"0\"\n",
       "            allowfullscreen\n",
       "        ></iframe>\n",
       "        "
      ],
      "text/plain": [
       "<IPython.lib.display.IFrame at 0x1126b154c50>"
      ]
     },
     "execution_count": 114,
     "metadata": {},
     "output_type": "execute_result"
    }
   ],
   "source": [
    "IFrame('./source-solution/03-applied-visual-design/040-use-css-animation-to-change-the-hover-state-of-a-button.html', '100%', 250)"
   ]
  },
  {
   "cell_type": "markdown",
   "metadata": {},
   "source": [
    "### Modify Fill Mode of an Animation"
   ]
  },
  {
   "cell_type": "markdown",
   "metadata": {},
   "source": [
    "That's great, but it doesn't work right yet. Notice how the animation resets after `500ms` has passed, causing the button to revert back to the original color. You want the button to stay highlighted.\n",
    "\n",
    "This can be done by setting the `animation-fill-mode` property to `forwards`. The `animation-fill-mode` specifies the style applied to an element when the animation has finished. You can set it like so:\n",
    "\n",
    "`animation-fill-mode: forwards;`\n",
    "\n",
    "---\n",
    "Set the `animation-fill-mode` property of `button:hover` to `forwards` so the button stays highlighted when a user hovers over it."
   ]
  },
  {
   "cell_type": "markdown",
   "metadata": {},
   "source": [
    "```HTML\n",
    "<style>\n",
    "  button {\n",
    "    border-radius: 5px;\n",
    "    color: white;\n",
    "    background-color: #0F5897;\n",
    "    padding: 5px 10px 8px 10px;\n",
    "  }\n",
    "  button:hover {\n",
    "    animation-name: background-color;\n",
    "    animation-duration: 500ms;\n",
    "    /* add your code below this line */\n",
    "    animation-fill-mode: forwards;\n",
    "    /* add your code above this line */\n",
    "  }\n",
    "  @keyframes background-color {\n",
    "    100% {\n",
    "      background-color: #4791d0;\n",
    "    }\n",
    "  }\n",
    "</style>\n",
    "<button>Register</button>\n",
    "```"
   ]
  },
  {
   "cell_type": "code",
   "execution_count": 115,
   "metadata": {},
   "outputs": [
    {
     "data": {
      "text/html": [
       "\n",
       "        <iframe\n",
       "            width=\"100%\"\n",
       "            height=\"250\"\n",
       "            src=\"./source-solution/03-applied-visual-design/041-modify-fill-mode-of-an-animation.html\"\n",
       "            frameborder=\"0\"\n",
       "            allowfullscreen\n",
       "        ></iframe>\n",
       "        "
      ],
      "text/plain": [
       "<IPython.lib.display.IFrame at 0x1126b15ecc0>"
      ]
     },
     "execution_count": 115,
     "metadata": {},
     "output_type": "execute_result"
    }
   ],
   "source": [
    "IFrame('./source-solution/03-applied-visual-design/041-modify-fill-mode-of-an-animation.html', '100%', 250)"
   ]
  },
  {
   "cell_type": "markdown",
   "metadata": {},
   "source": [
    "### Create Movement Using CSS Animation"
   ]
  },
  {
   "cell_type": "markdown",
   "metadata": {},
   "source": [
    "When elements have a specified `position`, such as `fixed` or `relative`, the CSS offset properties `right`, `left`, `top`, and `bottom` can be used in animation rules to create movement.\n",
    "\n",
    "As shown in the example below, you can push the item downwards then upwards by setting the `top` property of the `50%` keyframe to 50px, but having it set to 0px for the first (`0%`) and the last (`100%`) keyframe.\n",
    "\n",
    "```CSS\n",
    "@keyframes rainbow {\n",
    "  0% {\n",
    "    background-color: blue;\n",
    "    top: 0px;\n",
    "  }\n",
    "  50% {\n",
    "    background-color: green;\n",
    "    top: 50px;\n",
    "  }\n",
    "  100% {\n",
    "    background-color: yellow;\n",
    "    top: 0px;\n",
    "  }\n",
    "}\n",
    "```\n",
    "\n",
    "---\n",
    "Add a horizontal motion to the `div` animation. Using the `left` offset property, add to the `@keyframes` rule so rainbow starts at 0 pixels at `0%`, moves to 25 pixels at `50%`, and ends at -25 pixels at `100%`. Don't replace the `top` property in the editor - the animation should have both vertical and horizontal motion."
   ]
  },
  {
   "cell_type": "markdown",
   "metadata": {},
   "source": [
    "```HTML\n",
    "<style>\n",
    "  div {\n",
    "    height: 40px;\n",
    "    width: 70%;\n",
    "    background: black;\n",
    "    margin: 50px auto;\n",
    "    border-radius: 5px;\n",
    "    position: relative;\n",
    "  }\n",
    "\n",
    "  #rect {\n",
    "    animation-name: rainbow;\n",
    "    animation-duration: 4s;\n",
    "  }\n",
    "\n",
    "  @keyframes rainbow {\n",
    "    0% {\n",
    "      background-color: blue;\n",
    "      top: 0px;\n",
    "      left: 0px;\n",
    "    }\n",
    "    50% {\n",
    "      background-color: green;\n",
    "      top: 50px;\n",
    "      left: 25px;\n",
    "    }\n",
    "    100% {\n",
    "      background-color: yellow;\n",
    "      top: 0px;\n",
    "      left: -25px;\n",
    "    }\n",
    "  }\n",
    "</style>\n",
    "\n",
    "<div id=\"rect\"></div>\n",
    "```"
   ]
  },
  {
   "cell_type": "code",
   "execution_count": 116,
   "metadata": {},
   "outputs": [
    {
     "data": {
      "text/html": [
       "\n",
       "        <iframe\n",
       "            width=\"100%\"\n",
       "            height=\"250\"\n",
       "            src=\"./source-solution/03-applied-visual-design/042-create-movement-using-css-animation.html\"\n",
       "            frameborder=\"0\"\n",
       "            allowfullscreen\n",
       "        ></iframe>\n",
       "        "
      ],
      "text/plain": [
       "<IPython.lib.display.IFrame at 0x1126b17c860>"
      ]
     },
     "execution_count": 116,
     "metadata": {},
     "output_type": "execute_result"
    }
   ],
   "source": [
    "IFrame('./source-solution/03-applied-visual-design/042-create-movement-using-css-animation.html', '100%', 250)"
   ]
  },
  {
   "cell_type": "markdown",
   "metadata": {},
   "source": [
    "### Create Visual Direction by Fading an Element from Left to Right"
   ]
  },
  {
   "cell_type": "markdown",
   "metadata": {},
   "source": [
    "For this challenge, you'll change the `opacity` of an animated element so it gradually fades as it reaches the right side of the screen.\n",
    "\n",
    "In the displayed animation, the round element with the gradient background moves to the right by the 50% mark of the animation per the `@keyframes` rule.\n",
    "\n",
    "---\n",
    "Target the element with the id of `ball` and add the `opacity` property set to 0.1 at `50%`, so the element fades as it moves to the right."
   ]
  },
  {
   "cell_type": "markdown",
   "metadata": {},
   "source": [
    "```HTML\n",
    "<style>\n",
    "  #ball {\n",
    "    width: 70px;\n",
    "    height: 70px;\n",
    "    margin: 50px auto;\n",
    "    position: fixed;\n",
    "    left: 20%;\n",
    "    border-radius: 50%;\n",
    "    background: linear-gradient(\n",
    "      35deg,\n",
    "      #ccffff,\n",
    "      #ffcccc\n",
    "    );\n",
    "    animation-name: fade;\n",
    "    animation-duration: 3s;\n",
    "  }\n",
    "\n",
    "  @keyframes fade {\n",
    "    50% {\n",
    "      left: 60%;\n",
    "      opacity: 0.1;\n",
    "    }\n",
    "  }\n",
    "</style>\n",
    "\n",
    "<div id=\"ball\"></div>\n",
    "```"
   ]
  },
  {
   "cell_type": "code",
   "execution_count": 117,
   "metadata": {},
   "outputs": [
    {
     "data": {
      "text/html": [
       "\n",
       "        <iframe\n",
       "            width=\"100%\"\n",
       "            height=\"250\"\n",
       "            src=\"./source-solution/03-applied-visual-design/043-create-visual-direction-by-fading-an-element-from-left-to-right.html\"\n",
       "            frameborder=\"0\"\n",
       "            allowfullscreen\n",
       "        ></iframe>\n",
       "        "
      ],
      "text/plain": [
       "<IPython.lib.display.IFrame at 0x1126b17c828>"
      ]
     },
     "execution_count": 117,
     "metadata": {},
     "output_type": "execute_result"
    }
   ],
   "source": [
    "IFrame('./source-solution/03-applied-visual-design/043-create-visual-direction-by-fading-an-element-from-left-to-right.html', '100%', 250)"
   ]
  },
  {
   "cell_type": "markdown",
   "metadata": {},
   "source": [
    "### Animate Elements Continually Using an Infinite Animation Count"
   ]
  },
  {
   "cell_type": "markdown",
   "metadata": {},
   "source": [
    "The previous challenges covered how to use some of the animation properties and the `@keyframes` rule. Another animation property is the `animation-iteration-count`, which allows you to control how many times you would like to loop through the animation. Here's an example:\n",
    "\n",
    "`animation-iteration-count: 3;`\n",
    "\n",
    "In this case the animation will stop after running 3 times, but it's possible to make the animation run continuously by setting that value to infinite.\n",
    "\n",
    "---\n",
    "To keep the ball bouncing on the right on a continuous loop, change the `animation-iteration-count` property to `infinite`."
   ]
  },
  {
   "cell_type": "markdown",
   "metadata": {},
   "source": [
    "```HTML\n",
    "<style>\n",
    "  #ball {\n",
    "    width: 100px;\n",
    "    height: 100px;\n",
    "    margin: 50px auto;\n",
    "    position: relative;\n",
    "    border-radius: 50%;\n",
    "    background: linear-gradient(\n",
    "      35deg,\n",
    "      #ccffff,\n",
    "      #ffcccc\n",
    "    );\n",
    "    animation-name: bounce;\n",
    "    animation-duration: 1s;\n",
    "    animation-iteration-count: infinite;\n",
    "  }\n",
    "\n",
    "  @keyframes bounce{\n",
    "    0% {\n",
    "      top: 0px;\n",
    "    }\n",
    "    50% {\n",
    "      top: 249px;\n",
    "      width: 130px;\n",
    "      height: 70px;\n",
    "    }\n",
    "    100% {\n",
    "      top: 0px;\n",
    "    }\n",
    "  }\n",
    "</style>\n",
    "<div id=\"ball\"></div>\n",
    "```"
   ]
  },
  {
   "cell_type": "code",
   "execution_count": 118,
   "metadata": {},
   "outputs": [
    {
     "data": {
      "text/html": [
       "\n",
       "        <iframe\n",
       "            width=\"100%\"\n",
       "            height=\"250\"\n",
       "            src=\"./source-solution/03-applied-visual-design/044-animate-elements-continually-using-an-infinite-animation-count.html\"\n",
       "            frameborder=\"0\"\n",
       "            allowfullscreen\n",
       "        ></iframe>\n",
       "        "
      ],
      "text/plain": [
       "<IPython.lib.display.IFrame at 0x1126b17c9b0>"
      ]
     },
     "execution_count": 118,
     "metadata": {},
     "output_type": "execute_result"
    }
   ],
   "source": [
    "IFrame('./source-solution/03-applied-visual-design/044-animate-elements-continually-using-an-infinite-animation-count.html', '100%', 250)"
   ]
  },
  {
   "cell_type": "markdown",
   "metadata": {},
   "source": [
    "### Make a CSS Heartbeat using an Infinite Animation Count"
   ]
  },
  {
   "cell_type": "markdown",
   "metadata": {},
   "source": [
    "Here's one more continuous animation example with the `animation-iteration-count` property that uses the heart you designed in a previous challenge.\n",
    "\n",
    "The one-second long heartbeat animation consists of two animated pieces. The `heart` elements (including the `:before` and `:after` pieces) are animated to change size using the `transform` property, and the background `div` is animated to change its color using the `background` property.\n",
    "\n",
    "---\n",
    "Keep the heart beating by adding the `animation-iteration-count` property for both the `back` class and the `heart` class and setting the value to infinite. The `heart:before` and `heart:after` selectors do not need any animation properties."
   ]
  },
  {
   "cell_type": "markdown",
   "metadata": {},
   "source": [
    "```HTML\n",
    "<style>\n",
    "  .back {\n",
    "    position: fixed;\n",
    "    padding: 0;\n",
    "    margin: 0;\n",
    "    top: 0;\n",
    "    left: 0;\n",
    "    width: 100%;\n",
    "    height: 100%;\n",
    "    background: white;\n",
    "    animation-name: backdiv;\n",
    "    animation-duration: 1s;\n",
    "    animation-iteration-count: infinite;\n",
    "  }\n",
    "\n",
    "  .heart {\n",
    "    position: absolute;\n",
    "    margin: auto;\n",
    "    top: 0;\n",
    "    right: 0;\n",
    "    bottom: 0;\n",
    "    left: 0;\n",
    "    background-color: pink;\n",
    "    height: 50px;\n",
    "    width: 50px;\n",
    "    transform: rotate(-45deg);\n",
    "    animation-name: beat;\n",
    "    animation-duration: 1s;\n",
    "    animation-iteration-count: infinite;\n",
    "  }\n",
    "  .heart:after {\n",
    "    background-color: pink;\n",
    "    content: \"\";\n",
    "    border-radius: 50%;\n",
    "    position: absolute;\n",
    "    width: 50px;\n",
    "    height: 50px;\n",
    "    top: 0px;\n",
    "    left: 25px;\n",
    "  }\n",
    "  .heart:before {\n",
    "    background-color: pink;\n",
    "    content: \"\";\n",
    "    border-radius: 50%;\n",
    "    position: absolute;\n",
    "    width: 50px;\n",
    "    height: 50px;\n",
    "    top: -25px;\n",
    "    left: 0px;\n",
    "  }\n",
    "\n",
    "  @keyframes backdiv {\n",
    "    50% {\n",
    "      background: #ffe6f2;\n",
    "    }\n",
    "  }\n",
    "\n",
    "  @keyframes beat {\n",
    "    0% {\n",
    "      transform: scale(1) rotate(-45deg);\n",
    "    }\n",
    "    50% {\n",
    "      transform: scale(0.6) rotate(-45deg);\n",
    "    }\n",
    "  }\n",
    "\n",
    "</style>\n",
    "<div class=\"back\"></div>\n",
    "<div class=\"heart\"></div>\n",
    "```"
   ]
  },
  {
   "cell_type": "code",
   "execution_count": 119,
   "metadata": {},
   "outputs": [
    {
     "data": {
      "text/html": [
       "\n",
       "        <iframe\n",
       "            width=\"100%\"\n",
       "            height=\"250\"\n",
       "            src=\"./source-solution/03-applied-visual-design/045-make-a-css-heartbeat-using-an-infinite-animation-count.html\"\n",
       "            frameborder=\"0\"\n",
       "            allowfullscreen\n",
       "        ></iframe>\n",
       "        "
      ],
      "text/plain": [
       "<IPython.lib.display.IFrame at 0x1126b17cb38>"
      ]
     },
     "execution_count": 119,
     "metadata": {},
     "output_type": "execute_result"
    }
   ],
   "source": [
    "IFrame('./source-solution/03-applied-visual-design/045-make-a-css-heartbeat-using-an-infinite-animation-count.html', '100%', 250)"
   ]
  },
  {
   "cell_type": "markdown",
   "metadata": {},
   "source": [
    "### Animate Elements at Variable Rates"
   ]
  },
  {
   "cell_type": "markdown",
   "metadata": {},
   "source": [
    "There are a variety of ways to alter the animation rates of similarly animated elements. So far, this has been achieved by applying an `animation-iteration-count` property and setting `@keyframes rules`.\n",
    "\n",
    "To illustrate, the animation on the right consists of two \"stars\" that each decrease in size and opacity at the 20% mark in the `@keyframes` rule, which creates the twinkle animation. You can change the `@keyframes` rule for one of the elements so the stars twinkle at different rates.\n",
    "\n",
    "---\n",
    "Alter the animation rate for the element with the class name of `star-1` by changing its `@keyframes` rule to 50%."
   ]
  },
  {
   "cell_type": "markdown",
   "metadata": {},
   "source": [
    "```HTML\n",
    "<style>\n",
    "  .stars {\n",
    "    background-color: white;\n",
    "    height: 30px;\n",
    "    width: 30px;\n",
    "    border-radius: 50%;\n",
    "    animation-iteration-count: infinite;\n",
    "  }\n",
    "\n",
    "  .star-1 {\n",
    "    margin-top: 15%;\n",
    "    margin-left: 60%;\n",
    "    animation-name: twinkle-1;\n",
    "    animation-duration: 1s;\n",
    "  }\n",
    "\n",
    "  .star-2 {\n",
    "    margin-top: 25%;\n",
    "    margin-left: 25%;\n",
    "    animation-name: twinkle-2;\n",
    "    animation-duration: 1s;\n",
    "  }\n",
    "\n",
    "  @keyframes twinkle-1 {\n",
    "    50% {\n",
    "      transform: scale(0.5);\n",
    "      opacity: 0.5;\n",
    "    }\n",
    "  }\n",
    "\n",
    "  @keyframes twinkle-2 {\n",
    "    20% {\n",
    "      transform: scale(0.5);\n",
    "      opacity: 0.5;\n",
    "    }\n",
    "  }\n",
    "\n",
    "  #back {\n",
    "    position: fixed;\n",
    "    padding: 0;\n",
    "    margin: 0;\n",
    "    top: 0;\n",
    "    left: 0;\n",
    "    width: 100%;\n",
    "    height: 100%;\n",
    "    background: linear-gradient(black, #000099, #66c2ff, #ffcccc, #ffeee6);\n",
    "  }\n",
    "</style>\n",
    "\n",
    "<div id=\"back\"></div>\n",
    "<div class=\"star-1 stars\"></div>\n",
    "<div class=\"star-2 stars\"></div>\n",
    "```"
   ]
  },
  {
   "cell_type": "code",
   "execution_count": 120,
   "metadata": {},
   "outputs": [
    {
     "data": {
      "text/html": [
       "\n",
       "        <iframe\n",
       "            width=\"100%\"\n",
       "            height=\"250\"\n",
       "            src=\"./source-solution/03-applied-visual-design/046-animate-elements-at-variable-rates.html\"\n",
       "            frameborder=\"0\"\n",
       "            allowfullscreen\n",
       "        ></iframe>\n",
       "        "
      ],
      "text/plain": [
       "<IPython.lib.display.IFrame at 0x1126b17ccc0>"
      ]
     },
     "execution_count": 120,
     "metadata": {},
     "output_type": "execute_result"
    }
   ],
   "source": [
    "IFrame('./source-solution/03-applied-visual-design/046-animate-elements-at-variable-rates.html', '100%', 250)"
   ]
  },
  {
   "cell_type": "markdown",
   "metadata": {},
   "source": [
    "### Animate Multiple Elements at Variable Rates"
   ]
  },
  {
   "cell_type": "markdown",
   "metadata": {},
   "source": [
    "In the previous challenge, you changed the animation rates for two similarly animated elements by altering their `@keyframes` rules. You can achieve the same goal by manipulating the `animation-duration` of multiple elements.\n",
    "\n",
    "In the animation running in the code editor, there are three \"stars\" in the sky that twinkle at the same rate on a continuous loop. To make them twinkle at different rates, you can set the `animation-duration` property to different values for each element.\n",
    "\n",
    "---\n",
    "Set the `animation-duration` of the elements with the classes `star-1`, `star-2`, and `star-3` to 1s, 0.9s, and 1.1s, respectively."
   ]
  },
  {
   "cell_type": "markdown",
   "metadata": {},
   "source": [
    "```HTML\n",
    "<style>\n",
    "  .stars {\n",
    "    background-color: white;\n",
    "    height: 30px;\n",
    "    width: 30px;\n",
    "    border-radius: 50%;\n",
    "    animation-iteration-count: infinite;\n",
    "  }\n",
    "\n",
    "  .star-1 {\n",
    "    margin-top: 15%;\n",
    "    margin-left: 60%;\n",
    "    animation-duration: 1s;\n",
    "    animation-name: twinkle;\n",
    "  }\n",
    "\n",
    "  .star-2 {\n",
    "    margin-top: 25%;\n",
    "    margin-left: 25%;\n",
    "    animation-duration: 0.9s;\n",
    "    animation-name: twinkle;\n",
    "  }\n",
    "\n",
    "  .star-3 {\n",
    "    margin-top: 10%;\n",
    "    margin-left: 50%;\n",
    "    animation-duration: 1.1s;\n",
    "    animation-name: twinkle;\n",
    "  }\n",
    "\n",
    "  @keyframes twinkle {\n",
    "    20% {\n",
    "      transform: scale(0.5);\n",
    "      opacity: 0.5;\n",
    "    }\n",
    "  }\n",
    "\n",
    "  #back {\n",
    "    position: fixed;\n",
    "    padding: 0;\n",
    "    margin: 0;\n",
    "    top: 0;\n",
    "    left: 0;\n",
    "    width: 100%;\n",
    "    height: 100%;\n",
    "    background: linear-gradient(black, #000099, #66c2ff, #ffcccc, #ffeee6);\n",
    "  }\n",
    "</style>\n",
    "\n",
    "<div id=\"back\"></div>\n",
    "<div class=\"star-1 stars\"></div>\n",
    "<div class=\"star-2 stars\"></div>\n",
    "<div class=\"star-3 stars\"></div>\n",
    "```"
   ]
  },
  {
   "cell_type": "code",
   "execution_count": 121,
   "metadata": {},
   "outputs": [
    {
     "data": {
      "text/html": [
       "\n",
       "        <iframe\n",
       "            width=\"100%\"\n",
       "            height=\"250\"\n",
       "            src=\"./source-solution/03-applied-visual-design/047-animate-multiple-elements-at-variable-rates.html\"\n",
       "            frameborder=\"0\"\n",
       "            allowfullscreen\n",
       "        ></iframe>\n",
       "        "
      ],
      "text/plain": [
       "<IPython.lib.display.IFrame at 0x1126b17ce80>"
      ]
     },
     "execution_count": 121,
     "metadata": {},
     "output_type": "execute_result"
    }
   ],
   "source": [
    "IFrame('./source-solution/03-applied-visual-design/047-animate-multiple-elements-at-variable-rates.html', '100%', 250)"
   ]
  },
  {
   "cell_type": "markdown",
   "metadata": {},
   "source": [
    "### Change Animation Timing with Keywords"
   ]
  },
  {
   "cell_type": "markdown",
   "metadata": {},
   "source": [
    "In CSS animations, the `animation-timing-function` property controls how quickly an animated element changes over the duration of the animation. If the animation is a car moving from point A to point B in a given time (your `animation-duration`), the `animation-timing-function` says how the car accelerates and decelerates over the course of the drive.\n",
    "\n",
    "There are a number of predefined keywords available for popular options. For example, the default value is `ease`, which starts slow, speeds up in the middle, and then slows down again in the end. Other options include `ease-out`, which is quick in the beginning then slows down, `ease-in`, which is slow in the beginning, then speeds up at the end, or `linear`, which applies a constant animation speed throughout.\n",
    "\n",
    "---\n",
    "For the elements with id of `ball1` and `ball2`, add an `animation-timing-function` property to each, and set `#ball1` to `linear`, and `#ball2` to `ease-out`. Notice the difference between how the elements move during the animation but end together, since they share the same `animation-duration` of 2 seconds."
   ]
  },
  {
   "cell_type": "markdown",
   "metadata": {},
   "source": [
    "```HTML\n",
    "<style>\n",
    "  .balls {\n",
    "    border-radius: 50%;\n",
    "    background: linear-gradient(\n",
    "      35deg,\n",
    "      #ccffff,\n",
    "      #ffcccc\n",
    "    );\n",
    "    position: fixed;\n",
    "    width: 50px;\n",
    "    height: 50px;\n",
    "    margin-top: 50px;\n",
    "    animation-name: bounce;\n",
    "    animation-duration: 2s;\n",
    "    animation-iteration-count: infinite;\n",
    "  }\n",
    "  #ball1 {\n",
    "    left:27%;\n",
    "    animation-timing-function: linear;\n",
    "  }\n",
    "  #ball2 {\n",
    "    left:56%;\n",
    "    animation-timing-function: ease-out;\n",
    "  }\n",
    "\n",
    "  @keyframes bounce {\n",
    "    0% {\n",
    "      top: 0px;\n",
    "    }\n",
    "    100% {\n",
    "      top: 249px;\n",
    "    }\n",
    "  }\n",
    "</style>\n",
    "\n",
    "<div class=\"balls\" id=\"ball1\"></div>\n",
    "<div class=\"balls\" id=\"ball2\"></div>\n",
    "```"
   ]
  },
  {
   "cell_type": "code",
   "execution_count": 122,
   "metadata": {},
   "outputs": [
    {
     "data": {
      "text/html": [
       "\n",
       "        <iframe\n",
       "            width=\"100%\"\n",
       "            height=\"250\"\n",
       "            src=\"./source-solution/03-applied-visual-design/048-change-animation-timing-with-keywords.html\"\n",
       "            frameborder=\"0\"\n",
       "            allowfullscreen\n",
       "        ></iframe>\n",
       "        "
      ],
      "text/plain": [
       "<IPython.lib.display.IFrame at 0x1126b1e2048>"
      ]
     },
     "execution_count": 122,
     "metadata": {},
     "output_type": "execute_result"
    }
   ],
   "source": [
    "IFrame('./source-solution/03-applied-visual-design/048-change-animation-timing-with-keywords.html', '100%', 250)"
   ]
  },
  {
   "cell_type": "markdown",
   "metadata": {},
   "source": [
    "### Learn How Bezier Curves Work"
   ]
  },
  {
   "cell_type": "markdown",
   "metadata": {},
   "source": [
    "The last challenge introduced the `animation-timing-function` property and a few keywords that change the speed of an animation over its duration. CSS offers an option other than keywords that provides even finer control over how the animation plays out, through the use of Bezier curves.\n",
    "\n",
    "In CSS animations, Bezier curves are used with the `cubic-bezier` function. The shape of the curve represents how the animation plays out. The curve lives on a 1 by 1 coordinate system. The X-axis of this coordinate system is the duration of the animation (think of it as a time scale), and the Y-axis is the change in the animation.\n",
    "\n",
    "The `cubic-bezier` function consists of four main points that sit on this 1 by 1 grid: `p0`, `p1`, `p2`, and `p3`. `p0` and `p3` are set for you - they are the beginning and end points which are always located respectively at the origin (0, 0) and (1, 1). You set the x and y values for the other two points, and where you place them in the grid dictates the shape of the curve for the animation to follow. This is done in CSS by declaring the x and y values of the `p1` and `p2` \"anchor\" points in the form: (`x1`, `y1`, `x2`, `y2`). Pulling it all together, here's an example of a Bezier curve in CSS code:\n",
    "\n",
    "`animation-timing-function: cubic-bezier(0.25, 0.25, 0.75, 0.75);`\n",
    "\n",
    "In the example above, the x and y values are equivalent for each point (x1 = 0.25 = y1 and x2 = 0.75 = y2), which if you remember from geometry class, results in a line that extends from the origin to point (1, 1). This animation is a linear change of an element during the length of an animation, and is the same as using the `linear` keyword. In other words, it changes at a constant speed.\n",
    "\n",
    "---\n",
    "For the element with the id of `ball1`, change the value of the `animation-timing-function` property from `linear` to its equivalent `cubic-bezier` function value. Use the point values given in the example above."
   ]
  },
  {
   "cell_type": "markdown",
   "metadata": {},
   "source": [
    "```HTML\n",
    "<style>\n",
    "  .balls{\n",
    "    border-radius: 50%;\n",
    "    background: linear-gradient(\n",
    "      35deg,\n",
    "      #ccffff,\n",
    "      #ffcccc\n",
    "    );\n",
    "    position: fixed;\n",
    "    width: 50px;\n",
    "    height: 50px;\n",
    "    margin-top: 50px;\n",
    "    animation-name: bounce;\n",
    "    animation-duration: 2s;\n",
    "    animation-iteration-count: infinite;\n",
    "  }\n",
    "  #ball1 {\n",
    "    left: 27%;\n",
    "    animation-timing-function: cubic-bezier(0.25, 0.25, 0.75, 0.75);\n",
    "  }\n",
    "  #ball2 {\n",
    "    left: 56%;\n",
    "    animation-timing-function: ease-out;\n",
    "  }\n",
    "\n",
    "  @keyframes bounce {\n",
    "    0% {\n",
    "      top: 0px;\n",
    "    }\n",
    "    100% {\n",
    "      top: 249px;\n",
    "    }\n",
    "  }\n",
    "</style>\n",
    "\n",
    "<div class=\"balls\" id=\"ball1\"></div>\n",
    "<div class=\"balls\" id=\"ball2\"></div>\n",
    "```"
   ]
  },
  {
   "cell_type": "code",
   "execution_count": 123,
   "metadata": {},
   "outputs": [
    {
     "data": {
      "text/html": [
       "\n",
       "        <iframe\n",
       "            width=\"100%\"\n",
       "            height=\"250\"\n",
       "            src=\"./source-solution/03-applied-visual-design/049-learn-how-bezier-curves-work.html\"\n",
       "            frameborder=\"0\"\n",
       "            allowfullscreen\n",
       "        ></iframe>\n",
       "        "
      ],
      "text/plain": [
       "<IPython.lib.display.IFrame at 0x1126b1e2198>"
      ]
     },
     "execution_count": 123,
     "metadata": {},
     "output_type": "execute_result"
    }
   ],
   "source": [
    "IFrame('./source-solution/03-applied-visual-design/049-learn-how-bezier-curves-work.html', '100%', 250)"
   ]
  },
  {
   "cell_type": "markdown",
   "metadata": {},
   "source": [
    "### Use a Bezier Curve to Move a Graphic"
   ]
  },
  {
   "cell_type": "markdown",
   "metadata": {},
   "source": [
    "A previous challenge discussed the `ease-out` keyword that describes an animation change that speeds up first and then slows down at the end of the animation. On the right, the difference between the `ease-out` keyword (for the blue element) and `linear` keyword (for the red element) is demonstrated. Similar animation progressions to the `ease-out` keyword can be achieved by using a custom cubic Bezier curve function.\n",
    "\n",
    "In general, changing the `p1` and `p2` anchor points drives the creation of different Bezier curves, which controls how the animation progresses through time. Here's an example of a Bezier curve using values to mimic the ease-out style:\n",
    "\n",
    "`animation-timing-function: cubic-bezier(0, 0, 0.58, 1);`\n",
    "\n",
    "Remember that all `cubic-bezier` functions start with `p0` at (0, 0) and end with `p3` at (1, 1). In this example, the curve moves faster through the Y-axis (starts at 0, goes to `p1` y value of 0, then goes to `p2` y value of 1) than it moves through the X-axis (0 to start, then 0 for `p1`, up to 0.58 for `p2`). As a result, the change in the animated element progresses faster than the time of the animation for that segment. Towards the end of the curve, the relationship between the change in x and y values reverses - the y value moves from 1 to 1 (no change), and the x values move from 0.58 to 1, making the animation changes progress slower compared to the animation duration.\n",
    "\n",
    "---\n",
    "To see the effect of this Bezier curve in action, change the `animation-timing-function` of the element with id of `red` to a `cubic-bezier` function with x1, y1, x2, y2 values set respectively to 0, 0, 0.58, 1. This will make both elements progress through the animation similarly."
   ]
  },
  {
   "cell_type": "markdown",
   "metadata": {},
   "source": [
    "```HTML\n",
    "<style>\n",
    "  .balls{\n",
    "    border-radius: 50%;\n",
    "    position: fixed;\n",
    "    width: 50px;\n",
    "    height: 50px;\n",
    "    margin-top: 50px;\n",
    "    animation-name: bounce;\n",
    "    animation-duration: 2s;\n",
    "    animation-iteration-count: infinite;\n",
    "  }\n",
    "  #red {\n",
    "    background: red;\n",
    "    left: 27%;\n",
    "    animation-timing-function: cubic-bezier(0, 0, 0.58, 1);\n",
    "  }\n",
    "  #blue {\n",
    "    background: blue;\n",
    "    left: 56%;\n",
    "    animation-timing-function: ease-out;\n",
    "  }\n",
    "  @keyframes bounce {\n",
    "    0% {\n",
    "      top: 0px;\n",
    "    }\n",
    "    100% {\n",
    "      top: 249px;\n",
    "    }\n",
    "  }\n",
    "</style>\n",
    "<div class=\"balls\" id= \"red\"></div>\n",
    "<div class=\"balls\" id= \"blue\"></div>\n",
    "```"
   ]
  },
  {
   "cell_type": "code",
   "execution_count": 124,
   "metadata": {},
   "outputs": [
    {
     "data": {
      "text/html": [
       "\n",
       "        <iframe\n",
       "            width=\"100%\"\n",
       "            height=\"250\"\n",
       "            src=\"./source-solution/03-applied-visual-design/050-use-a-bezier-curve-to-move-a-graphic.html\"\n",
       "            frameborder=\"0\"\n",
       "            allowfullscreen\n",
       "        ></iframe>\n",
       "        "
      ],
      "text/plain": [
       "<IPython.lib.display.IFrame at 0x1126b1e2320>"
      ]
     },
     "execution_count": 124,
     "metadata": {},
     "output_type": "execute_result"
    }
   ],
   "source": [
    "IFrame('./source-solution/03-applied-visual-design/050-use-a-bezier-curve-to-move-a-graphic.html', '100%', 250)"
   ]
  },
  {
   "cell_type": "markdown",
   "metadata": {},
   "source": [
    "### Make Motion More Natural Using a Bezier Curve"
   ]
  },
  {
   "cell_type": "markdown",
   "metadata": {},
   "source": [
    "This challenge animates an element to replicate the movement of a ball being juggled. Prior challenges covered the `linear` and `ease-out` cubic Bezier curves, however neither depicts the juggling movement accurately. You need to customize a Bezier curve for this.\n",
    "\n",
    "The `animation-timing-function` automatically loops at every keyframe when the `animation-iteration-count` is set to infinite. Since there is a keyframe rule set in the middle of the animation duration (at `50%`), it results in two identical animation progressions at the upward and downward movement of the ball.\n",
    "\n",
    "The following cubic Bezier curve simulates a juggling movement:\n",
    "\n",
    "`cubic-bezier(0.3, 0.4, 0.5, 1.6);`\n",
    "\n",
    "Notice that the value of y2 is larger than 1. Although the cubic Bezier curve is mapped on a 1 by 1 coordinate system, and it can only accept x values from 0 to 1, the y value can be set to numbers larger than one. This results in a bouncing movement that is ideal for simulating the juggling ball.\n",
    "\n",
    "---\n",
    "Change value of the `animation-timing-function` of the element with the id of `green` to a `cubic-bezier` function with x1, y1, x2, y2 values set respectively to 0.311, 0.441, 0.444, 1.649."
   ]
  },
  {
   "cell_type": "markdown",
   "metadata": {},
   "source": [
    "```HTML\n",
    "<style>\n",
    "  .balls {\n",
    "    border-radius: 50%;\n",
    "    position: fixed;\n",
    "    width: 50px;\n",
    "    height: 50px;\n",
    "    top: 60%;\n",
    "    animation-name: jump;\n",
    "    animation-duration: 2s;\n",
    "    animation-iteration-count: infinite;\n",
    "  }\n",
    "  #red {\n",
    "    background: red;\n",
    "    left: 25%;\n",
    "    animation-timing-function: linear;\n",
    "  }\n",
    "  #blue {\n",
    "    background: blue;\n",
    "    left: 50%;\n",
    "    animation-timing-function: ease-out;\n",
    "  }\n",
    "  #green {\n",
    "    background: green;\n",
    "    left: 75%;\n",
    "    animation-timing-function: cubic-bezier(0.311, 0.441, 0.444, 1.649);\n",
    "  }\n",
    "\n",
    "  @keyframes jump {\n",
    "    50% {\n",
    "      top: 10%;\n",
    "    }\n",
    "  }\n",
    "</style>\n",
    "<div class=\"balls\" id=\"red\"></div>\n",
    "<div class=\"balls\" id=\"blue\"></div>\n",
    "<div class=\"balls\" id=\"green\"></div>\n",
    "```"
   ]
  },
  {
   "cell_type": "code",
   "execution_count": 125,
   "metadata": {
    "scrolled": true
   },
   "outputs": [
    {
     "data": {
      "text/html": [
       "\n",
       "        <iframe\n",
       "            width=\"100%\"\n",
       "            height=\"250\"\n",
       "            src=\"./source-solution/03-applied-visual-design/051-make-motion-more-natural-using-a-bezier-curve.html\"\n",
       "            frameborder=\"0\"\n",
       "            allowfullscreen\n",
       "        ></iframe>\n",
       "        "
      ],
      "text/plain": [
       "<IPython.lib.display.IFrame at 0x1126b1e24a8>"
      ]
     },
     "execution_count": 125,
     "metadata": {},
     "output_type": "execute_result"
    }
   ],
   "source": [
    "IFrame('./source-solution/03-applied-visual-design/051-make-motion-more-natural-using-a-bezier-curve.html', '100%', 250)"
   ]
  },
  {
   "cell_type": "code",
   "execution_count": null,
   "metadata": {},
   "outputs": [],
   "source": []
  }
 ],
 "metadata": {
  "kernelspec": {
   "display_name": "Python 3",
   "language": "python",
   "name": "python3"
  },
  "language_info": {
   "codemirror_mode": {
    "name": "ipython",
    "version": 3
   },
   "file_extension": ".py",
   "mimetype": "text/x-python",
   "name": "python",
   "nbconvert_exporter": "python",
   "pygments_lexer": "ipython3",
   "version": "3.7.1"
  },
  "toc": {
   "base_numbering": 1,
   "nav_menu": {},
   "number_sections": true,
   "sideBar": true,
   "skip_h1_title": false,
   "title_cell": "Table of Contents",
   "title_sidebar": "Contents",
   "toc_cell": false,
   "toc_position": {
    "height": "752px",
    "left": "28px",
    "top": "54px",
    "width": "248.594px"
   },
   "toc_section_display": true,
   "toc_window_display": true
  }
 },
 "nbformat": 4,
 "nbformat_minor": 2
}
