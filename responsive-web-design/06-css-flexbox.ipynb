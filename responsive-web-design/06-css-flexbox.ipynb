{
 "cells": [
  {
   "cell_type": "code",
   "execution_count": 3,
   "metadata": {},
   "outputs": [],
   "source": [
    "from IPython.display import IFrame"
   ]
  },
  {
   "cell_type": "markdown",
   "metadata": {},
   "source": [
    "# Responsive Web Design Certification"
   ]
  },
  {
   "cell_type": "markdown",
   "metadata": {},
   "source": [
    "## CSS Flexbox"
   ]
  },
  {
   "cell_type": "markdown",
   "metadata": {},
   "source": [
    "### Introduction to the CSS Flexbox Challenges"
   ]
  },
  {
   "cell_type": "markdown",
   "metadata": {},
   "source": [
    "A website's User Interface (\"UI\") has two components. First, there are the visual elements, such as colors, fonts, and images. Second, there is the placement or positioning of those elements. In Responsive Web Design, a UI layout must accommodate many different browsers and devices accessing the content.\n",
    "\n",
    "CSS3 introduced Flexible Boxes, or flexbox, to create page layouts for a dynamic UI. It is a layout mode that arranges elements in a predictable way for different screen sizes and browsers. While somewhat new, all popular modern browsers support flexbox. This section covers how to use flexbox and the different layout options it offers."
   ]
  },
  {
   "cell_type": "markdown",
   "metadata": {},
   "source": [
    "### Use display: flex to Position Two Boxes"
   ]
  },
  {
   "cell_type": "markdown",
   "metadata": {},
   "source": [
    "This section uses alternating challenge styles to show how to use CSS to position elements in a flexible way. First, a challenge will explain theory, then a practical challenge using a simple tweet component will apply the flexbox concept.\n",
    "\n",
    "Placing the CSS property `display: flex;` on an element allows you to use other flex properties to build a responsive page.\n",
    "\n",
    "---\n",
    "Add the CSS property `display` to `#box-container` and set its value to `flex`."
   ]
  },
  {
   "cell_type": "markdown",
   "metadata": {},
   "source": [
    "```HTML\n",
    "<style>\n",
    "  #box-container {\n",
    "    height: 500px;\n",
    "    display: flex;\n",
    "  }\n",
    "\n",
    "  #box-1 {\n",
    "    background-color: dodgerblue;\n",
    "    width: 50%;\n",
    "    height: 50%;\n",
    "  }\n",
    "\n",
    "  #box-2 {\n",
    "    background-color: orangered;\n",
    "    width: 50%;\n",
    "    height: 50%;\n",
    "  }\n",
    "</style>\n",
    "<div id=\"box-container\">\n",
    "  <div id=\"box-1\"></div>\n",
    "  <div id=\"box-2\"></div>\n",
    "</div>\n",
    "```"
   ]
  },
  {
   "cell_type": "code",
   "execution_count": 4,
   "metadata": {},
   "outputs": [
    {
     "data": {
      "text/html": [
       "\n",
       "        <iframe\n",
       "            width=\"100%\"\n",
       "            height=\"250\"\n",
       "            src=\"./source-solution/06-css-flexbox/000-use-display-flex-to-position-two-boxes.html\"\n",
       "            frameborder=\"0\"\n",
       "            allowfullscreen\n",
       "        ></iframe>\n",
       "        "
      ],
      "text/plain": [
       "<IPython.lib.display.IFrame at 0x7fa5082e84e0>"
      ]
     },
     "execution_count": 4,
     "metadata": {},
     "output_type": "execute_result"
    }
   ],
   "source": [
    "IFrame('./source-solution/06-css-flexbox/000-use-display-flex-to-position-two-boxes.html', '100%', 250)"
   ]
  },
  {
   "cell_type": "markdown",
   "metadata": {},
   "source": [
    "### Add Flex Superpowers to the Tweet Embed"
   ]
  },
  {
   "cell_type": "markdown",
   "metadata": {},
   "source": [
    "To the right is the tweet embed that will be used as the practical example. Some of the elements would look better with a different layout. The last challenge demonstrated `display: flex`. Here you'll add it to several components in the tweet embed to start adjusting their positioning.\n",
    "\n",
    "---\n",
    "Add the CSS property `display: flex` to all of the following items - note that the selectors are already set up in the CSS:\n",
    "\n",
    "`header`, the header's `.profile-name`, the header's `.follow-btn`, the header's `h3` and `h4`, the `footer`, and the footer's `.stats`."
   ]
  },
  {
   "cell_type": "markdown",
   "metadata": {},
   "source": [
    "```HTML\n",
    "<style>\n",
    "  body {\n",
    "    font-family: Arial, sans-serif;\n",
    "  }\n",
    "  header {\n",
    "    display: flex;\n",
    "  }\n",
    "  header .profile-thumbnail {\n",
    "    width: 50px;\n",
    "    height: 50px;\n",
    "    border-radius: 4px;    \n",
    "  }\n",
    "  header .profile-name {\n",
    "    display: flex;\n",
    "    margin-left: 10px;\n",
    "  }\n",
    "  header .follow-btn {\n",
    "    display: flex;\n",
    "    margin: 0 0 0 auto;\n",
    "  }\n",
    "  header .follow-btn button {\n",
    "    border: 0;\n",
    "    border-radius: 3px;\n",
    "    padding: 5px;\n",
    "  }\n",
    "  header h3, header h4 {\n",
    "    display: flex;\n",
    "    margin: 0;\n",
    "  }\n",
    "  #inner p {\n",
    "    margin-bottom: 10px;\n",
    "    font-size: 20px;\n",
    "  }\n",
    "  #inner hr {\n",
    "    margin: 20px 0;\n",
    "    border-style: solid;\n",
    "    opacity: 0.1;\n",
    "  }\n",
    "  footer {\n",
    "    display: flex;\n",
    "  }\n",
    "  footer .stats {\n",
    "    display: flex;\n",
    "    font-size: 15px;\n",
    "  }\n",
    "  footer .stats strong {\n",
    "    font-size: 18px;\n",
    "  }\n",
    "  footer .stats .likes {\n",
    "    margin-left: 10px;\n",
    "  }\n",
    "  footer .cta {\n",
    "    margin-left: auto;\n",
    "  }\n",
    "  footer .cta button {\n",
    "    border: 0;\n",
    "    background: transparent;\n",
    "  }\n",
    "</style>\n",
    "<header>\n",
    "  <img src=\"https://freecodecamp.s3.amazonaws.com/quincy-twitter-photo.jpg\" alt=\"Quincy Larson's profile picture\" class=\"profile-thumbnail\">\n",
    "  <div class=\"profile-name\">\n",
    "    <h3>Quincy Larson</h3>\n",
    "    <h4>@ossia</h4>\n",
    "  </div>\n",
    "  <div class=\"follow-btn\">\n",
    "    <button>Follow</button>\n",
    "  </div>\n",
    "</header>\n",
    "<div id=\"inner\">\n",
    "  <p>I meet so many people who are in search of that one trick that will help them work smart. Even if you work smart, you still have to work hard.</p>\n",
    "  <span class=\"date\">1:32 PM - 12 Jan 2018</span>\n",
    "  <hr>\n",
    "</div>\n",
    "<footer>\n",
    "  <div class=\"stats\">\n",
    "    <div class=\"Retweets\">\n",
    "      <strong>107</strong> Retweets\n",
    "    </div>\n",
    "    <div class=\"likes\">\n",
    "      <strong>431</strong> Likes\n",
    "    </div>\n",
    "  </div>\n",
    "  <div class=\"cta\">\n",
    "    <button class=\"share-btn\">Share</button>\n",
    "    <button class=\"retweet-btn\">Retweet</button>\n",
    "    <button class=\"like-btn\">Like</button>\n",
    "  </div>\n",
    "</footer>\n",
    "```"
   ]
  },
  {
   "cell_type": "code",
   "execution_count": 5,
   "metadata": {},
   "outputs": [
    {
     "data": {
      "text/html": [
       "\n",
       "        <iframe\n",
       "            width=\"100%\"\n",
       "            height=\"250\"\n",
       "            src=\"./source-solution/06-css-flexbox/001-add-flex-superpowers-to-the-tweet-embed.html\"\n",
       "            frameborder=\"0\"\n",
       "            allowfullscreen\n",
       "        ></iframe>\n",
       "        "
      ],
      "text/plain": [
       "<IPython.lib.display.IFrame at 0x7fa5082e8780>"
      ]
     },
     "execution_count": 5,
     "metadata": {},
     "output_type": "execute_result"
    }
   ],
   "source": [
    "IFrame('./source-solution/06-css-flexbox/001-add-flex-superpowers-to-the-tweet-embed.html', '100%', 250)"
   ]
  },
  {
   "cell_type": "markdown",
   "metadata": {},
   "source": [
    "### Use the flex-direction Property to Make a Row"
   ]
  },
  {
   "cell_type": "markdown",
   "metadata": {},
   "source": [
    "Adding `display: flex` to an element turns it into a flex container. This makes it possible to align any children of that element into rows or columns. You do this by adding the `flex-direction` property to the parent item and setting it to row or column. Creating a row will align the children horizontally, and creating a column will align the children vertically.\n",
    "\n",
    "Other options for `flex-direction` are row-reverse and column-reverse.\n",
    "\n",
    "Note: The default value for the `flex-direction` property is `row`.\n",
    "\n",
    "---\n",
    "Add the CSS property `flex-direction` to the `#box-container` element, and give it a value of `row-reverse`."
   ]
  },
  {
   "cell_type": "markdown",
   "metadata": {},
   "source": [
    "```HTML\n",
    "<style>\n",
    "  #box-container {\n",
    "    display: flex;\n",
    "    height: 500px;\n",
    "    flex-direction: row-reverse;\n",
    "  }\n",
    "  #box-1 {\n",
    "    background-color: dodgerblue;\n",
    "    width: 50%;\n",
    "    height: 50%;\n",
    "  }\n",
    "\n",
    "  #box-2 {\n",
    "    background-color: orangered;\n",
    "    width: 50%;\n",
    "    height: 50%;\n",
    "  }\n",
    "</style>\n",
    "\n",
    "<div id=\"box-container\">\n",
    "  <div id=\"box-1\"></div>\n",
    "  <div id=\"box-2\"></div>\n",
    "</div>\n",
    "```"
   ]
  },
  {
   "cell_type": "code",
   "execution_count": 6,
   "metadata": {},
   "outputs": [
    {
     "data": {
      "text/html": [
       "\n",
       "        <iframe\n",
       "            width=\"100%\"\n",
       "            height=\"250\"\n",
       "            src=\"./source-solution/06-css-flexbox/002-use-the-flex-direction-property-to-make-a-row.html\"\n",
       "            frameborder=\"0\"\n",
       "            allowfullscreen\n",
       "        ></iframe>\n",
       "        "
      ],
      "text/plain": [
       "<IPython.lib.display.IFrame at 0x7fa508228d68>"
      ]
     },
     "execution_count": 6,
     "metadata": {},
     "output_type": "execute_result"
    }
   ],
   "source": [
    "IFrame('./source-solution/06-css-flexbox/002-use-the-flex-direction-property-to-make-a-row.html', '100%', 250)"
   ]
  },
  {
   "cell_type": "markdown",
   "metadata": {},
   "source": [
    "### Apply the flex-direction Property to Create Rows in the Tweet Embed"
   ]
  },
  {
   "cell_type": "markdown",
   "metadata": {},
   "source": [
    "The `header` and `footer` in the tweet embed example have child items that could be arranged as rows using the `flex-direction` property. This tells CSS to align the children horizontally.\n",
    "\n",
    "---\n",
    "Add the CSS property `flex-direction` to both the `header` and `footer` and set the value to row."
   ]
  },
  {
   "cell_type": "markdown",
   "metadata": {},
   "source": [
    "```HTML\n",
    "<style>\n",
    "  body {\n",
    "    font-family: Arial, sans-serif;\n",
    "  }\n",
    "  header {\n",
    "    display: flex;    \n",
    "    flex-direction: row;\n",
    "  }\n",
    "  header .profile-thumbnail {\n",
    "    width: 50px;\n",
    "    height: 50px;\n",
    "    border-radius: 4px;\n",
    "  }\n",
    "  header .profile-name {\n",
    "    display: flex;\n",
    "    margin-left: 10px;\n",
    "  }\n",
    "  header .follow-btn {\n",
    "    display: flex;\n",
    "    margin: 0 0 0 auto;\n",
    "  }\n",
    "  header .follow-btn button {\n",
    "    border: 0;\n",
    "    border-radius: 3px;\n",
    "    padding: 5px;\n",
    "  }\n",
    "  header h3, header h4 {\n",
    "    display: flex;\n",
    "    margin: 0;\n",
    "  }\n",
    "  #inner p {\n",
    "    margin-bottom: 10px;\n",
    "    font-size: 20px;\n",
    "  }\n",
    "  #inner hr {\n",
    "    margin: 20px 0;\n",
    "    border-style: solid;\n",
    "    opacity: 0.1;\n",
    "  }\n",
    "  footer {\n",
    "    display: flex;\n",
    "    flex-direction: row;\n",
    "  }\n",
    "  footer .stats {\n",
    "    display: flex;\n",
    "    font-size: 15px;\n",
    "  }\n",
    "  footer .stats strong {\n",
    "    font-size: 18px;\n",
    "  }\n",
    "  footer .stats .likes {\n",
    "    margin-left: 10px;\n",
    "  }\n",
    "  footer .cta {\n",
    "    margin-left: auto;\n",
    "  }\n",
    "  footer .cta button {\n",
    "    border: 0;\n",
    "    background: transparent;\n",
    "  }\n",
    "</style>\n",
    "<header>\n",
    "  <img src=\"https://freecodecamp.s3.amazonaws.com/quincy-twitter-photo.jpg\" alt=\"Quincy Larson's profile picture\" class=\"profile-thumbnail\">\n",
    "  <div class=\"profile-name\">\n",
    "    <h3>Quincy Larson</h3>\n",
    "    <h4>@ossia</h4>\n",
    "  </div>\n",
    "  <div class=\"follow-btn\">\n",
    "    <button>Follow</button>\n",
    "  </div>\n",
    "</header>\n",
    "<div id=\"inner\">\n",
    "  <p>I meet so many people who are in search of that one trick that will help them work smart. Even if you work smart, you still have to work hard.</p>\n",
    "  <span class=\"date\">1:32 PM - 12 Jan 2018</span>\n",
    "  <hr>\n",
    "</div>\n",
    "<footer>\n",
    "  <div class=\"stats\">\n",
    "    <div class=\"Retweets\">\n",
    "      <strong>107</strong> Retweets\n",
    "    </div>\n",
    "    <div class=\"likes\">\n",
    "      <strong>431</strong> Likes\n",
    "    </div>\n",
    "  </div>\n",
    "  <div class=\"cta\">\n",
    "    <button class=\"share-btn\">Share</button>\n",
    "    <button class=\"retweet-btn\">Retweet</button>\n",
    "    <button class=\"like-btn\">Like</button>\n",
    "  </div>\n",
    "</footer>\n",
    "```"
   ]
  },
  {
   "cell_type": "code",
   "execution_count": 7,
   "metadata": {},
   "outputs": [
    {
     "data": {
      "text/html": [
       "\n",
       "        <iframe\n",
       "            width=\"100%\"\n",
       "            height=\"250\"\n",
       "            src=\"./source-solution/06-css-flexbox/003-apply-the-flex-direction-property-to-create-rows-in-the-tweet-embed.html\"\n",
       "            frameborder=\"0\"\n",
       "            allowfullscreen\n",
       "        ></iframe>\n",
       "        "
      ],
      "text/plain": [
       "<IPython.lib.display.IFrame at 0x7fa5082e8b70>"
      ]
     },
     "execution_count": 7,
     "metadata": {},
     "output_type": "execute_result"
    }
   ],
   "source": [
    "IFrame('./source-solution/06-css-flexbox/003-apply-the-flex-direction-property-to-create-rows-in-the-tweet-embed.html', '100%', 250)"
   ]
  },
  {
   "cell_type": "markdown",
   "metadata": {},
   "source": [
    "### Use the flex-direction Property to Make a Column"
   ]
  },
  {
   "cell_type": "markdown",
   "metadata": {},
   "source": [
    "The last two challenges used the `flex-direction` property set to row. This property can also create a column by vertically stacking the children of a flex container.\n",
    "\n",
    "---\n",
    "Add the CSS property `flex-direction` to the `#box-container` element, and give it a value of `column`."
   ]
  },
  {
   "cell_type": "markdown",
   "metadata": {},
   "source": [
    "```HTML\n",
    "<style>\n",
    "  #box-container {\n",
    "    display: flex;\n",
    "    height: 500px;\n",
    "    flex-direction: column;\n",
    "  }\n",
    "  #box-1 {\n",
    "    background-color: dodgerblue;\n",
    "    width: 50%;\n",
    "    height: 50%;\n",
    "  }\n",
    "\n",
    "  #box-2 {\n",
    "    background-color: orangered;\n",
    "    width: 50%;\n",
    "    height: 50%;\n",
    "  }\n",
    "</style>\n",
    "\n",
    "<div id=\"box-container\">\n",
    "  <div id=\"box-1\"></div>\n",
    "  <div id=\"box-2\"></div>\n",
    "</div>\n",
    "```"
   ]
  },
  {
   "cell_type": "code",
   "execution_count": 8,
   "metadata": {},
   "outputs": [
    {
     "data": {
      "text/html": [
       "\n",
       "        <iframe\n",
       "            width=\"100%\"\n",
       "            height=\"250\"\n",
       "            src=\"./source-solution/06-css-flexbox/004-use-the-flex-direction-property-to-make-a-column.html\"\n",
       "            frameborder=\"0\"\n",
       "            allowfullscreen\n",
       "        ></iframe>\n",
       "        "
      ],
      "text/plain": [
       "<IPython.lib.display.IFrame at 0x7fa5082e87f0>"
      ]
     },
     "execution_count": 8,
     "metadata": {},
     "output_type": "execute_result"
    }
   ],
   "source": [
    "IFrame('./source-solution/06-css-flexbox/004-use-the-flex-direction-property-to-make-a-column.html', '100%', 250)"
   ]
  },
  {
   "cell_type": "markdown",
   "metadata": {},
   "source": [
    "### Apply the flex-direction Property to Create a Column in the Tweet Embed"
   ]
  },
  {
   "cell_type": "markdown",
   "metadata": {},
   "source": [
    "The tweet embed `header` and `footer` used the `flex-direction` property earlier with a row value. Similarly, the items inside the `.profile-name` element would work well stacked as a column.\n",
    "\n",
    "---\n",
    "Add the CSS property `flex-direction` to the header's `.profile-name` element and set the value to column."
   ]
  },
  {
   "cell_type": "markdown",
   "metadata": {},
   "source": [
    "```HTML\n",
    "<style>\n",
    "  body {\n",
    "    font-family: Arial, sans-serif;\n",
    "  }\n",
    "  header, footer {\n",
    "    display: flex;\n",
    "    flex-direction: row;\n",
    "  }\n",
    "  header .profile-thumbnail {\n",
    "    width: 50px;\n",
    "    height: 50px;\n",
    "    border-radius: 4px;\n",
    "  }\n",
    "  header .profile-name {\n",
    "    display: flex;\n",
    "    flex-direction: column;\n",
    "    margin-left: 10px;\n",
    "  }\n",
    "  header .follow-btn {\n",
    "    display: flex;\n",
    "    margin: 0 0 0 auto;\n",
    "  }\n",
    "  header .follow-btn button {\n",
    "    border: 0;\n",
    "    border-radius: 3px;\n",
    "    padding: 5px;\n",
    "  }\n",
    "  header h3, header h4 {\n",
    "    display: flex;\n",
    "    margin: 0;\n",
    "  }\n",
    "  #inner p {\n",
    "    margin-bottom: 10px;\n",
    "    font-size: 20px;\n",
    "  }\n",
    "  #inner hr {\n",
    "    margin: 20px 0;\n",
    "    border-style: solid;\n",
    "    opacity: 0.1;\n",
    "  }\n",
    "  footer .stats {\n",
    "    display: flex;\n",
    "    font-size: 15px;\n",
    "  }\n",
    "  footer .stats strong {\n",
    "    font-size: 18px;\n",
    "  }\n",
    "  footer .stats .likes {\n",
    "    margin-left: 10px;\n",
    "  }\n",
    "  footer .cta {\n",
    "    margin-left: auto;\n",
    "  }\n",
    "  footer .cta button {\n",
    "    border: 0;\n",
    "    background: transparent;\n",
    "  }\n",
    "</style>\n",
    "<header>\n",
    "  <img src=\"https://freecodecamp.s3.amazonaws.com/quincy-twitter-photo.jpg\" alt=\"Quincy Larson's profile picture\" class=\"profile-thumbnail\">\n",
    "  <div class=\"profile-name\">\n",
    "    <h3>Quincy Larson</h3>\n",
    "    <h4>@ossia</h4>\n",
    "  </div>\n",
    "  <div class=\"follow-btn\">\n",
    "    <button>Follow</button>\n",
    "  </div>\n",
    "</header>\n",
    "<div id=\"inner\">\n",
    "  <p>I meet so many people who are in search of that one trick that will help them work smart. Even if you work smart, you still have to work hard.</p>\n",
    "  <span class=\"date\">1:32 PM - 12 Jan 2018</span>\n",
    "  <hr>\n",
    "</div>\n",
    "<footer>\n",
    "  <div class=\"stats\">\n",
    "    <div class=\"Retweets\">\n",
    "      <strong>107</strong> Retweets\n",
    "    </div>\n",
    "    <div class=\"likes\">\n",
    "      <strong>431</strong> Likes\n",
    "    </div>\n",
    "  </div>\n",
    "  <div class=\"cta\">\n",
    "    <button class=\"share-btn\">Share</button>\n",
    "    <button class=\"retweet-btn\">Retweet</button>\n",
    "    <button class=\"like-btn\">Like</button>\n",
    "  </div>\n",
    "</footer>\n",
    "```"
   ]
  },
  {
   "cell_type": "code",
   "execution_count": 9,
   "metadata": {},
   "outputs": [
    {
     "data": {
      "text/html": [
       "\n",
       "        <iframe\n",
       "            width=\"100%\"\n",
       "            height=\"250\"\n",
       "            src=\"./source-solution/06-css-flexbox/005-apply-the-flex-direction-property-to-create-a-column-in-the-tweet-embed.html\"\n",
       "            frameborder=\"0\"\n",
       "            allowfullscreen\n",
       "        ></iframe>\n",
       "        "
      ],
      "text/plain": [
       "<IPython.lib.display.IFrame at 0x7fa508222550>"
      ]
     },
     "execution_count": 9,
     "metadata": {},
     "output_type": "execute_result"
    }
   ],
   "source": [
    "IFrame('./source-solution/06-css-flexbox/005-apply-the-flex-direction-property-to-create-a-column-in-the-tweet-embed.html', '100%', 250)"
   ]
  },
  {
   "cell_type": "markdown",
   "metadata": {},
   "source": [
    "### Align Elements Using the justify-content Property"
   ]
  },
  {
   "cell_type": "markdown",
   "metadata": {},
   "source": [
    "Sometimes the flex items within a flex container do not fill all the space in the container. It is common to want to tell CSS how to align and space out the flex items a certain way. Fortunately, the `justify-content` property has several options to do this. But first, there is some important terminology to understand before reviewing those options.\n",
    "\n",
    "Here is a useful image showing a row to illustrate the concepts below.\n",
    "\n",
    "Recall that setting a flex container as a row places the flex items side-by-side from left-to-right. A flex container set as a column places the flex items in a vertical stack from top-to-bottom. For each, the direction the flex items are arranged is called the main axis. For a row, this is a horizontal line that cuts through each item. And for a column, the main axis is a vertical line through the items.\n",
    "\n",
    "There are several options for how to space the flex items along the line that is the main axis. One of the most commonly used is `justify-content: center;`, which aligns all the flex items to the center inside the flex container. Others options include:\n",
    "\n",
    "* `flex-start`: aligns items to the start of the flex container. For a row, this pushes the items to the left of the container. For a column, this pushes the items to the top of the container. This is the default alignment if no `justify-content` is specified.\n",
    "* `flex-end`: aligns items to the end of the flex container. For a row, this pushes the items to the right of the container. For a column, this pushes the items to the bottom of the container.\n",
    "* `space-between`: aligns items to the center of the main axis, with extra space placed between the items. The first and last items are pushed to the very edge of the flex container. For example, in a row the first item is against the left side of the container, the last item is against the right side of the container, then the remaining space is distributed evenly among the other items.\n",
    "* `space-around`: similar to `space-between` but the first and last items are not locked to the edges of the container, the space is distributed around all the items with a half space on either end of the flex container.\n",
    "* `space-evenly`: Distributes space evenly between the flex items with a full space at either end of the flex container\n",
    "---\n",
    "An example helps show this property in action. Add the CSS property `justify-content` to the `#box-container` element, and give it a value of `center`.\n",
    "\n",
    "**Bonus**\n",
    "Try the other options for the `justify-content` property in the code editor to see their differences. But note that a value of `center` is the only one that will pass this challenge."
   ]
  },
  {
   "cell_type": "markdown",
   "metadata": {},
   "source": [
    "```HTML\n",
    "<style>\n",
    "  #box-container {\n",
    "    background: gray;\n",
    "    display: flex;\n",
    "    height: 500px;\n",
    "    justify-content: center;\n",
    "  }\n",
    "  #box-1 {\n",
    "    background-color: dodgerblue;\n",
    "    width: 25%;\n",
    "    height: 100%;\n",
    "  }\n",
    "\n",
    "  #box-2 {\n",
    "    background-color: orangered;\n",
    "    width: 25%;\n",
    "    height: 100%;\n",
    "  }\n",
    "</style>\n",
    "\n",
    "<div id=\"box-container\">\n",
    "  <div id=\"box-1\"></div>\n",
    "  <div id=\"box-2\"></div>\n",
    "</div>\n",
    "```"
   ]
  },
  {
   "cell_type": "code",
   "execution_count": 11,
   "metadata": {},
   "outputs": [
    {
     "data": {
      "text/html": [
       "\n",
       "        <iframe\n",
       "            width=\"100%\"\n",
       "            height=\"250\"\n",
       "            src=\"./source-solution/06-css-flexbox/006-align-elements-using-the-justify-content-property.html\"\n",
       "            frameborder=\"0\"\n",
       "            allowfullscreen\n",
       "        ></iframe>\n",
       "        "
      ],
      "text/plain": [
       "<IPython.lib.display.IFrame at 0x7fa5082e8940>"
      ]
     },
     "execution_count": 11,
     "metadata": {},
     "output_type": "execute_result"
    }
   ],
   "source": [
    "IFrame('./source-solution/06-css-flexbox/006-align-elements-using-the-justify-content-property.html', '100%', 250)"
   ]
  },
  {
   "cell_type": "markdown",
   "metadata": {},
   "source": [
    "### Use the justify-content Property in the Tweet Embed"
   ]
  },
  {
   "cell_type": "markdown",
   "metadata": {},
   "source": [
    "The last challenge showed an example of the `justify-content` property. For the tweet embed, this property can be applied to align the items in the `.profile-name` element.\n",
    "\n",
    "---\n",
    "Add the CSS property `justify-content` to the header's `.profile-name` element and set the value to any of the options from the last challenge."
   ]
  },
  {
   "cell_type": "markdown",
   "metadata": {},
   "source": [
    "```HTML\n",
    "<style>\n",
    "  body {\n",
    "    font-family: Arial, sans-serif;\n",
    "  }\n",
    "  header, footer {\n",
    "    display: flex;\n",
    "    flex-direction: row;\n",
    "  }\n",
    "  header .profile-thumbnail {\n",
    "    width: 50px;\n",
    "    height: 50px;\n",
    "    border-radius: 4px;\n",
    "  }\n",
    "  header .profile-name {\n",
    "    display: flex;\n",
    "    flex-direction: column;\n",
    "    justify-content: space-evenly;\n",
    "    margin-left: 10px;\n",
    "  }\n",
    "  header .follow-btn {\n",
    "    display: flex;\n",
    "    margin: 0 0 0 auto;\n",
    "  }\n",
    "  header .follow-btn button {\n",
    "    border: 0;\n",
    "    border-radius: 3px;\n",
    "    padding: 5px;\n",
    "  }\n",
    "  header h3, header h4 {\n",
    "    display: flex;\n",
    "    margin: 0;\n",
    "  }\n",
    "  #inner p {\n",
    "    margin-bottom: 10px;\n",
    "    font-size: 20px;\n",
    "  }\n",
    "  #inner hr {\n",
    "    margin: 20px 0;\n",
    "    border-style: solid;\n",
    "    opacity: 0.1;\n",
    "  }\n",
    "  footer .stats {\n",
    "    display: flex;\n",
    "    font-size: 15px;\n",
    "  }\n",
    "  footer .stats strong {\n",
    "    font-size: 18px;\n",
    "  }\n",
    "  footer .stats .likes {\n",
    "    margin-left: 10px;\n",
    "  }\n",
    "  footer .cta {\n",
    "    margin-left: auto;\n",
    "  }\n",
    "  footer .cta button {\n",
    "    border: 0;\n",
    "    background: transparent;\n",
    "  }\n",
    "</style>\n",
    "<header>\n",
    "  <img src=\"https://freecodecamp.s3.amazonaws.com/quincy-twitter-photo.jpg\" alt=\"Quincy Larson's profile picture\" class=\"profile-thumbnail\">\n",
    "  <div class=\"profile-name\">\n",
    "    <h3>Quincy Larson</h3>\n",
    "    <h4>@ossia</h4>\n",
    "  </div>\n",
    "  <div class=\"follow-btn\">\n",
    "    <button>Follow</button>\n",
    "  </div>\n",
    "</header>\n",
    "<div id=\"inner\">\n",
    "  <p>I meet so many people who are in search of that one trick that will help them work smart. Even if you work smart, you still have to work hard.</p>\n",
    "  <span class=\"date\">1:32 PM - 12 Jan 2018</span>\n",
    "  <hr>\n",
    "</div>\n",
    "<footer>\n",
    "  <div class=\"stats\">\n",
    "    <div class=\"Retweets\">\n",
    "      <strong>107</strong> Retweets\n",
    "    </div>\n",
    "    <div class=\"likes\">\n",
    "      <strong>431</strong> Likes\n",
    "    </div>\n",
    "  </div>\n",
    "  <div class=\"cta\">\n",
    "    <button class=\"share-btn\">Share</button>\n",
    "    <button class=\"retweet-btn\">Retweet</button>\n",
    "    <button class=\"like-btn\">Like</button>\n",
    "  </div>\n",
    "</footer>\n",
    "```"
   ]
  },
  {
   "cell_type": "code",
   "execution_count": 12,
   "metadata": {},
   "outputs": [
    {
     "data": {
      "text/html": [
       "\n",
       "        <iframe\n",
       "            width=\"100%\"\n",
       "            height=\"250\"\n",
       "            src=\"./source-solution/06-css-flexbox/007-use-the-justify-content-property-in-the-tweet-embed.html\"\n",
       "            frameborder=\"0\"\n",
       "            allowfullscreen\n",
       "        ></iframe>\n",
       "        "
      ],
      "text/plain": [
       "<IPython.lib.display.IFrame at 0x7fa508222f98>"
      ]
     },
     "execution_count": 12,
     "metadata": {},
     "output_type": "execute_result"
    }
   ],
   "source": [
    "IFrame('./source-solution/06-css-flexbox/007-use-the-justify-content-property-in-the-tweet-embed.html', '100%', 250)"
   ]
  },
  {
   "cell_type": "markdown",
   "metadata": {},
   "source": [
    "### Align Elements Using the align-items Property"
   ]
  },
  {
   "cell_type": "markdown",
   "metadata": {},
   "source": [
    "The `align-items` property is similar to `justify-content`. Recall that the `justify-content` property aligned flex items along the main axis. For rows, the main axis is a horizontal line and for columns it is a vertical line.\n",
    "\n",
    "Flex containers also have a cross axis which is the opposite of the main axis. For rows, the cross axis is vertical and for columns, the cross axis is horizontal.\n",
    "\n",
    "CSS offers the `align-items` property to align flex items along the cross axis. For a row, it tells CSS how to push the items in the entire row up or down within the container. And for a column, how to push all the items left or right within the container.\n",
    "\n",
    "The different values available for `align-items` include:\n",
    "\n",
    "* `flex-start`: aligns items to the start of the flex container. For rows, this aligns items to the top of the container. For columns, this aligns items to the left of the container.\n",
    "* `flex-end`: aligns items to the end of the flex container. For rows, this aligns items to the bottom of the container. For columns, this aligns items to the right of the container.\n",
    "* `center`: align items to the center. For rows, this vertically aligns items (equal space above and below the items). For columns, this horizontally aligns them (equal space to the left and right of the items).\n",
    "* `stretch`: stretch the items to fill the flex container. For example, rows items are stretched to fill the flex container top-to-bottom. This is the default value if no `align-items` value is specified.\n",
    "* `baseline`: align items to their baselines. Baseline is a text concept, think of it as the line that the letters sit on.\n",
    "---\n",
    "An example helps show this property in action. Add the CSS property `align-items` to the `#box-container` element, and give it a value of `center`.\n",
    "\n",
    "**Bonus**\n",
    "Try the other options for the `align-items` property in the code editor to see their differences. But note that a value of `center` is the only one that will pass this challenge."
   ]
  },
  {
   "cell_type": "markdown",
   "metadata": {},
   "source": [
    "```HTML\n",
    "<style>\n",
    "  #box-container {\n",
    "    background: gray;\n",
    "    display: flex;\n",
    "    height: 500px;\n",
    "    align-items: center;\n",
    "  }\n",
    "  #box-1 {\n",
    "    background-color: dodgerblue;\n",
    "    width: 200px;\n",
    "    font-size: 24px;\n",
    "  }\n",
    "\n",
    "  #box-2 {\n",
    "    background-color: orangered;\n",
    "    width: 200px;\n",
    "    font-size: 18px;\n",
    "  }\n",
    "</style>\n",
    "\n",
    "<div id=\"box-container\">\n",
    "  <div id=\"box-1\"><p>Hello</p></div>\n",
    "  <div id=\"box-2\"><p>Goodbye</p></div>\n",
    "</div>\n",
    "```"
   ]
  },
  {
   "cell_type": "code",
   "execution_count": 13,
   "metadata": {},
   "outputs": [
    {
     "data": {
      "text/html": [
       "\n",
       "        <iframe\n",
       "            width=\"100%\"\n",
       "            height=\"250\"\n",
       "            src=\"./source-solution/06-css-flexbox/008-align-elements-using-the-align-items-property.html\"\n",
       "            frameborder=\"0\"\n",
       "            allowfullscreen\n",
       "        ></iframe>\n",
       "        "
      ],
      "text/plain": [
       "<IPython.lib.display.IFrame at 0x7fa5082e8208>"
      ]
     },
     "execution_count": 13,
     "metadata": {},
     "output_type": "execute_result"
    }
   ],
   "source": [
    "IFrame('./source-solution/06-css-flexbox/008-align-elements-using-the-align-items-property.html', '100%', 250)"
   ]
  },
  {
   "cell_type": "markdown",
   "metadata": {},
   "source": [
    "### Use the align-items Property in the Tweet Embed"
   ]
  },
  {
   "cell_type": "markdown",
   "metadata": {},
   "source": [
    "The last challenge introduced the `align-items` property and gave an example. This property can be applied to a few tweet embed elements to align the flex items inside them.\n",
    "\n",
    "---\n",
    "Add the CSS property `align-items` to the header's `.follow-btn` element. Set the value to center."
   ]
  },
  {
   "cell_type": "markdown",
   "metadata": {},
   "source": [
    "```HTML\n",
    "<style>\n",
    "  body {\n",
    "    font-family: Arial, sans-serif;\n",
    "  }\n",
    "  header, footer {\n",
    "    display: flex;\n",
    "    flex-direction: row;\n",
    "  }\n",
    "  header .profile-thumbnail {\n",
    "    width: 50px;\n",
    "    height: 50px;\n",
    "    border-radius: 4px;\n",
    "  }\n",
    "  header .profile-name {\n",
    "    display: flex;\n",
    "    flex-direction: column;\n",
    "    justify-content: center;\n",
    "    margin-left: 10px;\n",
    "  }\n",
    "  header .follow-btn {\n",
    "    display: flex;\n",
    "    align-items: center;\n",
    "    margin: 0 0 0 auto;\n",
    "  }\n",
    "  header .follow-btn button {\n",
    "    border: 0;\n",
    "    border-radius: 3px;\n",
    "    padding: 5px;\n",
    "  }\n",
    "  header h3, header h4 {\n",
    "    display: flex;\n",
    "    margin: 0;\n",
    "  }\n",
    "  #inner p {\n",
    "    margin-bottom: 10px;\n",
    "    font-size: 20px;\n",
    "  }\n",
    "  #inner hr {\n",
    "    margin: 20px 0;\n",
    "    border-style: solid;\n",
    "    opacity: 0.1;\n",
    "  }\n",
    "  footer .stats {\n",
    "    display: flex;\n",
    "    font-size: 15px;\n",
    "  }\n",
    "  footer .stats strong {\n",
    "    font-size: 18px;\n",
    "  }\n",
    "  footer .stats .likes {\n",
    "    margin-left: 10px;\n",
    "  }\n",
    "  footer .cta {\n",
    "    margin-left: auto;\n",
    "  }\n",
    "  footer .cta button {\n",
    "    border: 0;\n",
    "    background: transparent;\n",
    "  }\n",
    "</style>\n",
    "<header>\n",
    "  <img src=\"https://freecodecamp.s3.amazonaws.com/quincy-twitter-photo.jpg\" alt=\"Quincy Larson's profile picture\" class=\"profile-thumbnail\">\n",
    "  <div class=\"profile-name\">\n",
    "    <h3>Quincy Larson</h3>\n",
    "    <h4>@ossia</h4>\n",
    "  </div>\n",
    "  <div class=\"follow-btn\">\n",
    "    <button>Follow</button>\n",
    "  </div>\n",
    "</header>\n",
    "<div id=\"inner\">\n",
    "  <p>I meet so many people who are in search of that one trick that will help them work smart. Even if you work smart, you still have to work hard.</p>\n",
    "  <span class=\"date\">1:32 PM - 12 Jan 2018</span>\n",
    "  <hr>\n",
    "</div>\n",
    "<footer>\n",
    "  <div class=\"stats\">\n",
    "    <div class=\"Retweets\">\n",
    "      <strong>107</strong> Retweets\n",
    "    </div>\n",
    "    <div class=\"likes\">\n",
    "      <strong>431</strong> Likes\n",
    "    </div>\n",
    "  </div>\n",
    "  <div class=\"cta\">\n",
    "    <button class=\"share-btn\">Share</button>\n",
    "    <button class=\"retweet-btn\">Retweet</button>\n",
    "    <button class=\"like-btn\">Like</button>\n",
    "  </div>\n",
    "</footer>\n",
    "```"
   ]
  },
  {
   "cell_type": "code",
   "execution_count": 14,
   "metadata": {},
   "outputs": [
    {
     "data": {
      "text/html": [
       "\n",
       "        <iframe\n",
       "            width=\"100%\"\n",
       "            height=\"250\"\n",
       "            src=\"./source-solution/06-css-flexbox/009-use-the-align-items-property-in-the-tweet-embed.html\"\n",
       "            frameborder=\"0\"\n",
       "            allowfullscreen\n",
       "        ></iframe>\n",
       "        "
      ],
      "text/plain": [
       "<IPython.lib.display.IFrame at 0x7fa5082222e8>"
      ]
     },
     "execution_count": 14,
     "metadata": {},
     "output_type": "execute_result"
    }
   ],
   "source": [
    "IFrame('./source-solution/06-css-flexbox/009-use-the-align-items-property-in-the-tweet-embed.html', '100%', 250)"
   ]
  },
  {
   "cell_type": "markdown",
   "metadata": {},
   "source": [
    "### Use the flex-wrap Property to Wrap a Row or Column"
   ]
  },
  {
   "cell_type": "markdown",
   "metadata": {},
   "source": [
    "CSS flexbox has a feature to split a flex item into multiple rows (or columns). By default, a flex container will fit all flex items together. For example, a row will all be on one line.\n",
    "\n",
    "However, using the `flex-wrap` property tells CSS to wrap items. This means extra items move into a new row or column. The break point of where the wrapping happens depends on the size of the items and the size of the container.\n",
    "\n",
    "CSS also has options for the direction of the wrap:\n",
    "\n",
    "* `nowrap`: this is the default setting, and does not wrap items.\n",
    "* `wrap`: wraps items from left-to-right if they are in a row, or top-to-bottom if they are in a column.\n",
    "* `wrap-reverse`: wraps items from right-to-left if they are in a row, or bottom-to-top if they are in a column.\n",
    "---\n",
    "The current layout has too many boxes for one row. Add the CSS property `flex-wrap` to the `#box-container` element, and give it a value of `wrap`."
   ]
  },
  {
   "cell_type": "markdown",
   "metadata": {},
   "source": [
    "```HTML\n",
    "<style>\n",
    "  #box-container {\n",
    "    background: gray;\n",
    "    display: flex;\n",
    "    height: 100%;\n",
    "    flex-wrap: wrap;\n",
    "  }\n",
    "  #box-1 {\n",
    "    background-color: dodgerblue;\n",
    "    width: 25%;\n",
    "    height: 50%;\n",
    "  }\n",
    "\n",
    "  #box-2 {\n",
    "    background-color: orangered;\n",
    "    width: 25%;\n",
    "    height: 50%;\n",
    "  }\n",
    "  #box-3 {\n",
    "    background-color: violet;\n",
    "    width: 25%;\n",
    "    height: 50%;\n",
    "  }\n",
    "  #box-4 {\n",
    "    background-color: yellow;\n",
    "    width: 25%;\n",
    "    height: 50%;\n",
    "  }\n",
    "  #box-5 {\n",
    "    background-color: green;\n",
    "    width: 25%;\n",
    "    height: 50%;\n",
    "  }\n",
    "  #box-6 {\n",
    "    background-color: black;\n",
    "    width: 25%;\n",
    "    height: 50%;\n",
    "  }\n",
    "</style>\n",
    "\n",
    "<div id=\"box-container\">\n",
    "  <div id=\"box-1\"></div>\n",
    "  <div id=\"box-2\"></div>\n",
    "  <div id=\"box-3\"></div>\n",
    "  <div id=\"box-4\"></div>\n",
    "  <div id=\"box-5\"></div>\n",
    "  <div id=\"box-6\"></div>\n",
    "</div>\n",
    "```"
   ]
  },
  {
   "cell_type": "code",
   "execution_count": 15,
   "metadata": {},
   "outputs": [
    {
     "data": {
      "text/html": [
       "\n",
       "        <iframe\n",
       "            width=\"100%\"\n",
       "            height=\"250\"\n",
       "            src=\"./source-solution/06-css-flexbox/010-use-the-flex-wrap-property-to-wrap-a-row-or-column.html\"\n",
       "            frameborder=\"0\"\n",
       "            allowfullscreen\n",
       "        ></iframe>\n",
       "        "
      ],
      "text/plain": [
       "<IPython.lib.display.IFrame at 0x7fa508270668>"
      ]
     },
     "execution_count": 15,
     "metadata": {},
     "output_type": "execute_result"
    }
   ],
   "source": [
    "IFrame('./source-solution/06-css-flexbox/010-use-the-flex-wrap-property-to-wrap-a-row-or-column.html', '100%', 250)"
   ]
  },
  {
   "cell_type": "markdown",
   "metadata": {},
   "source": [
    "### Use the flex-shrink Property to Shrink Items"
   ]
  },
  {
   "cell_type": "markdown",
   "metadata": {},
   "source": [
    "So far, all the properties in the challenges apply to the flex container (the parent of the flex items). However, there are several useful properties for the flex items.\n",
    "\n",
    "The first is the `flex-shrink` property. When it's used, it allows an item to shrink if the flex container is too small. Items shrink when the width of the parent container is smaller than the combined widths of all the flex items within it.\n",
    "\n",
    "The `flex-shrink` property takes numbers as values. The higher the number, the more it will shrink compared to the other items in the container. For example, if one item has a `flex-shrink` value of `1` and the other has a `flex-shrink` value of `3`, the one with the value of `3` will shrink three times as much as the other.\n",
    "\n",
    "---\n",
    "Add the CSS property `flex-shrink` to both `#box-1` and `#box-2`. Give `#box-1` a value of `1` and `#box-2` a value of `2`."
   ]
  },
  {
   "cell_type": "markdown",
   "metadata": {},
   "source": [
    "```HTML\n",
    "<style>\n",
    "  #box-container {\n",
    "    display: flex;\n",
    "    height: 500px;\n",
    "  }\n",
    "  #box-1 {\n",
    "    background-color: dodgerblue;\n",
    "    width: 100%;\n",
    "    height: 200px;\n",
    "    flex-shrink: 1;\n",
    "  }\n",
    "\n",
    "  #box-2 {\n",
    "    background-color: orangered;\n",
    "    width: 100%;\n",
    "    height: 200px;\n",
    "    flex-shrink: 2;\n",
    "  }\n",
    "</style>\n",
    "\n",
    "<div id=\"box-container\">\n",
    "  <div id=\"box-1\"></div>\n",
    "  <div id=\"box-2\"></div>\n",
    "</div>\n",
    "```"
   ]
  },
  {
   "cell_type": "code",
   "execution_count": 16,
   "metadata": {},
   "outputs": [
    {
     "data": {
      "text/html": [
       "\n",
       "        <iframe\n",
       "            width=\"100%\"\n",
       "            height=\"250\"\n",
       "            src=\"./source-solution/06-css-flexbox/011-use-the-flex-shrink-property-to-shrink-items.html\"\n",
       "            frameborder=\"0\"\n",
       "            allowfullscreen\n",
       "        ></iframe>\n",
       "        "
      ],
      "text/plain": [
       "<IPython.lib.display.IFrame at 0x7fa508222898>"
      ]
     },
     "execution_count": 16,
     "metadata": {},
     "output_type": "execute_result"
    }
   ],
   "source": [
    "IFrame('./source-solution/06-css-flexbox/011-use-the-flex-shrink-property-to-shrink-items.html', '100%', 250)"
   ]
  },
  {
   "cell_type": "markdown",
   "metadata": {},
   "source": [
    "### Use the flex-grow Property to Expand Items"
   ]
  },
  {
   "cell_type": "markdown",
   "metadata": {},
   "source": [
    "The opposite of `flex-shrink` is the `flex-grow` property. Recall that `flex-shrink` controls the size of the items when the container shrinks. The `flex-grow` property controls the size of items when the parent container expands.\n",
    "\n",
    "Using a similar example from the last challenge, if one item has a `flex-grow` value of `1` and the other has a `flex-grow` value of `3`, the one with the value of `3` will grow three times as much as the other.\n",
    "\n",
    "---\n",
    "Add the CSS property `flex-grow` to both `#box-1` and `#box-2`. Give `#box-1` a value of `1` and `#box-2` a value of `2`."
   ]
  },
  {
   "cell_type": "markdown",
   "metadata": {},
   "source": [
    "```HTML\n",
    "<style>\n",
    "  #box-container {\n",
    "    display: flex;\n",
    "    height: 500px;\n",
    "  }\n",
    "\n",
    "  #box-1 {\n",
    "    background-color: dodgerblue;\n",
    "    height: 200px;\n",
    "    flex-grow: 1;\n",
    "  }\n",
    "\n",
    "  #box-2 {\n",
    "    background-color: orangered;\n",
    "    height: 200px;\n",
    "    flex-grow: 2;\n",
    "  }\n",
    "</style>\n",
    "\n",
    "<div id=\"box-container\">\n",
    "  <div id=\"box-1\"></div>\n",
    "  <div id=\"box-2\"></div>\n",
    "</div>\n",
    "```"
   ]
  },
  {
   "cell_type": "code",
   "execution_count": 17,
   "metadata": {},
   "outputs": [
    {
     "data": {
      "text/html": [
       "\n",
       "        <iframe\n",
       "            width=\"100%\"\n",
       "            height=\"250\"\n",
       "            src=\"./source-solution/06-css-flexbox/012-use-the-flex-grow-property-to-expand-items.html\"\n",
       "            frameborder=\"0\"\n",
       "            allowfullscreen\n",
       "        ></iframe>\n",
       "        "
      ],
      "text/plain": [
       "<IPython.lib.display.IFrame at 0x7fa5082706d8>"
      ]
     },
     "execution_count": 17,
     "metadata": {},
     "output_type": "execute_result"
    }
   ],
   "source": [
    "IFrame('./source-solution/06-css-flexbox/012-use-the-flex-grow-property-to-expand-items.html', '100%', 250)"
   ]
  },
  {
   "cell_type": "markdown",
   "metadata": {},
   "source": [
    "### Use the flex-basis Property to Set the Initial Size of an Item"
   ]
  },
  {
   "cell_type": "markdown",
   "metadata": {},
   "source": [
    "The `flex-basis` property specifies the initial size of the item before CSS makes adjustments with `flex-shrink` or `flex-grow`.\n",
    "\n",
    "The units used by the `flex-basis` property are the same as other size properties (`px`, `em`, `%`, etc.). The value `auto` sizes items based on the content.\n",
    "\n",
    "---\n",
    "Set the initial size of the boxes using `flex-basis`. Add the CSS property `flex-basis` to both `#box-1` and `#box-2`. Give `#box-1` a value of `10em` and `#box-2` a value of `20em`."
   ]
  },
  {
   "cell_type": "markdown",
   "metadata": {},
   "source": [
    "```HTML\n",
    "<style>\n",
    "  #box-container {\n",
    "    display: flex;\n",
    "    height: 500px;\n",
    "  }\n",
    "\n",
    "  #box-1 {\n",
    "    background-color: dodgerblue;\n",
    "    height: 200px;\n",
    "    flex-basis: 10em;\n",
    "  }\n",
    "\n",
    "  #box-2 {\n",
    "    background-color: orangered;\n",
    "    height: 200px;\n",
    "    flex-basis: 20em;\n",
    "  }\n",
    "</style>\n",
    "\n",
    "<div id=\"box-container\">\n",
    "  <div id=\"box-1\"></div>\n",
    "  <div id=\"box-2\"></div>\n",
    "</div>\n",
    "```"
   ]
  },
  {
   "cell_type": "code",
   "execution_count": 18,
   "metadata": {},
   "outputs": [
    {
     "data": {
      "text/html": [
       "\n",
       "        <iframe\n",
       "            width=\"100%\"\n",
       "            height=\"250\"\n",
       "            src=\"./source-solution/06-css-flexbox/013-use-the-flex-basis-property-to-set-the-initial-size-of-an-item.html\"\n",
       "            frameborder=\"0\"\n",
       "            allowfullscreen\n",
       "        ></iframe>\n",
       "        "
      ],
      "text/plain": [
       "<IPython.lib.display.IFrame at 0x7fa508270470>"
      ]
     },
     "execution_count": 18,
     "metadata": {},
     "output_type": "execute_result"
    }
   ],
   "source": [
    "IFrame('./source-solution/06-css-flexbox/013-use-the-flex-basis-property-to-set-the-initial-size-of-an-item.html', '100%', 250)"
   ]
  },
  {
   "cell_type": "markdown",
   "metadata": {},
   "source": [
    "### Use the flex Shorthand Property"
   ]
  },
  {
   "cell_type": "markdown",
   "metadata": {},
   "source": [
    "There is a shortcut available to set several flex properties at once. The `flex-grow`, `flex-shrink`, and `flex-basis` properties can all be set together by using the `flex` property.\n",
    "\n",
    "For example, `flex: 1 0 10px;` will set the item to `flex-grow: 1;`, `flex-shrink: 0;`, and `flex-basis: 10px;`.\n",
    "\n",
    "The default property settings are `flex: 0 1 auto;`.\n",
    "\n",
    "---\n",
    "Add the CSS property `flex` to both `#box-1` and `#box-2`. Give `#box-1` the values so its `flex-grow` is `2`, its `flex-shrink` is `2`, and its `flex-basis` is `150px`. Give `#box-2` the values so its `flex-grow` is `1`, its `flex-shrink` is `1`, and its `flex-basis` is `150px`.\n",
    "\n",
    "These values will cause `#box-1` to grow to fill the extra space at twice the rate of `#box-2` when the container is greater than 300px and shrink at twice the rate of `#box-2` when the container is less than 300px. 300px is the combined size of the `flex-basis` values of the two boxes."
   ]
  },
  {
   "cell_type": "markdown",
   "metadata": {},
   "source": [
    "```HTML\n",
    "<style>\n",
    "  #box-container {\n",
    "    display: flex;\n",
    "    height: 500px;\n",
    "  }\n",
    "  #box-1 {\n",
    "    background-color: dodgerblue;\n",
    "    flex: 2 2 150px;\n",
    "    height: 200px;\n",
    "  }\n",
    "\n",
    "  #box-2 {\n",
    "    background-color: orangered;\n",
    "    flex: 1 1 150px;\n",
    "    height: 200px;\n",
    "  }\n",
    "</style>\n",
    "\n",
    "<div id=\"box-container\">\n",
    "  <div id=\"box-1\"></div>\n",
    "  <div id=\"box-2\"></div>\n",
    "</div>\n",
    "```"
   ]
  },
  {
   "cell_type": "code",
   "execution_count": 19,
   "metadata": {},
   "outputs": [
    {
     "data": {
      "text/html": [
       "\n",
       "        <iframe\n",
       "            width=\"100%\"\n",
       "            height=\"250\"\n",
       "            src=\"./source-solution/06-css-flexbox/014-use-the-flex-shorthand-property.html\"\n",
       "            frameborder=\"0\"\n",
       "            allowfullscreen\n",
       "        ></iframe>\n",
       "        "
      ],
      "text/plain": [
       "<IPython.lib.display.IFrame at 0x7fa508279b70>"
      ]
     },
     "execution_count": 19,
     "metadata": {},
     "output_type": "execute_result"
    }
   ],
   "source": [
    "IFrame('./source-solution/06-css-flexbox/014-use-the-flex-shorthand-property.html', '100%', 250)"
   ]
  },
  {
   "cell_type": "markdown",
   "metadata": {},
   "source": [
    "### Use the order Property to Rearrange Items"
   ]
  },
  {
   "cell_type": "markdown",
   "metadata": {},
   "source": [
    "The `order` property is used to tell CSS the order of how flex items appear in the flex container. By default, items will appear in the same order they come in the source HTML. The property takes numbers as values, and negative numbers can be used.\n",
    "\n",
    "---\n",
    "Add the CSS property `order` to both `#box-1` and `#box-2`. Give `#box-1` a value of `2` and give `#box-2` a value of `1`."
   ]
  },
  {
   "cell_type": "markdown",
   "metadata": {},
   "source": [
    "```HTML\n",
    "<style>\n",
    "  #box-container {\n",
    "    display: flex;\n",
    "    height: 500px;\n",
    "  }\n",
    "  #box-1 {\n",
    "    background-color: dodgerblue;\n",
    "    order: 2;\n",
    "    height: 200px;\n",
    "    width: 200px;\n",
    "  }\n",
    "\n",
    "  #box-2 {\n",
    "    background-color: orangered;\n",
    "    order: 1;\n",
    "    height: 200px;\n",
    "    width: 200px;\n",
    "  }\n",
    "</style>\n",
    "\n",
    "<div id=\"box-container\">\n",
    "  <div id=\"box-1\"></div>\n",
    "  <div id=\"box-2\"></div>\n",
    "</div>\n",
    "```"
   ]
  },
  {
   "cell_type": "code",
   "execution_count": 20,
   "metadata": {},
   "outputs": [
    {
     "data": {
      "text/html": [
       "\n",
       "        <iframe\n",
       "            width=\"100%\"\n",
       "            height=\"250\"\n",
       "            src=\"./source-solution/06-css-flexbox/015-use-the-order-property-to-rearrange-items.html\"\n",
       "            frameborder=\"0\"\n",
       "            allowfullscreen\n",
       "        ></iframe>\n",
       "        "
      ],
      "text/plain": [
       "<IPython.lib.display.IFrame at 0x7fa508270b38>"
      ]
     },
     "execution_count": 20,
     "metadata": {},
     "output_type": "execute_result"
    }
   ],
   "source": [
    "IFrame('./source-solution/06-css-flexbox/015-use-the-order-property-to-rearrange-items.html', '100%', 250)"
   ]
  },
  {
   "cell_type": "markdown",
   "metadata": {},
   "source": [
    "### Use the align-self Property"
   ]
  },
  {
   "cell_type": "markdown",
   "metadata": {},
   "source": [
    "The final property for flex items is `align-self`. This property allows you to adjust each item's alignment individually, instead of setting them all at once. This is useful since other common adjustment techniques using the CSS properties float, clear, and `vertical-align` do not work on flex items.\n",
    "\n",
    "`align-self` accepts the same values as `align-items` and will override any value set by the `align-items` property.\n",
    "\n",
    "---\n",
    "Add the CSS property `align-self` to both `#box-1` and `#box-2`. Give `#box-1` a value of `center` and give `#box-2` a value of `flex-end`."
   ]
  },
  {
   "cell_type": "markdown",
   "metadata": {},
   "source": [
    "```HTML\n",
    "<style>\n",
    "  #box-container {\n",
    "    display: flex;\n",
    "    height: 500px;    \n",
    "  }\n",
    "  #box-1 {\n",
    "    background-color: dodgerblue;\n",
    "    align-self: center;\n",
    "    height: 200px;\n",
    "    width: 200px;\n",
    "  }\n",
    "\n",
    "  #box-2 {\n",
    "    background-color: orangered;\n",
    "    align-self: flex-end;\n",
    "    height: 200px;\n",
    "    width: 200px;\n",
    "  }\n",
    "</style>\n",
    "\n",
    "<div id=\"box-container\">\n",
    "  <div id=\"box-1\"></div>\n",
    "  <div id=\"box-2\"></div>\n",
    "</div>\n",
    "```"
   ]
  },
  {
   "cell_type": "code",
   "execution_count": 22,
   "metadata": {},
   "outputs": [
    {
     "data": {
      "text/html": [
       "\n",
       "        <iframe\n",
       "            width=\"100%\"\n",
       "            height=\"250\"\n",
       "            src=\"./source-solution/06-css-flexbox/016-use-the-align-self-property.html\"\n",
       "            frameborder=\"0\"\n",
       "            allowfullscreen\n",
       "        ></iframe>\n",
       "        "
      ],
      "text/plain": [
       "<IPython.lib.display.IFrame at 0x7fa508279860>"
      ]
     },
     "execution_count": 22,
     "metadata": {},
     "output_type": "execute_result"
    }
   ],
   "source": [
    "IFrame('./source-solution/06-css-flexbox/016-use-the-align-self-property.html', '100%', 250)"
   ]
  },
  {
   "cell_type": "code",
   "execution_count": null,
   "metadata": {},
   "outputs": [],
   "source": []
  }
 ],
 "metadata": {
  "kernelspec": {
   "display_name": "Python 3",
   "language": "python",
   "name": "python3"
  },
  "language_info": {
   "codemirror_mode": {
    "name": "ipython",
    "version": 3
   },
   "file_extension": ".py",
   "mimetype": "text/x-python",
   "name": "python",
   "nbconvert_exporter": "python",
   "pygments_lexer": "ipython3",
   "version": "3.7.1"
  },
  "toc": {
   "base_numbering": 1,
   "nav_menu": {},
   "number_sections": true,
   "sideBar": true,
   "skip_h1_title": false,
   "title_cell": "Table of Contents",
   "title_sidebar": "Contents",
   "toc_cell": false,
   "toc_position": {
    "height": "752px",
    "left": "28px",
    "top": "54px",
    "width": "235.594px"
   },
   "toc_section_display": true,
   "toc_window_display": false
  }
 },
 "nbformat": 4,
 "nbformat_minor": 2
}
