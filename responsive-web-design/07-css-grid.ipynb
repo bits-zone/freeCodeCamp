{
 "cells": [
  {
   "cell_type": "code",
   "execution_count": 2,
   "metadata": {},
   "outputs": [],
   "source": [
    "from IPython.display import IFrame"
   ]
  },
  {
   "cell_type": "markdown",
   "metadata": {},
   "source": [
    "# Responsive Web Design Certification"
   ]
  },
  {
   "cell_type": "markdown",
   "metadata": {},
   "source": [
    "## CSS Grid"
   ]
  },
  {
   "cell_type": "markdown",
   "metadata": {},
   "source": [
    "### Introduction to the CSS Grid Challenges"
   ]
  },
  {
   "cell_type": "markdown",
   "metadata": {},
   "source": [
    "CSS Grid helps you easily build complex web designs. It works by turning an HTML element into a grid container with rows and columns for you to place children elements where you want within the grid."
   ]
  },
  {
   "cell_type": "markdown",
   "metadata": {},
   "source": [
    "### Create Your First CSS Grid"
   ]
  },
  {
   "cell_type": "markdown",
   "metadata": {},
   "source": [
    "Turn any HTML element into a grid container by setting its `display` property to `grid`. This gives you the ability to use all the other properties associated with CSS Grid.\n",
    "\n",
    "Note: In CSS Grid, the parent element is referred to as the container and its children are called items.\n",
    "\n",
    "---\n",
    "Change the display of the div with the `container` class to `grid`."
   ]
  },
  {
   "cell_type": "markdown",
   "metadata": {},
   "source": [
    "```HTML\n",
    "<style>\n",
    "  .d1{background:LightSkyBlue;}\n",
    "  .d2{background:LightSalmon;}\n",
    "  .d3{background:PaleTurquoise;}\n",
    "  .d4{background:LightPink;}\n",
    "  .d5{background:PaleGreen;}\n",
    "\n",
    "  .container {\n",
    "    font-size: 40px;\n",
    "    width: 100%;\n",
    "    background: LightGray;\n",
    "    /* add your code below this line */\n",
    "    display: grid;\n",
    "    /* add your code above this line */\n",
    "  }\n",
    "</style>\n",
    "\n",
    "<div class=\"container\">\n",
    "  <div class=\"d1\">1</div>\n",
    "  <div class=\"d2\">2</div>\n",
    "  <div class=\"d3\">3</div>\n",
    "  <div class=\"d4\">4</div>\n",
    "  <div class=\"d5\">5</div>\n",
    "</div>\n",
    "\n",
    "```"
   ]
  },
  {
   "cell_type": "code",
   "execution_count": 4,
   "metadata": {},
   "outputs": [
    {
     "data": {
      "text/html": [
       "\n",
       "        <iframe\n",
       "            width=\"100%\"\n",
       "            height=\"250\"\n",
       "            src=\"./source-solution/07-css-grid/000-create-your-first-css-grid.html\"\n",
       "            frameborder=\"0\"\n",
       "            allowfullscreen\n",
       "        ></iframe>\n",
       "        "
      ],
      "text/plain": [
       "<IPython.lib.display.IFrame at 0x7f2a4422aa58>"
      ]
     },
     "execution_count": 4,
     "metadata": {},
     "output_type": "execute_result"
    }
   ],
   "source": [
    "IFrame('./source-solution/07-css-grid/000-create-your-first-css-grid.html', '100%', 250)"
   ]
  },
  {
   "cell_type": "markdown",
   "metadata": {},
   "source": [
    "### Add Columns with grid-template-columns"
   ]
  },
  {
   "cell_type": "markdown",
   "metadata": {},
   "source": [
    "Simply creating a grid element doesn't get you very far. You need to define the structure of the grid as well. To add some columns to the grid, use the `grid-template-columns` property on a grid container as demonstrated below:\n",
    "\n",
    "```CSS\n",
    "\n",
    ".container {\n",
    "  display: grid;\n",
    "  grid-template-columns: 50px 50px;\n",
    "}\n",
    "```\n",
    "\n",
    "This will give your grid two columns that are each 50px wide. The number of parameters given to the `grid-template-columns` property indicates the number of columns in the grid, and the value of each parameter indicates the width of each column.\n",
    "\n",
    "---\n",
    "Give the grid container three columns that are each `100px` wide."
   ]
  },
  {
   "cell_type": "markdown",
   "metadata": {},
   "source": [
    "```HTML\n",
    "<style>\n",
    "  .d1{background:LightSkyBlue;}\n",
    "  .d2{background:LightSalmon;}\n",
    "  .d3{background:PaleTurquoise;}\n",
    "  .d4{background:LightPink;}\n",
    "  .d5{background:PaleGreen;}\n",
    "\n",
    "  .container {\n",
    "    font-size: 40px;\n",
    "    width: 100%;\n",
    "    background: LightGray;\n",
    "    display: grid;\n",
    "    /* add your code below this line */\n",
    "    grid-template-columns: 100px 100px 100px;\n",
    "    /* add your code above this line */\n",
    "  }\n",
    "</style>\n",
    "\n",
    "<div class=\"container\">\n",
    "  <div class=\"d1\">1</div>\n",
    "  <div class=\"d2\">2</div>\n",
    "  <div class=\"d3\">3</div>\n",
    "  <div class=\"d4\">4</div>\n",
    "  <div class=\"d5\">5</div>\n",
    "</div>\n",
    "\n",
    "```"
   ]
  },
  {
   "cell_type": "code",
   "execution_count": 5,
   "metadata": {},
   "outputs": [
    {
     "data": {
      "text/html": [
       "\n",
       "        <iframe\n",
       "            width=\"100%\"\n",
       "            height=\"250\"\n",
       "            src=\"./source-solution/07-css-grid/001-add-columns-with-grid-template-columns.html\"\n",
       "            frameborder=\"0\"\n",
       "            allowfullscreen\n",
       "        ></iframe>\n",
       "        "
      ],
      "text/plain": [
       "<IPython.lib.display.IFrame at 0x7f2a441ab2b0>"
      ]
     },
     "execution_count": 5,
     "metadata": {},
     "output_type": "execute_result"
    }
   ],
   "source": [
    "IFrame('./source-solution/07-css-grid/001-add-columns-with-grid-template-columns.html', '100%', 250)"
   ]
  },
  {
   "cell_type": "markdown",
   "metadata": {},
   "source": [
    "### Add Rows with grid-template-rows"
   ]
  },
  {
   "cell_type": "markdown",
   "metadata": {},
   "source": [
    "The grid you created in the last challenge will set the number of rows automatically. To adjust the rows manually, use the `grid-template-rows` property in the same way you used `grid-template-columns` in previous challenge.\n",
    "\n",
    "---\n",
    "Add two rows to the grid that are `50px` tall each."
   ]
  },
  {
   "cell_type": "markdown",
   "metadata": {},
   "source": [
    "```HTML\n",
    "<style>\n",
    "  .d1{background:LightSkyBlue;}\n",
    "  .d2{background:LightSalmon;}\n",
    "  .d3{background:PaleTurquoise;}\n",
    "  .d4{background:LightPink;}\n",
    "  .d5{background:PaleGreen;}\n",
    "\n",
    "  .container {\n",
    "    font-size: 40px;\n",
    "    width: 100%;\n",
    "    background: LightGray;\n",
    "    display: grid;\n",
    "    grid-template-columns: 100px 100px 100px;\n",
    "    /* add your code below this line */\n",
    "    grid-template-rows: 50px 50px;\n",
    "    /* add your code above this line */\n",
    "  }\n",
    "</style>\n",
    "\n",
    "<div class=\"container\">\n",
    "  <div class=\"d1\">1</div>\n",
    "  <div class=\"d2\">2</div>\n",
    "  <div class=\"d3\">3</div>\n",
    "  <div class=\"d4\">4</div>\n",
    "  <div class=\"d5\">5</div>\n",
    "</div>\n",
    "\n",
    "```"
   ]
  },
  {
   "cell_type": "code",
   "execution_count": 6,
   "metadata": {},
   "outputs": [
    {
     "data": {
      "text/html": [
       "\n",
       "        <iframe\n",
       "            width=\"100%\"\n",
       "            height=\"250\"\n",
       "            src=\"./source-solution/07-css-grid/002-add-rows-with-grid-template-rows.html\"\n",
       "            frameborder=\"0\"\n",
       "            allowfullscreen\n",
       "        ></iframe>\n",
       "        "
      ],
      "text/plain": [
       "<IPython.lib.display.IFrame at 0x7f2a441b45c0>"
      ]
     },
     "execution_count": 6,
     "metadata": {},
     "output_type": "execute_result"
    }
   ],
   "source": [
    "IFrame('./source-solution/07-css-grid/002-add-rows-with-grid-template-rows.html', '100%', 250)"
   ]
  },
  {
   "cell_type": "markdown",
   "metadata": {},
   "source": [
    "### Use CSS Grid units to Change the Size of Columns and Rows"
   ]
  },
  {
   "cell_type": "markdown",
   "metadata": {},
   "source": [
    "You can use absolute and relative units like `px` and `em` in CSS Grid to define the size of rows and columns. You can use these as well:\n",
    "\n",
    "`fr`: sets the column or row to a fraction of the available space,\n",
    "\n",
    "`auto`: sets the column or row to the width or height of its content automatically,\n",
    "\n",
    "`%`: adjusts the column or row to the percent width of its container.\n",
    "\n",
    "Here's the code that generates the output in the preview:\n",
    "\n",
    "```CSS\n",
    "grid-template-columns: auto 50px 10% 2fr 1fr;\n",
    "```\n",
    "\n",
    "This snippet creates five columns. The first column is as wide as its content, the second column is 50px, the third column is 10% of its container, and for the last two columns; the remaining space is divided into three sections, two are allocated for the fourth column, and one for the fifth.\n",
    "\n",
    "---\n",
    "Make a grid with three columns whose widths are as follows: 1fr, 100px, and 2fr.\n",
    "\n"
   ]
  },
  {
   "cell_type": "markdown",
   "metadata": {},
   "source": [
    "```HTML\n",
    "<style>\n",
    "  .d1{background:LightSkyBlue;}\n",
    "  .d2{background:LightSalmon;}\n",
    "  .d3{background:PaleTurquoise;}\n",
    "  .d4{background:LightPink;}\n",
    "  .d5{background:PaleGreen;}\n",
    "\n",
    "  .container {\n",
    "    font-size: 40px;\n",
    "    width: 100%;\n",
    "    background: LightGray;\n",
    "    display: grid;\n",
    "    /* modify the code below this line */\n",
    "\n",
    "    grid-template-columns: 1fr 100px 2fr;\n",
    "\n",
    "    /* modify the code above this line */\n",
    "    grid-template-rows: 50px 50px;\n",
    "  }\n",
    "</style>\n",
    "\n",
    "<div class=\"container\">\n",
    "  <div class=\"d1\">1</div>\n",
    "  <div class=\"d2\">2</div>\n",
    "  <div class=\"d3\">3</div>\n",
    "  <div class=\"d4\">4</div>\n",
    "  <div class=\"d5\">5</div>\n",
    "</div>\n",
    "\n",
    "```"
   ]
  },
  {
   "cell_type": "code",
   "execution_count": 7,
   "metadata": {},
   "outputs": [
    {
     "data": {
      "text/html": [
       "\n",
       "        <iframe\n",
       "            width=\"100%\"\n",
       "            height=\"250\"\n",
       "            src=\"./source-solution/07-css-grid/003-use-css-grid-units-to-change-the-size-of-columns-and-rows.html\"\n",
       "            frameborder=\"0\"\n",
       "            allowfullscreen\n",
       "        ></iframe>\n",
       "        "
      ],
      "text/plain": [
       "<IPython.lib.display.IFrame at 0x7f2a441ab2e8>"
      ]
     },
     "execution_count": 7,
     "metadata": {},
     "output_type": "execute_result"
    }
   ],
   "source": [
    "IFrame('./source-solution/07-css-grid/003-use-css-grid-units-to-change-the-size-of-columns-and-rows.html', '100%', 250)"
   ]
  },
  {
   "cell_type": "markdown",
   "metadata": {},
   "source": [
    "### Create a Column Gap Using grid-column-gap"
   ]
  },
  {
   "cell_type": "markdown",
   "metadata": {},
   "source": [
    "So far in the grids you have created, the columns have all been tight up against each other. Sometimes you want a gap in between the columns. To add a gap between the columns, use the `grid-column-gap` property like this:\n",
    "\n",
    "```CSS\n",
    "grid-column-gap: 10px;\n",
    "```\n",
    "\n",
    "This creates 10px of empty space between all of our columns.\n",
    "\n",
    "---\n",
    "Give the columns in the grid a `20px` gap."
   ]
  },
  {
   "cell_type": "markdown",
   "metadata": {},
   "source": [
    "```HTML\n",
    "<style>\n",
    "  .d1{background:LightSkyBlue;}\n",
    "  .d2{background:LightSalmon;}\n",
    "  .d3{background:PaleTurquoise;}\n",
    "  .d4{background:LightPink;}\n",
    "  .d5{background:PaleGreen;}\n",
    "\n",
    "  .container {\n",
    "    font-size: 40px;\n",
    "    min-height: 300px;\n",
    "    width: 100%;\n",
    "    background: LightGray;\n",
    "    display: grid;\n",
    "    grid-template-columns: 1fr 1fr 1fr;\n",
    "    grid-template-rows: 1fr 1fr 1fr;\n",
    "    /* add your code below this line */\n",
    "    grid-column-gap: 20px;\n",
    "    /* add your code above this line */\n",
    "  }\n",
    "</style>\n",
    "\n",
    "<div class=\"container\">\n",
    "  <div class=\"d1\">1</div>\n",
    "  <div class=\"d2\">2</div>\n",
    "  <div class=\"d3\">3</div>\n",
    "  <div class=\"d4\">4</div>\n",
    "  <div class=\"d5\">5</div>\n",
    "</div>\n",
    "\n",
    "```"
   ]
  },
  {
   "cell_type": "code",
   "execution_count": 8,
   "metadata": {},
   "outputs": [
    {
     "data": {
      "text/html": [
       "\n",
       "        <iframe\n",
       "            width=\"100%\"\n",
       "            height=\"250\"\n",
       "            src=\"./source-solution/07-css-grid/004-create-a-column-gap-using-grid-column-gap.html\"\n",
       "            frameborder=\"0\"\n",
       "            allowfullscreen\n",
       "        ></iframe>\n",
       "        "
      ],
      "text/plain": [
       "<IPython.lib.display.IFrame at 0x7f2a441aba58>"
      ]
     },
     "execution_count": 8,
     "metadata": {},
     "output_type": "execute_result"
    }
   ],
   "source": [
    "IFrame('./source-solution/07-css-grid/004-create-a-column-gap-using-grid-column-gap.html', '100%', 250)"
   ]
  },
  {
   "cell_type": "markdown",
   "metadata": {},
   "source": [
    "### Create a Row Gap using grid-row-gap"
   ]
  },
  {
   "cell_type": "markdown",
   "metadata": {},
   "source": [
    "You can add a gap in between the rows of a grid using `grid-row-gap` in the same way that you added a gap in between columns in the previous challenge.\n",
    "\n",
    "---\n",
    "Create a gap for the rows that is `5px` tall."
   ]
  },
  {
   "cell_type": "markdown",
   "metadata": {},
   "source": [
    "```HTML\n",
    "<style>\n",
    "  .d1{background:LightSkyBlue;}\n",
    "  .d2{background:LightSalmon;}\n",
    "  .d3{background:PaleTurquoise;}\n",
    "  .d4{background:LightPink;}\n",
    "  .d5{background:PaleGreen;}\n",
    "\n",
    "  .container {\n",
    "    font-size: 40px;\n",
    "    min-height: 300px;\n",
    "    width: 100%;\n",
    "    background: LightGray;\n",
    "    display: grid;\n",
    "    grid-template-columns: 1fr 1fr 1fr;\n",
    "    grid-template-rows: 1fr 1fr 1fr;\n",
    "    /* add your code below this line */\n",
    "    grid-row-gap: 5px;\n",
    "    /* add your code above this line */\n",
    "  }\n",
    "</style>\n",
    "\n",
    "<div class=\"container\">\n",
    "  <div class=\"d1\">1</div>\n",
    "  <div class=\"d2\">2</div>\n",
    "  <div class=\"d3\">3</div>\n",
    "  <div class=\"d4\">4</div>\n",
    "  <div class=\"d5\">5</div>\n",
    "</div>\n",
    "\n",
    "```"
   ]
  },
  {
   "cell_type": "code",
   "execution_count": 9,
   "metadata": {},
   "outputs": [
    {
     "data": {
      "text/html": [
       "\n",
       "        <iframe\n",
       "            width=\"100%\"\n",
       "            height=\"250\"\n",
       "            src=\"./source-solution/07-css-grid/005-create-a-row-gap-using-grid-row-gap.html\"\n",
       "            frameborder=\"0\"\n",
       "            allowfullscreen\n",
       "        ></iframe>\n",
       "        "
      ],
      "text/plain": [
       "<IPython.lib.display.IFrame at 0x7f2a441bb978>"
      ]
     },
     "execution_count": 9,
     "metadata": {},
     "output_type": "execute_result"
    }
   ],
   "source": [
    "IFrame('./source-solution/07-css-grid/005-create-a-row-gap-using-grid-row-gap.html', '100%', 250)"
   ]
  },
  {
   "cell_type": "markdown",
   "metadata": {},
   "source": [
    "### Add Gaps Faster with grid-gap"
   ]
  },
  {
   "cell_type": "markdown",
   "metadata": {},
   "source": [
    "`grid-gap` is a shorthand property for `grid-row-gap` and `grid-column-gap` from the previous two challenges that's more convenient to use. If `grid-gap` has one value, it will create a gap between all rows and columns. However, if there are two values, it will use the first one to set the gap between the rows and the second value for the columns.\n",
    "\n",
    "---\n",
    "Use `grid-gap` to introduce a `10px` gap between the rows and `20px` gap between the columns."
   ]
  },
  {
   "cell_type": "markdown",
   "metadata": {},
   "source": [
    "```HTML\n",
    "<style>\n",
    "  .d1{background:LightSkyBlue;}\n",
    "  .d2{background:LightSalmon;}\n",
    "  .d3{background:PaleTurquoise;}\n",
    "  .d4{background:LightPink;}\n",
    "  .d5{background:PaleGreen;}\n",
    "\n",
    "  .container {\n",
    "    font-size: 40px;\n",
    "    min-height: 300px;\n",
    "    width: 100%;\n",
    "    background: LightGray;\n",
    "    display: grid;\n",
    "    grid-template-columns: 1fr 1fr 1fr;\n",
    "    grid-template-rows: 1fr 1fr 1fr;\n",
    "    /* add your code below this line */\n",
    "    grid-gap: 10px 20px;\n",
    "    /* add your code above this line */\n",
    "  }\n",
    "</style>\n",
    "<div class=\"container\">\n",
    "  <div class=\"d1\">1</div>\n",
    "  <div class=\"d2\">2</div>\n",
    "  <div class=\"d3\">3</div>\n",
    "  <div class=\"d4\">4</div>\n",
    "  <div class=\"d5\">5</div>\n",
    "</div>\n",
    "\n",
    "```"
   ]
  },
  {
   "cell_type": "code",
   "execution_count": 10,
   "metadata": {},
   "outputs": [
    {
     "data": {
      "text/html": [
       "\n",
       "        <iframe\n",
       "            width=\"100%\"\n",
       "            height=\"250\"\n",
       "            src=\"./source-solution/07-css-grid/006-add-gaps-faster-with-grid-gap.html\"\n",
       "            frameborder=\"0\"\n",
       "            allowfullscreen\n",
       "        ></iframe>\n",
       "        "
      ],
      "text/plain": [
       "<IPython.lib.display.IFrame at 0x7f2a441b4b38>"
      ]
     },
     "execution_count": 10,
     "metadata": {},
     "output_type": "execute_result"
    }
   ],
   "source": [
    "IFrame('./source-solution/07-css-grid/006-add-gaps-faster-with-grid-gap.html', '100%', 250)"
   ]
  },
  {
   "cell_type": "markdown",
   "metadata": {},
   "source": [
    "### Use grid-column to Control Spacing"
   ]
  },
  {
   "cell_type": "markdown",
   "metadata": {},
   "source": [
    "Up to this point, all the properties that have been discussed are for grid containers. The `grid-column` property is the first one for use on the grid items themselves.\n",
    "\n",
    "The hypothetical horizontal and vertical lines that create the grid are referred to as lines. These lines are numbered starting with 1 at the top left corner of the grid and move right for columns and down for rows, counting upward.\n",
    "\n",
    "This is what the lines look like for a 3x3 grid:\n",
    "\n",
    "![css-grid](../contents/images/css-grid.png)\n",
    "\n",
    "To control the amount of columns an item will consume, you can use the `grid-column` property in conjunction with the line numbers you want the item to start and stop at.\n",
    "\n",
    "Here's an example:\n",
    "\n",
    "```CSS\n",
    "grid-column: 1 / 3;\n",
    "```\n",
    "\n",
    "This will make the item start at the first vertical line of the grid on the left and span to the 3rd line of the grid, consuming two columns.\n",
    "\n",
    "---\n",
    "Make the item with the class `item5` consume the last two columns of the grid."
   ]
  },
  {
   "cell_type": "markdown",
   "metadata": {},
   "source": [
    "```HTML\n",
    "<style>\n",
    "  .item1{background:LightSkyBlue;}\n",
    "  .item2{background:LightSalmon;}\n",
    "  .item3{background:PaleTurquoise;}\n",
    "  .item4{background:LightPink;}\n",
    "\n",
    "  .item5 {\n",
    "    background: PaleGreen;\n",
    "    /* add your code below this line */\n",
    "    grid-column: 2/4;\n",
    "    /* add your code above this line */\n",
    "  }\n",
    "\n",
    "  .container {\n",
    "    font-size: 40px;\n",
    "    min-height: 300px;\n",
    "    width: 100%;\n",
    "    background: LightGray;\n",
    "    display: grid;\n",
    "    grid-template-columns: 1fr 1fr 1fr;\n",
    "    grid-template-rows: 1fr 1fr 1fr;\n",
    "    grid-gap: 10px;\n",
    "  }\n",
    "</style>\n",
    "\n",
    "<div class=\"container\">\n",
    "  <div class=\"item1\">1</div>\n",
    "  <div class=\"item2\">2</div>\n",
    "  <div class=\"item3\">3</div>\n",
    "  <div class=\"item4\">4</div>\n",
    "  <div class=\"item5\">5</div>\n",
    "</div>\n",
    "\n",
    "```"
   ]
  },
  {
   "cell_type": "code",
   "execution_count": 11,
   "metadata": {},
   "outputs": [
    {
     "data": {
      "text/html": [
       "\n",
       "        <iframe\n",
       "            width=\"100%\"\n",
       "            height=\"250\"\n",
       "            src=\"./source-solution/07-css-grid/007-use-grid-column-to-control-spacing.html\"\n",
       "            frameborder=\"0\"\n",
       "            allowfullscreen\n",
       "        ></iframe>\n",
       "        "
      ],
      "text/plain": [
       "<IPython.lib.display.IFrame at 0x7f2a441bbe80>"
      ]
     },
     "execution_count": 11,
     "metadata": {},
     "output_type": "execute_result"
    }
   ],
   "source": [
    "IFrame('./source-solution/07-css-grid/007-use-grid-column-to-control-spacing.html', '100%', 250)"
   ]
  },
  {
   "cell_type": "markdown",
   "metadata": {},
   "source": [
    "### Use grid-row to Control Spacing"
   ]
  },
  {
   "cell_type": "markdown",
   "metadata": {},
   "source": [
    "Of course, you can make items consume multiple rows just like you can with columns. You define the horizontal lines you want an item to start and stop at using the `grid-row` property on a grid item.\n",
    "\n",
    "---\n",
    "Make the element with the `item5` class consume the last two rows."
   ]
  },
  {
   "cell_type": "markdown",
   "metadata": {},
   "source": [
    "```HTML\n",
    "<style>\n",
    "  .item1{background:LightSkyBlue;}\n",
    "  .item2{background:LightSalmon;}\n",
    "  .item3{background:PaleTurquoise;}\n",
    "  .item4{background:LightPink;}\n",
    "\n",
    "  .item5 {\n",
    "    background: PaleGreen;\n",
    "    grid-column: 2 / 4;\n",
    "    /* add your code below this line */\n",
    "    grid-row: 2 / 4;\n",
    "    /* add your code above this line */\n",
    "  }\n",
    "\n",
    "  .container {\n",
    "    font-size: 40px;\n",
    "    min-height: 300px;\n",
    "    width: 100%;\n",
    "    background: LightGray;\n",
    "    display: grid;\n",
    "    grid-template-columns: 1fr 1fr 1fr;\n",
    "    grid-template-rows: 1fr 1fr 1fr;\n",
    "    grid-gap: 10px;\n",
    "  }\n",
    "</style>\n",
    "\n",
    "<div class=\"container\">\n",
    "  <div class=\"item1\">1</div>\n",
    "  <div class=\"item2\">2</div>\n",
    "  <div class=\"item3\">3</div>\n",
    "  <div class=\"item4\">4</div>\n",
    "  <div class=\"item5\">5</div>\n",
    "</div>\n",
    "\n",
    "```"
   ]
  },
  {
   "cell_type": "code",
   "execution_count": 12,
   "metadata": {},
   "outputs": [
    {
     "data": {
      "text/html": [
       "\n",
       "        <iframe\n",
       "            width=\"100%\"\n",
       "            height=\"250\"\n",
       "            src=\"./source-solution/07-css-grid/008-use-grid-row-to-control-spacing.html\"\n",
       "            frameborder=\"0\"\n",
       "            allowfullscreen\n",
       "        ></iframe>\n",
       "        "
      ],
      "text/plain": [
       "<IPython.lib.display.IFrame at 0x7f2a441b4550>"
      ]
     },
     "execution_count": 12,
     "metadata": {},
     "output_type": "execute_result"
    }
   ],
   "source": [
    "IFrame('./source-solution/07-css-grid/008-use-grid-row-to-control-spacing.html', '100%', 250)"
   ]
  },
  {
   "cell_type": "markdown",
   "metadata": {},
   "source": [
    "### Align an Item Horizontally using justify-self"
   ]
  },
  {
   "cell_type": "markdown",
   "metadata": {},
   "source": [
    "In CSS Grid, the content of each item is located in a box which is referred to as a cell. You can align the content's position within its cell horizontally using the `justify-self` property on a grid item. By default, this property has a value of `stretch`, which will make the content fill the whole width of the cell. This CSS Grid property accepts other values as well:\n",
    "\n",
    "`start`: aligns the content at the left of the cell,\n",
    "\n",
    "`center`: aligns the content in the center of the cell,\n",
    "\n",
    "`end`: aligns the content at the right of the cell.\n",
    "\n",
    "---\n",
    "Use the `justify-self` property to center the item with the class `item2`."
   ]
  },
  {
   "cell_type": "markdown",
   "metadata": {},
   "source": [
    "```HTML\n",
    "<style>\n",
    "  .item1{background: LightSkyBlue;}\n",
    "\n",
    "  .item2 {\n",
    "    background: LightSalmon;\n",
    "    /* add your code below this line */\n",
    "    justify-self: center;\n",
    "    /* add your code above this line */\n",
    "  }\n",
    "\n",
    "  .item3{background:PaleTurquoise;}\n",
    "  .item4{background:LightPink;}\n",
    "  .item5{background:PaleGreen;}\n",
    "\n",
    "  .container {\n",
    "    font-size: 40px;\n",
    "    min-height: 300px;\n",
    "    width: 100%;\n",
    "    background: LightGray;\n",
    "    display: grid;\n",
    "    grid-template-columns: 1fr 1fr 1fr;\n",
    "    grid-template-rows: 1fr 1fr 1fr;\n",
    "    grid-gap: 10px;\n",
    "  }\n",
    "</style>\n",
    "\n",
    "<div class=\"container\">\n",
    "  <div class=\"item1\">1</div>\n",
    "  <div class=\"item2\">2</div>\n",
    "  <div class=\"item3\">3</div>\n",
    "  <div class=\"item4\">4</div>\n",
    "  <div class=\"item5\">5</div>\n",
    "</div>\n",
    "\n",
    "```"
   ]
  },
  {
   "cell_type": "code",
   "execution_count": 13,
   "metadata": {},
   "outputs": [
    {
     "data": {
      "text/html": [
       "\n",
       "        <iframe\n",
       "            width=\"100%\"\n",
       "            height=\"250\"\n",
       "            src=\"./source-solution/07-css-grid/009-align-an-item-horizontally-using-justify-self.html\"\n",
       "            frameborder=\"0\"\n",
       "            allowfullscreen\n",
       "        ></iframe>\n",
       "        "
      ],
      "text/plain": [
       "<IPython.lib.display.IFrame at 0x7f2a441430f0>"
      ]
     },
     "execution_count": 13,
     "metadata": {},
     "output_type": "execute_result"
    }
   ],
   "source": [
    "IFrame('./source-solution/07-css-grid/009-align-an-item-horizontally-using-justify-self.html', '100%', 250)"
   ]
  },
  {
   "cell_type": "markdown",
   "metadata": {},
   "source": [
    "### Align an Item Vertically using align-self"
   ]
  },
  {
   "cell_type": "markdown",
   "metadata": {},
   "source": [
    "Just as you can align an item horizontally, there's a way to align an item vertically as well. To do this, you use the `align-self` property on an item. This property accepts all of the same values as `justify-self` from the last challenge.\n",
    "\n",
    "---\n",
    "Align the item with the class `item3` vertically at the `end`."
   ]
  },
  {
   "cell_type": "markdown",
   "metadata": {},
   "source": [
    "```HTML\n",
    "<style>\n",
    "  .item1{background:LightSkyBlue;}\n",
    "  .item2{background:LightSalmon;}\n",
    "\n",
    "  .item3 {\n",
    "    background: PaleTurquoise;\n",
    "    /* add your code below this line */\n",
    "    align-self: end;\n",
    "    /* add your code above this line */\n",
    "  }\n",
    "\n",
    "  .item4{background:LightPink;}\n",
    "  .item5{background:PaleGreen;}\n",
    "\n",
    "  .container {\n",
    "    font-size: 40px;\n",
    "    min-height: 300px;\n",
    "    width: 100%;\n",
    "    background: LightGray;\n",
    "    display: grid;\n",
    "    grid-template-columns: 1fr 1fr 1fr;\n",
    "    grid-template-rows: 1fr 1fr 1fr;\n",
    "    grid-gap: 10px;\n",
    "  }\n",
    "</style>\n",
    "\n",
    "<div class=\"container\">\n",
    "  <div class=\"item1\">1</div>\n",
    "  <div class=\"item2\">2</div>\n",
    "  <div class=\"item3\">3</div>\n",
    "  <div class=\"item4\">4</div>\n",
    "  <div class=\"item5\">5</div>\n",
    "</div>\n",
    "```"
   ]
  },
  {
   "cell_type": "code",
   "execution_count": 14,
   "metadata": {},
   "outputs": [
    {
     "data": {
      "text/html": [
       "\n",
       "        <iframe\n",
       "            width=\"100%\"\n",
       "            height=\"250\"\n",
       "            src=\"./source-solution/07-css-grid/010-align-an-item-vertically-using-align-self.html\"\n",
       "            frameborder=\"0\"\n",
       "            allowfullscreen\n",
       "        ></iframe>\n",
       "        "
      ],
      "text/plain": [
       "<IPython.lib.display.IFrame at 0x7f2a441bb588>"
      ]
     },
     "execution_count": 14,
     "metadata": {},
     "output_type": "execute_result"
    }
   ],
   "source": [
    "IFrame('./source-solution/07-css-grid/010-align-an-item-vertically-using-align-self.html', '100%', 250)"
   ]
  },
  {
   "cell_type": "markdown",
   "metadata": {},
   "source": [
    "### Align All Items Horizontally using justify-items"
   ]
  },
  {
   "cell_type": "markdown",
   "metadata": {},
   "source": [
    "Sometimes you want all the items in your CSS Grid to share the same alignment. You can use the previously learned properties and align them individually, or you can align them all at once horizontally by using `justify-items` on your grid container. This property can accept all the same values you learned about in the previous two challenges, the difference being that it will move all the items in our grid to the desired alignment.\n",
    "\n",
    "---\n",
    "Use this property to center all our items horizontally."
   ]
  },
  {
   "cell_type": "markdown",
   "metadata": {},
   "source": [
    "```HTML\n",
    "<style>\n",
    "  .item1{background:LightSkyBlue;}\n",
    "  .item2{background:LightSalmon;}\n",
    "  .item3{background:PaleTurquoise;}\n",
    "  .item4{background:LightPink;}\n",
    "  .item5{background:PaleGreen;}\n",
    "\n",
    "  .container {\n",
    "    font-size: 40px;\n",
    "    min-height: 300px;\n",
    "    width: 100%;\n",
    "    background: LightGray;\n",
    "    display: grid;\n",
    "    grid-template-columns: 1fr 1fr 1fr;\n",
    "    grid-template-rows: 1fr 1fr 1fr;\n",
    "    grid-gap: 10px;\n",
    "    /* add your code below this line */\n",
    "    justify-items: center;\n",
    "    /* add your code above this line */\n",
    "  }\n",
    "</style>\n",
    "\n",
    "<div class=\"container\">\n",
    "  <div class=\"item1\">1</div>\n",
    "  <div class=\"item2\">2</div>\n",
    "  <div class=\"item3\">3</div>\n",
    "  <div class=\"item4\">4</div>\n",
    "  <div class=\"item5\">5</div>\n",
    "</div>\n",
    "\n",
    "```"
   ]
  },
  {
   "cell_type": "code",
   "execution_count": 15,
   "metadata": {},
   "outputs": [
    {
     "data": {
      "text/html": [
       "\n",
       "        <iframe\n",
       "            width=\"100%\"\n",
       "            height=\"250\"\n",
       "            src=\"./source-solution/07-css-grid/011-align-all-items-horizontally-using-justify-items.html\"\n",
       "            frameborder=\"0\"\n",
       "            allowfullscreen\n",
       "        ></iframe>\n",
       "        "
      ],
      "text/plain": [
       "<IPython.lib.display.IFrame at 0x7f2a441432b0>"
      ]
     },
     "execution_count": 15,
     "metadata": {},
     "output_type": "execute_result"
    }
   ],
   "source": [
    "IFrame('./source-solution/07-css-grid/011-align-all-items-horizontally-using-justify-items.html', '100%', 250)"
   ]
  },
  {
   "cell_type": "markdown",
   "metadata": {},
   "source": [
    "### Align All Items Vertically using align-items"
   ]
  },
  {
   "cell_type": "markdown",
   "metadata": {},
   "source": [
    "Using the `align-items` property on a grid container will set the vertical alignment for all the items in our grid.\n",
    "\n",
    "---\n",
    "Use it now to move all the items to the end of each cell."
   ]
  },
  {
   "cell_type": "markdown",
   "metadata": {},
   "source": [
    "```HTML\n",
    "<style>\n",
    "  .item1{background:LightSkyBlue;}\n",
    "  .item2{background:LightSalmon;}\n",
    "  .item3{background:PaleTurquoise;}\n",
    "  .item4{background:LightPink;}\n",
    "  .item5{background:PaleGreen;}\n",
    "\n",
    "  .container {\n",
    "    font-size: 40px;\n",
    "    min-height: 300px;\n",
    "    width: 100%;\n",
    "    background: LightGray;\n",
    "    display: grid;\n",
    "    grid-template-columns: 1fr 1fr 1fr;\n",
    "    grid-template-rows: 1fr 1fr 1fr;\n",
    "    grid-gap: 10px;\n",
    "    /* add your code below this line */\n",
    "    align-items: end;\n",
    "    /* add your code above this line */\n",
    "  }\n",
    "</style>\n",
    "\n",
    "<div class=\"container\">\n",
    "  <div class=\"item1\">1</div>\n",
    "  <div class=\"item2\">2</div>\n",
    "  <div class=\"item3\">3</div>\n",
    "  <div class=\"item4\">4</div>\n",
    "  <div class=\"item5\">5</div>\n",
    "</div>\n",
    "\n",
    "```"
   ]
  },
  {
   "cell_type": "code",
   "execution_count": 16,
   "metadata": {},
   "outputs": [
    {
     "data": {
      "text/html": [
       "\n",
       "        <iframe\n",
       "            width=\"100%\"\n",
       "            height=\"250\"\n",
       "            src=\"./source-solution/07-css-grid/012-align-all-items-vertically-using-align-items.html\"\n",
       "            frameborder=\"0\"\n",
       "            allowfullscreen\n",
       "        ></iframe>\n",
       "        "
      ],
      "text/plain": [
       "<IPython.lib.display.IFrame at 0x7f2a441464a8>"
      ]
     },
     "execution_count": 16,
     "metadata": {},
     "output_type": "execute_result"
    }
   ],
   "source": [
    "IFrame('./source-solution/07-css-grid/012-align-all-items-vertically-using-align-items.html', '100%', 250)"
   ]
  },
  {
   "cell_type": "markdown",
   "metadata": {},
   "source": [
    "### Divide the Grid Into an Area Template"
   ]
  },
  {
   "cell_type": "markdown",
   "metadata": {},
   "source": [
    "You can group cells of your grid together into an area and give the area a custom name. Do this by using `grid-template-areas` on the container like this:\n",
    "\n",
    "```CSS\n",
    "\n",
    "grid-template-areas:\n",
    "  \"header header header\"\n",
    "  \"advert content content\"\n",
    "  \"footer footer footer\";\n",
    "```\n",
    "\n",
    "The code above merges the top three cells together into an area named `header`, the bottom three cells into a `footer` area, and it makes two areas in the middle row; `advert` and `content`. Note: Every word in the code represents a cell and every pair of quotation marks represent a row. In addition to custom labels, you can use a period (`.`) to designate an empty cell in the grid.\n",
    "\n",
    "---\n",
    "Place the area template so that the cell labeled `advert` becomes an empty cell."
   ]
  },
  {
   "cell_type": "markdown",
   "metadata": {},
   "source": [
    "```HTML\n",
    "<style>\n",
    "  .item1{background:LightSkyBlue;}\n",
    "  .item2{background:LightSalmon;}\n",
    "  .item3{background:PaleTurquoise;}\n",
    "  .item4{background:LightPink;}\n",
    "  .item5{background:PaleGreen;}\n",
    "\n",
    "  .container {\n",
    "    font-size: 40px;\n",
    "    min-height: 300px;\n",
    "    width: 100%;\n",
    "    background: LightGray;\n",
    "    display: grid;\n",
    "    grid-template-columns: 1fr 1fr 1fr;\n",
    "    grid-template-rows: 1fr 1fr 1fr;\n",
    "    grid-gap: 10px;\n",
    "    /* change code below this line */    \n",
    "    grid-template-areas:\n",
    "      \n",
    "      \"header header header\"\n",
    "      \". content content\"\n",
    "      \"footer footer footer\";\n",
    "    /* change code above this line */\n",
    "  }\n",
    "</style>\n",
    "\n",
    "<div class=\"container\">\n",
    "  <div class=\"item1\">1</div>\n",
    "  <div class=\"item2\">2</div>\n",
    "  <div class=\"item3\">3</div>\n",
    "  <div class=\"item4\">4</div>\n",
    "  <div class=\"item5\">5</div>\n",
    "</div>\n",
    "\n",
    "```"
   ]
  },
  {
   "cell_type": "code",
   "execution_count": 18,
   "metadata": {},
   "outputs": [
    {
     "data": {
      "text/html": [
       "\n",
       "        <iframe\n",
       "            width=\"100%\"\n",
       "            height=\"250\"\n",
       "            src=\"./source-solution/07-css-grid/013-divide-the-grid-into-an-area-template.html\"\n",
       "            frameborder=\"0\"\n",
       "            allowfullscreen\n",
       "        ></iframe>\n",
       "        "
      ],
      "text/plain": [
       "<IPython.lib.display.IFrame at 0x7f2a44146198>"
      ]
     },
     "execution_count": 18,
     "metadata": {},
     "output_type": "execute_result"
    }
   ],
   "source": [
    "IFrame('./source-solution/07-css-grid/013-divide-the-grid-into-an-area-template.html', '100%', 250)"
   ]
  },
  {
   "cell_type": "markdown",
   "metadata": {},
   "source": [
    "### Place Items in Grid Areas Using the grid-area Property"
   ]
  },
  {
   "cell_type": "markdown",
   "metadata": {},
   "source": [
    "After creating an area's template for your grid container, as shown in the previous challenge, you can place an item in your custom area by referencing the name you gave it. To do this, you use the `grid-area` property on an item like this:\n",
    "\n",
    "```CSS\n",
    ".item1 {\n",
    "  grid-area: header;\n",
    "}\n",
    "```\n",
    "\n",
    "This lets the grid know that you want the `item1` class to go in the area named `header`. In this case, the item will use the entire top row because that whole row is named as the header area.\n",
    "\n",
    "---\n",
    "Place an element with the `item5` class in the `footer` area using the `grid-area` property."
   ]
  },
  {
   "cell_type": "markdown",
   "metadata": {},
   "source": [
    "```HTML\n",
    "<style>\n",
    "  .item1{background:LightSkyBlue;}\n",
    "  .item2{background:LightSalmon;}\n",
    "  .item3{background:PaleTurquoise;}\n",
    "  .item4{background:LightPink;}\n",
    "\n",
    "  .item5 {\n",
    "    background: PaleGreen;\n",
    "    /* add your code below this line */\n",
    "    grid-area: footer;\n",
    "    /* add your code above this line */\n",
    "  }\n",
    "\n",
    "  .container {\n",
    "    font-size: 40px;\n",
    "    min-height: 300px;\n",
    "    width: 100%;\n",
    "    background: LightGray;\n",
    "    display: grid;\n",
    "    grid-template-columns: 1fr 1fr 1fr;\n",
    "    grid-template-rows: 1fr 1fr 1fr;\n",
    "    grid-gap: 10px;\n",
    "    grid-template-areas:\n",
    "      \"header header header\"\n",
    "      \"advert content content\"\n",
    "      \"footer footer footer\";\n",
    "  }\n",
    "</style>\n",
    "\n",
    "<div class=\"container\">\n",
    "  <div class=\"item1\">1</div>\n",
    "  <div class=\"item2\">2</div>\n",
    "  <div class=\"item3\">3</div>\n",
    "  <div class=\"item4\">4</div>\n",
    "  <div class=\"item5\">5</div>\n",
    "</div>\n",
    "\n",
    "```"
   ]
  },
  {
   "cell_type": "code",
   "execution_count": 19,
   "metadata": {},
   "outputs": [
    {
     "data": {
      "text/html": [
       "\n",
       "        <iframe\n",
       "            width=\"100%\"\n",
       "            height=\"250\"\n",
       "            src=\"./source-solution/07-css-grid/014-place-items-in-grid-areas-using-the-grid-area-property.html\"\n",
       "            frameborder=\"0\"\n",
       "            allowfullscreen\n",
       "        ></iframe>\n",
       "        "
      ],
      "text/plain": [
       "<IPython.lib.display.IFrame at 0x7f2a44143a20>"
      ]
     },
     "execution_count": 19,
     "metadata": {},
     "output_type": "execute_result"
    }
   ],
   "source": [
    "IFrame('./source-solution/07-css-grid/014-place-items-in-grid-areas-using-the-grid-area-property.html', '100%', 250)"
   ]
  },
  {
   "cell_type": "markdown",
   "metadata": {},
   "source": [
    "### Use grid-area Without Creating an Areas Template"
   ]
  },
  {
   "cell_type": "markdown",
   "metadata": {},
   "source": [
    "The `grid-area` property you learned in the last challenge can be used in another way. If your grid doesn't have an areas template to reference, you can create an area on the fly for an item to be placed like this:\n",
    "\n",
    "```CSS\n",
    "item1 { grid-area: 1/1/2/4; }\n",
    "```\n",
    "\n",
    "This is using the line numbers you learned about earlier to define where the area for this item will be. The numbers in the example above represent these values:\n",
    "\n",
    "```CSS\n",
    "grid-area: horizontal line to start at / vertical line to start at / horizontal line to end at / vertical line to end at;\n",
    "```\n",
    "\n",
    "So the item in the example will consume the rows between lines 1 and 2, and the columns between lines 1 and 4.\n",
    "\n",
    "---\n",
    "Using the `grid-area` property, place the element with `item5` class between the third and fourth horizontal lines and between the first and fourth vertical lines."
   ]
  },
  {
   "cell_type": "markdown",
   "metadata": {},
   "source": [
    "```HTML\n",
    "<style>\n",
    "  .item1{background:LightSkyBlue;}\n",
    "  .item2{background:LightSalmon;}\n",
    "  .item3{background:PaleTurquoise;}\n",
    "  .item4{background:LightPink;}\n",
    "\n",
    "  .item5 {\n",
    "    background: PaleGreen;\n",
    "    /* add your code below this line */\n",
    "    grid-area: 3/1/4/4;\n",
    "\n",
    "    /* add your code above this line */\n",
    "  }\n",
    "\n",
    "  .container {\n",
    "    font-size: 40px;\n",
    "    min-height: 300px;\n",
    "    width: 100%;\n",
    "    background: LightGray;\n",
    "    display: grid;\n",
    "    grid-template-columns: 1fr 1fr 1fr;\n",
    "    grid-template-rows: 1fr 1fr 1fr;\n",
    "    grid-gap: 10px;\n",
    "  }\n",
    "</style>\n",
    "\n",
    "<div class=\"container\">\n",
    "  <div class=\"item1\">1</div>\n",
    "  <div class=\"item2\">2</div>\n",
    "  <div class=\"item3\">3</div>\n",
    "  <div class=\"item4\">4</div>\n",
    "  <div class=\"item5\">5</div>\n",
    "</div>\n",
    "\n",
    "```"
   ]
  },
  {
   "cell_type": "code",
   "execution_count": 20,
   "metadata": {},
   "outputs": [
    {
     "data": {
      "text/html": [
       "\n",
       "        <iframe\n",
       "            width=\"100%\"\n",
       "            height=\"250\"\n",
       "            src=\"./source-solution/07-css-grid/015-use-grid-area-without-creating-an-areas-template.html\"\n",
       "            frameborder=\"0\"\n",
       "            allowfullscreen\n",
       "        ></iframe>\n",
       "        "
      ],
      "text/plain": [
       "<IPython.lib.display.IFrame at 0x7f2a44146160>"
      ]
     },
     "execution_count": 20,
     "metadata": {},
     "output_type": "execute_result"
    }
   ],
   "source": [
    "IFrame('./source-solution/07-css-grid/015-use-grid-area-without-creating-an-areas-template.html', '100%', 250)"
   ]
  },
  {
   "cell_type": "markdown",
   "metadata": {},
   "source": [
    "### Reduce Repetition Using the repeat Function"
   ]
  },
  {
   "cell_type": "markdown",
   "metadata": {},
   "source": [
    "When you used `grid-template-columns` and `grid-template-rows` to define the structure of a grid, you entered a value for each row or column you created.\n",
    "\n",
    "Let's say you want a grid with 100 rows of the same height. It isn't very practical to insert 100 values individually. Fortunately, there's a better way - by using the `repeat` function to specify the number of times you want your column or row to be repeated, followed by a comma and the value you want to repeat.\n",
    "\n",
    "Here's an example that would create the 100 row grid, each row at 50px tall.\n",
    "\n",
    "```CSS\n",
    "grid-template-rows: repeat(100, 50px);\n",
    "```\n",
    "\n",
    "You can also repeat multiple values with the repeat function and insert the function amongst other values when defining a grid structure. Here's what that looks like:\n",
    "\n",
    "```CSS\n",
    "grid-template-columns: repeat(2, 1fr 50px) 20px;\n",
    "```\n",
    "\n",
    "This translates to:\n",
    "\n",
    "```CSS\n",
    "grid-template-columns: 1fr 50px 1fr 50px 20px;\n",
    "```\n",
    "\n",
    "Note: The `1fr 50px` is repeated twice followed by 20px.\n",
    "\n",
    "---\n",
    "Use `repeat` to remove repetition from the `grid-template-columns` property."
   ]
  },
  {
   "cell_type": "markdown",
   "metadata": {},
   "source": [
    "```HTML\n",
    "<style>\n",
    "  .item1{background:LightSkyBlue;}\n",
    "  .item2{background:LightSalmon;}\n",
    "  .item3{background:PaleTurquoise;}\n",
    "  .item4{background:LightPink;}\n",
    "  .item5{background:PaleGreen;}\n",
    "\n",
    "  .container {\n",
    "    font-size: 40px;\n",
    "    min-height: 300px;\n",
    "    width: 100%;\n",
    "    background: LightGray;\n",
    "    display: grid;\n",
    "    /* change the code below this line */\n",
    "\n",
    "    grid-template-columns: repeat(3, 1fr);\n",
    "\n",
    "    /* change the code above this line */\n",
    "    grid-template-rows: 1fr 1fr 1fr;\n",
    "    grid-gap: 10px;\n",
    "  }\n",
    "</style>\n",
    "\n",
    "<div class=\"container\">\n",
    "  <div class=\"item1\">1</div>\n",
    "  <div class=\"item2\">2</div>\n",
    "  <div class=\"item3\">3</div>\n",
    "  <div class=\"item4\">4</div>\n",
    "  <div class=\"item5\">5</div>\n",
    "</div>\n",
    "\n",
    "```"
   ]
  },
  {
   "cell_type": "code",
   "execution_count": 21,
   "metadata": {},
   "outputs": [
    {
     "data": {
      "text/html": [
       "\n",
       "        <iframe\n",
       "            width=\"100%\"\n",
       "            height=\"250\"\n",
       "            src=\"./source-solution/07-css-grid/016-reduce-repetition-using-the-repeat-function.html\"\n",
       "            frameborder=\"0\"\n",
       "            allowfullscreen\n",
       "        ></iframe>\n",
       "        "
      ],
      "text/plain": [
       "<IPython.lib.display.IFrame at 0x7f2a44143eb8>"
      ]
     },
     "execution_count": 21,
     "metadata": {},
     "output_type": "execute_result"
    }
   ],
   "source": [
    "IFrame('./source-solution/07-css-grid/016-reduce-repetition-using-the-repeat-function.html', '100%', 250)"
   ]
  },
  {
   "cell_type": "markdown",
   "metadata": {},
   "source": [
    "### Limit Item Size Using the minmax Function"
   ]
  },
  {
   "cell_type": "markdown",
   "metadata": {},
   "source": [
    "There's another built-in function to use with `grid-template-columns` and `grid-template-rows` called `minmax`. It's used to limit the size of items when the grid container changes size. To do this you need to specify the acceptable size range for your item. Here is an example:\n",
    "\n",
    "```CSS\n",
    "grid-template-columns: 100px minmax(50px, 200px);\n",
    "```\n",
    "\n",
    "In the code above, `grid-template-columns` is set to create two columns; the first is 100px wide, and the second has the minimum width of 50px and the maximum width of 200px.\n",
    "\n",
    "---\n",
    "Using the `minmax` function, replace the `1fr` in the `repeat` function with a column size that has the minimum width of `90px` and the maximum width of `1fr`, and resize the preview panel to see the effect."
   ]
  },
  {
   "cell_type": "markdown",
   "metadata": {},
   "source": [
    "```HTML\n",
    "<style>\n",
    "  .item1{background:LightSkyBlue;}\n",
    "  .item2{background:LightSalmon;}\n",
    "  .item3{background:PaleTurquoise;}\n",
    "  .item4{background:LightPink;}\n",
    "  .item5{background:PaleGreen;}\n",
    "\n",
    "  .container {\n",
    "    font-size: 40px;\n",
    "    min-height: 300px;\n",
    "    width: 100%;\n",
    "    background: LightGray;\n",
    "    display: grid;\n",
    "    /* change the code below this line */\n",
    "\n",
    "    grid-template-columns: repeat(3, minmax(90px, 1fr));\n",
    "\n",
    "    /* change the code above this line */\n",
    "    grid-template-rows: 1fr 1fr 1fr;\n",
    "    grid-gap: 10px;\n",
    "  }\n",
    "</style>\n",
    "\n",
    "<div class=\"container\">\n",
    "  <div class=\"item1\">1</div>\n",
    "  <div class=\"item2\">2</div>\n",
    "  <div class=\"item3\">3</div>\n",
    "  <div class=\"item4\">4</div>\n",
    "  <div class=\"item5\">5</div>\n",
    "</div>\n",
    "\n",
    "```"
   ]
  },
  {
   "cell_type": "code",
   "execution_count": 22,
   "metadata": {},
   "outputs": [
    {
     "data": {
      "text/html": [
       "\n",
       "        <iframe\n",
       "            width=\"100%\"\n",
       "            height=\"250\"\n",
       "            src=\"./source-solution/07-css-grid/017-limit-item-size-using-the-minmax-function.html\"\n",
       "            frameborder=\"0\"\n",
       "            allowfullscreen\n",
       "        ></iframe>\n",
       "        "
      ],
      "text/plain": [
       "<IPython.lib.display.IFrame at 0x7f2a441b40f0>"
      ]
     },
     "execution_count": 22,
     "metadata": {},
     "output_type": "execute_result"
    }
   ],
   "source": [
    "IFrame('./source-solution/07-css-grid/017-limit-item-size-using-the-minmax-function.html', '100%', 250)"
   ]
  },
  {
   "cell_type": "markdown",
   "metadata": {},
   "source": [
    "### Create Flexible Layouts Using auto-fill"
   ]
  },
  {
   "cell_type": "markdown",
   "metadata": {},
   "source": [
    "The repeat function comes with an option called auto-fill. This allows you to automatically insert as many rows or columns of your desired size as possible depending on the size of the container. You can create flexible layouts when combining `auto-fill` with `minmax`, like this:\n",
    "\n",
    "```CSS\n",
    "repeat(auto-fill, minmax(60px, 1fr));\n",
    "```\n",
    "\n",
    "When the container changes size, this setup keeps inserting 60px columns and stretching them until it can insert another one. Note: If your container can't fit all your items on one row, it will move them down to a new one.\n",
    "\n",
    "---\n",
    "In the first grid, use `auto-fill` with `repeat` to fill the grid with columns that have a minimum width of `60px` and maximum of `1fr`. Then resize the preview to see auto-fill in action."
   ]
  },
  {
   "cell_type": "markdown",
   "metadata": {},
   "source": [
    "```HTML\n",
    "<style>\n",
    "  .item1{background:LightSkyBlue;}\n",
    "  .item2{background:LightSalmon;}\n",
    "  .item3{background:PaleTurquoise;}\n",
    "  .item4{background:LightPink;}\n",
    "  .item5{background:PaleGreen;}\n",
    "\n",
    "  .container {\n",
    "    font-size: 40px;\n",
    "    min-height: 100px;\n",
    "    width: 100%;\n",
    "    background: LightGray;\n",
    "    display: grid;\n",
    "    /* change the code below this line */\n",
    "\n",
    "    grid-template-columns: repeat(auto-fill, minmax(60px, 1fr));\n",
    "\n",
    "    /* change the code above this line */\n",
    "    grid-template-rows: 1fr 1fr 1fr;\n",
    "    grid-gap: 10px;\n",
    "  }\n",
    "\n",
    "  .container2 {\n",
    "    font-size: 40px;\n",
    "    min-height: 100px;\n",
    "    width: 100%;\n",
    "    background: Silver;\n",
    "    display: grid;\n",
    "    grid-template-columns: repeat(3, minmax(60px, 1fr));\n",
    "    grid-template-rows: 1fr 1fr 1fr;\n",
    "    grid-gap: 10px;\n",
    "  }\n",
    "</style>\n",
    "<div class=\"container\">\n",
    "  <div class=\"item1\">1</div>\n",
    "  <div class=\"item2\">2</div>\n",
    "  <div class=\"item3\">3</div>\n",
    "  <div class=\"item4\">4</div>\n",
    "  <div class=\"item5\">5</div>\n",
    "</div>\n",
    "<div class=\"container2\">\n",
    "  <div class=\"item1\">1</div>\n",
    "  <div class=\"item2\">2</div>\n",
    "  <div class=\"item3\">3</div>\n",
    "  <div class=\"item4\">4</div>\n",
    "  <div class=\"item5\">5</div>\n",
    "</div>\n",
    "\n",
    "\n",
    "```"
   ]
  },
  {
   "cell_type": "code",
   "execution_count": 23,
   "metadata": {},
   "outputs": [
    {
     "data": {
      "text/html": [
       "\n",
       "        <iframe\n",
       "            width=\"100%\"\n",
       "            height=\"250\"\n",
       "            src=\"./source-solution/07-css-grid/018-create-flexible-layouts-using-auto-fill.html\"\n",
       "            frameborder=\"0\"\n",
       "            allowfullscreen\n",
       "        ></iframe>\n",
       "        "
      ],
      "text/plain": [
       "<IPython.lib.display.IFrame at 0x7f2a441ab6d8>"
      ]
     },
     "execution_count": 23,
     "metadata": {},
     "output_type": "execute_result"
    }
   ],
   "source": [
    "IFrame('./source-solution/07-css-grid/018-create-flexible-layouts-using-auto-fill.html', '100%', 250)"
   ]
  },
  {
   "cell_type": "markdown",
   "metadata": {},
   "source": [
    "### Create Flexible Layouts Using auto-fit"
   ]
  },
  {
   "cell_type": "markdown",
   "metadata": {},
   "source": [
    "`auto-fit` works almost identically to `auto-fill`. The only difference is that when the container's size exceeds the size of all the items combined, `auto-fill` keeps inserting empty rows or columns and pushes your items to the side, while `auto-fit` collapses those empty rows or columns and stretches your items to fit the size of the container.\n",
    "\n",
    "Note: If your container can't fit all your items on one row, it will move them down to a new one.\n",
    "\n",
    "---\n",
    "In the second grid, use `auto-fit` with `repeat` to fill the grid with columns that have a minimum width of `60px` and maximum of `1fr`. Then resize the preview to see the difference."
   ]
  },
  {
   "cell_type": "markdown",
   "metadata": {},
   "source": [
    "```HTML\n",
    "<style>\n",
    "  .item1{background:LightSkyBlue;}\n",
    "  .item2{background:LightSalmon;}\n",
    "  .item3{background:PaleTurquoise;}\n",
    "  .item4{background:LightPink;}\n",
    "  .item5{background:PaleGreen;}\n",
    "\n",
    "  .container {\n",
    "    font-size: 40px;\n",
    "    min-height: 100px;\n",
    "    width: 100%;\n",
    "    background: LightGray;\n",
    "    display: grid;\n",
    "    grid-template-columns: repeat(auto-fill, minmax(60px, 1fr));\n",
    "    grid-template-rows: 1fr 1fr 1fr;\n",
    "    grid-gap: 10px;\n",
    "  }\n",
    "\n",
    "  .container2 {\n",
    "    font-size: 40px;\n",
    "    min-height: 100px;\n",
    "    width: 100%;\n",
    "    background: Silver;\n",
    "    display: grid;\n",
    "    /* change the code below this line */\n",
    "\n",
    "    grid-template-columns: repeat(auto-fit, minmax(60px, 1fr));\n",
    "\n",
    "    /* change the code above this line */\n",
    "    grid-template-rows: 1fr 1fr 1fr;\n",
    "    grid-gap: 10px;\n",
    "  }\n",
    "</style>\n",
    "\n",
    "<div class=\"container\">\n",
    "  <div class=\"item1\">1</div>\n",
    "  <div class=\"item2\">2</div>\n",
    "  <div class=\"item3\">3</div>\n",
    "  <div class=\"item4\">4</div>\n",
    "  <div class=\"item5\">5</div>\n",
    "</div>\n",
    "<div class=\"container2\">\n",
    "  <div class=\"item1\">1</div>\n",
    "  <div class=\"item2\">2</div>\n",
    "  <div class=\"item3\">3</div>\n",
    "  <div class=\"item4\">4</div>\n",
    "  <div class=\"item5\">5</div>\n",
    "</div>\n",
    "\n",
    "```"
   ]
  },
  {
   "cell_type": "code",
   "execution_count": 24,
   "metadata": {},
   "outputs": [
    {
     "data": {
      "text/html": [
       "\n",
       "        <iframe\n",
       "            width=\"100%\"\n",
       "            height=\"250\"\n",
       "            src=\"./source-solution/07-css-grid/019-create-flexible-layouts-using-auto-fit.html\"\n",
       "            frameborder=\"0\"\n",
       "            allowfullscreen\n",
       "        ></iframe>\n",
       "        "
      ],
      "text/plain": [
       "<IPython.lib.display.IFrame at 0x7f2a441465f8>"
      ]
     },
     "execution_count": 24,
     "metadata": {},
     "output_type": "execute_result"
    }
   ],
   "source": [
    "IFrame('./source-solution/07-css-grid/019-create-flexible-layouts-using-auto-fit.html', '100%', 250)"
   ]
  },
  {
   "cell_type": "markdown",
   "metadata": {},
   "source": [
    "### Use Media Queries to Create Responsive Layouts"
   ]
  },
  {
   "cell_type": "markdown",
   "metadata": {},
   "source": [
    "CSS Grid can be an easy way to make your site more responsive by using media queries to rearrange grid areas, change dimensions of a grid, and rearrange the placement of items.\n",
    "\n",
    "In the preview, when the viewport width is 300px or more, the number of columns changes from 1 to 2. The advertisement area then occupies the left column completely.\n",
    "\n",
    "---\n",
    "When the viewport width is `400px` or more, make the header area occupy the top row completely and the footer area occupy the bottom row completely."
   ]
  },
  {
   "cell_type": "markdown",
   "metadata": {},
   "source": [
    "```HTML\n",
    "<style>\n",
    "  .item1 {\n",
    "    background: LightSkyBlue;\n",
    "    grid-area: header;\n",
    "  }\n",
    "\n",
    "  .item2 {\n",
    "    background: LightSalmon;\n",
    "    grid-area: advert;\n",
    "  }\n",
    "\n",
    "  .item3 {\n",
    "    background: PaleTurquoise;\n",
    "    grid-area: content;\n",
    "  }\n",
    "\n",
    "  .item4 {\n",
    "    background: lightpink;\n",
    "    grid-area: footer;\n",
    "  }\n",
    "\n",
    "  .container {\n",
    "    font-size: 1.5em;\n",
    "    min-height: 300px;\n",
    "    width: 100%;\n",
    "    background: LightGray;\n",
    "    display: grid;\n",
    "    grid-template-columns: 1fr;\n",
    "    grid-template-rows: 50px auto 1fr auto;\n",
    "    grid-gap: 10px;\n",
    "    grid-template-areas:\n",
    "      \"header\"\n",
    "      \"advert\"\n",
    "      \"content\"\n",
    "      \"footer\";\n",
    "  }\n",
    "\n",
    "  @media (min-width: 300px){\n",
    "    .container{\n",
    "      grid-template-columns: auto 1fr;\n",
    "      grid-template-rows: auto 1fr auto;\n",
    "      grid-template-areas:\n",
    "        \"advert header\"\n",
    "        \"advert content\"\n",
    "        \"advert footer\";\n",
    "    }\n",
    "  }\n",
    "\n",
    "  @media (min-width: 400px){\n",
    "    .container{\n",
    "      /* change the code below this line */\n",
    "      grid-template-columns: repeat(2, 1fr);\n",
    "      grid-template-rows: 1fr 1fr 1fr;\n",
    "      grid-template-areas:\n",
    "        \"header header\"\n",
    "        \"advert content\"\n",
    "        \"footer footer\";\n",
    "    /* change the code above this line */\n",
    "    }\n",
    "  }\n",
    "</style>\n",
    "\n",
    "<div class=\"container\">\n",
    "  <div class=\"item1\">header</div>\n",
    "  <div class=\"item2\">advert</div>\n",
    "  <div class=\"item3\">content</div>\n",
    "  <div class=\"item4\">footer</div>\n",
    "</div>\n",
    "\n",
    "```"
   ]
  },
  {
   "cell_type": "code",
   "execution_count": 25,
   "metadata": {},
   "outputs": [
    {
     "data": {
      "text/html": [
       "\n",
       "        <iframe\n",
       "            width=\"100%\"\n",
       "            height=\"250\"\n",
       "            src=\"./source-solution/07-css-grid/020-use-media-queries-to-create-responsive-layouts.html\"\n",
       "            frameborder=\"0\"\n",
       "            allowfullscreen\n",
       "        ></iframe>\n",
       "        "
      ],
      "text/plain": [
       "<IPython.lib.display.IFrame at 0x7f2a441bbb00>"
      ]
     },
     "execution_count": 25,
     "metadata": {},
     "output_type": "execute_result"
    }
   ],
   "source": [
    "IFrame('./source-solution/07-css-grid/020-use-media-queries-to-create-responsive-layouts.html', '100%', 250)"
   ]
  },
  {
   "cell_type": "markdown",
   "metadata": {},
   "source": [
    "### Create Grids within Grids"
   ]
  },
  {
   "cell_type": "markdown",
   "metadata": {},
   "source": [
    "Turning an element into a grid only affects the behavior of its direct descendants. So by turning a direct descendant into a grid, you have a grid within a grid.\n",
    "\n",
    "For example, by setting the `display` and `grid-template-columns` properties of the element with the `item3` class, you create a grid within your grid.\n",
    "\n",
    "---\n",
    "Turn the element with the `item3` class into a grid with two columns with a width of `auto` and `1fr` using `display` and `grid-template-columns`."
   ]
  },
  {
   "cell_type": "markdown",
   "metadata": {},
   "source": [
    "```HTML\n",
    "<style>\n",
    "  .container {\n",
    "    font-size: 1.5em;\n",
    "    min-height: 300px;\n",
    "    width: 100%;\n",
    "    background: LightGray;\n",
    "    display: grid;\n",
    "    grid-template-columns: auto 1fr;\n",
    "    grid-template-rows: auto 1fr auto;\n",
    "    grid-gap: 10px;\n",
    "    grid-template-areas:\n",
    "      \"advert header\"\n",
    "      \"advert content\"\n",
    "      \"advert footer\";\n",
    "  }\n",
    "  .item1 {\n",
    "    background: LightSkyBlue;\n",
    "    grid-area: header;\n",
    "  }\n",
    "\n",
    "  .item2 {\n",
    "    background: LightSalmon;\n",
    "    grid-area: advert;\n",
    "  }\n",
    "\n",
    "  .item3 {\n",
    "    background: PaleTurquoise;\n",
    "    grid-area: content;\n",
    "    /* enter your code below this line */\n",
    "    display: grid;\n",
    "    grid-template-columns: auto 1fr;  \n",
    "    /* enter your code above this line */\n",
    "  }\n",
    "\n",
    "  .item4 {\n",
    "    background: lightpink;\n",
    "    grid-area: footer;\n",
    "  }\n",
    "\n",
    "  .itemOne {\n",
    "    background: PaleGreen;\n",
    "  }\n",
    "\n",
    "  .itemTwo {\n",
    "    background: BlanchedAlmond;\n",
    "  }\n",
    "\n",
    "</style>\n",
    "\n",
    "<div class=\"container\">\n",
    "  <div class=\"item1\">header</div>\n",
    "  <div class=\"item2\">advert</div>\n",
    "  <div class=\"item3\">\n",
    "    <div class=\"itemOne\">paragraph1</div>\n",
    "    <div class=\"itemTwo\">paragraph2</div>\n",
    "  </div>\n",
    "  <div class=\"item4\">footer</div>\n",
    "</div>\n",
    "\n",
    "```"
   ]
  },
  {
   "cell_type": "code",
   "execution_count": 26,
   "metadata": {},
   "outputs": [
    {
     "data": {
      "text/html": [
       "\n",
       "        <iframe\n",
       "            width=\"100%\"\n",
       "            height=\"250\"\n",
       "            src=\"./source-solution/07-css-grid/021-create-grids-within-grids.html\"\n",
       "            frameborder=\"0\"\n",
       "            allowfullscreen\n",
       "        ></iframe>\n",
       "        "
      ],
      "text/plain": [
       "<IPython.lib.display.IFrame at 0x7f2a441b4c18>"
      ]
     },
     "execution_count": 26,
     "metadata": {},
     "output_type": "execute_result"
    }
   ],
   "source": [
    "IFrame('./source-solution/07-css-grid/021-create-grids-within-grids.html', '100%', 250)"
   ]
  },
  {
   "cell_type": "code",
   "execution_count": null,
   "metadata": {},
   "outputs": [],
   "source": []
  }
 ],
 "metadata": {
  "kernelspec": {
   "display_name": "Python 3",
   "language": "python",
   "name": "python3"
  },
  "language_info": {
   "codemirror_mode": {
    "name": "ipython",
    "version": 3
   },
   "file_extension": ".py",
   "mimetype": "text/x-python",
   "name": "python",
   "nbconvert_exporter": "python",
   "pygments_lexer": "ipython3",
   "version": "3.7.1"
  },
  "toc": {
   "base_numbering": 1,
   "nav_menu": {},
   "number_sections": true,
   "sideBar": true,
   "skip_h1_title": false,
   "title_cell": "Table of Contents",
   "title_sidebar": "Contents",
   "toc_cell": false,
   "toc_position": {
    "height": "752px",
    "left": "28px",
    "top": "54px",
    "width": "235.594px"
   },
   "toc_section_display": true,
   "toc_window_display": false
  }
 },
 "nbformat": 4,
 "nbformat_minor": 2
}
